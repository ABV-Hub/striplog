{
 "cells": [
  {
   "cell_type": "markdown",
   "metadata": {
    "internals": {
     "slide_type": "subslide"
    },
    "slideshow": {
     "slide_type": "slide"
    }
   },
   "source": [
    "# Display objects"
   ]
  },
  {
   "cell_type": "markdown",
   "metadata": {
    "internals": {},
    "slideshow": {
     "slide_type": "-"
    }
   },
   "source": [
    "A `striplog` depends on a hierarchy of objects. This notebook shows the objects related to display:\n",
    "\n",
    "- [Decor](#Decor): One element from a legend — describes how to display a Rock.\n",
    "- [Legend](#Legend): A set of Decors — describes how to display a set of Rocks or a Striplog."
   ]
  },
  {
   "cell_type": "markdown",
   "metadata": {
    "internals": {},
    "slideshow": {
     "slide_type": "-"
    }
   },
   "source": [
    "<hr />"
   ]
  },
  {
   "cell_type": "markdown",
   "metadata": {
    "internals": {},
    "slideshow": {
     "slide_type": "-"
    }
   },
   "source": [
    "## Decor"
   ]
  },
  {
   "cell_type": "code",
   "execution_count": 1,
   "metadata": {
    "collapsed": false,
    "internals": {},
    "slideshow": {
     "slide_type": "-"
    }
   },
   "outputs": [],
   "source": [
    "from striplog import Decor"
   ]
  },
  {
   "cell_type": "markdown",
   "metadata": {
    "internals": {},
    "slideshow": {
     "slide_type": "-"
    }
   },
   "source": [
    "A Decor attaches a display style to a Rock. "
   ]
  },
  {
   "cell_type": "code",
   "execution_count": 2,
   "metadata": {
    "collapsed": false,
    "internals": {},
    "slideshow": {
     "slide_type": "-"
    }
   },
   "outputs": [
    {
     "name": "stdout",
     "output_type": "stream",
     "text": [
      "\n",
      "    A single display style. A Decor describes how to display a given set\n",
      "    of Component properties.\n",
      "\n",
      "    In general, you will not usually use a Decor on its own. Instead, you\n",
      "    will want to use a Legend, which is just a list of Decors, and leave\n",
      "    the Decors to the Legend.\n",
      "\n",
      "    Args:\n",
      "      params (dict): The parameters you want in the Decor. There must be a\n",
      "        Component to attach the decoration to, and at least 1 other attribute.\n",
      "        It's completely up to you, but you probably want at least a colour\n",
      "        (hex names like #AAA or #d3d3d3, or matplotlib's English-language\n",
      "        names listed at http://ageo.co/modelrcolour are acceptable.\n",
      "\n",
      "        The only other parameter the class recognizes for now is 'width',\n",
      "        which is the width of the striplog element.\n",
      "\n",
      "    Example:\n",
      "      my_rock = Component({ ... })\n",
      "      d = {'component': my_rock, 'colour': 'red'}\n",
      "      my_decor = Decor(d)\n",
      "    \n"
     ]
    }
   ],
   "source": [
    "print(Decor.__doc__)"
   ]
  },
  {
   "cell_type": "markdown",
   "metadata": {
    "internals": {},
    "slideshow": {
     "slide_type": "-"
    }
   },
   "source": [
    "We are going to need a `Component` to make a `Decor`."
   ]
  },
  {
   "cell_type": "code",
   "execution_count": 3,
   "metadata": {
    "collapsed": false,
    "internals": {},
    "slideshow": {
     "slide_type": "-"
    }
   },
   "outputs": [
    {
     "data": {
      "text/html": [
       "<table><tr><td><strong>grainsize</strong></td><td>vf-f</td></tr><tr><td><strong>lithology</strong></td><td>sand</td></tr><tr><td><strong>colour</strong></td><td>grey</td></tr><tr><td><strong>porosity</strong></td><td>0.123</td></tr></table>"
      ],
      "text/plain": [
       "Component({'grainsize': 'vf-f', 'lithology': 'sand', 'colour': 'grey', 'porosity': 0.123})"
      ]
     },
     "execution_count": 3,
     "metadata": {},
     "output_type": "execute_result"
    }
   ],
   "source": [
    "from striplog import Component\n",
    "r = {'colour': 'grey',\n",
    "     'grainsize': 'vf-f',\n",
    "     'lithology': 'sand',\n",
    "     'porosity': 0.123\n",
    "    }\n",
    "rock = Component(r)\n",
    "rock"
   ]
  },
  {
   "cell_type": "code",
   "execution_count": 4,
   "metadata": {
    "collapsed": false,
    "internals": {},
    "slideshow": {
     "slide_type": "-"
    }
   },
   "outputs": [
    {
     "data": {
      "text/html": [
       "<table><tr><td><strong>colour</strong></td><td style=\"color:#ffffff; background-color:#267022\">#267022</td></tr><tr><td><strong>component</strong></td><td style=\"color:black; background-color:white\"><table><tr><td><strong>grainsize</strong></td><td>vf-f</td></tr><tr><td><strong>lithology</strong></td><td>sand</td></tr><tr><td><strong>colour</strong></td><td>grey</td></tr><tr><td><strong>porosity</strong></td><td>0.123</td></tr></table></td></tr><tr><td><strong>hatch</strong></td><td style=\"color:black; background-color:white\">None</td></tr><tr><td><strong>width</strong></td><td style=\"color:black; background-color:white\">3.0</td></tr></table>"
      ],
      "text/plain": [
       "Decor({'_colour': '#267022', 'component': Component({'grainsize': 'vf-f', 'lithology': 'sand', 'colour': 'grey', 'porosity': 0.123}), 'hatch': None, 'width': 3.0})"
      ]
     },
     "execution_count": 4,
     "metadata": {},
     "output_type": "execute_result"
    }
   ],
   "source": [
    "d = {'color': '#267022',\n",
    "     'component': rock,\n",
    "     'width': 3}\n",
    "decor = Decor(d)\n",
    "decor"
   ]
  },
  {
   "cell_type": "code",
   "execution_count": 5,
   "metadata": {
    "collapsed": false,
    "internals": {},
    "slideshow": {
     "slide_type": "-"
    }
   },
   "outputs": [
    {
     "data": {
      "text/html": [
       "<table><tr><td><strong>grainsize</strong></td><td>vf-f</td></tr><tr><td><strong>lithology</strong></td><td>sand</td></tr><tr><td><strong>colour</strong></td><td>grey</td></tr><tr><td><strong>porosity</strong></td><td>0.123</td></tr></table>"
      ],
      "text/plain": [
       "Component({'grainsize': 'vf-f', 'lithology': 'sand', 'colour': 'grey', 'porosity': 0.123})"
      ]
     },
     "execution_count": 5,
     "metadata": {},
     "output_type": "execute_result"
    }
   ],
   "source": [
    "from striplog import Component\n",
    "r = {'colour': 'grey',\n",
    "     'grainsize': 'vf-f',\n",
    "     'lithology': 'sand',\n",
    "     'porosity': 0.123\n",
    "    }\n",
    "rock = Component(r)\n",
    "rock"
   ]
  },
  {
   "cell_type": "markdown",
   "metadata": {
    "internals": {},
    "slideshow": {
     "slide_type": "-"
    }
   },
   "source": [
    "Like `Rock`s, we instantiate `Decor`s with a `dict` of properties:"
   ]
  },
  {
   "cell_type": "code",
   "execution_count": 6,
   "metadata": {
    "collapsed": false,
    "internals": {},
    "slideshow": {
     "slide_type": "-"
    }
   },
   "outputs": [
    {
     "data": {
      "text/html": [
       "<table><tr><td><strong>colour</strong></td><td style=\"color:#ffffff; background-color:#267022\">#267022</td></tr><tr><td><strong>component</strong></td><td style=\"color:black; background-color:white\"><table><tr><td><strong>grainsize</strong></td><td>vf-f</td></tr><tr><td><strong>lithology</strong></td><td>sand</td></tr><tr><td><strong>colour</strong></td><td>grey</td></tr><tr><td><strong>porosity</strong></td><td>0.123</td></tr></table></td></tr><tr><td><strong>hatch</strong></td><td style=\"color:black; background-color:white\">None</td></tr><tr><td><strong>width</strong></td><td style=\"color:black; background-color:white\">3.0</td></tr></table>"
      ],
      "text/plain": [
       "Decor({'_colour': '#267022', 'component': Component({'grainsize': 'vf-f', 'lithology': 'sand', 'colour': 'grey', 'porosity': 0.123}), 'hatch': None, 'width': 3.0})"
      ]
     },
     "execution_count": 6,
     "metadata": {},
     "output_type": "execute_result"
    }
   ],
   "source": [
    "d = {'color': '#267022',\n",
    "     'component': rock,\n",
    "     'width': 3}\n",
    "decor = Decor(d)\n",
    "decor"
   ]
  },
  {
   "cell_type": "markdown",
   "metadata": {
    "internals": {},
    "slideshow": {
     "slide_type": "-"
    }
   },
   "source": [
    "Or instantiate with keyword parameters:"
   ]
  },
  {
   "cell_type": "code",
   "execution_count": 7,
   "metadata": {
    "collapsed": false,
    "internals": {},
    "slideshow": {
     "slide_type": "-"
    }
   },
   "outputs": [
    {
     "data": {
      "text/html": [
       "<table><tr><td><strong>colour</strong></td><td style=\"color:#000000; background-color:#86f0b6\">#86f0b6</td></tr><tr><td><strong>component</strong></td><td style=\"color:black; background-color:white\"><table><tr><td><strong>grainsize</strong></td><td>vf-f</td></tr><tr><td><strong>lithology</strong></td><td>sand</td></tr><tr><td><strong>colour</strong></td><td>grey</td></tr><tr><td><strong>porosity</strong></td><td>0.123</td></tr></table></td></tr><tr><td><strong>hatch</strong></td><td style=\"color:black; background-color:white\">None</td></tr><tr><td><strong>width</strong></td><td style=\"color:black; background-color:white\">3.0</td></tr></table>"
      ],
      "text/plain": [
       "Decor({'_colour': '#86f0b6', 'component': Component({'grainsize': 'vf-f', 'lithology': 'sand', 'colour': 'grey', 'porosity': 0.123}), 'hatch': None, 'width': 3.0})"
      ]
     },
     "execution_count": 7,
     "metadata": {},
     "output_type": "execute_result"
    }
   ],
   "source": [
    "Decor(colour='#86f0b6', component=Component({'colour': 'grey', 'grainsize': 'vf-f', 'porosity': 0.123, 'lithology': 'sand'}), width=3.0)"
   ]
  },
  {
   "cell_type": "markdown",
   "metadata": {
    "internals": {},
    "slideshow": {
     "slide_type": "-"
    }
   },
   "source": [
    "You can access its attributes. It has two ways to understand colour:"
   ]
  },
  {
   "cell_type": "code",
   "execution_count": 8,
   "metadata": {
    "collapsed": false,
    "internals": {},
    "slideshow": {
     "slide_type": "-"
    }
   },
   "outputs": [
    {
     "name": "stdout",
     "output_type": "stream",
     "text": [
      "Hex: #267022... and RGB: (38, 112, 34)\n"
     ]
    }
   ],
   "source": [
    "print(\"Hex: {}... and RGB: {}\".format(decor.colour, decor.rgb))"
   ]
  },
  {
   "cell_type": "code",
   "execution_count": 9,
   "metadata": {
    "collapsed": false,
    "internals": {},
    "slideshow": {
     "slide_type": "-"
    }
   },
   "outputs": [
    {
     "name": "stdout",
     "output_type": "stream",
     "text": [
      "Decor({'_colour': '#267022', 'component': Component({'grainsize': 'vf-f', 'lithology': 'sand', 'colour': 'grey', 'porosity': 0.123}), 'hatch': None, 'width': 3.0})\n"
     ]
    }
   ],
   "source": [
    "print(decor)"
   ]
  },
  {
   "cell_type": "code",
   "execution_count": 10,
   "metadata": {
    "collapsed": false,
    "internals": {},
    "slideshow": {
     "slide_type": "-"
    }
   },
   "outputs": [
    {
     "data": {
      "image/png": "[encoded data removed]",
      "text/plain": [
       "<matplotlib.figure.Figure at 0x10e298f28>"
      ]
     },
     "metadata": {},
     "output_type": "display_data"
    }
   ],
   "source": [
    "%matplotlib inline\n",
    "decor.plot()"
   ]
  },
  {
   "cell_type": "code",
   "execution_count": 11,
   "metadata": {
    "collapsed": false
   },
   "outputs": [
    {
     "data": {
      "image/png": "[encoded data removed]",
      "text/plain": [
       "<matplotlib.figure.Figure at 0x1102e1240>"
      ]
     },
     "metadata": {},
     "output_type": "display_data"
    }
   ],
   "source": [
    "decor.hatch = '+'\n",
    "decor.plot()"
   ]
  },
  {
   "cell_type": "markdown",
   "metadata": {},
   "source": [
    "There are the standard `matplotlib` hatch patterns:"
   ]
  },
  {
   "cell_type": "code",
   "execution_count": 12,
   "metadata": {
    "collapsed": false
   },
   "outputs": [
    {
     "data": {
      "image/png": "[encoded data removed]",
      "text/plain": [
       "<matplotlib.figure.Figure at 0x11036d2e8>"
      ]
     },
     "metadata": {},
     "output_type": "display_data"
    },
    {
     "data": {
      "image/png": "[encoded data removed]",
      "text/plain": [
       "<matplotlib.figure.Figure at 0x11040a978>"
      ]
     },
     "metadata": {},
     "output_type": "display_data"
    },
    {
     "data": {
      "image/png": "[encoded data removed]",
      "text/plain": [
       "<matplotlib.figure.Figure at 0x110456208>"
      ]
     },
     "metadata": {},
     "output_type": "display_data"
    },
    {
     "data": {
      "image/png": "[encoded data removed]",
      "text/plain": [
       "<matplotlib.figure.Figure at 0x1104b63c8>"
      ]
     },
     "metadata": {},
     "output_type": "display_data"
    },
    {
     "data": {
      "image/png": "[encoded data removed]",
      "text/plain": [
       "<matplotlib.figure.Figure at 0x11050c630>"
      ]
     },
     "metadata": {},
     "output_type": "display_data"
    },
    {
     "data": {
      "image/png": "[encoded data removed]",
      "text/plain": [
       "<matplotlib.figure.Figure at 0x110567e80>"
      ]
     },
     "metadata": {},
     "output_type": "display_data"
    },
    {
     "data": {
      "image/png": "[encoded data removed]",
      "text/plain": [
       "<matplotlib.figure.Figure at 0x1105bf940>"
      ]
     },
     "metadata": {},
     "output_type": "display_data"
    },
    {
     "data": {
      "image/png": "[encoded data removed]",
      "text/plain": [
       "<matplotlib.figure.Figure at 0x11060f978>"
      ]
     },
     "metadata": {},
     "output_type": "display_data"
    },
    {
     "data": {
      "image/png": "[encoded data removed]",
      "text/plain": [
       "<matplotlib.figure.Figure at 0x110672278>"
      ]
     },
     "metadata": {},
     "output_type": "display_data"
    }
   ],
   "source": [
    "hatches = \"\\/|+x-.o*\"\n",
    "for h in hatches:\n",
    "    Decor({'component': Component({'hatch':h}), 'hatch': h, 'colour': '#eeeeee'}).plot()"
   ]
  },
  {
   "cell_type": "markdown",
   "metadata": {},
   "source": [
    "And there are some custom ones. These really need to be reconciled and implemented in a more flexible way, perhaps even going as far as a redesign of the mpl implementation."
   ]
  },
  {
   "cell_type": "code",
   "execution_count": 13,
   "metadata": {
    "collapsed": false,
    "scrolled": false
   },
   "outputs": [
    {
     "data": {
      "image/png": "[encoded data removed]",
      "text/plain": [
       "<matplotlib.figure.Figure at 0x1103aa748>"
      ]
     },
     "metadata": {},
     "output_type": "display_data"
    },
    {
     "data": {
      "image/png": "[encoded data removed]",
      "text/plain": [
       "<matplotlib.figure.Figure at 0x11074b908>"
      ]
     },
     "metadata": {},
     "output_type": "display_data"
    },
    {
     "data": {
      "image/png": "[encoded data removed]",
      "text/plain": [
       "<matplotlib.figure.Figure at 0x110797710>"
      ]
     },
     "metadata": {},
     "output_type": "display_data"
    },
    {
     "data": {
      "image/png": "[encoded data removed]",
      "text/plain": [
       "<matplotlib.figure.Figure at 0x1107f8898>"
      ]
     },
     "metadata": {},
     "output_type": "display_data"
    },
    {
     "data": {
      "image/png": "[encoded data removed]",
      "text/plain": [
       "<matplotlib.figure.Figure at 0x11084e780>"
      ]
     },
     "metadata": {},
     "output_type": "display_data"
    },
    {
     "data": {
      "image/png": "[encoded data removed]",
      "text/plain": [
       "<matplotlib.figure.Figure at 0x1108ad208>"
      ]
     },
     "metadata": {},
     "output_type": "display_data"
    },
    {
     "data": {
      "image/png": "[encoded data removed]",
      "text/plain": [
       "<matplotlib.figure.Figure at 0x11057a710>"
      ]
     },
     "metadata": {},
     "output_type": "display_data"
    },
    {
     "data": {
      "image/png": "[encoded data removed]",
      "text/plain": [
       "<matplotlib.figure.Figure at 0x110567240>"
      ]
     },
     "metadata": {},
     "output_type": "display_data"
    },
    {
     "data": {
      "image/png": "[encoded data removed]",
      "text/plain": [
       "<matplotlib.figure.Figure at 0x1104d24a8>"
      ]
     },
     "metadata": {},
     "output_type": "display_data"
    },
    {
     "data": {
      "image/png": "[encoded data removed]",
      "text/plain": [
       "<matplotlib.figure.Figure at 0x110313588>"
      ]
     },
     "metadata": {},
     "output_type": "display_data"
    }
   ],
   "source": [
    "hatches = \"pctLbs!=v^\"\n",
    "for h in hatches:\n",
    "    Decor({'component': Component({'hatch':h}), 'hatch': h, 'colour': '#eeeeee'}).plot(fmt=\"{hatch}\")"
   ]
  },
  {
   "cell_type": "markdown",
   "metadata": {
    "internals": {},
    "slideshow": {
     "slide_type": "-"
    }
   },
   "source": [
    "<hr />"
   ]
  },
  {
   "cell_type": "markdown",
   "metadata": {
    "internals": {},
    "slideshow": {
     "slide_type": "-"
    }
   },
   "source": [
    "## Legend"
   ]
  },
  {
   "cell_type": "code",
   "execution_count": 14,
   "metadata": {
    "collapsed": false,
    "internals": {},
    "slideshow": {
     "slide_type": "-"
    }
   },
   "outputs": [
    {
     "name": "stdout",
     "output_type": "stream",
     "text": [
      "\n",
      "    A look-up table to assist in the conversion of Components to\n",
      "    a plot colour.\n",
      "\n",
      "    Args:\n",
      "        list_of_Decors (list): The decors to collect into a legend. In\n",
      "            general, you will want to leave legend building to the constructor\n",
      "            class methods, `Legend.default()`, and\n",
      "            `Legend.from_csv(text=string)`. We can add others over time, such\n",
      "            as `from_xls` and so on.\n",
      "    \n"
     ]
    }
   ],
   "source": [
    "from striplog import Legend\n",
    "print(Legend.__doc__)"
   ]
  },
  {
   "cell_type": "markdown",
   "metadata": {
    "internals": {},
    "slideshow": {
     "slide_type": "-"
    }
   },
   "source": [
    "We'll define a legend in a CSV file. I can't think of a better way for now. It would be easy to make a web form to facilitate this with, for example, a colour picker. It may not be worth it, though; I imagine one would create one and then leave it alone most of the time. "
   ]
  },
  {
   "cell_type": "code",
   "execution_count": 15,
   "metadata": {
    "collapsed": false,
    "internals": {},
    "slideshow": {
     "slide_type": "-"
    }
   },
   "outputs": [],
   "source": [
    "l = u\"\"\"colour, width, component lithology, component colour, component grainsize\n",
    "#F7E9A6, 3, Sandstone, Grey, VF-F\n",
    "#FF99CC, 2, Anhydrite, , \n",
    "#DBD6BC, 3, Heterolithic, Grey, \n",
    "#FF4C4A, 2, Volcanic, , \n",
    "#86F0B6, 5, Conglomerate, , \n",
    "#FF96F6, 2, Halite, , \n",
    "#F2FF42, 4, Sandstone, Grey, F-M\n",
    "#DBC9BC, 3, Heterolithic, Red, \n",
    "#A68374, 2, Siltstone, Grey, \n",
    "#A657FA, 3, Dolomite, , \n",
    "#FFD073, 4, Sandstone, Red, C-M\n",
    "#A6D1FF, 3, Limestone, , \n",
    "#FFDBBA, 3, Sandstone, Red, VF-F\n",
    "#FFE040, 4, Sandstone, Grey, C-M\n",
    "#A1655A, 2, Siltstone, Red, \n",
    "#363434, 1, Coal, , \n",
    "#664A4A, 1, Mudstone, Red, \n",
    "#666666, 1, Mudstone, Grey, \"\"\""
   ]
  },
  {
   "cell_type": "code",
   "execution_count": 16,
   "metadata": {
    "collapsed": false,
    "internals": {},
    "slideshow": {
     "slide_type": "-"
    }
   },
   "outputs": [
    {
     "data": {
      "text/html": [
       "<table><tr><th>component</th><th>hatch</th><th>colour</th><th>width</th></tr><tr><td style=\"color:black; background-color:white\"><table><tr><td><strong>grainsize</strong></td><td>vf-f</td></tr><tr><td><strong>lithology</strong></td><td>sandstone</td></tr><tr><td><strong>colour</strong></td><td>grey</td></tr></table></td><td style=\"color:black; background-color:white\">None</td><td style=\"color:#000000; background-color:#f7e9a6\">#f7e9a6</td><td style=\"color:black; background-color:white\">3.0</td></tr><tr><td style=\"color:black; background-color:white\"><table><tr><td><strong>lithology</strong></td><td>anhydrite</td></tr></table></td><td style=\"color:black; background-color:white\">None</td><td style=\"color:#000000; background-color:#ff99cc\">#ff99cc</td><td style=\"color:black; background-color:white\">2.0</td></tr><tr><td style=\"color:black; background-color:white\"><table><tr><td><strong>lithology</strong></td><td>heterolithic</td></tr><tr><td><strong>colour</strong></td><td>grey</td></tr></table></td><td style=\"color:black; background-color:white\">None</td><td style=\"color:#000000; background-color:#dbd6bc\">#dbd6bc</td><td style=\"color:black; background-color:white\">3.0</td></tr><tr><td style=\"color:black; background-color:white\"><table><tr><td><strong>lithology</strong></td><td>volcanic</td></tr></table></td><td style=\"color:black; background-color:white\">None</td><td style=\"color:#ffffff; background-color:#ff4c4a\">#ff4c4a</td><td style=\"color:black; background-color:white\">2.0</td></tr><tr><td style=\"color:black; background-color:white\"><table><tr><td><strong>lithology</strong></td><td>conglomerate</td></tr></table></td><td style=\"color:black; background-color:white\">None</td><td style=\"color:#000000; background-color:#86f0b6\">#86f0b6</td><td style=\"color:black; background-color:white\">5.0</td></tr></table>"
      ],
      "text/plain": [
       "Legend(Decor({'_colour': '#f7e9a6', 'component': Component({'grainsize': 'vf-f', 'lithology': 'sandstone', 'colour': 'grey'}), 'hatch': None, 'width': 3.0})\n",
       "Decor({'_colour': '#ff99cc', 'component': Component({'lithology': 'anhydrite'}), 'hatch': None, 'width': 2.0})\n",
       "Decor({'_colour': '#dbd6bc', 'component': Component({'lithology': 'heterolithic', 'colour': 'grey'}), 'hatch': None, 'width': 3.0})\n",
       "Decor({'_colour': '#ff4c4a', 'component': Component({'lithology': 'volcanic'}), 'hatch': None, 'width': 2.0})\n",
       "Decor({'_colour': '#86f0b6', 'component': Component({'lithology': 'conglomerate'}), 'hatch': None, 'width': 5.0}))"
      ]
     },
     "execution_count": 16,
     "metadata": {},
     "output_type": "execute_result"
    }
   ],
   "source": [
    "legend = Legend.from_csv(text=l)\n",
    "legend[:5]"
   ]
  },
  {
   "cell_type": "markdown",
   "metadata": {},
   "source": [
    "Duplicate lithologies will result in a warning. To avoid strange results, you should fix the problem by removing duplicates."
   ]
  },
  {
   "cell_type": "code",
   "execution_count": 17,
   "metadata": {
    "collapsed": true
   },
   "outputs": [],
   "source": [
    "l = u\"\"\"colour, component lithology\n",
    "#F7E9A6, Sandstone\n",
    "#F2FF42, Sandstone\n",
    "#FF99CC, Anhydrite\n",
    "#DBD6BC, Heterolithic \n",
    "#FF4C4A, Volcanic\n",
    "#86F0B6, Conglomerate\n",
    "#FFD073, Sandstone\n",
    "\"\"\""
   ]
  },
  {
   "cell_type": "code",
   "execution_count": 18,
   "metadata": {
    "collapsed": false
   },
   "outputs": [
    {
     "name": "stderr",
     "output_type": "stream",
     "text": [
      "/Users/matt/anaconda/envs/temp9/lib/python3.5/site-packages/striplog/legend.py:621: UserWarning: This legend contains duplicate components.\n",
      "  warnings.warn(w)\n",
      "/Users/matt/anaconda/envs/temp9/lib/python3.5/site-packages/striplog/legend.py:621: UserWarning: This legend contains duplicate components.\n",
      "  warnings.warn(w)\n"
     ]
    },
    {
     "data": {
      "text/html": [
       "<table><tr><th>component</th><th>hatch</th><th>colour</th><th>width</th></tr><tr><td style=\"color:black; background-color:white\"><table><tr><td><strong>lithology</strong></td><td>sandstone</td></tr></table></td><td style=\"color:black; background-color:white\">None</td><td style=\"color:#000000; background-color:#f7e9a6\">#f7e9a6</td><td style=\"color:black; background-color:white\">None</td></tr><tr><td style=\"color:black; background-color:white\"><table><tr><td><strong>lithology</strong></td><td>sandstone</td></tr></table></td><td style=\"color:black; background-color:white\">None</td><td style=\"color:#000000; background-color:#f2ff42\">#f2ff42</td><td style=\"color:black; background-color:white\">None</td></tr><tr><td style=\"color:black; background-color:white\"><table><tr><td><strong>lithology</strong></td><td>anhydrite</td></tr></table></td><td style=\"color:black; background-color:white\">None</td><td style=\"color:#000000; background-color:#ff99cc\">#ff99cc</td><td style=\"color:black; background-color:white\">None</td></tr><tr><td style=\"color:black; background-color:white\"><table><tr><td><strong>lithology</strong></td><td>heterolithic </td></tr></table></td><td style=\"color:black; background-color:white\">None</td><td style=\"color:#000000; background-color:#dbd6bc\">#dbd6bc</td><td style=\"color:black; background-color:white\">None</td></tr><tr><td style=\"color:black; background-color:white\"><table><tr><td><strong>lithology</strong></td><td>volcanic</td></tr></table></td><td style=\"color:black; background-color:white\">None</td><td style=\"color:#ffffff; background-color:#ff4c4a\">#ff4c4a</td><td style=\"color:black; background-color:white\">None</td></tr><tr><td style=\"color:black; background-color:white\"><table><tr><td><strong>lithology</strong></td><td>conglomerate</td></tr></table></td><td style=\"color:black; background-color:white\">None</td><td style=\"color:#000000; background-color:#86f0b6\">#86f0b6</td><td style=\"color:black; background-color:white\">None</td></tr><tr><td style=\"color:black; background-color:white\"><table><tr><td><strong>lithology</strong></td><td>sandstone</td></tr></table></td><td style=\"color:black; background-color:white\">None</td><td style=\"color:#000000; background-color:#ffd073\">#ffd073</td><td style=\"color:black; background-color:white\">None</td></tr></table>"
      ],
      "text/plain": [
       "Legend(Decor({'_colour': '#f7e9a6', 'component': Component({'lithology': 'sandstone'}), 'hatch': None, 'width': None})\n",
       "Decor({'_colour': '#f2ff42', 'component': Component({'lithology': 'sandstone'}), 'hatch': None, 'width': None})\n",
       "Decor({'_colour': '#ff99cc', 'component': Component({'lithology': 'anhydrite'}), 'hatch': None, 'width': None})\n",
       "Decor({'_colour': '#dbd6bc', 'component': Component({'lithology': 'heterolithic '}), 'hatch': None, 'width': None})\n",
       "Decor({'_colour': '#ff4c4a', 'component': Component({'lithology': 'volcanic'}), 'hatch': None, 'width': None})\n",
       "Decor({'_colour': '#86f0b6', 'component': Component({'lithology': 'conglomerate'}), 'hatch': None, 'width': None})\n",
       "Decor({'_colour': '#ffd073', 'component': Component({'lithology': 'sandstone'}), 'hatch': None, 'width': None}))"
      ]
     },
     "execution_count": 18,
     "metadata": {},
     "output_type": "execute_result"
    }
   ],
   "source": [
    "Legend.from_csv(text=l)"
   ]
  },
  {
   "cell_type": "markdown",
   "metadata": {},
   "source": [
    "We can also export a legend as CSV text:"
   ]
  },
  {
   "cell_type": "code",
   "execution_count": 19,
   "metadata": {
    "collapsed": false,
    "internals": {},
    "slideshow": {
     "slide_type": "-"
    }
   },
   "outputs": [
    {
     "name": "stdout",
     "output_type": "stream",
     "text": [
      "colour,hatch,width,component grainsize,component lithology,component colour\n",
      "#f7e9a6,None,3.0,vf-f,sandstone,grey,\n",
      "#ff99cc,None,2.0,,anhydrite,,\n",
      "#dbd6bc,None,3.0,,heterolithic,grey,\n",
      "#ff4c4a,None,2.0,,volcanic,,\n",
      "#86f0b6,None,5.0,,conglomerate,,\n",
      "#ff96f6,None,2.0,,halite,,\n",
      "#f2ff42,None,4.0,f-m,sandstone,grey,\n",
      "#dbc9bc,None,3.0,,heterolithic,red,\n",
      "#a68374,None,2.0,,siltstone,grey,\n",
      "#a657fa,None,3.0,,dolomite,,\n",
      "#ffd073,None,4.0,c-m,sandstone,red,\n",
      "#a6d1ff,None,3.0,,limestone,,\n",
      "#ffdbba,None,3.0,vf-f,sandstone,red,\n",
      "#ffe040,None,4.0,c-m,sandstone,grey,\n",
      "#a1655a,None,2.0,,siltstone,red,\n",
      "#363434,None,1.0,,coal,,\n",
      "#664a4a,None,1.0,,mudstone,red,\n",
      "#666666,None,1.0,,mudstone,grey,\n",
      "\n"
     ]
    }
   ],
   "source": [
    "print(legend.to_csv())"
   ]
  },
  {
   "cell_type": "markdown",
   "metadata": {
    "internals": {},
    "slideshow": {
     "slide_type": "-"
    }
   },
   "source": [
    "## Builtin legends\n",
    "\n",
    "There are several: \n",
    "\n",
    "    'nsdoe': Nova Scotia Dept. of Energy\n",
    "    'nagmdm__6_2': USGS N. Am. Geol. Map Data Model 6.2 <<< default\n",
    "    'nagmdm__6_1': USGS N. Am. Geol. Map Data Model 6.1\n",
    "    'nagmdm__4_3': USGS N. Am. Geol. Map Data Model 4.3\n",
    "    'sgmc': USGS State Geologic Map Compilation"
   ]
  },
  {
   "cell_type": "code",
   "execution_count": 21,
   "metadata": {
    "collapsed": false,
    "internals": {},
    "scrolled": true,
    "slideshow": {
     "slide_type": "-"
    }
   },
   "outputs": [
    {
     "data": {
      "text/html": [
       "<table><tr><th>component</th><th>hatch</th><th>colour</th><th>width</th></tr><tr><td style=\"color:black; background-color:white\"><table><tr><td><strong>grainsize</strong></td><td>vf-f</td></tr><tr><td><strong>lithology</strong></td><td>sandstone</td></tr><tr><td><strong>colour</strong></td><td>grey</td></tr></table></td><td style=\"color:black; background-color:white\">None</td><td style=\"color:#000000; background-color:#f7e9a6\">#f7e9a6</td><td style=\"color:black; background-color:white\">3.0</td></tr><tr><td style=\"color:black; background-color:white\"><table><tr><td><strong>lithology</strong></td><td>anhydrite</td></tr></table></td><td style=\"color:black; background-color:white\">None</td><td style=\"color:#000000; background-color:#ff99cc\">#ff99cc</td><td style=\"color:black; background-color:white\">2.0</td></tr><tr><td style=\"color:black; background-color:white\"><table><tr><td><strong>lithology</strong></td><td>heterolithic</td></tr><tr><td><strong>colour</strong></td><td>grey</td></tr></table></td><td style=\"color:black; background-color:white\">None</td><td style=\"color:#000000; background-color:#dbd6bc\">#dbd6bc</td><td style=\"color:black; background-color:white\">3.0</td></tr><tr><td style=\"color:black; background-color:white\"><table><tr><td><strong>lithology</strong></td><td>volcanic</td></tr></table></td><td style=\"color:black; background-color:white\">None</td><td style=\"color:#ffffff; background-color:#ff4c4a\">#ff4c4a</td><td style=\"color:black; background-color:white\">2.0</td></tr><tr><td style=\"color:black; background-color:white\"><table><tr><td><strong>lithology</strong></td><td>conglomerate</td></tr></table></td><td style=\"color:black; background-color:white\">None</td><td style=\"color:#000000; background-color:#86f0b6\">#86f0b6</td><td style=\"color:black; background-color:white\">5.0</td></tr><tr><td style=\"color:black; background-color:white\"><table><tr><td><strong>lithology</strong></td><td>halite</td></tr></table></td><td style=\"color:black; background-color:white\">None</td><td style=\"color:#000000; background-color:#ff96f6\">#ff96f6</td><td style=\"color:black; background-color:white\">2.0</td></tr><tr><td style=\"color:black; background-color:white\"><table><tr><td><strong>grainsize</strong></td><td>f-m</td></tr><tr><td><strong>lithology</strong></td><td>sandstone</td></tr><tr><td><strong>colour</strong></td><td>grey</td></tr></table></td><td style=\"color:black; background-color:white\">None</td><td style=\"color:#000000; background-color:#f2ff42\">#f2ff42</td><td style=\"color:black; background-color:white\">4.0</td></tr><tr><td style=\"color:black; background-color:white\"><table><tr><td><strong>lithology</strong></td><td>heterolithic</td></tr><tr><td><strong>colour</strong></td><td>red</td></tr></table></td><td style=\"color:black; background-color:white\">None</td><td style=\"color:#000000; background-color:#dbc9bc\">#dbc9bc</td><td style=\"color:black; background-color:white\">3.0</td></tr><tr><td style=\"color:black; background-color:white\"><table><tr><td><strong>lithology</strong></td><td>siltstone</td></tr><tr><td><strong>colour</strong></td><td>grey</td></tr></table></td><td style=\"color:black; background-color:white\">None</td><td style=\"color:#000000; background-color:#a68374\">#a68374</td><td style=\"color:black; background-color:white\">2.0</td></tr><tr><td style=\"color:black; background-color:white\"><table><tr><td><strong>lithology</strong></td><td>dolomite</td></tr></table></td><td style=\"color:black; background-color:white\">None</td><td style=\"color:#ffffff; background-color:#a657fa\">#a657fa</td><td style=\"color:black; background-color:white\">3.0</td></tr><tr><td style=\"color:black; background-color:white\"><table><tr><td><strong>grainsize</strong></td><td>c-m</td></tr><tr><td><strong>lithology</strong></td><td>sandstone</td></tr><tr><td><strong>colour</strong></td><td>red</td></tr></table></td><td style=\"color:black; background-color:white\">None</td><td style=\"color:#000000; background-color:#ffd073\">#ffd073</td><td style=\"color:black; background-color:white\">4.0</td></tr><tr><td style=\"color:black; background-color:white\"><table><tr><td><strong>lithology</strong></td><td>limestone</td></tr></table></td><td style=\"color:black; background-color:white\">None</td><td style=\"color:#000000; background-color:#a6d1ff\">#a6d1ff</td><td style=\"color:black; background-color:white\">3.0</td></tr><tr><td style=\"color:black; background-color:white\"><table><tr><td><strong>grainsize</strong></td><td>vf-f</td></tr><tr><td><strong>lithology</strong></td><td>sandstone</td></tr><tr><td><strong>colour</strong></td><td>red</td></tr></table></td><td style=\"color:black; background-color:white\">None</td><td style=\"color:#000000; background-color:#ffdbba\">#ffdbba</td><td style=\"color:black; background-color:white\">3.0</td></tr><tr><td style=\"color:black; background-color:white\"><table><tr><td><strong>grainsize</strong></td><td>c-m</td></tr><tr><td><strong>lithology</strong></td><td>sandstone</td></tr><tr><td><strong>colour</strong></td><td>grey</td></tr></table></td><td style=\"color:black; background-color:white\">None</td><td style=\"color:#000000; background-color:#ffe040\">#ffe040</td><td style=\"color:black; background-color:white\">4.0</td></tr><tr><td style=\"color:black; background-color:white\"><table><tr><td><strong>lithology</strong></td><td>siltstone</td></tr><tr><td><strong>colour</strong></td><td>red</td></tr></table></td><td style=\"color:black; background-color:white\">None</td><td style=\"color:#ffffff; background-color:#a1655a\">#a1655a</td><td style=\"color:black; background-color:white\">2.0</td></tr><tr><td style=\"color:black; background-color:white\"><table><tr><td><strong>lithology</strong></td><td>coal</td></tr></table></td><td style=\"color:black; background-color:white\">None</td><td style=\"color:#ffffff; background-color:#363434\">#363434</td><td style=\"color:black; background-color:white\">1.0</td></tr><tr><td style=\"color:black; background-color:white\"><table><tr><td><strong>lithology</strong></td><td>mudstone</td></tr><tr><td><strong>colour</strong></td><td>red</td></tr></table></td><td style=\"color:black; background-color:white\">None</td><td style=\"color:#ffffff; background-color:#664a4a\">#664a4a</td><td style=\"color:black; background-color:white\">1.0</td></tr><tr><td style=\"color:black; background-color:white\"><table><tr><td><strong>lithology</strong></td><td>mudstone</td></tr><tr><td><strong>colour</strong></td><td>grey</td></tr></table></td><td style=\"color:black; background-color:white\">None</td><td style=\"color:#ffffff; background-color:#666666\">#666666</td><td style=\"color:black; background-color:white\">1.0</td></tr></table>"
      ],
      "text/plain": [
       "Legend(Decor({'_colour': '#f7e9a6', 'component': Component({'grainsize': 'vf-f', 'lithology': 'sandstone', 'colour': 'grey'}), 'hatch': None, 'width': 3.0})\n",
       "Decor({'_colour': '#ff99cc', 'component': Component({'lithology': 'anhydrite'}), 'hatch': None, 'width': 2.0})\n",
       "Decor({'_colour': '#dbd6bc', 'component': Component({'lithology': 'heterolithic', 'colour': 'grey'}), 'hatch': None, 'width': 3.0})\n",
       "Decor({'_colour': '#ff4c4a', 'component': Component({'lithology': 'volcanic'}), 'hatch': None, 'width': 2.0})\n",
       "Decor({'_colour': '#86f0b6', 'component': Component({'lithology': 'conglomerate'}), 'hatch': None, 'width': 5.0})\n",
       "Decor({'_colour': '#ff96f6', 'component': Component({'lithology': 'halite'}), 'hatch': None, 'width': 2.0})\n",
       "Decor({'_colour': '#f2ff42', 'component': Component({'grainsize': 'f-m', 'lithology': 'sandstone', 'colour': 'grey'}), 'hatch': None, 'width': 4.0})\n",
       "Decor({'_colour': '#dbc9bc', 'component': Component({'lithology': 'heterolithic', 'colour': 'red'}), 'hatch': None, 'width': 3.0})\n",
       "Decor({'_colour': '#a68374', 'component': Component({'lithology': 'siltstone', 'colour': 'grey'}), 'hatch': None, 'width': 2.0})\n",
       "Decor({'_colour': '#a657fa', 'component': Component({'lithology': 'dolomite'}), 'hatch': None, 'width': 3.0})\n",
       "Decor({'_colour': '#ffd073', 'component': Component({'grainsize': 'c-m', 'lithology': 'sandstone', 'colour': 'red'}), 'hatch': None, 'width': 4.0})\n",
       "Decor({'_colour': '#a6d1ff', 'component': Component({'lithology': 'limestone'}), 'hatch': None, 'width': 3.0})\n",
       "Decor({'_colour': '#ffdbba', 'component': Component({'grainsize': 'vf-f', 'lithology': 'sandstone', 'colour': 'red'}), 'hatch': None, 'width': 3.0})\n",
       "Decor({'_colour': '#ffe040', 'component': Component({'grainsize': 'c-m', 'lithology': 'sandstone', 'colour': 'grey'}), 'hatch': None, 'width': 4.0})\n",
       "Decor({'_colour': '#a1655a', 'component': Component({'lithology': 'siltstone', 'colour': 'red'}), 'hatch': None, 'width': 2.0})\n",
       "Decor({'_colour': '#363434', 'component': Component({'lithology': 'coal'}), 'hatch': None, 'width': 1.0})\n",
       "Decor({'_colour': '#664a4a', 'component': Component({'lithology': 'mudstone', 'colour': 'red'}), 'hatch': None, 'width': 1.0})\n",
       "Decor({'_colour': '#666666', 'component': Component({'lithology': 'mudstone', 'colour': 'grey'}), 'hatch': None, 'width': 1.0}))"
      ]
     },
     "execution_count": 21,
     "metadata": {},
     "output_type": "execute_result"
    }
   ],
   "source": [
    "legend = Legend.builtin('nsdoe')\n",
    "legend"
   ]
  },
  {
   "cell_type": "markdown",
   "metadata": {},
   "source": [
    "There is also a default legend, which you can call with `Legend.default()` (no arguments)."
   ]
  },
  {
   "cell_type": "code",
   "execution_count": 22,
   "metadata": {
    "collapsed": false
   },
   "outputs": [
    {
     "data": {
      "text/html": [
       "<table><tr><th>component</th><th>hatch</th><th>colour</th><th>width</th></tr><tr><td style=\"color:black; background-color:white\"><table><tr><td><strong>lithology</strong></td><td>unconsolidated material</td></tr></table></td><td style=\"color:black; background-color:white\">None</td><td style=\"color:#000000; background-color:#fdf43f\">#fdf43f</td><td style=\"color:black; background-color:white\">None</td></tr><tr><td style=\"color:black; background-color:white\"><table><tr><td><strong>lithology</strong></td><td>alluvium</td></tr></table></td><td style=\"color:black; background-color:white\">None</td><td style=\"color:#000000; background-color:#ffff89\">#ffff89</td><td style=\"color:black; background-color:white\">None</td></tr><tr><td style=\"color:black; background-color:white\"><table><tr><td><strong>lithology</strong></td><td>flood plain</td></tr></table></td><td style=\"color:black; background-color:white\">None</td><td style=\"color:#000000; background-color:#ffffd5\">#ffffd5</td><td style=\"color:black; background-color:white\">None</td></tr><tr><td style=\"color:black; background-color:white\"><table><tr><td><strong>lithology</strong></td><td>levee</td></tr></table></td><td style=\"color:black; background-color:white\">None</td><td style=\"color:#000000; background-color:#fffae9\">#fffae9</td><td style=\"color:black; background-color:white\">None</td></tr><tr><td style=\"color:black; background-color:white\"><table><tr><td><strong>lithology</strong></td><td>delta</td></tr></table></td><td style=\"color:black; background-color:white\">None</td><td style=\"color:#000000; background-color:#fffac8\">#fffac8</td><td style=\"color:black; background-color:white\">None</td></tr><tr><td style=\"color:black; background-color:white\"><table><tr><td><strong>lithology</strong></td><td>alluvial fan</td></tr></table></td><td style=\"color:black; background-color:white\">None</td><td style=\"color:#000000; background-color:#ffffb7\">#ffffb7</td><td style=\"color:black; background-color:white\">None</td></tr><tr><td style=\"color:black; background-color:white\"><table><tr><td><strong>lithology</strong></td><td>alluvial terrace</td></tr></table></td><td style=\"color:black; background-color:white\">None</td><td style=\"color:#000000; background-color:#faee7a\">#faee7a</td><td style=\"color:black; background-color:white\">None</td></tr><tr><td style=\"color:black; background-color:white\"><table><tr><td><strong>lithology</strong></td><td>lake or marine sediment</td></tr></table></td><td style=\"color:black; background-color:white\">None</td><td style=\"color:#000000; background-color:#f4efe4\">#f4efe4</td><td style=\"color:black; background-color:white\">None</td></tr><tr><td style=\"color:black; background-color:white\"><table><tr><td><strong>lithology</strong></td><td>playa</td></tr></table></td><td style=\"color:black; background-color:white\">None</td><td style=\"color:#000000; background-color:#f1e5df\">#f1e5df</td><td style=\"color:black; background-color:white\">None</td></tr><tr><td style=\"color:black; background-color:white\"><table><tr><td><strong>lithology</strong></td><td>mud flat</td></tr></table></td><td style=\"color:black; background-color:white\">None</td><td style=\"color:#000000; background-color:#e4d0be\">#e4d0be</td><td style=\"color:black; background-color:white\">None</td></tr><tr><td style=\"color:black; background-color:white\"><table><tr><td><strong>lithology</strong></td><td>beach sand</td></tr></table></td><td style=\"color:black; background-color:white\">None</td><td style=\"color:#000000; background-color:#e4d8be\">#e4d8be</td><td style=\"color:black; background-color:white\">None</td></tr><tr><td style=\"color:black; background-color:white\"><table><tr><td><strong>lithology</strong></td><td>terrace</td></tr></table></td><td style=\"color:black; background-color:white\">None</td><td style=\"color:#000000; background-color:#fff6d9\">#fff6d9</td><td style=\"color:black; background-color:white\">None</td></tr><tr><td style=\"color:black; background-color:white\"><table><tr><td><strong>lithology</strong></td><td>eolian material</td></tr></table></td><td style=\"color:black; background-color:white\">None</td><td style=\"color:#000000; background-color:#e0c59e\">#e0c59e</td><td style=\"color:black; background-color:white\">None</td></tr><tr><td style=\"color:black; background-color:white\"><table><tr><td><strong>lithology</strong></td><td>dune sand</td></tr></table></td><td style=\"color:black; background-color:white\">None</td><td style=\"color:#000000; background-color:#e0d2b4\">#e0d2b4</td><td style=\"color:black; background-color:white\">None</td></tr><tr><td style=\"color:black; background-color:white\"><table><tr><td><strong>lithology</strong></td><td>sand sheet</td></tr></table></td><td style=\"color:black; background-color:white\">None</td><td style=\"color:#000000; background-color:#dbcca9\">#dbcca9</td><td style=\"color:black; background-color:white\">None</td></tr><tr><td style=\"color:black; background-color:white\"><table><tr><td><strong>lithology</strong></td><td>loess</td></tr></table></td><td style=\"color:black; background-color:white\">None</td><td style=\"color:#000000; background-color:#f5e1bd\">#f5e1bd</td><td style=\"color:black; background-color:white\">None</td></tr><tr><td style=\"color:black; background-color:white\"><table><tr><td><strong>lithology</strong></td><td>volcanic ash</td></tr></table></td><td style=\"color:black; background-color:white\">None</td><td style=\"color:#000000; background-color:#e0b09e\">#e0b09e</td><td style=\"color:black; background-color:white\">None</td></tr><tr><td style=\"color:black; background-color:white\"><table><tr><td><strong>lithology</strong></td><td>mass wasting material</td></tr></table></td><td style=\"color:black; background-color:white\">None</td><td style=\"color:#000000; background-color:#cfbb8f\">#cfbb8f</td><td style=\"color:black; background-color:white\">None</td></tr><tr><td style=\"color:black; background-color:white\"><table><tr><td><strong>lithology</strong></td><td>colluvium</td></tr></table></td><td style=\"color:black; background-color:white\">None</td><td style=\"color:#000000; background-color:#e1e3c3\">#e1e3c3</td><td style=\"color:black; background-color:white\">None</td></tr><tr><td style=\"color:black; background-color:white\"><table><tr><td><strong>lithology</strong></td><td>mudflow</td></tr></table></td><td style=\"color:black; background-color:white\">None</td><td style=\"color:#000000; background-color:#e5dbb3\">#e5dbb3</td><td style=\"color:black; background-color:white\">None</td></tr><tr><td style=\"color:black; background-color:white\"><table><tr><td><strong>lithology</strong></td><td>lahar</td></tr></table></td><td style=\"color:black; background-color:white\">None</td><td style=\"color:#000000; background-color:#dcd5b4\">#dcd5b4</td><td style=\"color:black; background-color:white\">None</td></tr><tr><td style=\"color:black; background-color:white\"><table><tr><td><strong>lithology</strong></td><td>debris flow</td></tr></table></td><td style=\"color:black; background-color:white\">None</td><td style=\"color:#000000; background-color:#d3ca9f\">#d3ca9f</td><td style=\"color:black; background-color:white\">None</td></tr><tr><td style=\"color:black; background-color:white\"><table><tr><td><strong>lithology</strong></td><td>landslide</td></tr></table></td><td style=\"color:black; background-color:white\">None</td><td style=\"color:#000000; background-color:#c9be89\">#c9be89</td><td style=\"color:black; background-color:white\">None</td></tr><tr><td style=\"color:black; background-color:white\"><table><tr><td><strong>lithology</strong></td><td>talus</td></tr></table></td><td style=\"color:black; background-color:white\">None</td><td style=\"color:#000000; background-color:#bcaf6c\">#bcaf6c</td><td style=\"color:black; background-color:white\">None</td></tr><tr><td style=\"color:black; background-color:white\"><table><tr><td><strong>lithology</strong></td><td>glacial drift</td></tr></table></td><td style=\"color:black; background-color:white\">None</td><td style=\"color:#000000; background-color:#bfa743\">#bfa743</td><td style=\"color:black; background-color:white\">None</td></tr><tr><td style=\"color:black; background-color:white\"><table><tr><td><strong>lithology</strong></td><td>till</td></tr></table></td><td style=\"color:black; background-color:white\">None</td><td style=\"color:#000000; background-color:#d2c27c\">#d2c27c</td><td style=\"color:black; background-color:white\">None</td></tr><tr><td style=\"color:black; background-color:white\"><table><tr><td><strong>lithology</strong></td><td>moraine</td></tr></table></td><td style=\"color:black; background-color:white\">None</td><td style=\"color:#000000; background-color:#ffeebf\">#ffeebf</td><td style=\"color:black; background-color:white\">None</td></tr><tr><td style=\"color:black; background-color:white\"><table><tr><td><strong>lithology</strong></td><td>stratified glacial sediment</td></tr></table></td><td style=\"color:black; background-color:white\">None</td><td style=\"color:#000000; background-color:#ffe59d\">#ffe59d</td><td style=\"color:black; background-color:white\">None</td></tr><tr><td style=\"color:black; background-color:white\"><table><tr><td><strong>lithology</strong></td><td>glacial outwash sediment</td></tr></table></td><td style=\"color:black; background-color:white\">None</td><td style=\"color:#000000; background-color:#ffdf85\">#ffdf85</td><td style=\"color:black; background-color:white\">None</td></tr><tr><td style=\"color:black; background-color:white\"><table><tr><td><strong>lithology</strong></td><td>sub/supra-glacial sediment</td></tr></table></td><td style=\"color:black; background-color:white\">None</td><td style=\"color:#000000; background-color:#fee670\">#fee670</td><td style=\"color:black; background-color:white\">None</td></tr><tr><td style=\"color:black; background-color:white\"><table><tr><td><strong>lithology</strong></td><td>glaciolacustrine sediment</td></tr></table></td><td style=\"color:black; background-color:white\">None</td><td style=\"color:#000000; background-color:#fee258\">#fee258</td><td style=\"color:black; background-color:white\">None</td></tr><tr><td style=\"color:black; background-color:white\"><table><tr><td><strong>lithology</strong></td><td>glacial-marine sediment</td></tr></table></td><td style=\"color:black; background-color:white\">None</td><td style=\"color:#000000; background-color:#fedb2e\">#fedb2e</td><td style=\"color:black; background-color:white\">None</td></tr><tr><td style=\"color:black; background-color:white\"><table><tr><td><strong>lithology</strong></td><td>biogenic rock</td></tr></table></td><td style=\"color:black; background-color:white\">None</td><td style=\"color:#000000; background-color:#f7f3a1\">#f7f3a1</td><td style=\"color:black; background-color:white\">None</td></tr><tr><td style=\"color:black; background-color:white\"><table><tr><td><strong>lithology</strong></td><td>peat</td></tr></table></td><td style=\"color:black; background-color:white\">None</td><td style=\"color:#000000; background-color:#ffcf81\">#ffcf81</td><td style=\"color:black; background-color:white\">None</td></tr><tr><td style=\"color:black; background-color:white\"><table><tr><td><strong>lithology</strong></td><td>coral</td></tr></table></td><td style=\"color:black; background-color:white\">None</td><td style=\"color:#000000; background-color:#ffcc99\">#ffcc99</td><td style=\"color:black; background-color:white\">None</td></tr><tr><td style=\"color:black; background-color:white\"><table><tr><td><strong>lithology</strong></td><td>residuum</td></tr></table></td><td style=\"color:black; background-color:white\">None</td><td style=\"color:#000000; background-color:#ffe389\">#ffe389</td><td style=\"color:black; background-color:white\">None</td></tr><tr><td style=\"color:black; background-color:white\"><table><tr><td><strong>lithology</strong></td><td>clay or mud</td></tr></table></td><td style=\"color:black; background-color:white\">None</td><td style=\"color:#000000; background-color:#ffdb67\">#ffdb67</td><td style=\"color:black; background-color:white\">None</td></tr><tr><td style=\"color:black; background-color:white\"><table><tr><td><strong>lithology</strong></td><td>silt</td></tr></table></td><td style=\"color:black; background-color:white\">None</td><td style=\"color:#000000; background-color:#ffd345\">#ffd345</td><td style=\"color:black; background-color:white\">None</td></tr><tr><td style=\"color:black; background-color:white\"><table><tr><td><strong>lithology</strong></td><td>sand</td></tr></table></td><td style=\"color:black; background-color:white\">None</td><td style=\"color:#000000; background-color:#ffcb23\">#ffcb23</td><td style=\"color:black; background-color:white\">None</td></tr><tr><td style=\"color:black; background-color:white\"><table><tr><td><strong>lithology</strong></td><td>gravel</td></tr></table></td><td style=\"color:black; background-color:white\">None</td><td style=\"color:#000000; background-color:#ecb400\">#ecb400</td><td style=\"color:black; background-color:white\">None</td></tr><tr><td style=\"color:black; background-color:white\"><table><tr><td><strong>lithology</strong></td><td>sedimentary rock</td></tr></table></td><td style=\"color:black; background-color:white\">None</td><td style=\"color:#000000; background-color:#92dcb7\">#92dcb7</td><td style=\"color:black; background-color:white\">None</td></tr><tr><td style=\"color:black; background-color:white\"><table><tr><td><strong>lithology</strong></td><td>clastic rock</td></tr></table></td><td style=\"color:black; background-color:white\">None</td><td style=\"color:#000000; background-color:#d9fdd3\">#d9fdd3</td><td style=\"color:black; background-color:white\">None</td></tr><tr><td style=\"color:black; background-color:white\"><table><tr><td><strong>lithology</strong></td><td>mudstone</td></tr></table></td><td style=\"color:black; background-color:white\">None</td><td style=\"color:#000000; background-color:#cfefdf\">#cfefdf</td><td style=\"color:black; background-color:white\">None</td></tr><tr><td style=\"color:black; background-color:white\"><table><tr><td><strong>lithology</strong></td><td>claystone</td></tr></table></td><td style=\"color:black; background-color:white\">None</td><td style=\"color:#000000; background-color:#d5e6cc\">#d5e6cc</td><td style=\"color:black; background-color:white\">None</td></tr><tr><td style=\"color:black; background-color:white\"><table><tr><td><strong>lithology</strong></td><td>bentonite</td></tr></table></td><td style=\"color:black; background-color:white\">None</td><td style=\"color:#000000; background-color:#c0d0c0\">#c0d0c0</td><td style=\"color:black; background-color:white\">None</td></tr><tr><td style=\"color:black; background-color:white\"><table><tr><td><strong>lithology</strong></td><td>shale</td></tr></table></td><td style=\"color:black; background-color:white\">None</td><td style=\"color:#000000; background-color:#ace4c8\">#ace4c8</td><td style=\"color:black; background-color:white\">None</td></tr><tr><td style=\"color:black; background-color:white\"><table><tr><td><strong>lithology</strong></td><td>black shale</td></tr></table></td><td style=\"color:black; background-color:white\">None</td><td style=\"color:#000000; background-color:#dbfebc\">#dbfebc</td><td style=\"color:black; background-color:white\">None</td></tr><tr><td style=\"color:black; background-color:white\"><table><tr><td><strong>lithology</strong></td><td>oil shale</td></tr></table></td><td style=\"color:black; background-color:white\">None</td><td style=\"color:#000000; background-color:#bbffdd\">#bbffdd</td><td style=\"color:black; background-color:white\">None</td></tr><tr><td style=\"color:black; background-color:white\"><table><tr><td><strong>lithology</strong></td><td>argillite</td></tr></table></td><td style=\"color:black; background-color:white\">None</td><td style=\"color:#000000; background-color:#e1f0d8\">#e1f0d8</td><td style=\"color:black; background-color:white\">None</td></tr><tr><td style=\"color:black; background-color:white\"><table><tr><td><strong>lithology</strong></td><td>siltstone</td></tr></table></td><td style=\"color:black; background-color:white\">None</td><td style=\"color:#000000; background-color:#d6fe9a\">#d6fe9a</td><td style=\"color:black; background-color:white\">None</td></tr><tr><td style=\"color:black; background-color:white\"><table><tr><td><strong>lithology</strong></td><td>fine-grained mixed clastic rock</td></tr></table></td><td style=\"color:black; background-color:white\">None</td><td style=\"color:#000000; background-color:#95ffca\">#95ffca</td><td style=\"color:black; background-color:white\">None</td></tr><tr><td style=\"color:black; background-color:white\"><table><tr><td><strong>lithology</strong></td><td>sandstone</td></tr></table></td><td style=\"color:black; background-color:white\">None</td><td style=\"color:#000000; background-color:#cdffd9\">#cdffd9</td><td style=\"color:black; background-color:white\">None</td></tr><tr><td style=\"color:black; background-color:white\"><table><tr><td><strong>lithology</strong></td><td>arenite</td></tr></table></td><td style=\"color:black; background-color:white\">None</td><td style=\"color:#000000; background-color:#a6fcaa\">#a6fcaa</td><td style=\"color:black; background-color:white\">None</td></tr><tr><td style=\"color:black; background-color:white\"><table><tr><td><strong>lithology</strong></td><td>orthoquartzite</td></tr></table></td><td style=\"color:black; background-color:white\">None</td><td style=\"color:#000000; background-color:#cbefce\">#cbefce</td><td style=\"color:black; background-color:white\">None</td></tr><tr><td style=\"color:black; background-color:white\"><table><tr><td><strong>lithology</strong></td><td>calcarenite</td></tr></table></td><td style=\"color:black; background-color:white\">None</td><td style=\"color:#000000; background-color:#9acefe\">#9acefe</td><td style=\"color:black; background-color:white\">None</td></tr><tr><td style=\"color:black; background-color:white\"><table><tr><td><strong>lithology</strong></td><td>arkose</td></tr></table></td><td style=\"color:black; background-color:white\">None</td><td style=\"color:#000000; background-color:#69cf9c\">#69cf9c</td><td style=\"color:black; background-color:white\">None</td></tr><tr><td style=\"color:black; background-color:white\"><table><tr><td><strong>lithology</strong></td><td>wacke</td></tr></table></td><td style=\"color:black; background-color:white\">None</td><td style=\"color:#000000; background-color:#bddbf1\">#bddbf1</td><td style=\"color:black; background-color:white\">None</td></tr><tr><td style=\"color:black; background-color:white\"><table><tr><td><strong>lithology</strong></td><td>graywacke</td></tr></table></td><td style=\"color:black; background-color:white\">None</td><td style=\"color:#000000; background-color:#b8eac3\">#b8eac3</td><td style=\"color:black; background-color:white\">None</td></tr><tr><td style=\"color:black; background-color:white\"><table><tr><td><strong>lithology</strong></td><td>medium-grained mixed clastic rock</td></tr></table></td><td style=\"color:black; background-color:white\">None</td><td style=\"color:#000000; background-color:#90a565\">#90a565</td><td style=\"color:black; background-color:white\">None</td></tr><tr><td style=\"color:black; background-color:white\"><table><tr><td><strong>lithology</strong></td><td>conglomerate</td></tr></table></td><td style=\"color:black; background-color:white\">None</td><td style=\"color:#000000; background-color:#b7d9cc\">#b7d9cc</td><td style=\"color:black; background-color:white\">None</td></tr><tr><td style=\"color:black; background-color:white\"><table><tr><td><strong>lithology</strong></td><td>sedimentary breccia</td></tr></table></td><td style=\"color:black; background-color:white\">None</td><td style=\"color:#000000; background-color:#a7ba86\">#a7ba86</td><td style=\"color:black; background-color:white\">None</td></tr><tr><td style=\"color:black; background-color:white\"><table><tr><td><strong>lithology</strong></td><td>coarse-grained mixed clastic rock</td></tr></table></td><td style=\"color:black; background-color:white\">None</td><td style=\"color:#000000; background-color:#a5aaad\">#a5aaad</td><td style=\"color:black; background-color:white\">None</td></tr><tr><td style=\"color:black; background-color:white\"><table><tr><td><strong>lithology</strong></td><td>olistostrome</td></tr></table></td><td style=\"color:black; background-color:white\">None</td><td style=\"color:#000000; background-color:#8dbecd\">#8dbecd</td><td style=\"color:black; background-color:white\">None</td></tr><tr><td style=\"color:black; background-color:white\"><table><tr><td><strong>lithology</strong></td><td>melange</td></tr></table></td><td style=\"color:black; background-color:white\">None</td><td style=\"color:#000000; background-color:#bbc0c5\">#bbc0c5</td><td style=\"color:black; background-color:white\">None</td></tr><tr><td style=\"color:black; background-color:white\"><table><tr><td><strong>lithology</strong></td><td>carbonate rock</td></tr></table></td><td style=\"color:black; background-color:white\">None</td><td style=\"color:#000000; background-color:#56e0fc\">#56e0fc</td><td style=\"color:black; background-color:white\">None</td></tr><tr><td style=\"color:black; background-color:white\"><table><tr><td><strong>lithology</strong></td><td>limestone</td></tr></table></td><td style=\"color:black; background-color:white\">None</td><td style=\"color:#000000; background-color:#43aff9\">#43aff9</td><td style=\"color:black; background-color:white\">None</td></tr><tr><td style=\"color:black; background-color:white\"><table><tr><td><strong>lithology</strong></td><td>dolostone</td></tr></table></td><td style=\"color:black; background-color:white\">None</td><td style=\"color:#000000; background-color:#6bc3ff\">#6bc3ff</td><td style=\"color:black; background-color:white\">None</td></tr><tr><td style=\"color:black; background-color:white\"><table><tr><td><strong>lithology</strong></td><td>mixed carbonate/clastic rock</td></tr></table></td><td style=\"color:black; background-color:white\">None</td><td style=\"color:#000000; background-color:#38b4b1\">#38b4b1</td><td style=\"color:black; background-color:white\">None</td></tr><tr><td style=\"color:black; background-color:white\"><table><tr><td><strong>lithology</strong></td><td>mixed volcanic/clastic rock</td></tr></table></td><td style=\"color:black; background-color:white\">None</td><td style=\"color:#000000; background-color:#60ccbf\">#60ccbf</td><td style=\"color:black; background-color:white\">None</td></tr><tr><td style=\"color:black; background-color:white\"><table><tr><td><strong>lithology</strong></td><td>phosphorite</td></tr></table></td><td style=\"color:black; background-color:white\">None</td><td style=\"color:#000000; background-color:#bfe3dc\">#bfe3dc</td><td style=\"color:black; background-color:white\">None</td></tr><tr><td style=\"color:black; background-color:white\"><table><tr><td><strong>lithology</strong></td><td>chemical sedimentary rock</td></tr></table></td><td style=\"color:black; background-color:white\">None</td><td style=\"color:#000000; background-color:#cddeff\">#cddeff</td><td style=\"color:black; background-color:white\">None</td></tr><tr><td style=\"color:black; background-color:white\"><table><tr><td><strong>lithology</strong></td><td>evaporite</td></tr></table></td><td style=\"color:black; background-color:white\">None</td><td style=\"color:#ffffff; background-color:#019ccd\">#019ccd</td><td style=\"color:black; background-color:white\">None</td></tr><tr><td style=\"color:black; background-color:white\"><table><tr><td><strong>lithology</strong></td><td>chert</td></tr></table></td><td style=\"color:black; background-color:white\">None</td><td style=\"color:#000000; background-color:#9abfc0\">#9abfc0</td><td style=\"color:black; background-color:white\">None</td></tr><tr><td style=\"color:black; background-color:white\"><table><tr><td><strong>lithology</strong></td><td>novaculite</td></tr></table></td><td style=\"color:black; background-color:white\">None</td><td style=\"color:#000000; background-color:#c0aeb6\">#c0aeb6</td><td style=\"color:black; background-color:white\">None</td></tr><tr><td style=\"color:black; background-color:white\"><table><tr><td><strong>lithology</strong></td><td>iron formation</td></tr></table></td><td style=\"color:black; background-color:white\">None</td><td style=\"color:#000000; background-color:#b99598\">#b99598</td><td style=\"color:black; background-color:white\">None</td></tr><tr><td style=\"color:black; background-color:white\"><table><tr><td><strong>lithology</strong></td><td>exhalite</td></tr></table></td><td style=\"color:black; background-color:white\">None</td><td style=\"color:#000000; background-color:#d9c2a3\">#d9c2a3</td><td style=\"color:black; background-color:white\">None</td></tr><tr><td style=\"color:black; background-color:white\"><table><tr><td><strong>lithology</strong></td><td>coal</td></tr></table></td><td style=\"color:black; background-color:white\">None</td><td style=\"color:#ffffff; background-color:#820041\">#820041</td><td style=\"color:black; background-color:white\">None</td></tr><tr><td style=\"color:black; background-color:white\"><table><tr><td><strong>lithology</strong></td><td>mixed coal and clastic rock</td></tr></table></td><td style=\"color:black; background-color:white\">None</td><td style=\"color:#ffffff; background-color:#6e4909\">#6e4909</td><td style=\"color:black; background-color:white\">None</td></tr><tr><td style=\"color:black; background-color:white\"><table><tr><td><strong>lithology</strong></td><td>plutonic rock</td></tr></table></td><td style=\"color:black; background-color:white\">None</td><td style=\"color:#000000; background-color:#fc6e7c\">#fc6e7c</td><td style=\"color:black; background-color:white\">None</td></tr><tr><td style=\"color:black; background-color:white\"><table><tr><td><strong>lithology</strong></td><td>aplite</td></tr></table></td><td style=\"color:black; background-color:white\">None</td><td style=\"color:#000000; background-color:#ffc1b7\">#ffc1b7</td><td style=\"color:black; background-color:white\">None</td></tr><tr><td style=\"color:black; background-color:white\"><table><tr><td><strong>lithology</strong></td><td>porphyry</td></tr></table></td><td style=\"color:black; background-color:white\">None</td><td style=\"color:#000000; background-color:#ffe1e8\">#ffe1e8</td><td style=\"color:black; background-color:white\">None</td></tr><tr><td style=\"color:black; background-color:white\"><table><tr><td><strong>lithology</strong></td><td>lampophyre</td></tr></table></td><td style=\"color:black; background-color:white\">None</td><td style=\"color:#ffffff; background-color:#e45891\">#e45891</td><td style=\"color:black; background-color:white\">None</td></tr><tr><td style=\"color:black; background-color:white\"><table><tr><td><strong>lithology</strong></td><td>pegmatite</td></tr></table></td><td style=\"color:black; background-color:white\">None</td><td style=\"color:#000000; background-color:#ffeff3\">#ffeff3</td><td style=\"color:black; background-color:white\">None</td></tr><tr><td style=\"color:black; background-color:white\"><table><tr><td><strong>lithology</strong></td><td>granitoid</td></tr></table></td><td style=\"color:black; background-color:white\">None</td><td style=\"color:#ffffff; background-color:#dd2972\">#dd2972</td><td style=\"color:black; background-color:white\">None</td></tr><tr><td style=\"color:black; background-color:white\"><table><tr><td><strong>lithology</strong></td><td>alkali-feldspar granite</td></tr></table></td><td style=\"color:black; background-color:white\">None</td><td style=\"color:#000000; background-color:#ffd1dc\">#ffd1dc</td><td style=\"color:black; background-color:white\">None</td></tr><tr><td style=\"color:black; background-color:white\"><table><tr><td><strong>lithology</strong></td><td>granite</td></tr></table></td><td style=\"color:black; background-color:white\">None</td><td style=\"color:#000000; background-color:#f9b5bb\">#f9b5bb</td><td style=\"color:black; background-color:white\">None</td></tr><tr><td style=\"color:black; background-color:white\"><table><tr><td><strong>lithology</strong></td><td>peraluminous granite</td></tr></table></td><td style=\"color:black; background-color:white\">None</td><td style=\"color:#000000; background-color:#f8beae\">#f8beae</td><td style=\"color:black; background-color:white\">None</td></tr><tr><td style=\"color:black; background-color:white\"><table><tr><td><strong>lithology</strong></td><td>metaluminous granite</td></tr></table></td><td style=\"color:black; background-color:white\">None</td><td style=\"color:#000000; background-color:#ffb3c5\">#ffb3c5</td><td style=\"color:black; background-color:white\">None</td></tr><tr><td style=\"color:black; background-color:white\"><table><tr><td><strong>lithology</strong></td><td>subaluminous granite</td></tr></table></td><td style=\"color:black; background-color:white\">None</td><td style=\"color:#000000; background-color:#ff6f6b\">#ff6f6b</td><td style=\"color:black; background-color:white\">None</td></tr><tr><td style=\"color:black; background-color:white\"><table><tr><td><strong>lithology</strong></td><td>peralkaline granite</td></tr></table></td><td style=\"color:black; background-color:white\">None</td><td style=\"color:#ffffff; background-color:#fc5262\">#fc5262</td><td style=\"color:black; background-color:white\">None</td></tr><tr><td style=\"color:black; background-color:white\"><table><tr><td><strong>lithology</strong></td><td>granodiorite</td></tr></table></td><td style=\"color:black; background-color:white\">None</td><td style=\"color:#000000; background-color:#e979a6\">#e979a6</td><td style=\"color:black; background-color:white\">None</td></tr><tr><td style=\"color:black; background-color:white\"><table><tr><td><strong>lithology</strong></td><td>tonalite</td></tr></table></td><td style=\"color:black; background-color:white\">None</td><td style=\"color:#000000; background-color:#fcb6b6\">#fcb6b6</td><td style=\"color:black; background-color:white\">None</td></tr><tr><td style=\"color:black; background-color:white\"><table><tr><td><strong>lithology</strong></td><td>trondhjemite</td></tr></table></td><td style=\"color:black; background-color:white\">None</td><td style=\"color:#000000; background-color:#ffa7bc\">#ffa7bc</td><td style=\"color:black; background-color:white\">None</td></tr><tr><td style=\"color:black; background-color:white\"><table><tr><td><strong>lithology</strong></td><td>alkali-feldpar syenite</td></tr></table></td><td style=\"color:black; background-color:white\">None</td><td style=\"color:#ffffff; background-color:#f43c6c\">#f43c6c</td><td style=\"color:black; background-color:white\">None</td></tr><tr><td style=\"color:black; background-color:white\"><table><tr><td><strong>lithology</strong></td><td>quartz syenite</td></tr></table></td><td style=\"color:black; background-color:white\">None</td><td style=\"color:#ffffff; background-color:#fb2338\">#fb2338</td><td style=\"color:black; background-color:white\">None</td></tr><tr><td style=\"color:black; background-color:white\"><table><tr><td><strong>lithology</strong></td><td>syenite</td></tr></table></td><td style=\"color:black; background-color:white\">None</td><td style=\"color:#ffffff; background-color:#f41a87\">#f41a87</td><td style=\"color:black; background-color:white\">None</td></tr><tr><td style=\"color:black; background-color:white\"><table><tr><td><strong>lithology</strong></td><td>quartz monzonite</td></tr></table></td><td style=\"color:black; background-color:white\">None</td><td style=\"color:#000000; background-color:#ff6388\">#ff6388</td><td style=\"color:black; background-color:white\">None</td></tr><tr><td style=\"color:black; background-color:white\"><table><tr><td><strong>lithology</strong></td><td>monzonite</td></tr></table></td><td style=\"color:black; background-color:white\">None</td><td style=\"color:#ffffff; background-color:#ff275a\">#ff275a</td><td style=\"color:black; background-color:white\">None</td></tr><tr><td style=\"color:black; background-color:white\"><table><tr><td><strong>lithology</strong></td><td>quartz monzodiorite</td></tr></table></td><td style=\"color:black; background-color:white\">None</td><td style=\"color:#000000; background-color:#ff819f\">#ff819f</td><td style=\"color:black; background-color:white\">None</td></tr><tr><td style=\"color:black; background-color:white\"><table><tr><td><strong>lithology</strong></td><td>monzodiorite</td></tr></table></td><td style=\"color:black; background-color:white\">None</td><td style=\"color:#000000; background-color:#ffa99d\">#ffa99d</td><td style=\"color:black; background-color:white\">None</td></tr><tr><td style=\"color:black; background-color:white\"><table><tr><td><strong>lithology</strong></td><td>quartz diorite</td></tr></table></td><td style=\"color:black; background-color:white\">None</td><td style=\"color:#ffffff; background-color:#e81c00\">#e81c00</td><td style=\"color:black; background-color:white\">None</td></tr><tr><td style=\"color:black; background-color:white\"><table><tr><td><strong>lithology</strong></td><td>diorite</td></tr></table></td><td style=\"color:black; background-color:white\">None</td><td style=\"color:#ffffff; background-color:#ff3317\">#ff3317</td><td style=\"color:black; background-color:white\">None</td></tr><tr><td style=\"color:black; background-color:white\"><table><tr><td><strong>lithology</strong></td><td>diabase</td></tr></table></td><td style=\"color:black; background-color:white\">None</td><td style=\"color:#ffffff; background-color:#d60000\">#d60000</td><td style=\"color:black; background-color:white\">None</td></tr><tr><td style=\"color:black; background-color:white\"><table><tr><td><strong>lithology</strong></td><td>gabbroid</td></tr></table></td><td style=\"color:black; background-color:white\">None</td><td style=\"color:#ffffff; background-color:#ac0000\">#ac0000</td><td style=\"color:black; background-color:white\">None</td></tr><tr><td style=\"color:black; background-color:white\"><table><tr><td><strong>lithology</strong></td><td>quartz monzogabbro</td></tr></table></td><td style=\"color:black; background-color:white\">None</td><td style=\"color:#000000; background-color:#ff6f5b\">#ff6f5b</td><td style=\"color:black; background-color:white\">None</td></tr><tr><td style=\"color:black; background-color:white\"><table><tr><td><strong>lithology</strong></td><td>monzogabbro</td></tr></table></td><td style=\"color:black; background-color:white\">None</td><td style=\"color:#000000; background-color:#e377ad\">#e377ad</td><td style=\"color:black; background-color:white\">None</td></tr><tr><td style=\"color:black; background-color:white\"><table><tr><td><strong>lithology</strong></td><td>quartz gabbro</td></tr></table></td><td style=\"color:black; background-color:white\">None</td><td style=\"color:#000000; background-color:#eda7ca\">#eda7ca</td><td style=\"color:black; background-color:white\">None</td></tr><tr><td style=\"color:black; background-color:white\"><table><tr><td><strong>lithology</strong></td><td>gabbro</td></tr></table></td><td style=\"color:black; background-color:white\">None</td><td style=\"color:#000000; background-color:#e993be\">#e993be</td><td style=\"color:black; background-color:white\">None</td></tr><tr><td style=\"color:black; background-color:white\"><table><tr><td><strong>lithology</strong></td><td>norite</td></tr></table></td><td style=\"color:black; background-color:white\">None</td><td style=\"color:#000000; background-color:#ffd6d1\">#ffd6d1</td><td style=\"color:black; background-color:white\">None</td></tr><tr><td style=\"color:black; background-color:white\"><table><tr><td><strong>lithology</strong></td><td>troctolite</td></tr></table></td><td style=\"color:black; background-color:white\">None</td><td style=\"color:#000000; background-color:#ffbfce\">#ffbfce</td><td style=\"color:black; background-color:white\">None</td></tr><tr><td style=\"color:black; background-color:white\"><table><tr><td><strong>lithology</strong></td><td>anorthosite</td></tr></table></td><td style=\"color:black; background-color:white\">None</td><td style=\"color:#000000; background-color:#ff95ae\">#ff95ae</td><td style=\"color:black; background-color:white\">None</td></tr><tr><td style=\"color:black; background-color:white\"><table><tr><td><strong>lithology</strong></td><td>alkalic intrusive rock</td></tr></table></td><td style=\"color:black; background-color:white\">None</td><td style=\"color:#000000; background-color:#ff6f91\">#ff6f91</td><td style=\"color:black; background-color:white\">None</td></tr><tr><td style=\"color:black; background-color:white\"><table><tr><td><strong>lithology</strong></td><td>nepheline syenite</td></tr></table></td><td style=\"color:black; background-color:white\">None</td><td style=\"color:#ffffff; background-color:#ff1b51\">#ff1b51</td><td style=\"color:black; background-color:white\">None</td></tr><tr><td style=\"color:black; background-color:white\"><table><tr><td><strong>lithology</strong></td><td>ultramafic intrusive rock</td></tr></table></td><td style=\"color:black; background-color:white\">None</td><td style=\"color:#ffffff; background-color:#e80037\">#e80037</td><td style=\"color:black; background-color:white\">None</td></tr><tr><td style=\"color:black; background-color:white\"><table><tr><td><strong>lithology</strong></td><td>peridotite</td></tr></table></td><td style=\"color:black; background-color:white\">None</td><td style=\"color:#ffffff; background-color:#ce0031\">#ce0031</td><td style=\"color:black; background-color:white\">None</td></tr><tr><td style=\"color:black; background-color:white\"><table><tr><td><strong>lithology</strong></td><td>dunite</td></tr></table></td><td style=\"color:black; background-color:white\">None</td><td style=\"color:#ffffff; background-color:#b0002a\">#b0002a</td><td style=\"color:black; background-color:white\">None</td></tr><tr><td style=\"color:black; background-color:white\"><table><tr><td><strong>lithology</strong></td><td>kimberlite</td></tr></table></td><td style=\"color:black; background-color:white\">None</td><td style=\"color:#ffffff; background-color:#c1010a\">#c1010a</td><td style=\"color:black; background-color:white\">None</td></tr><tr><td style=\"color:black; background-color:white\"><table><tr><td><strong>lithology</strong></td><td>pyroxenite</td></tr></table></td><td style=\"color:black; background-color:white\">None</td><td style=\"color:#ffffff; background-color:#940023\">#940023</td><td style=\"color:black; background-color:white\">None</td></tr><tr><td style=\"color:black; background-color:white\"><table><tr><td><strong>lithology</strong></td><td>hornblendite</td></tr></table></td><td style=\"color:black; background-color:white\">None</td><td style=\"color:#ffffff; background-color:#a30109\">#a30109</td><td style=\"color:black; background-color:white\">None</td></tr><tr><td style=\"color:black; background-color:white\"><table><tr><td><strong>lithology</strong></td><td>intrusive carbonatite</td></tr></table></td><td style=\"color:black; background-color:white\">None</td><td style=\"color:#ffffff; background-color:#750107\">#750107</td><td style=\"color:black; background-color:white\">None</td></tr><tr><td style=\"color:black; background-color:white\"><table><tr><td><strong>lithology</strong></td><td>volcanic rock</td></tr></table></td><td style=\"color:black; background-color:white\">None</td><td style=\"color:#000000; background-color:#ffb7de\">#ffb7de</td><td style=\"color:black; background-color:white\">None</td></tr><tr><td style=\"color:black; background-color:white\"><table><tr><td><strong>lithology</strong></td><td>glassy volcanic rock</td></tr></table></td><td style=\"color:black; background-color:white\">None</td><td style=\"color:#000000; background-color:#ffc3e4\">#ffc3e4</td><td style=\"color:black; background-color:white\">None</td></tr><tr><td style=\"color:black; background-color:white\"><table><tr><td><strong>lithology</strong></td><td>obsidian</td></tr></table></td><td style=\"color:black; background-color:white\">None</td><td style=\"color:#000000; background-color:#ffd1ea\">#ffd1ea</td><td style=\"color:black; background-color:white\">None</td></tr><tr><td style=\"color:black; background-color:white\"><table><tr><td><strong>lithology</strong></td><td>vitrophyre</td></tr></table></td><td style=\"color:black; background-color:white\">None</td><td style=\"color:#000000; background-color:#ffc3f8\">#ffc3f8</td><td style=\"color:black; background-color:white\">None</td></tr><tr><td style=\"color:black; background-color:white\"><table><tr><td><strong>lithology</strong></td><td>pumice</td></tr></table></td><td style=\"color:black; background-color:white\">None</td><td style=\"color:#000000; background-color:#ffe5f3\">#ffe5f3</td><td style=\"color:black; background-color:white\">None</td></tr><tr><td style=\"color:black; background-color:white\"><table><tr><td><strong>lithology</strong></td><td>pyroclastic</td></tr></table></td><td style=\"color:black; background-color:white\">None</td><td style=\"color:#000000; background-color:#ffe0de\">#ffe0de</td><td style=\"color:black; background-color:white\">None</td></tr><tr><td style=\"color:black; background-color:white\"><table><tr><td><strong>lithology</strong></td><td>tuff</td></tr></table></td><td style=\"color:black; background-color:white\">None</td><td style=\"color:#000000; background-color:#f9d3d3\">#f9d3d3</td><td style=\"color:black; background-color:white\">None</td></tr><tr><td style=\"color:black; background-color:white\"><table><tr><td><strong>lithology</strong></td><td>welded tuff</td></tr></table></td><td style=\"color:black; background-color:white\">None</td><td style=\"color:#000000; background-color:#fff3c9\">#fff3c9</td><td style=\"color:black; background-color:white\">None</td></tr><tr><td style=\"color:black; background-color:white\"><table><tr><td><strong>lithology</strong></td><td>ash-flow tuff</td></tr></table></td><td style=\"color:black; background-color:white\">None</td><td style=\"color:#000000; background-color:#ffefd9\">#ffefd9</td><td style=\"color:black; background-color:white\">None</td></tr><tr><td style=\"color:black; background-color:white\"><table><tr><td><strong>lithology</strong></td><td>ignimbrite</td></tr></table></td><td style=\"color:black; background-color:white\">None</td><td style=\"color:#000000; background-color:#ffe5c3\">#ffe5c3</td><td style=\"color:black; background-color:white\">None</td></tr><tr><td style=\"color:black; background-color:white\"><table><tr><td><strong>lithology</strong></td><td>volcanic breccia</td></tr></table></td><td style=\"color:black; background-color:white\">None</td><td style=\"color:#000000; background-color:#ffd59d\">#ffd59d</td><td style=\"color:black; background-color:white\">None</td></tr><tr><td style=\"color:black; background-color:white\"><table><tr><td><strong>lithology</strong></td><td>lava flow</td></tr></table></td><td style=\"color:black; background-color:white\">None</td><td style=\"color:#000000; background-color:#ffa227\">#ffa227</td><td style=\"color:black; background-color:white\">None</td></tr><tr><td style=\"color:black; background-color:white\"><table><tr><td><strong>lithology</strong></td><td>bimodal suite</td></tr></table></td><td style=\"color:black; background-color:white\">None</td><td style=\"color:#000000; background-color:#ffc16f\">#ffc16f</td><td style=\"color:black; background-color:white\">None</td></tr><tr><td style=\"color:black; background-color:white\"><table><tr><td><strong>lithology</strong></td><td>felsic volcanic rock</td></tr></table></td><td style=\"color:black; background-color:white\">None</td><td style=\"color:#000000; background-color:#f48b00\">#f48b00</td><td style=\"color:black; background-color:white\">None</td></tr><tr><td style=\"color:black; background-color:white\"><table><tr><td><strong>lithology</strong></td><td>alkali-feldspar rhyolite</td></tr></table></td><td style=\"color:black; background-color:white\">None</td><td style=\"color:#000000; background-color:#fedc7e\">#fedc7e</td><td style=\"color:black; background-color:white\">None</td></tr><tr><td style=\"color:black; background-color:white\"><table><tr><td><strong>lithology</strong></td><td>rhyolite</td></tr></table></td><td style=\"color:black; background-color:white\">None</td><td style=\"color:#000000; background-color:#fecc68\">#fecc68</td><td style=\"color:black; background-color:white\">None</td></tr><tr><td style=\"color:black; background-color:white\"><table><tr><td><strong>lithology</strong></td><td>rhyodacite</td></tr></table></td><td style=\"color:black; background-color:white\">None</td><td style=\"color:#000000; background-color:#fec62a\">#fec62a</td><td style=\"color:black; background-color:white\">None</td></tr><tr><td style=\"color:black; background-color:white\"><table><tr><td><strong>lithology</strong></td><td>dacite</td></tr></table></td><td style=\"color:black; background-color:white\">None</td><td style=\"color:#000000; background-color:#fecdac\">#fecdac</td><td style=\"color:black; background-color:white\">None</td></tr><tr><td style=\"color:black; background-color:white\"><table><tr><td><strong>lithology</strong></td><td>alkali-feldspar trachyte</td></tr></table></td><td style=\"color:black; background-color:white\">None</td><td style=\"color:#000000; background-color:#feb786\">#feb786</td><td style=\"color:black; background-color:white\">None</td></tr><tr><td style=\"color:black; background-color:white\"><table><tr><td><strong>lithology</strong></td><td>trachyte</td></tr></table></td><td style=\"color:black; background-color:white\">None</td><td style=\"color:#000000; background-color:#fea060\">#fea060</td><td style=\"color:black; background-color:white\">None</td></tr><tr><td style=\"color:black; background-color:white\"><table><tr><td><strong>lithology</strong></td><td>quartz latite</td></tr></table></td><td style=\"color:black; background-color:white\">None</td><td style=\"color:#000000; background-color:#fe8736\">#fe8736</td><td style=\"color:black; background-color:white\">None</td></tr><tr><td style=\"color:black; background-color:white\"><table><tr><td><strong>lithology</strong></td><td>latite</td></tr></table></td><td style=\"color:black; background-color:white\">None</td><td style=\"color:#000000; background-color:#fe7518\">#fe7518</td><td style=\"color:black; background-color:white\">None</td></tr><tr><td style=\"color:black; background-color:white\"><table><tr><td><strong>lithology</strong></td><td>intermediate volcanic rock</td></tr></table></td><td style=\"color:black; background-color:white\">None</td><td style=\"color:#ffffff; background-color:#eb6001\">#eb6001</td><td style=\"color:black; background-color:white\">None</td></tr><tr><td style=\"color:black; background-color:white\"><table><tr><td><strong>lithology</strong></td><td>trachyandesite</td></tr></table></td><td style=\"color:black; background-color:white\">None</td><td style=\"color:#ffffff; background-color:#c95201\">#c95201</td><td style=\"color:black; background-color:white\">None</td></tr><tr><td style=\"color:black; background-color:white\"><table><tr><td><strong>lithology</strong></td><td>andesite</td></tr></table></td><td style=\"color:black; background-color:white\">None</td><td style=\"color:#ffffff; background-color:#b14801\">#b14801</td><td style=\"color:black; background-color:white\">None</td></tr><tr><td style=\"color:black; background-color:white\"><table><tr><td><strong>lithology</strong></td><td>mafic volcanic rock</td></tr></table></td><td style=\"color:black; background-color:white\">None</td><td style=\"color:#ffffff; background-color:#933c01\">#933c01</td><td style=\"color:black; background-color:white\">None</td></tr><tr><td style=\"color:black; background-color:white\"><table><tr><td><strong>lithology</strong></td><td>trachybasalt</td></tr></table></td><td style=\"color:black; background-color:white\">None</td><td style=\"color:#000000; background-color:#ecd5c6\">#ecd5c6</td><td style=\"color:black; background-color:white\">None</td></tr><tr><td style=\"color:black; background-color:white\"><table><tr><td><strong>lithology</strong></td><td>basalt</td></tr></table></td><td style=\"color:black; background-color:white\">None</td><td style=\"color:#000000; background-color:#ddb397\">#ddb397</td><td style=\"color:black; background-color:white\">None</td></tr><tr><td style=\"color:black; background-color:white\"><table><tr><td><strong>lithology</strong></td><td>tholeite</td></tr></table></td><td style=\"color:black; background-color:white\">None</td><td style=\"color:#000000; background-color:#d39d79\">#d39d79</td><td style=\"color:black; background-color:white\">None</td></tr><tr><td style=\"color:black; background-color:white\"><table><tr><td><strong>lithology</strong></td><td>hawaiite</td></tr></table></td><td style=\"color:black; background-color:white\">None</td><td style=\"color:#000000; background-color:#c68050\">#c68050</td><td style=\"color:black; background-color:white\">None</td></tr><tr><td style=\"color:black; background-color:white\"><table><tr><td><strong>lithology</strong></td><td>alkaline basalt</td></tr></table></td><td style=\"color:black; background-color:white\">None</td><td style=\"color:#ffffff; background-color:#a96537\">#a96537</td><td style=\"color:black; background-color:white\">None</td></tr><tr><td style=\"color:black; background-color:white\"><table><tr><td><strong>lithology</strong></td><td>alkalic volcanic rock</td></tr></table></td><td style=\"color:black; background-color:white\">None</td><td style=\"color:#ffffff; background-color:#c24100\">#c24100</td><td style=\"color:black; background-color:white\">None</td></tr><tr><td style=\"color:black; background-color:white\"><table><tr><td><strong>lithology</strong></td><td>phonolite</td></tr></table></td><td style=\"color:black; background-color:white\">None</td><td style=\"color:#ffffff; background-color:#5f391f\">#5f391f</td><td style=\"color:black; background-color:white\">None</td></tr><tr><td style=\"color:black; background-color:white\"><table><tr><td><strong>lithology</strong></td><td>tephrite</td></tr></table></td><td style=\"color:black; background-color:white\">None</td><td style=\"color:#ffffff; background-color:#854f2b\">#854f2b</td><td style=\"color:black; background-color:white\">None</td></tr><tr><td style=\"color:black; background-color:white\"><table><tr><td><strong>lithology</strong></td><td>ultramafitite</td></tr></table></td><td style=\"color:black; background-color:white\">None</td><td style=\"color:#ffffff; background-color:#a03500\">#a03500</td><td style=\"color:black; background-color:white\">None</td></tr><tr><td style=\"color:black; background-color:white\"><table><tr><td><strong>lithology</strong></td><td>volcanic carbonatite</td></tr></table></td><td style=\"color:black; background-color:white\">None</td><td style=\"color:#ffffff; background-color:#6e2500\">#6e2500</td><td style=\"color:black; background-color:white\">None</td></tr><tr><td style=\"color:black; background-color:white\"><table><tr><td><strong>lithology</strong></td><td>metamorphic rock</td></tr></table></td><td style=\"color:black; background-color:white\">None</td><td style=\"color:#000000; background-color:#a7a7ff\">#a7a7ff</td><td style=\"color:black; background-color:white\">None</td></tr><tr><td style=\"color:black; background-color:white\"><table><tr><td><strong>lithology</strong></td><td>hornfels</td></tr></table></td><td style=\"color:black; background-color:white\">None</td><td style=\"color:#000000; background-color:#eaafff\">#eaafff</td><td style=\"color:black; background-color:white\">None</td></tr><tr><td style=\"color:black; background-color:white\"><table><tr><td><strong>lithology</strong></td><td>metasedimentary rock</td></tr></table></td><td style=\"color:black; background-color:white\">None</td><td style=\"color:#000000; background-color:#7dff7d\">#7dff7d</td><td style=\"color:black; background-color:white\">None</td></tr><tr><td style=\"color:black; background-color:white\"><table><tr><td><strong>lithology</strong></td><td>meta-argillite</td></tr></table></td><td style=\"color:black; background-color:white\">None</td><td style=\"color:#000000; background-color:#c9ffc9\">#c9ffc9</td><td style=\"color:black; background-color:white\">None</td></tr><tr><td style=\"color:black; background-color:white\"><table><tr><td><strong>lithology</strong></td><td>slate</td></tr></table></td><td style=\"color:black; background-color:white\">None</td><td style=\"color:#000000; background-color:#e6cdff\">#e6cdff</td><td style=\"color:black; background-color:white\">None</td></tr><tr><td style=\"color:black; background-color:white\"><table><tr><td><strong>lithology</strong></td><td>quartzite</td></tr></table></td><td style=\"color:black; background-color:white\">None</td><td style=\"color:#000000; background-color:#9fff9f\">#9fff9f</td><td style=\"color:black; background-color:white\">None</td></tr><tr><td style=\"color:black; background-color:white\"><table><tr><td><strong>lithology</strong></td><td>metaconglomerate</td></tr></table></td><td style=\"color:black; background-color:white\">None</td><td style=\"color:#000000; background-color:#e9ffe9\">#e9ffe9</td><td style=\"color:black; background-color:white\">None</td></tr><tr><td style=\"color:black; background-color:white\"><table><tr><td><strong>lithology</strong></td><td>marble</td></tr></table></td><td style=\"color:black; background-color:white\">None</td><td style=\"color:#ffffff; background-color:#0000ff\">#0000ff</td><td style=\"color:black; background-color:white\">None</td></tr><tr><td style=\"color:black; background-color:white\"><table><tr><td><strong>lithology</strong></td><td>metavolcanic rock</td></tr></table></td><td style=\"color:black; background-color:white\">None</td><td style=\"color:#000000; background-color:#ff57ff\">#ff57ff</td><td style=\"color:black; background-color:white\">None</td></tr><tr><td style=\"color:black; background-color:white\"><table><tr><td><strong>lithology</strong></td><td>felsic metavolcanic rock</td></tr></table></td><td style=\"color:black; background-color:white\">None</td><td style=\"color:#000000; background-color:#ff8dff\">#ff8dff</td><td style=\"color:black; background-color:white\">None</td></tr><tr><td style=\"color:black; background-color:white\"><table><tr><td><strong>lithology</strong></td><td>metarhyolite</td></tr></table></td><td style=\"color:black; background-color:white\">None</td><td style=\"color:#000000; background-color:#ffa7ff\">#ffa7ff</td><td style=\"color:black; background-color:white\">None</td></tr><tr><td style=\"color:black; background-color:white\"><table><tr><td><strong>lithology</strong></td><td>keratophyre</td></tr></table></td><td style=\"color:black; background-color:white\">None</td><td style=\"color:#000000; background-color:#fe6700\">#fe6700</td><td style=\"color:black; background-color:white\">None</td></tr><tr><td style=\"color:black; background-color:white\"><table><tr><td><strong>lithology</strong></td><td>intermediate metavolcanic rock</td></tr></table></td><td style=\"color:black; background-color:white\">None</td><td style=\"color:#ffffff; background-color:#ff0000\">#ff0000</td><td style=\"color:black; background-color:white\">None</td></tr><tr><td style=\"color:black; background-color:white\"><table><tr><td><strong>lithology</strong></td><td>mafic metavolcanic rock</td></tr></table></td><td style=\"color:black; background-color:white\">None</td><td style=\"color:#ffffff; background-color:#b93b68\">#b93b68</td><td style=\"color:black; background-color:white\">None</td></tr><tr><td style=\"color:black; background-color:white\"><table><tr><td><strong>lithology</strong></td><td>metabasalt</td></tr></table></td><td style=\"color:black; background-color:white\">None</td><td style=\"color:#ffffff; background-color:#872b4c\">#872b4c</td><td style=\"color:black; background-color:white\">None</td></tr><tr><td style=\"color:black; background-color:white\"><table><tr><td><strong>lithology</strong></td><td>spilite</td></tr></table></td><td style=\"color:black; background-color:white\">None</td><td style=\"color:#ffffff; background-color:#c9557e\">#c9557e</td><td style=\"color:black; background-color:white\">None</td></tr><tr><td style=\"color:black; background-color:white\"><table><tr><td><strong>lithology</strong></td><td>greenstone</td></tr></table></td><td style=\"color:black; background-color:white\">None</td><td style=\"color:#ffffff; background-color:#008000\">#008000</td><td style=\"color:black; background-color:white\">None</td></tr><tr><td style=\"color:black; background-color:white\"><table><tr><td><strong>lithology</strong></td><td>phyllite</td></tr></table></td><td style=\"color:black; background-color:white\">None</td><td style=\"color:#000000; background-color:#b4cfe4\">#b4cfe4</td><td style=\"color:black; background-color:white\">None</td></tr><tr><td style=\"color:black; background-color:white\"><table><tr><td><strong>lithology</strong></td><td>schist</td></tr></table></td><td style=\"color:black; background-color:white\">None</td><td style=\"color:#000000; background-color:#dbdbe7\">#dbdbe7</td><td style=\"color:black; background-color:white\">None</td></tr><tr><td style=\"color:black; background-color:white\"><table><tr><td><strong>lithology</strong></td><td>greenschist</td></tr></table></td><td style=\"color:black; background-color:white\">None</td><td style=\"color:#000000; background-color:#ededf3\">#ededf3</td><td style=\"color:black; background-color:white\">None</td></tr><tr><td style=\"color:black; background-color:white\"><table><tr><td><strong>lithology</strong></td><td>blueschist</td></tr></table></td><td style=\"color:black; background-color:white\">None</td><td style=\"color:#000000; background-color:#c0c0c0\">#c0c0c0</td><td style=\"color:black; background-color:white\">None</td></tr><tr><td style=\"color:black; background-color:white\"><table><tr><td><strong>lithology</strong></td><td>mica schist</td></tr></table></td><td style=\"color:black; background-color:white\">None</td><td style=\"color:#000000; background-color:#b1b1b1\">#b1b1b1</td><td style=\"color:black; background-color:white\">None</td></tr><tr><td style=\"color:black; background-color:white\"><table><tr><td><strong>lithology</strong></td><td>pelitic schist</td></tr></table></td><td style=\"color:black; background-color:white\">None</td><td style=\"color:#000000; background-color:#cacadc\">#cacadc</td><td style=\"color:black; background-color:white\">None</td></tr><tr><td style=\"color:black; background-color:white\"><table><tr><td><strong>lithology</strong></td><td>quartz-feldspar schist</td></tr></table></td><td style=\"color:black; background-color:white\">None</td><td style=\"color:#000000; background-color:#a2a2c0\">#a2a2c0</td><td style=\"color:black; background-color:white\">None</td></tr><tr><td style=\"color:black; background-color:white\"><table><tr><td><strong>lithology</strong></td><td>calc-silicate schist</td></tr></table></td><td style=\"color:black; background-color:white\">None</td><td style=\"color:#000000; background-color:#b6b6ce\">#b6b6ce</td><td style=\"color:black; background-color:white\">None</td></tr><tr><td style=\"color:black; background-color:white\"><table><tr><td><strong>lithology</strong></td><td>amphibole schist</td></tr></table></td><td style=\"color:black; background-color:white\">None</td><td style=\"color:#000000; background-color:#969696\">#969696</td><td style=\"color:black; background-color:white\">None</td></tr><tr><td style=\"color:black; background-color:white\"><table><tr><td><strong>lithology</strong></td><td>granofels</td></tr></table></td><td style=\"color:black; background-color:white\">None</td><td style=\"color:#ffffff; background-color:#a337fd\">#a337fd</td><td style=\"color:black; background-color:white\">None</td></tr><tr><td style=\"color:black; background-color:white\"><table><tr><td><strong>lithology</strong></td><td>gneiss</td></tr></table></td><td style=\"color:black; background-color:white\">None</td><td style=\"color:#000000; background-color:#ecd6fe\">#ecd6fe</td><td style=\"color:black; background-color:white\">None</td></tr><tr><td style=\"color:black; background-color:white\"><table><tr><td><strong>lithology</strong></td><td>felsic gneiss</td></tr></table></td><td style=\"color:black; background-color:white\">None</td><td style=\"color:#000000; background-color:#e0bcfe\">#e0bcfe</td><td style=\"color:black; background-color:white\">None</td></tr><tr><td style=\"color:black; background-color:white\"><table><tr><td><strong>lithology</strong></td><td>granitic gneiss</td></tr></table></td><td style=\"color:black; background-color:white\">None</td><td style=\"color:#000000; background-color:#d5a4fe\">#d5a4fe</td><td style=\"color:black; background-color:white\">None</td></tr><tr><td style=\"color:black; background-color:white\"><table><tr><td><strong>lithology</strong></td><td>biotite gneiss</td></tr></table></td><td style=\"color:black; background-color:white\">None</td><td style=\"color:#000000; background-color:#c886fe\">#c886fe</td><td style=\"color:black; background-color:white\">None</td></tr><tr><td style=\"color:black; background-color:white\"><table><tr><td><strong>lithology</strong></td><td>mafic gneiss</td></tr></table></td><td style=\"color:black; background-color:white\">None</td><td style=\"color:#000000; background-color:#ccb7ff\">#ccb7ff</td><td style=\"color:black; background-color:white\">None</td></tr><tr><td style=\"color:black; background-color:white\"><table><tr><td><strong>lithology</strong></td><td>orthogneiss</td></tr></table></td><td style=\"color:black; background-color:white\">None</td><td style=\"color:#000000; background-color:#b395ff\">#b395ff</td><td style=\"color:black; background-color:white\">None</td></tr><tr><td style=\"color:black; background-color:white\"><table><tr><td><strong>lithology</strong></td><td>paragneiss</td></tr></table></td><td style=\"color:black; background-color:white\">None</td><td style=\"color:#ffffff; background-color:#9063ff\">#9063ff</td><td style=\"color:black; background-color:white\">None</td></tr><tr><td style=\"color:black; background-color:white\"><table><tr><td><strong>lithology</strong></td><td>migmatite</td></tr></table></td><td style=\"color:black; background-color:white\">None</td><td style=\"color:#ffffff; background-color:#9f00ca\">#9f00ca</td><td style=\"color:black; background-color:white\">None</td></tr><tr><td style=\"color:black; background-color:white\"><table><tr><td><strong>lithology</strong></td><td>amphibolite</td></tr></table></td><td style=\"color:black; background-color:white\">None</td><td style=\"color:#ffffff; background-color:#7b009c\">#7b009c</td><td style=\"color:black; background-color:white\">None</td></tr><tr><td style=\"color:black; background-color:white\"><table><tr><td><strong>lithology</strong></td><td>granulite</td></tr></table></td><td style=\"color:black; background-color:white\">None</td><td style=\"color:#ffffff; background-color:#6a006a\">#6a006a</td><td style=\"color:black; background-color:white\">None</td></tr><tr><td style=\"color:black; background-color:white\"><table><tr><td><strong>lithology</strong></td><td>eclogite</td></tr></table></td><td style=\"color:black; background-color:white\">None</td><td style=\"color:#000000; background-color:#ce9dff\">#ce9dff</td><td style=\"color:black; background-color:white\">None</td></tr><tr><td style=\"color:black; background-color:white\"><table><tr><td><strong>lithology</strong></td><td>greisen</td></tr></table></td><td style=\"color:black; background-color:white\">None</td><td style=\"color:#ffffff; background-color:#a449ff\">#a449ff</td><td style=\"color:black; background-color:white\">None</td></tr><tr><td style=\"color:black; background-color:white\"><table><tr><td><strong>lithology</strong></td><td>skarn</td></tr></table></td><td style=\"color:black; background-color:white\">None</td><td style=\"color:#ffffff; background-color:#8103ff\">#8103ff</td><td style=\"color:black; background-color:white\">None</td></tr><tr><td style=\"color:black; background-color:white\"><table><tr><td><strong>lithology</strong></td><td>calc-silicate rock</td></tr></table></td><td style=\"color:black; background-color:white\">None</td><td style=\"color:#ffffff; background-color:#46008c\">#46008c</td><td style=\"color:black; background-color:white\">None</td></tr><tr><td style=\"color:black; background-color:white\"><table><tr><td><strong>lithology</strong></td><td>serpentinite</td></tr></table></td><td style=\"color:black; background-color:white\">None</td><td style=\"color:#ffffff; background-color:#005c00\">#005c00</td><td style=\"color:black; background-color:white\">None</td></tr><tr><td style=\"color:black; background-color:white\"><table><tr><td><strong>lithology</strong></td><td>tectonite</td></tr></table></td><td style=\"color:black; background-color:white\">None</td><td style=\"color:#ffffff; background-color:#84613e\">#84613e</td><td style=\"color:black; background-color:white\">None</td></tr><tr><td style=\"color:black; background-color:white\"><table><tr><td><strong>lithology</strong></td><td>tectonic melange</td></tr></table></td><td style=\"color:black; background-color:white\">None</td><td style=\"color:#000000; background-color:#d0cbb0\">#d0cbb0</td><td style=\"color:black; background-color:white\">None</td></tr><tr><td style=\"color:black; background-color:white\"><table><tr><td><strong>lithology</strong></td><td>tectonic breccia</td></tr></table></td><td style=\"color:black; background-color:white\">None</td><td style=\"color:#000000; background-color:#b0a778\">#b0a778</td><td style=\"color:black; background-color:white\">None</td></tr><tr><td style=\"color:black; background-color:white\"><table><tr><td><strong>lithology</strong></td><td>cataclasite</td></tr></table></td><td style=\"color:black; background-color:white\">None</td><td style=\"color:#ffffff; background-color:#887f50\">#887f50</td><td style=\"color:black; background-color:white\">None</td></tr><tr><td style=\"color:black; background-color:white\"><table><tr><td><strong>lithology</strong></td><td>phyllonite</td></tr></table></td><td style=\"color:black; background-color:white\">None</td><td style=\"color:#000000; background-color:#ac7f50\">#ac7f50</td><td style=\"color:black; background-color:white\">None</td></tr><tr><td style=\"color:black; background-color:white\"><table><tr><td><strong>lithology</strong></td><td>mylonite</td></tr></table></td><td style=\"color:black; background-color:white\">None</td><td style=\"color:#ffffff; background-color:#6d5033\">#6d5033</td><td style=\"color:black; background-color:white\">None</td></tr><tr><td style=\"color:black; background-color:white\"><table><tr><td><strong>lithology</strong></td><td>flaser gneiss</td></tr></table></td><td style=\"color:black; background-color:white\">None</td><td style=\"color:#ffffff; background-color:#64020b\">#64020b</td><td style=\"color:black; background-color:white\">None</td></tr><tr><td style=\"color:black; background-color:white\"><table><tr><td><strong>lithology</strong></td><td>augen gneiss</td></tr></table></td><td style=\"color:black; background-color:white\">None</td><td style=\"color:#ffffff; background-color:#887f50\">#887f50</td><td style=\"color:black; background-color:white\">None</td></tr></table>"
      ],
      "text/plain": [
       "Legend(Decor({'_colour': '#fdf43f', 'component': Component({'lithology': 'unconsolidated material'}), 'hatch': None, 'width': None})\n",
       "Decor({'_colour': '#ffff89', 'component': Component({'lithology': 'alluvium'}), 'hatch': None, 'width': None})\n",
       "Decor({'_colour': '#ffffd5', 'component': Component({'lithology': 'flood plain'}), 'hatch': None, 'width': None})\n",
       "Decor({'_colour': '#fffae9', 'component': Component({'lithology': 'levee'}), 'hatch': None, 'width': None})\n",
       "Decor({'_colour': '#fffac8', 'component': Component({'lithology': 'delta'}), 'hatch': None, 'width': None})\n",
       "Decor({'_colour': '#ffffb7', 'component': Component({'lithology': 'alluvial fan'}), 'hatch': None, 'width': None})\n",
       "Decor({'_colour': '#faee7a', 'component': Component({'lithology': 'alluvial terrace'}), 'hatch': None, 'width': None})\n",
       "Decor({'_colour': '#f4efe4', 'component': Component({'lithology': 'lake or marine sediment'}), 'hatch': None, 'width': None})\n",
       "Decor({'_colour': '#f1e5df', 'component': Component({'lithology': 'playa'}), 'hatch': None, 'width': None})\n",
       "Decor({'_colour': '#e4d0be', 'component': Component({'lithology': 'mud flat'}), 'hatch': None, 'width': None})\n",
       "Decor({'_colour': '#e4d8be', 'component': Component({'lithology': 'beach sand'}), 'hatch': None, 'width': None})\n",
       "Decor({'_colour': '#fff6d9', 'component': Component({'lithology': 'terrace'}), 'hatch': None, 'width': None})\n",
       "Decor({'_colour': '#e0c59e', 'component': Component({'lithology': 'eolian material'}), 'hatch': None, 'width': None})\n",
       "Decor({'_colour': '#e0d2b4', 'component': Component({'lithology': 'dune sand'}), 'hatch': None, 'width': None})\n",
       "Decor({'_colour': '#dbcca9', 'component': Component({'lithology': 'sand sheet'}), 'hatch': None, 'width': None})\n",
       "Decor({'_colour': '#f5e1bd', 'component': Component({'lithology': 'loess'}), 'hatch': None, 'width': None})\n",
       "Decor({'_colour': '#e0b09e', 'component': Component({'lithology': 'volcanic ash'}), 'hatch': None, 'width': None})\n",
       "Decor({'_colour': '#cfbb8f', 'component': Component({'lithology': 'mass wasting material'}), 'hatch': None, 'width': None})\n",
       "Decor({'_colour': '#e1e3c3', 'component': Component({'lithology': 'colluvium'}), 'hatch': None, 'width': None})\n",
       "Decor({'_colour': '#e5dbb3', 'component': Component({'lithology': 'mudflow'}), 'hatch': None, 'width': None})\n",
       "Decor({'_colour': '#dcd5b4', 'component': Component({'lithology': 'lahar'}), 'hatch': None, 'width': None})\n",
       "Decor({'_colour': '#d3ca9f', 'component': Component({'lithology': 'debris flow'}), 'hatch': None, 'width': None})\n",
       "Decor({'_colour': '#c9be89', 'component': Component({'lithology': 'landslide'}), 'hatch': None, 'width': None})\n",
       "Decor({'_colour': '#bcaf6c', 'component': Component({'lithology': 'talus'}), 'hatch': None, 'width': None})\n",
       "Decor({'_colour': '#bfa743', 'component': Component({'lithology': 'glacial drift'}), 'hatch': None, 'width': None})\n",
       "Decor({'_colour': '#d2c27c', 'component': Component({'lithology': 'till'}), 'hatch': None, 'width': None})\n",
       "Decor({'_colour': '#ffeebf', 'component': Component({'lithology': 'moraine'}), 'hatch': None, 'width': None})\n",
       "Decor({'_colour': '#ffe59d', 'component': Component({'lithology': 'stratified glacial sediment'}), 'hatch': None, 'width': None})\n",
       "Decor({'_colour': '#ffdf85', 'component': Component({'lithology': 'glacial outwash sediment'}), 'hatch': None, 'width': None})\n",
       "Decor({'_colour': '#fee670', 'component': Component({'lithology': 'sub/supra-glacial sediment'}), 'hatch': None, 'width': None})\n",
       "Decor({'_colour': '#fee258', 'component': Component({'lithology': 'glaciolacustrine sediment'}), 'hatch': None, 'width': None})\n",
       "Decor({'_colour': '#fedb2e', 'component': Component({'lithology': 'glacial-marine sediment'}), 'hatch': None, 'width': None})\n",
       "Decor({'_colour': '#f7f3a1', 'component': Component({'lithology': 'biogenic rock'}), 'hatch': None, 'width': None})\n",
       "Decor({'_colour': '#ffcf81', 'component': Component({'lithology': 'peat'}), 'hatch': None, 'width': None})\n",
       "Decor({'_colour': '#ffcc99', 'component': Component({'lithology': 'coral'}), 'hatch': None, 'width': None})\n",
       "Decor({'_colour': '#ffe389', 'component': Component({'lithology': 'residuum'}), 'hatch': None, 'width': None})\n",
       "Decor({'_colour': '#ffdb67', 'component': Component({'lithology': 'clay or mud'}), 'hatch': None, 'width': None})\n",
       "Decor({'_colour': '#ffd345', 'component': Component({'lithology': 'silt'}), 'hatch': None, 'width': None})\n",
       "Decor({'_colour': '#ffcb23', 'component': Component({'lithology': 'sand'}), 'hatch': None, 'width': None})\n",
       "Decor({'_colour': '#ecb400', 'component': Component({'lithology': 'gravel'}), 'hatch': None, 'width': None})\n",
       "Decor({'_colour': '#92dcb7', 'component': Component({'lithology': 'sedimentary rock'}), 'hatch': None, 'width': None})\n",
       "Decor({'_colour': '#d9fdd3', 'component': Component({'lithology': 'clastic rock'}), 'hatch': None, 'width': None})\n",
       "Decor({'_colour': '#cfefdf', 'component': Component({'lithology': 'mudstone'}), 'hatch': None, 'width': None})\n",
       "Decor({'_colour': '#d5e6cc', 'component': Component({'lithology': 'claystone'}), 'hatch': None, 'width': None})\n",
       "Decor({'_colour': '#c0d0c0', 'component': Component({'lithology': 'bentonite'}), 'hatch': None, 'width': None})\n",
       "Decor({'_colour': '#ace4c8', 'component': Component({'lithology': 'shale'}), 'hatch': None, 'width': None})\n",
       "Decor({'_colour': '#dbfebc', 'component': Component({'lithology': 'black shale'}), 'hatch': None, 'width': None})\n",
       "Decor({'_colour': '#bbffdd', 'component': Component({'lithology': 'oil shale'}), 'hatch': None, 'width': None})\n",
       "Decor({'_colour': '#e1f0d8', 'component': Component({'lithology': 'argillite'}), 'hatch': None, 'width': None})\n",
       "Decor({'_colour': '#d6fe9a', 'component': Component({'lithology': 'siltstone'}), 'hatch': None, 'width': None})\n",
       "Decor({'_colour': '#95ffca', 'component': Component({'lithology': 'fine-grained mixed clastic rock'}), 'hatch': None, 'width': None})\n",
       "Decor({'_colour': '#cdffd9', 'component': Component({'lithology': 'sandstone'}), 'hatch': None, 'width': None})\n",
       "Decor({'_colour': '#a6fcaa', 'component': Component({'lithology': 'arenite'}), 'hatch': None, 'width': None})\n",
       "Decor({'_colour': '#cbefce', 'component': Component({'lithology': 'orthoquartzite'}), 'hatch': None, 'width': None})\n",
       "Decor({'_colour': '#9acefe', 'component': Component({'lithology': 'calcarenite'}), 'hatch': None, 'width': None})\n",
       "Decor({'_colour': '#69cf9c', 'component': Component({'lithology': 'arkose'}), 'hatch': None, 'width': None})\n",
       "Decor({'_colour': '#bddbf1', 'component': Component({'lithology': 'wacke'}), 'hatch': None, 'width': None})\n",
       "Decor({'_colour': '#b8eac3', 'component': Component({'lithology': 'graywacke'}), 'hatch': None, 'width': None})\n",
       "Decor({'_colour': '#90a565', 'component': Component({'lithology': 'medium-grained mixed clastic rock'}), 'hatch': None, 'width': None})\n",
       "Decor({'_colour': '#b7d9cc', 'component': Component({'lithology': 'conglomerate'}), 'hatch': None, 'width': None})\n",
       "Decor({'_colour': '#a7ba86', 'component': Component({'lithology': 'sedimentary breccia'}), 'hatch': None, 'width': None})\n",
       "Decor({'_colour': '#a5aaad', 'component': Component({'lithology': 'coarse-grained mixed clastic rock'}), 'hatch': None, 'width': None})\n",
       "Decor({'_colour': '#8dbecd', 'component': Component({'lithology': 'olistostrome'}), 'hatch': None, 'width': None})\n",
       "Decor({'_colour': '#bbc0c5', 'component': Component({'lithology': 'melange'}), 'hatch': None, 'width': None})\n",
       "Decor({'_colour': '#56e0fc', 'component': Component({'lithology': 'carbonate rock'}), 'hatch': None, 'width': None})\n",
       "Decor({'_colour': '#43aff9', 'component': Component({'lithology': 'limestone'}), 'hatch': None, 'width': None})\n",
       "Decor({'_colour': '#6bc3ff', 'component': Component({'lithology': 'dolostone'}), 'hatch': None, 'width': None})\n",
       "Decor({'_colour': '#38b4b1', 'component': Component({'lithology': 'mixed carbonate/clastic rock'}), 'hatch': None, 'width': None})\n",
       "Decor({'_colour': '#60ccbf', 'component': Component({'lithology': 'mixed volcanic/clastic rock'}), 'hatch': None, 'width': None})\n",
       "Decor({'_colour': '#bfe3dc', 'component': Component({'lithology': 'phosphorite'}), 'hatch': None, 'width': None})\n",
       "Decor({'_colour': '#cddeff', 'component': Component({'lithology': 'chemical sedimentary rock'}), 'hatch': None, 'width': None})\n",
       "Decor({'_colour': '#019ccd', 'component': Component({'lithology': 'evaporite'}), 'hatch': None, 'width': None})\n",
       "Decor({'_colour': '#9abfc0', 'component': Component({'lithology': 'chert'}), 'hatch': None, 'width': None})\n",
       "Decor({'_colour': '#c0aeb6', 'component': Component({'lithology': 'novaculite'}), 'hatch': None, 'width': None})\n",
       "Decor({'_colour': '#b99598', 'component': Component({'lithology': 'iron formation'}), 'hatch': None, 'width': None})\n",
       "Decor({'_colour': '#d9c2a3', 'component': Component({'lithology': 'exhalite'}), 'hatch': None, 'width': None})\n",
       "Decor({'_colour': '#820041', 'component': Component({'lithology': 'coal'}), 'hatch': None, 'width': None})\n",
       "Decor({'_colour': '#6e4909', 'component': Component({'lithology': 'mixed coal and clastic rock'}), 'hatch': None, 'width': None})\n",
       "Decor({'_colour': '#fc6e7c', 'component': Component({'lithology': 'plutonic rock'}), 'hatch': None, 'width': None})\n",
       "Decor({'_colour': '#ffc1b7', 'component': Component({'lithology': 'aplite'}), 'hatch': None, 'width': None})\n",
       "Decor({'_colour': '#ffe1e8', 'component': Component({'lithology': 'porphyry'}), 'hatch': None, 'width': None})\n",
       "Decor({'_colour': '#e45891', 'component': Component({'lithology': 'lampophyre'}), 'hatch': None, 'width': None})\n",
       "Decor({'_colour': '#ffeff3', 'component': Component({'lithology': 'pegmatite'}), 'hatch': None, 'width': None})\n",
       "Decor({'_colour': '#dd2972', 'component': Component({'lithology': 'granitoid'}), 'hatch': None, 'width': None})\n",
       "Decor({'_colour': '#ffd1dc', 'component': Component({'lithology': 'alkali-feldspar granite'}), 'hatch': None, 'width': None})\n",
       "Decor({'_colour': '#f9b5bb', 'component': Component({'lithology': 'granite'}), 'hatch': None, 'width': None})\n",
       "Decor({'_colour': '#f8beae', 'component': Component({'lithology': 'peraluminous granite'}), 'hatch': None, 'width': None})\n",
       "Decor({'_colour': '#ffb3c5', 'component': Component({'lithology': 'metaluminous granite'}), 'hatch': None, 'width': None})\n",
       "Decor({'_colour': '#ff6f6b', 'component': Component({'lithology': 'subaluminous granite'}), 'hatch': None, 'width': None})\n",
       "Decor({'_colour': '#fc5262', 'component': Component({'lithology': 'peralkaline granite'}), 'hatch': None, 'width': None})\n",
       "Decor({'_colour': '#e979a6', 'component': Component({'lithology': 'granodiorite'}), 'hatch': None, 'width': None})\n",
       "Decor({'_colour': '#fcb6b6', 'component': Component({'lithology': 'tonalite'}), 'hatch': None, 'width': None})\n",
       "Decor({'_colour': '#ffa7bc', 'component': Component({'lithology': 'trondhjemite'}), 'hatch': None, 'width': None})\n",
       "Decor({'_colour': '#f43c6c', 'component': Component({'lithology': 'alkali-feldpar syenite'}), 'hatch': None, 'width': None})\n",
       "Decor({'_colour': '#fb2338', 'component': Component({'lithology': 'quartz syenite'}), 'hatch': None, 'width': None})\n",
       "Decor({'_colour': '#f41a87', 'component': Component({'lithology': 'syenite'}), 'hatch': None, 'width': None})\n",
       "Decor({'_colour': '#ff6388', 'component': Component({'lithology': 'quartz monzonite'}), 'hatch': None, 'width': None})\n",
       "Decor({'_colour': '#ff275a', 'component': Component({'lithology': 'monzonite'}), 'hatch': None, 'width': None})\n",
       "Decor({'_colour': '#ff819f', 'component': Component({'lithology': 'quartz monzodiorite'}), 'hatch': None, 'width': None})\n",
       "Decor({'_colour': '#ffa99d', 'component': Component({'lithology': 'monzodiorite'}), 'hatch': None, 'width': None})\n",
       "Decor({'_colour': '#e81c00', 'component': Component({'lithology': 'quartz diorite'}), 'hatch': None, 'width': None})\n",
       "Decor({'_colour': '#ff3317', 'component': Component({'lithology': 'diorite'}), 'hatch': None, 'width': None})\n",
       "Decor({'_colour': '#d60000', 'component': Component({'lithology': 'diabase'}), 'hatch': None, 'width': None})\n",
       "Decor({'_colour': '#ac0000', 'component': Component({'lithology': 'gabbroid'}), 'hatch': None, 'width': None})\n",
       "Decor({'_colour': '#ff6f5b', 'component': Component({'lithology': 'quartz monzogabbro'}), 'hatch': None, 'width': None})\n",
       "Decor({'_colour': '#e377ad', 'component': Component({'lithology': 'monzogabbro'}), 'hatch': None, 'width': None})\n",
       "Decor({'_colour': '#eda7ca', 'component': Component({'lithology': 'quartz gabbro'}), 'hatch': None, 'width': None})\n",
       "Decor({'_colour': '#e993be', 'component': Component({'lithology': 'gabbro'}), 'hatch': None, 'width': None})\n",
       "Decor({'_colour': '#ffd6d1', 'component': Component({'lithology': 'norite'}), 'hatch': None, 'width': None})\n",
       "Decor({'_colour': '#ffbfce', 'component': Component({'lithology': 'troctolite'}), 'hatch': None, 'width': None})\n",
       "Decor({'_colour': '#ff95ae', 'component': Component({'lithology': 'anorthosite'}), 'hatch': None, 'width': None})\n",
       "Decor({'_colour': '#ff6f91', 'component': Component({'lithology': 'alkalic intrusive rock'}), 'hatch': None, 'width': None})\n",
       "Decor({'_colour': '#ff1b51', 'component': Component({'lithology': 'nepheline syenite'}), 'hatch': None, 'width': None})\n",
       "Decor({'_colour': '#e80037', 'component': Component({'lithology': 'ultramafic intrusive rock'}), 'hatch': None, 'width': None})\n",
       "Decor({'_colour': '#ce0031', 'component': Component({'lithology': 'peridotite'}), 'hatch': None, 'width': None})\n",
       "Decor({'_colour': '#b0002a', 'component': Component({'lithology': 'dunite'}), 'hatch': None, 'width': None})\n",
       "Decor({'_colour': '#c1010a', 'component': Component({'lithology': 'kimberlite'}), 'hatch': None, 'width': None})\n",
       "Decor({'_colour': '#940023', 'component': Component({'lithology': 'pyroxenite'}), 'hatch': None, 'width': None})\n",
       "Decor({'_colour': '#a30109', 'component': Component({'lithology': 'hornblendite'}), 'hatch': None, 'width': None})\n",
       "Decor({'_colour': '#750107', 'component': Component({'lithology': 'intrusive carbonatite'}), 'hatch': None, 'width': None})\n",
       "Decor({'_colour': '#ffb7de', 'component': Component({'lithology': 'volcanic rock'}), 'hatch': None, 'width': None})\n",
       "Decor({'_colour': '#ffc3e4', 'component': Component({'lithology': 'glassy volcanic rock'}), 'hatch': None, 'width': None})\n",
       "Decor({'_colour': '#ffd1ea', 'component': Component({'lithology': 'obsidian'}), 'hatch': None, 'width': None})\n",
       "Decor({'_colour': '#ffc3f8', 'component': Component({'lithology': 'vitrophyre'}), 'hatch': None, 'width': None})\n",
       "Decor({'_colour': '#ffe5f3', 'component': Component({'lithology': 'pumice'}), 'hatch': None, 'width': None})\n",
       "Decor({'_colour': '#ffe0de', 'component': Component({'lithology': 'pyroclastic'}), 'hatch': None, 'width': None})\n",
       "Decor({'_colour': '#f9d3d3', 'component': Component({'lithology': 'tuff'}), 'hatch': None, 'width': None})\n",
       "Decor({'_colour': '#fff3c9', 'component': Component({'lithology': 'welded tuff'}), 'hatch': None, 'width': None})\n",
       "Decor({'_colour': '#ffefd9', 'component': Component({'lithology': 'ash-flow tuff'}), 'hatch': None, 'width': None})\n",
       "Decor({'_colour': '#ffe5c3', 'component': Component({'lithology': 'ignimbrite'}), 'hatch': None, 'width': None})\n",
       "Decor({'_colour': '#ffd59d', 'component': Component({'lithology': 'volcanic breccia'}), 'hatch': None, 'width': None})\n",
       "Decor({'_colour': '#ffa227', 'component': Component({'lithology': 'lava flow'}), 'hatch': None, 'width': None})\n",
       "Decor({'_colour': '#ffc16f', 'component': Component({'lithology': 'bimodal suite'}), 'hatch': None, 'width': None})\n",
       "Decor({'_colour': '#f48b00', 'component': Component({'lithology': 'felsic volcanic rock'}), 'hatch': None, 'width': None})\n",
       "Decor({'_colour': '#fedc7e', 'component': Component({'lithology': 'alkali-feldspar rhyolite'}), 'hatch': None, 'width': None})\n",
       "Decor({'_colour': '#fecc68', 'component': Component({'lithology': 'rhyolite'}), 'hatch': None, 'width': None})\n",
       "Decor({'_colour': '#fec62a', 'component': Component({'lithology': 'rhyodacite'}), 'hatch': None, 'width': None})\n",
       "Decor({'_colour': '#fecdac', 'component': Component({'lithology': 'dacite'}), 'hatch': None, 'width': None})\n",
       "Decor({'_colour': '#feb786', 'component': Component({'lithology': 'alkali-feldspar trachyte'}), 'hatch': None, 'width': None})\n",
       "Decor({'_colour': '#fea060', 'component': Component({'lithology': 'trachyte'}), 'hatch': None, 'width': None})\n",
       "Decor({'_colour': '#fe8736', 'component': Component({'lithology': 'quartz latite'}), 'hatch': None, 'width': None})\n",
       "Decor({'_colour': '#fe7518', 'component': Component({'lithology': 'latite'}), 'hatch': None, 'width': None})\n",
       "Decor({'_colour': '#eb6001', 'component': Component({'lithology': 'intermediate volcanic rock'}), 'hatch': None, 'width': None})\n",
       "Decor({'_colour': '#c95201', 'component': Component({'lithology': 'trachyandesite'}), 'hatch': None, 'width': None})\n",
       "Decor({'_colour': '#b14801', 'component': Component({'lithology': 'andesite'}), 'hatch': None, 'width': None})\n",
       "Decor({'_colour': '#933c01', 'component': Component({'lithology': 'mafic volcanic rock'}), 'hatch': None, 'width': None})\n",
       "Decor({'_colour': '#ecd5c6', 'component': Component({'lithology': 'trachybasalt'}), 'hatch': None, 'width': None})\n",
       "Decor({'_colour': '#ddb397', 'component': Component({'lithology': 'basalt'}), 'hatch': None, 'width': None})\n",
       "Decor({'_colour': '#d39d79', 'component': Component({'lithology': 'tholeite'}), 'hatch': None, 'width': None})\n",
       "Decor({'_colour': '#c68050', 'component': Component({'lithology': 'hawaiite'}), 'hatch': None, 'width': None})\n",
       "Decor({'_colour': '#a96537', 'component': Component({'lithology': 'alkaline basalt'}), 'hatch': None, 'width': None})\n",
       "Decor({'_colour': '#c24100', 'component': Component({'lithology': 'alkalic volcanic rock'}), 'hatch': None, 'width': None})\n",
       "Decor({'_colour': '#5f391f', 'component': Component({'lithology': 'phonolite'}), 'hatch': None, 'width': None})\n",
       "Decor({'_colour': '#854f2b', 'component': Component({'lithology': 'tephrite'}), 'hatch': None, 'width': None})\n",
       "Decor({'_colour': '#a03500', 'component': Component({'lithology': 'ultramafitite'}), 'hatch': None, 'width': None})\n",
       "Decor({'_colour': '#6e2500', 'component': Component({'lithology': 'volcanic carbonatite'}), 'hatch': None, 'width': None})\n",
       "Decor({'_colour': '#a7a7ff', 'component': Component({'lithology': 'metamorphic rock'}), 'hatch': None, 'width': None})\n",
       "Decor({'_colour': '#eaafff', 'component': Component({'lithology': 'hornfels'}), 'hatch': None, 'width': None})\n",
       "Decor({'_colour': '#7dff7d', 'component': Component({'lithology': 'metasedimentary rock'}), 'hatch': None, 'width': None})\n",
       "Decor({'_colour': '#c9ffc9', 'component': Component({'lithology': 'meta-argillite'}), 'hatch': None, 'width': None})\n",
       "Decor({'_colour': '#e6cdff', 'component': Component({'lithology': 'slate'}), 'hatch': None, 'width': None})\n",
       "Decor({'_colour': '#9fff9f', 'component': Component({'lithology': 'quartzite'}), 'hatch': None, 'width': None})\n",
       "Decor({'_colour': '#e9ffe9', 'component': Component({'lithology': 'metaconglomerate'}), 'hatch': None, 'width': None})\n",
       "Decor({'_colour': '#0000ff', 'component': Component({'lithology': 'marble'}), 'hatch': None, 'width': None})\n",
       "Decor({'_colour': '#ff57ff', 'component': Component({'lithology': 'metavolcanic rock'}), 'hatch': None, 'width': None})\n",
       "Decor({'_colour': '#ff8dff', 'component': Component({'lithology': 'felsic metavolcanic rock'}), 'hatch': None, 'width': None})\n",
       "Decor({'_colour': '#ffa7ff', 'component': Component({'lithology': 'metarhyolite'}), 'hatch': None, 'width': None})\n",
       "Decor({'_colour': '#fe6700', 'component': Component({'lithology': 'keratophyre'}), 'hatch': None, 'width': None})\n",
       "Decor({'_colour': '#ff0000', 'component': Component({'lithology': 'intermediate metavolcanic rock'}), 'hatch': None, 'width': None})\n",
       "Decor({'_colour': '#b93b68', 'component': Component({'lithology': 'mafic metavolcanic rock'}), 'hatch': None, 'width': None})\n",
       "Decor({'_colour': '#872b4c', 'component': Component({'lithology': 'metabasalt'}), 'hatch': None, 'width': None})\n",
       "Decor({'_colour': '#c9557e', 'component': Component({'lithology': 'spilite'}), 'hatch': None, 'width': None})\n",
       "Decor({'_colour': '#008000', 'component': Component({'lithology': 'greenstone'}), 'hatch': None, 'width': None})\n",
       "Decor({'_colour': '#b4cfe4', 'component': Component({'lithology': 'phyllite'}), 'hatch': None, 'width': None})\n",
       "Decor({'_colour': '#dbdbe7', 'component': Component({'lithology': 'schist'}), 'hatch': None, 'width': None})\n",
       "Decor({'_colour': '#ededf3', 'component': Component({'lithology': 'greenschist'}), 'hatch': None, 'width': None})\n",
       "Decor({'_colour': '#c0c0c0', 'component': Component({'lithology': 'blueschist'}), 'hatch': None, 'width': None})\n",
       "Decor({'_colour': '#b1b1b1', 'component': Component({'lithology': 'mica schist'}), 'hatch': None, 'width': None})\n",
       "Decor({'_colour': '#cacadc', 'component': Component({'lithology': 'pelitic schist'}), 'hatch': None, 'width': None})\n",
       "Decor({'_colour': '#a2a2c0', 'component': Component({'lithology': 'quartz-feldspar schist'}), 'hatch': None, 'width': None})\n",
       "Decor({'_colour': '#b6b6ce', 'component': Component({'lithology': 'calc-silicate schist'}), 'hatch': None, 'width': None})\n",
       "Decor({'_colour': '#969696', 'component': Component({'lithology': 'amphibole schist'}), 'hatch': None, 'width': None})\n",
       "Decor({'_colour': '#a337fd', 'component': Component({'lithology': 'granofels'}), 'hatch': None, 'width': None})\n",
       "Decor({'_colour': '#ecd6fe', 'component': Component({'lithology': 'gneiss'}), 'hatch': None, 'width': None})\n",
       "Decor({'_colour': '#e0bcfe', 'component': Component({'lithology': 'felsic gneiss'}), 'hatch': None, 'width': None})\n",
       "Decor({'_colour': '#d5a4fe', 'component': Component({'lithology': 'granitic gneiss'}), 'hatch': None, 'width': None})\n",
       "Decor({'_colour': '#c886fe', 'component': Component({'lithology': 'biotite gneiss'}), 'hatch': None, 'width': None})\n",
       "Decor({'_colour': '#ccb7ff', 'component': Component({'lithology': 'mafic gneiss'}), 'hatch': None, 'width': None})\n",
       "Decor({'_colour': '#b395ff', 'component': Component({'lithology': 'orthogneiss'}), 'hatch': None, 'width': None})\n",
       "Decor({'_colour': '#9063ff', 'component': Component({'lithology': 'paragneiss'}), 'hatch': None, 'width': None})\n",
       "Decor({'_colour': '#9f00ca', 'component': Component({'lithology': 'migmatite'}), 'hatch': None, 'width': None})\n",
       "Decor({'_colour': '#7b009c', 'component': Component({'lithology': 'amphibolite'}), 'hatch': None, 'width': None})\n",
       "Decor({'_colour': '#6a006a', 'component': Component({'lithology': 'granulite'}), 'hatch': None, 'width': None})\n",
       "Decor({'_colour': '#ce9dff', 'component': Component({'lithology': 'eclogite'}), 'hatch': None, 'width': None})\n",
       "Decor({'_colour': '#a449ff', 'component': Component({'lithology': 'greisen'}), 'hatch': None, 'width': None})\n",
       "Decor({'_colour': '#8103ff', 'component': Component({'lithology': 'skarn'}), 'hatch': None, 'width': None})\n",
       "Decor({'_colour': '#46008c', 'component': Component({'lithology': 'calc-silicate rock'}), 'hatch': None, 'width': None})\n",
       "Decor({'_colour': '#005c00', 'component': Component({'lithology': 'serpentinite'}), 'hatch': None, 'width': None})\n",
       "Decor({'_colour': '#84613e', 'component': Component({'lithology': 'tectonite'}), 'hatch': None, 'width': None})\n",
       "Decor({'_colour': '#d0cbb0', 'component': Component({'lithology': 'tectonic melange'}), 'hatch': None, 'width': None})\n",
       "Decor({'_colour': '#b0a778', 'component': Component({'lithology': 'tectonic breccia'}), 'hatch': None, 'width': None})\n",
       "Decor({'_colour': '#887f50', 'component': Component({'lithology': 'cataclasite'}), 'hatch': None, 'width': None})\n",
       "Decor({'_colour': '#ac7f50', 'component': Component({'lithology': 'phyllonite'}), 'hatch': None, 'width': None})\n",
       "Decor({'_colour': '#6d5033', 'component': Component({'lithology': 'mylonite'}), 'hatch': None, 'width': None})\n",
       "Decor({'_colour': '#64020b', 'component': Component({'lithology': 'flaser gneiss'}), 'hatch': None, 'width': None})\n",
       "Decor({'_colour': '#887f50', 'component': Component({'lithology': 'augen gneiss'}), 'hatch': None, 'width': None}))"
      ]
     },
     "execution_count": 22,
     "metadata": {},
     "output_type": "execute_result"
    }
   ],
   "source": [
    "Legend.default()"
   ]
  },
  {
   "cell_type": "markdown",
   "metadata": {},
   "source": [
    "There are also default timescales:"
   ]
  },
  {
   "cell_type": "code",
   "execution_count": 23,
   "metadata": {
    "collapsed": false,
    "internals": {},
    "slideshow": {
     "slide_type": "-"
    }
   },
   "outputs": [
    {
     "data": {
      "text/html": [
       "<table><tr><th>component</th><th>hatch</th><th>colour</th><th>width</th></tr><tr><td style=\"color:black; background-color:white\"><table><tr><td><strong>age</strong></td><td>phanerozoic</td></tr></table></td><td style=\"color:black; background-color:white\">None</td><td style=\"color:#000000; background-color:#6fdaed\">#6fdaed</td><td style=\"color:black; background-color:white\">None</td></tr><tr><td style=\"color:black; background-color:white\"><table><tr><td><strong>age</strong></td><td>cenozoic</td></tr></table></td><td style=\"color:black; background-color:white\">None</td><td style=\"color:#000000; background-color:#f6ec39\">#f6ec39</td><td style=\"color:black; background-color:white\">None</td></tr><tr><td style=\"color:black; background-color:white\"><table><tr><td><strong>age</strong></td><td>quaternary</td></tr></table></td><td style=\"color:black; background-color:white\">None</td><td style=\"color:#000000; background-color:#fef691\">#fef691</td><td style=\"color:black; background-color:white\">None</td></tr><tr><td style=\"color:black; background-color:white\"><table><tr><td><strong>age</strong></td><td>tertiary</td></tr></table></td><td style=\"color:black; background-color:white\">None</td><td style=\"color:#000000; background-color:#f2f902\">#f2f902</td><td style=\"color:black; background-color:white\">None</td></tr><tr><td style=\"color:black; background-color:white\"><table><tr><td><strong>age</strong></td><td>neogene</td></tr></table></td><td style=\"color:black; background-color:white\">None</td><td style=\"color:#000000; background-color:#fedd2d\">#fedd2d</td><td style=\"color:black; background-color:white\">None</td></tr><tr><td style=\"color:black; background-color:white\"><table><tr><td><strong>age</strong></td><td>holocene</td></tr></table></td><td style=\"color:black; background-color:white\">None</td><td style=\"color:#000000; background-color:#fef1e0\">#fef1e0</td><td style=\"color:black; background-color:white\">None</td></tr><tr><td style=\"color:black; background-color:white\"><table><tr><td><strong>age</strong></td><td>pleistocene</td></tr></table></td><td style=\"color:black; background-color:white\">None</td><td style=\"color:#000000; background-color:#feefb8\">#feefb8</td><td style=\"color:black; background-color:white\">None</td></tr><tr><td style=\"color:black; background-color:white\"><table><tr><td><strong>age</strong></td><td>upper pleistocene</td></tr></table></td><td style=\"color:black; background-color:white\">None</td><td style=\"color:#000000; background-color:#fef1d6\">#fef1d6</td><td style=\"color:black; background-color:white\">None</td></tr><tr><td style=\"color:black; background-color:white\"><table><tr><td><strong>age</strong></td><td>tarantian</td></tr></table></td><td style=\"color:black; background-color:white\">None</td><td style=\"color:#000000; background-color:#fef1d6\">#fef1d6</td><td style=\"color:black; background-color:white\">None</td></tr><tr><td style=\"color:black; background-color:white\"><table><tr><td><strong>age</strong></td><td>middle pleistocene</td></tr></table></td><td style=\"color:black; background-color:white\">None</td><td style=\"color:#000000; background-color:#fef0cc\">#fef0cc</td><td style=\"color:black; background-color:white\">None</td></tr></table>"
      ],
      "text/plain": [
       "Legend(Decor({'_colour': '#6fdaed', 'component': Component({'age': 'phanerozoic'}), 'hatch': None, 'width': None})\n",
       "Decor({'_colour': '#f6ec39', 'component': Component({'age': 'cenozoic'}), 'hatch': None, 'width': None})\n",
       "Decor({'_colour': '#fef691', 'component': Component({'age': 'quaternary'}), 'hatch': None, 'width': None})\n",
       "Decor({'_colour': '#f2f902', 'component': Component({'age': 'tertiary'}), 'hatch': None, 'width': None})\n",
       "Decor({'_colour': '#fedd2d', 'component': Component({'age': 'neogene'}), 'hatch': None, 'width': None})\n",
       "Decor({'_colour': '#fef1e0', 'component': Component({'age': 'holocene'}), 'hatch': None, 'width': None})\n",
       "Decor({'_colour': '#feefb8', 'component': Component({'age': 'pleistocene'}), 'hatch': None, 'width': None})\n",
       "Decor({'_colour': '#fef1d6', 'component': Component({'age': 'upper pleistocene'}), 'hatch': None, 'width': None})\n",
       "Decor({'_colour': '#fef1d6', 'component': Component({'age': 'tarantian'}), 'hatch': None, 'width': None})\n",
       "Decor({'_colour': '#fef0cc', 'component': Component({'age': 'middle pleistocene'}), 'hatch': None, 'width': None}))"
      ]
     },
     "execution_count": 23,
     "metadata": {},
     "output_type": "execute_result"
    }
   ],
   "source": [
    "time = Legend.default_timescale()\n",
    "time[:10]"
   ]
  },
  {
   "cell_type": "markdown",
   "metadata": {},
   "source": [
    "## Legend from image"
   ]
  },
  {
   "cell_type": "code",
   "execution_count": 24,
   "metadata": {
    "collapsed": false
   },
   "outputs": [
    {
     "data": {
      "image/png": "[encoded data removed]",
      "text/plain": [
       "<IPython.core.display.Image object>"
      ]
     },
     "execution_count": 24,
     "metadata": {
      "image/png": {
       "width": 15
      }
     },
     "output_type": "execute_result"
    }
   ],
   "source": [
    "from IPython.display import Image\n",
    "Image('z_Lithology_legend_gapless2.png', width=15)"
   ]
  },
  {
   "cell_type": "code",
   "execution_count": 25,
   "metadata": {
    "collapsed": true
   },
   "outputs": [],
   "source": [
    "liths = [\n",
    "'Conglomerate', \n",
    "'Sandstone',\n",
    "'Sandstone',\n",
    "'Sandstone',\n",
    "'Sandstone',\n",
    "'Sandstone',\n",
    "'Siltstone',\n",
    "'Siltstone',\n",
    "'Heterolithic',\n",
    "'Heterolithic',\n",
    "'Mudstone',\n",
    "'Mudstone',\n",
    "'Limestone',\n",
    "'Dolomite',\n",
    "'Anhydrite',\n",
    "'Halite',\n",
    "'Coal',\n",
    "'Volcanic',\n",
    "'NULL',\n",
    "]\n",
    "\n",
    "colours = [\n",
    "None, \n",
    "'Grey',\n",
    "'Red',\n",
    "'Grey',\n",
    "'Grey',\n",
    "'Red',\n",
    "'Grey',\n",
    "'Red',\n",
    "'Grey',\n",
    "'Red',\n",
    "'Grey',\n",
    "'Red',\n",
    "None, \n",
    "None, \n",
    "None, \n",
    "None, \n",
    "None, \n",
    "None, \n",
    "None, \n",
    "]"
   ]
  },
  {
   "cell_type": "code",
   "execution_count": 26,
   "metadata": {
    "collapsed": false
   },
   "outputs": [],
   "source": [
    "components = [Component({'lithology': l, 'colour': c}) for l, c in zip(liths, colours)]"
   ]
  },
  {
   "cell_type": "code",
   "execution_count": 27,
   "metadata": {
    "collapsed": false
   },
   "outputs": [
    {
     "data": {
      "image/png": "[encoded data removed]",
      "text/plain": [
       "<matplotlib.figure.Figure at 0x11054d0b8>"
      ]
     },
     "metadata": {},
     "output_type": "display_data"
    },
    {
     "data": {
      "image/png": "[encoded data removed]",
      "text/plain": [
       "<matplotlib.figure.Figure at 0x1104c7f28>"
      ]
     },
     "metadata": {},
     "output_type": "display_data"
    },
    {
     "data": {
      "image/png": "[encoded data removed]",
      "text/plain": [
       "<matplotlib.figure.Figure at 0x110447ba8>"
      ]
     },
     "metadata": {},
     "output_type": "display_data"
    },
    {
     "data": {
      "image/png": "[encoded data removed]",
      "text/plain": [
       "<matplotlib.figure.Figure at 0x1108cf390>"
      ]
     },
     "metadata": {},
     "output_type": "display_data"
    },
    {
     "data": {
      "image/png": "[encoded data removed]",
      "text/plain": [
       "<matplotlib.figure.Figure at 0x1103c90b8>"
      ]
     },
     "metadata": {},
     "output_type": "display_data"
    },
    {
     "data": {
      "image/png": "[encoded data removed]",
      "text/plain": [
       "<matplotlib.figure.Figure at 0x11048b710>"
      ]
     },
     "metadata": {},
     "output_type": "display_data"
    },
    {
     "data": {
      "image/png": "[encoded data removed]",
      "text/plain": [
       "<matplotlib.figure.Figure at 0x11367e4a8>"
      ]
     },
     "metadata": {},
     "output_type": "display_data"
    },
    {
     "data": {
      "image/png": "[encoded data removed]",
      "text/plain": [
       "<matplotlib.figure.Figure at 0x1136d52b0>"
      ]
     },
     "metadata": {},
     "output_type": "display_data"
    },
    {
     "data": {
      "image/png": "[encoded data removed]",
      "text/plain": [
       "<matplotlib.figure.Figure at 0x1136e4a20>"
      ]
     },
     "metadata": {},
     "output_type": "display_data"
    },
    {
     "data": {
      "image/png": "[encoded data removed]",
      "text/plain": [
       "<matplotlib.figure.Figure at 0x113784f98>"
      ]
     },
     "metadata": {},
     "output_type": "display_data"
    },
    {
     "data": {
      "image/png": "[encoded data removed]",
      "text/plain": [
       "<matplotlib.figure.Figure at 0x1137d64a8>"
      ]
     },
     "metadata": {},
     "output_type": "display_data"
    },
    {
     "data": {
      "image/png": "[encoded data removed]",
      "text/plain": [
       "<matplotlib.figure.Figure at 0x113835240>"
      ]
     },
     "metadata": {},
     "output_type": "display_data"
    },
    {
     "data": {
      "image/png": "[encoded data removed]",
      "text/plain": [
       "<matplotlib.figure.Figure at 0x110387828>"
      ]
     },
     "metadata": {},
     "output_type": "display_data"
    },
    {
     "data": {
      "image/png": "[encoded data removed]",
      "text/plain": [
       "<matplotlib.figure.Figure at 0x1103e06d8>"
      ]
     },
     "metadata": {},
     "output_type": "display_data"
    },
    {
     "data": {
      "image/png": "[encoded data removed]",
      "text/plain": [
       "<matplotlib.figure.Figure at 0x110672438>"
      ]
     },
     "metadata": {},
     "output_type": "display_data"
    },
    {
     "data": {
      "image/png": "[encoded data removed]",
      "text/plain": [
       "<matplotlib.figure.Figure at 0x1105b7c18>"
      ]
     },
     "metadata": {},
     "output_type": "display_data"
    },
    {
     "data": {
      "image/png": "[encoded data removed]",
      "text/plain": [
       "<matplotlib.figure.Figure at 0x110372358>"
      ]
     },
     "metadata": {},
     "output_type": "display_data"
    },
    {
     "data": {
      "image/png": "[encoded data removed]",
      "text/plain": [
       "<matplotlib.figure.Figure at 0x11386c630>"
      ]
     },
     "metadata": {},
     "output_type": "display_data"
    },
    {
     "data": {
      "image/png": "[encoded data removed]",
      "text/plain": [
       "<matplotlib.figure.Figure at 0x110875048>"
      ]
     },
     "metadata": {},
     "output_type": "display_data"
    }
   ],
   "source": [
    "Legend.from_image('z_Lithology_legend_gapless2.png', components).plot()"
   ]
  },
  {
   "cell_type": "markdown",
   "metadata": {},
   "source": [
    "## Querying a legend"
   ]
  },
  {
   "cell_type": "markdown",
   "metadata": {
    "internals": {},
    "slideshow": {
     "slide_type": "-"
    }
   },
   "source": [
    "The legend is basically a query table. We can ask the Legend what colour to use for a given Rock object:"
   ]
  },
  {
   "cell_type": "code",
   "execution_count": 28,
   "metadata": {
    "collapsed": false,
    "internals": {},
    "scrolled": false,
    "slideshow": {
     "slide_type": "-"
    }
   },
   "outputs": [
    {
     "data": {
      "text/plain": [
       "'#eeeeee'"
      ]
     },
     "execution_count": 28,
     "metadata": {},
     "output_type": "execute_result"
    }
   ],
   "source": [
    "legend.get_colour(rock)"
   ]
  },
  {
   "cell_type": "code",
   "execution_count": 29,
   "metadata": {
    "collapsed": false,
    "internals": {},
    "slideshow": {
     "slide_type": "-"
    }
   },
   "outputs": [
    {
     "data": {
      "text/plain": [
       "'#ffdbba'"
      ]
     },
     "execution_count": 29,
     "metadata": {},
     "output_type": "execute_result"
    }
   ],
   "source": [
    "rock3 = Component({'colour': 'red',\n",
    "           'grainsize': 'vf-f',\n",
    "           'lithology': 'sandstone'})\n",
    "legend.get_colour(rock3)"
   ]
  },
  {
   "cell_type": "code",
   "execution_count": 30,
   "metadata": {
    "collapsed": false
   },
   "outputs": [
    {
     "data": {
      "text/html": [
       "<table><tr><th>component</th><th>hatch</th><th>colour</th><th>width</th></tr><tr><td style=\"color:black; background-color:white\"><table><tr><td><strong>grainsize</strong></td><td>vf-f</td></tr><tr><td><strong>lithology</strong></td><td>sandstone</td></tr><tr><td><strong>colour</strong></td><td>red</td></tr></table></td><td style=\"color:black; background-color:white\">None</td><td style=\"color:#000000; background-color:#7a8dd9\">#7a8dd9</td><td style=\"color:black; background-color:white\">None</td></tr></table>"
      ],
      "text/plain": [
       "Legend(Decor({'_colour': '#7a8dd9', 'component': Component({'grainsize': 'vf-f', 'lithology': 'sandstone', 'colour': 'red'}), 'hatch': None, 'width': None}))"
      ]
     },
     "execution_count": 30,
     "metadata": {},
     "output_type": "execute_result"
    }
   ],
   "source": [
    "Legend.random(rock3)"
   ]
  },
  {
   "cell_type": "markdown",
   "metadata": {
    "internals": {},
    "slideshow": {
     "slide_type": "-"
    }
   },
   "source": [
    "Sometimes we also want to use a width for a given lithology:"
   ]
  },
  {
   "cell_type": "code",
   "execution_count": 31,
   "metadata": {
    "collapsed": false,
    "internals": {},
    "slideshow": {
     "slide_type": "-"
    }
   },
   "outputs": [
    {
     "data": {
      "text/plain": [
       "3.0"
      ]
     },
     "execution_count": 31,
     "metadata": {},
     "output_type": "execute_result"
    }
   ],
   "source": [
    "legend.get_width(rock3)"
   ]
  },
  {
   "cell_type": "markdown",
   "metadata": {
    "internals": {},
    "slideshow": {
     "slide_type": "-"
    }
   },
   "source": [
    "We can also ask the legend which Rock is represented by a particular colour. (I doubt you'd ever really need to do this, but I had to implement this to allow you to make a `Striplog` from an image: it looks up the rocks to use by colour.)"
   ]
  },
  {
   "cell_type": "code",
   "execution_count": 32,
   "metadata": {
    "collapsed": false,
    "internals": {},
    "slideshow": {
     "slide_type": "-"
    }
   },
   "outputs": [
    {
     "data": {
      "text/html": [
       "<table><tr><td><strong>grainsize</strong></td><td>vf-f</td></tr><tr><td><strong>lithology</strong></td><td>sandstone</td></tr><tr><td><strong>colour</strong></td><td>grey</td></tr></table>"
      ],
      "text/plain": [
       "Component({'grainsize': 'vf-f', 'lithology': 'sandstone', 'colour': 'grey'})"
      ]
     },
     "execution_count": 32,
     "metadata": {},
     "output_type": "execute_result"
    }
   ],
   "source": [
    "legend.get_component('#f7e9a6')"
   ]
  },
  {
   "cell_type": "markdown",
   "metadata": {
    "internals": {},
    "slideshow": {
     "slide_type": "-"
    }
   },
   "source": [
    "The `Legend` behaves more or less like a list, so we can index into it:"
   ]
  },
  {
   "cell_type": "code",
   "execution_count": 33,
   "metadata": {
    "collapsed": false,
    "internals": {},
    "slideshow": {
     "slide_type": "-"
    }
   },
   "outputs": [
    {
     "data": {
      "text/html": [
       "<table><tr><th>component</th><th>hatch</th><th>colour</th><th>width</th></tr><tr><td style=\"color:black; background-color:white\"><table><tr><td><strong>lithology</strong></td><td>volcanic</td></tr></table></td><td style=\"color:black; background-color:white\">None</td><td style=\"color:#ffffff; background-color:#ff4c4a\">#ff4c4a</td><td style=\"color:black; background-color:white\">2.0</td></tr><tr><td style=\"color:black; background-color:white\"><table><tr><td><strong>lithology</strong></td><td>conglomerate</td></tr></table></td><td style=\"color:black; background-color:white\">None</td><td style=\"color:#000000; background-color:#86f0b6\">#86f0b6</td><td style=\"color:black; background-color:white\">5.0</td></tr></table>"
      ],
      "text/plain": [
       "Legend(Decor({'_colour': '#ff4c4a', 'component': Component({'lithology': 'volcanic'}), 'hatch': None, 'width': 2.0})\n",
       "Decor({'_colour': '#86f0b6', 'component': Component({'lithology': 'conglomerate'}), 'hatch': None, 'width': 5.0}))"
      ]
     },
     "execution_count": 33,
     "metadata": {},
     "output_type": "execute_result"
    }
   ],
   "source": [
    "legend[3:5]"
   ]
  },
  {
   "cell_type": "markdown",
   "metadata": {
    "internals": {},
    "slideshow": {
     "slide_type": "-"
    }
   },
   "source": [
    "`Legend`s can plot themselves. "
   ]
  },
  {
   "cell_type": "code",
   "execution_count": 34,
   "metadata": {
    "collapsed": false,
    "internals": {},
    "slideshow": {
     "slide_type": "-"
    }
   },
   "outputs": [
    {
     "data": {
      "image/png": "[encoded data removed]",
      "text/plain": [
       "<matplotlib.figure.Figure at 0x110874a20>"
      ]
     },
     "metadata": {},
     "output_type": "display_data"
    },
    {
     "data": {
      "image/png": "[encoded data removed]",
      "text/plain": [
       "<matplotlib.figure.Figure at 0x1107b5b00>"
      ]
     },
     "metadata": {},
     "output_type": "display_data"
    },
    {
     "data": {
      "image/png": "[encoded data removed]",
      "text/plain": [
       "<matplotlib.figure.Figure at 0x110708400>"
      ]
     },
     "metadata": {},
     "output_type": "display_data"
    },
    {
     "data": {
      "image/png": "[encoded data removed]",
      "text/plain": [
       "<matplotlib.figure.Figure at 0x1138b0518>"
      ]
     },
     "metadata": {},
     "output_type": "display_data"
    },
    {
     "data": {
      "image/png": "[encoded data removed]",
      "text/plain": [
       "<matplotlib.figure.Figure at 0x1139044e0>"
      ]
     },
     "metadata": {},
     "output_type": "display_data"
    },
    {
     "data": {
      "image/png": "[encoded data removed]",
      "text/plain": [
       "<matplotlib.figure.Figure at 0x113960eb8>"
      ]
     },
     "metadata": {},
     "output_type": "display_data"
    },
    {
     "data": {
      "image/png": "[encoded data removed]",
      "text/plain": [
       "<matplotlib.figure.Figure at 0x1139bc198>"
      ]
     },
     "metadata": {},
     "output_type": "display_data"
    },
    {
     "data": {
      "image/png": "[encoded data removed]",
      "text/plain": [
       "<matplotlib.figure.Figure at 0x113a07940>"
      ]
     },
     "metadata": {},
     "output_type": "display_data"
    },
    {
     "data": {
      "image/png": "[encoded data removed]",
      "text/plain": [
       "<matplotlib.figure.Figure at 0x113a68b70>"
      ]
     },
     "metadata": {},
     "output_type": "display_data"
    },
    {
     "data": {
      "image/png": "[encoded data removed]",
      "text/plain": [
       "<matplotlib.figure.Figure at 0x113ab6cc0>"
      ]
     },
     "metadata": {},
     "output_type": "display_data"
    },
    {
     "data": {
      "image/png": "[encoded data removed]",
      "text/plain": [
       "<matplotlib.figure.Figure at 0x113b176d8>"
      ]
     },
     "metadata": {},
     "output_type": "display_data"
    },
    {
     "data": {
      "image/png": "[encoded data removed]",
      "text/plain": [
       "<matplotlib.figure.Figure at 0x110888cf8>"
      ]
     },
     "metadata": {},
     "output_type": "display_data"
    },
    {
     "data": {
      "image/png": "[encoded data removed]",
      "text/plain": [
       "<matplotlib.figure.Figure at 0x1107fde48>"
      ]
     },
     "metadata": {},
     "output_type": "display_data"
    },
    {
     "data": {
      "image/png": "[encoded data removed]",
      "text/plain": [
       "<matplotlib.figure.Figure at 0x110638780>"
      ]
     },
     "metadata": {},
     "output_type": "display_data"
    },
    {
     "data": {
      "image/png": "[encoded data removed]",
      "text/plain": [
       "<matplotlib.figure.Figure at 0x1106e1da0>"
      ]
     },
     "metadata": {},
     "output_type": "display_data"
    },
    {
     "data": {
      "image/png": "[encoded data removed]",
      "text/plain": [
       "<matplotlib.figure.Figure at 0x1104be400>"
      ]
     },
     "metadata": {},
     "output_type": "display_data"
    },
    {
     "data": {
      "image/png": "[encoded data removed]",
      "text/plain": [
       "<matplotlib.figure.Figure at 0x1103a1550>"
      ]
     },
     "metadata": {},
     "output_type": "display_data"
    },
    {
     "data": {
      "image/png": "[encoded data removed]",
      "text/plain": [
       "<matplotlib.figure.Figure at 0x110490f28>"
      ]
     },
     "metadata": {},
     "output_type": "display_data"
    }
   ],
   "source": [
    "legend.plot()"
   ]
  },
  {
   "cell_type": "markdown",
   "metadata": {
    "internals": {},
    "slideshow": {
     "slide_type": "-"
    }
   },
   "source": [
    "Sometimes you don't want to have to make a legend, so you can use a random one. Just pass a list of `Component`s..."
   ]
  },
  {
   "cell_type": "code",
   "execution_count": 35,
   "metadata": {
    "collapsed": false,
    "internals": {},
    "slideshow": {
     "slide_type": "-"
    }
   },
   "outputs": [
    {
     "data": {
      "image/png": "[encoded data removed]",
      "text/plain": [
       "<matplotlib.figure.Figure at 0x11042ac18>"
      ]
     },
     "metadata": {},
     "output_type": "display_data"
    },
    {
     "data": {
      "image/png": "[encoded data removed]",
      "text/plain": [
       "<matplotlib.figure.Figure at 0x110538898>"
      ]
     },
     "metadata": {},
     "output_type": "display_data"
    },
    {
     "data": {
      "image/png": "[encoded data removed]",
      "text/plain": [
       "<matplotlib.figure.Figure at 0x110488cc0>"
      ]
     },
     "metadata": {},
     "output_type": "display_data"
    },
    {
     "data": {
      "image/png": "[encoded data removed]",
      "text/plain": [
       "<matplotlib.figure.Figure at 0x1108e2080>"
      ]
     },
     "metadata": {},
     "output_type": "display_data"
    },
    {
     "data": {
      "image/png": "[encoded data removed]",
      "text/plain": [
       "<matplotlib.figure.Figure at 0x1103c15c0>"
      ]
     },
     "metadata": {},
     "output_type": "display_data"
    },
    {
     "data": {
      "image/png": "[encoded data removed]",
      "text/plain": [
       "<matplotlib.figure.Figure at 0x1137bcf98>"
      ]
     },
     "metadata": {},
     "output_type": "display_data"
    },
    {
     "data": {
      "image/png": "[encoded data removed]",
      "text/plain": [
       "<matplotlib.figure.Figure at 0x1136aa080>"
      ]
     },
     "metadata": {},
     "output_type": "display_data"
    }
   ],
   "source": [
    "# We'll scrape a quick list of 7 components from the default legend:\n",
    "c = [d.component for d in legend[:7]]\n",
    "\n",
    "l = Legend.random(c)\n",
    "l.plot()"
   ]
  },
  {
   "cell_type": "markdown",
   "metadata": {},
   "source": [
    "There is a default colour table for geological timescales too... it's based on the Wikipedia's colour scheme for the geological timetable. "
   ]
  },
  {
   "cell_type": "code",
   "execution_count": 36,
   "metadata": {
    "collapsed": false
   },
   "outputs": [
    {
     "data": {
      "image/png": "[encoded data removed]",
      "text/plain": [
       "<matplotlib.figure.Figure at 0x11042add8>"
      ]
     },
     "metadata": {},
     "output_type": "display_data"
    },
    {
     "data": {
      "image/png": "[encoded data removed]",
      "text/plain": [
       "<matplotlib.figure.Figure at 0x113813f98>"
      ]
     },
     "metadata": {},
     "output_type": "display_data"
    },
    {
     "data": {
      "image/png": "[encoded data removed]",
      "text/plain": [
       "<matplotlib.figure.Figure at 0x1136b2320>"
      ]
     },
     "metadata": {},
     "output_type": "display_data"
    },
    {
     "data": {
      "image/png": "[encoded data removed]",
      "text/plain": [
       "<matplotlib.figure.Figure at 0x11056aeb8>"
      ]
     },
     "metadata": {},
     "output_type": "display_data"
    },
    {
     "data": {
      "image/png": "[encoded data removed]",
      "text/plain": [
       "<matplotlib.figure.Figure at 0x11050f320>"
      ]
     },
     "metadata": {},
     "output_type": "display_data"
    }
   ],
   "source": [
    "time[74:79].plot(fmt=\"{age!t}\")  # Pass a format for proper case"
   ]
  },
  {
   "cell_type": "markdown",
   "metadata": {},
   "source": [
    "## Hatch patterns"
   ]
  },
  {
   "cell_type": "code",
   "execution_count": 38,
   "metadata": {
    "collapsed": false
   },
   "outputs": [
    {
     "data": {
      "image/png": "[encoded data removed]",
      "text/plain": [
       "<matplotlib.figure.Figure at 0x11043c8d0>"
      ]
     },
     "metadata": {},
     "output_type": "display_data"
    },
    {
     "data": {
      "image/png": "[encoded data removed]",
      "text/plain": [
       "<matplotlib.figure.Figure at 0x110868ba8>"
      ]
     },
     "metadata": {},
     "output_type": "display_data"
    },
    {
     "data": {
      "image/png": "[encoded data removed]",
      "text/plain": [
       "<matplotlib.figure.Figure at 0x113a07c88>"
      ]
     },
     "metadata": {},
     "output_type": "display_data"
    },
    {
     "data": {
      "image/png": "[encoded data removed]",
      "text/plain": [
       "<matplotlib.figure.Figure at 0x110490080>"
      ]
     },
     "metadata": {},
     "output_type": "display_data"
    },
    {
     "data": {
      "image/png": "[encoded data removed]",
      "text/plain": [
       "<matplotlib.figure.Figure at 0x1105bfba8>"
      ]
     },
     "metadata": {},
     "output_type": "display_data"
    },
    {
     "data": {
      "image/png": "[encoded data removed]",
      "text/plain": [
       "<matplotlib.figure.Figure at 0x11057a4a8>"
      ]
     },
     "metadata": {},
     "output_type": "display_data"
    },
    {
     "data": {
      "image/png": "[encoded data removed]",
      "text/plain": [
       "<matplotlib.figure.Figure at 0x110827a58>"
      ]
     },
     "metadata": {},
     "output_type": "display_data"
    },
    {
     "data": {
      "image/png": "[encoded data removed]",
      "text/plain": [
       "<matplotlib.figure.Figure at 0x1103d4cc0>"
      ]
     },
     "metadata": {},
     "output_type": "display_data"
    },
    {
     "data": {
      "image/png": "[encoded data removed]",
      "text/plain": [
       "<matplotlib.figure.Figure at 0x1137c9e10>"
      ]
     },
     "metadata": {},
     "output_type": "display_data"
    },
    {
     "data": {
      "image/png": "[encoded data removed]",
      "text/plain": [
       "<matplotlib.figure.Figure at 0x1104386a0>"
      ]
     },
     "metadata": {},
     "output_type": "display_data"
    }
   ],
   "source": [
    "hatchy = \"\"\"colour,width,hatch,component colour,component grainsize,component lithology\n",
    "#dddddd,1,+,,,siltstone,\n",
    "#dddddd,1,+++,,,greywacke,\n",
    "#dddddd,2,x,,,anhydrite,\n",
    "#dddddd,2,xxx,,,gypsum,\n",
    "#dddddd,3,/,,,missing,\n",
    "#dddddd,4,..,,,sandstone,\n",
    "#dddddd,5,o,,,conglomerate,\n",
    "#dddddd,5,0,,,till,\n",
    "#dddddd,6,---,,,mudstone,\n",
    "#dddddd,7,,,,limestone,\n",
    "\"\"\"\n",
    "Legend.from_csv(text=hatchy).plot()"
   ]
  },
  {
   "cell_type": "markdown",
   "metadata": {},
   "source": [
    "## Bugs\n",
    "\n",
    "### Decor plots with axes\n",
    "\n",
    "These should plot as square patches, not rectangles. The text actually flows off the right-hand edge of the plot. "
   ]
  },
  {
   "cell_type": "code",
   "execution_count": 39,
   "metadata": {
    "collapsed": false
   },
   "outputs": [
    {
     "data": {
      "image/png": "[encoded data removed]",
      "text/plain": [
       "<matplotlib.figure.Figure at 0x1104419b0>"
      ]
     },
     "metadata": {},
     "output_type": "display_data"
    }
   ],
   "source": [
    "import matplotlib.pyplot as plt\n",
    "fig = plt.figure(figsize=(3, 10))\n",
    "for i, d in enumerate(l):\n",
    "    ax = fig.add_subplot(len(l), 1, i+1)\n",
    "    ax = d.plot(ax=ax)"
   ]
  },
  {
   "cell_type": "markdown",
   "metadata": {
    "internals": {
     "slide_helper": "subslide_end"
    },
    "slide_helper": "slide_end",
    "slideshow": {
     "slide_type": "-"
    }
   },
   "source": [
    "<hr />\n",
    "\n",
    "<p style=\"color:gray\">©2015 Agile Geoscience. Licensed CC-BY. <a href=\"https://github.com/agile-geoscience/striplog\">striplog.py</a></p>"
   ]
  }
 ],
 "metadata": {
  "kernelspec": {
   "display_name": "Python [conda env:temp9]",
   "language": "python",
   "name": "conda-env-temp9-py"
  },
  "language_info": {
   "codemirror_mode": {
    "name": "ipython",
    "version": 3
   },
   "file_extension": ".py",
   "mimetype": "text/x-python",
   "name": "python",
   "nbconvert_exporter": "python",
   "pygments_lexer": "ipython3",
   "version": "3.5.3"
  }
 },
 "nbformat": 4,
 "nbformat_minor": 0
}
