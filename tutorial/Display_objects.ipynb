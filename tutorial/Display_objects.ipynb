{
 "cells": [
  {
   "cell_type": "markdown",
   "metadata": {
    "internals": {
     "slide_type": "subslide"
    },
    "slideshow": {
     "slide_type": "slide"
    }
   },
   "source": [
    "# Display objects"
   ]
  },
  {
   "cell_type": "markdown",
   "metadata": {
    "internals": {},
    "slideshow": {
     "slide_type": "-"
    }
   },
   "source": [
    "A `striplog` depends on a hierarchy of objects. This notebook shows the objects related to display:\n",
    "\n",
    "- [Decor](#Decor): One element from a legend — describes how to display a Rock.\n",
    "- [Legend](#Legend): A set of Decors — describes how to display a set of Rocks or a Striplog."
   ]
  },
  {
   "cell_type": "markdown",
   "metadata": {
    "internals": {},
    "slideshow": {
     "slide_type": "-"
    }
   },
   "source": [
    "<hr />"
   ]
  },
  {
   "cell_type": "markdown",
   "metadata": {
    "internals": {},
    "slideshow": {
     "slide_type": "-"
    }
   },
   "source": [
    "## Decor"
   ]
  },
  {
   "cell_type": "code",
   "execution_count": 1,
   "metadata": {
    "collapsed": false,
    "internals": {},
    "slideshow": {
     "slide_type": "-"
    }
   },
   "outputs": [],
   "source": [
    "from striplog import Decor"
   ]
  },
  {
   "cell_type": "markdown",
   "metadata": {
    "internals": {},
    "slideshow": {
     "slide_type": "-"
    }
   },
   "source": [
    "A Decor attaches a display style to a Rock. "
   ]
  },
  {
   "cell_type": "code",
   "execution_count": 2,
   "metadata": {
    "collapsed": false,
    "internals": {},
    "slideshow": {
     "slide_type": "-"
    }
   },
   "outputs": [
    {
     "name": "stdout",
     "output_type": "stream",
     "text": [
      "\n",
      "    A single display style. A Decor describes how to display a given set\n",
      "    of Component properties.\n",
      "\n",
      "    In general, you will not usually use a Decor on its own. Instead, you\n",
      "    will want to use a Legend, which is just a list of Decors, and leave\n",
      "    the Decors to the Legend.\n",
      "\n",
      "    Args:\n",
      "      params (dict): The parameters you want in the Decor. There must be a\n",
      "        Component to attach the decoration to, and at least 1 other attribute.\n",
      "        It's completely up to you, but you probably want at least a colour\n",
      "        (hex names like #AAA or #d3d3d3, or matplotlib's English-language\n",
      "        names listed at http://ageo.co/modelrcolour are acceptable.\n",
      "\n",
      "        The only other parameter the class recognizes for now is 'width',\n",
      "        which is the width of the striplog element.\n",
      "\n",
      "    Example:\n",
      "      my_rock = Component({ ... })\n",
      "      d = {'component': my_rock, 'colour': 'red'}\n",
      "      my_decor = Decor(d)\n",
      "    \n"
     ]
    }
   ],
   "source": [
    "print(Decor.__doc__)"
   ]
  },
  {
   "cell_type": "markdown",
   "metadata": {
    "internals": {},
    "slideshow": {
     "slide_type": "-"
    }
   },
   "source": [
    "We are going to need a `Component` to make a `Decor`."
   ]
  },
  {
   "cell_type": "code",
   "execution_count": 3,
   "metadata": {
    "collapsed": false,
    "internals": {},
    "slideshow": {
     "slide_type": "-"
    }
   },
   "outputs": [
    {
     "data": {
      "text/html": [
       "<table><tr><td><strong>porosity</strong></td><td>0.123</td></tr><tr><td><strong>lithology</strong></td><td>sand</td></tr><tr><td><strong>colour</strong></td><td>grey</td></tr><tr><td><strong>grainsize</strong></td><td>vf-f</td></tr></table>"
      ],
      "text/plain": [
       "Component({'porosity': 0.123, 'lithology': 'sand', 'colour': 'grey', 'grainsize': 'vf-f'})"
      ]
     },
     "execution_count": 3,
     "metadata": {},
     "output_type": "execute_result"
    }
   ],
   "source": [
    "from striplog import Component\n",
    "r = {'colour': 'grey',\n",
    "     'grainsize': 'vf-f',\n",
    "     'lithology': 'sand',\n",
    "     'porosity': 0.123\n",
    "    }\n",
    "rock = Component(r)\n",
    "rock"
   ]
  },
  {
   "cell_type": "markdown",
   "metadata": {
    "internals": {},
    "slideshow": {
     "slide_type": "-"
    }
   },
   "source": [
    "Like `Rock`s, we instantiate `Decor`s with a `dict` of properties:"
   ]
  },
  {
   "cell_type": "code",
   "execution_count": 4,
   "metadata": {
    "collapsed": false,
    "internals": {},
    "slideshow": {
     "slide_type": "-"
    }
   },
   "outputs": [
    {
     "data": {
      "text/html": [
       "<table><tr><td><strong>component</strong></td><td style=\"color:black; background-color:white\"><table><tr><td><strong>porosity</strong></td><td>0.123</td></tr><tr><td><strong>lithology</strong></td><td>sand</td></tr><tr><td><strong>colour</strong></td><td>grey</td></tr><tr><td><strong>grainsize</strong></td><td>vf-f</td></tr></table></td></tr><tr><td><strong>colour</strong></td><td style=\"color:#FFFFFF; background-color:#267022\">#267022</td></tr><tr><td><strong>width</strong></td><td style=\"color:black; background-color:white\">3.0</td></tr><tr><td><strong>hatch</strong></td><td style=\"color:black; background-color:white\">None</td></tr></table>"
      ],
      "text/plain": [
       "Decor({'component': Component({'porosity': 0.123, 'lithology': 'sand', 'colour': 'grey', 'grainsize': 'vf-f'}), 'colour': '#267022', 'width': 3.0, 'hatch': None})"
      ]
     },
     "execution_count": 4,
     "metadata": {},
     "output_type": "execute_result"
    }
   ],
   "source": [
    "d = {'color': '#267022',\n",
    "     'component': rock,\n",
    "     'width': 3}\n",
    "decor = Decor(d)\n",
    "decor"
   ]
  },
  {
   "cell_type": "markdown",
   "metadata": {
    "internals": {},
    "slideshow": {
     "slide_type": "-"
    }
   },
   "source": [
    "Or instantiate with keyword parameters:"
   ]
  },
  {
   "cell_type": "code",
   "execution_count": 5,
   "metadata": {
    "collapsed": false,
    "internals": {},
    "slideshow": {
     "slide_type": "-"
    }
   },
   "outputs": [
    {
     "data": {
      "text/html": [
       "<table><tr><td><strong>component</strong></td><td style=\"color:black; background-color:white\"><table><tr><td><strong>porosity</strong></td><td>0.123</td></tr><tr><td><strong>lithology</strong></td><td>sand</td></tr><tr><td><strong>colour</strong></td><td>grey</td></tr><tr><td><strong>grainsize</strong></td><td>vf-f</td></tr></table></td></tr><tr><td><strong>colour</strong></td><td style=\"color:#000000; background-color:#86f0b6\">#86f0b6</td></tr><tr><td><strong>width</strong></td><td style=\"color:black; background-color:white\">3.0</td></tr><tr><td><strong>hatch</strong></td><td style=\"color:black; background-color:white\">None</td></tr></table>"
      ],
      "text/plain": [
       "Decor({'component': Component({'porosity': 0.123, 'lithology': 'sand', 'colour': 'grey', 'grainsize': 'vf-f'}), 'colour': '#86f0b6', 'width': 3.0, 'hatch': None})"
      ]
     },
     "execution_count": 5,
     "metadata": {},
     "output_type": "execute_result"
    }
   ],
   "source": [
    "Decor(colour='#86f0b6', component=Component({'colour': 'grey', 'grainsize': 'vf-f', 'porosity': 0.123, 'lithology': 'sand'}), width=3.0)"
   ]
  },
  {
   "cell_type": "markdown",
   "metadata": {
    "internals": {},
    "slideshow": {
     "slide_type": "-"
    }
   },
   "source": [
    "You can access its attributes. It has two ways to understand colour:"
   ]
  },
  {
   "cell_type": "code",
   "execution_count": 6,
   "metadata": {
    "collapsed": false,
    "internals": {},
    "slideshow": {
     "slide_type": "-"
    }
   },
   "outputs": [
    {
     "name": "stdout",
     "output_type": "stream",
     "text": [
      "Hex: #267022... and RGB: (38, 112, 34)\n"
     ]
    }
   ],
   "source": [
    "print(\"Hex: {}... and RGB: {}\".format(decor.colour, decor.rgb))"
   ]
  },
  {
   "cell_type": "code",
   "execution_count": 7,
   "metadata": {
    "collapsed": false,
    "internals": {},
    "slideshow": {
     "slide_type": "-"
    }
   },
   "outputs": [
    {
     "name": "stdout",
     "output_type": "stream",
     "text": [
      "Decor({'component': Component({'porosity': 0.123, 'lithology': 'sand', 'colour': 'grey', 'grainsize': 'vf-f'}), 'colour': '#267022', 'width': 3.0, 'hatch': None})\n"
     ]
    }
   ],
   "source": [
    "print(decor)"
   ]
  },
  {
   "cell_type": "code",
   "execution_count": 8,
   "metadata": {
    "collapsed": false,
    "internals": {},
    "slideshow": {
     "slide_type": "-"
    }
   },
   "outputs": [
    {
     "data": {
      "image/png": "[encoded data removed]",
      "text/plain": [
       "<matplotlib.figure.Figure at 0x1081b1898>"
      ]
     },
     "metadata": {},
     "output_type": "display_data"
    }
   ],
   "source": [
    "%matplotlib inline\n",
    "decor.plot()"
   ]
  },
  {
   "cell_type": "code",
   "execution_count": 29,
   "metadata": {
    "collapsed": false
   },
   "outputs": [
    {
     "data": {
      "image/png": "[encoded data removed]",
      "text/plain": [
       "<matplotlib.figure.Figure at 0x10a13def0>"
      ]
     },
     "metadata": {},
     "output_type": "display_data"
    }
   ],
   "source": [
    "decor.hatch = '++'\n",
    "decor.plot()"
   ]
  },
  {
   "cell_type": "markdown",
   "metadata": {
    "internals": {},
    "slideshow": {
     "slide_type": "-"
    }
   },
   "source": [
    "<hr />"
   ]
  },
  {
   "cell_type": "markdown",
   "metadata": {
    "internals": {},
    "slideshow": {
     "slide_type": "-"
    }
   },
   "source": [
    "## Legend"
   ]
  },
  {
   "cell_type": "code",
   "execution_count": 9,
   "metadata": {
    "collapsed": false,
    "internals": {},
    "slideshow": {
     "slide_type": "-"
    }
   },
   "outputs": [
    {
     "name": "stdout",
     "output_type": "stream",
     "text": [
      "\n",
      "    A look-up table to assist in the conversion of Components to\n",
      "    a plot colour.\n",
      "\n",
      "    Args:\n",
      "        list_of_Decors (list): The decors to collect into a legend. In\n",
      "            general, you will want to leave legend building to the constructor\n",
      "            class methods, `Legend.default()`, and `Legend.from_csv(string)`.\n",
      "            We can add others over time, such as `from_xls` and so on.\n",
      "    \n"
     ]
    }
   ],
   "source": [
    "from striplog import Legend\n",
    "print(Legend.__doc__)"
   ]
  },
  {
   "cell_type": "markdown",
   "metadata": {
    "internals": {},
    "slideshow": {
     "slide_type": "-"
    }
   },
   "source": [
    "We'll define a legend in a CSV file. I can't think of a better way for now. It would be easy to make a web form to facilitate this with, for example, a colour picker. It may not be worth it, though; I imagine one would create one and then leave it alone most of the time. "
   ]
  },
  {
   "cell_type": "code",
   "execution_count": 10,
   "metadata": {
    "collapsed": false,
    "internals": {},
    "slideshow": {
     "slide_type": "-"
    }
   },
   "outputs": [],
   "source": [
    "l = u\"\"\"colour, width, component lithology, component colour, component grainsize\n",
    "#F7E9A6, 3, Sandstone, Grey, VF-F\n",
    "#FF99CC, 2, Anhydrite, , \n",
    "#DBD6BC, 3, Heterolithic, Grey, \n",
    "#FF4C4A, 2, Volcanic, , \n",
    "#86F0B6, 5, Conglomerate, , \n",
    "#FF96F6, 2, Halite, , \n",
    "#F2FF42, 4, Sandstone, Grey, F-M\n",
    "#DBC9BC, 3, Heterolithic, Red, \n",
    "#A68374, 2, Siltstone, Grey, \n",
    "#A657FA, 3, Dolomite, , \n",
    "#FFD073, 4, Sandstone, Red, C-M\n",
    "#A6D1FF, 3, Limestone, , \n",
    "#FFDBBA, 3, Sandstone, Red, VF-F\n",
    "#FFE040, 4, Sandstone, Grey, C-M\n",
    "#A1655A, 2, Siltstone, Red, \n",
    "#363434, 1, Coal, , \n",
    "#664A4A, 1, Mudstone, Red, \n",
    "#666666, 1, Mudstone, Grey, \"\"\""
   ]
  },
  {
   "cell_type": "code",
   "execution_count": 11,
   "metadata": {
    "collapsed": false,
    "internals": {},
    "slideshow": {
     "slide_type": "-"
    }
   },
   "outputs": [
    {
     "data": {
      "text/plain": [
       "Legend(Decor({'component': Component({'lithology': 'sandstone', 'colour': 'grey', 'grainsize': 'vf-f'}), 'colour': '#f7e9a6', 'width': 3.0, 'hatch': None})\n",
       "Decor({'component': Component({'lithology': 'anhydrite'}), 'colour': '#ff99cc', 'width': 2.0, 'hatch': None})\n",
       "Decor({'component': Component({'lithology': 'heterolithic', 'colour': 'grey'}), 'colour': '#dbd6bc', 'width': 3.0, 'hatch': None})\n",
       "Decor({'component': Component({'lithology': 'volcanic'}), 'colour': '#ff4c4a', 'width': 2.0, 'hatch': None})\n",
       "Decor({'component': Component({'lithology': 'conglomerate'}), 'colour': '#86f0b6', 'width': 5.0, 'hatch': None}))"
      ]
     },
     "execution_count": 11,
     "metadata": {},
     "output_type": "execute_result"
    }
   ],
   "source": [
    "legend = Legend.from_csv(l)\n",
    "legend[:5]"
   ]
  },
  {
   "cell_type": "markdown",
   "metadata": {},
   "source": [
    "Duplicate lithologies will result in a warning. To avoid strange results, you should fix the problem by removing duplicates."
   ]
  },
  {
   "cell_type": "code",
   "execution_count": 12,
   "metadata": {
    "collapsed": true
   },
   "outputs": [],
   "source": [
    "l = u\"\"\"colour, component lithology\n",
    "#F7E9A6, Sandstone\n",
    "#F2FF42, Sandstone\n",
    "#FF99CC, Anhydrite\n",
    "#DBD6BC, Heterolithic \n",
    "#FF4C4A, Volcanic\n",
    "#86F0B6, Conglomerate\n",
    "#FFD073, Sandstone\n",
    "\"\"\""
   ]
  },
  {
   "cell_type": "code",
   "execution_count": 13,
   "metadata": {
    "collapsed": false
   },
   "outputs": [
    {
     "name": "stderr",
     "output_type": "stream",
     "text": [
      "/Users/matt/anaconda/envs/python3/lib/python3.4/site-packages/striplog/legend.py:482: UserWarning: This legend contains duplicate components.\n",
      "  warnings.warn(w)\n",
      "/Users/matt/anaconda/envs/python3/lib/python3.4/site-packages/striplog/legend.py:482: UserWarning: This legend contains duplicate components.\n",
      "  warnings.warn(w)\n"
     ]
    },
    {
     "data": {
      "text/plain": [
       "Legend(Decor({'component': Component({'lithology': 'sandstone'}), 'colour': '#f7e9a6', 'width': None, 'hatch': None})\n",
       "Decor({'component': Component({'lithology': 'sandstone'}), 'colour': '#f2ff42', 'width': None, 'hatch': None})\n",
       "Decor({'component': Component({'lithology': 'anhydrite'}), 'colour': '#ff99cc', 'width': None, 'hatch': None})\n",
       "Decor({'component': Component({'lithology': 'heterolithic '}), 'colour': '#dbd6bc', 'width': None, 'hatch': None})\n",
       "Decor({'component': Component({'lithology': 'volcanic'}), 'colour': '#ff4c4a', 'width': None, 'hatch': None})\n",
       "Decor({'component': Component({'lithology': 'conglomerate'}), 'colour': '#86f0b6', 'width': None, 'hatch': None})\n",
       "Decor({'component': Component({'lithology': 'sandstone'}), 'colour': '#ffd073', 'width': None, 'hatch': None}))"
      ]
     },
     "execution_count": 13,
     "metadata": {},
     "output_type": "execute_result"
    }
   ],
   "source": [
    "Legend.from_csv(l)"
   ]
  },
  {
   "cell_type": "markdown",
   "metadata": {},
   "source": [
    "We can also export a legend as CSV text:"
   ]
  },
  {
   "cell_type": "code",
   "execution_count": 14,
   "metadata": {
    "collapsed": false,
    "internals": {},
    "slideshow": {
     "slide_type": "-"
    }
   },
   "outputs": [
    {
     "name": "stdout",
     "output_type": "stream",
     "text": [
      "colour,width,hatch,component lithology,component colour,component grainsize\n",
      "#f7e9a6,3.0,None,sandstone,grey,vf-f,\n",
      "#ff99cc,2.0,None,anhydrite,,,\n",
      "#dbd6bc,3.0,None,heterolithic,grey,,\n",
      "#ff4c4a,2.0,None,volcanic,,,\n",
      "#86f0b6,5.0,None,conglomerate,,,\n",
      "#ff96f6,2.0,None,halite,,,\n",
      "#f2ff42,4.0,None,sandstone,grey,f-m,\n",
      "#dbc9bc,3.0,None,heterolithic,red,,\n",
      "#a68374,2.0,None,siltstone,grey,,\n",
      "#a657fa,3.0,None,dolomite,,,\n",
      "#ffd073,4.0,None,sandstone,red,c-m,\n",
      "#a6d1ff,3.0,None,limestone,,,\n",
      "#ffdbba,3.0,None,sandstone,red,vf-f,\n",
      "#ffe040,4.0,None,sandstone,grey,c-m,\n",
      "#a1655a,2.0,None,siltstone,red,,\n",
      "#363434,1.0,None,coal,,,\n",
      "#664a4a,1.0,None,mudstone,red,,\n",
      "#666666,1.0,None,mudstone,grey,,\n",
      "\n"
     ]
    }
   ],
   "source": [
    "print(legend.to_csv())"
   ]
  },
  {
   "cell_type": "markdown",
   "metadata": {
    "internals": {},
    "slideshow": {
     "slide_type": "-"
    }
   },
   "source": [
    "## Builtin legends\n",
    "\n",
    "There are several: \n",
    "\n",
    "    'nsdoe': Nova Scotia Dept. of Energy\n",
    "    'nagmdm__6_2': USGS N. Am. Geol. Map Data Model 6.2 <<< default\n",
    "    'nagmdm__6_1': USGS N. Am. Geol. Map Data Model 6.1\n",
    "    'nagmdm__4_3': USGS N. Am. Geol. Map Data Model 4.3\n",
    "    'sgmc': USGS State Geologic Map Compilation"
   ]
  },
  {
   "cell_type": "code",
   "execution_count": 15,
   "metadata": {
    "collapsed": false,
    "internals": {},
    "scrolled": true,
    "slideshow": {
     "slide_type": "-"
    }
   },
   "outputs": [
    {
     "data": {
      "text/plain": [
       "Legend(Decor({'component': Component({'lithology': 'sandstone', 'colour': 'grey', 'grainsize': 'vf-f'}), 'colour': '#f7e9a6', 'width': 3.0, 'hatch': None})\n",
       "Decor({'component': Component({'lithology': 'anhydrite'}), 'colour': '#ff99cc', 'width': 2.0, 'hatch': None})\n",
       "Decor({'component': Component({'lithology': 'heterolithic', 'colour': 'grey'}), 'colour': '#dbd6bc', 'width': 3.0, 'hatch': None})\n",
       "Decor({'component': Component({'lithology': 'volcanic'}), 'colour': '#ff4c4a', 'width': 2.0, 'hatch': None})\n",
       "Decor({'component': Component({'lithology': 'conglomerate'}), 'colour': '#86f0b6', 'width': 5.0, 'hatch': None})\n",
       "Decor({'component': Component({'lithology': 'halite'}), 'colour': '#ff96f6', 'width': 2.0, 'hatch': None})\n",
       "Decor({'component': Component({'lithology': 'sandstone', 'colour': 'grey', 'grainsize': 'f-m'}), 'colour': '#f2ff42', 'width': 4.0, 'hatch': None})\n",
       "Decor({'component': Component({'lithology': 'heterolithic', 'colour': 'red'}), 'colour': '#dbc9bc', 'width': 3.0, 'hatch': None})\n",
       "Decor({'component': Component({'lithology': 'siltstone', 'colour': 'grey'}), 'colour': '#a68374', 'width': 2.0, 'hatch': None})\n",
       "Decor({'component': Component({'lithology': 'dolomite'}), 'colour': '#a657fa', 'width': 3.0, 'hatch': None})\n",
       "Decor({'component': Component({'lithology': 'sandstone', 'colour': 'red', 'grainsize': 'c-m'}), 'colour': '#ffd073', 'width': 4.0, 'hatch': None})\n",
       "Decor({'component': Component({'lithology': 'limestone'}), 'colour': '#a6d1ff', 'width': 3.0, 'hatch': None})\n",
       "Decor({'component': Component({'lithology': 'sandstone', 'colour': 'red', 'grainsize': 'vf-f'}), 'colour': '#ffdbba', 'width': 3.0, 'hatch': None})\n",
       "Decor({'component': Component({'lithology': 'sandstone', 'colour': 'grey', 'grainsize': 'c-m'}), 'colour': '#ffe040', 'width': 4.0, 'hatch': None})\n",
       "Decor({'component': Component({'lithology': 'siltstone', 'colour': 'red'}), 'colour': '#a1655a', 'width': 2.0, 'hatch': None})\n",
       "Decor({'component': Component({'lithology': 'coal'}), 'colour': '#363434', 'width': 1.0, 'hatch': None})\n",
       "Decor({'component': Component({'lithology': 'mudstone', 'colour': 'red'}), 'colour': '#664a4a', 'width': 1.0, 'hatch': None})\n",
       "Decor({'component': Component({'lithology': 'mudstone', 'colour': 'grey'}), 'colour': '#666666', 'width': 1.0, 'hatch': None}))"
      ]
     },
     "execution_count": 15,
     "metadata": {},
     "output_type": "execute_result"
    }
   ],
   "source": [
    "legend = Legend.builtin('nsdoe')\n",
    "legend"
   ]
  },
  {
   "cell_type": "markdown",
   "metadata": {},
   "source": [
    "There is also a default legend, which you can call with `Legend.default()` (no arguments)."
   ]
  },
  {
   "cell_type": "code",
   "execution_count": 16,
   "metadata": {
    "collapsed": false
   },
   "outputs": [
    {
     "data": {
      "text/plain": [
       "Legend(Decor({'component': Component({'lithology': 'unconsolidated material'}), 'colour': '#fdf43f', 'width': None, 'hatch': None})\n",
       "Decor({'component': Component({'lithology': 'alluvium'}), 'colour': '#ffff89', 'width': None, 'hatch': None})\n",
       "Decor({'component': Component({'lithology': 'flood plain'}), 'colour': '#ffffd5', 'width': None, 'hatch': None})\n",
       "Decor({'component': Component({'lithology': 'levee'}), 'colour': '#fffae9', 'width': None, 'hatch': None})\n",
       "Decor({'component': Component({'lithology': 'delta'}), 'colour': '#fffac8', 'width': None, 'hatch': None})\n",
       "Decor({'component': Component({'lithology': 'alluvial fan'}), 'colour': '#ffffb7', 'width': None, 'hatch': None})\n",
       "Decor({'component': Component({'lithology': 'alluvial terrace'}), 'colour': '#faee7a', 'width': None, 'hatch': None})\n",
       "Decor({'component': Component({'lithology': 'lake or marine sediment'}), 'colour': '#f4efe4', 'width': None, 'hatch': None})\n",
       "Decor({'component': Component({'lithology': 'playa'}), 'colour': '#f1e5df', 'width': None, 'hatch': None})\n",
       "Decor({'component': Component({'lithology': 'mud flat'}), 'colour': '#e4d0be', 'width': None, 'hatch': None})\n",
       "Decor({'component': Component({'lithology': 'beach sand'}), 'colour': '#e4d8be', 'width': None, 'hatch': None})\n",
       "Decor({'component': Component({'lithology': 'terrace'}), 'colour': '#fff6d9', 'width': None, 'hatch': None})\n",
       "Decor({'component': Component({'lithology': 'eolian material'}), 'colour': '#e0c59e', 'width': None, 'hatch': None})\n",
       "Decor({'component': Component({'lithology': 'dune sand'}), 'colour': '#e0d2b4', 'width': None, 'hatch': None})\n",
       "Decor({'component': Component({'lithology': 'sand sheet'}), 'colour': '#dbcca9', 'width': None, 'hatch': None})\n",
       "Decor({'component': Component({'lithology': 'loess'}), 'colour': '#f5e1bd', 'width': None, 'hatch': None})\n",
       "Decor({'component': Component({'lithology': 'volcanic ash'}), 'colour': '#e0b09e', 'width': None, 'hatch': None})\n",
       "Decor({'component': Component({'lithology': 'mass wasting material'}), 'colour': '#cfbb8f', 'width': None, 'hatch': None})\n",
       "Decor({'component': Component({'lithology': 'colluvium'}), 'colour': '#e1e3c3', 'width': None, 'hatch': None})\n",
       "Decor({'component': Component({'lithology': 'mudflow'}), 'colour': '#e5dbb3', 'width': None, 'hatch': None})\n",
       "Decor({'component': Component({'lithology': 'lahar'}), 'colour': '#dcd5b4', 'width': None, 'hatch': None})\n",
       "Decor({'component': Component({'lithology': 'debris flow'}), 'colour': '#d3ca9f', 'width': None, 'hatch': None})\n",
       "Decor({'component': Component({'lithology': 'landslide'}), 'colour': '#c9be89', 'width': None, 'hatch': None})\n",
       "Decor({'component': Component({'lithology': 'talus'}), 'colour': '#bcaf6c', 'width': None, 'hatch': None})\n",
       "Decor({'component': Component({'lithology': 'glacial drift'}), 'colour': '#bfa743', 'width': None, 'hatch': None})\n",
       "Decor({'component': Component({'lithology': 'till'}), 'colour': '#d2c27c', 'width': None, 'hatch': None})\n",
       "Decor({'component': Component({'lithology': 'moraine'}), 'colour': '#ffeebf', 'width': None, 'hatch': None})\n",
       "Decor({'component': Component({'lithology': 'stratified glacial sediment'}), 'colour': '#ffe59d', 'width': None, 'hatch': None})\n",
       "Decor({'component': Component({'lithology': 'glacial outwash sediment'}), 'colour': '#ffdf85', 'width': None, 'hatch': None})\n",
       "Decor({'component': Component({'lithology': 'sub/supra-glacial sediment'}), 'colour': '#fee670', 'width': None, 'hatch': None})\n",
       "Decor({'component': Component({'lithology': 'glaciolacustrine sediment'}), 'colour': '#fee258', 'width': None, 'hatch': None})\n",
       "Decor({'component': Component({'lithology': 'glacial-marine sediment'}), 'colour': '#fedb2e', 'width': None, 'hatch': None})\n",
       "Decor({'component': Component({'lithology': 'biogenic rock'}), 'colour': '#f7f3a1', 'width': None, 'hatch': None})\n",
       "Decor({'component': Component({'lithology': 'peat'}), 'colour': '#ffcf81', 'width': None, 'hatch': None})\n",
       "Decor({'component': Component({'lithology': 'coral'}), 'colour': '#ffcc99', 'width': None, 'hatch': None})\n",
       "Decor({'component': Component({'lithology': 'residuum'}), 'colour': '#ffe389', 'width': None, 'hatch': None})\n",
       "Decor({'component': Component({'lithology': 'clay or mud'}), 'colour': '#ffdb67', 'width': None, 'hatch': None})\n",
       "Decor({'component': Component({'lithology': 'silt'}), 'colour': '#ffd345', 'width': None, 'hatch': None})\n",
       "Decor({'component': Component({'lithology': 'sand'}), 'colour': '#ffcb23', 'width': None, 'hatch': None})\n",
       "Decor({'component': Component({'lithology': 'gravel'}), 'colour': '#ecb400', 'width': None, 'hatch': None})\n",
       "Decor({'component': Component({'lithology': 'sedimentary rock'}), 'colour': '#92dcb7', 'width': None, 'hatch': None})\n",
       "Decor({'component': Component({'lithology': 'clastic rock'}), 'colour': '#d9fdd3', 'width': None, 'hatch': None})\n",
       "Decor({'component': Component({'lithology': 'mudstone'}), 'colour': '#cfefdf', 'width': None, 'hatch': None})\n",
       "Decor({'component': Component({'lithology': 'claystone'}), 'colour': '#d5e6cc', 'width': None, 'hatch': None})\n",
       "Decor({'component': Component({'lithology': 'bentonite'}), 'colour': '#c0d0c0', 'width': None, 'hatch': None})\n",
       "Decor({'component': Component({'lithology': 'shale'}), 'colour': '#ace4c8', 'width': None, 'hatch': None})\n",
       "Decor({'component': Component({'lithology': 'black shale'}), 'colour': '#dbfebc', 'width': None, 'hatch': None})\n",
       "Decor({'component': Component({'lithology': 'oil shale'}), 'colour': '#bbffdd', 'width': None, 'hatch': None})\n",
       "Decor({'component': Component({'lithology': 'argillite'}), 'colour': '#e1f0d8', 'width': None, 'hatch': None})\n",
       "Decor({'component': Component({'lithology': 'siltstone'}), 'colour': '#d6fe9a', 'width': None, 'hatch': None})\n",
       "Decor({'component': Component({'lithology': 'fine-grained mixed clastic rock'}), 'colour': '#95ffca', 'width': None, 'hatch': None})\n",
       "Decor({'component': Component({'lithology': 'sandstone'}), 'colour': '#cdffd9', 'width': None, 'hatch': None})\n",
       "Decor({'component': Component({'lithology': 'arenite'}), 'colour': '#a6fcaa', 'width': None, 'hatch': None})\n",
       "Decor({'component': Component({'lithology': 'orthoquartzite'}), 'colour': '#cbefce', 'width': None, 'hatch': None})\n",
       "Decor({'component': Component({'lithology': 'calcarenite'}), 'colour': '#9acefe', 'width': None, 'hatch': None})\n",
       "Decor({'component': Component({'lithology': 'arkose'}), 'colour': '#69cf9c', 'width': None, 'hatch': None})\n",
       "Decor({'component': Component({'lithology': 'wacke'}), 'colour': '#bddbf1', 'width': None, 'hatch': None})\n",
       "Decor({'component': Component({'lithology': 'graywacke'}), 'colour': '#b8eac3', 'width': None, 'hatch': None})\n",
       "Decor({'component': Component({'lithology': 'medium-grained mixed clastic rock'}), 'colour': '#90a565', 'width': None, 'hatch': None})\n",
       "Decor({'component': Component({'lithology': 'conglomerate'}), 'colour': '#b7d9cc', 'width': None, 'hatch': None})\n",
       "Decor({'component': Component({'lithology': 'sedimentary breccia'}), 'colour': '#a7ba86', 'width': None, 'hatch': None})\n",
       "Decor({'component': Component({'lithology': 'coarse-grained mixed clastic rock'}), 'colour': '#a5aaad', 'width': None, 'hatch': None})\n",
       "Decor({'component': Component({'lithology': 'olistostrome'}), 'colour': '#8dbecd', 'width': None, 'hatch': None})\n",
       "Decor({'component': Component({'lithology': 'melange'}), 'colour': '#bbc0c5', 'width': None, 'hatch': None})\n",
       "Decor({'component': Component({'lithology': 'carbonate rock'}), 'colour': '#56e0fc', 'width': None, 'hatch': None})\n",
       "Decor({'component': Component({'lithology': 'limestone'}), 'colour': '#43aff9', 'width': None, 'hatch': None})\n",
       "Decor({'component': Component({'lithology': 'dolostone'}), 'colour': '#6bc3ff', 'width': None, 'hatch': None})\n",
       "Decor({'component': Component({'lithology': 'mixed carbonate/clastic rock'}), 'colour': '#38b4b1', 'width': None, 'hatch': None})\n",
       "Decor({'component': Component({'lithology': 'mixed volcanic/clastic rock'}), 'colour': '#60ccbf', 'width': None, 'hatch': None})\n",
       "Decor({'component': Component({'lithology': 'phosphorite'}), 'colour': '#bfe3dc', 'width': None, 'hatch': None})\n",
       "Decor({'component': Component({'lithology': 'chemical sedimentary rock'}), 'colour': '#cddeff', 'width': None, 'hatch': None})\n",
       "Decor({'component': Component({'lithology': 'evaporite'}), 'colour': '#019ccd', 'width': None, 'hatch': None})\n",
       "Decor({'component': Component({'lithology': 'chert'}), 'colour': '#9abfc0', 'width': None, 'hatch': None})\n",
       "Decor({'component': Component({'lithology': 'novaculite'}), 'colour': '#c0aeb6', 'width': None, 'hatch': None})\n",
       "Decor({'component': Component({'lithology': 'iron formation'}), 'colour': '#b99598', 'width': None, 'hatch': None})\n",
       "Decor({'component': Component({'lithology': 'exhalite'}), 'colour': '#d9c2a3', 'width': None, 'hatch': None})\n",
       "Decor({'component': Component({'lithology': 'coal'}), 'colour': '#820041', 'width': None, 'hatch': None})\n",
       "Decor({'component': Component({'lithology': 'mixed coal and clastic rock'}), 'colour': '#6e4909', 'width': None, 'hatch': None})\n",
       "Decor({'component': Component({'lithology': 'plutonic rock'}), 'colour': '#fc6e7c', 'width': None, 'hatch': None})\n",
       "Decor({'component': Component({'lithology': 'aplite'}), 'colour': '#ffc1b7', 'width': None, 'hatch': None})\n",
       "Decor({'component': Component({'lithology': 'porphyry'}), 'colour': '#ffe1e8', 'width': None, 'hatch': None})\n",
       "Decor({'component': Component({'lithology': 'lampophyre'}), 'colour': '#e45891', 'width': None, 'hatch': None})\n",
       "Decor({'component': Component({'lithology': 'pegmatite'}), 'colour': '#ffeff3', 'width': None, 'hatch': None})\n",
       "Decor({'component': Component({'lithology': 'granitoid'}), 'colour': '#dd2972', 'width': None, 'hatch': None})\n",
       "Decor({'component': Component({'lithology': 'alkali-feldspar granite'}), 'colour': '#ffd1dc', 'width': None, 'hatch': None})\n",
       "Decor({'component': Component({'lithology': 'granite'}), 'colour': '#f9b5bb', 'width': None, 'hatch': None})\n",
       "Decor({'component': Component({'lithology': 'peraluminous granite'}), 'colour': '#f8beae', 'width': None, 'hatch': None})\n",
       "Decor({'component': Component({'lithology': 'metaluminous granite'}), 'colour': '#ffb3c5', 'width': None, 'hatch': None})\n",
       "Decor({'component': Component({'lithology': 'subaluminous granite'}), 'colour': '#ff6f6b', 'width': None, 'hatch': None})\n",
       "Decor({'component': Component({'lithology': 'peralkaline granite'}), 'colour': '#fc5262', 'width': None, 'hatch': None})\n",
       "Decor({'component': Component({'lithology': 'granodiorite'}), 'colour': '#e979a6', 'width': None, 'hatch': None})\n",
       "Decor({'component': Component({'lithology': 'tonalite'}), 'colour': '#fcb6b6', 'width': None, 'hatch': None})\n",
       "Decor({'component': Component({'lithology': 'trondhjemite'}), 'colour': '#ffa7bc', 'width': None, 'hatch': None})\n",
       "Decor({'component': Component({'lithology': 'alkali-feldpar syenite'}), 'colour': '#f43c6c', 'width': None, 'hatch': None})\n",
       "Decor({'component': Component({'lithology': 'quartz syenite'}), 'colour': '#fb2338', 'width': None, 'hatch': None})\n",
       "Decor({'component': Component({'lithology': 'syenite'}), 'colour': '#f41a87', 'width': None, 'hatch': None})\n",
       "Decor({'component': Component({'lithology': 'quartz monzonite'}), 'colour': '#ff6388', 'width': None, 'hatch': None})\n",
       "Decor({'component': Component({'lithology': 'monzonite'}), 'colour': '#ff275a', 'width': None, 'hatch': None})\n",
       "Decor({'component': Component({'lithology': 'quartz monzodiorite'}), 'colour': '#ff819f', 'width': None, 'hatch': None})\n",
       "Decor({'component': Component({'lithology': 'monzodiorite'}), 'colour': '#ffa99d', 'width': None, 'hatch': None})\n",
       "Decor({'component': Component({'lithology': 'quartz diorite'}), 'colour': '#e81c00', 'width': None, 'hatch': None})\n",
       "Decor({'component': Component({'lithology': 'diorite'}), 'colour': '#ff3317', 'width': None, 'hatch': None})\n",
       "Decor({'component': Component({'lithology': 'diabase'}), 'colour': '#d60000', 'width': None, 'hatch': None})\n",
       "Decor({'component': Component({'lithology': 'gabbroid'}), 'colour': '#ac0000', 'width': None, 'hatch': None})\n",
       "Decor({'component': Component({'lithology': 'quartz monzogabbro'}), 'colour': '#ff6f5b', 'width': None, 'hatch': None})\n",
       "Decor({'component': Component({'lithology': 'monzogabbro'}), 'colour': '#e377ad', 'width': None, 'hatch': None})\n",
       "Decor({'component': Component({'lithology': 'quartz gabbro'}), 'colour': '#eda7ca', 'width': None, 'hatch': None})\n",
       "Decor({'component': Component({'lithology': 'gabbro'}), 'colour': '#e993be', 'width': None, 'hatch': None})\n",
       "Decor({'component': Component({'lithology': 'norite'}), 'colour': '#ffd6d1', 'width': None, 'hatch': None})\n",
       "Decor({'component': Component({'lithology': 'troctolite'}), 'colour': '#ffbfce', 'width': None, 'hatch': None})\n",
       "Decor({'component': Component({'lithology': 'anorthosite'}), 'colour': '#ff95ae', 'width': None, 'hatch': None})\n",
       "Decor({'component': Component({'lithology': 'alkalic intrusive rock'}), 'colour': '#ff6f91', 'width': None, 'hatch': None})\n",
       "Decor({'component': Component({'lithology': 'nepheline syenite'}), 'colour': '#ff1b51', 'width': None, 'hatch': None})\n",
       "Decor({'component': Component({'lithology': 'ultramafic intrusive rock'}), 'colour': '#e80037', 'width': None, 'hatch': None})\n",
       "Decor({'component': Component({'lithology': 'peridotite'}), 'colour': '#ce0031', 'width': None, 'hatch': None})\n",
       "Decor({'component': Component({'lithology': 'dunite'}), 'colour': '#b0002a', 'width': None, 'hatch': None})\n",
       "Decor({'component': Component({'lithology': 'kimberlite'}), 'colour': '#c1010a', 'width': None, 'hatch': None})\n",
       "Decor({'component': Component({'lithology': 'pyroxenite'}), 'colour': '#940023', 'width': None, 'hatch': None})\n",
       "Decor({'component': Component({'lithology': 'hornblendite'}), 'colour': '#a30109', 'width': None, 'hatch': None})\n",
       "Decor({'component': Component({'lithology': 'intrusive carbonatite'}), 'colour': '#750107', 'width': None, 'hatch': None})\n",
       "Decor({'component': Component({'lithology': 'volcanic rock'}), 'colour': '#ffb7de', 'width': None, 'hatch': None})\n",
       "Decor({'component': Component({'lithology': 'glassy volcanic rock'}), 'colour': '#ffc3e4', 'width': None, 'hatch': None})\n",
       "Decor({'component': Component({'lithology': 'obsidian'}), 'colour': '#ffd1ea', 'width': None, 'hatch': None})\n",
       "Decor({'component': Component({'lithology': 'vitrophyre'}), 'colour': '#ffc3f8', 'width': None, 'hatch': None})\n",
       "Decor({'component': Component({'lithology': 'pumice'}), 'colour': '#ffe5f3', 'width': None, 'hatch': None})\n",
       "Decor({'component': Component({'lithology': 'pyroclastic'}), 'colour': '#ffe0de', 'width': None, 'hatch': None})\n",
       "Decor({'component': Component({'lithology': 'tuff'}), 'colour': '#f9d3d3', 'width': None, 'hatch': None})\n",
       "Decor({'component': Component({'lithology': 'welded tuff'}), 'colour': '#fff3c9', 'width': None, 'hatch': None})\n",
       "Decor({'component': Component({'lithology': 'ash-flow tuff'}), 'colour': '#ffefd9', 'width': None, 'hatch': None})\n",
       "Decor({'component': Component({'lithology': 'ignimbrite'}), 'colour': '#ffe5c3', 'width': None, 'hatch': None})\n",
       "Decor({'component': Component({'lithology': 'volcanic breccia'}), 'colour': '#ffd59d', 'width': None, 'hatch': None})\n",
       "Decor({'component': Component({'lithology': 'lava flow'}), 'colour': '#ffa227', 'width': None, 'hatch': None})\n",
       "Decor({'component': Component({'lithology': 'bimodal suite'}), 'colour': '#ffc16f', 'width': None, 'hatch': None})\n",
       "Decor({'component': Component({'lithology': 'felsic volcanic rock'}), 'colour': '#f48b00', 'width': None, 'hatch': None})\n",
       "Decor({'component': Component({'lithology': 'alkali-feldspar rhyolite'}), 'colour': '#fedc7e', 'width': None, 'hatch': None})\n",
       "Decor({'component': Component({'lithology': 'rhyolite'}), 'colour': '#fecc68', 'width': None, 'hatch': None})\n",
       "Decor({'component': Component({'lithology': 'rhyodacite'}), 'colour': '#fec62a', 'width': None, 'hatch': None})\n",
       "Decor({'component': Component({'lithology': 'dacite'}), 'colour': '#fecdac', 'width': None, 'hatch': None})\n",
       "Decor({'component': Component({'lithology': 'alkali-feldspar trachyte'}), 'colour': '#feb786', 'width': None, 'hatch': None})\n",
       "Decor({'component': Component({'lithology': 'trachyte'}), 'colour': '#fea060', 'width': None, 'hatch': None})\n",
       "Decor({'component': Component({'lithology': 'quartz latite'}), 'colour': '#fe8736', 'width': None, 'hatch': None})\n",
       "Decor({'component': Component({'lithology': 'latite'}), 'colour': '#fe7518', 'width': None, 'hatch': None})\n",
       "Decor({'component': Component({'lithology': 'intermediate volcanic rock'}), 'colour': '#eb6001', 'width': None, 'hatch': None})\n",
       "Decor({'component': Component({'lithology': 'trachyandesite'}), 'colour': '#c95201', 'width': None, 'hatch': None})\n",
       "Decor({'component': Component({'lithology': 'andesite'}), 'colour': '#b14801', 'width': None, 'hatch': None})\n",
       "Decor({'component': Component({'lithology': 'mafic volcanic rock'}), 'colour': '#933c01', 'width': None, 'hatch': None})\n",
       "Decor({'component': Component({'lithology': 'trachybasalt'}), 'colour': '#ecd5c6', 'width': None, 'hatch': None})\n",
       "Decor({'component': Component({'lithology': 'basalt'}), 'colour': '#ddb397', 'width': None, 'hatch': None})\n",
       "Decor({'component': Component({'lithology': 'tholeite'}), 'colour': '#d39d79', 'width': None, 'hatch': None})\n",
       "Decor({'component': Component({'lithology': 'hawaiite'}), 'colour': '#c68050', 'width': None, 'hatch': None})\n",
       "Decor({'component': Component({'lithology': 'alkaline basalt'}), 'colour': '#a96537', 'width': None, 'hatch': None})\n",
       "Decor({'component': Component({'lithology': 'alkalic volcanic rock'}), 'colour': '#c24100', 'width': None, 'hatch': None})\n",
       "Decor({'component': Component({'lithology': 'phonolite'}), 'colour': '#5f391f', 'width': None, 'hatch': None})\n",
       "Decor({'component': Component({'lithology': 'tephrite'}), 'colour': '#854f2b', 'width': None, 'hatch': None})\n",
       "Decor({'component': Component({'lithology': 'ultramafitite'}), 'colour': '#a03500', 'width': None, 'hatch': None})\n",
       "Decor({'component': Component({'lithology': 'volcanic carbonatite'}), 'colour': '#6e2500', 'width': None, 'hatch': None})\n",
       "Decor({'component': Component({'lithology': 'metamorphic rock'}), 'colour': '#a7a7ff', 'width': None, 'hatch': None})\n",
       "Decor({'component': Component({'lithology': 'hornfels'}), 'colour': '#eaafff', 'width': None, 'hatch': None})\n",
       "Decor({'component': Component({'lithology': 'metasedimentary rock'}), 'colour': '#7dff7d', 'width': None, 'hatch': None})\n",
       "Decor({'component': Component({'lithology': 'meta-argillite'}), 'colour': '#c9ffc9', 'width': None, 'hatch': None})\n",
       "Decor({'component': Component({'lithology': 'slate'}), 'colour': '#e6cdff', 'width': None, 'hatch': None})\n",
       "Decor({'component': Component({'lithology': 'quartzite'}), 'colour': '#9fff9f', 'width': None, 'hatch': None})\n",
       "Decor({'component': Component({'lithology': 'metaconglomerate'}), 'colour': '#e9ffe9', 'width': None, 'hatch': None})\n",
       "Decor({'component': Component({'lithology': 'marble'}), 'colour': '#0000ff', 'width': None, 'hatch': None})\n",
       "Decor({'component': Component({'lithology': 'metavolcanic rock'}), 'colour': '#ff57ff', 'width': None, 'hatch': None})\n",
       "Decor({'component': Component({'lithology': 'felsic metavolcanic rock'}), 'colour': '#ff8dff', 'width': None, 'hatch': None})\n",
       "Decor({'component': Component({'lithology': 'metarhyolite'}), 'colour': '#ffa7ff', 'width': None, 'hatch': None})\n",
       "Decor({'component': Component({'lithology': 'keratophyre'}), 'colour': '#fe6700', 'width': None, 'hatch': None})\n",
       "Decor({'component': Component({'lithology': 'intermediate metavolcanic rock'}), 'colour': '#ff0000', 'width': None, 'hatch': None})\n",
       "Decor({'component': Component({'lithology': 'mafic metavolcanic rock'}), 'colour': '#b93b68', 'width': None, 'hatch': None})\n",
       "Decor({'component': Component({'lithology': 'metabasalt'}), 'colour': '#872b4c', 'width': None, 'hatch': None})\n",
       "Decor({'component': Component({'lithology': 'spilite'}), 'colour': '#c9557e', 'width': None, 'hatch': None})\n",
       "Decor({'component': Component({'lithology': 'greenstone'}), 'colour': '#008000', 'width': None, 'hatch': None})\n",
       "Decor({'component': Component({'lithology': 'phyllite'}), 'colour': '#b4cfe4', 'width': None, 'hatch': None})\n",
       "Decor({'component': Component({'lithology': 'schist'}), 'colour': '#dbdbe7', 'width': None, 'hatch': None})\n",
       "Decor({'component': Component({'lithology': 'greenschist'}), 'colour': '#ededf3', 'width': None, 'hatch': None})\n",
       "Decor({'component': Component({'lithology': 'blueschist'}), 'colour': '#c0c0c0', 'width': None, 'hatch': None})\n",
       "Decor({'component': Component({'lithology': 'mica schist'}), 'colour': '#b1b1b1', 'width': None, 'hatch': None})\n",
       "Decor({'component': Component({'lithology': 'pelitic schist'}), 'colour': '#cacadc', 'width': None, 'hatch': None})\n",
       "Decor({'component': Component({'lithology': 'quartz-feldspar schist'}), 'colour': '#a2a2c0', 'width': None, 'hatch': None})\n",
       "Decor({'component': Component({'lithology': 'calc-silicate schist'}), 'colour': '#b6b6ce', 'width': None, 'hatch': None})\n",
       "Decor({'component': Component({'lithology': 'amphibole schist'}), 'colour': '#969696', 'width': None, 'hatch': None})\n",
       "Decor({'component': Component({'lithology': 'granofels'}), 'colour': '#a337fd', 'width': None, 'hatch': None})\n",
       "Decor({'component': Component({'lithology': 'gneiss'}), 'colour': '#ecd6fe', 'width': None, 'hatch': None})\n",
       "Decor({'component': Component({'lithology': 'felsic gneiss'}), 'colour': '#e0bcfe', 'width': None, 'hatch': None})\n",
       "Decor({'component': Component({'lithology': 'granitic gneiss'}), 'colour': '#d5a4fe', 'width': None, 'hatch': None})\n",
       "Decor({'component': Component({'lithology': 'biotite gneiss'}), 'colour': '#c886fe', 'width': None, 'hatch': None})\n",
       "Decor({'component': Component({'lithology': 'mafic gneiss'}), 'colour': '#ccb7ff', 'width': None, 'hatch': None})\n",
       "Decor({'component': Component({'lithology': 'orthogneiss'}), 'colour': '#b395ff', 'width': None, 'hatch': None})\n",
       "Decor({'component': Component({'lithology': 'paragneiss'}), 'colour': '#9063ff', 'width': None, 'hatch': None})\n",
       "Decor({'component': Component({'lithology': 'migmatite'}), 'colour': '#9f00ca', 'width': None, 'hatch': None})\n",
       "Decor({'component': Component({'lithology': 'amphibolite'}), 'colour': '#7b009c', 'width': None, 'hatch': None})\n",
       "Decor({'component': Component({'lithology': 'granulite'}), 'colour': '#6a006a', 'width': None, 'hatch': None})\n",
       "Decor({'component': Component({'lithology': 'eclogite'}), 'colour': '#ce9dff', 'width': None, 'hatch': None})\n",
       "Decor({'component': Component({'lithology': 'greisen'}), 'colour': '#a449ff', 'width': None, 'hatch': None})\n",
       "Decor({'component': Component({'lithology': 'skarn'}), 'colour': '#8103ff', 'width': None, 'hatch': None})\n",
       "Decor({'component': Component({'lithology': 'calc-silicate rock'}), 'colour': '#46008c', 'width': None, 'hatch': None})\n",
       "Decor({'component': Component({'lithology': 'serpentinite'}), 'colour': '#005c00', 'width': None, 'hatch': None})\n",
       "Decor({'component': Component({'lithology': 'tectonite'}), 'colour': '#84613e', 'width': None, 'hatch': None})\n",
       "Decor({'component': Component({'lithology': 'tectonic melange'}), 'colour': '#d0cbb0', 'width': None, 'hatch': None})\n",
       "Decor({'component': Component({'lithology': 'tectonic breccia'}), 'colour': '#b0a778', 'width': None, 'hatch': None})\n",
       "Decor({'component': Component({'lithology': 'cataclasite'}), 'colour': '#887f50', 'width': None, 'hatch': None})\n",
       "Decor({'component': Component({'lithology': 'phyllonite'}), 'colour': '#ac7f50', 'width': None, 'hatch': None})\n",
       "Decor({'component': Component({'lithology': 'mylonite'}), 'colour': '#6d5033', 'width': None, 'hatch': None})\n",
       "Decor({'component': Component({'lithology': 'flaser gneiss'}), 'colour': '#64020b', 'width': None, 'hatch': None})\n",
       "Decor({'component': Component({'lithology': 'augen gneiss'}), 'colour': '#887f50', 'width': None, 'hatch': None}))"
      ]
     },
     "execution_count": 16,
     "metadata": {},
     "output_type": "execute_result"
    }
   ],
   "source": [
    "Legend.default()"
   ]
  },
  {
   "cell_type": "markdown",
   "metadata": {},
   "source": [
    "There are also default timescales:"
   ]
  },
  {
   "cell_type": "code",
   "execution_count": 17,
   "metadata": {
    "collapsed": false,
    "internals": {},
    "slideshow": {
     "slide_type": "-"
    }
   },
   "outputs": [
    {
     "data": {
      "text/plain": [
       "Legend(Decor({'component': Component({'age': 'phanerozoic'}), 'colour': '#6fdaed', 'width': None, 'hatch': None})\n",
       "Decor({'component': Component({'age': 'cenozoic'}), 'colour': '#f6ec39', 'width': None, 'hatch': None})\n",
       "Decor({'component': Component({'age': 'quaternary'}), 'colour': '#fef691', 'width': None, 'hatch': None})\n",
       "Decor({'component': Component({'age': 'tertiary'}), 'colour': '#f2f902', 'width': None, 'hatch': None})\n",
       "Decor({'component': Component({'age': 'neogene'}), 'colour': '#fedd2d', 'width': None, 'hatch': None})\n",
       "Decor({'component': Component({'age': 'holocene'}), 'colour': '#fef1e0', 'width': None, 'hatch': None})\n",
       "Decor({'component': Component({'age': 'pleistocene'}), 'colour': '#feefb8', 'width': None, 'hatch': None})\n",
       "Decor({'component': Component({'age': 'upper pleistocene'}), 'colour': '#fef1d6', 'width': None, 'hatch': None})\n",
       "Decor({'component': Component({'age': 'tarantian'}), 'colour': '#fef1d6', 'width': None, 'hatch': None})\n",
       "Decor({'component': Component({'age': 'middle pleistocene'}), 'colour': '#fef0cc', 'width': None, 'hatch': None}))"
      ]
     },
     "execution_count": 17,
     "metadata": {},
     "output_type": "execute_result"
    }
   ],
   "source": [
    "time = Legend.default_timescale()\n",
    "time[:10]"
   ]
  },
  {
   "cell_type": "markdown",
   "metadata": {},
   "source": [
    "## Querying a legend"
   ]
  },
  {
   "cell_type": "markdown",
   "metadata": {
    "internals": {},
    "slideshow": {
     "slide_type": "-"
    }
   },
   "source": [
    "The legend is basically a query table. We can ask the Legend what colour to use for a given Rock object:"
   ]
  },
  {
   "cell_type": "code",
   "execution_count": 18,
   "metadata": {
    "collapsed": false,
    "internals": {},
    "scrolled": false,
    "slideshow": {
     "slide_type": "-"
    }
   },
   "outputs": [
    {
     "data": {
      "text/plain": [
       "'#eeeeee'"
      ]
     },
     "execution_count": 18,
     "metadata": {},
     "output_type": "execute_result"
    }
   ],
   "source": [
    "legend.get_colour(rock)"
   ]
  },
  {
   "cell_type": "code",
   "execution_count": 19,
   "metadata": {
    "collapsed": false,
    "internals": {},
    "slideshow": {
     "slide_type": "-"
    }
   },
   "outputs": [
    {
     "data": {
      "text/plain": [
       "'#ffdbba'"
      ]
     },
     "execution_count": 19,
     "metadata": {},
     "output_type": "execute_result"
    }
   ],
   "source": [
    "rock3 = Component({'colour': 'red',\n",
    "           'grainsize': 'vf-f',\n",
    "           'lithology': 'sandstone'})\n",
    "legend.get_colour(rock3)"
   ]
  },
  {
   "cell_type": "markdown",
   "metadata": {
    "internals": {},
    "slideshow": {
     "slide_type": "-"
    }
   },
   "source": [
    "Sometimes we also want to use a width for a given lithology:"
   ]
  },
  {
   "cell_type": "code",
   "execution_count": 20,
   "metadata": {
    "collapsed": false,
    "internals": {},
    "slideshow": {
     "slide_type": "-"
    }
   },
   "outputs": [
    {
     "data": {
      "text/plain": [
       "3.0"
      ]
     },
     "execution_count": 20,
     "metadata": {},
     "output_type": "execute_result"
    }
   ],
   "source": [
    "legend.get_width(rock3)"
   ]
  },
  {
   "cell_type": "markdown",
   "metadata": {
    "internals": {},
    "slideshow": {
     "slide_type": "-"
    }
   },
   "source": [
    "We can also ask the legend which Rock is represented by a particular colour. (I doubt you'd ever really need to do this, but I had to implement this to allow you to make a `Striplog` from an image: it looks up the rocks to use by colour.)"
   ]
  },
  {
   "cell_type": "code",
   "execution_count": 21,
   "metadata": {
    "collapsed": false,
    "internals": {},
    "slideshow": {
     "slide_type": "-"
    }
   },
   "outputs": [
    {
     "data": {
      "text/html": [
       "<table><tr><td><strong>lithology</strong></td><td>sandstone</td></tr><tr><td><strong>colour</strong></td><td>grey</td></tr><tr><td><strong>grainsize</strong></td><td>vf-f</td></tr></table>"
      ],
      "text/plain": [
       "Component({'lithology': 'sandstone', 'colour': 'grey', 'grainsize': 'vf-f'})"
      ]
     },
     "execution_count": 21,
     "metadata": {},
     "output_type": "execute_result"
    }
   ],
   "source": [
    "legend.get_component('#f7e9a6')"
   ]
  },
  {
   "cell_type": "markdown",
   "metadata": {
    "internals": {},
    "slideshow": {
     "slide_type": "-"
    }
   },
   "source": [
    "The `Legend` behaves more or less like a list, so we can index into it:"
   ]
  },
  {
   "cell_type": "code",
   "execution_count": 22,
   "metadata": {
    "collapsed": false,
    "internals": {},
    "slideshow": {
     "slide_type": "-"
    }
   },
   "outputs": [
    {
     "data": {
      "text/plain": [
       "Legend(Decor({'component': Component({'lithology': 'volcanic'}), 'colour': '#ff4c4a', 'width': 2.0, 'hatch': None})\n",
       "Decor({'component': Component({'lithology': 'conglomerate'}), 'colour': '#86f0b6', 'width': 5.0, 'hatch': None}))"
      ]
     },
     "execution_count": 22,
     "metadata": {},
     "output_type": "execute_result"
    }
   ],
   "source": [
    "legend[3:5]"
   ]
  },
  {
   "cell_type": "markdown",
   "metadata": {
    "internals": {},
    "slideshow": {
     "slide_type": "-"
    }
   },
   "source": [
    "`Legend`s can plot themselves. "
   ]
  },
  {
   "cell_type": "code",
   "execution_count": 23,
   "metadata": {
    "collapsed": false,
    "internals": {},
    "slideshow": {
     "slide_type": "-"
    }
   },
   "outputs": [
    {
     "data": {
      "image/png": "[encoded data removed]",
      "text/plain": [
       "<matplotlib.figure.Figure at 0x10944a3c8>"
      ]
     },
     "metadata": {},
     "output_type": "display_data"
    },
    {
     "data": {
      "image/png": "[encoded data removed]",
      "text/plain": [
       "<matplotlib.figure.Figure at 0x105c69b70>"
      ]
     },
     "metadata": {},
     "output_type": "display_data"
    },
    {
     "data": {
      "image/png": "[encoded data removed]",
      "text/plain": [
       "<matplotlib.figure.Figure at 0x1094df9e8>"
      ]
     },
     "metadata": {},
     "output_type": "display_data"
    },
    {
     "data": {
      "image/png": "[encoded data removed]",
      "text/plain": [
       "<matplotlib.figure.Figure at 0x109533dd8>"
      ]
     },
     "metadata": {},
     "output_type": "display_data"
    },
    {
     "data": {
      "image/png": "[encoded data removed]",
      "text/plain": [
       "<matplotlib.figure.Figure at 0x10957b8d0>"
      ]
     },
     "metadata": {},
     "output_type": "display_data"
    },
    {
     "data": {
      "image/png": "[encoded data removed]",
      "text/plain": [
       "<matplotlib.figure.Figure at 0x1095d1160>"
      ]
     },
     "metadata": {},
     "output_type": "display_data"
    },
    {
     "data": {
      "image/png": "[encoded data removed]",
      "text/plain": [
       "<matplotlib.figure.Figure at 0x109616748>"
      ]
     },
     "metadata": {},
     "output_type": "display_data"
    },
    {
     "data": {
      "image/png": "[encoded data removed]",
      "text/plain": [
       "<matplotlib.figure.Figure at 0x10966c2b0>"
      ]
     },
     "metadata": {},
     "output_type": "display_data"
    },
    {
     "data": {
      "image/png": "[encoded data removed]",
      "text/plain": [
       "<matplotlib.figure.Figure at 0x1096b2588>"
      ]
     },
     "metadata": {},
     "output_type": "display_data"
    },
    {
     "data": {
      "image/png": "[encoded data removed]",
      "text/plain": [
       "<matplotlib.figure.Figure at 0x109701f98>"
      ]
     },
     "metadata": {},
     "output_type": "display_data"
    },
    {
     "data": {
      "image/png": "[encoded data removed]",
      "text/plain": [
       "<matplotlib.figure.Figure at 0x1096c0f98>"
      ]
     },
     "metadata": {},
     "output_type": "display_data"
    },
    {
     "data": {
      "image/png": "[encoded data removed]",
      "text/plain": [
       "<matplotlib.figure.Figure at 0x1092cbf28>"
      ]
     },
     "metadata": {},
     "output_type": "display_data"
    },
    {
     "data": {
      "image/png": "[encoded data removed]",
      "text/plain": [
       "<matplotlib.figure.Figure at 0x10979ee48>"
      ]
     },
     "metadata": {},
     "output_type": "display_data"
    },
    {
     "data": {
      "image/png": "[encoded data removed]",
      "text/plain": [
       "<matplotlib.figure.Figure at 0x1097e49b0>"
      ]
     },
     "metadata": {},
     "output_type": "display_data"
    },
    {
     "data": {
      "image/png": "[encoded data removed]",
      "text/plain": [
       "<matplotlib.figure.Figure at 0x10993b5c0>"
      ]
     },
     "metadata": {},
     "output_type": "display_data"
    },
    {
     "data": {
      "image/png": "[encoded data removed]",
      "text/plain": [
       "<matplotlib.figure.Figure at 0x109986278>"
      ]
     },
     "metadata": {},
     "output_type": "display_data"
    },
    {
     "data": {
      "image/png": "[encoded data removed]",
      "text/plain": [
       "<matplotlib.figure.Figure at 0x1099d5da0>"
      ]
     },
     "metadata": {},
     "output_type": "display_data"
    },
    {
     "data": {
      "image/png": "[encoded data removed]",
      "text/plain": [
       "<matplotlib.figure.Figure at 0x109a217b8>"
      ]
     },
     "metadata": {},
     "output_type": "display_data"
    }
   ],
   "source": [
    "legend.plot()"
   ]
  },
  {
   "cell_type": "markdown",
   "metadata": {
    "internals": {},
    "slideshow": {
     "slide_type": "-"
    }
   },
   "source": [
    "Sometimes you don't want to have to make a legend, so you can use a random one. Just pass a list of `Component`s..."
   ]
  },
  {
   "cell_type": "code",
   "execution_count": 24,
   "metadata": {
    "collapsed": false,
    "internals": {},
    "slideshow": {
     "slide_type": "-"
    }
   },
   "outputs": [
    {
     "data": {
      "image/png": "[encoded data removed]",
      "text/plain": [
       "<matplotlib.figure.Figure at 0x1092db400>"
      ]
     },
     "metadata": {},
     "output_type": "display_data"
    },
    {
     "data": {
      "image/png": "[encoded data removed]",
      "text/plain": [
       "<matplotlib.figure.Figure at 0x109c0e908>"
      ]
     },
     "metadata": {},
     "output_type": "display_data"
    },
    {
     "data": {
      "image/png": "[encoded data removed]",
      "text/plain": [
       "<matplotlib.figure.Figure at 0x109c637f0>"
      ]
     },
     "metadata": {},
     "output_type": "display_data"
    },
    {
     "data": {
      "image/png": "[encoded data removed]",
      "text/plain": [
       "<matplotlib.figure.Figure at 0x109cab358>"
      ]
     },
     "metadata": {},
     "output_type": "display_data"
    },
    {
     "data": {
      "image/png": "[encoded data removed]",
      "text/plain": [
       "<matplotlib.figure.Figure at 0x109e00278>"
      ]
     },
     "metadata": {},
     "output_type": "display_data"
    },
    {
     "data": {
      "image/png": "[encoded data removed]",
      "text/plain": [
       "<matplotlib.figure.Figure at 0x109e42d68>"
      ]
     },
     "metadata": {},
     "output_type": "display_data"
    },
    {
     "data": {
      "image/png": "[encoded data removed]",
      "text/plain": [
       "<matplotlib.figure.Figure at 0x109e969b0>"
      ]
     },
     "metadata": {},
     "output_type": "display_data"
    }
   ],
   "source": [
    "# We'll scrape a quick list of 7 components from the default legend:\n",
    "c = [d.component for d in legend[:7]]\n",
    "\n",
    "l = Legend.random(c)\n",
    "l.plot()"
   ]
  },
  {
   "cell_type": "markdown",
   "metadata": {},
   "source": [
    "There is a default colour table for geological timescales too... it's based on the Wikipedia's colour scheme for the geological timetable. "
   ]
  },
  {
   "cell_type": "code",
   "execution_count": 25,
   "metadata": {
    "collapsed": false
   },
   "outputs": [
    {
     "data": {
      "image/png": "[encoded data removed]",
      "text/plain": [
       "<matplotlib.figure.Figure at 0x109539748>"
      ]
     },
     "metadata": {},
     "output_type": "display_data"
    },
    {
     "data": {
      "image/png": "[encoded data removed]",
      "text/plain": [
       "<matplotlib.figure.Figure at 0x10a047438>"
      ]
     },
     "metadata": {},
     "output_type": "display_data"
    },
    {
     "data": {
      "image/png": "[encoded data removed]",
      "text/plain": [
       "<matplotlib.figure.Figure at 0x10a097fd0>"
      ]
     },
     "metadata": {},
     "output_type": "display_data"
    },
    {
     "data": {
      "image/png": "[encoded data removed]",
      "text/plain": [
       "<matplotlib.figure.Figure at 0x10a0dee48>"
      ]
     },
     "metadata": {},
     "output_type": "display_data"
    },
    {
     "data": {
      "image/png": "[encoded data removed]",
      "text/plain": [
       "<matplotlib.figure.Figure at 0x10a131d68>"
      ]
     },
     "metadata": {},
     "output_type": "display_data"
    }
   ],
   "source": [
    "time[74:79].plot(fmt=\"{age!t}\")  # Pass a format for proper case"
   ]
  },
  {
   "cell_type": "markdown",
   "metadata": {},
   "source": [
    "## Hatch patterns"
   ]
  },
  {
   "cell_type": "code",
   "execution_count": 31,
   "metadata": {
    "collapsed": false
   },
   "outputs": [
    {
     "data": {
      "image/png": "[encoded data removed]",
      "text/plain": [
       "<matplotlib.figure.Figure at 0x1094792b0>"
      ]
     },
     "metadata": {},
     "output_type": "display_data"
    },
    {
     "data": {
      "image/png": "[encoded data removed]",
      "text/plain": [
       "<matplotlib.figure.Figure at 0x1099acb70>"
      ]
     },
     "metadata": {},
     "output_type": "display_data"
    },
    {
     "data": {
      "image/png": "[encoded data removed]",
      "text/plain": [
       "<matplotlib.figure.Figure at 0x1097f7898>"
      ]
     },
     "metadata": {},
     "output_type": "display_data"
    },
    {
     "data": {
      "image/png": "[encoded data removed]",
      "text/plain": [
       "<matplotlib.figure.Figure at 0x10957d5f8>"
      ]
     },
     "metadata": {},
     "output_type": "display_data"
    },
    {
     "data": {
      "image/png": "[encoded data removed]",
      "text/plain": [
       "<matplotlib.figure.Figure at 0x10969b550>"
      ]
     },
     "metadata": {},
     "output_type": "display_data"
    },
    {
     "data": {
      "image/png": "[encoded data removed]",
      "text/plain": [
       "<matplotlib.figure.Figure at 0x10a14c0b8>"
      ]
     },
     "metadata": {},
     "output_type": "display_data"
    },
    {
     "data": {
      "image/png": "[encoded data removed]",
      "text/plain": [
       "<matplotlib.figure.Figure at 0x1097b3208>"
      ]
     },
     "metadata": {},
     "output_type": "display_data"
    },
    {
     "data": {
      "image/png": "[encoded data removed]",
      "text/plain": [
       "<matplotlib.figure.Figure at 0x109cbb1d0>"
      ]
     },
     "metadata": {},
     "output_type": "display_data"
    },
    {
     "data": {
      "image/png": "[encoded data removed]",
      "text/plain": [
       "<matplotlib.figure.Figure at 0x1092f0f98>"
      ]
     },
     "metadata": {},
     "output_type": "display_data"
    },
    {
     "data": {
      "image/png": "[encoded data removed]",
      "text/plain": [
       "<matplotlib.figure.Figure at 0x109934b38>"
      ]
     },
     "metadata": {},
     "output_type": "display_data"
    }
   ],
   "source": [
    "hatchy = \"\"\"colour,width,hatch,component colour,component grainsize,component lithology\n",
    "#dddddd,1,+,,,siltstone,\n",
    "#dddddd,1,+++,,,greywacke,\n",
    "#dddddd,2,x,,,anhydrite,\n",
    "#dddddd,2,xxx,,,gypsum,\n",
    "#dddddd,3,/,,,missing,\n",
    "#dddddd,4,..,,,sandstone,\n",
    "#dddddd,5,o,,,conglomerate,\n",
    "#dddddd,5,0,,,till,\n",
    "#dddddd,6,---,,,mudstone,\n",
    "#dddddd,7,,,,limestone,\n",
    "\"\"\"\n",
    "Legend.from_csv(hatchy).plot()"
   ]
  },
  {
   "cell_type": "markdown",
   "metadata": {
    "internals": {
     "slide_helper": "subslide_end"
    },
    "slide_helper": "slide_end",
    "slideshow": {
     "slide_type": "-"
    }
   },
   "source": [
    "<hr />\n",
    "\n",
    "<p style=\"color:gray\">©2015 Agile Geoscience. Licensed CC-BY. <a href=\"https://github.com/agile-geoscience/striplog\">striplog.py</a></p>"
   ]
  }
 ],
 "metadata": {
  "kernelspec": {
   "display_name": "Python 3",
   "language": "python",
   "name": "python3"
  },
  "language_info": {
   "codemirror_mode": {
    "name": "ipython",
    "version": 3
   },
   "file_extension": ".py",
   "mimetype": "text/x-python",
   "name": "python",
   "nbconvert_exporter": "python",
   "pygments_lexer": "ipython3",
   "version": "3.4.3"
  }
 },
 "nbformat": 4,
 "nbformat_minor": 0
}
