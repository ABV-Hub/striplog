{
 "cells": [
  {
   "cell_type": "markdown",
   "metadata": {},
   "source": [
    "Launch this notebook:\n",
    "\n",
    "https://colab.research.google.com/github/agile-geoscience/striplog/blob/develop/tutorial/Markov_chains.ipynb\n",
    "\n",
    "-----\n",
    "\n",
    "## Markov chains for `striplog`\n",
    "\n",
    "Initially based on [Alfredo Molina on Medium](https://medium.com/@__amol__/markov-chains-with-python-1109663f3678), then incorporating quasi-independence model from Powers & Easterling, https://doi.org/10.1306/212F808F-2B24-11D7-8648000102C1865D. \n",
    "\n",
    "Need to define some functions and a `Markov_chain` class."
   ]
  },
  {
   "cell_type": "markdown",
   "metadata": {},
   "source": [
    "## Parse states\n",
    "\n",
    "All of the Markov chain code I could find wanted a transition matrix as input. But I wanted to be able to provide a sequence, then get the transitions from it. So we need to be able to parse a sequence of states &mdash; tokens representing the items in the sequence we are modeling. \n",
    "\n",
    "For example, we need the unique elements and 'sequence of sequences' from:\n",
    "\n",
    "- A list of states, eg `[10, 20, 10, 20, 20, 10]`\n",
    "- A string of states, eg `'ABBDDDDDCCCC'`\n",
    "- A list of lists of states, eg `[[1,2,2,3], [2,4,2]]`  (NB, not same length)\n",
    "- A list of strings of states, eg `['aaabb', 'aabbccc']` (NB, not same length)\n",
    "- A list of state names, eg `['sst', 'mud', 'sst']` (requires optional argument)\n",
    "- A list of lists of state names, eg `[['SS', 'M', 'SS'], ['M', 'M', 'LS']]`\n",
    "\n",
    "The uniques should look like:\n",
    "\n",
    "- `[10, 20]`\n",
    "- `['A', 'B', 'C', 'D']`\n",
    "- `[1, 2, 3, 4]`\n",
    "- `['a', 'b', 'c']`\n",
    "- `['mud', sst']`\n",
    "- `['LS', 'M', 'SS']`\n",
    "\n",
    "And the sequences of sequences:\n",
    "\n",
    "- `[10, 20, 10, 20, 20, 10]`\n",
    "- `['A', 'B', 'B', 'D', 'D', 'D', 'D', 'D', 'C', 'C', 'C', 'C']`\n",
    "- `[[1,2,2,3], [2,4,2]]`\n",
    "- `[['a', 'a', 'a', 'b', 'b'], ['a', 'a', 'b', 'b', 'c', 'c', 'c']]`\n",
    "- `[['sst', 'mud', 'sst']]`\n",
    "- `[['SS', 'M', 'SS'], ['M', 'M', 'LS']]`\n",
    "\n",
    "For some reason, this turned out to be a bit fiddly..."
   ]
  },
  {
   "cell_type": "code",
   "execution_count": 1,
   "metadata": {},
   "outputs": [],
   "source": [
    "import numpy as np\n",
    "\n",
    "def regularize(sequence, strings_are_states=False) -> tuple:\n",
    "    \"\"\"\n",
    "    Turn a sequence or sequence of sequences into a tuple of\n",
    "    the unique elements in the sequence(s), plus a sequence\n",
    "    of sequences (sort of equivalent to `np.atleast_2d()`).\n",
    "    \n",
    "    Args\n",
    "        sequence (list-like): A list-like container of either\n",
    "            states, or of list-likes of states.\n",
    "        strings_are_states (bool): True if the strings are\n",
    "            themselves states (i.e. words or tokens) and not\n",
    "            sequences of one-character states. For example,\n",
    "            set to True if you provide something like:\n",
    "            \n",
    "                ['sst', 'mud', 'mud', 'sst', 'lst', 'lst']\n",
    "                \n",
    "    Returns\n",
    "        tuple. A tuple of the unique states, and a sequence\n",
    "            of sequences.\n",
    "    \"\"\"\n",
    "    if strings_are_states:\n",
    "        if isinstance(sequence[0], str):\n",
    "            seq_of_seqs = [sequence]\n",
    "        else:\n",
    "            seq_of_seqs = sequence\n",
    "    else:\n",
    "        # Just try to iterate over the contents of the sequence.\n",
    "        try:\n",
    "            seq_of_seqs = [list(i) if len(i) > 1 else i for i in sequence]\n",
    "        except TypeError:\n",
    "            seq_of_seqs = [list(sequence)]\n",
    "\n",
    "        # Annoyingly, still have to fix case of single sequence of\n",
    "        # strings... this seems really hacky.\n",
    "        if len(seq_of_seqs[0]) == 1:\n",
    "            seq_of_seqs = [seq_of_seqs]\n",
    "\n",
    "    # Now we know we have a sequence of sequences.\n",
    "    uniques = set()\n",
    "    for seq in seq_of_seqs:\n",
    "        for i in seq:\n",
    "            uniques.add(i)\n",
    "\n",
    "    return np.array(sorted(uniques)), seq_of_seqs\n",
    "\n",
    "assert regularize([1,2,3,4,4,5,6])[1] == [[1, 2, 3, 4, 4, 5, 6]]\n",
    "assert regularize([[1,2,3,4], [4,5,6]])[1] == [[1, 2, 3, 4], [4, 5, 6]]\n",
    "assert regularize(['ssmm', 'mml'])[1] == [['s', 's', 'm', 'm'], ['m', 'm', 'l']]\n",
    "assert regularize('ssmmlll')[1] == [['s', 's', 'm', 'm', 'l', 'l', 'l']]\n",
    "assert regularize(['sand', 'mud'], strings_are_states=True)[1] == [['sand', 'mud']]\n",
    "assert regularize([['sand', 'mud'], ['mud', 'mud']], strings_are_states=True)[1] == [['sand', 'mud'],['mud', 'mud']]"
   ]
  },
  {
   "cell_type": "markdown",
   "metadata": {},
   "source": [
    "## A `Markov_chain` class"
   ]
  },
  {
   "cell_type": "code",
   "execution_count": 2,
   "metadata": {},
   "outputs": [],
   "source": [
    "import numpy as np\n",
    "import scipy.stats\n",
    "import matplotlib.pyplot as plt\n",
    "\n",
    "\n",
    "def hollow_matrix(M):\n",
    "    \"\"\"\n",
    "    Return hollow matrix (zeros on diagonal).\n",
    "    \n",
    "    Args\n",
    "        M (ndarray): a 2D, square array representing a matrix.\n",
    "        \n",
    "    Returns\n",
    "        ndarray. The same array with zeros on the diagonal.\n",
    "    \"\"\"\n",
    "    return (1 - np.eye(M.shape[0])) * M\n",
    "\n",
    "\n",
    "class Markov_chain(object):\n",
    "    \"\"\"\n",
    "    Markov_chain object.\n",
    "    \n",
    "    TODO\n",
    "    - Integrate into `striplog` or move into own project.\n",
    "    - Pretty transition matrix printing with state names and row/col sums.\n",
    "    - Allow self-transitions. See also this: https://stackoverflow.com/q/49340520/3381305\n",
    "    - Allow other step sizes (especially 2 and 3).\n",
    "    - Hidden Markov model?\n",
    "    - 'Joint' Markov model... where you have lithology and bioturbation index (say). Not\n",
    "        sure if this is really a thing, I just made it up.\n",
    "    - More generally, explore other sequence models, eg LSTM.\n",
    "    \"\"\"\n",
    "    \n",
    "    def __init__(self, observed_counts, states=None):\n",
    "        \"\"\"\n",
    "        Initialize the MarkovChain instance.\n",
    " \n",
    "        Args\n",
    "            observed_counts (ndarray): A 2-D array representing the counts\n",
    "                of change of state in the Markov Chain.\n",
    "            states (array-like): An array-like representing the possible states\n",
    "                of the Markov Chain. Must be in the same order as `observed_counts`.\n",
    "        \"\"\"\n",
    "        self.observed_counts = np.atleast_2d(observed_counts)\n",
    "\n",
    "        if states is not None:        \n",
    "            self.states = np.asarray(states)\n",
    "        elif self.observed_counts is not None:\n",
    "            self.states = np.arange(self.observed_counts.shape[0])\n",
    "        else:\n",
    "            self.states = None\n",
    "                    \n",
    "        self.expected_counts = self._compute_expected()\n",
    "            \n",
    "        return\n",
    "        \n",
    "    def __repr__(self):\n",
    "        return f\"Markov_chain({np.sum(self.observed_counts)} transitions, states={self.states})\"\n",
    "\n",
    "    @staticmethod\n",
    "    def _compute_freqs(C):\n",
    "        \"\"\"\n",
    "        Compute frequencies from counts.\n",
    "        \"\"\"\n",
    "        epsilon = 1e-12\n",
    "        return (C.T / (epsilon+np.sum(C.T, axis=0))).T\n",
    "    \n",
    "    @staticmethod\n",
    "    def _stop_iter(a, b, tol=0.01):\n",
    "        a_small = np.all(np.abs(a[-1] - a[-2]) < tol*a[-1])\n",
    "        b_small = np.all(np.abs(b[-1] - b[-2]) < tol*b[-1])\n",
    "        return (a_small and b_small)\n",
    "    \n",
    "    @property\n",
    "    def _index_dict(self):\n",
    "        if self.states is None:\n",
    "            return {}\n",
    "        return {self.states[index]: index for index in range(len(self.states))}\n",
    "    \n",
    "    @property\n",
    "    def _state_dict(self):\n",
    "        if self.states is None:\n",
    "            return {}\n",
    "        return {index: self.states[index] for index in range(len(self.states))}\n",
    "    \n",
    "    @property\n",
    "    def observed_freqs(self):\n",
    "        return self._compute_freqs(self.observed_counts)\n",
    "    \n",
    "    @property\n",
    "    def expected_freqs(self):\n",
    "        return self._compute_freqs(self.observed_counts)\n",
    "    \n",
    "    @property\n",
    "    def _state_counts(self):\n",
    "        a = np.sum(m.observed_counts, axis=0)\n",
    "        b = np.sum(m.observed_counts, axis=1)\n",
    "        return np.maximum(a, b)\n",
    " \n",
    "    @property\n",
    "    def _state_probs(self):\n",
    "        return self._state_counts / np.sum(self._state_counts)\n",
    "    \n",
    "    @property\n",
    "    def normalized_difference(self):\n",
    "        O = self.observed_counts\n",
    "        E = self.expected_counts\n",
    "        epsilon = 1e-12\n",
    "        return (O - E) / np.sqrt(E + epsilon)\n",
    "\n",
    "    @classmethod\n",
    "    def from_sequence(cls, sequence, states=None, strings_are_states=False, include_self=False):\n",
    "        \"\"\"\n",
    "        Parse a sequence and make the transition matrix.\n",
    "        \n",
    "        Provide upwards sequence.\n",
    "        \n",
    "        Args\n",
    "            sequence (list-like): A list-like, or list-like of list-likes.\n",
    "                The inner list-likes represent sequences of states.\n",
    "                For example, can be a string or list of strings, or\n",
    "                a list or list of lists.\n",
    "            states (list-like): A list or array of the names of the states.\n",
    "                If not provided, it will be inferred from the data.\n",
    "                \n",
    "        TODO:\n",
    "            - Use `states` to figure out whether 'strings_are_states'.\n",
    "        \"\"\"\n",
    "        uniques, seq_of_seqs = regularize(sequence, strings_are_states=strings_are_states)\n",
    "\n",
    "        if states is None:\n",
    "            states = uniques\n",
    "        else:\n",
    "            states = np.asarray(states)\n",
    "\n",
    "        M = np.zeros((states.size, states.size))        \n",
    "        for seq in seq_of_seqs:\n",
    "            seq = np.array(seq)\n",
    "            _, integer_seq = np.where(seq.reshape(-1, 1) == states)\n",
    "            for (i, j) in zip(integer_seq, integer_seq[1:]):\n",
    "                M[i][j] += 1\n",
    "                \n",
    "        if not include_self:\n",
    "            M = hollow_matrix(M)\n",
    "\n",
    "        return cls(observed_counts=np.array(M), states=states)\n",
    "    \n",
    "    def _conditional_probs(self, state):\n",
    "        \"\"\"\n",
    "        Conditional probabilities of each state, given a\n",
    "        current state.\n",
    "        \"\"\"\n",
    "        return self.observed_freqs[self._index_dict[state]]\n",
    " \n",
    "    def _next_state(self, current_state: str) -> str:\n",
    "        \"\"\"\n",
    "        Returns the state of the random variable at the next time \n",
    "        instance.\n",
    " \n",
    "        Args\n",
    "            current_state (str): The current state of the system.\n",
    "            \n",
    "        Returns\n",
    "            str. One realization of the next state.\n",
    "        \"\"\"\n",
    "        return np.random.choice(self.states, p=self._conditional_probs(current_state))\n",
    " \n",
    "    def generate_states(self, n:int=10, current_state:str=None) -> list:\n",
    "        \"\"\"\n",
    "        Generates the next states of the system.\n",
    " \n",
    "        Args\n",
    "            n (int): The number of future states to generate.\n",
    "            current_state (str): The state of the current random variable.\n",
    "        \n",
    "        Returns\n",
    "            list. The next n states.\n",
    "        \"\"\"\n",
    "        if current_state is None:\n",
    "            current_state = np.random.choice(self.states, p=self._state_probs)\n",
    "\n",
    "        future_states = []\n",
    "        for _ in range(n):\n",
    "            next_state = self._next_state(current_state)\n",
    "            future_states.append(next_state)\n",
    "            current_state = next_state\n",
    "\n",
    "        return future_states\n",
    "    \n",
    "    def _compute_expected(self, max_iter=100, verbose=False, zero_diag=True):\n",
    "        \"\"\"\n",
    "        Compute the independent trials matrix, using method of\n",
    "        Powers & Easterling 1982.\n",
    "        \"\"\"\n",
    "        m = len(self.states)\n",
    "        M = self.observed_counts\n",
    "        a, b = [], []\n",
    "        \n",
    "        # Loop 1\n",
    "        a.append(np.sum(M, axis=1) / (m - 1))\n",
    "        b.append(np.sum(M, axis=0) / (np.sum(a[-1]) - a[-1]))\n",
    "        \n",
    "        i = 2\n",
    "        while i < max_iter:\n",
    "            \n",
    "            if verbose:\n",
    "                print(f\"iteration: {i-1}\")\n",
    "                print(f\"a: {a[-1]}\")\n",
    "                print(f\"b: {b[-1]}\")\n",
    "                print()\n",
    "\n",
    "            a.append(np.sum(M, axis=1) / (np.sum(b[-1]) - b[-1]))\n",
    "            b.append(np.sum(M, axis=0) / (np.sum(a[-1]) - a[-1]))\n",
    "\n",
    "            # Check for stopping criterion.\n",
    "            if self._stop_iter(a, b, tol=0.001):\n",
    "                break\n",
    "\n",
    "            i += 1\n",
    "        \n",
    "        E = a[-1] * b[-1].reshape(-1, 1)\n",
    "        \n",
    "        if zero_diag:\n",
    "            return hollow_matrix(E)\n",
    "        else:\n",
    "            return E\n",
    "\n",
    "    @property\n",
    "    def degrees_of_freedom(self) -> int:\n",
    "        m = len(self.states)\n",
    "        return (m - 1)**2 - m\n",
    "    \n",
    "    def _chi_squared_critical(self, q=0.95, df=None):\n",
    "        \"\"\"\n",
    "        The chi-squared critical value for a confidence level q\n",
    "        and degrees of freedom df.\n",
    "        \"\"\"\n",
    "        if df is None:\n",
    "            df = self.degrees_of_freedom\n",
    "        return scipy.stats.chi2.ppf(q=q, df=df)\n",
    "        \n",
    "    def _chi_squared_percentile(self, x, df=None):\n",
    "        \"\"\"\n",
    "        The chi-squared critical value for a confidence level q\n",
    "        and degrees of freedom df.\n",
    "        \"\"\"\n",
    "        if df is None:\n",
    "            df = self.degrees_of_freedom\n",
    "        return scipy.stats.chi2.cdf(x, df=df)\n",
    "        \n",
    "    def chi_squared(self, return_crit=True, q=0.95, return_perc=True):\n",
    "        \"\"\"\n",
    "        The chi-squared statistic for the given transition\n",
    "        frequencies. \n",
    "        \n",
    "        Also returns the critical statistic at the given confidence\n",
    "        level q (default 95%).\n",
    "        \n",
    "        If the first number is bigger than the second number,\n",
    "        then you can reject the hypothesis that the sequence\n",
    "        is randomly ordered.\n",
    "        \"\"\"\n",
    "        # Observed and Expected matrices:\n",
    "        O = self.observed_counts\n",
    "        E = self.expected_counts\n",
    "\n",
    "        # Adjustment for divide-by-zero\n",
    "        epsilon = 1e-12\n",
    "        chi2 = np.sum((O - E)**2 / (E + epsilon))\n",
    "        \n",
    "        result = chi2,\n",
    "        \n",
    "        if return_crit:\n",
    "            result = result + (self._chi_squared_critical(q=q),)\n",
    "\n",
    "        if return_perc:\n",
    "            result = result + (self._chi_squared_percentile(x=chi2),)\n",
    "\n",
    "        return result\n",
    "    \n",
    "    def as_graph(self, directed=True):\n",
    "        try:\n",
    "            import networkx as nx\n",
    "        except ImportError:\n",
    "            nx = None \n",
    "\n",
    "        if nx is None:\n",
    "            print(\"Please install networkx with `pip install networkx`.\")\n",
    "            return\n",
    "\n",
    "        if directed:\n",
    "            alg = nx.DiGraph\n",
    "        else:\n",
    "            alg = nx.Graph\n",
    "    \n",
    "        G = nx.from_numpy_array(self.normalized_difference, create_using=alg)\n",
    "        nx.set_node_attributes(G, self._state_dict, 'state')\n",
    "        return G\n",
    "    \n",
    "    def plot_graph(self, ax=None,\n",
    "                   figsize=None,\n",
    "                   max_size=1000, \n",
    "                   directed=True,\n",
    "                   edge_labels=False,\n",
    "                   draw_neg=False\n",
    "                  ):\n",
    "        try:\n",
    "            import networkx as nx\n",
    "        except ImportError:\n",
    "            nx = None \n",
    "\n",
    "        if nx is None:\n",
    "            print(\"Please install networkx with `pip install networkx`.\")\n",
    "            return\n",
    "\n",
    "        G = self.as_graph(directed=directed)\n",
    "        \n",
    "        return_ax = True\n",
    "        if ax is None:\n",
    "            fig, ax = plt.subplots(figsize=figsize)\n",
    "            return_ax = False\n",
    "        \n",
    "        e_neg   = {(u, v):round(d['weight'],1) for (u, v, d) in G.edges(data=True) if        d['weight'] <= -1.0}\n",
    "        e_small = {(u, v):round(d['weight'],1) for (u, v, d) in G.edges(data=True) if -1.0 < d['weight'] <=  1.0}\n",
    "        e_med   = {(u, v):round(d['weight'],1) for (u, v, d) in G.edges(data=True) if  1.0 < d['weight'] <=  2.0}\n",
    "        e_large = {(u, v):round(d['weight'],1) for (u, v, d) in G.edges(data=True) if        d['weight'] >   2.0}\n",
    "\n",
    "        pos = nx.spring_layout(G)\n",
    "\n",
    "        sizes = max_size * (self._state_counts / max(self._state_counts))\n",
    "        nx.draw_networkx_nodes(G, pos, ax=ax, node_size=sizes, node_color='orange')\n",
    "        nx.draw_networkx_edges(G, pos, ax=ax, edgelist=e_large, width=10, arrowsize=40, splines='curved')\n",
    "        nx.draw_networkx_edges(G, pos, ax=ax, edgelist=e_med, width=4, arrowsize=20)\n",
    "        nx.draw_networkx_edges(G, pos, ax=ax, edgelist=e_small,\n",
    "                               width=3,\n",
    "                               alpha=0.1,\n",
    "                               edge_color='k')\n",
    "        if draw_neg:\n",
    "            nx.draw_networkx_edges(G, pos, ax=ax, edgelist=e_neg,\n",
    "                                   width=2,\n",
    "                                   alpha=0.1,\n",
    "                                   edge_color='k')\n",
    "            \n",
    "        if edge_labels:\n",
    "            nx.draw_networkx_edge_labels(G,pos,edge_labels=e_large)\n",
    "            nx.draw_networkx_edge_labels(G,pos,edge_labels=e_med)\n",
    "\n",
    "        labels = nx.get_node_attributes(G, 'state')\n",
    "        ax = nx.draw_networkx_labels(G, pos, labels=labels,\n",
    "                                     font_size=20,\n",
    "                                     font_family='sans-serif',\n",
    "                                     font_color='blue')\n",
    "        \n",
    "        if return_ax:\n",
    "            return ax\n",
    "        else:\n",
    "            plt.axis('off')\n",
    "            return \n",
    "        \n",
    "    def plot_norm_diff(self, ax=None, cmap='RdBu', center_zero=True):\n",
    "        \n",
    "        return_ax = True\n",
    "        if ax is None:\n",
    "            fig, ax = plt.subplots(figsize=(1 + self.states.size/2, self.states.size/2))\n",
    "            return_ax = False\n",
    "\n",
    "        ma = np.ceil(np.max(self.normalized_difference))\n",
    "        \n",
    "        if center_zero:\n",
    "            vmin, vmax = -ma, ma\n",
    "        else:\n",
    "            vmin, vmax = None, None\n",
    "        im = ax.imshow(self.normalized_difference, cmap=cmap, vmin=vmin, vmax=vmax)\n",
    "        plt.colorbar(im)\n",
    "\n",
    "        ax.tick_params(axis='x', which='both',\n",
    "                       bottom=False, labelbottom=False,\n",
    "                       top=False, labeltop=True,\n",
    "                      )\n",
    "\n",
    "        ax.tick_params(axis='y', which='both',\n",
    "                       left=False, labelleft=True,\n",
    "                       right=False, labelright=False,\n",
    "                      )\n",
    "\n",
    "        ticks = np.arange(self.states.size)\n",
    "        ax.set_yticks(ticks)\n",
    "        ax.set_xticks(ticks)\n",
    "\n",
    "        labels = [str(s) for s in self.states]\n",
    "        ax.set_xticklabels(labels)\n",
    "        ax.set_yticklabels(labels)\n",
    "\n",
    "        if return_ax:\n",
    "            return ax\n",
    "        else:\n",
    "            return "
   ]
  },
  {
   "cell_type": "markdown",
   "metadata": {},
   "source": [
    "## Powers & Easterling data\n",
    "\n",
    "Let's use one of the examples in Powers & Easterling &mdash; they use this transition matrix from Gingerich, PD (1969). Markov analysis of cyclic alluvial sediments. _Journal of Sedimentary Petrology_, 39, p. 330-332. https://doi.org/10.1306/74D71C4E-2B21-11D7-8648000102C1865D"
   ]
  },
  {
   "cell_type": "code",
   "execution_count": 3,
   "metadata": {},
   "outputs": [
    {
     "data": {
      "text/plain": [
       "Markov_chain(179 transitions, states=['A' 'B' 'C' 'D'])"
      ]
     },
     "execution_count": 3,
     "metadata": {},
     "output_type": "execute_result"
    }
   ],
   "source": [
    "data = [[ 0, 37,  3,  2],\n",
    "        [21,  0, 41, 14],\n",
    "        [20, 25,  0,  0],\n",
    "        [ 1, 14,  1,  0]]\n",
    "\n",
    "m = Markov_chain(data, states=['A', 'B', 'C', 'D'])\n",
    "\n",
    "m"
   ]
  },
  {
   "cell_type": "markdown",
   "metadata": {},
   "source": [
    "`scipy.stats` has a function, `chi2_contingency()` for computing chi-squared, the p-value, the degrees of freedom, and the expected transitions under the assumption of independence:"
   ]
  },
  {
   "cell_type": "code",
   "execution_count": 4,
   "metadata": {
    "scrolled": true
   },
   "outputs": [],
   "source": [
    "chi, p, dof, expected = scipy.stats.chi2_contingency(m.observed_counts)"
   ]
  },
  {
   "cell_type": "markdown",
   "metadata": {},
   "source": [
    "However, there are problems with this:\n",
    "\n",
    "1. The chi-squared test is not strictly valid when we have fewer than 5 counts for some cells. Instead, it is better to use Fisher's exact test.\n",
    "1. We wish not to include self-transitions.\n",
    "1. We prefer a condition of quasi-independence, as discussed by Powers & Easterling and by Goodman (1968) before them. See https://agilescientific.com/blog/2019/4/19/the-order-of-stratigraphic-sequences.\n",
    "\n",
    "Fisher's exact test is notoriously difficult to compute for tables larger than 2 x 2, but in theory we can use the [`FisherExact`](https://github.com/maclandrol/FisherExact) module by Marc-Rolland Noutahi (see [his blog post](https://mrnoutahi.com/2016/01/03/Fisher-exac-test-for-mxn-table/)to check Fisher's exact statistic:"
   ]
  },
  {
   "cell_type": "code",
   "execution_count": 5,
   "metadata": {},
   "outputs": [],
   "source": [
    "from FisherExact import fisher_exact\n",
    "\n",
    "# fisher_exact(m.observed_counts, hybrid=True)"
   ]
  },
  {
   "cell_type": "markdown",
   "metadata": {},
   "source": [
    "Unfortunately, this crashes the kernel on my machine."
   ]
  },
  {
   "cell_type": "markdown",
   "metadata": {},
   "source": [
    "Nevermind! We have Powers & Easterling and the assumption of quasi-independence.\n",
    "\n",
    "First, let's look at the expected transition frequencies:"
   ]
  },
  {
   "cell_type": "code",
   "execution_count": 6,
   "metadata": {},
   "outputs": [
    {
     "data": {
      "text/plain": [
       "array([[ 0.        , 31.27069125,  8.17143874,  2.55787001],\n",
       "       [31.28238248,  0.        , 34.05692583, 10.66069169],\n",
       "       [ 8.17137105, 34.04391563,  0.        ,  2.78471333],\n",
       "       [ 2.5579797 , 10.65716447,  2.78485582,  0.        ]])"
      ]
     },
     "execution_count": 6,
     "metadata": {},
     "output_type": "execute_result"
    }
   ],
   "source": [
    "m.expected_counts"
   ]
  },
  {
   "cell_type": "markdown",
   "metadata": {},
   "source": [
    "The $\\chi^2$ statistic shows the value for the observed ordering, along with the critical value at (by default) the 95% confidence level. If the first number is higher than the second number (ideally much higher), then we can reject the hypothesis that the ordering is quasi-independent. That is, we have shown that the ordering is non-random."
   ]
  },
  {
   "cell_type": "code",
   "execution_count": 7,
   "metadata": {},
   "outputs": [
    {
     "data": {
      "text/plain": [
       "(35.73687369691601, 11.070497693516351, 0.9999989278539752)"
      ]
     },
     "execution_count": 7,
     "metadata": {},
     "output_type": "execute_result"
    }
   ],
   "source": [
    "m.chi_squared()"
   ]
  },
  {
   "cell_type": "markdown",
   "metadata": {},
   "source": [
    "The normalized difference shows which transitions are 'interesting'. These numbers can be interpreted as standard deviations away from the model of quasi-independence. That is, transitions with large positive numbers represent passages that occur more often than might be expected. Any numbers greater than 2 are likely to be important."
   ]
  },
  {
   "cell_type": "code",
   "execution_count": 8,
   "metadata": {},
   "outputs": [
    {
     "data": {
      "text/plain": [
       "array([[ 0.        ,  1.02455077, -1.80909811, -0.3488139 ],\n",
       "       [-1.83841622,  0.        ,  1.18973184,  1.02273667],\n",
       "       [ 4.13796624, -1.55001803,  0.        , -1.66874603],\n",
       "       [-0.97412177,  1.02398637, -1.0695517 ,  0.        ]])"
      ]
     },
     "execution_count": 8,
     "metadata": {},
     "output_type": "execute_result"
    }
   ],
   "source": [
    "m.normalized_difference"
   ]
  },
  {
   "cell_type": "markdown",
   "metadata": {},
   "source": [
    "We can visualize this as an image:"
   ]
  },
  {
   "cell_type": "code",
   "execution_count": 9,
   "metadata": {},
   "outputs": [
    {
     "data": {
      "image/png": "[encoded data removed]",
      "text/plain": [
       "<Figure size 216x144 with 2 Axes>"
      ]
     },
     "metadata": {
      "needs_background": "light"
     },
     "output_type": "display_data"
    }
   ],
   "source": [
    "m.plot_norm_diff()"
   ]
  },
  {
   "cell_type": "markdown",
   "metadata": {},
   "source": [
    "We can also interpret this matrix as a graph. The transitions from A to C are particularly strong in this one. Transitions from C to A happen less often than we'd expect. Those from B to D and D to B, less so."
   ]
  },
  {
   "cell_type": "code",
   "execution_count": 10,
   "metadata": {},
   "outputs": [
    {
     "data": {
      "image/png": "[encoded data removed]",
      "text/plain": [
       "<Figure size 432x288 with 1 Axes>"
      ]
     },
     "metadata": {
      "needs_background": "light"
     },
     "output_type": "display_data"
    }
   ],
   "source": [
    "%matplotlib inline\n",
    "m.plot_graph()"
   ]
  },
  {
   "cell_type": "markdown",
   "metadata": {},
   "source": [
    "We can look at an undirected version of the graph too. It downplays non-reciprocal relationships. I'm not sure this is useful..."
   ]
  },
  {
   "cell_type": "code",
   "execution_count": 11,
   "metadata": {},
   "outputs": [
    {
     "name": "stderr",
     "output_type": "stream",
     "text": [
      "/home/matt/anaconda3/envs/geocomp/lib/python3.7/site-packages/networkx/drawing/nx_pylab.py:611: MatplotlibDeprecationWarning: isinstance(..., numbers.Number)\n",
      "  if cb.is_numlike(alpha):\n"
     ]
    },
    {
     "data": {
      "image/png": "[encoded data removed]",
      "text/plain": [
       "<Figure size 432x288 with 1 Axes>"
      ]
     },
     "metadata": {
      "needs_background": "light"
     },
     "output_type": "display_data"
    }
   ],
   "source": [
    "%matplotlib inline\n",
    "m.plot_graph(directed=False)"
   ]
  },
  {
   "cell_type": "markdown",
   "metadata": {},
   "source": [
    "We can generate a random succession of beds with the same transition statistics:"
   ]
  },
  {
   "cell_type": "code",
   "execution_count": 12,
   "metadata": {},
   "outputs": [
    {
     "data": {
      "text/plain": [
       "'CBCABABDBCBABABCADBC'"
      ]
     },
     "execution_count": 12,
     "metadata": {},
     "output_type": "execute_result"
    }
   ],
   "source": [
    "''.join(m.generate_states(n=20))"
   ]
  },
  {
   "cell_type": "markdown",
   "metadata": {},
   "source": [
    "## Data from Matt's thesis\n",
    "\n",
    "These are the transitions from some measured sections in my PhD thesis. They start at the bottom, so in Log 7, we start with lithofacies 1 (offshore mudstone) and pass upwards into lithofacies 3, then back into 1, then 3, and so on.\n",
    "\n",
    "We can instantiate a `Markov_chain` object from a sequence using its `from_sequence()` method. This expects either a sequence of 'states' (numbers or letters or strings representing rock types) or a sequence of sequences of states."
   ]
  },
  {
   "cell_type": "code",
   "execution_count": 13,
   "metadata": {},
   "outputs": [
    {
     "data": {
      "text/plain": [
       "array([[ 0., 21., 17.,  3., 15.,  2.,  2.,  8.,  2.,  1.,  0.],\n",
       "       [21.,  0.,  1.,  0.,  0.,  0.,  0.,  0.,  1.,  0.,  0.],\n",
       "       [12.,  0.,  0.,  2., 12.,  3.,  0.,  2.,  0.,  0.,  0.],\n",
       "       [ 0.,  0.,  2.,  0.,  3.,  0.,  0.,  0.,  0.,  0.,  0.],\n",
       "       [19.,  1.,  9.,  0.,  0.,  9.,  0.,  4.,  5.,  1.,  0.],\n",
       "       [ 9.,  0.,  1.,  0.,  4.,  0.,  0.,  0.,  0.,  0.,  0.],\n",
       "       [ 2.,  0.,  0.,  0.,  0.,  0.,  0.,  0.,  0.,  0.,  0.],\n",
       "       [ 3.,  1.,  0.,  0.,  7.,  0.,  0.,  0.,  5.,  0.,  0.],\n",
       "       [ 4.,  0.,  1.,  0.,  6.,  0.,  0.,  0.,  0.,  2.,  3.],\n",
       "       [ 0.,  0.,  0.,  0.,  1.,  0.,  0.,  2.,  1.,  0.,  0.],\n",
       "       [ 1.,  0.,  0.,  0.,  0.,  0.,  0.,  0.,  2.,  0.,  0.]])"
      ]
     },
     "execution_count": 13,
     "metadata": {},
     "output_type": "execute_result"
    }
   ],
   "source": [
    "data = {\n",
    "    'log7': [1, 3, 1, 3, 5, 1, 2, 1, 3, 1, 5, 6, 1, 2, 1, 2, 1, 2, 1, 3, 5, 6, 5, 1],\n",
    "    'log9': [1, 3, 1, 5, 1, 5, 3, 1, 2, 1, 2, 1, 3, 5, 1, 5, 6, 5, 6, 1, 2, 1, 5, 6, 1],\n",
    "    'log11': [1, 3, 1, 2, 1, 5, 3, 1, 2, 1, 2, 1, 3, 5, 3, 5, 1, 9, 5, 5, 5, 5, 6, 1],\n",
    "    'log12': [1, 5, 3, 1, 2, 1, 2, 1, 2, 1, 4, 5, 6, 1, 2, 1, 4, 5, 1, 5, 5, 5, 1, 2, 1, 8, 9, 10, 9, 5, 1],\n",
    "    'log13': [1, 6, 1, 3, 1, 3, 5, 3, 6, 1, 6, 5, 3, 1, 5, 1, 2, 1, 4, 3, 5, 3, 4, 3, 5, 1, 5, 9, 11, 9, 1],\n",
    "    'log14': [1, 3, 1, 5, 8, 5, 6, 1, 3, 4, 5, 3, 1, 3, 5, 1, 7, 7, 7, 1, 7, 1, 3, 8, 5, 5, 1, 5, 9, 9, 11, 9, 1],\n",
    "    'log15': [1, 8, 1, 3, 5, 1, 2, 3, 6, 3, 6, 5, 2, 1, 2, 1, 8, 5, 1, 5, 9, 9, 11, 1],\n",
    "    'log16': [1, 8, 1, 5, 1, 5, 5, 6, 1, 3, 5, 3, 5, 5, 5, 8, 5, 1, 9, 9, 3, 1],\n",
    "    'log17': [1, 3, 8, 1, 8, 5, 1, 8, 9, 5, 10, 5, 8, 9, 10, 8, 5, 1, 8, 9, 1],\n",
    "    'log18': [1, 8, 2, 1, 2, 1, 10, 8, 9, 5, 5, 1, 2, 1, 2, 9, 5, 9, 5, 8, 5, 9, 1]\n",
    "}\n",
    "\n",
    "logs = list(data.values())\n",
    "\n",
    "m = Markov_chain.from_sequence(logs, states=range(1,12))\n",
    "m.observed_counts"
   ]
  },
  {
   "cell_type": "markdown",
   "metadata": {},
   "source": [
    "Let's check out the normalized difference matrix:"
   ]
  },
  {
   "cell_type": "code",
   "execution_count": 14,
   "metadata": {},
   "outputs": [
    {
     "data": {
      "text/plain": [
       "array([[0.00000000e+00, 9.73433553e+00, 1.36181600e+01, 1.97204020e+00,\n",
       "        2.32864499e+01, 5.70888383e+00, 7.80656027e-01, 6.57617560e+00,\n",
       "        6.57617560e+00, 1.57211591e+00, 1.17500740e+00],\n",
       "       [9.73386186e+00, 0.00000000e+00, 2.94880326e+00, 4.27015000e-01,\n",
       "        5.04232288e+00, 1.23617106e+00, 1.69039066e-01, 1.42396977e+00,\n",
       "        1.42396977e+00, 3.40417541e-01, 2.54429796e-01],\n",
       "       [1.36174683e+01, 2.94879697e+00, 0.00000000e+00, 5.97385015e-01,\n",
       "        7.05410378e+00, 1.72937735e+00, 2.36482102e-01, 1.99210379e+00,\n",
       "        1.99210379e+00, 4.76236989e-01, 3.55941940e-01],\n",
       "       [1.97194977e+00, 4.27016198e-01, 5.97387964e-01, 0.00000000e+00,\n",
       "        1.02150694e+00, 2.50431666e-01, 3.42450460e-02, 2.88477163e-01,\n",
       "        2.88477163e-01, 6.89640249e-02, 5.15440619e-02],\n",
       "       [2.32850125e+01, 5.04225698e+00, 7.05402664e+00, 1.02149073e+00,\n",
       "        0.00000000e+00, 2.95712627e+00, 4.04369490e-01, 3.40637193e+00,\n",
       "        3.40637193e+00, 8.14335236e-01, 6.08638285e-01],\n",
       "       [5.70861536e+00, 1.23617308e+00, 1.72938386e+00, 2.50431373e-01,\n",
       "        2.95716975e+00, 0.00000000e+00, 9.91362956e-02, 8.35115167e-01,\n",
       "        8.35115167e-01, 1.99644584e-01, 1.49215374e-01],\n",
       "       [7.80620479e-01, 1.69039594e-01, 2.36483345e-01, 3.42450570e-02,\n",
       "        4.04376039e-01, 9.91364434e-02, 0.00000000e+00, 1.14197220e-01,\n",
       "        1.14197220e-01, 2.73002543e-02, 2.04043485e-02],\n",
       "       [6.57586428e+00, 1.42397164e+00, 1.99211067e+00, 2.88476735e-01,\n",
       "        3.40642094e+00, 8.35114905e-01, 1.14197014e-01, 0.00000000e+00,\n",
       "        9.61985290e-01, 2.29974452e-01, 1.71884071e-01],\n",
       "       [6.57586428e+00, 1.42397164e+00, 1.99211067e+00, 2.88476735e-01,\n",
       "        3.40642094e+00, 8.35114905e-01, 1.14197014e-01, 9.61985290e-01,\n",
       "        0.00000000e+00, 2.29974452e-01, 1.71884071e-01],\n",
       "       [1.57204399e+00, 3.40418533e-01, 4.76239392e-01, 6.89640325e-02,\n",
       "        8.14348252e-01, 1.99644840e-01, 2.73002485e-02, 2.29974819e-01,\n",
       "        2.29974819e-01, 0.00000000e+00, 4.10910734e-02],\n",
       "       [1.17495378e+00, 2.54430565e-01, 3.55943774e-01, 5.15440731e-02,\n",
       "        6.08648078e-01, 1.49215581e-01, 2.04043464e-02, 1.71884364e-01,\n",
       "        1.71884364e-01, 4.10910778e-02, 0.00000000e+00]])"
      ]
     },
     "execution_count": 14,
     "metadata": {},
     "output_type": "execute_result"
    }
   ],
   "source": [
    "m.expected_counts"
   ]
  },
  {
   "cell_type": "code",
   "execution_count": 15,
   "metadata": {},
   "outputs": [
    {
     "data": {
      "text/plain": [
       "array([[ 0. ,  3.6,  0.9,  0.7, -1.7, -1.6,  1.4,  0.6, -1.8, -0.5, -1.1],\n",
       "       [ 3.6,  0. , -1.1, -0.7, -2.2, -1.1, -0.4, -1.2, -0.4, -0.6, -0.5],\n",
       "       [-0.4, -1.7,  0. ,  1.8,  1.9,  1. , -0.5,  0. , -1.4, -0.7, -0.6],\n",
       "       [-1.4, -0.7,  1.8,  0. ,  2. , -0.5, -0.2, -0.5, -0.5, -0.3, -0.2],\n",
       "       [-0.9, -1.8,  0.7, -1. ,  0. ,  3.5, -0.6,  0.3,  0.9,  0.2, -0.8],\n",
       "       [ 1.4, -1.1, -0.6, -0.5,  0.6,  0. , -0.3, -0.9, -0.9, -0.4, -0.4],\n",
       "       [ 1.4, -0.4, -0.5, -0.2, -0.6, -0.3,  0. , -0.3, -0.3, -0.2, -0.1],\n",
       "       [-1.4, -0.4, -1.4, -0.5,  1.9, -0.9, -0.3,  0. ,  4.1, -0.5, -0.4],\n",
       "       [-1. , -1.2, -0.7, -0.5,  1.4, -0.9, -0.3, -1. ,  0. ,  3.7,  6.8],\n",
       "       [-1.3, -0.6, -0.7, -0.3,  0.2, -0.4, -0.2,  3.7,  1.6,  0. , -0.2],\n",
       "       [-0.2, -0.5, -0.6, -0.2, -0.8, -0.4, -0.1, -0.4,  4.4, -0.2,  0. ]])"
      ]
     },
     "execution_count": 15,
     "metadata": {},
     "output_type": "execute_result"
    }
   ],
   "source": [
    "np.set_printoptions(suppress=True, precision=1, linewidth=120)\n",
    "m.normalized_difference"
   ]
  },
  {
   "cell_type": "code",
   "execution_count": 16,
   "metadata": {},
   "outputs": [
    {
     "data": {
      "image/png": "[encoded data removed]",
      "text/plain": [
       "<Figure size 468x396 with 2 Axes>"
      ]
     },
     "metadata": {
      "needs_background": "light"
     },
     "output_type": "display_data"
    }
   ],
   "source": [
    "m.plot_norm_diff()"
   ]
  },
  {
   "cell_type": "markdown",
   "metadata": {},
   "source": [
    "And the graph version. **Note you can re-run this cell to rearrange the graph.**"
   ]
  },
  {
   "cell_type": "code",
   "execution_count": 17,
   "metadata": {},
   "outputs": [
    {
     "data": {
      "image/png": "[encoded data removed]",
      "text/plain": [
       "<Figure size 1080x1080 with 1 Axes>"
      ]
     },
     "metadata": {
      "needs_background": "light"
     },
     "output_type": "display_data"
    }
   ],
   "source": [
    "m.plot_graph(figsize=(15,15), max_size=2400, edge_labels=True)"
   ]
  },
  {
   "cell_type": "markdown",
   "metadata": {},
   "source": [
    "## Fake data\n",
    "\n",
    "Let's also make one from a long string of transitions."
   ]
  },
  {
   "cell_type": "code",
   "execution_count": 18,
   "metadata": {},
   "outputs": [],
   "source": [
    "data = \"sssmmmlllmlmlsslsllsmmllllmssssllllssmmlllllssssssmmmmsmllllssslmslmsmmmslsllll\"\"\""
   ]
  },
  {
   "cell_type": "code",
   "execution_count": 19,
   "metadata": {},
   "outputs": [
    {
     "data": {
      "text/plain": [
       "Markov_chain(78.0 transitions, states=['l' 'm' 's'])"
      ]
     },
     "execution_count": 19,
     "metadata": {},
     "output_type": "execute_result"
    }
   ],
   "source": [
    "m = Markov_chain.from_sequence(data, include_self=True)\n",
    "m"
   ]
  },
  {
   "cell_type": "code",
   "execution_count": 20,
   "metadata": {},
   "outputs": [
    {
     "data": {
      "text/plain": [
       "array([[19.,  5.,  7.],\n",
       "       [ 6.,  9.,  5.],\n",
       "       [ 7.,  6., 14.]])"
      ]
     },
     "execution_count": 20,
     "metadata": {},
     "output_type": "execute_result"
    }
   ],
   "source": [
    "m.observed_counts"
   ]
  },
  {
   "cell_type": "code",
   "execution_count": 21,
   "metadata": {},
   "outputs": [
    {
     "data": {
      "text/plain": [
       "array([0.4, 0.3, 0.3])"
      ]
     },
     "execution_count": 21,
     "metadata": {},
     "output_type": "execute_result"
    }
   ],
   "source": [
    "m._state_probs"
   ]
  },
  {
   "cell_type": "code",
   "execution_count": 22,
   "metadata": {},
   "outputs": [
    {
     "data": {
      "text/plain": [
       "array([[0.6, 0.2, 0.2],\n",
       "       [0.3, 0.4, 0.2],\n",
       "       [0.3, 0.2, 0.5]])"
      ]
     },
     "execution_count": 22,
     "metadata": {},
     "output_type": "execute_result"
    }
   ],
   "source": [
    "m.observed_freqs"
   ]
  },
  {
   "cell_type": "code",
   "execution_count": 23,
   "metadata": {},
   "outputs": [
    {
     "data": {
      "text/plain": [
       "array([[0.6, 0.2, 0.2],\n",
       "       [0.3, 0.4, 0.2],\n",
       "       [0.3, 0.2, 0.5]])"
      ]
     },
     "execution_count": 23,
     "metadata": {},
     "output_type": "execute_result"
    }
   ],
   "source": [
    "m.expected_freqs"
   ]
  },
  {
   "cell_type": "code",
   "execution_count": 24,
   "metadata": {},
   "outputs": [
    {
     "data": {
      "text/plain": [
       "array(['l', 'm', 's'], dtype='<U1')"
      ]
     },
     "execution_count": 24,
     "metadata": {},
     "output_type": "execute_result"
    }
   ],
   "source": [
    "m.states"
   ]
  },
  {
   "cell_type": "markdown",
   "metadata": {},
   "source": [
    "Conditional probabilities given a 'current' state:"
   ]
  },
  {
   "cell_type": "code",
   "execution_count": 25,
   "metadata": {},
   "outputs": [
    {
     "data": {
      "text/plain": [
       "array([0.6, 0.2, 0.2])"
      ]
     },
     "execution_count": 25,
     "metadata": {},
     "output_type": "execute_result"
    }
   ],
   "source": [
    "m._conditional_probs('l')"
   ]
  },
  {
   "cell_type": "markdown",
   "metadata": {},
   "source": [
    "A random sequence generated from the Markov chain model:"
   ]
  },
  {
   "cell_type": "code",
   "execution_count": 26,
   "metadata": {},
   "outputs": [
    {
     "data": {
      "text/plain": [
       "['s', 'l', 'l', 'l', 'l', 'l', 'm', 'm', 'm', 'm', 'l', 'l']"
      ]
     },
     "execution_count": 26,
     "metadata": {},
     "output_type": "execute_result"
    }
   ],
   "source": [
    "m.generate_states(12)"
   ]
  },
  {
   "cell_type": "markdown",
   "metadata": {},
   "source": [
    "## 'Idealized' successions: shoreface\n",
    "\n",
    "Based on [this conversation](https://twitter.com/clasticdetritus/status/1120713140893777920). \n",
    "\n",
    "Let's make a shoreface-type of thing:\n",
    "\n",
    "- mud\n",
    "- cross-bedded medium sand\n",
    "- fine sand\n",
    "- silt\n",
    "- mud\n",
    "\n",
    "We'll do it very naively, with multiple complete sequences."
   ]
  },
  {
   "cell_type": "code",
   "execution_count": 27,
   "metadata": {},
   "outputs": [],
   "source": [
    "data = \"msfcmsfcmsfcmsfcmsfcmsfcmsfcmsfcmsfcmsfcmsfcmsfcmsfcmsfcmsfcmsfcmsfcmsfc\""
   ]
  },
  {
   "cell_type": "code",
   "execution_count": 28,
   "metadata": {},
   "outputs": [
    {
     "data": {
      "text/plain": [
       "Markov_chain(71.0 transitions, states=['c' 'f' 'm' 's'])"
      ]
     },
     "execution_count": 28,
     "metadata": {},
     "output_type": "execute_result"
    }
   ],
   "source": [
    "m = Markov_chain.from_sequence(data)\n",
    "m"
   ]
  },
  {
   "cell_type": "code",
   "execution_count": 29,
   "metadata": {},
   "outputs": [
    {
     "data": {
      "text/plain": [
       "array([[ 0. , -2.5,  4.6, -2.5],\n",
       "       [ 5.1,  0. , -2.5, -2.5],\n",
       "       [-2.3, -2.4,  0. ,  5.1],\n",
       "       [-2.4,  4.8, -2.5,  0. ]])"
      ]
     },
     "execution_count": 29,
     "metadata": {},
     "output_type": "execute_result"
    }
   ],
   "source": [
    "m.normalized_difference"
   ]
  },
  {
   "cell_type": "code",
   "execution_count": 30,
   "metadata": {},
   "outputs": [
    {
     "data": {
      "text/plain": [
       "array([[0. , 6. , 5.9, 6. ],\n",
       "       [5.8, 0. , 6. , 6.2],\n",
       "       [5.4, 5.8, 0. , 5.8],\n",
       "       [5.8, 6.2, 6. , 0. ]])"
      ]
     },
     "execution_count": 30,
     "metadata": {},
     "output_type": "execute_result"
    }
   ],
   "source": [
    "m.expected_counts"
   ]
  },
  {
   "cell_type": "code",
   "execution_count": 31,
   "metadata": {},
   "outputs": [
    {
     "data": {
      "text/plain": [
       "(142.33420063416094, 11.070497693516351, 1.0)"
      ]
     },
     "execution_count": 31,
     "metadata": {},
     "output_type": "execute_result"
    }
   ],
   "source": [
    "m.chi_squared(return_crit=True, return_perc=True)"
   ]
  },
  {
   "cell_type": "code",
   "execution_count": 32,
   "metadata": {},
   "outputs": [
    {
     "data": {
      "image/png": "[encoded data removed]",
      "text/plain": [
       "<Figure size 216x144 with 2 Axes>"
      ]
     },
     "metadata": {
      "needs_background": "light"
     },
     "output_type": "display_data"
    }
   ],
   "source": [
    "m.plot_norm_diff()"
   ]
  },
  {
   "cell_type": "code",
   "execution_count": 34,
   "metadata": {},
   "outputs": [
    {
     "data": {
      "image/png": "[encoded data removed]",
      "text/plain": [
       "<Figure size 432x288 with 1 Axes>"
      ]
     },
     "metadata": {
      "needs_background": "light"
     },
     "output_type": "display_data"
    }
   ],
   "source": [
    "m.plot_graph()"
   ]
  },
  {
   "cell_type": "markdown",
   "metadata": {},
   "source": [
    "## Idealized succession: more realistic\n",
    "\n",
    "Often, we don't get a full succession. What if we randomly cut it short, but always return to 'm'?"
   ]
  },
  {
   "cell_type": "code",
   "execution_count": 35,
   "metadata": {},
   "outputs": [
    {
     "data": {
      "text/plain": [
       "'msfmsmsmsfcmmmsfmmmmsfcmsmsfmmsfcmsfcmmsfcmsfcmsmsfmmmsfcmsfcmsfcmsmsfmsmsmmsfcmsfmsfmsmmsfmsmsfcmsmmmsfcmmsfcmmsfmsmsfcmsfcmsfcmmsfcmmsfcmsfmmmsfmmsfcmsfcmsmsfmsfcmsfcmsfmsmsmsfcmmsmsmsfmsmmsfcmsmsfcmsmmmsfmmsfcmsfcmsmsfmmsfcmsmsfmmsfmsmsfcmsmmsms'"
      ]
     },
     "execution_count": 35,
     "metadata": {},
     "output_type": "execute_result"
    }
   ],
   "source": [
    "succession = 'msfc'\n",
    "\n",
    "data = ''\n",
    "for _ in range(100):\n",
    "    stop = np.random.randint(len(succession))\n",
    "    data += succession[:stop+1]\n",
    "    \n",
    "data"
   ]
  },
  {
   "cell_type": "code",
   "execution_count": 36,
   "metadata": {},
   "outputs": [
    {
     "data": {
      "text/plain": [
       "Markov_chain(219.0 transitions, states=['c' 'f' 'm' 's'])"
      ]
     },
     "execution_count": 36,
     "metadata": {},
     "output_type": "execute_result"
    }
   ],
   "source": [
    "m = Markov_chain.from_sequence(data, include_self=False)\n",
    "m"
   ]
  },
  {
   "cell_type": "code",
   "execution_count": 37,
   "metadata": {},
   "outputs": [
    {
     "data": {
      "text/plain": [
       "array([[ 0. , -2.4,  5.1, -3.4],\n",
       "       [ 9.4,  0. , -0.6, -4.5],\n",
       "       [-3.4, -4.5,  0. ,  5.3],\n",
       "       [-3.4,  5.8, -2.5,  0. ]])"
      ]
     },
     "execution_count": 37,
     "metadata": {},
     "output_type": "execute_result"
    }
   ],
   "source": [
    "m.normalized_difference"
   ]
  },
  {
   "cell_type": "code",
   "execution_count": 38,
   "metadata": {},
   "outputs": [
    {
     "data": {
      "image/png": "[encoded data removed]",
      "text/plain": [
       "<Figure size 216x144 with 2 Axes>"
      ]
     },
     "metadata": {
      "needs_background": "light"
     },
     "output_type": "display_data"
    }
   ],
   "source": [
    "m.plot_norm_diff()"
   ]
  },
  {
   "cell_type": "code",
   "execution_count": 39,
   "metadata": {},
   "outputs": [
    {
     "data": {
      "image/png": "[encoded data removed]",
      "text/plain": [
       "<Figure size 432x288 with 1 Axes>"
      ]
     },
     "metadata": {
      "needs_background": "light"
     },
     "output_type": "display_data"
    }
   ],
   "source": [
    "m.plot_graph()"
   ]
  },
  {
   "cell_type": "markdown",
   "metadata": {},
   "source": [
    "So the 'correct' graph emerges."
   ]
  },
  {
   "cell_type": "markdown",
   "metadata": {},
   "source": [
    "## More realistic still\n",
    "\n",
    "What if some of the transgressions are incomplete? (I.e. random start and end.)"
   ]
  },
  {
   "cell_type": "code",
   "execution_count": 40,
   "metadata": {},
   "outputs": [
    {
     "data": {
      "text/plain": [
       "'sfmsffmmsmsfcfmsfcfffsffmssfcfsfsfmssfcsfcmmfsfmsffmsfmsfcsmfmsfcfmsfcmsfsfmfsfcmsfsffssfcmsfcmsfssfcmsfcsms'"
      ]
     },
     "execution_count": 40,
     "metadata": {},
     "output_type": "execute_result"
    }
   ],
   "source": [
    "data = ''\n",
    "l = len(succession)\n",
    "for _ in range(100):\n",
    "    start = np.random.randint(l)\n",
    "    length = min(l-start, np.random.randint(l))\n",
    "    data += succession[start:length+1]\n",
    "\n",
    "data"
   ]
  },
  {
   "cell_type": "code",
   "execution_count": 41,
   "metadata": {},
   "outputs": [
    {
     "data": {
      "text/plain": [
       "Markov_chain(95.0 transitions, states=['c' 'f' 'm' 's'])"
      ]
     },
     "execution_count": 41,
     "metadata": {},
     "output_type": "execute_result"
    }
   ],
   "source": [
    "m = Markov_chain.from_sequence(data, include_self=False)\n",
    "m"
   ]
  },
  {
   "cell_type": "code",
   "execution_count": 42,
   "metadata": {},
   "outputs": [
    {
     "data": {
      "text/plain": [
       "array([[ 0. , -0.8,  2.1, -0.7],\n",
       "       [ 2.9,  0. ,  0.3, -2. ],\n",
       "       [-1.6, -2.2,  0. ,  3.5],\n",
       "       [-2.1,  2.2, -1.6,  0. ]])"
      ]
     },
     "execution_count": 42,
     "metadata": {},
     "output_type": "execute_result"
    }
   ],
   "source": [
    "m.normalized_difference"
   ]
  },
  {
   "cell_type": "code",
   "execution_count": 43,
   "metadata": {},
   "outputs": [
    {
     "data": {
      "image/png": "[encoded data removed]",
      "text/plain": [
       "<Figure size 216x144 with 2 Axes>"
      ]
     },
     "metadata": {
      "needs_background": "light"
     },
     "output_type": "display_data"
    }
   ],
   "source": [
    "m.plot_norm_diff()"
   ]
  },
  {
   "cell_type": "code",
   "execution_count": 44,
   "metadata": {},
   "outputs": [
    {
     "data": {
      "image/png": "[encoded data removed]",
      "text/plain": [
       "<Figure size 432x288 with 1 Axes>"
      ]
     },
     "metadata": {
      "needs_background": "light"
     },
     "output_type": "display_data"
    }
   ],
   "source": [
    "m.plot_graph()"
   ]
  },
  {
   "cell_type": "markdown",
   "metadata": {},
   "source": [
    "## Example for Brian\n",
    "\n",
    "Based on [this conversation](https://twitter.com/clasticdetritus/status/1120713140893777920). "
   ]
  },
  {
   "cell_type": "code",
   "execution_count": 45,
   "metadata": {},
   "outputs": [],
   "source": [
    "succession = ['sub', 'inter', 'supra']"
   ]
  },
  {
   "cell_type": "code",
   "execution_count": 46,
   "metadata": {},
   "outputs": [],
   "source": [
    "data = 20 * succession"
   ]
  },
  {
   "cell_type": "code",
   "execution_count": 47,
   "metadata": {},
   "outputs": [
    {
     "data": {
      "text/plain": [
       "Markov_chain(59.0 transitions, states=['inter' 'sub' 'supra'])"
      ]
     },
     "execution_count": 47,
     "metadata": {},
     "output_type": "execute_result"
    }
   ],
   "source": [
    "m = Markov_chain.from_sequence(data, strings_are_states=True, include_self=False)\n",
    "m"
   ]
  },
  {
   "cell_type": "code",
   "execution_count": 48,
   "metadata": {},
   "outputs": [
    {
     "data": {
      "text/plain": [
       "array([[ 0. , -3.2,  3.2],\n",
       "       [ 3.2,  0. , -3. ],\n",
       "       [-3.2,  2.9,  0. ]])"
      ]
     },
     "execution_count": 48,
     "metadata": {},
     "output_type": "execute_result"
    }
   ],
   "source": [
    "m.normalized_difference"
   ]
  },
  {
   "cell_type": "code",
   "execution_count": 49,
   "metadata": {},
   "outputs": [
    {
     "data": {
      "image/png": "[encoded data removed]",
      "text/plain": [
       "<Figure size 180x108 with 2 Axes>"
      ]
     },
     "metadata": {
      "needs_background": "light"
     },
     "output_type": "display_data"
    }
   ],
   "source": [
    "m.plot_norm_diff()"
   ]
  },
  {
   "cell_type": "code",
   "execution_count": 50,
   "metadata": {},
   "outputs": [
    {
     "data": {
      "image/png": "[encoded data removed]",
      "text/plain": [
       "<Figure size 432x288 with 1 Axes>"
      ]
     },
     "metadata": {
      "needs_background": "light"
     },
     "output_type": "display_data"
    }
   ],
   "source": [
    "m.plot_graph()"
   ]
  },
  {
   "cell_type": "code",
   "execution_count": 51,
   "metadata": {},
   "outputs": [],
   "source": [
    "data = []\n",
    "l = len(succession)\n",
    "for _ in range(40):\n",
    "    start = np.random.randint(l)\n",
    "    length = min(l-start, np.random.randint(l))\n",
    "    data += succession[start:length+1]"
   ]
  },
  {
   "cell_type": "code",
   "execution_count": 52,
   "metadata": {},
   "outputs": [
    {
     "data": {
      "text/plain": [
       "['sub',\n",
       " 'inter',\n",
       " 'sub',\n",
       " 'inter',\n",
       " 'inter',\n",
       " 'supra',\n",
       " 'sub',\n",
       " 'inter',\n",
       " 'sub',\n",
       " 'inter',\n",
       " 'supra',\n",
       " 'sub',\n",
       " 'inter',\n",
       " 'sub',\n",
       " 'inter',\n",
       " 'sub',\n",
       " 'sub',\n",
       " 'inter',\n",
       " 'inter',\n",
       " 'sub',\n",
       " 'inter',\n",
       " 'sub',\n",
       " 'inter',\n",
       " 'supra',\n",
       " 'inter',\n",
       " 'inter',\n",
       " 'inter',\n",
       " 'supra',\n",
       " 'inter',\n",
       " 'supra',\n",
       " 'sub',\n",
       " 'inter',\n",
       " 'supra',\n",
       " 'inter',\n",
       " 'supra']"
      ]
     },
     "execution_count": 52,
     "metadata": {},
     "output_type": "execute_result"
    }
   ],
   "source": [
    "data"
   ]
  },
  {
   "cell_type": "code",
   "execution_count": 53,
   "metadata": {},
   "outputs": [
    {
     "data": {
      "text/plain": [
       "Markov_chain(29.0 transitions, states=['inter' 'sub' 'supra'])"
      ]
     },
     "execution_count": 53,
     "metadata": {},
     "output_type": "execute_result"
    }
   ],
   "source": [
    "m = Markov_chain.from_sequence(data, strings_are_states=True, include_self=False)\n",
    "m"
   ]
  },
  {
   "cell_type": "code",
   "execution_count": 54,
   "metadata": {},
   "outputs": [
    {
     "data": {
      "text/plain": [
       "array([[ 0. , -0.8,  1.1],\n",
       "       [ 0.8,  0. , -1.2],\n",
       "       [-1. ,  1. ,  0. ]])"
      ]
     },
     "execution_count": 54,
     "metadata": {},
     "output_type": "execute_result"
    }
   ],
   "source": [
    "m.normalized_difference"
   ]
  },
  {
   "cell_type": "code",
   "execution_count": 55,
   "metadata": {},
   "outputs": [
    {
     "data": {
      "image/png": "[encoded data removed]",
      "text/plain": [
       "<Figure size 180x108 with 2 Axes>"
      ]
     },
     "metadata": {
      "needs_background": "light"
     },
     "output_type": "display_data"
    }
   ],
   "source": [
    "m.plot_norm_diff()"
   ]
  },
  {
   "cell_type": "code",
   "execution_count": 56,
   "metadata": {},
   "outputs": [
    {
     "data": {
      "image/png": "[encoded data removed]",
      "text/plain": [
       "<Figure size 432x288 with 1 Axes>"
      ]
     },
     "metadata": {
      "needs_background": "light"
     },
     "output_type": "display_data"
    }
   ],
   "source": [
    "m.plot_graph()"
   ]
  },
  {
   "cell_type": "markdown",
   "metadata": {},
   "source": [
    "## From `Striplog()` instance"
   ]
  },
  {
   "cell_type": "code",
   "execution_count": 64,
   "metadata": {},
   "outputs": [
    {
     "name": "stderr",
     "output_type": "stream",
     "text": [
      "Found nonstandard LAS section: ~Parameter\n"
     ]
    },
    {
     "data": {
      "text/plain": [
       "Striplog(672 Intervals, start=1.0668, stop=1939.1376000000012)"
      ]
     },
     "execution_count": 64,
     "metadata": {},
     "output_type": "execute_result"
    }
   ],
   "source": [
    "from welly import Well\n",
    "from striplog import Striplog, Component\n",
    "\n",
    "w = Well.from_las(\"P-129_out.LAS\")\n",
    "gr = w.data['GR']\n",
    "\n",
    "comps = [Component({'lithology': 'sandstone'}),\n",
    "         Component({'lithology': 'greywacke'}),\n",
    "         Component({'lithology': 'shale'}),\n",
    "        ]\n",
    "\n",
    "s = Striplog.from_log(gr, cutoff=[30, 90], components=comps, basis=gr.basis)\n",
    "s"
   ]
  },
  {
   "cell_type": "code",
   "execution_count": 65,
   "metadata": {},
   "outputs": [
    {
     "data": {
      "image/png": "[encoded data removed]",
      "text/plain": [
       "<Figure size 108x1080 with 1 Axes>"
      ]
     },
     "metadata": {
      "needs_background": "light"
     },
     "output_type": "display_data"
    }
   ],
   "source": [
    "s.plot()"
   ]
  },
  {
   "cell_type": "code",
   "execution_count": 68,
   "metadata": {},
   "outputs": [
    {
     "data": {
      "text/plain": [
       "array([1, 1, 1, ..., 2, 2, 2])"
      ]
     },
     "execution_count": 68,
     "metadata": {},
     "output_type": "execute_result"
    }
   ],
   "source": [
    "log, z, comps = s.to_log(return_meta=True)\n",
    "log"
   ]
  },
  {
   "cell_type": "markdown",
   "metadata": {},
   "source": [
    "This is not quite what we want, because it's regularly sampled.\n",
    "\n",
    "We want the beds only."
   ]
  },
  {
   "cell_type": "code",
   "execution_count": 69,
   "metadata": {},
   "outputs": [
    {
     "data": {
      "text/html": [
       "<table><tr><td style=\"width:2em; background-color:#DDDDDD\" rowspan=\"6\"></td><td><strong>top</strong></td><td>1.0668</td></tr><tr><td><strong>primary</strong></td><td><table><tr><td><strong>lithology</strong></td><td>greywacke</td></tr></table></td></tr><tr><td><strong>summary</strong></td><td>135.79 m of greywacke</td></tr><tr><td><strong>description</strong></td><td></td></tr><tr><td><strong>data</strong></td><td><table></table></td></tr><tr><td><strong>base</strong></td><td>136.85520000000008</td></tr></table>"
      ],
      "text/plain": [
       "Interval({'top': Position({'middle': 1.0668, 'units': 'm'}), 'base': Position({'middle': 136.85520000000008, 'units': 'm'}), 'description': '', 'data': {}, 'components': [Component({'lithology': 'greywacke'})]})"
      ]
     },
     "execution_count": 69,
     "metadata": {},
     "output_type": "execute_result"
    }
   ],
   "source": [
    "s[0]"
   ]
  },
  {
   "cell_type": "code",
   "execution_count": 70,
   "metadata": {},
   "outputs": [],
   "source": [
    "seq = [i.primary.lithology for i in s]"
   ]
  },
  {
   "cell_type": "code",
   "execution_count": 71,
   "metadata": {},
   "outputs": [],
   "source": [
    "m = Markov_chain.from_sequence(seq, strings_are_states=True, include_self=False)"
   ]
  },
  {
   "cell_type": "code",
   "execution_count": 72,
   "metadata": {},
   "outputs": [
    {
     "data": {
      "text/plain": [
       "array([[ 0. ,  0.1,  0. ],\n",
       "       [ 0.1,  0. , -0.9],\n",
       "       [-0. , -0.9,  0. ]])"
      ]
     },
     "execution_count": 72,
     "metadata": {},
     "output_type": "execute_result"
    }
   ],
   "source": [
    "m.normalized_difference"
   ]
  },
  {
   "cell_type": "code",
   "execution_count": 73,
   "metadata": {},
   "outputs": [
    {
     "data": {
      "image/png": "[encoded data removed]",
      "text/plain": [
       "<Figure size 180x108 with 2 Axes>"
      ]
     },
     "metadata": {
      "needs_background": "light"
     },
     "output_type": "display_data"
    }
   ],
   "source": [
    "m.plot_norm_diff()"
   ]
  },
  {
   "cell_type": "code",
   "execution_count": 75,
   "metadata": {},
   "outputs": [
    {
     "data": {
      "image/png": "[encoded data removed]",
      "text/plain": [
       "<Figure size 432x288 with 1 Axes>"
      ]
     },
     "metadata": {
      "needs_background": "light"
     },
     "output_type": "display_data"
    }
   ],
   "source": [
    "m.plot_graph()"
   ]
  },
  {
   "cell_type": "markdown",
   "metadata": {},
   "source": [
    "----\n",
    "\n",
    "&copy; Agile Scientific 2019, licensed CC-BY / Apache 2.0, please share this work"
   ]
  }
 ],
 "metadata": {
  "kernelspec": {
   "display_name": "geocomp",
   "language": "python",
   "name": "geocomp"
  },
  "language_info": {
   "codemirror_mode": {
    "name": "ipython",
    "version": 3
   },
   "file_extension": ".py",
   "mimetype": "text/x-python",
   "name": "python",
   "nbconvert_exporter": "python",
   "pygments_lexer": "ipython3",
   "version": "3.7.1"
  }
 },
 "nbformat": 4,
 "nbformat_minor": 2
}
