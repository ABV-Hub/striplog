{
 "cells": [
  {
   "cell_type": "markdown",
   "metadata": {},
   "source": [
    "## Markov chains for `striplog`\n",
    "\n",
    "Using example from [Alfredo Molina on Medium](https://medium.com/@__amol__/markov-chains-with-python-1109663f3678)."
   ]
  },
  {
   "cell_type": "code",
   "execution_count": 1036,
   "metadata": {},
   "outputs": [],
   "source": [
    "import numpy as np\n",
    "import scipy.stats\n",
    "import matplotlib.pyplot as plt\n",
    "\n",
    "\n",
    "class Markov_chain(object):\n",
    "    \"\"\"\n",
    "    Markov_chain object.\n",
    "    \n",
    "    TODO\n",
    "    - Pretty transition matrix printing with state names and row/col sums.\n",
    "    - Allow self-transitions.\n",
    "    - Allow other step sizes (especially 2 and 3).\n",
    "    - Hidden Markov model?\n",
    "    - More generally, explore other sequence models, eg LSTM.\n",
    "    \"\"\"\n",
    "    \n",
    "    def __init__(self, transition_counts, states=None):\n",
    "        \"\"\"\n",
    "        Initialize the MarkovChain instance.\n",
    " \n",
    "        Args\n",
    "            transition_counts (ndarray): A 2-D array representing the counts\n",
    "                of change of state in the Markov Chain.\n",
    "            states (array-like): An array-like representing the possible states\n",
    "                of the Markov Chain. Must be in the same order as `transition_counts`.\n",
    "        \"\"\"\n",
    "        self.transition_counts = np.atleast_2d(transition_counts)\n",
    "\n",
    "        if states is not None:        \n",
    "            self.states = np.asarray(states)\n",
    "        elif self.transition_counts is not None:\n",
    "            self.states = np.arange(self.transition_counts.shape[0])\n",
    "        else:\n",
    "            self.states = None\n",
    "                    \n",
    "        self.expected_counts = self._compute_expected()\n",
    "            \n",
    "        return\n",
    "        \n",
    "    @staticmethod\n",
    "    def _compute_freqs(C):\n",
    "        epsilon = 1e-12\n",
    "        return (C.T / (epsilon+np.sum(C.T, axis=0))).T\n",
    "    \n",
    "    @staticmethod\n",
    "    def _stop_iter(a, b, tol=0.01):\n",
    "        a_small = np.all(np.abs(a[-1] - a[-2]) < tol*a[-1])\n",
    "        b_small = np.all(np.abs(b[-1] - b[-2]) < tol*b[-1])\n",
    "        return (a_small and b_small)\n",
    "    \n",
    "    @property\n",
    "    def _index_dict(self):\n",
    "        if self.states is None:\n",
    "            return {}\n",
    "        return {self.states[index]: index for index in range(len(self.states))}\n",
    "    \n",
    "    @property\n",
    "    def _state_dict(self):\n",
    "        if self.states is None:\n",
    "            return {}\n",
    "        return {index: self.states[index] for index in range(len(self.states))}\n",
    "    \n",
    "    @property\n",
    "    def transition_freqs(self):\n",
    "        return self._compute_freqs(self.transition_counts)\n",
    "    \n",
    "    @property\n",
    "    def expected_freqs(self):\n",
    "        return self._compute_freqs(self.expected_counts)\n",
    "    \n",
    "    @property\n",
    "    def _prob_states(self):\n",
    "        \"\"\"\n",
    "        We don't know the states, only the transitions.\n",
    "        So there's an off-by-one or -two error.\n",
    "        \"\"\"\n",
    "        a = np.sum(m.transition_counts, axis=0)\n",
    "        b = np.sum(m.transition_counts, axis=1)\n",
    "        counts = np.maximum(a, b)\n",
    "\n",
    "        return counts / np.sum(counts)\n",
    " \n",
    "    @classmethod\n",
    "    def from_sequence(cls, sequence):\n",
    "        \"\"\"\n",
    "        Parse a sequence and make the transition matrix.\n",
    "        \n",
    "        Provide upwards sequence.\n",
    "        \"\"\"\n",
    "        states = sorted(set(sequence))\n",
    "        integer_seq = [states.index(s) for s in sequence]\n",
    "\n",
    "        n = 1+ max(integer_seq)\n",
    "        M = [[0]*n for _ in range(n)]\n",
    "        for (i, j) in zip(integer_seq, integer_seq[1:]):\n",
    "            M[i][j] += 1\n",
    "\n",
    "        return cls(transition_counts=np.array(M), states=states)\n",
    "    \n",
    "    def _conditional_probs(self, state):\n",
    "        \"\"\"\n",
    "        Conditional probabilities of each state, given a\n",
    "        current state.\n",
    "        \"\"\"\n",
    "        return self.transition_freqs[self._index_dict[state]]\n",
    " \n",
    "    def _next_state(self, current_state: str) -> str:\n",
    "        \"\"\"\n",
    "        Returns the state of the random variable at the next time \n",
    "        instance.\n",
    " \n",
    "        Args\n",
    "            current_state (str): The current state of the system.\n",
    "            \n",
    "        Returns\n",
    "            str. One realization of the next state.\n",
    "        \"\"\"\n",
    "        return np.random.choice(self.states, p=self._conditional_probs(current_state))\n",
    " \n",
    "    def generate_states(self, n:int=10, current_state:str=None) -> list:\n",
    "        \"\"\"\n",
    "        Generates the next states of the system.\n",
    " \n",
    "        Args\n",
    "            n (int): The number of future states to generate.\n",
    "            current_state (str): The state of the current random variable.\n",
    "        \n",
    "        Returns\n",
    "            list. The next n states.\n",
    "        \"\"\"\n",
    "        if current_state is None:\n",
    "            current_state = np.random.choice(self.states, p=self._prob_states)\n",
    "\n",
    "        future_states = []\n",
    "        for _ in range(n):\n",
    "            next_state = self._next_state(current_state)\n",
    "            future_states.append(next_state)\n",
    "            current_state = next_state\n",
    "\n",
    "        return future_states\n",
    "    \n",
    "    @staticmethod\n",
    "    def _hollow(M):\n",
    "        \"\"\"\n",
    "        Return hollow matrix (zeros on diagonal).\n",
    "        \"\"\"\n",
    "        return (1 - np.eye(M.shape[0])) * M\n",
    "    \n",
    "    def _compute_expected(self, max_iter=100, verbose=False, zero_diag=True):\n",
    "        \"\"\"\n",
    "        Compute the independent trials matrix, using method of\n",
    "        Powers & Easterling 1982.\n",
    "        \"\"\"\n",
    "        m = len(self.states)\n",
    "        M = self.transition_counts\n",
    "        a, b = [], []\n",
    "        \n",
    "        # Loop 1\n",
    "        a.append(np.sum(M, axis=1) / (m - 1))\n",
    "        b.append(np.sum(M, axis=0) / (np.sum(a[-1]) - a[-1]))\n",
    "        \n",
    "        i = 2\n",
    "        while i < max_iter:\n",
    "            \n",
    "            if verbose:\n",
    "                print(f\"iteration: {i-1}\")\n",
    "                print(f\"a: {a[-1]}\")\n",
    "                print(f\"b: {b[-1]}\")\n",
    "                print()\n",
    "\n",
    "            a.append(np.sum(M, axis=1) / (np.sum(b[-1]) - b[-1]))\n",
    "            b.append(np.sum(M, axis=0) / (np.sum(a[-1]) - a[-1]))\n",
    "\n",
    "            # Check for stopping criterion.\n",
    "            if self._stop_iter(a, b, tol=0.001):\n",
    "                break\n",
    "\n",
    "            i += 1\n",
    "        \n",
    "        E = a[-1] * b[-1].reshape(-1, 1)\n",
    "        \n",
    "        if zero_diag:\n",
    "            return self._hollow(E)\n",
    "        else:\n",
    "            return E\n",
    "                    \n",
    "    @property\n",
    "    def degrees_of_freedom(self):\n",
    "        m = len(self.states)\n",
    "        return (m - 1)**2 - m\n",
    "    \n",
    "    def _critical_chi_squared(self, q=0.95, df=None):\n",
    "        \"\"\"\n",
    "        The chi-squared critical value for a confidence level q\n",
    "        and degrees of freedom df.\n",
    "        \"\"\"\n",
    "        if df is None:\n",
    "            df = self.degrees_of_freedom\n",
    "        return scipy.stats.chi2.ppf(q=q, df=df)\n",
    "        \n",
    "    def chi_squared(self, return_crit=True, q=0.95):\n",
    "        \"\"\"\n",
    "        The chi-squared statistic for the given transition\n",
    "        frequencies. \n",
    "        \n",
    "        Also returns the critical statistic at the given confidence\n",
    "        level q (default 95%).\n",
    "        \n",
    "        If the first number is bigger than the second number,\n",
    "        then you can reject the hypothesis that the sequence\n",
    "        is randomly ordered.\n",
    "        \"\"\"\n",
    "        O = self.transition_counts\n",
    "        E = self.expected_counts\n",
    "        chi2 = np.sum((O - E)**2 / (E + 1e-12))\n",
    "        if return_crit:\n",
    "            return chi2, self._critical_chi_squared(q=q)\n",
    "        else:\n",
    "            return chi2\n",
    "    \n",
    "    def normalized_difference(self):\n",
    "        O = self.transition_counts\n",
    "        E = self.expected_counts\n",
    "        return (O - E) / np.sqrt(E + 1e-12)\n",
    "    \n",
    "    def as_graph(self):\n",
    "        try:\n",
    "            import networkx as nx\n",
    "        except ImportError:\n",
    "            nx = None \n",
    "\n",
    "        if nx is None:\n",
    "            print(\"Please install networkx with `pip install networkx`.\")\n",
    "            return\n",
    "\n",
    "        G = nx.from_numpy_array(self.normalized_difference())\n",
    "        nx.set_node_attributes(G, self._state_dict, 'state')\n",
    "        return G\n",
    "    \n",
    "    def plot_graph(self, ax=None, figsize=None):\n",
    "        G = self.as_graph()\n",
    "        \n",
    "        return_ax = True\n",
    "        if ax is None:\n",
    "            fig, ax = plt.subplots(figsize=figsize)\n",
    "            return_ax = False\n",
    "        \n",
    "        e_small = [(u, v) for (u, v, d) in G.edges(data=True) if     d['weight'] <= 1.0]\n",
    "        e_med   = [(u, v) for (u, v, d) in G.edges(data=True) if 1 < d['weight'] <= 2.0]\n",
    "        e_large = [(u, v) for (u, v, d) in G.edges(data=True) if     d['weight'] >  2.0]\n",
    "\n",
    "        pos = nx.spring_layout(G)\n",
    "\n",
    "        nx.draw_networkx_nodes(G, pos, ax=ax, node_size=700)\n",
    "        nx.draw_networkx_edges(G, pos, ax=ax, edgelist=e_large, width=10)\n",
    "        nx.draw_networkx_edges(G, pos, ax=ax, edgelist=e_med, width=4)\n",
    "        nx.draw_networkx_edges(G, pos, ax=ax, edgelist=e_small,\n",
    "                               width=4,\n",
    "                               alpha=0.4,\n",
    "                               edge_color='b',\n",
    "                               style='dashed')\n",
    "\n",
    "        labels = nx.get_node_attributes(G, 'state')\n",
    "        ax = nx.draw_networkx_labels(G, pos, labels=labels, font_size=20, font_family='sans-serif')\n",
    "        \n",
    "        if return_ax:\n",
    "            return ax\n",
    "        else:\n",
    "            plt.axis('off')\n",
    "            return "
   ]
  },
  {
   "cell_type": "markdown",
   "metadata": {},
   "source": [
    "## Powers & Easterling data"
   ]
  },
  {
   "cell_type": "code",
   "execution_count": 1037,
   "metadata": {},
   "outputs": [
    {
     "data": {
      "text/plain": [
       "array([[ 0.  , 31.27,  8.17,  2.56],\n",
       "       [31.28,  0.  , 34.06, 10.66],\n",
       "       [ 8.17, 34.04,  0.  ,  2.78],\n",
       "       [ 2.56, 10.66,  2.78,  0.  ]])"
      ]
     },
     "execution_count": 1037,
     "metadata": {},
     "output_type": "execute_result"
    }
   ],
   "source": [
    "pe = [[0, 37, 3, 2],\n",
    "      [21, 0, 41, 14],\n",
    "      [20, 25, 0, 0],\n",
    "      [1, 14, 1, 0]]\n",
    "\n",
    "s = Markov_chain(pe, states=['A', 'B', 'C', 'D'])\n",
    "\n",
    "s.expected_counts"
   ]
  },
  {
   "cell_type": "code",
   "execution_count": 1038,
   "metadata": {},
   "outputs": [
    {
     "data": {
      "text/plain": [
       "(35.73687369691601, 11.070497693516351)"
      ]
     },
     "execution_count": 1038,
     "metadata": {},
     "output_type": "execute_result"
    }
   ],
   "source": [
    "s.chi_squared()"
   ]
  },
  {
   "cell_type": "code",
   "execution_count": 1039,
   "metadata": {},
   "outputs": [
    {
     "data": {
      "text/plain": [
       "array([[ 0.  ,  1.02, -1.81, -0.35],\n",
       "       [-1.84,  0.  ,  1.19,  1.02],\n",
       "       [ 4.14, -1.55,  0.  , -1.67],\n",
       "       [-0.97,  1.02, -1.07,  0.  ]])"
      ]
     },
     "execution_count": 1039,
     "metadata": {},
     "output_type": "execute_result"
    }
   ],
   "source": [
    "s.normalized_difference()"
   ]
  },
  {
   "cell_type": "markdown",
   "metadata": {},
   "source": [
    "These numbers can be interpreted as standard deviations away from the model of quasi-independence. That is, transitions with large positive numbers represent passages that occur more often than might be expected. Any numbers greater than 2 are likely to be important."
   ]
  },
  {
   "cell_type": "code",
   "execution_count": 1043,
   "metadata": {},
   "outputs": [
    {
     "data": {
      "image/png": "[encoded data removed]",
      "text/plain": [
       "<Figure size 432x288 with 1 Axes>"
      ]
     },
     "metadata": {
      "needs_background": "light"
     },
     "output_type": "display_data"
    }
   ],
   "source": [
    "%matplotlib inline\n",
    "s.plot_graph()"
   ]
  },
  {
   "cell_type": "markdown",
   "metadata": {},
   "source": [
    "## Fake data"
   ]
  },
  {
   "cell_type": "code",
   "execution_count": 1044,
   "metadata": {},
   "outputs": [],
   "source": [
    "data = \"sssmmmlllmlmlsslsllsmmllllmssssllllssmmlllllssssssmmmmsmllllssslmslmsmmmslsllll\"\"\""
   ]
  },
  {
   "cell_type": "code",
   "execution_count": 1045,
   "metadata": {},
   "outputs": [],
   "source": [
    "m = Markov_chain.from_sequence(data)"
   ]
  },
  {
   "cell_type": "code",
   "execution_count": 1058,
   "metadata": {},
   "outputs": [
    {
     "data": {
      "text/plain": [
       "array([[19,  5,  7],\n",
       "       [ 6,  9,  5],\n",
       "       [ 7,  6, 14]])"
      ]
     },
     "execution_count": 1058,
     "metadata": {},
     "output_type": "execute_result"
    }
   ],
   "source": [
    "m.transition_counts"
   ]
  },
  {
   "cell_type": "code",
   "execution_count": 1048,
   "metadata": {},
   "outputs": [
    {
     "data": {
      "text/plain": [
       "array([0.41, 0.25, 0.34])"
      ]
     },
     "execution_count": 1048,
     "metadata": {},
     "output_type": "execute_result"
    }
   ],
   "source": [
    "m._prob_states"
   ]
  },
  {
   "cell_type": "code",
   "execution_count": 1049,
   "metadata": {},
   "outputs": [
    {
     "data": {
      "text/plain": [
       "array([[0.61, 0.16, 0.23],\n",
       "       [0.3 , 0.45, 0.25],\n",
       "       [0.26, 0.22, 0.52]])"
      ]
     },
     "execution_count": 1049,
     "metadata": {},
     "output_type": "execute_result"
    }
   ],
   "source": [
    "m.transition_freqs"
   ]
  },
  {
   "cell_type": "code",
   "execution_count": 1050,
   "metadata": {},
   "outputs": [
    {
     "data": {
      "text/plain": [
       "array([[0.  , 0.39, 0.61],\n",
       "       [0.62, 0.  , 0.38],\n",
       "       [0.72, 0.28, 0.  ]])"
      ]
     },
     "execution_count": 1050,
     "metadata": {},
     "output_type": "execute_result"
    }
   ],
   "source": [
    "m.expected_freqs"
   ]
  },
  {
   "cell_type": "code",
   "execution_count": 1051,
   "metadata": {},
   "outputs": [
    {
     "data": {
      "text/plain": [
       "array(['l', 'm', 's'], dtype='<U1')"
      ]
     },
     "execution_count": 1051,
     "metadata": {},
     "output_type": "execute_result"
    }
   ],
   "source": [
    "m.states"
   ]
  },
  {
   "cell_type": "code",
   "execution_count": 1052,
   "metadata": {},
   "outputs": [
    {
     "data": {
      "text/plain": [
       "array([0.61, 0.16, 0.23])"
      ]
     },
     "execution_count": 1052,
     "metadata": {},
     "output_type": "execute_result"
    }
   ],
   "source": [
    "m._conditional_probs('l')"
   ]
  },
  {
   "cell_type": "code",
   "execution_count": 1053,
   "metadata": {},
   "outputs": [
    {
     "data": {
      "text/plain": [
       "['l',\n",
       " 's',\n",
       " 's',\n",
       " 'm',\n",
       " 'm',\n",
       " 'm',\n",
       " 'm',\n",
       " 'l',\n",
       " 'l',\n",
       " 's',\n",
       " 's',\n",
       " 's',\n",
       " 'l',\n",
       " 'l',\n",
       " 's',\n",
       " 's',\n",
       " 's',\n",
       " 's',\n",
       " 's',\n",
       " 'l']"
      ]
     },
     "execution_count": 1053,
     "metadata": {},
     "output_type": "execute_result"
    }
   ],
   "source": [
    "m.generate_states(20)"
   ]
  }
 ],
 "metadata": {
  "kernelspec": {
   "display_name": "geocomp",
   "language": "python",
   "name": "geocomp"
  },
  "language_info": {
   "codemirror_mode": {
    "name": "ipython",
    "version": 3
   },
   "file_extension": ".py",
   "mimetype": "text/x-python",
   "name": "python",
   "nbconvert_exporter": "python",
   "pygments_lexer": "ipython3",
   "version": "3.7.1"
  }
 },
 "nbformat": 4,
 "nbformat_minor": 2
}
