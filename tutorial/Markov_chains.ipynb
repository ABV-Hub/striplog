{
 "cells": [
  {
   "cell_type": "markdown",
   "metadata": {},
   "source": [
    "## Markov chains for `striplog`\n",
    "\n",
    "Initially based on [Alfredo Molina on Medium](https://medium.com/@__amol__/markov-chains-with-python-1109663f3678), then incorporating quasi-independence model from Powers & Easterling, https://doi.org/10.1306/212F808F-2B24-11D7-8648000102C1865D. "
   ]
  },
  {
   "cell_type": "code",
   "execution_count": 6,
   "metadata": {},
   "outputs": [],
   "source": [
    "import numpy as np\n",
    "import scipy.stats\n",
    "import matplotlib.pyplot as plt\n",
    "\n",
    "\n",
    "def flatten_list(l):\n",
    "    \"\"\"\n",
    "    Unpacks lists in a list:\n",
    "        [1, 2, [3, 4], [5, [6, 7]]]\n",
    "    becomes\n",
    "        [1, 2, 3, 4, 5, 6, 7]\n",
    "    http://stackoverflow.com/a/12472564/3381305\n",
    "    \"\"\"\n",
    "    if (l == []) or (l is None):\n",
    "        return []\n",
    "    if isinstance(l, str):\n",
    "        return list(l)\n",
    "    if isinstance(l[0], str):\n",
    "        return list(''.join(l))\n",
    "    if isinstance(l[0], list):\n",
    "        return flatten_list(l[0]) + flatten_list(l[1:])\n",
    "    return l[:1] + flatten_list(l[1:])\n",
    "\n",
    "def hollow_matrix(M):\n",
    "    \"\"\"\n",
    "    Return hollow matrix (zeros on diagonal).\n",
    "    \"\"\"\n",
    "    return (1 - np.eye(M.shape[0])) * M\n",
    "\n",
    "\n",
    "\n",
    "\n",
    "class Markov_chain(object):\n",
    "    \"\"\"\n",
    "    Markov_chain object.\n",
    "    \n",
    "    TODO\n",
    "    - Pretty transition matrix printing with state names and row/col sums.\n",
    "    - Allow self-transitions.\n",
    "    - Allow other step sizes (especially 2 and 3).\n",
    "    - Hidden Markov model?\n",
    "    - More generally, explore other sequence models, eg LSTM.\n",
    "    \"\"\"\n",
    "    \n",
    "    def __init__(self, transition_counts, states=None):\n",
    "        \"\"\"\n",
    "        Initialize the MarkovChain instance.\n",
    " \n",
    "        Args\n",
    "            transition_counts (ndarray): A 2-D array representing the counts\n",
    "                of change of state in the Markov Chain.\n",
    "            states (array-like): An array-like representing the possible states\n",
    "                of the Markov Chain. Must be in the same order as `transition_counts`.\n",
    "        \"\"\"\n",
    "        self.transition_counts = np.atleast_2d(transition_counts)\n",
    "\n",
    "        if states is not None:        \n",
    "            self.states = np.asarray(states)\n",
    "        elif self.transition_counts is not None:\n",
    "            self.states = np.arange(self.transition_counts.shape[0])\n",
    "        else:\n",
    "            self.states = None\n",
    "                    \n",
    "        self.expected_counts = self._compute_expected()\n",
    "            \n",
    "        return\n",
    "        \n",
    "    @staticmethod\n",
    "    def _compute_freqs(C):\n",
    "        epsilon = 1e-12\n",
    "        return (C.T / (epsilon+np.sum(C.T, axis=0))).T\n",
    "    \n",
    "    @staticmethod\n",
    "    def _stop_iter(a, b, tol=0.01):\n",
    "        a_small = np.all(np.abs(a[-1] - a[-2]) < tol*a[-1])\n",
    "        b_small = np.all(np.abs(b[-1] - b[-2]) < tol*b[-1])\n",
    "        return (a_small and b_small)\n",
    "    \n",
    "    @property\n",
    "    def _index_dict(self):\n",
    "        if self.states is None:\n",
    "            return {}\n",
    "        return {self.states[index]: index for index in range(len(self.states))}\n",
    "    \n",
    "    @property\n",
    "    def _state_dict(self):\n",
    "        if self.states is None:\n",
    "            return {}\n",
    "        return {index: self.states[index] for index in range(len(self.states))}\n",
    "    \n",
    "    @property\n",
    "    def transition_freqs(self):\n",
    "        return self._compute_freqs(self.transition_counts)\n",
    "    \n",
    "    @property\n",
    "    def expected_freqs(self):\n",
    "        return self._compute_freqs(self.expected_counts)\n",
    "    \n",
    "    @property\n",
    "    def _state_counts(self):\n",
    "        a = np.sum(m.transition_counts, axis=0)\n",
    "        b = np.sum(m.transition_counts, axis=1)\n",
    "        return np.maximum(a, b)\n",
    "\n",
    "        return counts / np.sum(counts)\n",
    " \n",
    "    @property\n",
    "    def _state_probs(self):\n",
    "        return self._state_counts / np.sum(self._state_counts)\n",
    "\n",
    "    @classmethod\n",
    "    def from_sequence(cls, sequence, states=None):\n",
    "        \"\"\"\n",
    "        Parse a sequence and make the transition matrix.\n",
    "        \n",
    "        Provide upwards sequence.\n",
    "        \"\"\"\n",
    "        sequence = flatten_list(sequence)\n",
    "        \n",
    "        if states is None:\n",
    "            states = sorted(set(sequence))\n",
    "\n",
    "        n = len(states)\n",
    "        M = [[0]*n for _ in range(n)]\n",
    "        \n",
    "        for seq in np.atleast_2d(sequence):\n",
    "            integer_seq = [states.index(s) for s in seq]\n",
    "            for (i, j) in zip(integer_seq, integer_seq[1:]):\n",
    "                M[i][j] += 1\n",
    "\n",
    "        return cls(transition_counts=np.array(M), states=states)\n",
    "    \n",
    "    def _conditional_probs(self, state):\n",
    "        \"\"\"\n",
    "        Conditional probabilities of each state, given a\n",
    "        current state.\n",
    "        \"\"\"\n",
    "        return self.transition_freqs[self._index_dict[state]]\n",
    " \n",
    "    def _next_state(self, current_state: str) -> str:\n",
    "        \"\"\"\n",
    "        Returns the state of the random variable at the next time \n",
    "        instance.\n",
    " \n",
    "        Args\n",
    "            current_state (str): The current state of the system.\n",
    "            \n",
    "        Returns\n",
    "            str. One realization of the next state.\n",
    "        \"\"\"\n",
    "        return np.random.choice(self.states, p=self._conditional_probs(current_state))\n",
    " \n",
    "    def generate_states(self, n:int=10, current_state:str=None) -> list:\n",
    "        \"\"\"\n",
    "        Generates the next states of the system.\n",
    " \n",
    "        Args\n",
    "            n (int): The number of future states to generate.\n",
    "            current_state (str): The state of the current random variable.\n",
    "        \n",
    "        Returns\n",
    "            list. The next n states.\n",
    "        \"\"\"\n",
    "        if current_state is None:\n",
    "            current_state = np.random.choice(self.states, p=self._state_probs)\n",
    "\n",
    "        future_states = []\n",
    "        for _ in range(n):\n",
    "            next_state = self._next_state(current_state)\n",
    "            future_states.append(next_state)\n",
    "            current_state = next_state\n",
    "\n",
    "        return future_states\n",
    "    \n",
    "    def _compute_expected(self, max_iter=100, verbose=False, zero_diag=True):\n",
    "        \"\"\"\n",
    "        Compute the independent trials matrix, using method of\n",
    "        Powers & Easterling 1982.\n",
    "        \"\"\"\n",
    "        m = len(self.states)\n",
    "        M = self.transition_counts\n",
    "        a, b = [], []\n",
    "        \n",
    "        # Loop 1\n",
    "        a.append(np.sum(M, axis=1) / (m - 1))\n",
    "        b.append(np.sum(M, axis=0) / (np.sum(a[-1]) - a[-1]))\n",
    "        \n",
    "        i = 2\n",
    "        while i < max_iter:\n",
    "            \n",
    "            if verbose:\n",
    "                print(f\"iteration: {i-1}\")\n",
    "                print(f\"a: {a[-1]}\")\n",
    "                print(f\"b: {b[-1]}\")\n",
    "                print()\n",
    "\n",
    "            a.append(np.sum(M, axis=1) / (np.sum(b[-1]) - b[-1]))\n",
    "            b.append(np.sum(M, axis=0) / (np.sum(a[-1]) - a[-1]))\n",
    "\n",
    "            # Check for stopping criterion.\n",
    "            if self._stop_iter(a, b, tol=0.001):\n",
    "                break\n",
    "\n",
    "            i += 1\n",
    "        \n",
    "        E = a[-1] * b[-1].reshape(-1, 1)\n",
    "        \n",
    "        if zero_diag:\n",
    "            return hollow_matrix(E)\n",
    "        else:\n",
    "            return E\n",
    "\n",
    "    @property\n",
    "    def degrees_of_freedom(self):\n",
    "        m = len(self.states)\n",
    "        return (m - 1)**2 - m\n",
    "    \n",
    "    def _critical_chi_squared(self, q=0.95, df=None):\n",
    "        \"\"\"\n",
    "        The chi-squared critical value for a confidence level q\n",
    "        and degrees of freedom df.\n",
    "        \"\"\"\n",
    "        if df is None:\n",
    "            df = self.degrees_of_freedom\n",
    "        return scipy.stats.chi2.ppf(q=q, df=df)\n",
    "        \n",
    "    def chi_squared(self, return_crit=True, q=0.95):\n",
    "        \"\"\"\n",
    "        The chi-squared statistic for the given transition\n",
    "        frequencies. \n",
    "        \n",
    "        Also returns the critical statistic at the given confidence\n",
    "        level q (default 95%).\n",
    "        \n",
    "        If the first number is bigger than the second number,\n",
    "        then you can reject the hypothesis that the sequence\n",
    "        is randomly ordered.\n",
    "        \"\"\"\n",
    "        O = self.transition_counts\n",
    "        E = self.expected_counts\n",
    "        chi2 = np.sum((O - E)**2 / (E + 1e-12))\n",
    "        if return_crit:\n",
    "            return chi2, self._critical_chi_squared(q=q)\n",
    "        else:\n",
    "            return chi2\n",
    "    \n",
    "    def normalized_difference(self):\n",
    "        O = self.transition_counts\n",
    "        E = self.expected_counts\n",
    "        return (O - E) / np.sqrt(E + 1e-12)\n",
    "    \n",
    "    def as_graph(self):\n",
    "        try:\n",
    "            import networkx as nx\n",
    "        except ImportError:\n",
    "            nx = None \n",
    "\n",
    "        if nx is None:\n",
    "            print(\"Please install networkx with `pip install networkx`.\")\n",
    "            return\n",
    "\n",
    "        G = nx.from_numpy_array(self.normalized_difference())\n",
    "        nx.set_node_attributes(G, self._state_dict, 'state')\n",
    "        return G\n",
    "    \n",
    "    def plot_graph(self, ax=None, figsize=None, draw_neg=False):\n",
    "        try:\n",
    "            import networkx as nx\n",
    "        except ImportError:\n",
    "            nx = None \n",
    "\n",
    "        if nx is None:\n",
    "            print(\"Please install networkx with `pip install networkx`.\")\n",
    "            return\n",
    "\n",
    "        G = self.as_graph()\n",
    "        \n",
    "        return_ax = True\n",
    "        if ax is None:\n",
    "            fig, ax = plt.subplots(figsize=figsize)\n",
    "            return_ax = False\n",
    "        \n",
    "        e_neg   = [(u, v) for (u, v, d) in G.edges(data=True) if        d['weight'] <= -1.0]\n",
    "        e_small = [(u, v) for (u, v, d) in G.edges(data=True) if -1.0 < d['weight'] <=  1.0]\n",
    "        e_med   = [(u, v) for (u, v, d) in G.edges(data=True) if  1.0 < d['weight'] <=  2.0]\n",
    "        e_large = [(u, v) for (u, v, d) in G.edges(data=True) if        d['weight'] >   2.0]\n",
    "\n",
    "        pos = nx.spring_layout(G)\n",
    "\n",
    "        sizes = 1000 * (self._state_counts / max(self._state_counts))\n",
    "        nx.draw_networkx_nodes(G, pos, ax=ax, node_size=sizes, node_color='orange')\n",
    "        nx.draw_networkx_edges(G, pos, ax=ax, edgelist=e_large, width=10)\n",
    "        nx.draw_networkx_edges(G, pos, ax=ax, edgelist=e_med, width=4)\n",
    "        nx.draw_networkx_edges(G, pos, ax=ax, edgelist=e_small,\n",
    "                               width=3,\n",
    "                               alpha=0.1,\n",
    "                               edge_color='k')\n",
    "        if draw_neg:\n",
    "            nx.draw_networkx_edges(G, pos, ax=ax, edgelist=e_neg,\n",
    "                                   width=2,\n",
    "                                   alpha=0.1,\n",
    "                                   edge_color='k')\n",
    "\n",
    "        labels = nx.get_node_attributes(G, 'state')\n",
    "        ax = nx.draw_networkx_labels(G, pos, labels=labels, font_size=20, font_family='sans-serif')\n",
    "        \n",
    "        if return_ax:\n",
    "            return ax\n",
    "        else:\n",
    "            plt.axis('off')\n",
    "            return "
   ]
  },
  {
   "cell_type": "markdown",
   "metadata": {},
   "source": [
    "## Powers & Easterling data"
   ]
  },
  {
   "cell_type": "code",
   "execution_count": 7,
   "metadata": {},
   "outputs": [
    {
     "data": {
      "text/plain": [
       "array([[ 0.        , 31.27069125,  8.17143874,  2.55787001],\n",
       "       [31.28238248,  0.        , 34.05692583, 10.66069169],\n",
       "       [ 8.17137105, 34.04391563,  0.        ,  2.78471333],\n",
       "       [ 2.5579797 , 10.65716447,  2.78485582,  0.        ]])"
      ]
     },
     "execution_count": 7,
     "metadata": {},
     "output_type": "execute_result"
    }
   ],
   "source": [
    "data = [[ 0, 37,  3,  2],\n",
    "        [21,  0, 41, 14],\n",
    "        [20, 25,  0,  0],\n",
    "        [ 1, 14,  1,  0]]\n",
    "\n",
    "m = Markov_chain(data, states=['A', 'B', 'C', 'D'])\n",
    "\n",
    "m.expected_counts"
   ]
  },
  {
   "cell_type": "markdown",
   "metadata": {},
   "source": [
    "The $\\chi^2$ statistic shows the value for the observed ordering, along with the critical value at (by default) the 95% confidence level. If the first number is higher than the second number (ideally much higher), then we can reject the hypothesis that the ordering is quasi-independent. That is, we have shown that the ordering is non-random."
   ]
  },
  {
   "cell_type": "code",
   "execution_count": 8,
   "metadata": {},
   "outputs": [
    {
     "data": {
      "text/plain": [
       "(35.73687369691601, 11.070497693516351)"
      ]
     },
     "execution_count": 8,
     "metadata": {},
     "output_type": "execute_result"
    }
   ],
   "source": [
    "m.chi_squared()"
   ]
  },
  {
   "cell_type": "markdown",
   "metadata": {},
   "source": [
    "The normalized difference shows which transitions are 'interesting'. These numbers can be interpreted as standard deviations away from the model of quasi-independence. That is, transitions with large positive numbers represent passages that occur more often than might be expected. Any numbers greater than 2 are likely to be important."
   ]
  },
  {
   "cell_type": "code",
   "execution_count": 9,
   "metadata": {},
   "outputs": [
    {
     "data": {
      "text/plain": [
       "array([[ 0.        ,  1.02455077, -1.80909811, -0.3488139 ],\n",
       "       [-1.83841622,  0.        ,  1.18973184,  1.02273667],\n",
       "       [ 4.13796624, -1.55001803,  0.        , -1.66874603],\n",
       "       [-0.97412177,  1.02398637, -1.0695517 ,  0.        ]])"
      ]
     },
     "execution_count": 9,
     "metadata": {},
     "output_type": "execute_result"
    }
   ],
   "source": [
    "m.normalized_difference()"
   ]
  },
  {
   "cell_type": "markdown",
   "metadata": {},
   "source": [
    "We can interpret this as a graph. The transitions from A to C are particularly strong in this one. Transitions from C to A happen less often than we'd expect. Those from B to D and D to B, less so."
   ]
  },
  {
   "cell_type": "code",
   "execution_count": 10,
   "metadata": {},
   "outputs": [
    {
     "name": "stderr",
     "output_type": "stream",
     "text": [
      "/home/matt/anaconda3/envs/geocomp/lib/python3.7/site-packages/networkx/drawing/nx_pylab.py:611: MatplotlibDeprecationWarning: isinstance(..., numbers.Number)\n",
      "  if cb.is_numlike(alpha):\n"
     ]
    },
    {
     "data": {
      "image/png": "[encoded data removed]",
      "text/plain": [
       "<Figure size 432x288 with 1 Axes>"
      ]
     },
     "metadata": {
      "needs_background": "light"
     },
     "output_type": "display_data"
    }
   ],
   "source": [
    "%matplotlib inline\n",
    "m.plot_graph()"
   ]
  },
  {
   "cell_type": "markdown",
   "metadata": {},
   "source": [
    "## Data from Matt's thesis"
   ]
  },
  {
   "cell_type": "code",
   "execution_count": 11,
   "metadata": {},
   "outputs": [
    {
     "data": {
      "text/plain": [
       "array([[0, 3, 2, 0, 4, 0, 0, 0, 0, 0, 0],\n",
       "       [3, 0, 0, 0, 0, 0, 0, 0, 0, 0, 0],\n",
       "       [2, 0, 0, 0, 1, 0, 0, 0, 0, 0, 0],\n",
       "       [0, 0, 0, 0, 0, 0, 0, 0, 0, 0, 0],\n",
       "       [2, 0, 1, 0, 0, 3, 0, 0, 0, 0, 0],\n",
       "       [2, 0, 0, 0, 1, 0, 0, 0, 0, 0, 0],\n",
       "       [0, 0, 0, 0, 0, 0, 0, 0, 0, 0, 0],\n",
       "       [0, 0, 0, 0, 0, 0, 0, 0, 0, 0, 0],\n",
       "       [0, 0, 0, 0, 0, 0, 0, 0, 0, 0, 0],\n",
       "       [0, 0, 0, 0, 0, 0, 0, 0, 0, 0, 0],\n",
       "       [0, 0, 0, 0, 0, 0, 0, 0, 0, 0, 0]])"
      ]
     },
     "execution_count": 11,
     "metadata": {},
     "output_type": "execute_result"
    }
   ],
   "source": [
    "# We need to count transitions here, but without concatenating and creating an incorrect transition.\n",
    "log7 = [1, 3, 1, 3, 5, 1, 2, 1, 3, 1, 5, 6, 1, 2, 1, 2, 1, 2, 1, 3, 5, 6, 5, 1]\n",
    "log9 = [1, 3, 1, 5, 1, 5, 3, 1, 2, 1, 2, 1, 3, 5, 1, 5, 6, 5, 6, 1, 2, 1, 5, 6, 1]\n",
    "logs = [log9, log7]\n",
    "\n",
    "m = Markov_chain.from_sequence(log9, states=range(1,12))\n",
    "m.transition_counts"
   ]
  },
  {
   "cell_type": "code",
   "execution_count": 12,
   "metadata": {},
   "outputs": [],
   "source": [
    "data = np.array([  [ 0, 17, 16,  3, 16,  0,  2,  6,  5,  0,  0],\n",
    "                   [16,  0,  1,  0,  0,  0,  0,  0,  0,  0,  0],\n",
    "                   [ 4,  0,  0,  3, 15,  0,  0,  0,  2,  2,  0],\n",
    "                   [ 0,  0,  2,  0,  4,  0,  0,  0,  0,  0,  0],\n",
    "                   [19,  0,  5,  0,  0,  9,  0,  8,  6,  1,  0],\n",
    "                   [ 8,  0,  1,  0,  0,  0,  0,  0,  0,  0,  0],\n",
    "                   [ 2,  0,  0,  0,  0,  0,  0,  0,  0,  0,  0],\n",
    "                   [ 3,  0,  1,  0,  6,  0,  0,  0,  2,  0,  0],\n",
    "                   [ 5,  0,  1,  0,  5,  0,  0,  0,  0,  5,  3],\n",
    "                   [ 0,  0,  0,  0,  1,  0,  0,  1,  5,  0,  4],\n",
    "                   [ 1,  0,  0,  0,  0,  0,  0,  0,  2,  5,  0]])"
   ]
  },
  {
   "cell_type": "code",
   "execution_count": 13,
   "metadata": {},
   "outputs": [
    {
     "data": {
      "text/plain": [
       "array([[ 0.  ,  5.88,  9.43,  1.98, 19.85,  3.01,  0.65,  4.11,  6.71,  3.73,  2.65],\n",
       "       [ 6.34,  0.  ,  1.93,  0.41,  4.06,  0.62,  0.13,  0.84,  1.37,  0.76,  0.54],\n",
       "       [10.51,  1.99,  0.  ,  0.67,  6.74,  1.02,  0.22,  1.39,  2.28,  1.27,  0.9 ],\n",
       "       [ 2.14,  0.41,  0.65,  0.  ,  1.37,  0.21,  0.04,  0.28,  0.46,  0.26,  0.18],\n",
       "       [21.06,  3.99,  6.41,  1.35,  0.  ,  2.04,  0.44,  2.79,  4.56,  2.54,  1.8 ],\n",
       "       [ 3.24,  0.62,  0.99,  0.21,  2.08,  0.  ,  0.07,  0.43,  0.7 ,  0.39,  0.28],\n",
       "       [ 0.7 ,  0.13,  0.21,  0.04,  0.45,  0.07,  0.  ,  0.09,  0.15,  0.08,  0.06],\n",
       "       [ 5.48,  1.04,  1.67,  0.35,  3.51,  0.53,  0.11,  0.  ,  1.19,  0.66,  0.47],\n",
       "       [ 8.29,  1.57,  2.52,  0.53,  5.31,  0.8 ,  0.17,  1.1 ,  0.  ,  1.  ,  0.71],\n",
       "       [ 4.72,  0.9 ,  1.44,  0.3 ,  3.03,  0.46,  0.1 ,  0.63,  1.02,  0.  ,  0.4 ],\n",
       "       [ 2.51,  0.48,  0.76,  0.16,  1.61,  0.24,  0.05,  0.33,  0.54,  0.3 ,  0.  ]])"
      ]
     },
     "execution_count": 13,
     "metadata": {},
     "output_type": "execute_result"
    }
   ],
   "source": [
    "s = Markov_chain(data, states=range(1,12))\n",
    "\n",
    "np.set_printoptions(suppress=True, precision=2, linewidth=120)\n",
    "s.expected_counts"
   ]
  },
  {
   "cell_type": "code",
   "execution_count": 14,
   "metadata": {},
   "outputs": [
    {
     "data": {
      "text/plain": [
       "array([[ 0.  ,  4.59,  2.14,  0.72, -0.86, -1.73,  1.67,  0.93, -0.66, -1.93, -1.63],\n",
       "       [ 3.84,  0.  , -0.67, -0.64, -2.02, -0.78, -0.36, -0.92, -1.17, -0.87, -0.74],\n",
       "       [-2.01, -1.41,  0.  ,  2.84,  3.18, -1.01, -0.47, -1.18, -0.18,  0.65, -0.95],\n",
       "       [-1.46, -0.64,  1.67,  0.  ,  2.25, -0.46, -0.21, -0.53, -0.68, -0.51, -0.43],\n",
       "       [-0.45, -2.  , -0.56, -1.16,  0.  ,  4.86, -0.66,  3.12,  0.67, -0.97, -1.34],\n",
       "       [ 2.64, -0.78,  0.01, -0.46, -1.44,  0.  , -0.26, -0.66, -0.84, -0.63, -0.53],\n",
       "       [ 1.55, -0.36, -0.46, -0.21, -0.67, -0.26,  0.  , -0.3 , -0.39, -0.29, -0.25],\n",
       "       [-1.06, -1.02, -0.52, -0.59,  1.33, -0.73, -0.34,  0.  ,  0.75, -0.81, -0.68],\n",
       "       [-1.14, -1.25, -0.96, -0.73, -0.13, -0.9 , -0.42, -1.05,  0.  ,  4.  ,  2.72],\n",
       "       [-2.17, -0.95, -1.2 , -0.55, -1.17, -0.68, -0.31,  0.47,  3.93,  0.  ,  5.65],\n",
       "       [-0.95, -0.69, -0.87, -0.4 , -1.27, -0.49, -0.23, -0.58,  1.97,  8.54,  0.  ]])"
      ]
     },
     "execution_count": 14,
     "metadata": {},
     "output_type": "execute_result"
    }
   ],
   "source": [
    "s.normalized_difference()"
   ]
  },
  {
   "cell_type": "code",
   "execution_count": 15,
   "metadata": {},
   "outputs": [
    {
     "data": {
      "image/png": "[encoded data removed]",
      "text/plain": [
       "<Figure size 720x720 with 1 Axes>"
      ]
     },
     "metadata": {
      "needs_background": "light"
     },
     "output_type": "display_data"
    }
   ],
   "source": [
    "s.plot_graph(figsize=(10,10))"
   ]
  },
  {
   "cell_type": "markdown",
   "metadata": {},
   "source": [
    "## Fake data"
   ]
  },
  {
   "cell_type": "code",
   "execution_count": 16,
   "metadata": {},
   "outputs": [],
   "source": [
    "data = \"sssmmmlllmlmlsslsllsmmllllmssssllllssmmlllllssssssmmmmsmllllssslmslmsmmmslsllll\"\"\""
   ]
  },
  {
   "cell_type": "code",
   "execution_count": 17,
   "metadata": {},
   "outputs": [],
   "source": [
    "m = Markov_chain.from_sequence(data)"
   ]
  },
  {
   "cell_type": "code",
   "execution_count": 18,
   "metadata": {},
   "outputs": [
    {
     "data": {
      "text/plain": [
       "array([[19,  5,  7],\n",
       "       [ 6,  9,  5],\n",
       "       [ 7,  6, 14]])"
      ]
     },
     "execution_count": 18,
     "metadata": {},
     "output_type": "execute_result"
    }
   ],
   "source": [
    "m.transition_counts"
   ]
  },
  {
   "cell_type": "code",
   "execution_count": 19,
   "metadata": {},
   "outputs": [
    {
     "data": {
      "text/plain": [
       "array([0.41, 0.25, 0.34])"
      ]
     },
     "execution_count": 19,
     "metadata": {},
     "output_type": "execute_result"
    }
   ],
   "source": [
    "m._state_probs"
   ]
  },
  {
   "cell_type": "code",
   "execution_count": 20,
   "metadata": {},
   "outputs": [
    {
     "data": {
      "text/plain": [
       "array([[0.61, 0.16, 0.23],\n",
       "       [0.3 , 0.45, 0.25],\n",
       "       [0.26, 0.22, 0.52]])"
      ]
     },
     "execution_count": 20,
     "metadata": {},
     "output_type": "execute_result"
    }
   ],
   "source": [
    "m.transition_freqs"
   ]
  },
  {
   "cell_type": "code",
   "execution_count": 21,
   "metadata": {},
   "outputs": [
    {
     "data": {
      "text/plain": [
       "array([[0.  , 0.39, 0.61],\n",
       "       [0.62, 0.  , 0.38],\n",
       "       [0.72, 0.28, 0.  ]])"
      ]
     },
     "execution_count": 21,
     "metadata": {},
     "output_type": "execute_result"
    }
   ],
   "source": [
    "m.expected_freqs"
   ]
  },
  {
   "cell_type": "code",
   "execution_count": 22,
   "metadata": {},
   "outputs": [
    {
     "data": {
      "text/plain": [
       "array(['l', 'm', 's'], dtype='<U1')"
      ]
     },
     "execution_count": 22,
     "metadata": {},
     "output_type": "execute_result"
    }
   ],
   "source": [
    "m.states"
   ]
  },
  {
   "cell_type": "code",
   "execution_count": 23,
   "metadata": {},
   "outputs": [
    {
     "data": {
      "text/plain": [
       "array([0.61, 0.16, 0.23])"
      ]
     },
     "execution_count": 23,
     "metadata": {},
     "output_type": "execute_result"
    }
   ],
   "source": [
    "m._conditional_probs('l')"
   ]
  },
  {
   "cell_type": "code",
   "execution_count": 24,
   "metadata": {},
   "outputs": [
    {
     "data": {
      "text/plain": [
       "['m',\n",
       " 'm',\n",
       " 'm',\n",
       " 'm',\n",
       " 'm',\n",
       " 'l',\n",
       " 'l',\n",
       " 'l',\n",
       " 'l',\n",
       " 'l',\n",
       " 'l',\n",
       " 'm',\n",
       " 's',\n",
       " 'l',\n",
       " 'l',\n",
       " 's',\n",
       " 'm',\n",
       " 's',\n",
       " 'l',\n",
       " 'l']"
      ]
     },
     "execution_count": 24,
     "metadata": {},
     "output_type": "execute_result"
    }
   ],
   "source": [
    "m.generate_states(20)"
   ]
  },
  {
   "cell_type": "code",
   "execution_count": null,
   "metadata": {},
   "outputs": [],
   "source": []
  }
 ],
 "metadata": {
  "kernelspec": {
   "display_name": "geocomp",
   "language": "python",
   "name": "geocomp"
  },
  "language_info": {
   "codemirror_mode": {
    "name": "ipython",
    "version": 3
   },
   "file_extension": ".py",
   "mimetype": "text/x-python",
   "name": "python",
   "nbconvert_exporter": "python",
   "pygments_lexer": "ipython3",
   "version": "3.7.1"
  }
 },
 "nbformat": 4,
 "nbformat_minor": 2
}
