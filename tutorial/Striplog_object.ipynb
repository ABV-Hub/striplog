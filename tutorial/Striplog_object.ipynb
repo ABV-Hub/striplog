{
 "cells": [
  {
   "cell_type": "markdown",
   "metadata": {},
   "source": [
    "# Striplog objects"
   ]
  },
  {
   "cell_type": "markdown",
   "metadata": {},
   "source": [
    "This notebooks looks at the main `striplog` object. For the basic objects it depends on, see [Basic objects](./Basic_objects.ipynb).\n",
    "\n",
    "First, import anything we might need."
   ]
  },
  {
   "cell_type": "code",
   "execution_count": 1,
   "metadata": {
    "collapsed": false
   },
   "outputs": [
    {
     "data": {
      "text/plain": [
       "'0.5.7'"
      ]
     },
     "execution_count": 1,
     "metadata": {},
     "output_type": "execute_result"
    }
   ],
   "source": [
    "%matplotlib inline\n",
    "import striplog\n",
    "striplog.__version__"
   ]
  },
  {
   "cell_type": "code",
   "execution_count": 2,
   "metadata": {
    "collapsed": false
   },
   "outputs": [],
   "source": [
    "from striplog import Legend, Lexicon, Interval, Component"
   ]
  },
  {
   "cell_type": "code",
   "execution_count": 3,
   "metadata": {
    "collapsed": false
   },
   "outputs": [],
   "source": [
    "legend = Legend.default()\n",
    "lexicon = Lexicon.default()"
   ]
  },
  {
   "cell_type": "markdown",
   "metadata": {},
   "source": [
    "## Making a `striplog`"
   ]
  },
  {
   "cell_type": "code",
   "execution_count": 4,
   "metadata": {
    "collapsed": false
   },
   "outputs": [
    {
     "name": "stdout",
     "output_type": "stream",
     "text": [
      "\n",
      "    A Striplog is a sequence of intervals.\n",
      "\n",
      "    We will build them from LAS files or CSVs.\n",
      "\n",
      "    Args:\n",
      "        list_of_Intervals (list): A list of Interval objects.\n",
      "        source (str): A source for the data. Default None.\n",
      "    \n"
     ]
    }
   ],
   "source": [
    "from striplog import Striplog\n",
    "print(Striplog.__doc__)"
   ]
  },
  {
   "cell_type": "markdown",
   "metadata": {},
   "source": [
    "Here is one of the images we will convert into striplogs:\n",
    "\n",
    "<img src=\"M-MG-70_14.3_135.9.png\" width=50 style=\"float:left\" />"
   ]
  },
  {
   "cell_type": "code",
   "execution_count": 5,
   "metadata": {
    "collapsed": false
   },
   "outputs": [],
   "source": [
    "imgfile = \"M-MG-70_14.3_135.9.png\""
   ]
  },
  {
   "cell_type": "code",
   "execution_count": 6,
   "metadata": {
    "collapsed": false
   },
   "outputs": [
    {
     "data": {
      "text/plain": [
       "Striplog(26 Intervals, start=14.3, stop=135.9)"
      ]
     },
     "execution_count": 6,
     "metadata": {},
     "output_type": "execute_result"
    }
   ],
   "source": [
    "striplog = Striplog.from_img(imgfile, 14.3, 135.9, legend=legend)\n",
    "striplog"
   ]
  },
  {
   "cell_type": "code",
   "execution_count": 7,
   "metadata": {
    "collapsed": false
   },
   "outputs": [
    {
     "data": {
      "text/plain": [
       "Striplog(7 Intervals, start=63.88081237911025, stop=130.30216634429402)"
      ]
     },
     "execution_count": 7,
     "metadata": {},
     "output_type": "execute_result"
    }
   ],
   "source": [
    "striplog.thinnest(n=7)"
   ]
  },
  {
   "cell_type": "code",
   "execution_count": 8,
   "metadata": {
    "collapsed": false
   },
   "outputs": [
    {
     "data": {
      "image/png": "[encoded data removed]",
      "text/plain": [
       "<matplotlib.figure.Figure at 0x106d19c90>"
      ]
     },
     "metadata": {},
     "output_type": "display_data"
    }
   ],
   "source": [
    "f = striplog.thickest(n=5).plot(legend=legend)"
   ]
  },
  {
   "cell_type": "markdown",
   "metadata": {},
   "source": [
    "## Making, finding and annealing gaps"
   ]
  },
  {
   "cell_type": "markdown",
   "metadata": {},
   "source": [
    "This striplog doesn't have any gaps..."
   ]
  },
  {
   "cell_type": "code",
   "execution_count": 9,
   "metadata": {
    "collapsed": false
   },
   "outputs": [
    {
     "name": "stdout",
     "output_type": "stream",
     "text": [
      "No gaps!\n"
     ]
    }
   ],
   "source": [
    "if striplog.find_gaps():\n",
    "    print('Gaps')\n",
    "else:\n",
    "    print(\"No gaps!\")"
   ]
  },
  {
   "cell_type": "markdown",
   "metadata": {},
   "source": [
    "But we can make some by deleting indices:"
   ]
  },
  {
   "cell_type": "code",
   "execution_count": 10,
   "metadata": {
    "collapsed": false
   },
   "outputs": [
    {
     "data": {
      "text/plain": [
       "Striplog(3 Intervals, start=54.75493230174081, stop=104.28870406189556)"
      ]
     },
     "execution_count": 10,
     "metadata": {},
     "output_type": "execute_result"
    }
   ],
   "source": [
    "del striplog[[2, 7, 20]]\n",
    "striplog.find_gaps()"
   ]
  },
  {
   "cell_type": "markdown",
   "metadata": {},
   "source": [
    "We can also get a list of the indices of intervals that are followed by gaps (i.e. are directly above gaps in 'depth' order, or directly below gaps in 'elevation' order)."
   ]
  },
  {
   "cell_type": "code",
   "execution_count": 11,
   "metadata": {
    "collapsed": false
   },
   "outputs": [
    {
     "data": {
      "text/plain": [
       "[1, 5, 17]"
      ]
     },
     "execution_count": 11,
     "metadata": {},
     "output_type": "execute_result"
    }
   ],
   "source": [
    "striplog.find_gaps(index=True)"
   ]
  },
  {
   "cell_type": "code",
   "execution_count": 12,
   "metadata": {
    "collapsed": false
   },
   "outputs": [
    {
     "data": {
      "text/plain": [
       "Interval(top: 95.8213926499033, base: 96.19771760154738, description: '', components: [Component(\"lithology\":\"dolomite\")])"
      ]
     },
     "execution_count": 12,
     "metadata": {},
     "output_type": "execute_result"
    }
   ],
   "source": [
    "striplog.thinnest(1)"
   ]
  },
  {
   "cell_type": "code",
   "execution_count": 13,
   "metadata": {
    "collapsed": false
   },
   "outputs": [
    {
     "name": "stdout",
     "output_type": "stream",
     "text": [
      "15\n"
     ]
    },
    {
     "data": {
      "image/png": "[encoded data removed]",
      "text/plain": [
       "<matplotlib.figure.Figure at 0x108d43b10>"
      ]
     },
     "execution_count": 13,
     "metadata": {},
     "output_type": "execute_result"
    },
    {
     "data": {
      "image/png": "[encoded data removed]",
      "text/plain": [
       "<matplotlib.figure.Figure at 0x108d43b10>"
      ]
     },
     "metadata": {},
     "output_type": "display_data"
    }
   ],
   "source": [
    "striplog.prune(limit=1)\n",
    "print(len(striplog))\n",
    "striplog.plot(legend=legend)"
   ]
  },
  {
   "cell_type": "code",
   "execution_count": 14,
   "metadata": {
    "collapsed": false
   },
   "outputs": [
    {
     "data": {
      "image/png": "[encoded data removed]",
      "text/plain": [
       "<matplotlib.figure.Figure at 0x10b2ab790>"
      ]
     },
     "execution_count": 14,
     "metadata": {},
     "output_type": "execute_result"
    },
    {
     "data": {
      "image/png": "[encoded data removed]",
      "text/plain": [
       "<matplotlib.figure.Figure at 0x10b2ab790>"
      ]
     },
     "metadata": {},
     "output_type": "display_data"
    }
   ],
   "source": [
    "striplog.anneal()\n",
    "striplog.plot(legend=legend)"
   ]
  },
  {
   "cell_type": "code",
   "execution_count": 15,
   "metadata": {
    "collapsed": false
   },
   "outputs": [],
   "source": [
    "striplog.find_gaps()"
   ]
  },
  {
   "cell_type": "markdown",
   "metadata": {},
   "source": [
    "## Representations of a `striplog`"
   ]
  },
  {
   "cell_type": "markdown",
   "metadata": {},
   "source": [
    "There are several ways to inspect a striplog:\n",
    "\n",
    "* **`print`** prints the contents of the striplog\n",
    "* **`top`** shows us a list of the primary lithologies in the striplog, in order of cumulative thickness\n",
    "* **`plot`** makes a plot of the striplog with coloured bars"
   ]
  },
  {
   "cell_type": "code",
   "execution_count": 16,
   "metadata": {
    "collapsed": false
   },
   "outputs": [
    {
     "name": "stdout",
     "output_type": "stream",
     "text": [
      "top: 14.3, base: 51.179845261121855, description: '', components: [Component(\"lithology\":\"anhydrite\")]\n",
      "top: 51.179845261121855, base: 55.6251837524178, description: '', components: [Component(\"colour\":\"grey\", \"grainsize\":\"vf-f\", \"lithology\":\"sandstone\")]\n",
      "top: 55.6251837524178, base: 58.8004255319149, description: '', components: [Component(\"lithology\":\"dolomite\")]\n",
      "top: 58.8004255319149, base: 60.89373307543521, description: '', components: [Component(\"colour\":\"red\", \"lithology\":\"siltstone\")]\n",
      "top: 60.89373307543521, base: 63.8572920696325, description: '', components: [Component(\"colour\":\"grey\", \"grainsize\":\"vf-f\", \"lithology\":\"sandstone\")]\n"
     ]
    }
   ],
   "source": [
    "print(striplog[:5])"
   ]
  },
  {
   "cell_type": "code",
   "execution_count": 17,
   "metadata": {
    "collapsed": false
   },
   "outputs": [
    {
     "data": {
      "text/plain": [
       "[(Component(\"colour\":\"grey\", \"lithology\":\"siltstone\"), 47.017098646034825),\n",
       " (Component(\"lithology\":\"anhydrite\"), 36.87984526112186),\n",
       " (Component(\"colour\":\"grey\", \"grainsize\":\"vf-f\", \"lithology\":\"sandstone\"),\n",
       "  22.414854932301743),\n",
       " (Component(\"lithology\":\"dolomite\"), 7.244255319148941),\n",
       " (Component(\"lithology\":\"volcanic\"), 4.515899419729209),\n",
       " (Component(\"colour\":\"red\", \"lithology\":\"siltstone\"), 2.093307543520311),\n",
       " (Component(\"lithology\":\"limestone\"), 1.434738878143122)]"
      ]
     },
     "execution_count": 17,
     "metadata": {},
     "output_type": "execute_result"
    }
   ],
   "source": [
    "striplog.top"
   ]
  },
  {
   "cell_type": "markdown",
   "metadata": {},
   "source": [
    "It's easy enough to visualize this. Perhaps this should be a method..."
   ]
  },
  {
   "cell_type": "code",
   "execution_count": 18,
   "metadata": {
    "collapsed": false
   },
   "outputs": [
    {
     "data": {
      "image/png": "[encoded data removed]",
      "text/plain": [
       "<matplotlib.figure.Figure at 0x10b72f7d0>"
      ]
     },
     "execution_count": 18,
     "metadata": {},
     "output_type": "execute_result"
    },
    {
     "data": {
      "image/png": "[encoded data removed]",
      "text/plain": [
       "<matplotlib.figure.Figure at 0x10b72f7d0>"
      ]
     },
     "metadata": {},
     "output_type": "display_data"
    }
   ],
   "source": [
    "depth = 0\n",
    "list_of_int = []\n",
    "for i in striplog.top:\n",
    "    list_of_int.append(Interval(depth, depth+i[1], components=[i[0]]))\n",
    "    depth += i[1]\n",
    "t = Striplog(list_of_int)\n",
    "t.plot(legend)"
   ]
  },
  {
   "cell_type": "markdown",
   "metadata": {},
   "source": [
    "## Plot"
   ]
  },
  {
   "cell_type": "markdown",
   "metadata": {},
   "source": [
    "If you call `plot()` on a `Striplog` you'll get random colours (one per rock type in the striplog), and preset aspect ratio of 10.  "
   ]
  },
  {
   "cell_type": "code",
   "execution_count": 19,
   "metadata": {
    "collapsed": false
   },
   "outputs": [
    {
     "data": {
      "image/png": "[encoded data removed]",
      "text/plain": [
       "<matplotlib.figure.Figure at 0x10b7c9ed0>"
      ]
     },
     "execution_count": 19,
     "metadata": {},
     "output_type": "execute_result"
    },
    {
     "data": {
      "image/png": "[encoded data removed]",
      "text/plain": [
       "<matplotlib.figure.Figure at 0x10b7c9ed0>"
      ]
     },
     "metadata": {},
     "output_type": "display_data"
    }
   ],
   "source": [
    "striplog.plot()"
   ]
  },
  {
   "cell_type": "markdown",
   "metadata": {},
   "source": [
    "For more control, you can pass some parameters. You'll probably always want to pass a legend. "
   ]
  },
  {
   "cell_type": "code",
   "execution_count": 20,
   "metadata": {
    "collapsed": false
   },
   "outputs": [
    {
     "data": {
      "image/png": "[encoded data removed]",
      "text/plain": [
       "<matplotlib.figure.Figure at 0x10bb2fb90>"
      ]
     },
     "execution_count": 20,
     "metadata": {},
     "output_type": "execute_result"
    },
    {
     "data": {
      "image/png": "[encoded data removed]",
      "text/plain": [
       "<matplotlib.figure.Figure at 0x10bb2fb90>"
      ]
     },
     "metadata": {},
     "output_type": "display_data"
    }
   ],
   "source": [
    "striplog.plot(legend, ladder=True, aspect=5, interval=5)"
   ]
  },
  {
   "cell_type": "markdown",
   "metadata": {},
   "source": [
    "## Manipulating a `striplog`"
   ]
  },
  {
   "cell_type": "markdown",
   "metadata": {},
   "source": [
    "Again, the object is indexable and iterable."
   ]
  },
  {
   "cell_type": "code",
   "execution_count": 21,
   "metadata": {
    "collapsed": false
   },
   "outputs": [
    {
     "name": "stdout",
     "output_type": "stream",
     "text": [
      "top: 14.3, base: 51.179845261121855, description: '', components: [Component(\"lithology\":\"anhydrite\")]\n",
      "top: 51.179845261121855, base: 55.6251837524178, description: '', components: [Component(\"colour\":\"grey\", \"grainsize\":\"vf-f\", \"lithology\":\"sandstone\")]\n",
      "top: 55.6251837524178, base: 58.8004255319149, description: '', components: [Component(\"lithology\":\"dolomite\")]\n"
     ]
    }
   ],
   "source": [
    "print(striplog[:3])"
   ]
  },
  {
   "cell_type": "code",
   "execution_count": 22,
   "metadata": {
    "collapsed": false
   },
   "outputs": [
    {
     "name": "stdout",
     "output_type": "stream",
     "text": [
      "Volcanic\n"
     ]
    }
   ],
   "source": [
    "print(striplog[-1].primary.summary())"
   ]
  },
  {
   "cell_type": "code",
   "execution_count": 23,
   "metadata": {
    "collapsed": false
   },
   "outputs": [
    {
     "name": "stdout",
     "output_type": "stream",
     "text": [
      "36.88 m of anhydrite\n",
      "4.45 m of grey, vf-f, sandstone\n",
      "3.18 m of dolomite\n",
      "2.09 m of red, siltstone\n",
      "2.96 m of grey, vf-f, sandstone\n"
     ]
    }
   ],
   "source": [
    "for i in striplog[:5]:\n",
    "    print(i.summary())"
   ]
  },
  {
   "cell_type": "code",
   "execution_count": 24,
   "metadata": {
    "collapsed": false
   },
   "outputs": [
    {
     "data": {
      "text/plain": [
       "15"
      ]
     },
     "execution_count": 24,
     "metadata": {},
     "output_type": "execute_result"
    }
   ],
   "source": [
    "len(striplog)"
   ]
  },
  {
   "cell_type": "code",
   "execution_count": 25,
   "metadata": {
    "collapsed": false
   },
   "outputs": [
    {
     "data": {
      "text/plain": [
       "array([  63.85729207,   66.70324952,   71.3837911 ,   81.70920696,\n",
       "         85.70765957,   86.93071567,   88.67121857,  100.24321083])"
      ]
     },
     "execution_count": 25,
     "metadata": {},
     "output_type": "execute_result"
    }
   ],
   "source": [
    "import numpy as np\n",
    "np.array([d.top for d in striplog[5:13]])"
   ]
  },
  {
   "cell_type": "markdown",
   "metadata": {},
   "source": [
    "You can even index into it with an iterable, like a list of indices."
   ]
  },
  {
   "cell_type": "code",
   "execution_count": 26,
   "metadata": {
    "collapsed": false
   },
   "outputs": [
    {
     "name": "stdout",
     "output_type": "stream",
     "text": [
      "top: 55.6251837524178, base: 58.8004255319149, description: '', components: [Component(\"lithology\":\"dolomite\")]\n",
      "top: 60.89373307543521, base: 63.8572920696325, description: '', components: [Component(\"colour\":\"grey\", \"grainsize\":\"vf-f\", \"lithology\":\"sandstone\")]\n",
      "top: 66.703249516441, base: 71.38379110251451, description: '', components: [Component(\"colour\":\"grey\", \"grainsize\":\"vf-f\", \"lithology\":\"sandstone\")]\n"
     ]
    }
   ],
   "source": [
    "indices = [2,4,6]\n",
    "print(striplog[indices])"
   ]
  },
  {
   "cell_type": "markdown",
   "metadata": {},
   "source": [
    "## Querying the striplog"
   ]
  },
  {
   "cell_type": "markdown",
   "metadata": {},
   "source": [
    "This results in a new Striplog, contianing only the intervals requested."
   ]
  },
  {
   "cell_type": "code",
   "execution_count": 27,
   "metadata": {
    "collapsed": false
   },
   "outputs": [
    {
     "data": {
      "text/plain": [
       "Striplog(4 Intervals, start=51.179845261121855, stop=81.70920696324951)"
      ]
     },
     "execution_count": 27,
     "metadata": {},
     "output_type": "execute_result"
    }
   ],
   "source": [
    "striplog.find('sandstone')"
   ]
  },
  {
   "cell_type": "code",
   "execution_count": 28,
   "metadata": {
    "collapsed": false
   },
   "outputs": [
    {
     "data": {
      "text/plain": [
       "[(Component(\"colour\":\"grey\", \"grainsize\":\"vf-f\", \"lithology\":\"sandstone\"),\n",
       "  22.414854932301743)]"
      ]
     },
     "execution_count": 28,
     "metadata": {},
     "output_type": "execute_result"
    }
   ],
   "source": [
    "striplog.find('sandstone').top"
   ]
  },
  {
   "cell_type": "code",
   "execution_count": 29,
   "metadata": {
    "collapsed": false
   },
   "outputs": [
    {
     "data": {
      "text/plain": [
       "22.414854932301743"
      ]
     },
     "execution_count": 29,
     "metadata": {},
     "output_type": "execute_result"
    }
   ],
   "source": [
    "striplog.find('sandstone').cum"
   ]
  },
  {
   "cell_type": "code",
   "execution_count": 30,
   "metadata": {
    "collapsed": false
   },
   "outputs": [
    {
     "name": "stdout",
     "output_type": "stream",
     "text": [
      "top: 51.179845261121855, base: 55.6251837524178, description: '', components: [Component(\"colour\":\"grey\", \"grainsize\":\"vf-f\", \"lithology\":\"sandstone\")]\n",
      "top: 60.89373307543521, base: 63.8572920696325, description: '', components: [Component(\"colour\":\"grey\", \"grainsize\":\"vf-f\", \"lithology\":\"sandstone\")]\n",
      "top: 66.703249516441, base: 71.38379110251451, description: '', components: [Component(\"colour\":\"grey\", \"grainsize\":\"vf-f\", \"lithology\":\"sandstone\")]\n",
      "top: 71.38379110251451, base: 81.70920696324951, description: '', components: [Component(\"colour\":\"grey\", \"grainsize\":\"vf-f\", \"lithology\":\"sandstone\")]\n"
     ]
    }
   ],
   "source": [
    "print(striplog.find('sandstone'))"
   ]
  },
  {
   "cell_type": "code",
   "execution_count": 31,
   "metadata": {
    "collapsed": false
   },
   "outputs": [
    {
     "data": {
      "image/png": "[encoded data removed]",
      "text/plain": [
       "<matplotlib.figure.Figure at 0x10c0b87d0>"
      ]
     },
     "execution_count": 31,
     "metadata": {},
     "output_type": "execute_result"
    },
    {
     "data": {
      "image/png": "[encoded data removed]",
      "text/plain": [
       "<matplotlib.figure.Figure at 0x10c0b87d0>"
      ]
     },
     "metadata": {},
     "output_type": "display_data"
    }
   ],
   "source": [
    "striplog.find('sandstone').plot()"
   ]
  },
  {
   "cell_type": "markdown",
   "metadata": {},
   "source": [
    "Let's ask for the rock we just found by seaching."
   ]
  },
  {
   "cell_type": "code",
   "execution_count": 32,
   "metadata": {
    "collapsed": false
   },
   "outputs": [
    {
     "data": {
      "text/html": [
       "<table><tr><td><strong>colour</strong></td><td>grey</td></tr><tr><td><strong>grainsize</strong></td><td>vf-f</td></tr><tr><td><strong>lithology</strong></td><td>sandstone</td></tr></table>"
      ],
      "text/plain": [
       "Component(\"colour\":\"grey\", \"grainsize\":\"vf-f\", \"lithology\":\"sandstone\")"
      ]
     },
     "execution_count": 32,
     "metadata": {},
     "output_type": "execute_result"
    }
   ],
   "source": [
    "rock = striplog.find('sandstone')[1].components[0]\n",
    "rock"
   ]
  },
  {
   "cell_type": "markdown",
   "metadata": {},
   "source": [
    "We can also search for a rock..."
   ]
  },
  {
   "cell_type": "code",
   "execution_count": 33,
   "metadata": {
    "collapsed": false
   },
   "outputs": [
    {
     "data": {
      "image/png": "[encoded data removed]",
      "text/plain": [
       "<matplotlib.figure.Figure at 0x10bb02910>"
      ]
     },
     "execution_count": 33,
     "metadata": {},
     "output_type": "execute_result"
    },
    {
     "data": {
      "image/png": "[encoded data removed]",
      "text/plain": [
       "<matplotlib.figure.Figure at 0x10bb02910>"
      ]
     },
     "metadata": {},
     "output_type": "display_data"
    }
   ],
   "source": [
    "striplog.find(rock).plot(legend)"
   ]
  },
  {
   "cell_type": "code",
   "execution_count": 34,
   "metadata": {
    "collapsed": false
   },
   "outputs": [
    {
     "data": {
      "text/plain": [
       "True"
      ]
     },
     "execution_count": 34,
     "metadata": {},
     "output_type": "execute_result"
    }
   ],
   "source": [
    "rock in striplog"
   ]
  },
  {
   "cell_type": "markdown",
   "metadata": {},
   "source": [
    "And we can ask what is at a particular depth."
   ]
  },
  {
   "cell_type": "code",
   "execution_count": 35,
   "metadata": {
    "collapsed": false
   },
   "outputs": [
    {
     "data": {
      "text/html": [
       "<table><tr><td><strong>colour</strong></td><td>grey</td></tr><tr><td><strong>lithology</strong></td><td>siltstone</td></tr></table>"
      ],
      "text/plain": [
       "Component(\"colour\":\"grey\", \"lithology\":\"siltstone\")"
      ]
     },
     "execution_count": 35,
     "metadata": {},
     "output_type": "execute_result"
    }
   ],
   "source": [
    "striplog.depth(90).primary"
   ]
  },
  {
   "cell_type": "markdown",
   "metadata": {},
   "source": [
    "## Slicing and indexing"
   ]
  },
  {
   "cell_type": "code",
   "execution_count": 36,
   "metadata": {
    "collapsed": false
   },
   "outputs": [
    {
     "name": "stdout",
     "output_type": "stream",
     "text": [
      "top: 14.3, base: 51.179845261121855, description: '', components: [Component(\"lithology\":\"anhydrite\")]\n",
      "top: 51.179845261121855, base: 55.6251837524178, description: '', components: [Component(\"colour\":\"grey\", \"grainsize\":\"vf-f\", \"lithology\":\"sandstone\")]\n",
      "top: 55.6251837524178, base: 58.8004255319149, description: '', components: [Component(\"lithology\":\"dolomite\")]\n",
      "top: 58.8004255319149, base: 60.89373307543521, description: '', components: [Component(\"colour\":\"red\", \"lithology\":\"siltstone\")]\n",
      "top: 60.89373307543521, base: 63.8572920696325, description: '', components: [Component(\"colour\":\"grey\", \"grainsize\":\"vf-f\", \"lithology\":\"sandstone\")]\n"
     ]
    }
   ],
   "source": [
    "for r in reversed(striplog[:5]):\n",
    "    print(r)"
   ]
  },
  {
   "cell_type": "markdown",
   "metadata": {},
   "source": [
    "Slicing returns a new `striplog`:"
   ]
  },
  {
   "cell_type": "code",
   "execution_count": 37,
   "metadata": {
    "collapsed": false
   },
   "outputs": [
    {
     "data": {
      "text/plain": [
       "Striplog(2 Intervals, start=51.179845261121855, stop=58.8004255319149)"
      ]
     },
     "execution_count": 37,
     "metadata": {},
     "output_type": "execute_result"
    }
   ],
   "source": [
    "striplog[1:3]"
   ]
  },
  {
   "cell_type": "code",
   "execution_count": 38,
   "metadata": {
    "collapsed": false
   },
   "outputs": [],
   "source": [
    "rock2 = Component({'lithology':'shale', 'colour':'grey'})\n",
    "iv = Interval(top=300, base=350, description='', components=[rock, rock2])"
   ]
  },
  {
   "cell_type": "code",
   "execution_count": 39,
   "metadata": {
    "collapsed": false
   },
   "outputs": [
    {
     "data": {
      "text/plain": [
       "Striplog(3 Intervals, start=100.24321083172148, stop=350.0)"
      ]
     },
     "execution_count": 39,
     "metadata": {},
     "output_type": "execute_result"
    }
   ],
   "source": [
    "striplog[-3:-1] + Striplog([iv])"
   ]
  },
  {
   "cell_type": "markdown",
   "metadata": {},
   "source": [
    "## Read or write CSV or LAS3"
   ]
  },
  {
   "cell_type": "code",
   "execution_count": 40,
   "metadata": {
    "collapsed": false
   },
   "outputs": [
    {
     "name": "stdout",
     "output_type": "stream",
     "text": [
      "~Lithology_Parameter\n",
      "LITH .   Striplog         : Lithology source          {S}\n",
      "LITHD.   MD               : Lithology depth reference {S}\n",
      "\n",
      "~Lithology_Definition\n",
      "LITHT.M                   : Lithology top depth       {F}\n",
      "LITHB.M                   : Lithology base depth      {F}\n",
      "LITHD.                    : Lithology description     {S}\n",
      "\n",
      "~Lithology_Data | Lithology_Definition\n",
      "   14.300,   51.180,  \"Anhydrite\"                                     \n",
      "   51.180,   55.625,  \"Grey, vf-f, sandstone\"                         \n",
      "   55.625,   58.800,  \"Dolomite\"                                      \n",
      "   58.800,   60.894,  \"Red, siltstone\"                                \n",
      "   60.894,   63.857,  \"Grey, vf-f, sandstone\"                         \n",
      "   63.857,   66.703,  \"Dolomite\"                                      \n",
      "   66.703,   71.384,  \"Grey, vf-f, sandstone\"                         \n",
      "   71.384,   81.709,  \"Grey, vf-f, sandstone\"                         \n",
      "   81.709,   85.708,  \"Grey, siltstone\"                               \n",
      "   85.708,   86.931,  \"Dolomite\"                                      \n",
      "   86.931,   88.671,  \"Grey, siltstone\"                               \n",
      "   88.671,  100.243,  \"Grey, siltstone\"                               \n",
      "  100.243,  129.949,  \"Grey, siltstone\"                               \n",
      "  129.949,  131.384,  \"Limestone\"                                     \n",
      "  131.384,  135.900,  \"Volcanic\"                                      \n",
      "\n"
     ]
    }
   ],
   "source": [
    "print(striplog.to_las3())"
   ]
  },
  {
   "cell_type": "code",
   "execution_count": 41,
   "metadata": {
    "collapsed": false
   },
   "outputs": [
    {
     "data": {
      "text/plain": [
       "'Image'"
      ]
     },
     "execution_count": 41,
     "metadata": {},
     "output_type": "execute_result"
    }
   ],
   "source": [
    "striplog.source"
   ]
  },
  {
   "cell_type": "code",
   "execution_count": 42,
   "metadata": {
    "collapsed": false
   },
   "outputs": [],
   "source": [
    "csv_string = \"\"\"  200.000,  230.329,  Anhydrite                                       \n",
    "  230.329,  233.269,  Grey vf-f sandstone                             \n",
    "  233.269,  234.700,  Anhydrite                                       \n",
    "  234.700,  236.596,  Dolomite                                        \n",
    "  236.596,  237.911,  Red siltstone                                   \n",
    "  237.911,  238.723,  Anhydrite                                       \n",
    "  238.723,  239.807,  Grey vf-f sandstone                             \n",
    "  239.807,  240.774,  Red siltstone                                   \n",
    "  240.774,  241.122,  Dolomite                                        \n",
    "  241.122,  241.702,  Grey siltstone                                  \n",
    "  241.702,  243.095,  Dolomite                                        \n",
    "  243.095,  246.654,  Grey vf-f sandstone                             \n",
    "  246.654,  247.234,  Dolomite                                        \n",
    "  247.234,  255.435,  Grey vf-f sandstone                             \n",
    "  255.435,  258.723,  Grey siltstone                                  \n",
    "  258.723,  259.729,  Dolomite                                        \n",
    "  259.729,  260.967,  Grey siltstone                                  \n",
    "  260.967,  261.354,  Dolomite                                        \n",
    "  261.354,  267.041,  Grey siltstone                                  \n",
    "  267.041,  267.350,  Dolomite                                        \n",
    "  267.350,  274.004,  Grey siltstone                                  \n",
    "  274.004,  274.313,  Dolomite                                        \n",
    "  274.313,  294.816,  Grey siltstone                                  \n",
    "  294.816,  295.397,  Dolomite                                        \n",
    "  295.397,  296.286,  Limestone                                       \n",
    "  296.286,  300.000,  Volcanic                                        \n",
    "\"\"\""
   ]
  },
  {
   "cell_type": "code",
   "execution_count": 43,
   "metadata": {
    "collapsed": false
   },
   "outputs": [
    {
     "data": {
      "text/plain": [
       "Striplog(26 Intervals, start=200.0, stop=300.0)"
      ]
     },
     "execution_count": 43,
     "metadata": {},
     "output_type": "execute_result"
    }
   ],
   "source": [
    "strip2 = Striplog.from_csv(csv_string, lexicon=lexicon)\n",
    "strip2"
   ]
  },
  {
   "cell_type": "code",
   "execution_count": 44,
   "metadata": {
    "collapsed": false
   },
   "outputs": [],
   "source": [
    "las3 = \"\"\"~Lithology_Parameter\n",
    "LITH .                    : Lithology source          {S}\n",
    "LITHD.   MD               : Lithology depth reference {S}\n",
    "\n",
    "~Lithology_Definition\n",
    "LITHT.M                   : Lithology top depth       {F}\n",
    "LITHB.M                   : Lithology base depth      {F}\n",
    "LITHN.                    : Lithology name            {S}\n",
    "\n",
    "~Lithology_Data | Lithology_Definition\n",
    "  200.000,  230.329,  Anhydrite                                       \n",
    "  230.329,  233.269,  Grey vf-f sandstone                             \n",
    "  233.269,  234.700,  Anhydrite                                       \n",
    "  234.700,  236.596,  Dolomite                                        \n",
    "  236.596,  237.911,  Red siltstone                                   \n",
    "  237.911,  238.723,  Anhydrite                                       \n",
    "  238.723,  239.807,  Grey vf-f sandstone                             \n",
    "  239.807,  240.774,  Red siltstone                                   \n",
    "  240.774,  241.122,  Dolomite                                        \n",
    "  241.122,  241.702,  Grey siltstone                                  \n",
    "  241.702,  243.095,  Dolomite                                        \n",
    "  243.095,  246.654,  Grey vf-f sandstone                             \n",
    "  246.654,  247.234,  Dolomite                                        \n",
    "  247.234,  255.435,  Grey vf-f sandstone                             \n",
    "  255.435,  258.723,  Grey siltstone                                  \n",
    "  258.723,  259.729,  Dolomite                                        \n",
    "  259.729,  260.967,  Grey siltstone                                  \n",
    "  260.967,  261.354,  Dolomite                                        \n",
    "  261.354,  267.041,  Grey siltstone                                  \n",
    "  267.041,  267.350,  Dolomite                                        \n",
    "  267.350,  274.004,  Grey siltstone                                  \n",
    "  274.004,  274.313,  Dolomite                                        \n",
    "  274.313,  294.816,  Grey siltstone                                  \n",
    "  294.816,  295.397,  Dolomite                                        \n",
    "  295.397,  296.286,  Limestone                                       \n",
    "  296.286,  300.000,  Volcanic                                        \n",
    "\"\"\""
   ]
  },
  {
   "cell_type": "code",
   "execution_count": 45,
   "metadata": {
    "collapsed": false
   },
   "outputs": [
    {
     "data": {
      "text/plain": [
       "Striplog(26 Intervals, start=200.0, stop=300.0)"
      ]
     },
     "execution_count": 45,
     "metadata": {},
     "output_type": "execute_result"
    }
   ],
   "source": [
    "strip3 = Striplog.from_las3(las3, lexicon)\n",
    "strip3"
   ]
  },
  {
   "cell_type": "code",
   "execution_count": 46,
   "metadata": {
    "collapsed": false
   },
   "outputs": [
    {
     "data": {
      "text/plain": [
       "[(Component(\"colour\":\"grey\", \"lithology\":\"siltstone\"), 37.94999999999999),\n",
       " (Component(\"lithology\":\"anhydrite\"), 32.572),\n",
       " (Component(\"colour\":\"grey\", \"grainsize\":\"vf-f\", \"lithology\":\"sandstone\"),\n",
       "  15.783999999999963),\n",
       " (Component(\"lithology\":\"dolomite\"), 6.809000000000026),\n",
       " (Component(), 3.7139999999999986),\n",
       " (Component(\"colour\":\"red\", \"lithology\":\"siltstone\"), 2.2820000000000107),\n",
       " (Component(\"lithology\":\"limestone\"), 0.88900000000001)]"
      ]
     },
     "execution_count": 46,
     "metadata": {},
     "output_type": "execute_result"
    }
   ],
   "source": [
    "strip3.top"
   ]
  },
  {
   "cell_type": "markdown",
   "metadata": {},
   "source": [
    "## Handling tops"
   ]
  },
  {
   "cell_type": "markdown",
   "metadata": {},
   "source": [
    "I recommend treating tops as intervals, not as point data."
   ]
  },
  {
   "cell_type": "code",
   "execution_count": 47,
   "metadata": {
    "collapsed": false
   },
   "outputs": [],
   "source": [
    "tops_csv = \"\"\"100, Escanilla Fm.\n",
    "200, Sobrarbe Fm. \n",
    "350, San Vicente Fm.\n",
    "500, Cretaceous\n",
    "\"\"\""
   ]
  },
  {
   "cell_type": "code",
   "execution_count": 48,
   "metadata": {
    "collapsed": false
   },
   "outputs": [
    {
     "name": "stderr",
     "output_type": "stream",
     "text": [
      "/Users/matt/anaconda/envs/striplog3/lib/python3.3/site-packages/striplog/interval.py:74: UserWarning: You must provide a lexicon to generate components from descriptions.\n",
      "  warnings.warn(w)\n",
      "/Users/matt/anaconda/envs/striplog3/lib/python3.3/site-packages/striplog/interval.py:74: UserWarning: You must provide a lexicon to generate components from descriptions.\n",
      "  warnings.warn(w)\n",
      "/Users/matt/anaconda/envs/striplog3/lib/python3.3/site-packages/striplog/interval.py:74: UserWarning: You must provide a lexicon to generate components from descriptions.\n",
      "  warnings.warn(w)\n",
      "/Users/matt/anaconda/envs/striplog3/lib/python3.3/site-packages/striplog/interval.py:74: UserWarning: You must provide a lexicon to generate components from descriptions.\n",
      "  warnings.warn(w)\n"
     ]
    }
   ],
   "source": [
    "tops = Striplog.from_csv(tops_csv)"
   ]
  },
  {
   "cell_type": "code",
   "execution_count": 49,
   "metadata": {
    "collapsed": false
   },
   "outputs": [
    {
     "name": "stdout",
     "output_type": "stream",
     "text": [
      "top: 100.0, base: 200.0, description: 'Escanilla Fm.', components: []\n",
      "top: 200.0, base: 350.0, description: 'Sobrarbe Fm.', components: []\n",
      "top: 350.0, base: 500.0, description: 'San Vicente Fm.', components: []\n",
      "top: 500.0, base: 501.0, description: 'Cretaceous', components: []\n"
     ]
    }
   ],
   "source": [
    "print(tops)"
   ]
  },
  {
   "cell_type": "code",
   "execution_count": 50,
   "metadata": {
    "collapsed": false
   },
   "outputs": [
    {
     "data": {
      "text/plain": [
       "Interval(top: 200.0, base: 350.0, description: 'Sobrarbe Fm.', components: [])"
      ]
     },
     "execution_count": 50,
     "metadata": {},
     "output_type": "execute_result"
    }
   ],
   "source": [
    "tops.depth(254.0)"
   ]
  },
  {
   "cell_type": "markdown",
   "metadata": {},
   "source": [
    "## Handling point data"
   ]
  },
  {
   "cell_type": "markdown",
   "metadata": {},
   "source": [
    "Some things really are point data."
   ]
  },
  {
   "cell_type": "code",
   "execution_count": 51,
   "metadata": {
    "collapsed": false
   },
   "outputs": [],
   "source": [
    "data_csv = \"\"\"1200, 6.4\n",
    "1205, 7.3\n",
    "1210, 8.2\n",
    "1250, 9.2\n",
    "1275, 4.3\n",
    "1300, 2.2\n",
    "\"\"\""
   ]
  },
  {
   "cell_type": "code",
   "execution_count": 52,
   "metadata": {
    "collapsed": false
   },
   "outputs": [
    {
     "name": "stderr",
     "output_type": "stream",
     "text": [
      "/Users/matt/anaconda/envs/striplog3/lib/python3.3/site-packages/striplog/interval.py:74: UserWarning: You must provide a lexicon to generate components from descriptions.\n",
      "  warnings.warn(w)\n",
      "/Users/matt/anaconda/envs/striplog3/lib/python3.3/site-packages/striplog/interval.py:74: UserWarning: You must provide a lexicon to generate components from descriptions.\n",
      "  warnings.warn(w)\n",
      "/Users/matt/anaconda/envs/striplog3/lib/python3.3/site-packages/striplog/interval.py:74: UserWarning: You must provide a lexicon to generate components from descriptions.\n",
      "  warnings.warn(w)\n",
      "/Users/matt/anaconda/envs/striplog3/lib/python3.3/site-packages/striplog/interval.py:74: UserWarning: You must provide a lexicon to generate components from descriptions.\n",
      "  warnings.warn(w)\n",
      "/Users/matt/anaconda/envs/striplog3/lib/python3.3/site-packages/striplog/interval.py:74: UserWarning: You must provide a lexicon to generate components from descriptions.\n",
      "  warnings.warn(w)\n",
      "/Users/matt/anaconda/envs/striplog3/lib/python3.3/site-packages/striplog/interval.py:74: UserWarning: You must provide a lexicon to generate components from descriptions.\n",
      "  warnings.warn(w)\n"
     ]
    },
    {
     "ename": "StriplogError",
     "evalue": "Could not determine order from tops and bases.",
     "output_type": "error",
     "traceback": [
      "\u001b[0;31m---------------------------------------------------------------------------\u001b[0m",
      "\u001b[0;31mStriplogError\u001b[0m                             Traceback (most recent call last)",
      "\u001b[0;32m<ipython-input-52-d19e62c492f6>\u001b[0m in \u001b[0;36m<module>\u001b[0;34m()\u001b[0m\n\u001b[0;32m----> 1\u001b[0;31m \u001b[0mdata\u001b[0m \u001b[0;34m=\u001b[0m \u001b[0mStriplog\u001b[0m\u001b[0;34m.\u001b[0m\u001b[0mfrom_csv\u001b[0m\u001b[0;34m(\u001b[0m\u001b[0mdata_csv\u001b[0m\u001b[0;34m,\u001b[0m \u001b[0mpoints\u001b[0m\u001b[0;34m=\u001b[0m\u001b[0;32mTrue\u001b[0m\u001b[0;34m)\u001b[0m\u001b[0;34m\u001b[0m\u001b[0m\n\u001b[0m",
      "\u001b[0;32m/Users/matt/anaconda/envs/striplog3/lib/python3.3/site-packages/striplog/striplog.py\u001b[0m in \u001b[0;36mfrom_csv\u001b[0;34m(cls, text, lexicon, source, dlm, points, abbreviations, complete)\u001b[0m\n\u001b[1;32m    348\u001b[0m             \u001b[0mlist_of_Intervals\u001b[0m\u001b[0;34m.\u001b[0m\u001b[0mappend\u001b[0m\u001b[0;34m(\u001b[0m\u001b[0minterval\u001b[0m\u001b[0;34m)\u001b[0m\u001b[0;34m\u001b[0m\u001b[0m\n\u001b[1;32m    349\u001b[0m \u001b[0;34m\u001b[0m\u001b[0m\n\u001b[0;32m--> 350\u001b[0;31m         \u001b[0;32mreturn\u001b[0m \u001b[0mcls\u001b[0m\u001b[0;34m(\u001b[0m\u001b[0mlist_of_Intervals\u001b[0m\u001b[0;34m,\u001b[0m \u001b[0msource\u001b[0m\u001b[0;34m=\u001b[0m\u001b[0msource\u001b[0m\u001b[0;34m)\u001b[0m\u001b[0;34m\u001b[0m\u001b[0m\n\u001b[0m\u001b[1;32m    351\u001b[0m \u001b[0;34m\u001b[0m\u001b[0m\n\u001b[1;32m    352\u001b[0m     \u001b[0;34m@\u001b[0m\u001b[0mclassmethod\u001b[0m\u001b[0;34m\u001b[0m\u001b[0m\n",
      "\u001b[0;32m/Users/matt/anaconda/envs/striplog3/lib/python3.3/site-packages/striplog/striplog.py\u001b[0m in \u001b[0;36m__init__\u001b[0;34m(self, list_of_Intervals, source, order)\u001b[0m\n\u001b[1;32m     56\u001b[0m             \u001b[0;32melse\u001b[0m\u001b[0;34m:\u001b[0m\u001b[0;34m\u001b[0m\u001b[0m\n\u001b[1;32m     57\u001b[0m                 \u001b[0mm\u001b[0m \u001b[0;34m=\u001b[0m \u001b[0;34m\"Could not determine order from tops and bases.\"\u001b[0m\u001b[0;34m\u001b[0m\u001b[0m\n\u001b[0;32m---> 58\u001b[0;31m                 \u001b[0;32mraise\u001b[0m \u001b[0mStriplogError\u001b[0m\u001b[0;34m(\u001b[0m\u001b[0mm\u001b[0m\u001b[0;34m)\u001b[0m\u001b[0;34m\u001b[0m\u001b[0m\n\u001b[0m\u001b[1;32m     59\u001b[0m \u001b[0;34m\u001b[0m\u001b[0m\n\u001b[1;32m     60\u001b[0m         \u001b[0;31m# Could tidy this up with a base class and inheritance;\u001b[0m\u001b[0;34m\u001b[0m\u001b[0;34m\u001b[0m\u001b[0m\n",
      "\u001b[0;31mStriplogError\u001b[0m: Could not determine order from tops and bases."
     ]
    }
   ],
   "source": [
    "data = Striplog.from_csv(data_csv, points=True)"
   ]
  },
  {
   "cell_type": "code",
   "execution_count": null,
   "metadata": {
    "collapsed": false
   },
   "outputs": [],
   "source": [
    "print(data)"
   ]
  },
  {
   "cell_type": "markdown",
   "metadata": {},
   "source": [
    "One day, when we have a use case, we can do something nice with this, like treat it as numerical data, and make a plot for it. We need an elegant way to get that number into a 'rock', like {'x': 6.4}, etc. "
   ]
  },
  {
   "cell_type": "markdown",
   "metadata": {},
   "source": [
    "## Hacking histogram"
   ]
  },
  {
   "cell_type": "code",
   "execution_count": 53,
   "metadata": {
    "collapsed": false
   },
   "outputs": [],
   "source": [
    "import numpy as np\n",
    "from matplotlib import pyplot as plt\n",
    "import seaborn; seaborn.set()"
   ]
  },
  {
   "cell_type": "code",
   "execution_count": 54,
   "metadata": {
    "collapsed": false
   },
   "outputs": [],
   "source": [
    "striplog = striplog.from_las3(las3, lexicon=lexicon)"
   ]
  },
  {
   "cell_type": "code",
   "execution_count": 55,
   "metadata": {
    "collapsed": false
   },
   "outputs": [
    {
     "data": {
      "text/plain": [
       "(37, 33, 15, 9, 3, 2, 1)"
      ]
     },
     "execution_count": 55,
     "metadata": {},
     "output_type": "execute_result"
    }
   ],
   "source": [
    "comps, counts = striplog.histogram()\n",
    "counts"
   ]
  },
  {
   "cell_type": "code",
   "execution_count": 56,
   "metadata": {
    "collapsed": false
   },
   "outputs": [
    {
     "data": {
      "image/png": "[encoded data removed]",
      "text/plain": [
       "<matplotlib.figure.Figure at 0x10e7de3d0>"
      ]
     },
     "metadata": {},
     "output_type": "display_data"
    }
   ],
   "source": [
    "fmt = '{colour}\\n{lithology}\\n{grainsize}'\n",
    "labels = [c.summary(fmt=fmt) for c in comps]\n",
    "colours = [legend.get_colour(c) for c in comps]\n",
    "\n",
    "fig, ax = plt.subplots()\n",
    "ind = np.arange(len(comps))\n",
    "bars = ax.bar(ind, counts, align='center')\n",
    "ax.set_xticks(ind)\n",
    "ax.set_xticklabels(labels)\n",
    "for b, c in zip(bars, colours):\n",
    "    b.set_color(c)\n",
    "plt.show()"
   ]
  },
  {
   "cell_type": "markdown",
   "metadata": {},
   "source": [
    "<hr />\n",
    "\n",
    "<p style=\"color:gray\">©2015 Agile Geoscience. Licensed CC-BY. <a href=\"https://github.com/agile-geoscience/striplog\">striplog.py</a></p>"
   ]
  }
 ],
 "metadata": {
  "kernelspec": {
   "display_name": "Python 3",
   "language": "python",
   "name": "python3"
  },
  "language_info": {
   "codemirror_mode": {
    "name": "ipython",
    "version": 3
   },
   "file_extension": ".py",
   "mimetype": "text/x-python",
   "name": "python",
   "nbconvert_exporter": "python",
   "pygments_lexer": "ipython3",
   "version": "3.3.5"
  }
 },
 "nbformat": 4,
 "nbformat_minor": 0
}
