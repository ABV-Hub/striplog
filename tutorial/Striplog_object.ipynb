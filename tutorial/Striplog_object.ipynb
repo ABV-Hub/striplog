{
 "cells": [
  {
   "cell_type": "markdown",
   "metadata": {},
   "source": [
    "# Striplog objects"
   ]
  },
  {
   "cell_type": "markdown",
   "metadata": {},
   "source": [
    "This notebooks looks at the main `striplog` object. For the basic objects it depends on, see [Basic objects](./Basic_objects.ipynb).\n",
    "\n",
    "First, import anything we might need."
   ]
  },
  {
   "cell_type": "code",
   "execution_count": 1,
   "metadata": {
    "collapsed": false
   },
   "outputs": [],
   "source": [
    "%matplotlib inline"
   ]
  },
  {
   "cell_type": "code",
   "execution_count": 2,
   "metadata": {
    "collapsed": false
   },
   "outputs": [],
   "source": [
    "from striplog import Legend, Lexicon, Interval, Component"
   ]
  },
  {
   "cell_type": "code",
   "execution_count": 3,
   "metadata": {
    "collapsed": false
   },
   "outputs": [],
   "source": [
    "legend = Legend.default()\n",
    "lexicon = Lexicon.default()"
   ]
  },
  {
   "cell_type": "markdown",
   "metadata": {},
   "source": [
    "## Making a `striplog`"
   ]
  },
  {
   "cell_type": "code",
   "execution_count": 4,
   "metadata": {
    "collapsed": false
   },
   "outputs": [
    {
     "name": "stdout",
     "output_type": "stream",
     "text": [
      "\n",
      "    A Striplog is a sequence of intervals.\n",
      "\n",
      "    We will build them from LAS files or CSVs.\n",
      "\n",
      "    Args:\n",
      "        list_of_Intervals (list): A list of Interval objects.\n",
      "        source (str): A source for the data. Default None.\n",
      "    \n"
     ]
    }
   ],
   "source": [
    "from striplog import Striplog\n",
    "print(Striplog.__doc__)"
   ]
  },
  {
   "cell_type": "markdown",
   "metadata": {},
   "source": [
    "Here is one of the images we will convert into striplogs:\n",
    "\n",
    "<img src=\"M-MG-70_14.3_135.9.png\" width=50 style=\"float:left\" />"
   ]
  },
  {
   "cell_type": "code",
   "execution_count": 5,
   "metadata": {
    "collapsed": false
   },
   "outputs": [],
   "source": [
    "imgfile = \"M-MG-70_14.3_135.9.png\""
   ]
  },
  {
   "cell_type": "code",
   "execution_count": 6,
   "metadata": {
    "collapsed": false
   },
   "outputs": [
    {
     "data": {
      "text/plain": [
       "Striplog(26 Intervals, start=200.0, stop=300.0)"
      ]
     },
     "execution_count": 6,
     "metadata": {},
     "output_type": "execute_result"
    }
   ],
   "source": [
    "striplog = Striplog.from_img(imgfile, 200, 300, legend=legend)\n",
    "striplog"
   ]
  },
  {
   "cell_type": "markdown",
   "metadata": {},
   "source": [
    "## Representations of a `striplog`"
   ]
  },
  {
   "cell_type": "markdown",
   "metadata": {},
   "source": [
    "There are several ways to inspect a striplog:\n",
    "\n",
    "* **`print`** prints the contents of the striplog\n",
    "* **`top`** shows us a list of the primary lithologies in the striplog, in order of cumulative thickness\n",
    "* **`plot`** makes a plot of the striplog with coloured bars"
   ]
  },
  {
   "cell_type": "code",
   "execution_count": 7,
   "metadata": {
    "collapsed": false
   },
   "outputs": [
    {
     "name": "stdout",
     "output_type": "stream",
     "text": [
      "top: 200.0, base: 230.32882011605415, description: '', components: [Component(\"lithology\":\"anhydrite\")]\n",
      "top: 230.32882011605415, base: 233.2688588007737, description: '', components: [Component(\"lithology\":\"sandstone\", \"grainsize\":\"vf-f\", \"colour\":\"grey\")]\n",
      "top: 233.2688588007737, base: 234.70019342359768, description: '', components: [Component(\"lithology\":\"anhydrite\")]\n",
      "top: 234.70019342359768, base: 236.59574468085106, description: '', components: [Component(\"lithology\":\"dolomite\")]\n",
      "top: 236.59574468085106, base: 237.9110251450677, description: '', components: [Component(\"lithology\":\"siltstone\", \"colour\":\"red\")]\n"
     ]
    }
   ],
   "source": [
    "print(striplog[:5])"
   ]
  },
  {
   "cell_type": "code",
   "execution_count": 8,
   "metadata": {
    "collapsed": false
   },
   "outputs": [
    {
     "data": {
      "text/plain": [
       "[(Component(\"lithology\":\"siltstone\", \"colour\":\"grey\"), 37.94970986460356),\n",
       " (Component(\"lithology\":\"anhydrite\"), 32.5725338491296),\n",
       " (Component(\"lithology\":\"sandstone\", \"grainsize\":\"vf-f\", \"colour\":\"grey\"),\n",
       "  15.783365570599585),\n",
       " (Component(\"lithology\":\"dolomite\"), 6.808510638297804),\n",
       " (Component(\"lithology\":\"volcanic\"), 3.7137330754351865),\n",
       " (Component(\"lithology\":\"siltstone\", \"colour\":\"red\"), 2.2823984526112326),\n",
       " (Component(\"lithology\":\"limestone\"), 0.8897485493230306)]"
      ]
     },
     "execution_count": 8,
     "metadata": {},
     "output_type": "execute_result"
    }
   ],
   "source": [
    "striplog.top"
   ]
  },
  {
   "cell_type": "markdown",
   "metadata": {},
   "source": [
    "It's easy enough to visualize this. Perhaps this should be a method..."
   ]
  },
  {
   "cell_type": "code",
   "execution_count": 9,
   "metadata": {
    "collapsed": false
   },
   "outputs": [
    {
     "data": {
      "image/png": "[encoded data removed]",
      "text/plain": [
       "<matplotlib.figure.Figure at 0x10856e090>"
      ]
     },
     "metadata": {},
     "output_type": "display_data"
    }
   ],
   "source": [
    "depth = 0\n",
    "list_of_int = []\n",
    "for i in striplog.top:\n",
    "    list_of_int.append(Interval(depth, depth+i[1], components=[i[0]]))\n",
    "    depth += i[1]\n",
    "t = Striplog(list_of_int)\n",
    "t.plot(legend)"
   ]
  },
  {
   "cell_type": "markdown",
   "metadata": {},
   "source": [
    "## Plot"
   ]
  },
  {
   "cell_type": "markdown",
   "metadata": {},
   "source": [
    "If you call `plot()` on a `Striplog` you'll get random colours (one per rock type in the striplog), and preset aspect ratio of 10.  "
   ]
  },
  {
   "cell_type": "code",
   "execution_count": 10,
   "metadata": {
    "collapsed": false
   },
   "outputs": [
    {
     "data": {
      "image/png": "[encoded data removed]",
      "text/plain": [
       "<matplotlib.figure.Figure at 0x10858cdd0>"
      ]
     },
     "metadata": {},
     "output_type": "display_data"
    }
   ],
   "source": [
    "striplog.plot()"
   ]
  },
  {
   "cell_type": "markdown",
   "metadata": {},
   "source": [
    "For more control, you can pass some parameters. You'll probably always want to pass a legend. "
   ]
  },
  {
   "cell_type": "code",
   "execution_count": 11,
   "metadata": {
    "collapsed": false
   },
   "outputs": [
    {
     "data": {
      "image/png": "[encoded data removed]",
      "text/plain": [
       "<matplotlib.figure.Figure at 0x10a7616d0>"
      ]
     },
     "metadata": {},
     "output_type": "display_data"
    }
   ],
   "source": [
    "striplog.plot(legend, ladder=True, aspect=5, interval=5)"
   ]
  },
  {
   "cell_type": "markdown",
   "metadata": {},
   "source": [
    "## Manipulating a `striplog`"
   ]
  },
  {
   "cell_type": "markdown",
   "metadata": {},
   "source": [
    "Again, the object is indexable and iterable."
   ]
  },
  {
   "cell_type": "code",
   "execution_count": 12,
   "metadata": {
    "collapsed": false
   },
   "outputs": [
    {
     "name": "stdout",
     "output_type": "stream",
     "text": [
      "Volcanic\n"
     ]
    }
   ],
   "source": [
    "print(striplog[-1].primary.summary())"
   ]
  },
  {
   "cell_type": "code",
   "execution_count": 13,
   "metadata": {
    "collapsed": false
   },
   "outputs": [
    {
     "name": "stdout",
     "output_type": "stream",
     "text": [
      "30.33 m of anhydrite\n",
      "2.94 m of sandstone, vf-f, grey\n",
      "1.43 m of anhydrite\n",
      "1.90 m of dolomite\n",
      "1.32 m of siltstone, red\n"
     ]
    }
   ],
   "source": [
    "for i in striplog[:5]:\n",
    "    print(i.summary())"
   ]
  },
  {
   "cell_type": "code",
   "execution_count": 14,
   "metadata": {
    "collapsed": false
   },
   "outputs": [
    {
     "data": {
      "text/plain": [
       "26"
      ]
     },
     "execution_count": 14,
     "metadata": {},
     "output_type": "execute_result"
    }
   ],
   "source": [
    "len(striplog)"
   ]
  },
  {
   "cell_type": "code",
   "execution_count": 15,
   "metadata": {
    "collapsed": false
   },
   "outputs": [
    {
     "data": {
      "text/plain": [
       "array([ 237.91102515,  238.72340426,  239.8065764 ,  240.77369439,\n",
       "        241.12185687,  241.70212766,  243.09477756,  246.65377176])"
      ]
     },
     "execution_count": 15,
     "metadata": {},
     "output_type": "execute_result"
    }
   ],
   "source": [
    "import numpy as np\n",
    "np.array([d.top for d in striplog[5:13]])"
   ]
  },
  {
   "cell_type": "markdown",
   "metadata": {},
   "source": [
    "You can even index into it with an iterable, like a list of indices."
   ]
  },
  {
   "cell_type": "code",
   "execution_count": 16,
   "metadata": {
    "collapsed": false
   },
   "outputs": [
    {
     "name": "stdout",
     "output_type": "stream",
     "text": [
      "top: 233.2688588007737, base: 234.70019342359768, description: '', components: [Component(\"lithology\":\"anhydrite\")]\n",
      "top: 236.59574468085106, base: 237.9110251450677, description: '', components: [Component(\"lithology\":\"siltstone\", \"colour\":\"red\")]\n",
      "top: 238.72340425531917, base: 239.80657640232107, description: '', components: [Component(\"lithology\":\"sandstone\", \"grainsize\":\"vf-f\", \"colour\":\"grey\")]\n"
     ]
    }
   ],
   "source": [
    "indices = [2,4,6]\n",
    "print(striplog[indices])"
   ]
  },
  {
   "cell_type": "markdown",
   "metadata": {},
   "source": [
    "## Querying the striplog"
   ]
  },
  {
   "cell_type": "markdown",
   "metadata": {},
   "source": [
    "This results in a new Striplog, contianing only the intervals requested."
   ]
  },
  {
   "cell_type": "code",
   "execution_count": 20,
   "metadata": {
    "collapsed": false
   },
   "outputs": [
    {
     "data": {
      "text/plain": [
       "Striplog(4 Intervals, start=230.32882011605415, stop=255.43520309477756)"
      ]
     },
     "execution_count": 20,
     "metadata": {},
     "output_type": "execute_result"
    }
   ],
   "source": [
    "striplog.find('sandstone')"
   ]
  },
  {
   "cell_type": "code",
   "execution_count": 21,
   "metadata": {
    "collapsed": false
   },
   "outputs": [
    {
     "data": {
      "text/plain": [
       "[(Component(\"lithology\":\"sandstone\", \"grainsize\":\"vf-f\", \"colour\":\"grey\"),\n",
       "  15.783365570599585)]"
      ]
     },
     "execution_count": 21,
     "metadata": {},
     "output_type": "execute_result"
    }
   ],
   "source": [
    "striplog.find('sandstone').top"
   ]
  },
  {
   "cell_type": "code",
   "execution_count": 22,
   "metadata": {
    "collapsed": false
   },
   "outputs": [
    {
     "data": {
      "text/plain": [
       "15.783365570599585"
      ]
     },
     "execution_count": 22,
     "metadata": {},
     "output_type": "execute_result"
    }
   ],
   "source": [
    "striplog.find('sandstone').cum"
   ]
  },
  {
   "cell_type": "code",
   "execution_count": 25,
   "metadata": {
    "collapsed": false
   },
   "outputs": [
    {
     "name": "stdout",
     "output_type": "stream",
     "text": [
      "top: 230.32882011605415, base: 233.2688588007737, description: '', components: [Component(\"lithology\":\"sandstone\", \"grainsize\":\"vf-f\", \"colour\":\"grey\")]\n",
      "top: 238.72340425531917, base: 239.80657640232107, description: '', components: [Component(\"lithology\":\"sandstone\", \"grainsize\":\"vf-f\", \"colour\":\"grey\")]\n",
      "top: 243.09477756286267, base: 246.65377176015474, description: '', components: [Component(\"lithology\":\"sandstone\", \"grainsize\":\"vf-f\", \"colour\":\"grey\")]\n",
      "top: 247.2340425531915, base: 255.43520309477756, description: '', components: [Component(\"lithology\":\"sandstone\", \"grainsize\":\"vf-f\", \"colour\":\"grey\")]\n"
     ]
    }
   ],
   "source": [
    "print(striplog.find('sandstone'))"
   ]
  },
  {
   "cell_type": "code",
   "execution_count": 26,
   "metadata": {
    "collapsed": false
   },
   "outputs": [
    {
     "data": {
      "image/png": "[encoded data removed]",
      "text/plain": [
       "<matplotlib.figure.Figure at 0x10a7616d0>"
      ]
     },
     "metadata": {},
     "output_type": "display_data"
    }
   ],
   "source": [
    "striplog.find('sandstone').plot()"
   ]
  },
  {
   "cell_type": "markdown",
   "metadata": {},
   "source": [
    "Let's ask for the rock we just found by seaching."
   ]
  },
  {
   "cell_type": "code",
   "execution_count": 27,
   "metadata": {
    "collapsed": false
   },
   "outputs": [
    {
     "data": {
      "text/plain": [
       "Component(\"lithology\":\"sandstone\", \"grainsize\":\"vf-f\", \"colour\":\"grey\")"
      ]
     },
     "execution_count": 27,
     "metadata": {},
     "output_type": "execute_result"
    }
   ],
   "source": [
    "rock = striplog.find('sandstone')[1].components[0]\n",
    "rock"
   ]
  },
  {
   "cell_type": "markdown",
   "metadata": {},
   "source": [
    "We can also search for a rock..."
   ]
  },
  {
   "cell_type": "code",
   "execution_count": 28,
   "metadata": {
    "collapsed": false
   },
   "outputs": [
    {
     "data": {
      "image/png": "[encoded data removed]",
      "text/plain": [
       "<matplotlib.figure.Figure at 0x108c50e50>"
      ]
     },
     "metadata": {},
     "output_type": "display_data"
    }
   ],
   "source": [
    "striplog.find(rock).plot(legend)"
   ]
  },
  {
   "cell_type": "code",
   "execution_count": 29,
   "metadata": {
    "collapsed": false
   },
   "outputs": [
    {
     "data": {
      "text/plain": [
       "True"
      ]
     },
     "execution_count": 29,
     "metadata": {},
     "output_type": "execute_result"
    }
   ],
   "source": [
    "rock in striplog"
   ]
  },
  {
   "cell_type": "markdown",
   "metadata": {},
   "source": [
    "And we can ask what is at a particular depth."
   ]
  },
  {
   "cell_type": "code",
   "execution_count": 30,
   "metadata": {
    "collapsed": false
   },
   "outputs": [
    {
     "data": {
      "text/plain": [
       "Component(\"lithology\":\"siltstone\", \"colour\":\"grey\")"
      ]
     },
     "execution_count": 30,
     "metadata": {},
     "output_type": "execute_result"
    }
   ],
   "source": [
    "striplog.depth(260).primary"
   ]
  },
  {
   "cell_type": "markdown",
   "metadata": {},
   "source": [
    "## Slicing and indexing"
   ]
  },
  {
   "cell_type": "code",
   "execution_count": 32,
   "metadata": {
    "collapsed": false
   },
   "outputs": [
    {
     "name": "stdout",
     "output_type": "stream",
     "text": [
      "top: 236.59574468085106, base: 237.9110251450677, description: '', components: [Component(\"lithology\":\"siltstone\", \"colour\":\"red\")]\n",
      "top: 234.70019342359768, base: 236.59574468085106, description: '', components: [Component(\"lithology\":\"dolomite\")]\n",
      "top: 233.2688588007737, base: 234.70019342359768, description: '', components: [Component(\"lithology\":\"anhydrite\")]\n",
      "top: 230.32882011605415, base: 233.2688588007737, description: '', components: [Component(\"lithology\":\"sandstone\", \"grainsize\":\"vf-f\", \"colour\":\"grey\")]\n",
      "top: 200.0, base: 230.32882011605415, description: '', components: [Component(\"lithology\":\"anhydrite\")]\n"
     ]
    }
   ],
   "source": [
    "for r in reversed(striplog[:5]):\n",
    "    print(r)"
   ]
  },
  {
   "cell_type": "markdown",
   "metadata": {},
   "source": [
    "Slicing returns a new `striplog`:"
   ]
  },
  {
   "cell_type": "code",
   "execution_count": 33,
   "metadata": {
    "collapsed": false
   },
   "outputs": [
    {
     "data": {
      "text/plain": [
       "Striplog(2 Intervals, start=230.32882011605415, stop=234.70019342359768)"
      ]
     },
     "execution_count": 33,
     "metadata": {},
     "output_type": "execute_result"
    }
   ],
   "source": [
    "striplog[1:3]"
   ]
  },
  {
   "cell_type": "code",
   "execution_count": 35,
   "metadata": {
    "collapsed": false
   },
   "outputs": [],
   "source": [
    "rock2 = Component({'lithology':'shale', 'colour':'grey'})\n",
    "iv = Interval(top=300, base=350, description='', components=[rock, rock2])"
   ]
  },
  {
   "cell_type": "code",
   "execution_count": 36,
   "metadata": {
    "collapsed": false
   },
   "outputs": [
    {
     "data": {
      "text/plain": [
       "Striplog(3 Intervals, start=294.81624758220505, stop=350.0)"
      ]
     },
     "execution_count": 36,
     "metadata": {},
     "output_type": "execute_result"
    }
   ],
   "source": [
    "striplog[-3:-1] + Striplog([iv])"
   ]
  },
  {
   "cell_type": "markdown",
   "metadata": {},
   "source": [
    "## Read or write CSV or LAS3"
   ]
  },
  {
   "cell_type": "code",
   "execution_count": 37,
   "metadata": {
    "collapsed": false
   },
   "outputs": [
    {
     "name": "stdout",
     "output_type": "stream",
     "text": [
      "~Lithology_Parameter\n",
      "LITH .   Striplog         : Lithology source          {S}\n",
      "LITHD.   MD               : Lithology depth reference {S}\n",
      "\n",
      "~Lithology_Definition\n",
      "LITHT.M                   : Lithology top depth       {F}\n",
      "LITHB.M                   : Lithology base depth      {F}\n",
      "LITHD.                    : Lithology description     {S}\n",
      "\n",
      "~Lithology_Data | Lithology_Definition\n",
      "  200.000,  230.329,  \"Anhydrite\"                                     \n",
      "  230.329,  233.269,  \"Sandstone, vf-f, grey\"                         \n",
      "  233.269,  234.700,  \"Anhydrite\"                                     \n",
      "  234.700,  236.596,  \"Dolomite\"                                      \n",
      "  236.596,  237.911,  \"Siltstone, red\"                                \n",
      "  237.911,  238.723,  \"Anhydrite\"                                     \n",
      "  238.723,  239.807,  \"Sandstone, vf-f, grey\"                         \n",
      "  239.807,  240.774,  \"Siltstone, red\"                                \n",
      "  240.774,  241.122,  \"Dolomite\"                                      \n",
      "  241.122,  241.702,  \"Siltstone, grey\"                               \n",
      "  241.702,  243.095,  \"Dolomite\"                                      \n",
      "  243.095,  246.654,  \"Sandstone, vf-f, grey\"                         \n",
      "  246.654,  247.234,  \"Dolomite\"                                      \n",
      "  247.234,  255.435,  \"Sandstone, vf-f, grey\"                         \n",
      "  255.435,  258.723,  \"Siltstone, grey\"                               \n",
      "  258.723,  259.729,  \"Dolomite\"                                      \n",
      "  259.729,  260.967,  \"Siltstone, grey\"                               \n",
      "  260.967,  261.354,  \"Dolomite\"                                      \n",
      "  261.354,  267.041,  \"Siltstone, grey\"                               \n",
      "  267.041,  267.350,  \"Dolomite\"                                      \n",
      "  267.350,  274.004,  \"Siltstone, grey\"                               \n",
      "  274.004,  274.313,  \"Dolomite\"                                      \n",
      "  274.313,  294.816,  \"Siltstone, grey\"                               \n",
      "  294.816,  295.397,  \"Dolomite\"                                      \n",
      "  295.397,  296.286,  \"Limestone\"                                     \n",
      "  296.286,  300.000,  \"Volcanic\"                                      \n",
      "\n"
     ]
    }
   ],
   "source": [
    "print(striplog.to_las3())"
   ]
  },
  {
   "cell_type": "code",
   "execution_count": 38,
   "metadata": {
    "collapsed": false
   },
   "outputs": [
    {
     "data": {
      "text/plain": [
       "'Image'"
      ]
     },
     "execution_count": 38,
     "metadata": {},
     "output_type": "execute_result"
    }
   ],
   "source": [
    "striplog.source"
   ]
  },
  {
   "cell_type": "code",
   "execution_count": 39,
   "metadata": {
    "collapsed": false
   },
   "outputs": [],
   "source": [
    "csv_string = \"\"\"  200.000,  230.329,  Anhydrite                                       \n",
    "  230.329,  233.269,  Grey vf-f sandstone                             \n",
    "  233.269,  234.700,  Anhydrite                                       \n",
    "  234.700,  236.596,  Dolomite                                        \n",
    "  236.596,  237.911,  Red siltstone                                   \n",
    "  237.911,  238.723,  Anhydrite                                       \n",
    "  238.723,  239.807,  Grey vf-f sandstone                             \n",
    "  239.807,  240.774,  Red siltstone                                   \n",
    "  240.774,  241.122,  Dolomite                                        \n",
    "  241.122,  241.702,  Grey siltstone                                  \n",
    "  241.702,  243.095,  Dolomite                                        \n",
    "  243.095,  246.654,  Grey vf-f sandstone                             \n",
    "  246.654,  247.234,  Dolomite                                        \n",
    "  247.234,  255.435,  Grey vf-f sandstone                             \n",
    "  255.435,  258.723,  Grey siltstone                                  \n",
    "  258.723,  259.729,  Dolomite                                        \n",
    "  259.729,  260.967,  Grey siltstone                                  \n",
    "  260.967,  261.354,  Dolomite                                        \n",
    "  261.354,  267.041,  Grey siltstone                                  \n",
    "  267.041,  267.350,  Dolomite                                        \n",
    "  267.350,  274.004,  Grey siltstone                                  \n",
    "  274.004,  274.313,  Dolomite                                        \n",
    "  274.313,  294.816,  Grey siltstone                                  \n",
    "  294.816,  295.397,  Dolomite                                        \n",
    "  295.397,  296.286,  Limestone                                       \n",
    "  296.286,  300.000,  Volcanic                                        \n",
    "\"\"\""
   ]
  },
  {
   "cell_type": "code",
   "execution_count": 40,
   "metadata": {
    "collapsed": false
   },
   "outputs": [],
   "source": [
    "strip2 = Striplog.from_csv(csv_string, lexicon=lexicon)"
   ]
  },
  {
   "cell_type": "markdown",
   "metadata": {},
   "source": [
    "Notice the warning about a missing term in the lexicon."
   ]
  },
  {
   "cell_type": "code",
   "execution_count": 48,
   "metadata": {
    "collapsed": false
   },
   "outputs": [
    {
     "data": {
      "text/plain": [
       "Component()"
      ]
     },
     "execution_count": 48,
     "metadata": {},
     "output_type": "execute_result"
    }
   ],
   "source": [
    "Component.from_text('Volcanic', lexicon)"
   ]
  },
  {
   "cell_type": "code",
   "execution_count": 49,
   "metadata": {
    "collapsed": false
   },
   "outputs": [
    {
     "data": {
      "text/plain": [
       "Component(\"lithology\":\"sandstone\", \"grainsize\":\"vf-f\", \"colour\":\"grey\")"
      ]
     },
     "execution_count": 49,
     "metadata": {},
     "output_type": "execute_result"
    }
   ],
   "source": [
    "Component.from_text('Grey vf-f sandstone', lexicon)"
   ]
  },
  {
   "cell_type": "code",
   "execution_count": 50,
   "metadata": {
    "collapsed": false
   },
   "outputs": [],
   "source": [
    "las3 = \"\"\"~Lithology_Parameter\n",
    "LITH .                    : Lithology source          {S}\n",
    "LITHD.   MD               : Lithology depth reference {S}\n",
    "\n",
    "~Lithology_Definition\n",
    "LITHT.M                   : Lithology top depth       {F}\n",
    "LITHB.M                   : Lithology base depth      {F}\n",
    "LITHN.                    : Lithology name            {S}\n",
    "\n",
    "~Lithology_Data | Lithology_Definition\n",
    "  200.000,  230.329,  Anhydrite                                       \n",
    "  230.329,  233.269,  Grey vf-f sandstone                             \n",
    "  233.269,  234.700,  Anhydrite                                       \n",
    "  234.700,  236.596,  Dolomite                                        \n",
    "  236.596,  237.911,  Red siltstone                                   \n",
    "  237.911,  238.723,  Anhydrite                                       \n",
    "  238.723,  239.807,  Grey vf-f sandstone                             \n",
    "  239.807,  240.774,  Red siltstone                                   \n",
    "  240.774,  241.122,  Dolomite                                        \n",
    "  241.122,  241.702,  Grey siltstone                                  \n",
    "  241.702,  243.095,  Dolomite                                        \n",
    "  243.095,  246.654,  Grey vf-f sandstone                             \n",
    "  246.654,  247.234,  Dolomite                                        \n",
    "  247.234,  255.435,  Grey vf-f sandstone                             \n",
    "  255.435,  258.723,  Grey siltstone                                  \n",
    "  258.723,  259.729,  Dolomite                                        \n",
    "  259.729,  260.967,  Grey siltstone                                  \n",
    "  260.967,  261.354,  Dolomite                                        \n",
    "  261.354,  267.041,  Grey siltstone                                  \n",
    "  267.041,  267.350,  Dolomite                                        \n",
    "  267.350,  274.004,  Grey siltstone                                  \n",
    "  274.004,  274.313,  Dolomite                                        \n",
    "  274.313,  294.816,  Grey siltstone                                  \n",
    "  294.816,  295.397,  Dolomite                                        \n",
    "  295.397,  296.286,  Limestone                                       \n",
    "  296.286,  300.000,  Volcanic                                        \n",
    "\"\"\""
   ]
  },
  {
   "cell_type": "code",
   "execution_count": 51,
   "metadata": {
    "collapsed": false
   },
   "outputs": [
    {
     "data": {
      "text/plain": [
       "Striplog(26 Intervals, start=200.0, stop=300.0)"
      ]
     },
     "execution_count": 51,
     "metadata": {},
     "output_type": "execute_result"
    }
   ],
   "source": [
    "strip3 = Striplog.from_las3(las3, lexicon)\n",
    "strip3"
   ]
  },
  {
   "cell_type": "code",
   "execution_count": 52,
   "metadata": {
    "collapsed": false
   },
   "outputs": [
    {
     "data": {
      "text/plain": [
       "[(Component(\"lithology\":\"siltstone\", \"colour\":\"grey\"), 37.94999999999999),\n",
       " (Component(\"lithology\":\"anhydrite\"), 32.572),\n",
       " (Component(\"lithology\":\"sandstone\", \"grainsize\":\"vf-f\", \"colour\":\"grey\"),\n",
       "  15.783999999999963),\n",
       " (Component(\"lithology\":\"dolomite\"), 6.809000000000026),\n",
       " (Component(), 3.7139999999999986),\n",
       " (Component(\"lithology\":\"siltstone\", \"colour\":\"red\"), 2.2820000000000107),\n",
       " (Component(\"lithology\":\"limestone\"), 0.88900000000001)]"
      ]
     },
     "execution_count": 52,
     "metadata": {},
     "output_type": "execute_result"
    }
   ],
   "source": [
    "strip3.top"
   ]
  },
  {
   "cell_type": "markdown",
   "metadata": {},
   "source": [
    "## Handling tops"
   ]
  },
  {
   "cell_type": "markdown",
   "metadata": {},
   "source": [
    "I recommend treating tops as intervals, not as point data."
   ]
  },
  {
   "cell_type": "code",
   "execution_count": 53,
   "metadata": {
    "collapsed": false
   },
   "outputs": [],
   "source": [
    "tops_csv = \"\"\"100, Escanilla Fm.\n",
    "200, Sobrarbe Fm. \n",
    "350, San Vicente Fm.\n",
    "500, Cretaceous\n",
    "\"\"\""
   ]
  },
  {
   "cell_type": "code",
   "execution_count": 54,
   "metadata": {
    "collapsed": false
   },
   "outputs": [
    {
     "name": "stderr",
     "output_type": "stream",
     "text": [
      "/Users/matt/anaconda/envs/striplog3/lib/python3.3/site-packages/striplog/interval.py:74: UserWarning: You must provide a lexicon to generate components from descriptions.\n",
      "  warnings.warn(w)\n",
      "/Users/matt/anaconda/envs/striplog3/lib/python3.3/site-packages/striplog/interval.py:74: UserWarning: You must provide a lexicon to generate components from descriptions.\n",
      "  warnings.warn(w)\n",
      "/Users/matt/anaconda/envs/striplog3/lib/python3.3/site-packages/striplog/interval.py:74: UserWarning: You must provide a lexicon to generate components from descriptions.\n",
      "  warnings.warn(w)\n",
      "/Users/matt/anaconda/envs/striplog3/lib/python3.3/site-packages/striplog/interval.py:74: UserWarning: You must provide a lexicon to generate components from descriptions.\n",
      "  warnings.warn(w)\n"
     ]
    }
   ],
   "source": [
    "tops = Striplog.from_csv(tops_csv)"
   ]
  },
  {
   "cell_type": "code",
   "execution_count": 56,
   "metadata": {
    "collapsed": false
   },
   "outputs": [
    {
     "name": "stdout",
     "output_type": "stream",
     "text": [
      "top: 100.0, base: 200.0, description: 'Escanilla Fm.', components: []\n",
      "top: 200.0, base: 350.0, description: 'Sobrarbe Fm.', components: []\n",
      "top: 350.0, base: 500.0, description: 'San Vicente Fm.', components: []\n",
      "top: 500.0, base: 501.0, description: 'Cretaceous', components: []\n"
     ]
    }
   ],
   "source": [
    "print(tops)"
   ]
  },
  {
   "cell_type": "code",
   "execution_count": 57,
   "metadata": {
    "collapsed": false
   },
   "outputs": [
    {
     "data": {
      "text/plain": [
       "Interval(top: 200.0, base: 350.0, description: 'Sobrarbe Fm.', components: [])"
      ]
     },
     "execution_count": 57,
     "metadata": {},
     "output_type": "execute_result"
    }
   ],
   "source": [
    "tops.depth(254.0)"
   ]
  },
  {
   "cell_type": "markdown",
   "metadata": {},
   "source": [
    "## Handling point data"
   ]
  },
  {
   "cell_type": "markdown",
   "metadata": {},
   "source": [
    "Some things really are point data."
   ]
  },
  {
   "cell_type": "code",
   "execution_count": 58,
   "metadata": {
    "collapsed": false
   },
   "outputs": [],
   "source": [
    "data_csv = \"\"\"1200, 6.4\n",
    "1205, 7.3\n",
    "1210, 8.2\n",
    "1250, 9.2\n",
    "1275, 4.3\n",
    "1300, 2.2\n",
    "\"\"\""
   ]
  },
  {
   "cell_type": "code",
   "execution_count": 59,
   "metadata": {
    "collapsed": false
   },
   "outputs": [
    {
     "name": "stderr",
     "output_type": "stream",
     "text": [
      "/Users/matt/anaconda/envs/striplog3/lib/python3.3/site-packages/striplog/interval.py:74: UserWarning: You must provide a lexicon to generate components from descriptions.\n",
      "  warnings.warn(w)\n",
      "/Users/matt/anaconda/envs/striplog3/lib/python3.3/site-packages/striplog/interval.py:74: UserWarning: You must provide a lexicon to generate components from descriptions.\n",
      "  warnings.warn(w)\n",
      "/Users/matt/anaconda/envs/striplog3/lib/python3.3/site-packages/striplog/interval.py:74: UserWarning: You must provide a lexicon to generate components from descriptions.\n",
      "  warnings.warn(w)\n",
      "/Users/matt/anaconda/envs/striplog3/lib/python3.3/site-packages/striplog/interval.py:74: UserWarning: You must provide a lexicon to generate components from descriptions.\n",
      "  warnings.warn(w)\n",
      "/Users/matt/anaconda/envs/striplog3/lib/python3.3/site-packages/striplog/interval.py:74: UserWarning: You must provide a lexicon to generate components from descriptions.\n",
      "  warnings.warn(w)\n",
      "/Users/matt/anaconda/envs/striplog3/lib/python3.3/site-packages/striplog/interval.py:74: UserWarning: You must provide a lexicon to generate components from descriptions.\n",
      "  warnings.warn(w)\n"
     ]
    }
   ],
   "source": [
    "data = Striplog.from_csv(data_csv, points=True)"
   ]
  },
  {
   "cell_type": "code",
   "execution_count": 60,
   "metadata": {
    "collapsed": false
   },
   "outputs": [
    {
     "name": "stdout",
     "output_type": "stream",
     "text": [
      "top: 1200.0, base: 1200.0, description: '6.4', components: []\n",
      "top: 1205.0, base: 1205.0, description: '7.3', components: []\n",
      "top: 1210.0, base: 1210.0, description: '8.2', components: []\n",
      "top: 1250.0, base: 1250.0, description: '9.2', components: []\n",
      "top: 1275.0, base: 1275.0, description: '4.3', components: []\n",
      "top: 1300.0, base: 1300.0, description: '2.2', components: []\n"
     ]
    }
   ],
   "source": [
    "print(data)"
   ]
  },
  {
   "cell_type": "markdown",
   "metadata": {},
   "source": [
    "One day, when we have a use case, we can do something nice with this, like treat it as numerical data, and make a plot for it. We need an elegant way to get that number into a 'rock', like {'x': 6.4}, etc. "
   ]
  },
  {
   "cell_type": "markdown",
   "metadata": {},
   "source": [
    "<hr />\n",
    "\n",
    "<p style=\"color:gray\">©2015 Agile Geoscience. Licensed CC-BY. <a href=\"https://github.com/agile-geoscience/striplog\">striplog.py</a></p>"
   ]
  }
 ],
 "metadata": {
  "kernelspec": {
   "display_name": "Python 3",
   "language": "python",
   "name": "python3"
  },
  "language_info": {
   "codemirror_mode": {
    "name": "ipython",
    "version": 3
   },
   "file_extension": ".py",
   "mimetype": "text/x-python",
   "name": "python",
   "nbconvert_exporter": "python",
   "pygments_lexer": "ipython3",
   "version": "3.3.5"
  }
 },
 "nbformat": 4,
 "nbformat_minor": 0
}
