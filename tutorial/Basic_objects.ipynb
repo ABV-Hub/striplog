{
 "cells": [
  {
   "cell_type": "markdown",
   "metadata": {},
   "source": [
    "# Basic objects"
   ]
  },
  {
   "cell_type": "markdown",
   "metadata": {},
   "source": [
    "A `striplog` depends on a hierarchy of objects. This notebook shows the objects and their basic functionality.\n",
    "\n",
    "- [Lexicon](#Lexicon): A dictionary containing the words and word categories to use for rock descriptions.\n",
    "- [Rock](#Rock): A set of attributes. \n",
    "- [Decor](#Decor): One element from a legend — describes how to display a Rock.\n",
    "- [Legend](#Legend): A set of Decors — describes how to display a set of Rocks or a Striplog.\n",
    "- [Interval](#Interval): One element from a Striplog — consists of a top, base, a description, a Rock, and a source.\n",
    "\n",
    "Striplogs (a set of `Interval`s) are described in [a separate notebook](Striplog_object.ipynb)."
   ]
  },
  {
   "cell_type": "markdown",
   "metadata": {},
   "source": [
    "### To do"
   ]
  },
  {
   "cell_type": "markdown",
   "metadata": {},
   "source": [
    "The text `description` should probably be an object of its own, subclassing `str`. This would allow it to hold a provenance, and some of the language functions currently awkwardly held in `Interval`, such as `__split_description()` and `__parse_description()`."
   ]
  },
  {
   "cell_type": "markdown",
   "metadata": {},
   "source": [
    "<hr />"
   ]
  },
  {
   "cell_type": "markdown",
   "metadata": {},
   "source": [
    "## Lexicon"
   ]
  },
  {
   "cell_type": "code",
   "execution_count": 1,
   "metadata": {
    "collapsed": false
   },
   "outputs": [
    {
     "name": "stdout",
     "output_type": "stream",
     "text": [
      "\n",
      "    A Lexicon is a dictionary of 'types' and regex patterns.\n",
      "\n",
      "    Most commonly you will just load the default one.\n",
      "\n",
      "    Args:\n",
      "        params (dict): The dictionary to use. For an example, refer to the\n",
      "            default lexicon in ``defaults.py``.\n",
      "    \n"
     ]
    }
   ],
   "source": [
    "from striplog import Lexicon\n",
    "print(Lexicon.__doc__)"
   ]
  },
  {
   "cell_type": "code",
   "execution_count": 2,
   "metadata": {
    "collapsed": false
   },
   "outputs": [
    {
     "data": {
      "text/plain": [
       "{'colour': ['red(?:dish)?', 'gray(?:ish)?', 'grey(?:ish)?', 'black(?:ish)?', 'whit(?:e|ish)', 'blu(?:e|ish)', 'purpl(?:e|ish)', 'yellow(?:ish)?', 'green(?:ish)?', 'brown(?:ish)?', 'light', 'dark', 'sandy'], 'parts_of_speech': {'subordinate': ['amount'], 'adjective': ['colour', 'grainsize'], 'noun': ['lithology']}, 'grainsize': ['vf(?:-)?', 'f(?:-)?', 'm(?:-)?', 'c(?:-)?', 'vc', 'very fine(?: to)?', 'fine(?: to)?', 'medium(?: to)?', 'coarse(?: to)?', 'very coarse', 'v fine(?: to)?', 'med(?: to)?', 'med.(?: to)?', 'v coarse', 'grains?', 'granules?', 'pebbles?', 'cobbles?', 'boulders?'], 'lithology': ['overburden', 'sandstone', 'siltstone', 'shale', 'mudstone', 'limestone', 'dolomite', 'salt', 'halite', 'anhydrite', 'gypsum', 'sylvite', 'clay', 'mud', 'silt', 'sand', 'gravel', 'boulders'], 'synonyms': {'Overburden': ['Drift'], 'Anhydrite': ['Gypsum'], 'Salt': ['Halite', 'Sylvite']}, 'abbreviations': {'assoc': 'associated', 'hi': 'high', 'Vad': 'vadose', 'hd': 'hard', 'ves': 'vesicular', 'apr': 'apparent', 'gywk': 'graywacke', 'Var': 'variation', 'foram': 'foraminiferal', 'prly': 'pearly', 'drsy': 'drusy', 'app': 'appear', 'hvy': 'heavy', 'Anthr': 'anthracite', 'IAB': 'initial air blow', 'OCM': 'oil cut mud', 'Fac': 'facet', 'Gal': 'galeolaria*', 'Brac': 'brachiopod', 'rsns': 'resinous', 'Brach': 'brachiopod', 'Jasp': 'jasper', 'Lstr': 'lustre', 'Gab': 'gabbro', 'Vn': 'vein', 'cmt': 'cemented', 'Typ': 'type', 'Pyr': 'pyrite', 'micr': 'micritic', 'Stromlt': 'stromatolite', 'Clus': 'cluster', 'sft': 'soft', 'mass': 'massive', 'crinal': 'crinoidal', 'Crin': 'crinoidal', 'vi': 'violet', 'Ceph': 'cephalopod', 'mica': 'micaeous', 'SNP': 'sidewall neutron porosity log', 'est': 'estimated', 'wthd': 'weathered', 'sil': 'siliceous', 'sim': 'similar', 'brt': 'bright', 'bo': 'bophaceous', 'sid': 'sideritic', 'brn': 'brown', 'FAB': 'fair air blow', 'ex': 'excellent', 'Hyde': 'hydrocarbon', 'brk': 'brackish', 'bri': 'bright', 'syn': 'syntaxial', 'ctc': 'contact', 'tgh': 'tough', 'a.a.': 'same as above sample', 'ctd': 'coated', 'intr': 'intrusionive', 'resd': 'residual', 'intv': 'interval', 'fnt': 'faintly', 'Mag': 'magnetite', 'calc': 'calcitareous', 'bl': 'bluish', 'Cbl': 'cobble', 'bf': 'buff', 'Microstyl': 'microstylolite', 'bd': 'bed', 'l': 'lower', 'Wl': 'well', 'V.op': 'valve open', 'ps': 'pseudo-', 'aglm': 'agglomerate', 'Biot': 'biotite', 'vert': 'vertical', 'rhb': 'rhombic', 'phyl': 'phyllitic', 'Bioh': 'bioherm', 'Mtrx': 'matrix', 'onc': 'oncolites', 'skel': 'skeletal', 'slily': 'slightly', 'crpld': 'crumpled', 'Slick slick': 'slickenside', 'Pisol': 'pisolite', 'struc': 'structure', 'Mol': 'mollusca', 'lmpy': 'lumpy', 'AOF': 'absolute open flow', 'hor': 'horizontal', 'Gast': 'gastropod', 'WAB': 'weak air blow', 'micropor': 'microporosity', 'Perm': 'permeability', 'lge': 'large', 'tns': 'tension', 'blsh': 'bluish', 'Biosp': 'biosparite', 'Fau': 'fauna', 'gyp': 'gypsumiferous', 'fib': 'fibrous', 'sps': 'sparsly', 'TSTM': 'too small to measure', 'Biomi': 'biomicrite', 'spl': 'sample', 'w/': 'with', 'pisol': 'pisolitic', 'sph': 'spherules', 'pel': 'pellet', 'fis': 'fissile', 'Bdeye': 'birdseye', 'intxln': 'intercrystalline', 'Frac': 'fracture', 'aft': 'after', 'glas': 'glassy', 'glau': 'glauconitic', 'Zr': 'zircon', 'Scaph': 'scaphopod', 'Flo': 'flora', 'r.f.p': 'rounded frosted pitted', 'chit': 'chitinous', 'Flk': 'flake', 'strgr': 'stringer', 'Zn': 'zone', 'ox': 'oxidized', 'Uc': 'underclay', 'trnsl': 'translucent', 'IP': 'initial production', 'vgt': 'varigated', 'In': 'inch', 'Prod': 'production', 'bent': 'bentonitic', 'o': 'oil', 'nod': 'nodule', 'magnt': 'magnetite', 'qtz': 'quartz', 'crnk': 'crinkled', 'elg': 'elongate', 'intpt': 'interpretation', 'rdsh': 'redish', 'pk': 'pink', 'biocl': 'bioclastic', 'Microfos': 'microfossilferous', 'litt': 'littoral', 'tab': 'tabular', 'dkr': 'darker', 'Conc': 'concretion', 'volc': 'volcanics', 'pkish': 'pinkish', 'Cono': 'conodont', 'eux': 'euxinic', 'Psool': 'pseudo oolite', 'carb': 'carbonaceous', 'piso': 'pisolitic', 'Lat': 'laterite', 'Pybit': 'pyrobitumen', 'Cont': 'content', 'bldr': 'boulder', 'clas': 'clastic', 'prob': 'probably', 'pyrbit': 'pyrobitumen', 'uni': 'uniform', 'prom': 'prominently', 'Ctc': 'contact', 'fltg': 'floating', '/': 'with', 'intrapar': 'intraparticle', 'circ': 'circulation', 'lit': 'lithic', 'sml': 'small', 'lim': 'itic', 'rexl': 'recrystallization', 'min': 'mineralized', 'qtzc': 'quartzitic', 'Wd': 'wood', 'spic': 'spicular', 'lig': 'lignitic', 'mic': 'micro', 'spsly': 'sparsly', 'N': 'Neutron', 'orsh': 'orangish', 'Len': 'lens', 'Microspr': 'microspar', 'Alg': 'algal', 'Diagn': 'diagenesis', 'Rhb': 'rhomb', 'Chal': 'chalcedony', 'sp': 'spotty', 'musc': 'muscovite', 'CN': 'compensated neutron', 'pch': 'patchy', 'Onc': 'oncolite', 'imp': 'impression', 'phen': 'phenocrysts', 'Dol': 'dolomite', 'bld': 'bladed', 'intgn': 'inter grown', 'fluor': 'fluoresceincent', 'op': 'open', 'Foram': 'foraminifera', 'brit': 'brittle', 'MCW': 'mud cut water', 'Surf': 'surface', 'Cl': 'clay', 'MCO': 'mud cut oil', 'Smwt': 'somewhat', 'Strk': 'streak', 'Gns': 'gneiss', 'Bdg': 'bedding', 'p.d': 'pressure deformation', 'fnly': 'finly', 'Anhy': 'anhydrite', 'Schm': 'schist', 'Lam': 'laminations', 'Pend': 'pendularous', 'Pbl': 'pebble', 'Ltl': 'little', 'sept': 'septate', 'Unconf': 'unconformity', 'Bot': 'botryoid', 'Asph': 'assemblage', 'cl': 'clastic', 'LSD': 'legal subdivision', 'Pent': 'pentamerus*', 'recem': 'recemented', 'cb': 'carbonized', 'MLL': 'microlaterolog', 'dess': 'dessiccation', 'Btm': 'bottom', 'stn': 'staining', 'qtzs': 'quartzose', 'gen': 'generally', 'GTS': 'gas to surface', 'Novac': 'novaculite', 'coln': 'colonial', 'intst': 'intersticitial', 'Stach': 'stachyodes*', 'Fluor': 'fluoresceince', 't.b.': 'thin-bedded', 'hrtl': 'horizontal', 'acic': 'acicular', 'n.v.p.': 'no visible porosity', 'cly': 'clayey', 'Endo': 'endothyra*', 'consol': 'consolidated', 'Chk': 'chalk', 'diagn': 'diagenesisetic', 'med': 'medium', 'rad': 'radiating', 'Belm': 'belemnites*', 'sat': 'saturated', 'bur': 'burrowed', 'SIP': 'shut in pressure', 'BHFP': 'bottom hole flow pressure', 'conch': 'conchoidal', 'ML': 'microlog, minilog', 'cln': 'clean', 'm': 'medium', 'Plag': 'plagioclase', 'Girv': 'girvanella*', 'dissem': 'disseminated', 'shy': 'shaly', 'vn': 'vein', 'comp': 'completion', 'prphy': 'porphyry', 'authg': 'authigenic', 'arg': 'argillaceous', 'wxy': 'waxy', 'ark': 'arkosic', 'SW': 'salt water', 'Mn': 'manganese', 'Stri': 'striae', 'hem': 'hematitic', 'aprox': 'approximately', 'mrly': 'marly', 'Cav': 'cavernous', 'Sil': 'silica', 'insl': 'insoluble', 'Ech': 'echinoid', 'mos': 'mosaic', 'Sid': 'siderite', 'Repl': 'replaced', 'wvy': 'wavy', 'hex': 'hexagonal', 'md': 'muddy', 'sd': 'sand (1/16-2 mm)', 'brak': 'brackish', 'blk': 'black', 'Cal': 'caliper', 'Pap': 'paper', 'ptch': 'patches', 'Par': 'particle', 'rthy': 'earthy', 'Tex': 'texture', 'Sedm': 'sediment', 'Radax': 'radiaxial', 'mtx': 'matrix', 'Chtz': 'chitinozoa', 'num': 'numerous', 'varic': 'varicolored', 'crpxln': 'crystocrystalline', 'Satm sat': 'saturation', 'FIt': 'fault', 'ea': 'earthy', 'magn': 'magnetic', 'detr': 'detrital', 'Chara': 'charophytes', 'strg': 'stringer', 'Casph': 'calcisphaera*', 'Sphal': 'sphalerite', 'PD': 'per day', 'jt': 'jointing', 'Para': 'paraparchites*', 'Phlog': 'phloaopite', 'PB': 'plugged back', 'PL': 'proximity log', 'dend': 'dendritic', 'PH': 'per hour', 'Pt': 'part', 'Clcrd': 'calcirudite', 'vps': 'very poor samples', 'Chlor': 'chlorite', 'kao': 'kaolin', 'pos': 'possibility', 'por': 'poroussity', 'Bit': 'bitumen', 'mrlst': 'marlstone', 'n/s': 'no show', 'Glob': 'globigerina*', 'cp': 'compare', 'x': 'cross', 'Exv': 'extrusive rock', 'argl': 'argillate', 'irr': 'irregular', 'OWDD': 'oil well drilled deeper', 'pt': 'partly', 'drlr': 'driller', 'Gyp': 'gypsumiferous', 'OWWO': 'old well worked over', 'tstg': 'testing', 'W.R.': 'washed residue', 'pol': 'polished', 'Spr': 'spore', 'Spl': 'sampole', 'Spo': 'spore', 'Macrofos': 'macrofossil', 'gran': 'granular', 'Spk': 'speck', 'gvl': 'gravel', 'pl': 'plant', 'Spg': 'sponge', 'Pst': 'pumice-stone', 'cntr': 'centered', 'brd': 'bored', 'oomol': 'oomoldic', 'grad': 'grading', 'gl': 'glassy', 'gn': 'green', 'gd': 'good', 'mky': 'milky', 'Solen': 'solenopora*', 'ga': 'gauged', 'w/o': 'without w/o', 'drlg': 'drilling', 'clus': 'cluster', 'Char': 'charophyte', 'loc': 'location', 'gy': 'gray', 'Rf': 'reef', 'gt': 'gritty', 'orth': 'orthoclase', 's&p': 'salt & pepper', 'gr': 'grained', 'phos': 'phosphatic', 'Nod': 'nodules', 'Qtz': 'quartz', 'Incl': 'inclusion', 'dd': 'dead', 'xlam': 'cross-laminated', 'rnd': 'rounded', 'c': 'coarsely', 's & p': 'salt and pepper', 'Rud': 'rudist', 'dk': 'darker', 'psdo': 'pseudo', 'dism': 'disseminated', 'k': 'permeabilityable', 'sli': 'slightly', 'ang': 'angular', 'euhd': 'euhedral', 'conspic': 'conspicuous', 'var': 'variable', 'Tril': 'trilobite', 'KB': 'kelly bushing', 'vcol': 'varicolored', 'IES': 'induction electric', 'Foss': 'fossiliferous', 'bu': 'buff', 'dist': 'distillate', 'wthrd': 'weathered', 'BW': 'barrels of water', 'bit': 'bitumeninous', 'GOR': 'gas-to-oil ratio', 'Ptg': 'parting', 'Lim': 'limonite', 'vrtb': 'vertebrate', 'Spic': 'spicule', 'exp': 'exposed', 'exv': 'extrusive', 'Bdst': 'boundstone', 'Port por': 'porosity', 'Lig': 'lignite', 'Tub': 'tube', 'intbd': 'interbedded', 'vrtl': 'vertical', 'Sphaer': 'sphaerocodium*', 'mod': 'moderate', 'trip': 'tripolic', 'Deb': 'debris', 'typ': 'typical', 'BHT': 'bottom hole temperature', 'euhed': 'euhedral', 'sln': 'solution', 'psool': 'pseudo oolitic', 'BHP': 'bottom hole pressure', 'MCFG': 'thousand cubic feet of gas', 'Bm': 'basement', 'cotg': 'coateding', 'sed': 'sedimentary', 'Brec': 'breccia', 'sec': 'secondary', 'orng': 'orange', 'Spher': 'spherule', 'Bld': 'boulder', 'Kao': 'kaolin', 'intlam': 'interlaminated', 'Mbl': 'marble', 'Db': 'diabase', 'Deer': 'decrease', 'grysh': 'greyish', 'Pol': 'polish', 'Lut': 'lutite', 'altg': 'alternating', 'fspr': 'feldsparathic', 'blksh': 'blackish', 'sol': 'solitary', 'Tent': 'tentaculites*', 'DI': 'dual induction log', 'chty': 'cherty', 'anhed': 'anhedral', 'pkr': 'packer', 'rndd': 'rounded', 'Shlt por': 'shelter porosity', 'G&OCM': 'gas and oil cut mud', 'x-strat': 'cross-stratified', 'sbang': 'subangular', 'DF': 'derrick floor', 'cbl': 'cobble (64-256 mm)', 'Bur': 'burrow', 'v': 'very', 'Dist': 'distillate', 'bdd': 'bedded', 'corln': 'coralline', 'bdg': 'bedding', 'asph': 'asphaltic', 'Pelec': 'pelecypod', 'prim': 'primary', 'gry': 'greyish', 'surf': 'surface', 'thru': 'throughout', 'swbd': 'swabbed', 'grd': 'graded', 'stri': 'striated', 'strk': 'streaked', 'Str': 'structure', 'micgr': 'micrograined', 'uncons.': 'unconsolidated', 'anhy': 'anhydritic', 'rhmb': 'rhombic', 'mol': 'moldic', 'str': 'streak', 'gnsh': 'greenish', 'org': 'organic', '&': 'and', 'intclas': 'intraclastic', 'exclas': 'extraclastic', 'BOPD': 'barrels of oil per day', 'med.': 'medium', 'DL': 'density log', 'g': 'good', 'mot': 'mottled', 'fuc': 'fucoidal', 'DLL': 'dual laterolog', 'BOPH': 'barrels of oil per hour', 'evap': 'evapourititic', 'gns': 'gneiss', 'Chaet': 'chaetetes*', 'Shw': 'show', 'sa-c': 'salt castic', 'Fe': 'iron-ferruginous', 'up': 'upper', 'Iran': 'granule', 'Fm': 'formation', 'Fp': 'flowing pressure', 'Spfool': 'superficial olite', 'sbrndd': 'sub rounded', 'Ft': 'foot', 'Shl': 'shell', 'Ark': 'arkose', 'apprx': 'approximate', 'ss': 'sandstone', 'metaph': 'metamorphosed', 'Clcar': 'calcarenite', 'S.W.': 'salt water', 'Volc': 'volcanic', 'msm': 'metasomatic', 'pet': 'petroleumiferous', 'olv': 'olive', 'rr': 'rare', 'Piso': 'pisoid', 'xl': 'crystalline', 'Fvst': 'favosites*', 'Dia': 'diameter', 'Evap': 'evapourite', 'lithgr': 'lithographic', 'hom': 'homogeneous', 'SI': 'shut in', 'Syring': 'syringopora*', 'SO': 'show of oil', 'grapst': 'grapestone', 'PPM': 'parts per million', 'calctc': 'calcitic', 'men': 'meniscus', 'Mat': 'material', 't.s.': 'thin section', 'Poln': 'pollen', 'fros': 'frosted', 'SP': 'spontaneous potential', 'ab': 'above', 'ovgth': 'overgrowth', 'len': 'lentilcular', 'Sh': 'shale', 'slb': 'slabby', 'Rad': 'radial', 'Sl': 'slate', 'dtrl': 'detritalus', 'Cht': 'chert', 'vug': 'vugular', 'Sa': 'salt', 'bulb': 'bulbous', 'microxln': 'microcrystalline', 'Sd': 'sand', '(W)': 'wildcat', 'Rec': 'recovery', 'DIL': 'dual induction laterolog', 'Clslt': 'calcisiltite', 'rmn': 'remainant', 'cvg': 'cavings', 'pyr': 'pyritized', 'Splin': 'splintery', 'irid': 'iridescent', 'abv': 'above', 'Sst': 'sandstone', 'HO': 'heavy oil', 'Exclas': 'extraclast', 'mnrl': 'mineralized', 'Xl': 'crystal', 'chk': 'chalky', 'hydc': 'hydrocarbon', 'devit': 'devitrified', 'OC': 'oil cut', 'bdeye': 'birdseye', 'frag': 'fragmental', 'Cub': 'cube', 'amor': 'amorphous', 'frac': 'fractured', 'FDL': 'formation density log', 'ahd': 'anhedral', 'intfrag': 'interfragmental', 'srtg': 'Sorteding', 'hetr': 'heterogeneous', 'embd': 'embedded', 'choc': 'chocolate', 'sel': 'selenite', 'cntrt': 'contorted', 'BHSIP': 'bottom hole shut in pressure', 'Musc': 'muscovite', 'Orth': 'orthoclase', 'Milid': 'miliolid', 'posa': 'possible', 'Oo': 'ooid', 'gil': 'gilsonite', 'Lyr': 'layer', 'imbd': 'imbedded', 'meta': 'metamorphic', 'rng': 'range', 'or': 'orangish', 'sks': 'slickensided', 'GCM': 'gas cut mud', 'cov': 'covered', 'Tf': 'tuffaceous', 'Intclas': 'intraclast', 'vrvd': 'varved', 'coq': 'coquina', 'col': 'colored', 'max': 'maximum', 'GCW': 'gas cut water', 'bioturb': 'bioturbated', 'Micropor': 'micropore', 'mas': 'massive', 'oo': 'ooidal', 'grdg': 'grading', 'fenst': 'fenestral', 'SAB': 'strong air blow', 'crbnt': 'carbonate', 'Bd': 'bed', 'conc': 'concretionary', 'com': 'common', 'Ivan': 'ivanovia*', 'Chit': 'chitinous', 'pred': 'predominantly', 'frmwk': 'framework', 'repl': 'replacement', 'sqz': 'squeezed', 'cons': 'considerable', 'Bnd': 'band', 'clyst': 'claystone', 'pres': 'preservation', 'Grst': 'grainstone', 'pap': 'papery', 'ls': 'limestone', 'lt': 'lighter', 'Pel': 'pellet', 'Equiv': 'equivalent', 'Invtb': 'invertebrate', 'Bent': 'bentonite', 'Pet': 'petroleum', 'Mbr': 'member', 'Slt': 'silt', 'lg': 'long', 'blky': 'blocky', 'W': 'west', 'bnd': 'banded', 'biost': 'biostromal', 'sdy': 'sandy', 'Grv': 'gravel', 'Grt': 'granite', 'Fspr': 'feldspar', 'lchd': 'leached', 'Oyst': 'oyster', 'D & A': 'dry and abandoned', 'Coq': 'coquina', 'grnt': 'granite', 'vit': 'vitreous', 'Col': 'color', 'cht': 'chert', 'intxl': 'intercrystalline', 'grnl': 'granule (2-4 mm)', 'contam': 'contaminated', 'n.s.': 'no sample', 'w': 'well', 'Oomol': 'oomold', 'sltst': 'siltstone', 'Plt': 'plant', 'Vug': 'vug', 'fos': 'fossiliferous', 'dru': 'drusy', 'Peld': 'pelletoid', 'xbd': 'cross-bedded', 'thk': 'thick', 'Sel': 'selenite', 'Vnlet': 'veinlet', 'thn': 'thin', 'fol': 'foliated', 'Gt': 'grit', 'crd': 'cored', 'Gr': 'grains', 'brec': 'brecciated', 'GL': 'guard log', 'bas': 'basaltic', 'bar': 'baritic', 'Orbit': 'Orbitolina', 'rug': 'rugosa', 'Clclt': 'calcilutite', 'Jt': 'joint', 'perm': 'permeability', 'lrg': 'larger', 'yel': 'yellow', 'Frag': 'fragment', 'phr': 'phreatic', 'perf': 'perforated', 'Biost': 'biostrom', 'sh': 'shale', 'freq': 'frequent', 'Ig': 'igneous rock', 'sl': 'slightly', 'sm': 'smooth', 'rexlzd': 'recrystallized', 'sa': 'salt', 'sb': 'sub', 'sc': 'scales', 'zeo': 'zeolite', 'cren': 'crenulated', 'sz': 'size', 'dol': 'dolomitic', 'Contam': 'contamination', 'purp': 'purple', 'chlor': 'chlorite', 'Cyp': 'cypridopsis*', 'spr': 'sparry', 'porcel': 'porcelaneous', 'su': 'sulphurous', 'dns': 'denser', 'Hem': 'hematite', 'wtr cush': 'water cushion', 'stal': 'stalactitic', 'SGCM': 'slight gas cut mud', 'styl': 'stylotitic', 'pyrcl': 'pyroclastic', 'frs': 'fresh', 'mdy': 'muddy', 'Bry': 'bryozoa', 'OWPB': 'oil well plugged back', 'sptd': 'spottedy', 'fl': 'filled', 'fr': 'fair', 'fri': 'friable', 'fibr': 'fibrous', 'Het': 'Heterostegina', 'chky': 'chalky', 'mnr': 'minor', 'frg': 'fringing', 'r': 'rare', 'SGCW': 'slight gas cut water', 'BO': 'barrels of oil', 'grnt.w': 'granite wash', 'Trip': 'tripoli', 'boudg': 'boudinage', 'stmg': 'streaming', 'cncn': 'concentric', 'des': 'descript', 'Fus': 'fusulinid', 'n': 'no, none, non', 'csg': 'casing', 'cche': 'caliche', 'Av': 'average', 'x-lam': 'cross-laminated', 'och': 'ochre', 'ES': 'electric', 'xbdg': 'cross-bedding', 'deb': 'debris', 'Fuc': 'fucoid', 'LL': 'laterolog', 'Intst': 'intersticies', 'occ': 'occasional', 'Cvg': 'caving', 'Fe-st': 'ironstone', 'Ls': 'limestone', 'Scs': 'scarce', 'amm': 'ammonite', 'psi': 'pounds per square inch', 'intrlam': 'interlaminated', 'amb': 'amber', 'Allo': 'allochem', 'decr': 'decreasing', 'clr': 'clear', 'flky': 'flaky', 'Imp': 'impression', 'bcm': 'becoming', 'amt': 'amount', 'f': 'finely', 'Brk': 'break', 'Grap': 'graptolite', 'abd': 'abundant', 'Bor': 'bored', 'trnsp': 'transparent', 'rec': 'recovered', 'E': 'east', 'Tas': 'tasmanites*', 'abs': 'absent', 'Phyl': 'phyllite', 'abt': 'about', 'Ost': 'ostracod', 'cpct': 'compact', 'res': 'residuual', 'Aglm': 'agglomerate', 'rep': 'replacedment', 'hornbd': 'hornblend', 'lstr': 'lustre', 'lent': 'lenticular', 'sacc': 'saccharoidal', 'od': 'odor', 'Gil': 'gilsonite', 'spty': 'spottedy', 'tex': 'texture', 'rbl': 'rubblbly', 'poly': 'polygonal', 'shad': 'shadow', 'LL8': 'laterolog-8', 'u': 'upper', 'ter': 'terriginous', 'ferr': 'ferruginous', 'extr': 'extremely', 'Microol': 'micro-oolite', 'cotd': 'coateding', 'dom': 'dominant', 'G': 'gas', 'gty': 'gravity', 'F.Q.G.': 'frosted quartz  grains', 'Mdst': 'mudstone', 'OFM': 'oil flecked mud', 'gsy': 'grasy', 'venn': 'vermillon', 'Min': 'mineral', 'Rpl': 'ripple', 'Calc': 'calcite', 'Mic': 'micaceous', 'Mid': 'middle', 'Intr': 'intrusive', 'Bubl': 'bubble', 'lmn': 'limonitic', 'incr': 'increasing', 'SOCM': 'slight oil cut mud', 'stromlt': 'stromatolite', 'lmy': 'limy', 'plas': 'plastic', 'Pkst': 'packstone', 'GIP': 'good initial puff', 'SOCW': 'slight oil cut water', 'uncons': 'unconsolidated', 'intgran': 'intergranular', 'sch': 'schist', 'Euryamph': 'euryamphipora*', '@': 'at', 'Clvg': 'cleavage', 'Tham': 'thamnopora*', 'wh': 'white', 'wi': 'with', 'intcl': 'intraclasts', 'wk': 'weak', 'Intvl': 'interval', 'wg': 'vuggy', 'G.W.': 'granite wash', 'spkld': 'speckled', 'Cmt': 'cement', 'Meta': 'metamorphic rock', 'Stn': 'stain', 'glos': 'glossy', 'Agg': 'aggregate', 'DST': 'drill stem test', 'sphal': 'sphalerite', 'unident': 'unidentifiable', 'slky': 'silky', 'aph': 'aphanitic', 'zn': 'zone', 'splty': 'splintery', 'T.D.': 'total depth', 'p': 'poorly', 'Strom': 'stromatoporoid', 'OSR': 'oil source rock', 'Fe-mag': 'ferro-magnesian', \"'' or do\": 'ditto', 'fau': 'fauna', 'Fen': 'fenestra', 'sy-Ca': 'sparry calcite', 'Strat': 'strata', 'incl': 'inclusion', 'FTAB': 'faint air blow', 'lith': 'lithographic', 'tt': 'tightly', 'fac': 'faceted', 'hkl': 'hackly', 'aren': 'arenaceous', 'sblit': 'sublithic', 'Phos': 'phosphate', 'tub': 'tubular', 'O&G': 'oil and gas', 'WIP': 'weak initial puff', 'MMCFG': 'million cubic feet of gas', 'slt': 'silt', 'vis': 'visible', 'ool': 'oolitic', 'oom': 'oomoldic', 'undly': 'underlying', 'Pch': 'patch', 'cgl': 'conglomerate', '₵': 'core', 'ooc': 'oocastic', 'Inoc': 'inoceramus*', 'contm': 'contaminated', 'qtzt': 'quartzite', 'pris': 'prismatic', 'V.P.S.': 'very poor sample V.P.S.', '(D)': 'development', 'Scol': 'scolecodonts', 'OTS': 'oil to surface', 'mrl': 'marly', 'mott': 'mottled', 'Glos': 'gloss', 'chal': 'chalcedony', 'C': 'coal', 'OTD': 'old total depth', 'Rbl': 'rubble', 'gept': 'geopetal', 'Cor': 'coral', 'Glauc': 'glauconite', 'RT': 'rotary table', 'intpar': 'interparticle', 'S': 'sonic, acoustilog', 'fld': 'feldsparthic', 'flg': 'flaggy', 'Rk': 'rock', 'BWPH': 'barrels of water per hour', 'intercal': 'intercalated', 'sug': 'sugary', 'BWPD': 'barrels of water per day', 'suc': 'sucrosic', 'Micr': 'micrite', 'flk': 'flake', 'flt': 'faulted', 'S.W.C.': 'sidewall core', 'Slst': 'siltstone', 'xln': 'crystalline', 'Rem': 'remains', 'lse': 'loose', 'fls': 'flesh', 'tuf': 'tuffaceous', 'intstl': 'interstitial', 'pit': 'pitted', 's': 'small', 'plag': 'plagioclase', 'Bas': 'basalt', 'elong': 'elongate', 'SO&G': 'show of oil and gas', 'rf': 'reefoid', 'ck': 'choke', 'rd': 'rounded', 'indst': 'indistinct', 'volat': 'volatile', 'Stylio': 'styliolina*', 'SSO': 'slight show of oil', 'SO&W': 'show of oil and water', 'WCM': 'water cut mud', 'eqnt': 'equant', 'mnut': 'minute', 'Qtzt': 'quartzite', 'Ctgs': 'cuttings', 'BHCS': 'bore hole compensated sonic', 'ti': 'tight', 'Ren': 'renalcis*', 'lac': 'lacustrine', 'mag': 'magnetic', 'lam': 'laminated', 'fl/': 'flowing', 'GAP': 'good air blow', 'srt': 'sorting', 'mar': 'maroon', 'lav': 'lavender', 'mat': 'material, matter', 'Clcsp': 'calcisphere', 'ap': 'appears', 'Res': 'residue', 'Elev': 'elevation', 'Wtr': 'water', 'Amph': 'amphipora*', 'flor': 'fluorescence', 'Hal': 'halitiferous', 'olvn': 'olivine', 'Lith': 'lithology', 'p.p.': 'pin-poin', 'crm': 'cream', 'Gwke': 'graywacke', 'I.P.': 'in part', 'marn': 'marine', 'dolst': 'dolostone', 'p-p': 'pin point', 'spec': 'speckled', 'Wkst': 'wackestone', 'crs': 'coarse', 'crpxl': 'cryptocrystalline', 'Arag': 'aragonite', 'Frg': 'fringe', 'ireg': 'irregular', 'coqid': 'coquinaoid', 'spher': 'spherulitic', 'abnt': 'abundant', 'Circ': 'circulate', 'ind': 'indurated', 'Tp': 'top', 'Tr': 'trace', 'alg': 'algal', 'ptg': 'parting', 'yelsh': 'ish', 'nac': 'nacerous', 'Gran': 'granule', 'ig': 'igneous', 'Plcy': 'palecypod', 'cub': 'cubic', 'alt': 'altering', 'Sol': 'Soution', 'fen': 'fenestraal', 'Clst': 'claystone', 'biot': 'biotite', 'O&SW': 'oil and salt water', 'tr': 'trace', 'Assem': 'Assem', 'Su': 'sulphur', 'pbl': 'pebble (4-64 mm)', 'Moll': 'mollusc', 'plty': 'platy', 'Ool': 'oolite', 'bioh': 'biohermal', 'tn': 'tan', 'Cgl': 'conglomerate', 'Mrl': 'marl', 'Ooc': 'oolicast', 'scat': 'scattered', 'wtr': 'water', 'cotd gn': 'coated grains', 'Glas': 'glass', 'Styl': 'stylolite', 'strat': 'strataified', 'Pyrxn': 'pyroxene', 'x-bd': 'cross-bedded', 'depau': 'depauperate', 'peld': 'pelletoidal', 'slty': 'silty', 'bot': 'botryoidal', 'O str': 'Ostracod', 'O-Qtz': 'orthoquartzite', 'intgwn': 'intergrown', 'GR': 'gamma ray', 'bor': 'boreding', 'deer': 'decreasing', 'brhg': 'branching', 'Descr': 'description'}, 'amount': ['streaks?', 'veins?', 'stringers?', 'interbed(?:s|ded)?', 'blotch(?:es)?', 'bands?', 'fragments?', 'impurit(?:y|ies)', 'minor', 'some', 'abundant', 'rare', 'flakes?', '[-\\\\.\\\\d]+%']}"
      ]
     },
     "execution_count": 2,
     "metadata": {},
     "output_type": "execute_result"
    }
   ],
   "source": [
    "lexicon = Lexicon.default()\n",
    "lexicon"
   ]
  },
  {
   "cell_type": "code",
   "execution_count": 3,
   "metadata": {
    "collapsed": false
   },
   "outputs": [
    {
     "data": {
      "text/plain": [
       "'5.0.6'"
      ]
     },
     "execution_count": 3,
     "metadata": {},
     "output_type": "execute_result"
    }
   ],
   "source": [
    "import striplog\n",
    "striplog.__version__"
   ]
  },
  {
   "cell_type": "code",
   "execution_count": 4,
   "metadata": {
    "collapsed": false
   },
   "outputs": [
    {
     "data": {
      "text/plain": [
       "{'Anhydrite': ['Gypsum'],\n",
       " 'Overburden': ['Drift'],\n",
       " 'Salt': ['Halite', 'Sylvite']}"
      ]
     },
     "execution_count": 4,
     "metadata": {},
     "output_type": "execute_result"
    }
   ],
   "source": [
    "lexicon.synonyms"
   ]
  },
  {
   "cell_type": "markdown",
   "metadata": {},
   "source": [
    "Most of the lexicon works 'behind the scenes' when processing descriptions into `Rock` components."
   ]
  },
  {
   "cell_type": "code",
   "execution_count": 5,
   "metadata": {
    "collapsed": false
   },
   "outputs": [
    {
     "data": {
      "text/plain": [
       "'salt'"
      ]
     },
     "execution_count": 5,
     "metadata": {},
     "output_type": "execute_result"
    }
   ],
   "source": [
    "lexicon.find_synonym('Halite')"
   ]
  },
  {
   "cell_type": "code",
   "execution_count": 6,
   "metadata": {
    "collapsed": false
   },
   "outputs": [],
   "source": [
    "s = \"lt gn ss w/ sp gy sh\""
   ]
  },
  {
   "cell_type": "code",
   "execution_count": 7,
   "metadata": {
    "collapsed": false
   },
   "outputs": [
    {
     "data": {
      "text/plain": [
       "'lighter green sandstone with spotty gray shale'"
      ]
     },
     "execution_count": 7,
     "metadata": {},
     "output_type": "execute_result"
    }
   ],
   "source": [
    "lexicon.expand_abbreviations(s)"
   ]
  },
  {
   "cell_type": "markdown",
   "metadata": {},
   "source": [
    "<hr />"
   ]
  },
  {
   "cell_type": "markdown",
   "metadata": {},
   "source": [
    "## Component"
   ]
  },
  {
   "cell_type": "markdown",
   "metadata": {},
   "source": [
    "A set of attributes. All are optional."
   ]
  },
  {
   "cell_type": "code",
   "execution_count": 8,
   "metadata": {
    "collapsed": false
   },
   "outputs": [],
   "source": [
    "from striplog import Component"
   ]
  },
  {
   "cell_type": "code",
   "execution_count": 9,
   "metadata": {
    "collapsed": false
   },
   "outputs": [
    {
     "name": "stdout",
     "output_type": "stream",
     "text": [
      "\n",
      "    Initialize with a dictionary of properties. You can use any\n",
      "    properties you want e.g.:\n",
      "\n",
      "        - lithology: a simple one-word rock type\n",
      "        - colour, e.g. 'grey'\n",
      "        - grainsize or range, e.g. 'vf-f'\n",
      "        - modifier, e.g. 'rippled'\n",
      "        - quantity, e.g. '35%', or 'stringers'\n",
      "        - description, e.g. from cuttings\n",
      "\n",
      "    You can include as many other things as you want, e.g.\n",
      "\n",
      "        - porosity\n",
      "        - cementation\n",
      "        - lithology code\n",
      "    \n"
     ]
    }
   ],
   "source": [
    "print(Component.__doc__)"
   ]
  },
  {
   "cell_type": "markdown",
   "metadata": {},
   "source": [
    "We define a new rock with a Python `dict` object:"
   ]
  },
  {
   "cell_type": "code",
   "execution_count": 10,
   "metadata": {
    "collapsed": false
   },
   "outputs": [
    {
     "data": {
      "text/plain": [
       "Component(\"colour\":\"grey\", \"grainsize\":\"vf-f\", \"lithology\":\"sand\")"
      ]
     },
     "execution_count": 10,
     "metadata": {},
     "output_type": "execute_result"
    }
   ],
   "source": [
    "r = {'colour': 'grey',\n",
    "     'grainsize': 'vf-f',\n",
    "     'lithology': 'sand'}\n",
    "rock = Component(r)\n",
    "rock"
   ]
  },
  {
   "cell_type": "code",
   "execution_count": 11,
   "metadata": {
    "collapsed": false
   },
   "outputs": [
    {
     "data": {
      "text/plain": [
       "striplog.component.Component"
      ]
     },
     "execution_count": 11,
     "metadata": {},
     "output_type": "execute_result"
    }
   ],
   "source": [
    "type(rock)"
   ]
  },
  {
   "cell_type": "markdown",
   "metadata": {},
   "source": [
    "The Rock has a colour:"
   ]
  },
  {
   "cell_type": "code",
   "execution_count": 12,
   "metadata": {
    "collapsed": false
   },
   "outputs": [
    {
     "data": {
      "text/plain": [
       "'grey'"
      ]
     },
     "execution_count": 12,
     "metadata": {},
     "output_type": "execute_result"
    }
   ],
   "source": [
    "rock.colour"
   ]
  },
  {
   "cell_type": "markdown",
   "metadata": {},
   "source": [
    "And it has a summary, which is generated from its attributes. "
   ]
  },
  {
   "cell_type": "code",
   "execution_count": 13,
   "metadata": {
    "collapsed": false
   },
   "outputs": [
    {
     "data": {
      "text/plain": [
       "'Grey, vf-f, sand'"
      ]
     },
     "execution_count": 13,
     "metadata": {},
     "output_type": "execute_result"
    }
   ],
   "source": [
    "rock.summary()"
   ]
  },
  {
   "cell_type": "markdown",
   "metadata": {},
   "source": [
    "We can format the summary if we wish:"
   ]
  },
  {
   "cell_type": "code",
   "execution_count": 14,
   "metadata": {
    "collapsed": false
   },
   "outputs": [
    {
     "data": {
      "text/plain": [
       "'My rock: sand (grey, VF-F)'"
      ]
     },
     "execution_count": 14,
     "metadata": {},
     "output_type": "execute_result"
    }
   ],
   "source": [
    "rock.summary(fmt=\"My rock: {lithology} ({colour}, {GRAINSIZE})\")"
   ]
  },
  {
   "cell_type": "markdown",
   "metadata": {},
   "source": [
    "We can compare rocks with the usual `==` operator: "
   ]
  },
  {
   "cell_type": "code",
   "execution_count": 15,
   "metadata": {
    "collapsed": false
   },
   "outputs": [
    {
     "data": {
      "text/plain": [
       "True"
      ]
     },
     "execution_count": 15,
     "metadata": {},
     "output_type": "execute_result"
    }
   ],
   "source": [
    "rock2 = Component({'grainsize': 'VF-F',\n",
    "              'colour': 'Grey',\n",
    "              'lithology': 'Sand'})\n",
    "rock == rock2"
   ]
  },
  {
   "cell_type": "code",
   "execution_count": 16,
   "metadata": {
    "collapsed": false
   },
   "outputs": [
    {
     "data": {
      "text/plain": [
       "False"
      ]
     },
     "execution_count": 16,
     "metadata": {},
     "output_type": "execute_result"
    }
   ],
   "source": [
    "rock3 = Component({'grainsize': 'Coarse',\n",
    "              'colour': 'Grey',\n",
    "              'lithology': 'Sand'})\n",
    "rock == rock3"
   ]
  },
  {
   "cell_type": "markdown",
   "metadata": {},
   "source": [
    "In order to create a Rock object from text, we need a lexicon to compare the text against. The lexicon describes the language we want to extract, and what it means. More on lexicons later."
   ]
  },
  {
   "cell_type": "code",
   "execution_count": 17,
   "metadata": {
    "collapsed": false
   },
   "outputs": [],
   "source": [
    "from striplog import Lexicon"
   ]
  },
  {
   "cell_type": "code",
   "execution_count": 18,
   "metadata": {
    "collapsed": false
   },
   "outputs": [],
   "source": [
    "lexicon = Lexicon.default()"
   ]
  },
  {
   "cell_type": "code",
   "execution_count": 19,
   "metadata": {
    "collapsed": false
   },
   "outputs": [
    {
     "data": {
      "text/plain": [
       "Component(\"colour\":\"grey\", \"grainsize\":\"fine\", \"lithology\":\"sandstone\")"
      ]
     },
     "execution_count": 19,
     "metadata": {},
     "output_type": "execute_result"
    }
   ],
   "source": [
    "rock3 = Component.from_text('Grey fine sandstone.', lexicon)\n",
    "rock3"
   ]
  },
  {
   "cell_type": "code",
   "execution_count": 20,
   "metadata": {
    "collapsed": false
   },
   "outputs": [
    {
     "data": {
      "text/plain": [
       "Component(\"colour\":\"grey\", \"grainsize\":\"vf-f\", \"lithology\":\"sandstone\")"
      ]
     },
     "execution_count": 20,
     "metadata": {},
     "output_type": "execute_result"
    }
   ],
   "source": [
    "rock4 = Component.from_text('Grey, sandstone, vf-f ', lexicon)\n",
    "rock4"
   ]
  },
  {
   "cell_type": "markdown",
   "metadata": {},
   "source": [
    "<hr />"
   ]
  },
  {
   "cell_type": "markdown",
   "metadata": {},
   "source": [
    "## Decor"
   ]
  },
  {
   "cell_type": "code",
   "execution_count": 21,
   "metadata": {
    "collapsed": false
   },
   "outputs": [],
   "source": [
    "from striplog import Decor\n",
    "\n",
    "import matplotlib.pyplot as plt\n",
    "%matplotlib inline"
   ]
  },
  {
   "cell_type": "markdown",
   "metadata": {},
   "source": [
    "A Decor attaches a display style to a Rock. "
   ]
  },
  {
   "cell_type": "code",
   "execution_count": 22,
   "metadata": {
    "collapsed": false
   },
   "outputs": [
    {
     "name": "stdout",
     "output_type": "stream",
     "text": [
      "\n",
      "    A single display style. A Decor describes how to display a given set\n",
      "    of Component properties.\n",
      "\n",
      "    In general, you will not usually use a Decor on its own. Instead, you\n",
      "    will want to use a Legend, which is just a list of Decors, and leave\n",
      "    the Decors to the Legend.\n",
      "\n",
      "    Args:\n",
      "      params (dict): The parameters you want in the Decor. There must be a\n",
      "        Component to attach the decoration to, and at least 1 other attribute.\n",
      "        It's completely up to you, but you probably want at least a colour\n",
      "        (hex names like #AAA or #d3d3d3, or matplotlib's English-language\n",
      "        names listed at http://ageo.co/modelrcolour are acceptable.\n",
      "\n",
      "        The only other parameter the class recognizes for now is 'width',\n",
      "        which is the width of the striplog element.\n",
      "\n",
      "    Example:\n",
      "      my_rock = Component({ ... })\n",
      "      d = {'component': my_rock, 'colour': 'red'}\n",
      "      my_decor = Decor(d)\n",
      "    \n"
     ]
    }
   ],
   "source": [
    "print(Decor.__doc__)"
   ]
  },
  {
   "cell_type": "markdown",
   "metadata": {},
   "source": [
    "Like `Rock`s, we instantiate `Decor`s with a `dict` of properties:"
   ]
  },
  {
   "cell_type": "code",
   "execution_count": 23,
   "metadata": {
    "collapsed": false
   },
   "outputs": [
    {
     "data": {
      "text/plain": [
       "Decor(component='\"colour\":\"grey\", \"grainsize\":\"vf-f\", \"lithology\":\"sand\"', colour='#86f0b6', width='3.0')"
      ]
     },
     "execution_count": 23,
     "metadata": {},
     "output_type": "execute_result"
    }
   ],
   "source": [
    "d = {'color': '#86F0B6',\n",
    "     'component': rock,\n",
    "     'width': 3}\n",
    "decor = Decor(d)\n",
    "decor"
   ]
  },
  {
   "cell_type": "markdown",
   "metadata": {},
   "source": [
    "You can access its attributes. It has two ways to understand colour:"
   ]
  },
  {
   "cell_type": "code",
   "execution_count": 24,
   "metadata": {
    "collapsed": false
   },
   "outputs": [
    {
     "data": {
      "text/plain": [
       "'#86f0b6'"
      ]
     },
     "execution_count": 24,
     "metadata": {},
     "output_type": "execute_result"
    }
   ],
   "source": [
    "decor.colour"
   ]
  },
  {
   "cell_type": "code",
   "execution_count": 25,
   "metadata": {
    "collapsed": false
   },
   "outputs": [
    {
     "data": {
      "text/plain": [
       "(134, 240, 182)"
      ]
     },
     "execution_count": 25,
     "metadata": {},
     "output_type": "execute_result"
    }
   ],
   "source": [
    "decor.rgb"
   ]
  },
  {
   "cell_type": "code",
   "execution_count": 26,
   "metadata": {
    "collapsed": false
   },
   "outputs": [
    {
     "data": {
      "image/png": "[encoded data removed]",
      "text/plain": [
       "<matplotlib.figure.Figure at 0x10ab5fe50>"
      ]
     },
     "metadata": {},
     "output_type": "display_data"
    }
   ],
   "source": [
    "decor.plot()"
   ]
  },
  {
   "cell_type": "markdown",
   "metadata": {},
   "source": [
    "<hr />"
   ]
  },
  {
   "cell_type": "markdown",
   "metadata": {},
   "source": [
    "## Legend"
   ]
  },
  {
   "cell_type": "code",
   "execution_count": 27,
   "metadata": {
    "collapsed": false
   },
   "outputs": [
    {
     "name": "stdout",
     "output_type": "stream",
     "text": [
      "\n",
      "    A look-up table to assist in the conversion of Components to\n",
      "    a plot colour.\n",
      "\n",
      "    Args:\n",
      "        list_of_Decors (list): The decors to collect into a legend. In\n",
      "            general, you will want to leave legend building to the constructor\n",
      "            class methods, `Legend.default()`, and `Legend.from_csv(string)`.\n",
      "            We can add others over time, such as `from_xls` and so on.\n",
      "    \n"
     ]
    }
   ],
   "source": [
    "from striplog import Legend\n",
    "print(Legend.__doc__)"
   ]
  },
  {
   "cell_type": "markdown",
   "metadata": {},
   "source": [
    "We'll define a legend in a CSV file. I can't think of a better way for now. It would be easy to make a web form to facilitate this with, for example, a colour picker. It may not be worth it, though; I imagine one would create one and then leave it alone most of the time. "
   ]
  },
  {
   "cell_type": "code",
   "execution_count": 28,
   "metadata": {
    "collapsed": false
   },
   "outputs": [],
   "source": [
    "l = u\"\"\"colour, width, component lithology, component colour, component grainsize\n",
    "#FFFFFF, 0, , , \n",
    "#F7E9A6, 3, Sandstone, Grey, VF-F\n",
    "#FF99CC, 2, Anhydrite, , \n",
    "#DBD6BC, 3, Heterolithic, Grey, \n",
    "#FF4C4A, 2, Volcanic, , \n",
    "#86F0B6, 5, Conglomerate, , \n",
    "#FF96F6, 2, Halite, , \n",
    "#F2FF42, 4, Sandstone, Grey, F-M\n",
    "#DBC9BC, 3, Heterolithic, Red, \n",
    "#A68374, 2, Siltstone, Grey, \n",
    "#A657FA, 3, Dolomite, , \n",
    "#FFD073, 4, Sandstone, Red, C-M\n",
    "#A6D1FF, 3, Limestone, , \n",
    "#FFDBBA, 3, Sandstone, Red, VF-F\n",
    "#FFE040, 4, Sandstone, Grey, C-M\n",
    "#A1655A, 2, Siltstone, Red, \n",
    "#363434, 1, Coal, , \n",
    "#664A4A, 1, Mudstone, Red, \n",
    "#666666, 1, Mudstone, Grey, \"\"\""
   ]
  },
  {
   "cell_type": "code",
   "execution_count": 29,
   "metadata": {
    "collapsed": false
   },
   "outputs": [
    {
     "data": {
      "text/plain": [
       "Legend(component='', colour='#ffffff', width='0.0'\n",
       "component='\"colour\":\"grey\", \"grainsize\":\"vf-f\", \"lithology\":\"sandstone\"', colour='#f7e9a6', width='3.0'\n",
       "component='\"lithology\":\"anhydrite\"', colour='#ff99cc', width='2.0'\n",
       "component='\"colour\":\"grey\", \"lithology\":\"heterolithic\"', colour='#dbd6bc', width='3.0'\n",
       "component='\"lithology\":\"volcanic\"', colour='#ff4c4a', width='2.0')"
      ]
     },
     "execution_count": 29,
     "metadata": {},
     "output_type": "execute_result"
    }
   ],
   "source": [
    "legend = Legend.from_csv(l)\n",
    "legend[:5]"
   ]
  },
  {
   "cell_type": "code",
   "execution_count": 30,
   "metadata": {
    "collapsed": false
   },
   "outputs": [
    {
     "name": "stdout",
     "output_type": "stream",
     "text": [
      "colour,width,component colour,component grainsize,component lithology\n",
      "#ffffff,0.0,,,,\n",
      "#f7e9a6,3.0,grey,vf-f,sandstone,\n",
      "#ff99cc,2.0,,,anhydrite,\n",
      "#dbd6bc,3.0,grey,,heterolithic,\n",
      "#ff4c4a,2.0,,,volcanic,\n",
      "#86f0b6,5.0,,,conglomerate,\n",
      "#ff96f6,2.0,,,halite,\n",
      "#f2ff42,4.0,grey,f-m,sandstone,\n",
      "#dbc9bc,3.0,red,,heterolithic,\n",
      "#a68374,2.0,grey,,siltstone,\n",
      "#a657fa,3.0,,,dolomite,\n",
      "#ffd073,4.0,red,c-m,sandstone,\n",
      "#a6d1ff,3.0,,,limestone,\n",
      "#ffdbba,3.0,red,vf-f,sandstone,\n",
      "#ffe040,4.0,grey,c-m,sandstone,\n",
      "#a1655a,2.0,red,,siltstone,\n",
      "#363434,1.0,,,coal,\n",
      "#664a4a,1.0,red,,mudstone,\n",
      "#666666,1.0,grey,,mudstone,\n",
      "\n"
     ]
    }
   ],
   "source": [
    "legend = Legend.default()\n",
    "print(legend.to_csv())"
   ]
  },
  {
   "cell_type": "markdown",
   "metadata": {},
   "source": [
    "In fact, this is the default legend. "
   ]
  },
  {
   "cell_type": "code",
   "execution_count": 31,
   "metadata": {
    "collapsed": false
   },
   "outputs": [
    {
     "data": {
      "text/plain": [
       "Legend(component='', colour='#ffffff', width='0.0'\n",
       "component='\"colour\":\"grey\", \"grainsize\":\"vf-f\", \"lithology\":\"sandstone\"', colour='#f7e9a6', width='3.0'\n",
       "component='\"lithology\":\"anhydrite\"', colour='#ff99cc', width='2.0'\n",
       "component='\"colour\":\"grey\", \"lithology\":\"heterolithic\"', colour='#dbd6bc', width='3.0'\n",
       "component='\"lithology\":\"volcanic\"', colour='#ff4c4a', width='2.0'\n",
       "component='\"lithology\":\"conglomerate\"', colour='#86f0b6', width='5.0'\n",
       "component='\"lithology\":\"halite\"', colour='#ff96f6', width='2.0'\n",
       "component='\"colour\":\"grey\", \"grainsize\":\"f-m\", \"lithology\":\"sandstone\"', colour='#f2ff42', width='4.0'\n",
       "component='\"colour\":\"red\", \"lithology\":\"heterolithic\"', colour='#dbc9bc', width='3.0'\n",
       "component='\"colour\":\"grey\", \"lithology\":\"siltstone\"', colour='#a68374', width='2.0'\n",
       "component='\"lithology\":\"dolomite\"', colour='#a657fa', width='3.0'\n",
       "component='\"colour\":\"red\", \"grainsize\":\"c-m\", \"lithology\":\"sandstone\"', colour='#ffd073', width='4.0'\n",
       "component='\"lithology\":\"limestone\"', colour='#a6d1ff', width='3.0'\n",
       "component='\"colour\":\"red\", \"grainsize\":\"vf-f\", \"lithology\":\"sandstone\"', colour='#ffdbba', width='3.0'\n",
       "component='\"colour\":\"grey\", \"grainsize\":\"c-m\", \"lithology\":\"sandstone\"', colour='#ffe040', width='4.0'\n",
       "component='\"colour\":\"red\", \"lithology\":\"siltstone\"', colour='#a1655a', width='2.0'\n",
       "component='\"lithology\":\"coal\"', colour='#363434', width='1.0'\n",
       "component='\"colour\":\"red\", \"lithology\":\"mudstone\"', colour='#664a4a', width='1.0'\n",
       "component='\"colour\":\"grey\", \"lithology\":\"mudstone\"', colour='#666666', width='1.0')"
      ]
     },
     "execution_count": 31,
     "metadata": {},
     "output_type": "execute_result"
    }
   ],
   "source": [
    "Legend.default()"
   ]
  },
  {
   "cell_type": "markdown",
   "metadata": {},
   "source": [
    "We can ask the Legend what colour to use for a given Rock object:"
   ]
  },
  {
   "cell_type": "code",
   "execution_count": 32,
   "metadata": {
    "collapsed": false
   },
   "outputs": [
    {
     "data": {
      "text/plain": [
       "'#eeeeee'"
      ]
     },
     "execution_count": 32,
     "metadata": {},
     "output_type": "execute_result"
    }
   ],
   "source": [
    "legend.get_colour(rock)"
   ]
  },
  {
   "cell_type": "code",
   "execution_count": 33,
   "metadata": {
    "collapsed": false
   },
   "outputs": [
    {
     "data": {
      "text/plain": [
       "'#ffdbba'"
      ]
     },
     "execution_count": 33,
     "metadata": {},
     "output_type": "execute_result"
    }
   ],
   "source": [
    "rock3 = Component({'colour': 'red',\n",
    "           'grainsize': 'vf-f',\n",
    "           'lithology': 'sandstone'})\n",
    "legend.get_colour(rock3)"
   ]
  },
  {
   "cell_type": "markdown",
   "metadata": {},
   "source": [
    "Sometimes we also want to use a width for a given lithology:"
   ]
  },
  {
   "cell_type": "code",
   "execution_count": 34,
   "metadata": {
    "collapsed": false
   },
   "outputs": [
    {
     "data": {
      "text/plain": [
       "3.0"
      ]
     },
     "execution_count": 34,
     "metadata": {},
     "output_type": "execute_result"
    }
   ],
   "source": [
    "legend.get_width(rock3)"
   ]
  },
  {
   "cell_type": "markdown",
   "metadata": {},
   "source": [
    "We can also ask the legend which Rock is represented by a particular colour. (I doubt you'd ever really need to do this, but I had to implement this to allow you to make a `Striplog` from an image: it looks up the rocks to use by colour.)"
   ]
  },
  {
   "cell_type": "code",
   "execution_count": 35,
   "metadata": {
    "collapsed": false
   },
   "outputs": [
    {
     "data": {
      "text/plain": [
       "Component(\"grainsize\":\"vf-f\", \"colour\":\"grey\", \"lithology\":\"sandstone\")"
      ]
     },
     "execution_count": 35,
     "metadata": {},
     "output_type": "execute_result"
    }
   ],
   "source": [
    "legend.get_component('#f7e9a6')"
   ]
  },
  {
   "cell_type": "markdown",
   "metadata": {},
   "source": [
    "The `Legend` behaves more or less like a list, so we can index into it:"
   ]
  },
  {
   "cell_type": "code",
   "execution_count": 36,
   "metadata": {
    "collapsed": false
   },
   "outputs": [
    {
     "data": {
      "text/plain": [
       "Legend(component='\"colour\":\"grey\", \"lithology\":\"heterolithic\"', colour='#dbd6bc', width='3.0'\n",
       "component='\"lithology\":\"volcanic\"', colour='#ff4c4a', width='2.0')"
      ]
     },
     "execution_count": 36,
     "metadata": {},
     "output_type": "execute_result"
    }
   ],
   "source": [
    "legend[3:5]"
   ]
  },
  {
   "cell_type": "markdown",
   "metadata": {},
   "source": [
    "`Legend`s can plot themselves. "
   ]
  },
  {
   "cell_type": "code",
   "execution_count": 37,
   "metadata": {
    "collapsed": false
   },
   "outputs": [
    {
     "data": {
      "image/png": "[encoded data removed]",
      "text/plain": [
       "<matplotlib.figure.Figure at 0x10ad0b210>"
      ]
     },
     "metadata": {},
     "output_type": "display_data"
    },
    {
     "data": {
      "image/png": "[encoded data removed]",
      "text/plain": [
       "<matplotlib.figure.Figure at 0x10ad2cbd0>"
      ]
     },
     "metadata": {},
     "output_type": "display_data"
    },
    {
     "data": {
      "image/png": "[encoded data removed]",
      "text/plain": [
       "<matplotlib.figure.Figure at 0x10ad81110>"
      ]
     },
     "metadata": {},
     "output_type": "display_data"
    },
    {
     "data": {
      "image/png": "[encoded data removed]",
      "text/plain": [
       "<matplotlib.figure.Figure at 0x10add4e90>"
      ]
     },
     "metadata": {},
     "output_type": "display_data"
    },
    {
     "data": {
      "image/png": "[encoded data removed]",
      "text/plain": [
       "<matplotlib.figure.Figure at 0x10ae2af50>"
      ]
     },
     "metadata": {},
     "output_type": "display_data"
    },
    {
     "data": {
      "image/png": "[encoded data removed]",
      "text/plain": [
       "<matplotlib.figure.Figure at 0x10ae82fd0>"
      ]
     },
     "metadata": {},
     "output_type": "display_data"
    },
    {
     "data": {
      "image/png": "[encoded data removed]",
      "text/plain": [
       "<matplotlib.figure.Figure at 0x10aee10d0>"
      ]
     },
     "metadata": {},
     "output_type": "display_data"
    },
    {
     "data": {
      "image/png": "[encoded data removed]",
      "text/plain": [
       "<matplotlib.figure.Figure at 0x10aee1e90>"
      ]
     },
     "metadata": {},
     "output_type": "display_data"
    },
    {
     "data": {
      "image/png": "[encoded data removed]",
      "text/plain": [
       "<matplotlib.figure.Figure at 0x10adaf8d0>"
      ]
     },
     "metadata": {},
     "output_type": "display_data"
    },
    {
     "data": {
      "image/png": "[encoded data removed]",
      "text/plain": [
       "<matplotlib.figure.Figure at 0x10abbf090>"
      ]
     },
     "metadata": {},
     "output_type": "display_data"
    },
    {
     "data": {
      "image/png": "[encoded data removed]",
      "text/plain": [
       "<matplotlib.figure.Figure at 0x10ae79110>"
      ]
     },
     "metadata": {},
     "output_type": "display_data"
    },
    {
     "data": {
      "image/png": "[encoded data removed]",
      "text/plain": [
       "<matplotlib.figure.Figure at 0x10ae19810>"
      ]
     },
     "metadata": {},
     "output_type": "display_data"
    },
    {
     "data": {
      "image/png": "[encoded data removed]",
      "text/plain": [
       "<matplotlib.figure.Figure at 0x10ae952d0>"
      ]
     },
     "metadata": {},
     "output_type": "display_data"
    },
    {
     "data": {
      "image/png": "[encoded data removed]",
      "text/plain": [
       "<matplotlib.figure.Figure at 0x10ad6f350>"
      ]
     },
     "metadata": {},
     "output_type": "display_data"
    },
    {
     "data": {
      "image/png": "[encoded data removed]",
      "text/plain": [
       "<matplotlib.figure.Figure at 0x10b040410>"
      ]
     },
     "metadata": {},
     "output_type": "display_data"
    },
    {
     "data": {
      "image/png": "[encoded data removed]",
      "text/plain": [
       "<matplotlib.figure.Figure at 0x10b098490>"
      ]
     },
     "metadata": {},
     "output_type": "display_data"
    },
    {
     "data": {
      "image/png": "[encoded data removed]",
      "text/plain": [
       "<matplotlib.figure.Figure at 0x10b0ef510>"
      ]
     },
     "metadata": {},
     "output_type": "display_data"
    },
    {
     "data": {
      "image/png": "[encoded data removed]",
      "text/plain": [
       "<matplotlib.figure.Figure at 0x10b146610>"
      ]
     },
     "metadata": {},
     "output_type": "display_data"
    },
    {
     "data": {
      "image/png": "[encoded data removed]",
      "text/plain": [
       "<matplotlib.figure.Figure at 0x10b171390>"
      ]
     },
     "metadata": {},
     "output_type": "display_data"
    }
   ],
   "source": [
    "legend.plot()"
   ]
  },
  {
   "cell_type": "markdown",
   "metadata": {},
   "source": [
    "<hr />"
   ]
  },
  {
   "cell_type": "markdown",
   "metadata": {},
   "source": [
    "## Interval"
   ]
  },
  {
   "cell_type": "code",
   "execution_count": 38,
   "metadata": {
    "collapsed": false
   },
   "outputs": [
    {
     "name": "stdout",
     "output_type": "stream",
     "text": [
      "\n",
      "    Used to represent a lithologic or stratigraphic interval, or single point,\n",
      "    such as a sample location.\n",
      "\n",
      "    Initialize with a top (and optional base) and a description and/or\n",
      "    an ordered list of components.\n",
      "\n",
      "    Args:\n",
      "        top (float): Required top depth. Required.\n",
      "        base (float): Base depth. Optional.\n",
      "        lexicon (dict): A lexicon. See documentation. Optional unless you only\n",
      "            provide descriptions, because it's needed to extract components.\n",
      "        max_component (int): The number of components to extract. Default 1.\n",
      "        abbreviations (bool): Whether to parse for abbreviations.\n",
      "\n",
      "    \n"
     ]
    }
   ],
   "source": [
    "from striplog import Interval\n",
    "print(Interval.__doc__)"
   ]
  },
  {
   "cell_type": "code",
   "execution_count": 39,
   "metadata": {
    "collapsed": false
   },
   "outputs": [
    {
     "data": {
      "text/plain": [
       "Interval(top: 20.0, base: 40.0, description: 'Grey sandstone.', components: [Component(\"colour\":\"grey\", \"lithology\":\"sandstone\")])"
      ]
     },
     "execution_count": 39,
     "metadata": {},
     "output_type": "execute_result"
    }
   ],
   "source": [
    "interval = Interval(20, 40, \"Grey sandstone.\", lexicon=lexicon)\n",
    "interval"
   ]
  },
  {
   "cell_type": "markdown",
   "metadata": {},
   "source": [
    "`Interval`s have a `primary` attribute, which holds the first component, no matter how many components there are."
   ]
  },
  {
   "cell_type": "code",
   "execution_count": 40,
   "metadata": {
    "collapsed": false
   },
   "outputs": [
    {
     "data": {
      "text/plain": [
       "Component(\"colour\":\"grey\", \"lithology\":\"sandstone\")"
      ]
     },
     "execution_count": 40,
     "metadata": {},
     "output_type": "execute_result"
    }
   ],
   "source": [
    "interval.primary"
   ]
  },
  {
   "cell_type": "markdown",
   "metadata": {},
   "source": [
    "Ask for the summary to see the thickness and a `Rock` summary of the primary component. Note that the format code only applies to the `Rock` part of the summary."
   ]
  },
  {
   "cell_type": "code",
   "execution_count": 41,
   "metadata": {
    "collapsed": false
   },
   "outputs": [
    {
     "data": {
      "text/plain": [
       "'20.00 m of grey sandstone'"
      ]
     },
     "execution_count": 41,
     "metadata": {},
     "output_type": "execute_result"
    }
   ],
   "source": [
    "interval.summary(fmt=\"{colour} {lithology}\")"
   ]
  },
  {
   "cell_type": "markdown",
   "metadata": {},
   "source": [
    "We can compare intervals, based on their thickness. Let's make one which is 5 m thicker than the prvious one."
   ]
  },
  {
   "cell_type": "code",
   "execution_count": 42,
   "metadata": {
    "collapsed": false
   },
   "outputs": [],
   "source": [
    "interval_2 = Interval(40, 65, \"Red sandstone.\", lexicon=lexicon)"
   ]
  },
  {
   "cell_type": "code",
   "execution_count": 43,
   "metadata": {
    "collapsed": false
   },
   "outputs": [
    {
     "name": "stdout",
     "output_type": "stream",
     "text": [
      "False\n",
      "True\n",
      "25.00 m of red, sandstone\n"
     ]
    }
   ],
   "source": [
    "print(interval_2 == interval)\n",
    "print(interval_2 > interval)\n",
    "print(max(interval, interval_2).summary())"
   ]
  },
  {
   "cell_type": "markdown",
   "metadata": {},
   "source": [
    "We can combine intervals with the `+` operator. (However, you cannot subtract intervals.)"
   ]
  },
  {
   "cell_type": "code",
   "execution_count": 44,
   "metadata": {
    "collapsed": false
   },
   "outputs": [
    {
     "data": {
      "text/plain": [
       "Interval(top: 20.0, base: 65.0, description: '55.6% Red sandstone with 44.4% Grey sandstone', components: [Component(\"colour\":\"red\", \"lithology\":\"sandstone\"), Component(\"colour\":\"grey\", \"lithology\":\"sandstone\")])"
      ]
     },
     "execution_count": 44,
     "metadata": {},
     "output_type": "execute_result"
    }
   ],
   "source": [
    "interval_2 + interval"
   ]
  },
  {
   "cell_type": "markdown",
   "metadata": {},
   "source": [
    "If we add a number to an `interval`, it adds thickness to the base."
   ]
  },
  {
   "cell_type": "code",
   "execution_count": 45,
   "metadata": {
    "collapsed": false
   },
   "outputs": [
    {
     "data": {
      "text/plain": [
       "Interval(top: 20.0, base: 45.0, description: 'Grey sandstone.', components: [Component(\"colour\":\"grey\", \"lithology\":\"sandstone\")])"
      ]
     },
     "execution_count": 45,
     "metadata": {},
     "output_type": "execute_result"
    }
   ],
   "source": [
    "interval + 5"
   ]
  },
  {
   "cell_type": "markdown",
   "metadata": {},
   "source": [
    "Adding a rock adds a (minor) component and adds to the description. "
   ]
  },
  {
   "cell_type": "code",
   "execution_count": 46,
   "metadata": {
    "collapsed": false
   },
   "outputs": [
    {
     "data": {
      "text/plain": [
       "Interval(top: 20.0, base: 40.0, description: 'Grey sandstone. with Vf-f, red, sandstone', components: [Component(\"colour\":\"grey\", \"lithology\":\"sandstone\"), Component(\"grainsize\":\"vf-f\", \"colour\":\"red\", \"lithology\":\"sandstone\")])"
      ]
     },
     "execution_count": 46,
     "metadata": {},
     "output_type": "execute_result"
    }
   ],
   "source": [
    "interval + rock3"
   ]
  },
  {
   "cell_type": "markdown",
   "metadata": {},
   "source": [
    "<hr />\n",
    "\n",
    "<p style=\"color:gray\">©2015 Agile Geoscience. Licensed CC-BY. <a href=\"https://github.com/agile-geoscience/striplog\">striplog.py</a></p>"
   ]
  }
 ],
 "metadata": {
  "kernelspec": {
   "display_name": "Python 3",
   "language": "python",
   "name": "python3"
  },
  "language_info": {
   "codemirror_mode": {
    "name": "ipython",
    "version": 3
   },
   "file_extension": ".py",
   "mimetype": "text/x-python",
   "name": "python",
   "nbconvert_exporter": "python",
   "pygments_lexer": "ipython3",
   "version": "3.3.5"
  }
 },
 "nbformat": 4,
 "nbformat_minor": 0
}
