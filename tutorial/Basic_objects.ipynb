{
 "metadata": {
  "name": "",
  "signature": "sha256:09a4960dd4f24f6941b3ddb8da8f7d50a1347c58a5a9a394d0a36f42e5400491"
 },
 "nbformat": 3,
 "nbformat_minor": 0,
 "worksheets": [
  {
   "cells": [
    {
     "cell_type": "heading",
     "level": 1,
     "metadata": {},
     "source": [
      "Basic objects"
     ]
    },
    {
     "cell_type": "markdown",
     "metadata": {},
     "source": [
      "A `striplog` depends on a hierarchy of objects. This notebook shows the objects and their basic functionality.\n",
      "\n",
      "- [Lexicon](#Lexicon): A dictionary containing the words and word categories to use for rock descriptions.\n",
      "- [Rock](#Rock): A set of attributes. \n",
      "- [Decor](#Decor): One element from a legend \u2014\u00a0describes how to display a Rock.\n",
      "- [Legend](#Legend): A set of Decors\u00a0\u2014\u00a0describes how to display a set of Rocks or a Striplog.\n",
      "- [Interval](#Interval): One element from a Striplog \u2014\u00a0consists of a top, base, a description, a Rock, and a source.\n",
      "- [Striplog](#Stripog): A set of Intervals."
     ]
    },
    {
     "cell_type": "heading",
     "level": 3,
     "metadata": {},
     "source": [
      "To do"
     ]
    },
    {
     "cell_type": "markdown",
     "metadata": {},
     "source": [
      "The text `description` should probably be an object of its own, subclassing `str`. This would allow it to hold a provenance, and some of the language functions currently awkwardly held in `Interval`, such as `__split_description()` and `__parse_description()`."
     ]
    },
    {
     "cell_type": "markdown",
     "metadata": {},
     "source": [
      "<hr />"
     ]
    },
    {
     "cell_type": "heading",
     "level": 2,
     "metadata": {},
     "source": [
      "Lexicon"
     ]
    },
    {
     "cell_type": "code",
     "collapsed": false,
     "input": [
      "from lexicon import Lexicon\n",
      "print Lexicon.__doc__"
     ],
     "language": "python",
     "metadata": {},
     "outputs": [
      {
       "output_type": "stream",
       "stream": "stdout",
       "text": [
        "\n",
        "    A Lexicon is a dictionary of 'types' and regex patterns.\n",
        "\n",
        "    Most commonly you will just load the default one.\n",
        "\n",
        "    Args:\n",
        "        params (dict): The dictionary to use. For an example, refer to the\n",
        "            default lexicon in ``defaults.py``.\n",
        "    \n"
       ]
      }
     ],
     "prompt_number": 9
    },
    {
     "cell_type": "code",
     "collapsed": false,
     "input": [
      "lexicon = Lexicon.default()\n",
      "lexicon"
     ],
     "language": "python",
     "metadata": {},
     "outputs": [
      {
       "metadata": {},
       "output_type": "pyout",
       "prompt_number": 10,
       "text": [
        "{'lithology': ['overburden', 'sandstone', 'siltstone', 'shale', 'mudstone', 'limestone', 'dolomite', 'salt', 'halite', 'anhydrite', 'gypsum', 'sylvite', 'clay', 'mud', 'silt', 'sand', 'gravel', 'boulders'], 'colour': ['red(?:dish)?', 'gray(?:ish)?', 'grey(?:ish)?', 'black(?:ish)?', 'whit(?:e|ish)', 'blu(?:e|ish)', 'purpl(?:e|ish)', 'yellow(?:ish)?', 'green(?:ish)?', 'brown(?:ish)?', 'light', 'dark', 'sandy'], 'synonyms': {'Overburden': ['Drift'], 'Salt': ['Halite', 'Sylvite'], 'Anhydrite': ['Gypsum']}, 'grainsize': ['vf(?:-)?', 'f(?:-)?', 'm(?:-)?', 'c(?:-)?', 'vc', 'very fine(?: to)?', 'fine(?: to)?', 'medium(?: to)?', 'coarse(?: to)?', 'very coarse', 'v fine(?: to)?', 'med(?: to)?', 'med.(?: to)?', 'v coarse', 'grains?', 'granules?', 'pebbles?', 'cobbles?', 'boulders?'], 'amount': ['streaks?', 'veins?', 'stringers?', 'interbed(?:s|ded)?', 'blotch(?:es)?', 'bands?', 'fragments?', 'impurit(?:y|ies)', 'minor', 'some', 'abundant', 'rare', 'flakes?', '[-\\\\.\\\\d]+%'], 'parts_of_speech': {'adjective': ['colour', 'grainsize'], 'subordinate': ['amount'], 'noun': ['lithology']}, 'abbreviations': {'gt': 'gritty', 'dist': 'distillate', 'gr': 'grained', 'ptg': 'parting', 'alg': 'algal', 'mnr': 'minor', 'Assem': 'Assem', 'Vad': 'vadose', 'calctc': 'calcitic', 'Pch': 'patch', 'gd': 'good', 'Len': 'lens', 'ga': 'gauged', 'Var': 'variation', 'gn': 'green', 'alt': 'altering', 'Gil': 'gilsonite', 'Oyst': 'oyster', 'sch': 'schist', 'Clst': 'claystone', 'ves': 'vesicular', 'Nod': 'nodules', 'tt': 'tightly', 'asph': 'asphaltic', 'tn': 'tan', 'Inoc': 'inoceramus*', 'spec': 'speckled', '@': 'at', 'Amph': 'amphipora*', 'vert': 'vertical', 'lrg': 'larger', 'intrapar': 'intraparticle', 'wthrd': 'weathered', 'gept': 'geopetal', 'Brec': 'breccia', 'fau': 'fauna', 'depau': 'depauperate', 'MMCFG': 'million cubic feet of gas', 'gy': 'gray', 'Elev': 'elevation', 'indst': 'indistinct', 'Syring': 'syringopora*', 'fac': 'faceted', 'GL': 'guard log', 'rad': 'radiating', 'brhg': 'branching', 'Gt': 'grit', 'Gr': 'grains', 'FIt': 'fault', 'Tas': 'tasmanites*', 'Spr': 'spore', 'Cl': 'clay', 'prob': 'probably', 'p': 'poorly', 'Spk': 'speck', 'Spl': 'sampole', 'SNP': 'sidewall neutron porosity log', 'n.s.': 'no sample', 'Clcar': 'calcarenite', 'pbl': 'pebble (4-64 mm)', 'cmt': 'cemented', 'Spg': 'sponge', 'Grv': 'gravel', 'Grt': 'granite', 'des': 'descript', 'Res': 'residue', 'Bioh': 'bioherm', 'Biost': 'biostrom', 'tex': 'texture', 'Brach': 'brachiopod', 'hydc': 'hydrocarbon', 'Ren': 'renalcis*', 'Biot': 'biotite', 'Peld': 'pelletoid', 'Bld': 'boulder', 'ter': 'terriginous', 'acic': 'acicular', 'sug': 'sugary', 'bdd': 'bedded', 'LSD': 'legal subdivision', 'gl': 'glassy', 'abd': 'abundant', 'Intst': 'intersticies', 'Micr': 'micrite', 'O str': 'Ostracod', 'Clcsp': 'calcisphere', 'Glas': 'glass', 'abs': 'absent', 'abt': 'about', 'conspic': 'conspicuous', 'pkish': 'pinkish', 'Bnd': 'band', 'fuc': 'fucoidal', 'med': 'medium', 'O&SW': 'oil and salt water', 'biocl': 'bioclastic', 'Agg': 'aggregate', 'DST': 'drill stem test', 'Mn': 'manganese', 'len': 'lentilcular', 'phen': 'phenocrysts', 'Wd': 'wood', 'D & A': 'dry and abandoned', 'posa': 'possible', 't.s.': 'thin section', 'Mtrx': 'matrix', 'crpxln': 'crystocrystalline', 'Zn': 'zone', 'Anthr': 'anthracite', 'altg': 'alternating', 'blksh': 'blackish', 'bor': 'boreding', 'ool': 'oolitic', 'dru': 'drusy', 'ctd': 'coated', 'N': 'Neutron', 'Conc': 'concretion', 'wtr cush': 'water cushion', 'ctc': 'contact', 'micropor': 'microporosity', 'Zr': 'zircon', 'Cono': 'conodont', 'Piso': 'pisoid', 'W': 'west', 'volc': 'volcanics', 'Ctgs': 'cuttings', 'apr': 'apparent', 'tr': 'trace', 'app': 'appear', 'brt': 'bright', 'brn': 'brown', 'Brk': 'break', 'Circ': 'circulate', 'aph': 'aphanitic', 'cons': 'considerable', 'brk': 'brackish', 'vit': 'vitreous', 'Clslt': 'calcisiltite', 'n.v.p.': 'no visible porosity', 'brd': 'bored', 'intxln': 'intercrystalline', 'Tent': 'tentaculites*', 'Fp': 'flowing pressure', 'intrlam': 'interlaminated', 'Ft': 'foot', 'perf': 'perforated', 'Micropor': 'micropore', '&': 'and', 'fen': 'fenestraal', 'pred': 'predominantly', 'Phlog': 'phloaopite', 'hem': 'hematitic', 'perm': 'permeability', 'fibr': 'fibrous', 'msm': 'metasomatic', 'cht': 'chert', 'Fe': 'iron-ferruginous', 'dns': 'denser', 'fros': 'frosted', 'calc': 'calcitareous', 'Fm': 'formation', 'pres': 'preservation', 'oo': 'ooidal', 'cntrt': 'contorted', 'wvy': 'wavy', 'mky': 'milky', 'vps': 'very poor samples', 'musc': 'muscovite', 'glas': 'glassy', 'Stn': 'stain', 'lchd': 'leached', 'Su': 'sulphur', 'glau': 'glauconitic', 'Brac': 'brachiopod', 'Sh': 'shale', 'yelsh': 'ish', 'Str': 'structure', 'Sl': 'slate', 'clus': 'cluster', 'Sa': 'salt', 'Cmt': 'cement', 'lmpy': 'lumpy', 'Sd': 'sand', 'md': 'muddy', 'phos': 'phosphatic', 'prly': 'pearly', 'Lstr': 'lustre', 'tns': 'tension', 'f': 'finely', 'fls': 'flesh', 'SP': 'spontaneous potential', 'SW': 'salt water', 'flt': 'faulted', 'Cbl': 'cobble', 'splty': 'splintery', 'Contam': 'contamination', 'flk': 'flake', 'conc': 'concretionary', 'SO': 'show of oil', 'v': 'very', 'Phyl': 'phyllite', 'deb': 'debris', 'slty': 'silty', 'fld': 'feldsparthic', 'flg': 'flaggy', 'ptch': 'patches', 'fluor': 'fluoresceincent', 'Lig': 'lignite', 'chal': 'chalcedony', 'bent': 'bentonitic', 'Min': 'mineral', 'sy-Ca': 'sparry calcite', 'Lim': 'limonite', 'Invtb': 'invertebrate', 'G&OCM': 'gas and oil cut mud', 'Mid': 'middle', 'chit': 'chitinous', 'sph': 'spherules', 'spl': 'sample', 'Ls': 'limestone', 'tab': 'tabular', 'Plcy': 'palecypod', 'scat': 'scattered', 'psool': 'pseudo oolitic', 'GR': 'gamma ray', 'spsly': 'sparsly', 'Char': 'charophyte', 'purp': 'purple', 'Sid': 'siderite', 'LL': 'laterolog', 'hom': 'homogeneous', 'Kao': 'kaolin', 'SSO': 'slight show of oil', 'Spic': 'spicule', 'hor': 'horizontal', '(D)': 'development', 'sid': 'sideritic', 'aft': 'after', 'Rhb': 'rhomb', 'Typ': 'type', 'contm': 'contaminated', 'sim': 'similar', 'sil': 'siliceous', 'frag': 'fragmental', 'lam': 'laminated', 'fr': 'fair', 'mar': 'maroon', 'frac': 'fractured', 'irid': 'iridescent', 'Dol': 'dolomite', 'I.P.': 'in part', 'cpct': 'compact', 'psdo': 'pseudo', 'insl': 'insoluble', 'lac': 'lacustrine', 'Mrl': 'marl', 'eqnt': 'equant', 'Grst': 'grainstone', 'mag': 'magnetic', 'Ctc': 'contact', 'ireg': 'irregular', 'lav': 'lavender', 'OFM': 'oil flecked mud', 'fl': 'filled', 'r.f.p': 'rounded frosted pitted', 'Tril': 'trilobite', 'Foram': 'foraminifera', 'Clvg': 'cleavage', 'Alg': 'algal', 'sp': 'spotty', 'Deer': 'decrease', 'Microspr': 'microspar', 'su': 'sulphurous', 'intcl': 'intraclasts', 'strk': 'streaked', 'stri': 'striated', 'sh': 'shale', 'Moll': 'mollusc', 'spkld': 'speckled', 'sm': 'smooth', 'sl': 'slightly', 'sc': 'scales', 'sb': 'sub', 'sa': 'salt', 'strg': 'stringer', 'Pyr': 'pyrite', 'Equiv': 'equivalent', 'lse': 'loose', 'BHCS': 'bore hole compensated sonic', 'Chk': 'chalk', 'Biomi': 'biomicrite', 'brit': 'brittle', 'coln': 'colonial', 'Smwt': 'somewhat', 'Rf': 'reef', 'Cht': 'chert', 'decr': 'decreasing', 'Rk': 'rock', 'RT': 'rotary table', 'fis': 'fissile', 'cln': 'clean', 'sacc': 'saccharoidal', 'Aglm': 'agglomerate', 'Evap': 'evapourite', 'microxln': 'microcrystalline', 'fib': 'fibrous', 'imp': 'impression', 'lt': 'lighter', 'ls': 'limestone', 'cren': 'crenulated', 'gty': 'gravity', 'clr': 'clear', 'TSTM': 'too small to measure', 'Bas': 'basalt', 'Shw': 'show', 'nod': 'nodule', 'Diagn': 'diagenesis', 'rexl': 'recrystallization', 'Cav': 'cavernous', 'Chara': 'charophytes', 'Cal': 'caliper', 'strat': 'strataified', 'Schm': 'schist', 'Shl': 'shell', 'bas': 'basaltic', 'xln': 'crystalline', 'Rad': 'radial', 'Oomol': 'oomold', 'Dist': 'distillate', 'extr': 'extremely', 'l': 'lower', 'Anhy': 'anhydrite', 'ferr': 'ferruginous', 'Stach': 'stachyodes*', 'crpxl': 'cryptocrystalline', 'Poln': 'pollen', 'Chtz': 'chitinozoa', 'MCFG': 'thousand cubic feet of gas', 'frmwk': 'framework', 'Cub': 'cube', 'Macrofos': 'macrofossil', 'dolst': 'dolostone', 'prphy': 'porphyry', 'Lut': 'lutite', 'intr': 'intrusionive', 'Asph': 'assemblage', 'intpar': 'interparticle', 'Perm': 'permeability', 'Bdst': 'boundstone', 'Chaet': 'chaetetes*', 'meta': 'metamorphic', 'ex': 'excellent', 'hrtl': 'horizontal', 'p-p': 'pin point', 'zeo': 'zeolite', 'qtzs': 'quartzose', 'n/s': 'no show', 'BOPD': 'barrels of oil per day', 'Wtr': 'water', 'apprx': 'approximate', 'rr': 'rare', 'Musc': 'muscovite', 'intclas': 'intraclastic', 'rep': 'replacedment', 'intst': 'intersticitial', 'BOPH': 'barrels of oil per hour', 'rd': 'rounded', 'rf': 'reefoid', 'sml': 'small', 'blk': 'black', 'max': 'maximum', 'bld': 'bladed', 'Tub': 'tube', 'Pisol': 'pisolite', 'lmy': 'limy', 'Phos': 'phosphate', 'gran': 'granular', 'G': 'gas', 'Spo': 'spore', 'GCM': 'gas cut mud', 'blky': 'blocky', 'glos': 'glossy', 'DLL': 'dual laterolog', 'Novac': 'novaculite', 'argl': 'argillate', 'lmn': 'limonitic', 'carb': 'carbonaceous', 'org': 'organic', 'freq': 'frequent', 'ES': 'electric', 'Pyrxn': 'pyroxene', 'g': 'good', 'lithgr': 'lithographic', 'grad': 'grading', 'Chal': 'chalcedony', 'fspr': 'feldsparathic', 'Bdeye': 'birdseye', '\\\\u20b5': 'core', 'Hyde': 'hydrocarbon', 'w': 'well', 'Ool': 'oolite', 'intgn': 'inter grown', 'bioh': 'biohermal', 'Sphal': 'sphalerite', 'intpt': 'interpretation', 'cche': 'caliche', 'Frg': 'fringe', 'xl': 'crystalline', 'onc': 'oncolites', 'Slick slick': 'slickenside', 'uncons': 'unconsolidated', 'zn': 'zone', 'Imp': 'impression', 't.b.': 'thin-bedded', 'Gyp': 'gypsumiferous', 'Prod': 'production', 'Incl': 'inclusion', 'uncons.': 'unconsolidated', 'Frag': 'fragment', 'sphal': 'sphalerite', 'Wkst': 'wackestone', 'Frac': 'fracture', 'Pt': 'part', 'WCM': 'water cut mud', 'elong': 'elongate', 'Ptg': 'parting', 'wthd': 'weathered', 'Microstyl': 'microstylolite', 'Casph': 'calcisphaera*', 'marn': 'marine', 'Biosp': 'biosparite', 'Mbl': 'marble', 'consol': 'consolidated', 'Fus': 'fusulinid', 'sz': 'size', 'Slt': 'silt', 'mrlst': 'marlstone', 'Strk': 'streak', 'var': 'variable', 'crnk': 'crinkled', 'Rbl': 'rubble', 'Fuc': 'fucoid', 'gyp': 'gypsumiferous', 'orng': 'orange', 'BHFP': 'bottom hole flow pressure', 'Xl': 'crystal', 'stn': 'staining', 'Qtz': 'quartz', 'csg': 'casing', 'Chlor': 'chlorite', 'r': 'rare', 'Endo': 'endothyra*', 'str': 'streak', 'Onc': 'oncolite', 'Btm': 'bottom', 'sec': 'secondary', 'dissem': 'disseminated', 'spr': 'sparry', 'Pap': 'paper', 'grnt': 'granite', 'Par': 'particle', 'ang': 'angular', 'Descr': 'description', 'DI': 'dual induction log', 'DF': 'derrick floor', 'Intclas': 'intraclast', 'Rem': 'remains', 'chlor': 'chlorite', 'euhd': 'euhedral', 'Pend': 'pendularous', 'Rec': 'recovery', 'grnl': 'granule (2-4 mm)', 'Calc': 'calcite', 'sps': 'sparsly', 'p.d': 'pressure deformation', 'Cont': 'content', 'strgr': 'stringer', 'lig': 'lignitic', 'Glauc': 'glauconite', 'intbd': 'interbedded', 'lim': 'itic', 'mic': 'micro', 'Db': 'diabase', 'Port por': 'porosity', 'Ech': 'echinoid', 'lit': 'lithic', 'grysh': 'greyish', 'vrvd': 'varved', 'Arag': 'aragonite', 'vgt': 'varigated', 'Clus': 'cluster', 'surf': 'surface', 'spher': 'spherulitic', 'hd': 'hard', 'plas': 'plastic', 'sft': 'soft', 'kao': 'kaolin', 'bdg': 'bedding', 'MLL': 'microlaterolog', 'micr': 'micritic', 'Mic': 'micaceous', 'piso': 'pisolitic', 'assoc': 'associated', 'rthy': 'earthy', 'Ivan': 'ivanovia*', 'suc': 'sucrosic', 'intercal': 'intercalated', 'rhb': 'rhombic', 'plag': 'plagioclase', 'GOR': 'gas-to-oil ratio', 'MCO': 'mud cut oil', 'Bent': 'bentonite', 'dol': 'dolomitic', 'dom': 'dominant', 'flor': 'fluorescence', 'brec': 'brecciated', 'Stri': 'striae', 'Trip': 'tripoli', 'exv': 'extrusive', 'Pol': 'polish', 'GTS': 'gas to surface', 'Ig': 'igneous rock', 'exp': 'exposed', 'Pybit': 'pyrobitumen', 'MCW': 'mud cut water', 'intlam': 'interlaminated', 'sd': 'sand (1/16-2 mm)', 'Rpl': 'ripple', 'dend': 'dendritic', 'pkr': 'packer', 'drlg': 'drilling', 'Spher': 'spherule', 'Hal': 'halitiferous', 'lstr': 'lustre', 'V.P.S.': 'very poor sample V.P.S.', 'Gast': 'gastropod', 'anhy': 'anhydritic', 'drlr': 'driller', 'biost': 'biostromal', 'grapst': 'grapestone', 'Bubl': 'bubble', 'pris': 'prismatic', 'Spfool': 'superficial olite', 'och': 'ochre', 'Cyp': 'cypridopsis*', 'Jt': 'joint', 'occ': 'occasional', 'Wl': 'well', 'varic': 'varicolored', 'GCW': 'gas cut water', 'mnrl': 'mineralized', 'Shlt por': 'shelter porosity', 'Mol': 'mollusca', 'Bit': 'bitumen', 'flky': 'flaky', 'plty': 'platy', 'Pst': 'pumice-stone', 'men': 'meniscus', 'Stromlt': 'stromatolite', 'BO': 'barrels of oil', 'abv': 'above', 'chk': 'chalky', 'KB': 'kelly bushing', 'dd': 'dead', 'Intvl': 'interval', 'stromlt': 'stromatolite', 'IAB': 'initial air blow', 'Milid': 'miliolid', 'cotg': 'coateding', 'cotd': 'coateding', 'repl': 'replacement', 'slily': 'slightly', 'struc': 'structure', 'SO&G': 'show of oil and gas', 'gen': 'generally', 'hetr': 'heterogeneous', 'crs': 'coarse', 'bar': 'baritic', 'Volc': 'volcanic', '(W)': 'wildcat', 'shy': 'shaly', 'w/o': 'without w/o', 'Sphaer': 'sphaerocodium*', 'rsns': 'resinous', 'Tham': 'thamnopora*', 'crd': 'cored', 'x': 'cross', 'srtg': 'Sorteding', 'Qtzt': 'quartzite', 'crm': 'cream', 'dtrl': 'detritalus', 'w/': 'with', 'S.W.C.': 'sidewall core', 'qtz': 'quartz', 'FDL': 'formation density log', 'Pel': 'pellet', 'num': 'numerous', 'Slst': 'siltstone', 'fnly': 'finly', 'arg': 'argillaceous', 'ark': 'arkosic', 'rmn': 'remainant', 'prim': 'primary', 'volat': 'volatile', 'SOCW': 'slight oil cut water', 'Plt': 'plant', 'Para': 'paraparchites*', 'sltst': 'siltstone', 'trnsp': 'transparent', 'irr': 'irregular', 'hornbd': 'hornblend', \"'' or do\": 'ditto', 'Rud': 'rudist', 'PB': 'plugged back', 'trnsl': 'translucent', 'PD': 'per day', 'Plag': 'plagioclase', 'PH': 'per hour', 'SO&W': 'show of oil and water', 'Vnlet': 'veinlet', 'PL': 'proximity log', 'wg': 'vuggy', 'magnt': 'magnetite', 'sblit': 'sublithic', 'exclas': 'extraclastic', 'AOF': 'absolute open flow', 'jt': 'jointing', 'comp': 'completion', 'gnsh': 'greenish', 'wk': 'weak', 'wi': 'with', 'wh': 'white', 'Exv': 'extrusive rock', 'S': 'sonic, acoustilog', 'magn': 'magnetic', 'gywk': 'graywacke', 'G.W.': 'granite wash', 'Satm sat': 'saturation', 'tub': 'tubular', 'tuf': 'tuffaceous', 'coq': 'coquina', 'vug': 'vugular', 'c': 'coarsely', 'fnt': 'faintly', 'dkr': 'darker', 'cov': 'covered', 'C': 'coal', 'intgran': 'intergranular', 'rexlzd': 'recrystallized', 'SI': 'shut in', 'Chit': 'chitinous', 's': 'small', 'Meta': 'metamorphic rock', 'Sst': 'sandstone', 'brak': 'brackish', 'uni': 'uniform', 'com': 'common', 'cotd gn': 'coated grains', 'Het': 'Heterostegina', 'foram': 'foraminiferal', 'hkl': 'hackly', 'cl': 'clastic', 'cb': 'carbonized', 'por': 'poroussity', 'pos': 'possibility', 'poly': 'polygonal', 'hvy': 'heavy', 'pol': 'polished', 'Pent': 'pentamerus*', 'Hem': 'hematite', 'tgh': 'tough', 'cp': 'compare', 'Surf': 'surface', 'ps': 'pseudo-', 'frg': 'fringing', 'pt': 'partly', 'Bur': 'burrow', 'fri': 'friable', 'intgwn': 'intergrown', 'pch': 'patchy', 'stmg': 'streaming', 'frs': 'fresh', 'Stylio': 'styliolina*', 'pyrbit': 'pyrobitumen', 'pk': 'pink', 'devit': 'devitrified', 'authg': 'authigenic', 'dk': 'darker', 'eux': 'euxinic', 'Ark': 'arkose', 'CN': 'compensated neutron', 'deer': 'decreasing', 'IES': 'induction electric', 'cly': 'clayey', 'lge': 'large', 'spic': 'spicular', 'crbnt': 'carbonate', 'Tp': 'top', 'Pkst': 'packstone', 'Fac': 'facet', 'bulb': 'bulbous', 'contam': 'contaminated', 'xbdg': 'cross-bedding', 'gns': 'gneiss', 'micgr': 'micrograined', 'fenst': 'fenestral', 'slt': 'silt', 'undly': 'underlying', 'grnt.w': 'granite wash', 'n': 'no, none, non', 'conch': 'conchoidal', 'sln': 'solution', 'rbl': 'rubblbly', 'sli': 'slightly', 'ML': 'microlog, minilog', 'cvg': 'cavings', 'k': 'permeabilityable', 'slb': 'slabby', 'FTAB': 'faint air blow', 'DIL': 'dual induction laterolog', 'pyrcl': 'pyroclastic', 'oomol': 'oomoldic', 'rndd': 'rounded', 'vi': 'violet', 'Sel': 'selenite', 'vn': 'vein', 'stal': 'stalactitic', 'ind': 'indurated', 'styl': 'stylotitic', 'W.R.': 'washed residue', 'mott': 'mottled', 'xlam': 'cross-laminated', 'x-strat': 'cross-stratified', 'Strom': 'stromatoporoid', 'Cgl': 'conglomerate', 'ig': 'igneous', 'pap': 'papery', 'incr': 'increasing', 'litt': 'littoral', 'intstl': 'interstitial', 'bioturb': 'bioturbated', 'PPM': 'parts per million', 'GAP': 'good air blow', 'Repl': 'replaced', 'lith': 'lithographic', 'shad': 'shadow', 'FAB': 'fair air blow', 'sat': 'saturated', 'incl': 'inclusion', 'Coq': 'coquina', 'Vug': 'vug', 'Cor': 'coral', 'porcel': 'porcelaneous', 'cncn': 'concentric', 'IP': 'initial production', 'orth': 'orthoclase', 'rdsh': 'redish', 'syn': 'syntaxial', 'Microfos': 'microfossilferous', 'phr': 'phreatic', 'mot': 'mottled', 'pisol': 'pisolitic', 'Col': 'color', 'Jasp': 'jasper', 'metaph': 'metamorphosed', 'Girv': 'girvanella*', 'intxl': 'intercrystalline', 'detr': 'detrital', 'sed': 'sedimentary', 'Grap': 'graptolite', 'x-bd': 'cross-bedded', 'gsy': 'grasy', 'OWPB': 'oil well plugged back', 'min': 'mineralized', 'Sol': 'Soution', 'Vn': 'vein', 'col': 'colored', 'x-lam': 'cross-laminated', 'thn': 'thin', 'thk': 'thick', 'bot': 'botryoidal', 'In': 'inch', 'Mbr': 'member', 'imbd': 'imbedded', 'ck': 'choke', 'BHP': 'bottom hole pressure', 'yel': 'yellow', 'aprox': 'approximately', 'sptd': 'spottedy', 'bdeye': 'birdseye', 'BW': 'barrels of water', 'Cvg': 'caving', 'intfrag': 'interfragmental', 'bit': 'bitumeninous', 'resd': 'residual', 'chky': 'chalky', 'Bd': 'bed', 'Intr': 'intrusive', 'sks': 'slickensided', 'Fluor': 'fluoresceince', 'Bm': 'basement', 'Glob': 'globigerina*', 'anhed': 'anhedral', 'elg': 'elongate', 'unident': 'unidentifiable', 'Fau': 'fauna', 'Gal': 'galeolaria*', 'cub': 'cubic', 'med.': 'medium', 'Sedm': 'sediment', 'Glos': 'gloss', 'Gab': 'gabbro', 'bnd': 'banded', 'Oo': 'ooid', 'Gns': 'gneiss', 'psi': 'pounds per square inch', 'amm': 'ammonite', 'mos': 'mosaic', 'vcol': 'varicolored', 'amb': 'amber', 'rng': 'range', 'Dia': 'diameter', 'dess': 'dessiccation', 'Lat': 'laterite', 'Mat': 'material', 'cntr': 'centered', 'Orth': 'orthoclase', 'Pbl': 'pebble', 'Scaph': 'scaphopod', 'Fe-mag': 'ferro-magnesian', 'S.W.': 'salt water', 'amt': 'amount', 'mod': 'moderate', 'Crin': 'crinoidal', 'Lyr': 'layer', 'vis': 'visible', 'boudg': 'boudinage', 'OC': 'oil cut', 'Microol': 'micro-oolite', 'Ltl': 'little', 'fltg': 'floating', 'V.op': 'valve open', 'amor': 'amorphous', 'rnd': 'rounded', 'BHT': 'bottom hole temperature', 'clas': 'clastic', 'Psool': 'pseudo oolite', 'Strat': 'strata', 'Bdg': 'bedding', 'bri': 'bright', 'drsy': 'drusy', 'tstg': 'testing', 'Fspr': 'feldspar', 'Scol': 'scolecodonts', 'crpld': 'crumpled', 'SOCM': 'slight oil cut mud', 'rec': 'recovered', 'Fvst': 'favosites*', 'sbrndd': 'sub rounded', 'HO': 'heavy oil', 'olv': 'olive', 'Mdst': 'mudstone', 's & p': 'salt and pepper', 'venn': 'vermillon', 'gvl': 'gravel', 'fos': 'fossiliferous', 'pet': 'petroleumiferous', 'Clclt': 'calcilutite', 'OSR': 'oil source rock', '/': 'with', 'pel': 'pellet', 'circ': 'circulation', 'prom': 'prominently', 'lg': 'long', 'fol': 'foliated', 'peld': 'pelletoidal', 'pyr': 'pyritized', 'mol': 'moldic', 'bd': 'bed', 'OWWO': 'old well worked over', 'bf': 'buff', 'LL8': 'laterolog-8', 'cgl': 'conglomerate', 'Gwke': 'graywacke', 'slky': 'silky', 'bl': 'bluish', 'Bor': 'bored', 'bo': 'bophaceous', 'Bot': 'botryoid', 'rug': 'rugosa', 'Orbit': 'Orbitolina', 'bu': 'buff', 'sel': 'selenite', 'Gran': 'granule', 'Unconf': 'unconformity', 'Exclas': 'extraclast', 'ss': 'sandstone', 'Uc': 'underclay', 'SIP': 'shut in pressure', 'choc': 'chocolate', 'euhed': 'euhedral', 'Solen': 'solenopora*', 'Euryamph': 'euryamphipora*', 'sa-c': 'salt castic', 'od': 'odor', 'dism': 'disseminated', 'Ost': 'ostracod', 'o': 'oil', 'Ceph': 'cephalopod', 'srt': 'sorting', 'ox': 'oxidized', 'ti': 'tight', 'Foss': 'fossiliferous', 'sept': 'septate', 'or': 'orangish', 'Scs': 'scarce', 'op': 'open', 'blsh': 'bluish', 'ahd': 'anhedral', 'Fen': 'fenestra', 'qtzc': 'quartzitic', 'sol': 'solitary', 'corln': 'coralline', 'mas': 'massive', 'intv': 'interval', 'Lith': 'lithology', 'Iran': 'granule', 'chty': 'cherty', 'OCM': 'oil cut mud', 'Pet': 'petroleum', 'qtzt': 'quartzite', 'GIP': 'good initial puff', 'loc': 'location', 'SGCM': 'slight gas cut mud', 'rhmb': 'rhombic', 'vrtl': 'vertical', 'Ooc': 'oolicast', 'skel': 'skeletal', 'aren': 'arenaceous', 'typ': 'typical', 'vrtb': 'vertebrate', 'diagn': 'diagenesisetic', 'Pelec': 'pelecypod', 'biot': 'biotite', 'abnt': 'abundant', 'SGCW': 'slight gas cut water', 'p.p.': 'pin-poin', 'gil': 'gilsonite', 'OWDD': 'oil well drilled deeper', 'clyst': 'claystone', 'fl/': 'flowing', 'bur': 'burrowed', 'ea': 'earthy', 'sdy': 'sandy', 'grdg': 'grading', 'Lam': 'laminations', 'Flk': 'flake', 'hi': 'high', 's&p': 'salt & pepper', 'Flo': 'flora', 'Deb': 'debris', 'Splin': 'splintery', 'mica': 'micaeous', 'embd': 'embedded', 'coqid': 'coquinaoid', 'mtx': 'matrix', 'thru': 'throughout', 'BWPH': 'barrels of water per hour', 'Belm': 'belemnites*', 'BWPD': 'barrels of water per day', 'mat': 'material, matter', 'bldr': 'boulder', 'up': 'upper', 'Tex': 'texture', 'mdy': 'muddy', 'pl': 'plant', 'WIP': 'weak initial puff', 'O-Qtz': 'orthoquartzite', 'olvn': 'olivine', 'ab': 'above', 'mrl': 'marly', 'orsh': 'orangish', 'Allo': 'allochem', 'OTD': 'old total depth', 'Tr': 'trace', 'cbl': 'cobble (64-256 mm)', 'ovgth': 'overgrowth', 'ap': 'appears', 'Clcrd': 'calcirudite', 'Tf': 'tuffaceous', 'pit': 'pitted', 'trip': 'tripolic', 'DL': 'density log', 'Sil': 'silica', 'nac': 'nacerous', 'F.Q.G.': 'frosted quartz  grains', 'ooc': 'oocastic', 'hex': 'hexagonal', 'wxy': 'waxy', 'gry': 'greyish', 'Fe-st': 'ironstone', 'oom': 'oomoldic', 'grd': 'graded', 'crinal': 'crinoidal', 'Mag': 'magnetite', 'recem': 'recemented', 'sbang': 'subangular', 'mass': 'massive', 'T.D.': 'total depth', 'sqz': 'squeezed', 'E': 'east', 'aglm': 'agglomerate', 'evap': 'evapourititic', 'Av': 'average', 'm': 'medium', 'WAB': 'weak air blow', 'a.a.': 'same as above sample', 'est': 'estimated', 'spty': 'spottedy', 'lent': 'lenticular', 'mnut': 'minute', 'phyl': 'phyllitic', 'O&G': 'oil and gas', 'bcm': 'becoming', 'OTS': 'oil to surface', 'SAB': 'strong air blow', 'Bry': 'bryozoa', 'wtr': 'water', 'Styl': 'stylolite', 'BHSIP': 'bottom hole shut in pressure', 'u': 'upper', 'mrly': 'marly', 'res': 'residuual', 'xbd': 'cross-bedded', 'Radax': 'radiaxial', 'swbd': 'swabbed'}}"
       ]
      }
     ],
     "prompt_number": 10
    },
    {
     "cell_type": "code",
     "collapsed": false,
     "input": [
      "import json\n",
      "with open('abbreviations.json', 'w') as f:\n",
      "    f.write(json.dumps(lexicon.abbreviations))\n"
     ],
     "language": "python",
     "metadata": {},
     "outputs": [],
     "prompt_number": 11
    },
    {
     "cell_type": "code",
     "collapsed": false,
     "input": [
      "lexicon.synonyms"
     ],
     "language": "python",
     "metadata": {},
     "outputs": [
      {
       "metadata": {},
       "output_type": "pyout",
       "prompt_number": 12,
       "text": [
        "{'Anhydrite': ['Gypsum'],\n",
        " 'Overburden': ['Drift'],\n",
        " 'Salt': ['Halite', 'Sylvite']}"
       ]
      }
     ],
     "prompt_number": 12
    },
    {
     "cell_type": "markdown",
     "metadata": {},
     "source": [
      "Most of the lexicon works 'behind the scenes' when processing descriptions into `Rock` components."
     ]
    },
    {
     "cell_type": "code",
     "collapsed": false,
     "input": [
      "lexicon.find_synonym('Halite')"
     ],
     "language": "python",
     "metadata": {},
     "outputs": [
      {
       "metadata": {},
       "output_type": "pyout",
       "prompt_number": 13,
       "text": [
        "'salt'"
       ]
      }
     ],
     "prompt_number": 13
    },
    {
     "cell_type": "code",
     "collapsed": false,
     "input": [
      "s = \"lt gn ss w/ sp gy sh\""
     ],
     "language": "python",
     "metadata": {},
     "outputs": [],
     "prompt_number": 14
    },
    {
     "cell_type": "code",
     "collapsed": false,
     "input": [
      "lexicon.expand_abbreviations(s)"
     ],
     "language": "python",
     "metadata": {},
     "outputs": [
      {
       "metadata": {},
       "output_type": "pyout",
       "prompt_number": 15,
       "text": [
        "'lighter green sandstone with spotty gray shale'"
       ]
      }
     ],
     "prompt_number": 15
    },
    {
     "cell_type": "markdown",
     "metadata": {},
     "source": [
      "<hr />"
     ]
    },
    {
     "cell_type": "markdown",
     "metadata": {},
     "source": [
      "## Rock"
     ]
    },
    {
     "cell_type": "markdown",
     "metadata": {},
     "source": [
      "A set of attributes. All are optional."
     ]
    },
    {
     "cell_type": "code",
     "collapsed": false,
     "input": [
      "from interval import Rock"
     ],
     "language": "python",
     "metadata": {},
     "outputs": [],
     "prompt_number": 16
    },
    {
     "cell_type": "code",
     "collapsed": false,
     "input": [
      "print Rock.__doc__"
     ],
     "language": "python",
     "metadata": {},
     "outputs": [
      {
       "output_type": "stream",
       "stream": "stdout",
       "text": [
        "\n",
        "    Initialize with a dictionary of properties. You can use any\n",
        "    properties you want, but the following are recognized by\n",
        "    the summary() method:\n",
        "\n",
        "        - lithology: a simple one-word rock type\n",
        "        - colour, e.g. 'grey'\n",
        "        - grainsize or range, e.g. 'vf-f'\n",
        "        - modifier, e.g. 'rippled'\n",
        "        - quantity, e.g. '35%', or 'stringers'\n",
        "        - description, e.g. from cuttings\n",
        "\n",
        "    You can include as many other things as you want, e.g.\n",
        "\n",
        "        - porosity\n",
        "        - cementation\n",
        "        - lithology code\n",
        "    \n"
       ]
      }
     ],
     "prompt_number": 17
    },
    {
     "cell_type": "markdown",
     "metadata": {},
     "source": [
      "We define a new rock with a Python `dict` object:"
     ]
    },
    {
     "cell_type": "code",
     "collapsed": false,
     "input": [
      "r = {'colour': 'grey',\n",
      "     'grainsize': 'vf-f',\n",
      "     'lithology': 'sand'}\n",
      "rock = Rock(r)\n",
      "rock"
     ],
     "language": "python",
     "metadata": {},
     "outputs": [
      {
       "metadata": {},
       "output_type": "pyout",
       "prompt_number": 18,
       "text": [
        "Rock(\"colour\":\"grey\", \"lithology\":\"sand\", \"grainsize\":\"vf-f\")"
       ]
      }
     ],
     "prompt_number": 18
    },
    {
     "cell_type": "code",
     "collapsed": false,
     "input": [
      "type(rock)"
     ],
     "language": "python",
     "metadata": {},
     "outputs": [
      {
       "metadata": {},
       "output_type": "pyout",
       "prompt_number": 19,
       "text": [
        "rock.Rock"
       ]
      }
     ],
     "prompt_number": 19
    },
    {
     "cell_type": "markdown",
     "metadata": {},
     "source": [
      "The Rock has a colour:"
     ]
    },
    {
     "cell_type": "code",
     "collapsed": false,
     "input": [
      "rock.colour"
     ],
     "language": "python",
     "metadata": {},
     "outputs": [
      {
       "metadata": {},
       "output_type": "pyout",
       "prompt_number": 20,
       "text": [
        "'grey'"
       ]
      }
     ],
     "prompt_number": 20
    },
    {
     "cell_type": "markdown",
     "metadata": {},
     "source": [
      "And it has a summary, which is generated from its attributes. "
     ]
    },
    {
     "cell_type": "code",
     "collapsed": false,
     "input": [
      "rock.summary()"
     ],
     "language": "python",
     "metadata": {},
     "outputs": [
      {
       "metadata": {},
       "output_type": "pyout",
       "prompt_number": 21,
       "text": [
        "'Grey, sand, vf-f'"
       ]
      }
     ],
     "prompt_number": 21
    },
    {
     "cell_type": "markdown",
     "metadata": {},
     "source": [
      "We can format the summary if we wish:"
     ]
    },
    {
     "cell_type": "code",
     "collapsed": false,
     "input": [
      "rock.summary(fmt=\"My rock: {lithology} ({colour}, {GRAINSIZE})\")"
     ],
     "language": "python",
     "metadata": {},
     "outputs": [
      {
       "metadata": {},
       "output_type": "pyout",
       "prompt_number": 22,
       "text": [
        "'My rock: sand (grey, VF-F)'"
       ]
      }
     ],
     "prompt_number": 22
    },
    {
     "cell_type": "markdown",
     "metadata": {},
     "source": [
      "We can compare rocks with the usual `==` operator: "
     ]
    },
    {
     "cell_type": "code",
     "collapsed": false,
     "input": [
      "rock2 = Rock({'grainsize': 'VF-F',\n",
      "              'colour': 'Grey',\n",
      "              'lithology': 'Sand'})\n",
      "rock == rock2"
     ],
     "language": "python",
     "metadata": {},
     "outputs": [
      {
       "metadata": {},
       "output_type": "pyout",
       "prompt_number": 23,
       "text": [
        "True"
       ]
      }
     ],
     "prompt_number": 23
    },
    {
     "cell_type": "markdown",
     "metadata": {},
     "source": [
      "In order to create a Rock object from text, we need a lexicon to compare the text against. The lexicon describes the language we want to extract, and what it means. More on lexicons later."
     ]
    },
    {
     "cell_type": "code",
     "collapsed": false,
     "input": [
      "from lexicon import Lexicon"
     ],
     "language": "python",
     "metadata": {},
     "outputs": [],
     "prompt_number": 24
    },
    {
     "cell_type": "code",
     "collapsed": false,
     "input": [
      "lexicon = Lexicon.default()"
     ],
     "language": "python",
     "metadata": {},
     "outputs": [],
     "prompt_number": 25
    },
    {
     "cell_type": "code",
     "collapsed": false,
     "input": [
      "rock3 = Rock.from_text('Grey fine sandstone.', lexicon)\n",
      "rock3"
     ],
     "language": "python",
     "metadata": {},
     "outputs": [
      {
       "metadata": {},
       "output_type": "pyout",
       "prompt_number": 26,
       "text": [
        "Rock(\"colour\":\"grey\", \"lithology\":\"sandstone\", \"grainsize\":\"fine\")"
       ]
      }
     ],
     "prompt_number": 26
    },
    {
     "cell_type": "code",
     "collapsed": false,
     "input": [
      "rock4 = Rock.from_text('Grey, sandstone, vf-f ', lexicon)\n",
      "rock4"
     ],
     "language": "python",
     "metadata": {},
     "outputs": [
      {
       "metadata": {},
       "output_type": "pyout",
       "prompt_number": 27,
       "text": [
        "Rock(\"colour\":\"grey\", \"lithology\":\"sandstone\", \"grainsize\":\"vf-f\")"
       ]
      }
     ],
     "prompt_number": 27
    },
    {
     "cell_type": "markdown",
     "metadata": {},
     "source": [
      "<hr />"
     ]
    },
    {
     "cell_type": "heading",
     "level": 2,
     "metadata": {},
     "source": [
      "Decor"
     ]
    },
    {
     "cell_type": "code",
     "collapsed": false,
     "input": [
      "from legend import Decor\n",
      "\n",
      "import matplotlib.pyplot as plt\n",
      "%matplotlib inline"
     ],
     "language": "python",
     "metadata": {},
     "outputs": [],
     "prompt_number": 28
    },
    {
     "cell_type": "markdown",
     "metadata": {},
     "source": [
      "A Decor attaches a display style to a Rock. "
     ]
    },
    {
     "cell_type": "code",
     "collapsed": false,
     "input": [
      "print Decor.__doc__"
     ],
     "language": "python",
     "metadata": {},
     "outputs": [
      {
       "output_type": "stream",
       "stream": "stdout",
       "text": [
        "\n",
        "    A single display style. A Decor describes how to display a given set\n",
        "    of Rock properties.\n",
        "\n",
        "    In general, you will not usually use a Decor on its own. Instead, you\n",
        "    will want to use a Legend, which is just a list of Decors, and leave\n",
        "    the Decors to the Legend.\n",
        "\n",
        "    Args:\n",
        "      params (dict): The parameters you want in the Decor. There must be a\n",
        "        Rock to attach the decoration to, and at least one other attribute.\n",
        "        It's completely up to you, but you probably want at least a colour\n",
        "        (hex names like #AAA or #d3d3d3, or matplotlib's English-language\n",
        "        names listed at http://ageo.co/modelrcolour are acceptable.\n",
        "\n",
        "        The only other parameter the class recognizes for now is 'width',\n",
        "        which is the width of the striplog element.\n",
        "\n",
        "    Example:\n",
        "      d = {'rock': my_rock, 'colour': 'red'}\n",
        "      my_decor = Decor(d)\n",
        "    \n"
       ]
      }
     ],
     "prompt_number": 29
    },
    {
     "cell_type": "markdown",
     "metadata": {},
     "source": [
      "Like `Rock`s, we instantiate `Decor`s with a `dict` of properties:"
     ]
    },
    {
     "cell_type": "code",
     "collapsed": false,
     "input": [
      "d = {'color': '#86F0B6',\n",
      "     'rock': rock,\n",
      "     'width': 3}\n",
      "decor = Decor(d)\n",
      "decor"
     ],
     "language": "python",
     "metadata": {},
     "outputs": [
      {
       "metadata": {},
       "output_type": "pyout",
       "prompt_number": 30,
       "text": [
        "Decor(width='3.0', colour='#86f0b6', rock='\"colour\":\"grey\", \"lithology\":\"sand\", \"grainsize\":\"vf-f\"')"
       ]
      }
     ],
     "prompt_number": 30
    },
    {
     "cell_type": "markdown",
     "metadata": {},
     "source": [
      "You can access its attributes. It has two ways to understand colour:"
     ]
    },
    {
     "cell_type": "code",
     "collapsed": false,
     "input": [
      "decor.colour"
     ],
     "language": "python",
     "metadata": {},
     "outputs": [
      {
       "metadata": {},
       "output_type": "pyout",
       "prompt_number": 31,
       "text": [
        "'#86f0b6'"
       ]
      }
     ],
     "prompt_number": 31
    },
    {
     "cell_type": "code",
     "collapsed": false,
     "input": [
      "decor.rgb"
     ],
     "language": "python",
     "metadata": {},
     "outputs": [
      {
       "metadata": {},
       "output_type": "pyout",
       "prompt_number": 32,
       "text": [
        "(134, 240, 182)"
       ]
      }
     ],
     "prompt_number": 32
    },
    {
     "cell_type": "code",
     "collapsed": false,
     "input": [
      "decor.plot()"
     ],
     "language": "python",
     "metadata": {},
     "outputs": [
      {
       "metadata": {},
       "output_type": "display_data",
       "png": "[encoded data removed]",
       "text": [
        "<matplotlib.figure.Figure at 0x10868a710>"
       ]
      }
     ],
     "prompt_number": 33
    },
    {
     "cell_type": "markdown",
     "metadata": {},
     "source": [
      "<hr />"
     ]
    },
    {
     "cell_type": "heading",
     "level": 2,
     "metadata": {},
     "source": [
      "Legend"
     ]
    },
    {
     "cell_type": "code",
     "collapsed": false,
     "input": [
      "from legend import Legend\n",
      "print Legend.__doc__"
     ],
     "language": "python",
     "metadata": {},
     "outputs": [
      {
       "output_type": "stream",
       "stream": "stdout",
       "text": [
        "\n",
        "    A look-up table to assist in the conversion of Rocks to\n",
        "    a plot colour.\n",
        "\n",
        "    Args:\n",
        "        list_of_Decors (list): The decors to collect into a legend. In\n",
        "            general, you will want to leave legend building to the constructor\n",
        "            class methods, `Legend.default()`, and `Legend.from_csv(string)`.\n",
        "            We can add others over time, such as `from_xls` and so on.\n",
        "    \n"
       ]
      }
     ],
     "prompt_number": 34
    },
    {
     "cell_type": "markdown",
     "metadata": {},
     "source": [
      "We'll define a legend in a CSV file. I can't think of a better way for now. It would be easy to make a web form to facilitate this with, for example, a colour picker. It may not be worth it, though; I imagine one would create one and then leave it alone most of the time. "
     ]
    },
    {
     "cell_type": "code",
     "collapsed": false,
     "input": [
      "l = \"\"\"colour, width, rock lithology, rock colour, rock grainsize\n",
      "#FFFFFF, 0, , , \n",
      "#F7E9A6, 3, Sandstone, Grey, VF-F\n",
      "#FF99CC, 2, Anhydrite, , \n",
      "#DBD6BC, 3, Heterolithic, Grey, \n",
      "#FF4C4A, 2, Volcanic, , \n",
      "#86F0B6, 5, Conglomerate, , \n",
      "#FF96F6, 2, Halite, , \n",
      "#F2FF42, 4, Sandstone, Grey, F-M\n",
      "#DBC9BC, 3, Heterolithic, Red, \n",
      "#A68374, 2, Siltstone, Grey, \n",
      "#A657FA, 3, Dolomite, , \n",
      "#FFD073, 4, Sandstone, Red, C-M\n",
      "#A6D1FF, 3, Limestone, , \n",
      "#FFDBBA, 3, Sandstone, Red, VF-F\n",
      "#FFE040, 4, Sandstone, Grey, C-M\n",
      "#A1655A, 2, Siltstone, Red, \n",
      "#363434, 1, Coal, , \n",
      "#664A4A, 1, Mudstone, Red, \n",
      "#666666, 1, Mudstone, Grey, \"\"\""
     ],
     "language": "python",
     "metadata": {},
     "outputs": [],
     "prompt_number": 35
    },
    {
     "cell_type": "code",
     "collapsed": false,
     "input": [
      "legend = Legend.from_csv(l)\n",
      "legend[:5]"
     ],
     "language": "python",
     "metadata": {},
     "outputs": [
      {
       "metadata": {},
       "output_type": "pyout",
       "prompt_number": 36,
       "text": [
        "Legend(width='0.0', colour='#ffffff', rock=''\n",
        "width='3.0', colour='#f7e9a6', rock='\"colour\":\"grey\", \"lithology\":\"sandstone\", \"grainsize\":\"vf-f\"'\n",
        "width='2.0', colour='#ff99cc', rock='\"lithology\":\"anhydrite\"'\n",
        "width='3.0', colour='#dbd6bc', rock='\"colour\":\"grey\", \"lithology\":\"heterolithic\"'\n",
        "width='2.0', colour='#ff4c4a', rock='\"lithology\":\"volcanic\"')"
       ]
      }
     ],
     "prompt_number": 36
    },
    {
     "cell_type": "code",
     "collapsed": false,
     "input": [
      "print legend.to_csv()"
     ],
     "language": "python",
     "metadata": {},
     "outputs": [
      {
       "output_type": "stream",
       "stream": "stdout",
       "text": [
        "colour,width,rock colour,rock lithology,rock grainsize\n",
        "#ffffff,0.0,,,,\n",
        "#f7e9a6,3.0,grey,sandstone,vf-f,\n",
        "#ff99cc,2.0,,anhydrite,,\n",
        "#dbd6bc,3.0,grey,heterolithic,,\n",
        "#ff4c4a,2.0,,volcanic,,\n",
        "#86f0b6,5.0,,conglomerate,,\n",
        "#ff96f6,2.0,,halite,,\n",
        "#f2ff42,4.0,grey,sandstone,f-m,\n",
        "#dbc9bc,3.0,red,heterolithic,,\n",
        "#a68374,2.0,grey,siltstone,,\n",
        "#a657fa,3.0,,dolomite,,\n",
        "#ffd073,4.0,red,sandstone,c-m,\n",
        "#a6d1ff,3.0,,limestone,,\n",
        "#ffdbba,3.0,red,sandstone,vf-f,\n",
        "#ffe040,4.0,grey,sandstone,c-m,\n",
        "#a1655a,2.0,red,siltstone,,\n",
        "#363434,1.0,,coal,,\n",
        "#664a4a,1.0,red,mudstone,,\n",
        "#666666,1.0,grey,mudstone,,\n",
        "\n"
       ]
      }
     ],
     "prompt_number": 37
    },
    {
     "cell_type": "markdown",
     "metadata": {},
     "source": [
      "In fact, this is the default legend. "
     ]
    },
    {
     "cell_type": "code",
     "collapsed": false,
     "input": [
      "Legend.default()"
     ],
     "language": "python",
     "metadata": {},
     "outputs": [
      {
       "metadata": {},
       "output_type": "pyout",
       "prompt_number": 38,
       "text": [
        "Legend(width='0.0', colour='#ffffff', rock=''\n",
        "width='3.0', colour='#f7e9a6', rock='\"colour\":\"grey\", \"lithology\":\"sandstone\", \"grainsize\":\"vf-f\"'\n",
        "width='2.0', colour='#ff99cc', rock='\"lithology\":\"anhydrite\"'\n",
        "width='3.0', colour='#dbd6bc', rock='\"colour\":\"grey\", \"lithology\":\"heterolithic\"'\n",
        "width='2.0', colour='#ff4c4a', rock='\"lithology\":\"volcanic\"'\n",
        "width='5.0', colour='#86f0b6', rock='\"lithology\":\"conglomerate\"'\n",
        "width='2.0', colour='#ff96f6', rock='\"lithology\":\"halite\"'\n",
        "width='4.0', colour='#f2ff42', rock='\"colour\":\"grey\", \"lithology\":\"sandstone\", \"grainsize\":\"f-m\"'\n",
        "width='3.0', colour='#dbc9bc', rock='\"colour\":\"red\", \"lithology\":\"heterolithic\"'\n",
        "width='2.0', colour='#a68374', rock='\"colour\":\"grey\", \"lithology\":\"siltstone\"'\n",
        "width='3.0', colour='#a657fa', rock='\"lithology\":\"dolomite\"'\n",
        "width='4.0', colour='#ffd073', rock='\"colour\":\"red\", \"lithology\":\"sandstone\", \"grainsize\":\"c-m\"'\n",
        "width='3.0', colour='#a6d1ff', rock='\"lithology\":\"limestone\"'\n",
        "width='3.0', colour='#ffdbba', rock='\"colour\":\"red\", \"lithology\":\"sandstone\", \"grainsize\":\"vf-f\"'\n",
        "width='4.0', colour='#ffe040', rock='\"colour\":\"grey\", \"lithology\":\"sandstone\", \"grainsize\":\"c-m\"'\n",
        "width='2.0', colour='#a1655a', rock='\"colour\":\"red\", \"lithology\":\"siltstone\"'\n",
        "width='1.0', colour='#363434', rock='\"lithology\":\"coal\"'\n",
        "width='1.0', colour='#664a4a', rock='\"colour\":\"red\", \"lithology\":\"mudstone\"'\n",
        "width='1.0', colour='#666666', rock='\"colour\":\"grey\", \"lithology\":\"mudstone\"')"
       ]
      }
     ],
     "prompt_number": 38
    },
    {
     "cell_type": "markdown",
     "metadata": {},
     "source": [
      "We can ask the Legend what colour to use for a given Rock object:"
     ]
    },
    {
     "cell_type": "code",
     "collapsed": false,
     "input": [
      "legend.get_colour(rock)"
     ],
     "language": "python",
     "metadata": {},
     "outputs": [
      {
       "metadata": {},
       "output_type": "pyout",
       "prompt_number": 39,
       "text": [
        "'#eeeeee'"
       ]
      }
     ],
     "prompt_number": 39
    },
    {
     "cell_type": "code",
     "collapsed": false,
     "input": [
      "rock3 = Rock({'colour': 'red',\n",
      "           'grainsize': 'vf-f',\n",
      "           'lithology': 'sandstone'})\n",
      "legend.get_colour(rock3)"
     ],
     "language": "python",
     "metadata": {},
     "outputs": [
      {
       "metadata": {},
       "output_type": "pyout",
       "prompt_number": 40,
       "text": [
        "'#ffdbba'"
       ]
      }
     ],
     "prompt_number": 40
    },
    {
     "cell_type": "markdown",
     "metadata": {},
     "source": [
      "Sometimes we also want to use a width for a given lithology:"
     ]
    },
    {
     "cell_type": "code",
     "collapsed": false,
     "input": [
      "legend.get_width(rock3)"
     ],
     "language": "python",
     "metadata": {},
     "outputs": [
      {
       "metadata": {},
       "output_type": "pyout",
       "prompt_number": 41,
       "text": [
        "3.0"
       ]
      }
     ],
     "prompt_number": 41
    },
    {
     "cell_type": "markdown",
     "metadata": {},
     "source": [
      "We can also ask the legend which Rock is represented by a particular colour. (I doubt you'd ever really need to do this, but I had to implement this to allow you to make a `Striplog` from an image: it looks up the rocks to use by colour.)"
     ]
    },
    {
     "cell_type": "code",
     "collapsed": false,
     "input": [
      "legend.get_rock('#f7e9a6')"
     ],
     "language": "python",
     "metadata": {},
     "outputs": [
      {
       "metadata": {},
       "output_type": "pyout",
       "prompt_number": 42,
       "text": [
        "Rock(\"colour\":\"grey\", \"lithology\":\"sandstone\", \"grainsize\":\"vf-f\")"
       ]
      }
     ],
     "prompt_number": 42
    },
    {
     "cell_type": "markdown",
     "metadata": {},
     "source": [
      "The `Legend` behaves more or less like a list, so we can index into it:"
     ]
    },
    {
     "cell_type": "code",
     "collapsed": false,
     "input": [
      "legend[3:5]"
     ],
     "language": "python",
     "metadata": {},
     "outputs": [
      {
       "metadata": {},
       "output_type": "pyout",
       "prompt_number": 43,
       "text": [
        "Legend(width='3.0', colour='#dbd6bc', rock='\"colour\":\"grey\", \"lithology\":\"heterolithic\"'\n",
        "width='2.0', colour='#ff4c4a', rock='\"lithology\":\"volcanic\"')"
       ]
      }
     ],
     "prompt_number": 43
    },
    {
     "cell_type": "markdown",
     "metadata": {},
     "source": [
      "`Legend`s can plot themselves. "
     ]
    },
    {
     "cell_type": "code",
     "collapsed": false,
     "input": [
      "legend.plot()"
     ],
     "language": "python",
     "metadata": {},
     "outputs": [
      {
       "metadata": {},
       "output_type": "display_data",
       "png": "[encoded data removed]",
       "text": [
        "<matplotlib.figure.Figure at 0x10bc84ad0>"
       ]
      },
      {
       "metadata": {},
       "output_type": "display_data",
       "png": "[encoded data removed]",
       "text": [
        "<matplotlib.figure.Figure at 0x10bc96bd0>"
       ]
      },
      {
       "metadata": {},
       "output_type": "display_data",
       "png": "[encoded data removed]",
       "text": [
        "<matplotlib.figure.Figure at 0x10bcc3510>"
       ]
      },
      {
       "metadata": {},
       "output_type": "display_data",
       "png": "[encoded data removed]",
       "text": [
        "<matplotlib.figure.Figure at 0x10bcd8c10>"
       ]
      },
      {
       "metadata": {},
       "output_type": "display_data",
       "png": "[encoded data removed]",
       "text": [
        "<matplotlib.figure.Figure at 0x10bc84d50>"
       ]
      },
      {
       "metadata": {},
       "output_type": "display_data",
       "png": "[encoded data removed]",
       "text": [
        "<matplotlib.figure.Figure at 0x10bc71d10>"
       ]
      },
      {
       "metadata": {},
       "output_type": "display_data",
       "png": "[encoded data removed]",
       "text": [
        "<matplotlib.figure.Figure at 0x10bcf2090>"
       ]
      },
      {
       "metadata": {},
       "output_type": "display_data",
       "png": "[encoded data removed]",
       "text": [
        "<matplotlib.figure.Figure at 0x10bd1e3d0>"
       ]
      },
      {
       "metadata": {},
       "output_type": "display_data",
       "png": "[encoded data removed]",
       "text": [
        "<matplotlib.figure.Figure at 0x10bd4a710>"
       ]
      },
      {
       "metadata": {},
       "output_type": "display_data",
       "png": "[encoded data removed]",
       "text": [
        "<matplotlib.figure.Figure at 0x10bd76a50>"
       ]
      },
      {
       "metadata": {},
       "output_type": "display_data",
       "png": "[encoded data removed]",
       "text": [
        "<matplotlib.figure.Figure at 0x10bda0d90>"
       ]
      },
      {
       "metadata": {},
       "output_type": "display_data",
       "png": "[encoded data removed]",
       "text": [
        "<matplotlib.figure.Figure at 0x10bdcf110>"
       ]
      },
      {
       "metadata": {},
       "output_type": "display_data",
       "png": "[encoded data removed]",
       "text": [
        "<matplotlib.figure.Figure at 0x10bdfc450>"
       ]
      },
      {
       "metadata": {},
       "output_type": "display_data",
       "png": "[encoded data removed]",
       "text": [
        "<matplotlib.figure.Figure at 0x10be28790>"
       ]
      },
      {
       "metadata": {},
       "output_type": "display_data",
       "png": "[encoded data removed]",
       "text": [
        "<matplotlib.figure.Figure at 0x10be42310>"
       ]
      },
      {
       "metadata": {},
       "output_type": "display_data",
       "png": "[encoded data removed]",
       "text": [
        "<matplotlib.figure.Figure at 0x10bd8ff10>"
       ]
      },
      {
       "metadata": {},
       "output_type": "display_data",
       "png": "[encoded data removed]",
       "text": [
        "<matplotlib.figure.Figure at 0x10bb3d510>"
       ]
      },
      {
       "metadata": {},
       "output_type": "display_data",
       "png": "[encoded data removed]",
       "text": [
        "<matplotlib.figure.Figure at 0x10bc93110>"
       ]
      },
      {
       "metadata": {},
       "output_type": "display_data",
       "png": "[encoded data removed]",
       "text": [
        "<matplotlib.figure.Figure at 0x10bc77ed0>"
       ]
      }
     ],
     "prompt_number": 44
    },
    {
     "cell_type": "markdown",
     "metadata": {},
     "source": [
      "<hr />"
     ]
    },
    {
     "cell_type": "markdown",
     "metadata": {},
     "source": [
      "## Interval"
     ]
    },
    {
     "cell_type": "code",
     "collapsed": false,
     "input": [
      "from interval import Interval\n",
      "print Interval.__doc__"
     ],
     "language": "python",
     "metadata": {},
     "outputs": [
      {
       "output_type": "stream",
       "stream": "stdout",
       "text": [
        "\n",
        "    Used to represent a lithologic or stratigraphic interval, or single point,\n",
        "    such as a sample location.\n",
        "\n",
        "    Initialize with a top (and optional base) and a description and/or\n",
        "    an ordered list of components, each of which is a Rock.\n",
        "\n",
        "    Args:\n",
        "        top (float): Required top depth. Required.\n",
        "        base (float): Base depth. Optional.\n",
        "        lexicon (dict): A lexicon. See documentation. Optional unless you only\n",
        "            provide descriptions, because it's needed to extract components.\n",
        "        max_component (int): The number of components to extract. Default 1.\n",
        "        abbreviations (bool): Whether to parse for abbreviations.\n",
        "\n",
        "    \n"
       ]
      }
     ],
     "prompt_number": 45
    },
    {
     "cell_type": "code",
     "collapsed": false,
     "input": [
      "interval = Interval(20, 40, \"Grey sandstone.\", lexicon=lexicon)\n",
      "interval"
     ],
     "language": "python",
     "metadata": {},
     "outputs": [
      {
       "metadata": {},
       "output_type": "pyout",
       "prompt_number": 46,
       "text": [
        "Interval(top: 20.0, base: 40.0, description: 'Grey sandstone.', components: [Rock(\"colour\":\"grey\", \"lithology\":\"sandstone\")])"
       ]
      }
     ],
     "prompt_number": 46
    },
    {
     "cell_type": "markdown",
     "metadata": {},
     "source": [
      "`Interval`s have a `primary` attribute, which holds the first component, no matter how many components there are."
     ]
    },
    {
     "cell_type": "code",
     "collapsed": false,
     "input": [
      "interval.primary"
     ],
     "language": "python",
     "metadata": {},
     "outputs": [
      {
       "metadata": {},
       "output_type": "pyout",
       "prompt_number": 47,
       "text": [
        "Rock(\"colour\":\"grey\", \"lithology\":\"sandstone\")"
       ]
      }
     ],
     "prompt_number": 47
    },
    {
     "cell_type": "markdown",
     "metadata": {},
     "source": [
      "Ask for the summary to see the thickness and a `Rock` summary of the primary component. Note that the format code only applies to the `Rock` part of the summary."
     ]
    },
    {
     "cell_type": "code",
     "collapsed": false,
     "input": [
      "interval.summary(fmt=\"{colour} {lithology}\")"
     ],
     "language": "python",
     "metadata": {},
     "outputs": [
      {
       "metadata": {},
       "output_type": "pyout",
       "prompt_number": 48,
       "text": [
        "'20.00 m of grey sandstone'"
       ]
      }
     ],
     "prompt_number": 48
    },
    {
     "cell_type": "markdown",
     "metadata": {},
     "source": [
      "We can compare intervals, based on their thickness. Let's make one which is 5 m thicker than the prvious one."
     ]
    },
    {
     "cell_type": "code",
     "collapsed": false,
     "input": [
      "interval_2 = Interval(40, 65, \"Red sandstone.\", lexicon=lexicon)"
     ],
     "language": "python",
     "metadata": {},
     "outputs": [],
     "prompt_number": 49
    },
    {
     "cell_type": "code",
     "collapsed": false,
     "input": [
      "print interval_2 == interval\n",
      "print interval_2 > interval\n",
      "print max(interval, interval_2).summary()"
     ],
     "language": "python",
     "metadata": {},
     "outputs": [
      {
       "output_type": "stream",
       "stream": "stdout",
       "text": [
        "False\n",
        "True\n",
        "25.00 m of red, sandstone\n"
       ]
      }
     ],
     "prompt_number": 50
    },
    {
     "cell_type": "markdown",
     "metadata": {},
     "source": [
      "We can combine intervals with the `+` operator. (However, you cannot subtract intervals.)"
     ]
    },
    {
     "cell_type": "code",
     "collapsed": false,
     "input": [
      "interval_2 + interval"
     ],
     "language": "python",
     "metadata": {},
     "outputs": [
      {
       "metadata": {},
       "output_type": "pyout",
       "prompt_number": 51,
       "text": [
        "Interval(top: 20.0, base: 65.0, description: '55.6% Red sandstone with 44.4% Grey sandstone', components: [Rock(\"colour\":\"red\", \"lithology\":\"sandstone\"), Rock(\"colour\":\"grey\", \"lithology\":\"sandstone\")])"
       ]
      }
     ],
     "prompt_number": 51
    },
    {
     "cell_type": "markdown",
     "metadata": {},
     "source": [
      "If we add a number to an `interval`, it adds thickness to the base."
     ]
    },
    {
     "cell_type": "code",
     "collapsed": false,
     "input": [
      "interval + 5"
     ],
     "language": "python",
     "metadata": {},
     "outputs": [
      {
       "metadata": {},
       "output_type": "pyout",
       "prompt_number": 52,
       "text": [
        "Interval(top: 20.0, base: 45.0, description: 'Grey sandstone.', components: [Rock(\"colour\":\"grey\", \"lithology\":\"sandstone\")])"
       ]
      }
     ],
     "prompt_number": 52
    },
    {
     "cell_type": "markdown",
     "metadata": {},
     "source": [
      "Adding a rock adds a (minor) component and adds to the description. "
     ]
    },
    {
     "cell_type": "code",
     "collapsed": false,
     "input": [
      "interval + rock3"
     ],
     "language": "python",
     "metadata": {},
     "outputs": [
      {
       "metadata": {},
       "output_type": "pyout",
       "prompt_number": 53,
       "text": [
        "Interval(top: 20.0, base: 40.0, description: 'Grey sandstone. with Red, sandstone, vf-f', components: [Rock(\"colour\":\"grey\", \"lithology\":\"sandstone\"), Rock(\"colour\":\"red\", \"lithology\":\"sandstone\", \"grainsize\":\"vf-f\")])"
       ]
      }
     ],
     "prompt_number": 53
    },
    {
     "cell_type": "markdown",
     "metadata": {},
     "source": [
      "<hr />\n",
      "\n",
      "<p style=\"color:gray\">\u00a92015 Agile Geoscience. Licensed CC-BY. <a href=\"https://github.com/agile-geoscience/striplog\">striplog.py</a></p>"
     ]
    }
   ],
   "metadata": {}
  }
 ]
}