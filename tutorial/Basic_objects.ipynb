{
 "cells": [
  {
   "cell_type": "markdown",
   "metadata": {},
   "source": [
    "# Basic objects"
   ]
  },
  {
   "cell_type": "markdown",
   "metadata": {},
   "source": [
    "A `striplog` depends on a hierarchy of objects. This notebook shows the objects and their basic functionality.\n",
    "\n",
    "- [Lexicon](#Lexicon): A dictionary containing the words and word categories to use for rock descriptions.\n",
    "- [Component](#Component): A set of attributes. \n",
    "- [Interval](#Interval): One element from a Striplog — consists of a top, base, a description, one or more Components, and a source.\n",
    "\n",
    "Striplogs (a set of `Interval`s) are described in [a separate notebook](Striplog_object.ipynb).\n",
    "\n",
    "Decors and Legends are also described in [another notebook](Display_objects.ipynb)."
   ]
  },
  {
   "cell_type": "code",
   "execution_count": 1,
   "metadata": {
    "collapsed": false
   },
   "outputs": [
    {
     "data": {
      "text/plain": [
       "'0.6.0'"
      ]
     },
     "execution_count": 1,
     "metadata": {},
     "output_type": "execute_result"
    }
   ],
   "source": [
    "import striplog\n",
    "striplog.__version__"
   ]
  },
  {
   "cell_type": "markdown",
   "metadata": {},
   "source": [
    "<hr />"
   ]
  },
  {
   "cell_type": "markdown",
   "metadata": {},
   "source": [
    "## Lexicon"
   ]
  },
  {
   "cell_type": "code",
   "execution_count": 2,
   "metadata": {
    "collapsed": false
   },
   "outputs": [
    {
     "name": "stdout",
     "output_type": "stream",
     "text": [
      "\n",
      "    A Lexicon is a dictionary of 'types' and regex patterns.\n",
      "\n",
      "    Most commonly you will just load the default one.\n",
      "\n",
      "    Args:\n",
      "        params (dict): The dictionary to use. For an example, refer to the\n",
      "            default lexicon in ``defaults.py``.\n",
      "    \n"
     ]
    }
   ],
   "source": [
    "from striplog import Lexicon\n",
    "print(Lexicon.__doc__)"
   ]
  },
  {
   "cell_type": "code",
   "execution_count": 3,
   "metadata": {
    "collapsed": false
   },
   "outputs": [
    {
     "data": {
      "text/plain": [
       "{'abbreviations': {'Bld': 'boulder', 'Poln': 'pollen', 'Ltl': 'little', 'Bry': 'bryozoa', 'Grap': 'graptolite', 'tub': 'tubular', 'aph': 'aphanitic', 'Cor': 'coral', 'crbnt': 'carbonate', 'exclas': 'extraclastic', 'pyr': 'pyritized', 'S.W.': 'salt water', 'vrtl': 'vertical', 'Mdst': 'mudstone', 'SOCM': 'slight oil cut mud', 'brt': 'bright', 'mod': 'moderate', 'sm': 'smooth', 'mrly': 'marly', 'Phyl': 'phyllite', 'Chara': 'charophytes', 'or': 'orangish', 'gept': 'geopetal', 'flky': 'flaky', 'anhy': 'anhydritic', 'Deer': 'decrease', 'Qtzt': 'quartzite', 'mdy': 'muddy', 'Stach': 'stachyodes*', 'cmt': 'cemented', 'Sa': 'salt', 'gy': 'gray', 'perm': 'permeability', 'rhb': 'rhombic', 'sdy': 'sandy', 'Char': 'charophyte', 'pch': 'patchy', 'fl': 'filled', 'Mtrx': 'matrix', 'O str': 'Ostracod', 'sil': 'siliceous', 'dissem': 'disseminated', 'G&OCM': 'gas and oil cut mud', 'psool': 'pseudo oolitic', 'Strom': 'stromatoporoid', 'recem': 'recemented', 'rsns': 'resinous', 'volc': 'volcanics', 'Sedm': 'sediment', 'sc': 'scales', 'Slick slick': 'slickenside', 'm': 'medium', 'Rk': 'rock', 'Smwt': 'somewhat', 'Iran': 'granule', 'tgh': 'tough', 'fl/': 'flowing', 'FIt': 'fault', 'venn': 'vermillon', 'vit': 'vitreous', 'Spfool': 'superficial olite', 'Allo': 'allochem', 'tn': 'tan', 'Lut': 'lutite', 'Lith': 'lithology', 'pris': 'prismatic', 'SI': 'shut in', 'Sol': 'Soution', 'mass': 'massive', 'Tr': 'trace', 'deb': 'debris', 'drsy': 'drusy', 'med.': 'medium', 'p.p.': 'pin-poin', 'Bas': 'basalt', 'Chlor': 'chlorite', 'gr': 'grained', 'Orbit': 'Orbitolina', 'Ooc': 'oolicast', 'LL': 'laterolog', 'MLL': 'microlaterolog', 'Wtr': 'water', 'g': 'good', 'crd': 'cored', 'intfrag': 'interfragmental', 'Cont': 'content', 'HO': 'heavy oil', 'pk': 'pink', 'lt': 'lighter', 'xbd': 'cross-bedded', 'Pel': 'pellet', 'cntrt': 'contorted', 'intpar': 'interparticle', 'Tub': 'tube', 'Ls': 'limestone', 'phos': 'phosphatic', 'Repl': 'replaced', 'var': 'variable', 'meta': 'metamorphic', 'boudg': 'boudinage', 'bu': 'buff', 'bit': 'bitumeninous', 'crpld': 'crumpled', 'lav': 'lavender', 'gns': 'gneiss', 'od': 'odor', 'vi': 'violet', 'Gr': 'grains', \"'' or do\": 'ditto', 'depau': 'depauperate', 'SAB': 'strong air blow', 'contm': 'contaminated', 'Foss': 'fossiliferous', 'porcel': 'porcelaneous', 'Oyst': 'oyster', 'sltst': 'siltstone', 'Glos': 'gloss', 'IES': 'induction electric', 'Plag': 'plagioclase', 'ox': 'oxidized', 'Sd': 'sand', 'Intst': 'intersticies', 'magnt': 'magnetite', 'rng': 'range', 'ahd': 'anhedral', 'loc': 'location', 'stal': 'stalactitic', 'rnd': 'rounded', 'Sid': 'siderite', 'rep': 'replacedment', 'Euryamph': 'euryamphipora*', 'lithgr': 'lithographic', 'ireg': 'irregular', 'bo': 'bophaceous', 'Fau': 'fauna', 'Arag': 'aragonite', 'biocl': 'bioclastic', 'Oomol': 'oomold', 'sid': 'sideritic', 'hem': 'hematitic', 'flg': 'flaggy', 'r': 'rare', 'tstg': 'testing', 'fenst': 'fenestral', 'deer': 'decreasing', 'Rem': 'remains', 'SGCM': 'slight gas cut mud', 'Port por': 'porosity', 'grnt.w': 'granite wash', 'phr': 'phreatic', 'glos': 'glossy', 'comp': 'completion', 'euhd': 'euhedral', 'devit': 'devitrified', 'Cav': 'cavernous', 'pol': 'polished', 'chty': 'cherty', 'imbd': 'imbedded', 'bor': 'boreding', 'W': 'west', 'lse': 'loose', 'bioh': 'biohermal', 'conspic': 'conspicuous', 'plty': 'platy', 'uncons': 'unconsolidated', 'lmpy': 'lumpy', 'abnt': 'abundant', 'ga': 'gauged', 'sml': 'small', 'Grt': 'granite', 'Scs': 'scarce', 'G.W.': 'granite wash', 'Clclt': 'calcilutite', 'cren': 'crenulated', 'lge': 'large', 'BHT': 'bottom hole temperature', 'Mbl': 'marble', 'brak': 'brackish', 'mnut': 'minute', 'n': 'no, none, non', 'Spo': 'spore', 'lmy': 'limy', 'gen': 'generally', 'Trip': 'tripoli', 'Incl': 'inclusion', 'BW': 'barrels of water', 'cb': 'carbonized', 'Sst': 'sandstone', 'sd': 'sand (1/16-2 mm)', 'S.W.C.': 'sidewall core', 'Fen': 'fenestra', 'TSTM': 'too small to measure', 'DST': 'drill stem test', 'intpt': 'interpretation', 'O&SW': 'oil and salt water', 'sh': 'shale', 'Vnlet': 'veinlet', 'Shlt por': 'shelter porosity', 'Nod': 'nodules', 'mat': 'material, matter', 'cons': 'considerable', 'FAB': 'fair air blow', 'dist': 'distillate', 'Pch': 'patch', 'elg': 'elongate', 'Lyr': 'layer', 'Schm': 'schist', 'cotd': 'coateding', 'Microstyl': 'microstylolite', 'cht': 'chert', 'Lstr': 'lustre', 'spec': 'speckled', 'FTAB': 'faint air blow', 'Gyp': 'gypsumiferous', 'Dol': 'dolomite', 'Ctgs': 'cuttings', 'phen': 'phenocrysts', 'aren': 'arenaceous', 'Clvg': 'cleavage', 'carb': 'carbonaceous', 'Strk': 'streak', 'Volc': 'volcanic', 'coqid': 'coquinaoid', 'lac': 'lacustrine', 'lrg': 'larger', 'prly': 'pearly', 'Rbl': 'rubble', 'srt': 'sorting', 'alg': 'algal', 'Wkst': 'wackestone', 'OTS': 'oil to surface', 'p.d': 'pressure deformation', 'bar': 'baritic', 'AOF': 'absolute open flow', 'dtrl': 'detritalus', 'aglm': 'agglomerate', 'euhed': 'euhedral', 'Gast': 'gastropod', 'Foram': 'foraminifera', 'lim': 'itic', 'su': 'sulphurous', '(W)': 'wildcat', 'mag': 'magnetic', 'frg': 'fringing', 'col': 'colored', 'pbl': 'pebble (4-64 mm)', 'hkl': 'hackly', 'Mic': 'micaceous', 'Xl': 'crystal', 'cub': 'cubic', 'bdg': 'bedding', 'intgn': 'inter grown', 'DF': 'derrick floor', 's&p': 'salt & pepper', 'intxln': 'intercrystalline', 'contam': 'contaminated', 'marn': 'marine', 'Circ': 'circulate', 'mar': 'maroon', 'intst': 'intersticitial', 'stri': 'striated', 'oom': 'oomoldic', 'E': 'east', 'KB': 'kelly bushing', 'GOR': 'gas-to-oil ratio', '&': 'and', 'Fp': 'flowing pressure', 'uncons.': 'unconsolidated', 'min': 'mineralized', 'Solen': 'solenopora*', 'Slt': 'silt', 'ck': 'choke', 'Girv': 'girvanella*', 'DI': 'dual induction log', 'WCM': 'water cut mud', 'Zr': 'zircon', 'Belm': 'belemnites*', 'bdd': 'bedded', 'chk': 'chalky', 'Meta': 'metamorphic rock', 'spkld': 'speckled', 'Var': 'variation', 'micr': 'micritic', 'apprx': 'approximate', 'Invtb': 'invertebrate', 'bl': 'bluish', 'men': 'meniscus', 'Tex': 'texture', 'Frac': 'fracture', 'acic': 'acicular', 'sel': 'selenite', 'crinal': 'crinoidal', 'Glob': 'globigerina*', 'sqz': 'squeezed', 'fib': 'fibrous', 'rug': 'rugosa', 'coln': 'colonial', 'Rad': 'radial', 'magn': 'magnetic', 'Bioh': 'bioherm', 'Fluor': 'fluoresceince', 'posa': 'possible', 'Scol': 'scolecodonts', 'sli': 'slightly', 'Lam': 'laminations', 'Fe-st': 'ironstone', 'Fac': 'facet', 'detr': 'detrital', 'PH': 'per hour', 'dom': 'dominant', 'Orth': 'orthoclase', 'ctc': 'contact', 'fol': 'foliated', 't.b.': 'thin-bedded', 'rndd': 'rounded', 'Sil': 'silica', 'gl': 'glassy', 'Mat': 'material', 'micropor': 'microporosity', 'Flk': 'flake', 'eux': 'euxinic', 'Phlog': 'phloaopite', 'circ': 'circulation', 'tr': 'trace', 'tex': 'texture', 'sks': 'slickensided', 'GIP': 'good initial puff', 'cov': 'covered', 'MCO': 'mud cut oil', 'Pap': 'paper', 'Glas': 'glass', 'PPM': 'parts per million', 'bas': 'basaltic', 'ls': 'limestone', 'V.P.S.': 'very poor sample V.P.S.', 'Micropor': 'micropore', 'Aglm': 'agglomerate', 'cly': 'clayey', 'In': 'inch', 'poly': 'polygonal', 'SSO': 'slight show of oil', 'lmn': 'limonitic', 'Grv': 'gravel', 'flor': 'fluorescence', 's': 'small', 'Clcar': 'calcarenite', 'OCM': 'oil cut mud', 'decr': 'decreasing', 'rhmb': 'rhombic', 'Pisol': 'pisolite', 'p-p': 'pin point', 'stn': 'staining', 'frmwk': 'framework', 'arg': 'argillaceous', 'Tp': 'top', 'Cl': 'clay', 'med': 'medium', 'rexl': 'recrystallization', 'slb': 'slabby', 'Rhb': 'rhomb', 'Wl': 'well', 'Qtz': 'quartz', 'crpxln': 'crystocrystalline', 'max': 'maximum', 'Flo': 'flora', 'crnk': 'crinkled', 'sa': 'salt', 'Ptg': 'parting', 'sed': 'sedimentary', 'Gal': 'galeolaria*', 'SOCW': 'slight oil cut water', 'blk': 'black', 'stromlt': 'stromatolite', 'syn': 'syntaxial', 'chit': 'chitinous', 'T.D.': 'total depth', 'vug': 'vugular', 'clr': 'clear', 'org': 'organic', 'eqnt': 'equant', 'sz': 'size', 'jt': 'jointing', 's & p': 'salt and pepper', 'vert': 'vertical', 'abv': 'above', '(D)': 'development', 'ab': 'above', 'Par': 'particle', 'calctc': 'calcitic', 'authg': 'authigenic', 'extr': 'extremely', 'n.v.p.': 'no visible porosity', 'rdsh': 'redish', 'fr': 'fair', 'lam': 'laminated', 'Slst': 'siltstone', 'up': 'upper', 'pt': 'partly', 'grd': 'graded', 'glas': 'glassy', 'O-Qtz': 'orthoquartzite', 'plag': 'plagioclase', 'rbl': 'rubblbly', 'micgr': 'micrograined', 'unident': 'unidentifiable', 'Ctc': 'contact', 'vcol': 'varicolored', 'Mol': 'mollusca', 't.s.': 'thin section', 'Intvl': 'interval', 'Tas': 'tasmanites*', 'fau': 'fauna', 'cgl': 'conglomerate', 'vps': 'very poor samples', 'Microol': 'micro-oolite', 'bld': 'bladed', 'uni': 'uniform', 'rd': 'rounded', 'Sh': 'shale', 'Satm sat': 'saturation', 'alt': 'altering', 'Stn': 'stain', 'ES': 'electric', 'LL8': 'laterolog-8', 'Gns': 'gneiss', 'Pt': 'part', 'intrapar': 'intraparticle', 'volat': 'volatile', 'orsh': 'orangish', 'repl': 'replacement', 'app': 'appear', 'mky': 'milky', 'dkr': 'darker', 'grnt': 'granite', 'argl': 'argillate', 'qtzc': 'quartzitic', 'Elev': 'elevation', 'irr': 'irregular', 'lith': 'lithographic', 'spl': 'sample', 'cotd gn': 'coated grains', 'lg': 'long', 'blky': 'blocky', 'Bot': 'botryoid', 'Onc': 'oncolite', 'por': 'poroussity', 'fac': 'faceted', 'Tent': 'tentaculites*', 'intxl': 'intercrystalline', 'sb': 'sub', 'x': 'cross', 'Descr': 'description', 'Ft': 'foot', 'intclas': 'intraclastic', 'bur': 'burrowed', 'ss': 'sandstone', 'rthy': 'earthy', 'lent': 'lenticular', 'Assem': 'Assem', 'sim': 'similar', 'x-lam': 'cross-laminated', 'Cbl': 'cobble', 'vgt': 'varigated', 'rad': 'radiating', 'bcm': 'becoming', 'MCW': 'mud cut water', 'Pend': 'pendularous', 'surf': 'surface', 'LSD': 'legal subdivision', 'stmg': 'streaming', 'frag': 'fragmental', 'Splin': 'splintery', 'grapst': 'grapestone', 'microxln': 'microcrystalline', 'abs': 'absent', 'assoc': 'associated', 'ark': 'arkosic', 'Jasp': 'jasper', 'csg': 'casing', 'exp': 'exposed', 'Moll': 'mollusc', 'sacc': 'saccharoidal', 'Pbl': 'pebble', 'blksh': 'blackish', 'Stylio': 'styliolina*', 'indst': 'indistinct', 'aft': 'after', 'Microfos': 'microfossilferous', 'litt': 'littoral', 'thk': 'thick', 'Biot': 'biotite', 'fibr': 'fibrous', 'hvy': 'heavy', 'nod': 'nodule', 'rec': 'recovered', 'olvn': 'olivine', 'Mrl': 'marl', 'calc': 'calcitareous', 'flk': 'flake', 'Bit': 'bitumen', 'dk': 'darker', 'Vn': 'vein', 'cotg': 'coateding', 'SNP': 'sidewall neutron porosity log', 'brit': 'brittle', 'lit': 'lithic', 'consol': 'consolidated', 'altg': 'alternating', 'sy-Ca': 'sparry calcite', 'anhed': 'anhedral', 'Vad': 'vadose', 'Stri': 'striae', 'W.R.': 'washed residue', 'Hem': 'hematite', 'embd': 'embedded', 'bnd': 'banded', 'SGCW': 'slight gas cut water', 'lig': 'lignitic', 'spr': 'sparry', 'wtr cush': 'water cushion', 'ex': 'excellent', 'Fspr': 'feldspar', 'psdo': 'pseudo', 'mott': 'mottled', 'Vug': 'vug', 'Fe': 'iron-ferruginous', 'spher': 'spherulitic', 'strk': 'streaked', 'Bdst': 'boundstone', 'Fuc': 'fucoid', 'fspr': 'feldsparathic', 'trnsp': 'transparent', 'tab': 'tabular', 'IAB': 'initial air blow', 'srtg': 'Sorteding', 'BWPD': 'barrels of water per day', 'crm': 'cream', 'skel': 'skeletal', 'hom': 'homogeneous', 'Chaet': 'chaetetes*', 'mic': 'micro', 'sbang': 'subangular', 'Lat': 'laterite', 'bulb': 'bulbous', 'Lim': 'limonite', 'hrtl': 'horizontal', 'shad': 'shadow', 'purp': 'purple', 'V.op': 'valve open', 'intv': 'interval', 'varic': 'varicolored', 'Clcsp': 'calcisphere', 'Conc': 'concretion', 'dism': 'disseminated', 'Het': 'Heterostegina', 'clyst': 'claystone', 'pap': 'papery', 'Jt': 'joint', 'prphy': 'porphyry', 'sps': 'sparsly', 'sol': 'solitary', 'Ark': 'arkose', 'wxy': 'waxy', 'Mbr': 'member', 'Cvg': 'caving', 'Tril': 'trilobite', 'Bent': 'bentonite', 'mos': 'mosaic', 'orng': 'orange', 'dru': 'drusy', 'Bdeye': 'birdseye', 'Spher': 'spherule', 'sblit': 'sublithic', 'Plcy': 'palecypod', 'WIP': 'weak initial puff', 'SIP': 'shut in pressure', 'bdeye': 'birdseye', 'Phos': 'phosphate', 'ferr': 'ferruginous', 'pos': 'possibility', 'Contam': 'contamination', 'GAP': 'good air blow', 'zeo': 'zeolite', 'chky': 'chalky', 'k': 'permeabilityable', 'Microspr': 'microspar', 'BWPH': 'barrels of water per hour', 'Clus': 'cluster', 'Bur': 'burrow', 'Pybit': 'pyrobitumen', 'wg': 'vuggy', 'chal': 'chalcedony', 'och': 'ochre', 'Bubl': 'bubble', 'md': 'muddy', 'Calc': 'calcite', 'plas': 'plastic', 'sug': 'sugary', 'intbd': 'interbedded', 'Glauc': 'glauconite', 'Pkst': 'packstone', 'intstl': 'interstitial', 'GR': 'gamma ray', 'mas': 'massive', 'MMCFG': 'million cubic feet of gas', 'Diagn': 'diagenesis', 'Piso': 'pisoid', 'strgr': 'stringer', 'sphal': 'sphalerite', 'Spr': 'spore', 'mnr': 'minor', 'GL': 'guard log', 'Rpl': 'ripple', 'PL': 'proximity log', 'spsly': 'sparsly', 'vrvd': 'varved', 'Plt': 'plant', 'spty': 'spottedy', 'Pent': 'pentamerus*', 'bf': 'buff', 'qtzs': 'quartzose', 'olv': 'olive', 'p': 'poorly', 'OWWO': 'old well worked over', 'Mn': 'manganese', 'qtz': 'quartz', 'mot': 'mottled', 'cncn': 'concentric', 'bri': 'bright', 'pres': 'preservation', 'Biost': 'biostrom', 'hetr': 'heterogeneous', 'Amph': 'amphipora*', 'gyp': 'gypsumiferous', 'FDL': 'formation density log', 'Mid': 'middle', 'bldr': 'boulder', 'hex': 'hexagonal', 'cpct': 'compact', 'sph': 'spherules', 'DLL': 'dual laterolog', 'mnrl': 'mineralized', 'O&G': 'oil and gas', 'elong': 'elongate', 'Fe-mag': 'ferro-magnesian', 'Alg': 'algal', 'qtzt': 'quartzite', 'n/s': 'no show', 'chlor': 'chlorite', 'xl': 'crystalline', 'incl': 'inclusion', 'ig': 'igneous', 'ea': 'earthy', 'Radax': 'radiaxial', 'Musc': 'muscovite', 'rr': 'rare', 'Bm': 'basement', 'frs': 'fresh', 'Bdg': 'bedding', 'Spg': 'sponge', 'rexlzd': 'recrystallized', 'vis': 'visible', 'Para': 'paraparchites*', 'lchd': 'leached', 'wi': 'with', 'Str': 'structure', 'flt': 'faulted', 'sec': 'secondary', 'spic': 'spicular', 'dolst': 'dolostone', 'fnly': 'finly', 'v': 'very', 'phyl': 'phyllitic', 'Peld': 'pelletoid', 'fld': 'feldsparthic', 'biost': 'biostromal', 'fuc': 'fucoidal', 'Su': 'sulphur', 'tns': 'tension', 'Asph': 'assemblage', 'Syring': 'syringopora*', 'Clst': 'claystone', 'Crin': 'crinoidal', 'Bnd': 'band', 'Cono': 'conodont', 'resd': 'residual', 'Ren': 'renalcis*', 'mol': 'moldic', 'strg': 'stringer', 'Ost': 'ostracod', 'DL': 'density log', 'conc': 'concretionary', 'Res': 'residue', 'cche': 'caliche', 'GTS': 'gas to surface', 'str': 'streak', 'Hyde': 'hydrocarbon', 'ang': 'angular', 'SO&W': 'show of oil and water', 'abd': 'abundant', 'est': 'estimated', 'ovgth': 'overgrowth', 'Equiv': 'equivalent', 'Dia': 'diameter', 'mrl': 'marly', 'intgran': 'intergranular', 'pisol': 'pisolitic', 'Sphal': 'sphalerite', 'intcl': 'intraclasts', 'glau': 'glauconitic', 'typ': 'typical', 'S': 'sonic, acoustilog', 'Styl': 'stylolite', 'ptg': 'parting', 'Sel': 'selenite', 'Len': 'lens', 'BHCS': 'bore hole compensated sonic', 'gvl': 'gravel', 'w/': 'with', 'RT': 'rotary table', 'slky': 'silky', 'splty': 'splintery', 'styl': 'stylotitic', 'G': 'gas', 'Grst': 'grainstone', 'gywk': 'graywacke', 'ptch': 'patches', 'Exclas': 'extraclast', 'bent': 'bentonitic', 'Ech': 'echinoid', 'gry': 'greyish', 'Ig': 'igneous rock', 'Fm': 'formation', 'wh': 'white', 'gran': 'granular', 'hydc': 'hydrocarbon', 'pyrbit': 'pyrobitumen', 'mtx': 'matrix', 'sptd': 'spottedy', 'Chk': 'chalk', 'Cyp': 'cypridopsis*', 'ti': 'tight', 'Rf': 'reef', 'imp': 'impression', 'drlr': 'driller', 'perf': 'perforated', 'Wd': 'wood', 'intercal': 'intercalated', 'Bor': 'bored', 'onc': 'oncolites', 'ctd': 'coated', 'Agg': 'aggregate', 'ind': 'indurated', 'vrtb': 'vertebrate', '₵': 'core', 'Fus': 'fusulinid', 'cln': 'clean', 'fls': 'flesh', 'cl': 'clastic', 'peld': 'pelletoidal', 'Cal': 'caliper', 'Clcrd': 'calcirudite', 'wtr': 'water', 'pyrcl': 'pyroclastic', 'xlam': 'cross-laminated', 'D & A': 'dry and abandoned', 'Bd': 'bed', 'metaph': 'metamorphosed', 'sept': 'septate', 'thn': 'thin', 'orth': 'orthoclase', 'Cgl': 'conglomerate', 'Coq': 'coquina', 'Perm': 'permeability', 'wthd': 'weathered', 'WAB': 'weak air blow', 'Dist': 'distillate', 'SO&G': 'show of oil and gas', 'Micr': 'micrite', 'Spic': 'spicule', 'Pelec': 'pelecypod', 'apr': 'apparent', 'sat': 'saturated', 'ps': 'pseudo-', 'BOPD': 'barrels of oil per day', 'Prod': 'production', 'dns': 'denser', 'sln': 'solution', 'Gran': 'granule', 'fros': 'frosted', 'ooc': 'oocastic', 'Zn': 'zone', 'Gwke': 'graywacke', 'Pol': 'polish', 'BHFP': 'bottom hole flow pressure', 'gd': 'good', 'com': 'common', 'xln': 'crystalline', 'Pyr': 'pyrite', 'ap': 'appears', 'Tf': 'tuffaceous', 'w/o': 'without w/o', 'r.f.p': 'rounded frosted pitted', 'OC': 'oil cut', 'msm': 'metasomatic', 'exv': 'extrusive', 'conch': 'conchoidal', 'N': 'Neutron', 'Anthr': 'anthracite', 'OWDD': 'oil well drilled deeper', 'I.P.': 'in part', 'SO': 'show of oil', 'irid': 'iridescent', 'f': 'finely', 'BOPH': 'barrels of oil per hour', 'clas': 'clastic', 'IP': 'initial production', 'Chtz': 'chitinozoa', 'hi': 'high', 'Biosp': 'biosparite', 'pred': 'predominantly', 'tuf': 'tuffaceous', 'ML': 'microlog, minilog', 'scat': 'scattered', 'sch': 'schist', 'rf': 'reefoid', 'zn': 'zone', 'insl': 'insoluble', 'pkr': 'packer', 'MCFG': 'thousand cubic feet of gas', 'oo': 'ooidal', 'op': 'open', '/': 'with', 'pit': 'pitted', 'sl': 'slightly', 'Cmt': 'cement', 'lstr': 'lustre', 'o': 'oil', 'Brec': 'breccia', '@': 'at', 'Ool': 'oolite', 'psi': 'pounds per square inch', 'Deb': 'debris', 'dess': 'dessiccation', 'mica': 'micaeous', 'PB': 'plugged back', 'pkish': 'pinkish', 'pel': 'pellet', 'Gab': 'gabbro', 'u': 'upper', 'BHP': 'bottom hole pressure', 'asph': 'asphaltic', 'Spl': 'sampole', 'Ceph': 'cephalopod', 'nac': 'nacerous', 'fos': 'fossiliferous', 'sft': 'soft', 'Inoc': 'inoceramus*', 'Fvst': 'favosites*', 'C': 'coal', 'OSR': 'oil source rock', 'OTD': 'old total depth', 'tt': 'tightly', 'BO': 'barrels of oil', 'Min': 'mineral', 'fri': 'friable', 'amb': 'amber', 'grysh': 'greyish', 'cbl': 'cobble (64-256 mm)', 'Typ': 'type', 'wk': 'weak', 'abt': 'about', 'pl': 'plant', 'Milid': 'miliolid', 'intgwn': 'intergrown', 'wthrd': 'weathered', 'Hal': 'halitiferous', 'slily': 'slightly', 'cvg': 'cavings', 'Clslt': 'calcisiltite', 'Stromlt': 'stromatolite', 'struc': 'structure', 'Db': 'diabase', 'a.a.': 'same as above sample', 'Endo': 'endothyra*', 'Sl': 'slate', 'Rud': 'rudist', 'Ivan': 'ivanovia*', 'gty': 'gravity', 'rmn': 'remainant', 'bd': 'bed', 'F.Q.G.': 'frosted quartz  grains', 'evap': 'evapourititic', 'gn': 'green', 'Lig': 'lignite', 'dol': 'dolomitic', 'Spk': 'speck', 'amt': 'amount', 'ves': 'vesicular', 'Chit': 'chitinous', 'Col': 'color', 'bioturb': 'bioturbated', 'cntr': 'centered', 'blsh': 'bluish', 'thru': 'throughout', 'suc': 'sucrosic', 'foram': 'foraminiferal', 'GCW': 'gas cut water', 'Brac': 'brachiopod', 'Unconf': 'unconformity', 'sbrndd': 'sub rounded', 'grad': 'grading', 'len': 'lentilcular', 'prob': 'probably', 'vn': 'vein', 'intrlam': 'interlaminated', 'OWPB': 'oil well plugged back', 'sp': 'spotty', 'trnsl': 'translucent', 'Gil': 'gilsonite', 'Btm': 'bottom', 'fluor': 'fluoresceincent', 'Pst': 'pumice-stone', 'Shl': 'shell', 'shy': 'shaly', 'gt': 'gritty', 'frac': 'fractured', 'fen': 'fenestraal', 'grnl': 'granule (2-4 mm)', 'amor': 'amorphous', 'gil': 'gilsonite', 'slty': 'silty', 'brk': 'brackish', 'Intclas': 'intraclast', 'crs': 'coarse', 'Pyrxn': 'pyroxene', 'pet': 'petroleumiferous', 'dd': 'dead', 'dend': 'dendritic', 'SP': 'spontaneous potential', 'sa-c': 'salt castic', 'brd': 'bored', 'biot': 'biotite', 'strat': 'strataified', 'Kao': 'kaolin', 'Casph': 'calcisphaera*', 'slt': 'silt', 'Exv': 'extrusive rock', 'w': 'well', 'Frg': 'fringe', 'choc': 'chocolate', 'diagn': 'diagenesisetic', 'gnsh': 'greenish', 'incr': 'increasing', 'Gt': 'grit', 'brhg': 'branching', 'ter': 'terriginous', 'Chal': 'chalcedony', 'hor': 'horizontal', 'Av': 'average', 'Surf': 'surface', 'cp': 'compare', 'l': 'lower', 'Cub': 'cube', 'coq': 'coquina', 'Brach': 'brachiopod', 'gsy': 'grasy', 'amm': 'ammonite', 'brec': 'brecciated', 'hd': 'hard', 'xbdg': 'cross-bedding', 'clus': 'cluster', 'intr': 'intrusionive', 'grdg': 'grading', 'bot': 'botryoidal', 'Scaph': 'scaphopod', 'Macrofos': 'macrofossil', 'crpxl': 'cryptocrystalline', 'freq': 'frequent', 'c': 'coarsely', 'fis': 'fissile', 'Biomi': 'biomicrite', 'Imp': 'impression', 'trip': 'tripolic', 'kao': 'kaolin', 'SW': 'salt water', 'Mag': 'magnetite', 'Cht': 'chert', 'yel': 'yellow', 'hornbd': 'hornblend', 'res': 'residuual', 'ool': 'oolitic', 'Strat': 'strata', 'Intr': 'intrusive', 'PD': 'per day', 'brn': 'brown', 'prom': 'prominently', 'Anhy': 'anhydrite', 'BHSIP': 'bottom hole shut in pressure', 'swbd': 'swabbed', 'n.s.': 'no sample', 'intlam': 'interlaminated', 'fnt': 'faintly', 'yelsh': 'ish', 'wvy': 'wavy', 'corln': 'coralline', 'fltg': 'floating', 'undly': 'underlying', 'Shw': 'show', 'oomol': 'oomoldic', 'x-bd': 'cross-bedded', 'Oo': 'ooid', 'piso': 'pisolitic', 'occ': 'occasional', 'Tham': 'thamnopora*', 'musc': 'muscovite', 'Brk': 'break', 'Psool': 'pseudo oolite', 'Rec': 'recovery', 'Sphaer': 'sphaerocodium*', 'DIL': 'dual induction laterolog', 'num': 'numerous', 'des': 'descript', 'Frag': 'fragment', 'drlg': 'drilling', 'prim': 'primary', 'Novac': 'novaculite', 'Pet': 'petroleum', 'Evap': 'evapourite', 'CN': 'compensated neutron', 'aprox': 'approximately', 'x-strat': 'cross-stratified', 'GCM': 'gas cut mud', 'OFM': 'oil flecked mud', 'mrlst': 'marlstone', 'Uc': 'underclay'}, 'amount': ['streaks?', 'veins?', 'stringers?', 'interbed(?:s|ded)?', 'blotch(?:es)?', 'bands?', 'fragments?', 'impurit(?:y|ies)', 'minor', 'some', 'abundant', 'rare', 'flakes?', '[-\\\\.\\\\d]+%'], 'colour': ['red(?:dish)?', 'gray(?:ish)?', 'grey(?:ish)?', 'black(?:ish)?', 'whit(?:e|ish)', 'blu(?:e|ish)', 'purpl(?:e|ish)', 'yellow(?:ish)?', 'green(?:ish)?', 'brown(?:ish)?', 'light', 'dark', 'sandy'], 'grainsize': ['vf(?:-)?', 'f(?:-)?', 'm(?:-)?', 'c(?:-)?', 'vc', 'very fine(?: to)?', 'fine(?: to)?', 'medium(?: to)?', 'coarse(?: to)?', 'very coarse', 'v fine(?: to)?', 'med(?: to)?', 'med.(?: to)?', 'v coarse', 'grains?', 'granules?', 'pebbles?', 'cobbles?', 'boulders?'], 'synonyms': {'Anhydrite': ['Gypsum'], 'Overburden': ['Drift'], 'Salt': ['Halite', 'Sylvite']}, 'parts_of_speech': {'subordinate': ['amount'], 'adjective': ['colour', 'grainsize'], 'noun': ['lithology']}, 'lithology': ['overburden', 'sandstone', 'siltstone', 'shale', 'mudstone', 'limestone', 'dolomite', 'salt', 'halite', 'anhydrite', 'gypsum', 'sylvite', 'clay', 'mud', 'silt', 'sand', 'gravel', 'boulders']}"
      ]
     },
     "execution_count": 3,
     "metadata": {},
     "output_type": "execute_result"
    }
   ],
   "source": [
    "lexicon = Lexicon.default()\n",
    "lexicon"
   ]
  },
  {
   "cell_type": "code",
   "execution_count": 4,
   "metadata": {
    "collapsed": false
   },
   "outputs": [
    {
     "data": {
      "text/plain": [
       "{'Anhydrite': ['Gypsum'],\n",
       " 'Overburden': ['Drift'],\n",
       " 'Salt': ['Halite', 'Sylvite']}"
      ]
     },
     "execution_count": 4,
     "metadata": {},
     "output_type": "execute_result"
    }
   ],
   "source": [
    "lexicon.synonyms"
   ]
  },
  {
   "cell_type": "markdown",
   "metadata": {},
   "source": [
    "Most of the lexicon works 'behind the scenes' when processing descriptions into `Rock` components."
   ]
  },
  {
   "cell_type": "code",
   "execution_count": 5,
   "metadata": {
    "collapsed": false
   },
   "outputs": [
    {
     "data": {
      "text/plain": [
       "'salt'"
      ]
     },
     "execution_count": 5,
     "metadata": {},
     "output_type": "execute_result"
    }
   ],
   "source": [
    "lexicon.find_synonym('Halite')"
   ]
  },
  {
   "cell_type": "code",
   "execution_count": 6,
   "metadata": {
    "collapsed": false
   },
   "outputs": [
    {
     "data": {
      "text/plain": [
       "'greyish green sandstone with spotty gray shale'"
      ]
     },
     "execution_count": 6,
     "metadata": {},
     "output_type": "execute_result"
    }
   ],
   "source": [
    "s = \"grysh gn ss w/ sp gy sh\"\n",
    "lexicon.expand_abbreviations(s)"
   ]
  },
  {
   "cell_type": "markdown",
   "metadata": {},
   "source": [
    "<hr />"
   ]
  },
  {
   "cell_type": "markdown",
   "metadata": {},
   "source": [
    "## Component"
   ]
  },
  {
   "cell_type": "markdown",
   "metadata": {},
   "source": [
    "A set of attributes. All are optional."
   ]
  },
  {
   "cell_type": "code",
   "execution_count": 7,
   "metadata": {
    "collapsed": false
   },
   "outputs": [],
   "source": [
    "from striplog import Component"
   ]
  },
  {
   "cell_type": "code",
   "execution_count": 8,
   "metadata": {
    "collapsed": false
   },
   "outputs": [
    {
     "name": "stdout",
     "output_type": "stream",
     "text": [
      "\n",
      "    Initialize with a dictionary of properties. You can use any\n",
      "    properties you want e.g.:\n",
      "\n",
      "        - lithology: a simple one-word rock type\n",
      "        - colour, e.g. 'grey'\n",
      "        - grainsize or range, e.g. 'vf-f'\n",
      "        - modifier, e.g. 'rippled'\n",
      "        - quantity, e.g. '35%', or 'stringers'\n",
      "        - description, e.g. from cuttings\n",
      "    \n"
     ]
    }
   ],
   "source": [
    "print(Component.__doc__)"
   ]
  },
  {
   "cell_type": "markdown",
   "metadata": {},
   "source": [
    "We define a new rock with a Python `dict` object:"
   ]
  },
  {
   "cell_type": "code",
   "execution_count": 9,
   "metadata": {
    "collapsed": false
   },
   "outputs": [
    {
     "data": {
      "text/html": [
       "<table><tr><td><strong>colour</strong></td><td>grey</td></tr><tr><td><strong>grainsize</strong></td><td>vf-f</td></tr><tr><td><strong>lithology</strong></td><td>sand</td></tr></table>"
      ],
      "text/plain": [
       "Component({'colour': 'grey', 'grainsize': 'vf-f', 'lithology': 'sand'})"
      ]
     },
     "execution_count": 9,
     "metadata": {},
     "output_type": "execute_result"
    }
   ],
   "source": [
    "r = {'colour': 'grey',\n",
    "     'grainsize': 'vf-f',\n",
    "     'lithology': 'sand'}\n",
    "rock = Component(r)\n",
    "rock"
   ]
  },
  {
   "cell_type": "markdown",
   "metadata": {},
   "source": [
    "The Rock has a colour:"
   ]
  },
  {
   "cell_type": "code",
   "execution_count": 10,
   "metadata": {
    "collapsed": false
   },
   "outputs": [
    {
     "data": {
      "text/plain": [
       "'grey'"
      ]
     },
     "execution_count": 10,
     "metadata": {},
     "output_type": "execute_result"
    }
   ],
   "source": [
    "rock['colour']"
   ]
  },
  {
   "cell_type": "markdown",
   "metadata": {},
   "source": [
    "And it has a summary, which is generated from its attributes. "
   ]
  },
  {
   "cell_type": "code",
   "execution_count": 11,
   "metadata": {
    "collapsed": false
   },
   "outputs": [
    {
     "data": {
      "text/plain": [
       "'Grey, vf-f, sand'"
      ]
     },
     "execution_count": 11,
     "metadata": {},
     "output_type": "execute_result"
    }
   ],
   "source": [
    "rock.summary()"
   ]
  },
  {
   "cell_type": "markdown",
   "metadata": {},
   "source": [
    "We can format the summary if we wish:"
   ]
  },
  {
   "cell_type": "code",
   "execution_count": 12,
   "metadata": {
    "collapsed": false
   },
   "outputs": [
    {
     "data": {
      "text/plain": [
       "'My rock: sand (grey, VF-F)'"
      ]
     },
     "execution_count": 12,
     "metadata": {},
     "output_type": "execute_result"
    }
   ],
   "source": [
    "rock.summary(fmt=\"My rock: {lithology} ({colour}, {grainsize!u})\")"
   ]
  },
  {
   "cell_type": "markdown",
   "metadata": {},
   "source": [
    "The formatting supports the usual `s`, `r`, and `a`: \n",
    "\n",
    "* `s`: `str`\n",
    "* `r`: `repr`\n",
    "* `a`: `ascii`\n",
    "\n",
    "Also some string functions:\n",
    "\n",
    "* `u`: `str.upper`\n",
    "* `l`: `str.lower`\n",
    "* `c`: `str.capitalize`\n",
    "* `t`: `str.title`\n",
    "\n",
    "And some numerical ones, for arrays of numbers:\n",
    "\n",
    "* `+` or `∑`: `np.sum`\n",
    "* `m` or `µ`: `np.mean`\n",
    "* `v`: `np.var`\n",
    "* `d`: `np.std`\n",
    "* `x`: `np.product`"
   ]
  },
  {
   "cell_type": "code",
   "execution_count": 13,
   "metadata": {
    "collapsed": false
   },
   "outputs": [
    {
     "data": {
      "text/plain": [
       "'The GREY SAND has a total of 1.62 bogonsand mean porosity of 20%.'"
      ]
     },
     "execution_count": 13,
     "metadata": {},
     "output_type": "execute_result"
    }
   ],
   "source": [
    "x = {'colour': ['Grey', 'Brown'],\n",
    "     'bogosity': [0.45, 0.51, 0.66],\n",
    "     'porosity': [0.2003, 0.1998, 0.2112, 0.2013, 0.1990],\n",
    "     'grainsize': 'VF-F',\n",
    "     'lithology': 'Sand',\n",
    "     }\n",
    "\n",
    "X = Component(x)\n",
    "\n",
    "fmt  = 'The {colour[0]!u} {lithology!u} has a total of {bogosity!∑:.2f} bogons'\n",
    "fmt += 'and mean porosity of {porosity!µ:2.0%}.'\n",
    "\n",
    "X.summary(fmt)"
   ]
  },
  {
   "cell_type": "code",
   "execution_count": 14,
   "metadata": {
    "collapsed": false
   },
   "outputs": [
    {
     "data": {
      "text/plain": [
       "'{\"porosity\": [0.2003, 0.1998, 0.2112, 0.2013, 0.199], \"colour\": [\"Grey\", \"Brown\"], \"grainsize\": \"VF-F\", \"bogosity\": [0.45, 0.51, 0.66], \"lithology\": \"Sand\"}'"
      ]
     },
     "execution_count": 14,
     "metadata": {},
     "output_type": "execute_result"
    }
   ],
   "source": [
    "X.json()"
   ]
  },
  {
   "cell_type": "markdown",
   "metadata": {},
   "source": [
    "We can compare rocks with the usual `==` operator: "
   ]
  },
  {
   "cell_type": "code",
   "execution_count": 15,
   "metadata": {
    "collapsed": false
   },
   "outputs": [
    {
     "data": {
      "text/plain": [
       "True"
      ]
     },
     "execution_count": 15,
     "metadata": {},
     "output_type": "execute_result"
    }
   ],
   "source": [
    "rock2 = Component({'grainsize': 'VF-F',\n",
    "                   'colour': 'Grey',\n",
    "                   'lithology': 'Sand'})\n",
    "rock == rock2"
   ]
  },
  {
   "cell_type": "code",
   "execution_count": 16,
   "metadata": {
    "collapsed": false
   },
   "outputs": [
    {
     "data": {
      "text/html": [
       "<table><tr><td><strong>colour</strong></td><td>grey</td></tr><tr><td><strong>grainsize</strong></td><td>vf-f</td></tr><tr><td><strong>lithology</strong></td><td>sand</td></tr></table>"
      ],
      "text/plain": [
       "Component({'colour': 'grey', 'grainsize': 'vf-f', 'lithology': 'sand'})"
      ]
     },
     "execution_count": 16,
     "metadata": {},
     "output_type": "execute_result"
    }
   ],
   "source": [
    "rock"
   ]
  },
  {
   "cell_type": "markdown",
   "metadata": {},
   "source": [
    "In order to create a Component object from text, we need a lexicon to compare the text against. The lexicon describes the language we want to extract, and what it means."
   ]
  },
  {
   "cell_type": "code",
   "execution_count": 17,
   "metadata": {
    "collapsed": false
   },
   "outputs": [
    {
     "data": {
      "text/html": [
       "<table><tr><td><strong>colour</strong></td><td>grey</td></tr><tr><td><strong>grainsize</strong></td><td>fine</td></tr><tr><td><strong>lithology</strong></td><td>sandstone</td></tr></table>"
      ],
      "text/plain": [
       "Component({'colour': 'grey', 'grainsize': 'fine', 'lithology': 'sandstone'})"
      ]
     },
     "execution_count": 17,
     "metadata": {},
     "output_type": "execute_result"
    }
   ],
   "source": [
    "rock3 = Component.from_text('Grey fine sandstone.', lexicon)\n",
    "rock3"
   ]
  },
  {
   "cell_type": "markdown",
   "metadata": {},
   "source": [
    "Components support double-star-unpacking:"
   ]
  },
  {
   "cell_type": "code",
   "execution_count": 18,
   "metadata": {
    "collapsed": false
   },
   "outputs": [
    {
     "data": {
      "text/plain": [
       "'My rock: sandstone (grey, fine)'"
      ]
     },
     "execution_count": 18,
     "metadata": {},
     "output_type": "execute_result"
    }
   ],
   "source": [
    "\"My rock: {lithology} ({colour}, {grainsize})\".format(**rock3)"
   ]
  },
  {
   "cell_type": "markdown",
   "metadata": {},
   "source": [
    "<hr />"
   ]
  },
  {
   "cell_type": "markdown",
   "metadata": {},
   "source": [
    "## Position\n",
    "\n",
    "Positions define points in the earth, like a top, but with uncertainty. You can define:\n",
    "\n",
    "* `upper` — the highest possible location\n",
    "* `middle` — the most likely location\n",
    "* `lower` — the lowest possible location\n",
    "* `units` — the units of measurement\n",
    "* `x` and `y` — the _x_ and _y_ location (these don't have uncertainty, sorry)\n",
    "* `meta` — a Python dictionary containing anything you want\n",
    "\n",
    "Positions don't have a 'way up'. "
   ]
  },
  {
   "cell_type": "code",
   "execution_count": 19,
   "metadata": {
    "collapsed": false
   },
   "outputs": [
    {
     "name": "stdout",
     "output_type": "stream",
     "text": [
      "\n",
      "    Used to represent a position: a top or base.\n",
      "\n",
      "    Not sure whether to go with upper-middle-lower or z_max, z_mid, z_min.\n",
      "    Sticking to upper and lower, because ordering in Intervals is already\n",
      "    based on 'above' and 'below'.\n",
      "    \n"
     ]
    }
   ],
   "source": [
    "from striplog import Position\n",
    "print(Position.__doc__)"
   ]
  },
  {
   "cell_type": "code",
   "execution_count": 20,
   "metadata": {
    "collapsed": false
   },
   "outputs": [
    {
     "data": {
      "text/html": [
       "<table><tr><td><strong>upper</strong></td><td>95.0</td></tr><tr><td><strong>middle</strong></td><td>100.0</td></tr><tr><td><strong>lower</strong></td><td>110.0</td></tr></table>"
      ],
      "text/plain": [
       "Position({'upper': 95.0, 'meta': <striplog.position.Meta object at 0x107fcfc88>, 'units': 'm', 'lower': 110.0, 'middle': 100.0})"
      ]
     },
     "execution_count": 20,
     "metadata": {},
     "output_type": "execute_result"
    }
   ],
   "source": [
    "params = {'upper': 95,\n",
    "          'middle': 100,\n",
    "          'lower': 110,\n",
    "          'meta': {'kind': 'erosive', 'source': 'DOE'}\n",
    "          }\n",
    "\n",
    "p = Position(**params)\n",
    "p"
   ]
  },
  {
   "cell_type": "markdown",
   "metadata": {},
   "source": [
    "Even if you don't give a `middle`, you can always get `z`: the central, most likely position:"
   ]
  },
  {
   "cell_type": "code",
   "execution_count": 21,
   "metadata": {
    "collapsed": false
   },
   "outputs": [
    {
     "data": {
      "text/html": [
       "<table><tr><td><strong>upper</strong></td><td>75.0</td></tr><tr><td><strong>middle</strong></td><td></td></tr><tr><td><strong>lower</strong></td><td>85.0</td></tr></table>"
      ],
      "text/plain": [
       "Position({'upper': 75.0, 'units': 'm', 'lower': 85.0})"
      ]
     },
     "execution_count": 21,
     "metadata": {},
     "output_type": "execute_result"
    }
   ],
   "source": [
    "params = {'upper': 75, 'lower': 85}\n",
    "p = Position(**params)\n",
    "p"
   ]
  },
  {
   "cell_type": "code",
   "execution_count": 22,
   "metadata": {
    "collapsed": false
   },
   "outputs": [
    {
     "data": {
      "text/plain": [
       "80.0"
      ]
     },
     "execution_count": 22,
     "metadata": {},
     "output_type": "execute_result"
    }
   ],
   "source": [
    "p.z"
   ]
  },
  {
   "cell_type": "markdown",
   "metadata": {},
   "source": [
    "<hr />"
   ]
  },
  {
   "cell_type": "markdown",
   "metadata": {},
   "source": [
    "## Interval\n",
    "\n",
    "Intervals are where it gets interesting. An interval can have:\n",
    "\n",
    "* a top\n",
    "* a base\n",
    "* a description (in natural language)\n",
    "* a list of `Component`s\n",
    "\n",
    "Intervals don't have a 'way up', it's implied by the order of `top` and `base`. "
   ]
  },
  {
   "cell_type": "code",
   "execution_count": 23,
   "metadata": {
    "collapsed": false
   },
   "outputs": [
    {
     "name": "stdout",
     "output_type": "stream",
     "text": [
      "\n",
      "    Used to represent a lithologic or stratigraphic interval, or single point,\n",
      "    such as a sample location.\n",
      "\n",
      "    Initialize with a top (and optional base) and a description and/or\n",
      "    an ordered list of components.\n",
      "\n",
      "    Args:\n",
      "        top (float): Required top depth. Required.\n",
      "        base (float): Base depth. Optional.\n",
      "        description (str): Textual description.\n",
      "        lexicon (dict): A lexicon. See documentation. Optional unless you only\n",
      "            provide descriptions, because it's needed to extract components.\n",
      "        max_component (int): The number of components to extract. Default 1.\n",
      "        abbreviations (bool): Whether to parse for abbreviations.\n",
      "\n",
      "    TODO:\n",
      "        Seems like I should be able to instantiate like this:\n",
      "\n",
      "            Interval({'top': 0, 'components':[Component({'age': 'Neogene'})\n",
      "\n",
      "        I can get around it for now like this:\n",
      "\n",
      "            Interval(**{'top': 0, 'components':[Component({'age': 'Neogene'})\n",
      "\n",
      "        Question: should Interval itself cope with only being handed 'top' and\n",
      "        either fill in down to the next or optionally create a point?\n",
      "    \n"
     ]
    }
   ],
   "source": [
    "from striplog import Interval\n",
    "print(Interval.__doc__)"
   ]
  },
  {
   "cell_type": "markdown",
   "metadata": {},
   "source": [
    "I might make an `Interval` explicitly from a Component..."
   ]
  },
  {
   "cell_type": "code",
   "execution_count": 24,
   "metadata": {
    "collapsed": false
   },
   "outputs": [
    {
     "data": {
      "text/html": [
       "<table><tr><td style=\"width:2em; background-color:#DDDDDD\" rowspan=\"5\"></td><td><strong>top</strong></td><td>10.0</td></tr><tr><td><strong>primary</strong></td><td><table><tr><td><strong>colour</strong></td><td>grey</td></tr><tr><td><strong>grainsize</strong></td><td>vf-f</td></tr><tr><td><strong>lithology</strong></td><td>sand</td></tr></table></td></tr><tr><td><strong>summary</strong></td><td>10.00 m of grey, vf-f, sand</td></tr><tr><td><strong>description</strong></td><td></td></tr><tr><td><strong>base</strong></td><td>20.0</td></tr></table>"
      ],
      "text/plain": [
       "Interval({'top': Position({'units': 'm', 'middle': 10.0}), 'description': '', 'base': Position({'units': 'm', 'middle': 20.0}), 'components': [Component({'colour': 'grey', 'grainsize': 'vf-f', 'lithology': 'sand'})]})"
      ]
     },
     "execution_count": 24,
     "metadata": {},
     "output_type": "execute_result"
    }
   ],
   "source": [
    "Interval(10, 20, components=[rock])"
   ]
  },
  {
   "cell_type": "markdown",
   "metadata": {},
   "source": [
    "... or I might pass a description and a `lexicon` and Striplog will parse the description and attempt to extract structured `Component` objects from it."
   ]
  },
  {
   "cell_type": "code",
   "execution_count": 25,
   "metadata": {
    "collapsed": false
   },
   "outputs": [
    {
     "data": {
      "text/plain": [
       "\"Interval({'top': Position({'units': 'm', 'middle': 20.0}), 'description': 'Grey sandstone with shale flakes.', 'base': Position({'units': 'm', 'middle': 40.0}), 'components': [Component({'colour': 'grey', 'lithology': 'sandstone'})]})\""
      ]
     },
     "execution_count": 25,
     "metadata": {},
     "output_type": "execute_result"
    }
   ],
   "source": [
    "Interval(20, 40, \"Grey sandstone with shale flakes.\", lexicon=lexicon).__repr__()"
   ]
  },
  {
   "cell_type": "markdown",
   "metadata": {},
   "source": [
    "Notice I only got one `Component`, even though the description contains a subordinate lithology. This is the default behaviour, we have to ask for more components:"
   ]
  },
  {
   "cell_type": "code",
   "execution_count": 26,
   "metadata": {
    "collapsed": false
   },
   "outputs": [
    {
     "name": "stdout",
     "output_type": "stream",
     "text": [
      "{'top': Position({'units': 'm', 'middle': 20.0}), 'description': 'Grey sandstone with black shale flakes.', 'base': Position({'units': 'm', 'middle': 40.0}), 'components': [Component({'colour': 'grey', 'lithology': 'sandstone'}), Component({'amount': 'flakes', 'colour': 'black', 'lithology': 'shale'})]}\n"
     ]
    }
   ],
   "source": [
    "interval = Interval(20, 40, \"Grey sandstone with black shale flakes.\", lexicon=lexicon, max_component=2)\n",
    "print(interval)"
   ]
  },
  {
   "cell_type": "markdown",
   "metadata": {},
   "source": [
    "`Interval`s have a `primary` attribute, which holds the first component, no matter how many components there are."
   ]
  },
  {
   "cell_type": "code",
   "execution_count": 27,
   "metadata": {
    "collapsed": false
   },
   "outputs": [
    {
     "data": {
      "text/html": [
       "<table><tr><td><strong>colour</strong></td><td>grey</td></tr><tr><td><strong>lithology</strong></td><td>sandstone</td></tr></table>"
      ],
      "text/plain": [
       "Component({'colour': 'grey', 'lithology': 'sandstone'})"
      ]
     },
     "execution_count": 27,
     "metadata": {},
     "output_type": "execute_result"
    }
   ],
   "source": [
    "interval.primary"
   ]
  },
  {
   "cell_type": "markdown",
   "metadata": {},
   "source": [
    "Ask for the summary to see the thickness and a `Rock` summary of the primary component. Note that the format code only applies to the `Rock` part of the summary."
   ]
  },
  {
   "cell_type": "code",
   "execution_count": 28,
   "metadata": {
    "collapsed": false
   },
   "outputs": [
    {
     "data": {
      "text/plain": [
       "'20.00 m of grey sandstone with black shale'"
      ]
     },
     "execution_count": 28,
     "metadata": {},
     "output_type": "execute_result"
    }
   ],
   "source": [
    "interval.summary(fmt=\"{colour} {lithology}\")"
   ]
  },
  {
   "cell_type": "markdown",
   "metadata": {},
   "source": [
    "We can change an interval's properties:"
   ]
  },
  {
   "cell_type": "code",
   "execution_count": 29,
   "metadata": {
    "collapsed": false
   },
   "outputs": [],
   "source": [
    "interval.top = 18"
   ]
  },
  {
   "cell_type": "code",
   "execution_count": 30,
   "metadata": {
    "collapsed": false
   },
   "outputs": [
    {
     "data": {
      "text/html": [
       "<table><tr><td style=\"width:2em; background-color:#DDDDDD\" rowspan=\"5\"></td><td><strong>top</strong></td><td>18.0</td></tr><tr><td><strong>primary</strong></td><td><table><tr><td><strong>colour</strong></td><td>grey</td></tr><tr><td><strong>lithology</strong></td><td>sandstone</td></tr></table></td></tr><tr><td><strong>summary</strong></td><td>22.00 m of grey, sandstone with flakes, black, shale</td></tr><tr><td><strong>description</strong></td><td>Grey sandstone with black shale flakes.</td></tr><tr><td><strong>base</strong></td><td>40.0</td></tr></table>"
      ],
      "text/plain": [
       "Interval({'top': Position({'units': 'm', 'middle': 18.0}), 'description': 'Grey sandstone with black shale flakes.', 'base': Position({'units': 'm', 'middle': 40.0}), 'components': [Component({'colour': 'grey', 'lithology': 'sandstone'}), Component({'amount': 'flakes', 'colour': 'black', 'lithology': 'shale'})]})"
      ]
     },
     "execution_count": 30,
     "metadata": {},
     "output_type": "execute_result"
    }
   ],
   "source": [
    "interval"
   ]
  },
  {
   "cell_type": "code",
   "execution_count": 31,
   "metadata": {
    "collapsed": false
   },
   "outputs": [
    {
     "data": {
      "text/html": [
       "<table><tr><td><strong>upper</strong></td><td>18.0</td></tr><tr><td><strong>middle</strong></td><td>18.0</td></tr><tr><td><strong>lower</strong></td><td>18.0</td></tr></table>"
      ],
      "text/plain": [
       "Position({'units': 'm', 'middle': 18.0})"
      ]
     },
     "execution_count": 31,
     "metadata": {},
     "output_type": "execute_result"
    }
   ],
   "source": [
    "interval.top"
   ]
  },
  {
   "cell_type": "markdown",
   "metadata": {},
   "source": [
    "<hr />\n",
    "\n",
    "## Comparing and combining intervals"
   ]
  },
  {
   "cell_type": "code",
   "execution_count": 32,
   "metadata": {
    "collapsed": true
   },
   "outputs": [],
   "source": [
    "# Depth ordered\n",
    "i1 = Interval(top=61, base=62.5, components=[Component({'lithology': 'limestone'})])\n",
    "i2 = Interval(top=62, base=63, components=[Component({'lithology': 'sandstone'})])\n",
    "i3 = Interval(top=62.5, base=63.5, components=[Component({'lithology': 'siltstone'})])\n",
    "i4 = Interval(top=63, base=64, components=[Component({'lithology': 'shale'})])\n",
    "i5 = Interval(top=63.1, base=63.4, components=[Component({'lithology': 'dolomite'})])\n",
    "\n",
    "# Elevation ordered\n",
    "i8 = Interval(top=200, base=100, components=[Component({'lithology': 'sandstone'})])\n",
    "i7 = Interval(top=150, base=50, components=[Component({'lithology': 'limestone'})])\n",
    "i6 = Interval(top=100, base=0, components=[Component({'lithology': 'siltstone'})])"
   ]
  },
  {
   "cell_type": "code",
   "execution_count": 33,
   "metadata": {
    "collapsed": false
   },
   "outputs": [
    {
     "data": {
      "text/plain": [
       "'depth'"
      ]
     },
     "execution_count": 33,
     "metadata": {},
     "output_type": "execute_result"
    }
   ],
   "source": [
    "i2.order"
   ]
  },
  {
   "cell_type": "markdown",
   "metadata": {},
   "source": [
    "**Technical aside:** The `Interval` class is a `functools.total_ordering`, so providing `__eq__` and one other comparison (such as `__lt__`) in the class definition means that instances of the class have implicit order. So you can use `sorted` on a Striplog, for example.\n",
    "\n",
    "It wasn't clear to me whether this should compare tops (say), so that '>' might mean 'above', or if it should be keyed on thickness. I chose the former, and implemented other comparisons instead."
   ]
  },
  {
   "cell_type": "code",
   "execution_count": 34,
   "metadata": {
    "collapsed": false
   },
   "outputs": [
    {
     "name": "stdout",
     "output_type": "stream",
     "text": [
      "False\n",
      "True\n",
      "0.30 m of dolomite\n"
     ]
    }
   ],
   "source": [
    "print(i3 == i2)  # False, they don't have the same top\n",
    "print(i1 > i4)   # True, i1 is above i4\n",
    "print(min(i1, i2, i5).summary())  # 0.3 m of dolomite"
   ]
  },
  {
   "cell_type": "code",
   "execution_count": 35,
   "metadata": {
    "collapsed": false
   },
   "outputs": [
    {
     "data": {
      "text/plain": [
       "True"
      ]
     },
     "execution_count": 35,
     "metadata": {},
     "output_type": "execute_result"
    }
   ],
   "source": [
    "i2 > i4 > i5  # True"
   ]
  },
  {
   "cell_type": "markdown",
   "metadata": {},
   "source": [
    "We can combine intervals with the `+` operator. (However, you cannot subtract intervals.)"
   ]
  },
  {
   "cell_type": "code",
   "execution_count": 36,
   "metadata": {
    "collapsed": false
   },
   "outputs": [
    {
     "data": {
      "text/html": [
       "<table><tr><td style=\"width:2em; background-color:#DDDDDD\" rowspan=\"5\"></td><td><strong>top</strong></td><td>62.0</td></tr><tr><td><strong>primary</strong></td><td><table><tr><td><strong>lithology</strong></td><td>sandstone</td></tr></table></td></tr><tr><td><strong>summary</strong></td><td>1.50 m of sandstone with siltstone</td></tr><tr><td><strong>description</strong></td><td>50.0% 1.00 m of siltstone with 50.0% 1.00 m of sandstone</td></tr><tr><td><strong>base</strong></td><td>63.5</td></tr></table>"
      ],
      "text/plain": [
       "Interval({'top': Position({'units': 'm', 'middle': 62.0}), 'description': '50.0% 1.00 m of siltstone with 50.0% 1.00 m of sandstone', 'base': Position({'units': 'm', 'middle': 63.5}), 'components': [Component({'lithology': 'sandstone'}), Component({'lithology': 'siltstone'})]})"
      ]
     },
     "execution_count": 36,
     "metadata": {},
     "output_type": "execute_result"
    }
   ],
   "source": [
    "i2 + i3"
   ]
  },
  {
   "cell_type": "markdown",
   "metadata": {},
   "source": [
    "Adding a rock adds a (minor) component and adds to the description. "
   ]
  },
  {
   "cell_type": "code",
   "execution_count": 37,
   "metadata": {
    "collapsed": false
   },
   "outputs": [
    {
     "data": {
      "text/html": [
       "<table><tr><td style=\"width:2em; background-color:#DDDDDD\" rowspan=\"5\"></td><td><strong>top</strong></td><td>18.0</td></tr><tr><td><strong>primary</strong></td><td><table><tr><td><strong>colour</strong></td><td>grey</td></tr><tr><td><strong>lithology</strong></td><td>sandstone</td></tr></table></td></tr><tr><td><strong>summary</strong></td><td>22.00 m of grey, sandstone with flakes, black, shale with grey, fine, sandstone</td></tr><tr><td><strong>description</strong></td><td>Grey sandstone with black shale flakes. with Grey, fine, sandstone</td></tr><tr><td><strong>base</strong></td><td>40.0</td></tr></table>"
      ],
      "text/plain": [
       "Interval({'top': Position({'units': 'm', 'middle': 18.0}), 'description': 'Grey sandstone with black shale flakes. with Grey, fine, sandstone', 'base': Position({'units': 'm', 'middle': 40.0}), 'components': [Component({'colour': 'grey', 'lithology': 'sandstone'}), Component({'amount': 'flakes', 'colour': 'black', 'lithology': 'shale'}), Component({'colour': 'grey', 'grainsize': 'fine', 'lithology': 'sandstone'})]})"
      ]
     },
     "execution_count": 37,
     "metadata": {},
     "output_type": "execute_result"
    }
   ],
   "source": [
    "interval + rock3"
   ]
  },
  {
   "cell_type": "code",
   "execution_count": 38,
   "metadata": {
    "collapsed": false
   },
   "outputs": [
    {
     "data": {
      "text/plain": [
       "('partially', 'containedby')"
      ]
     },
     "execution_count": 38,
     "metadata": {},
     "output_type": "execute_result"
    }
   ],
   "source": [
    "i6.relationship(i7), i5.relationship(i4)"
   ]
  },
  {
   "cell_type": "code",
   "execution_count": 39,
   "metadata": {
    "collapsed": false
   },
   "outputs": [
    {
     "name": "stdout",
     "output_type": "stream",
     "text": [
      "True\n",
      "True\n",
      "False\n",
      "\n",
      "True\n",
      "True\n",
      "False\n",
      "\n",
      "True\n",
      "True\n",
      "False\n"
     ]
    }
   ],
   "source": [
    "print(i1.partially_overlaps(i2))  # True\n",
    "print(i2.partially_overlaps(i3))  # True\n",
    "print(i2.partially_overlaps(i4))  # False\n",
    "print()\n",
    "print(i6.partially_overlaps(i7))  # True\n",
    "print(i7.partially_overlaps(i6))  # True\n",
    "print(i6.partially_overlaps(i8))  # False\n",
    "print()\n",
    "print(i5.is_contained_by(i3))  # True\n",
    "print(i5.is_contained_by(i4))  # True\n",
    "print(i5.is_contained_by(i2))  # False"
   ]
  },
  {
   "cell_type": "code",
   "execution_count": 46,
   "metadata": {
    "collapsed": false
   },
   "outputs": [
    {
     "data": {
      "text/plain": [
       "Striplog(3 Intervals, start=63.0, stop=65.0)"
      ]
     },
     "execution_count": 46,
     "metadata": {},
     "output_type": "execute_result"
    }
   ],
   "source": [
    "x = i4.merge(i5)\n",
    "x[-1].base = 65\n",
    "x"
   ]
  },
  {
   "cell_type": "code",
   "execution_count": 47,
   "metadata": {
    "collapsed": false
   },
   "outputs": [
    {
     "data": {
      "text/html": [
       "<table><tr><td style=\"width:2em; background-color:#DDDDDD\" rowspan=\"5\"></td><td><strong>top</strong></td><td>62.0</td></tr><tr><td><strong>primary</strong></td><td><table><tr><td><strong>lithology</strong></td><td>sandstone</td></tr></table></td></tr><tr><td><strong>summary</strong></td><td>0.50 m of sandstone</td></tr><tr><td><strong>description</strong></td><td></td></tr><tr><td><strong>base</strong></td><td>62.5</td></tr></table>"
      ],
      "text/plain": [
       "Interval({'top': Position({'units': 'm', 'middle': 62.0}), 'description': '', 'base': Position({'units': 'm', 'middle': 62.5}), 'components': [Component({'lithology': 'sandstone'})]})"
      ]
     },
     "execution_count": 47,
     "metadata": {},
     "output_type": "execute_result"
    }
   ],
   "source": [
    "i1.intersect(i2, blend=False)"
   ]
  },
  {
   "cell_type": "code",
   "execution_count": 48,
   "metadata": {
    "collapsed": false
   },
   "outputs": [
    {
     "data": {
      "text/html": [
       "<table><tr><td style=\"width:2em; background-color:#DDDDDD\" rowspan=\"5\"></td><td><strong>top</strong></td><td>62.0</td></tr><tr><td><strong>primary</strong></td><td><table><tr><td><strong>lithology</strong></td><td>limestone</td></tr></table></td></tr><tr><td><strong>summary</strong></td><td>0.50 m of limestone with sandstone</td></tr><tr><td><strong>description</strong></td><td>60.0% 1.50 m of limestone with 40.0% 1.00 m of sandstone</td></tr><tr><td><strong>base</strong></td><td>62.5</td></tr></table>"
      ],
      "text/plain": [
       "Interval({'top': Position({'units': 'm', 'middle': 62.0}), 'description': '60.0% 1.50 m of limestone with 40.0% 1.00 m of sandstone', 'base': Position({'units': 'm', 'middle': 62.5}), 'components': [Component({'lithology': 'limestone'}), Component({'lithology': 'sandstone'})]})"
      ]
     },
     "execution_count": 48,
     "metadata": {},
     "output_type": "execute_result"
    }
   ],
   "source": [
    "i1.intersect(i2)"
   ]
  },
  {
   "cell_type": "code",
   "execution_count": 55,
   "metadata": {
    "collapsed": false
   },
   "outputs": [
    {
     "data": {
      "text/html": [
       "<table><tr><td style=\"width:2em; background-color:#DDDDDD\" rowspan=\"5\"></td><td><strong>top</strong></td><td>61.0</td></tr><tr><td><strong>primary</strong></td><td><table><tr><td><strong>lithology</strong></td><td>limestone</td></tr></table></td></tr><tr><td><strong>summary</strong></td><td>1.50 m of limestone with siltstone</td></tr><tr><td><strong>description</strong></td><td>60.0% 1.50 m of limestone with 40.0% 1.00 m of siltstone</td></tr><tr><td><strong>base</strong></td><td>62.5</td></tr></table>"
      ],
      "text/plain": [
       "Interval({'top': Position({'units': 'm', 'middle': 61.0}), 'description': '60.0% 1.50 m of limestone with 40.0% 1.00 m of siltstone', 'base': Position({'units': 'm', 'middle': 62.5}), 'components': [Component({'lithology': 'limestone'}), Component({'lithology': 'siltstone'})]})"
      ]
     },
     "execution_count": 55,
     "metadata": {},
     "output_type": "execute_result"
    }
   ],
   "source": [
    "i1.union(i3)"
   ]
  },
  {
   "cell_type": "code",
   "execution_count": 50,
   "metadata": {
    "collapsed": false
   },
   "outputs": [
    {
     "data": {
      "text/plain": [
       "(Interval({'top': Position({'units': 'm', 'middle': 62.5}), 'description': '', 'base': Position({'units': 'm', 'middle': 63.1}), 'components': [Component({'lithology': 'siltstone'})]}),\n",
       " Interval({'top': Position({'units': 'm', 'middle': 63.4}), 'description': '', 'base': Position({'units': 'm', 'middle': 63.5}), 'components': [Component({'lithology': 'siltstone'})]}))"
      ]
     },
     "execution_count": 50,
     "metadata": {},
     "output_type": "execute_result"
    }
   ],
   "source": [
    "i3.difference(i5)"
   ]
  },
  {
   "cell_type": "markdown",
   "metadata": {},
   "source": [
    "<hr />\n",
    "\n",
    "<p style=\"color:gray\">©2015 Agile Geoscience. Licensed CC-BY. <a href=\"https://github.com/agile-geoscience/striplog\">striplog.py</a></p>"
   ]
  }
 ],
 "metadata": {
  "kernelspec": {
   "display_name": "Python 3",
   "language": "python",
   "name": "python3"
  },
  "language_info": {
   "codemirror_mode": {
    "name": "ipython",
    "version": 3
   },
   "file_extension": ".py",
   "mimetype": "text/x-python",
   "name": "python",
   "nbconvert_exporter": "python",
   "pygments_lexer": "ipython3",
   "version": "3.4.3"
  }
 },
 "nbformat": 4,
 "nbformat_minor": 0
}
