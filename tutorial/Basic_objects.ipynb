{
 "metadata": {
  "name": "",
  "signature": "sha256:8b717b78324463bcb7a1fec09582ab181af073977c00390453a1a0f9298c8bc6"
 },
 "nbformat": 3,
 "nbformat_minor": 0,
 "worksheets": [
  {
   "cells": [
    {
     "cell_type": "heading",
     "level": 1,
     "metadata": {},
     "source": [
      "Testing objects"
     ]
    },
    {
     "cell_type": "markdown",
     "metadata": {},
     "source": [
      "We have some objects. This notebook runs them through their paces. We can use this to write a unittest.\n",
      "\n",
      "Import anything we might need."
     ]
    },
    {
     "cell_type": "code",
     "collapsed": false,
     "input": [
      "import numpy as np"
     ],
     "language": "python",
     "metadata": {},
     "outputs": [],
     "prompt_number": 1
    },
    {
     "cell_type": "markdown",
     "metadata": {},
     "source": [
      "Now we can run through the objects. They are:\n",
      "\n",
      "- [Rock](#Rock): A set of attributes. \n",
      "- [Decor](#Decor): One element from a legend \u2014\u00a0describes how to display a Rock.\n",
      "- [Legend](#Legend): A set of Decors\u00a0\u2014\u00a0describes how to display a set of Rocks or a Striplog.\n",
      "- [Interval](#Interval): One element from a Striplog \u2014\u00a0consists of a top, base, a description, a Rock, and a source.\n",
      "- [Striplog](#Stripog): A set of Intervals.\n",
      "\n",
      "We need a lexicon of words to check things against. This is not a class, but maybe it should be...\n",
      "\n",
      "- [Lexicon](#Lexicon): A dictionary containing the words and word categories to use for rock descriptions."
     ]
    },
    {
     "cell_type": "markdown",
     "metadata": {},
     "source": [
      "<hr />"
     ]
    },
    {
     "cell_type": "markdown",
     "metadata": {},
     "source": [
      "## Rock"
     ]
    },
    {
     "cell_type": "markdown",
     "metadata": {},
     "source": [
      "A set of attributes. All are optional."
     ]
    },
    {
     "cell_type": "code",
     "collapsed": false,
     "input": [
      "from interval import Rock"
     ],
     "language": "python",
     "metadata": {},
     "outputs": [],
     "prompt_number": 2
    },
    {
     "cell_type": "code",
     "collapsed": false,
     "input": [
      "print Rock.__doc__"
     ],
     "language": "python",
     "metadata": {},
     "outputs": [
      {
       "output_type": "stream",
       "stream": "stdout",
       "text": [
        "\n",
        "    Initialize with a dictionary of properties. You can use any\n",
        "    properties you want, but the following are recognized by\n",
        "    the summary() method:\n",
        "\n",
        "        - lithology: a simple one-word rock type\n",
        "        - colour, e.g. 'grey'\n",
        "        - grainsize or range, e.g. 'vf-f'\n",
        "        - modifier, e.g. 'rippled'\n",
        "        - quantity, e.g. '35%', or 'stringers'\n",
        "        - description, e.g. from cuttings\n",
        "\n",
        "    You can include as many other things as you want, e.g.\n",
        "\n",
        "        - porosity\n",
        "        - cementation\n",
        "        - lithology code\n",
        "    \n"
       ]
      }
     ],
     "prompt_number": 3
    },
    {
     "cell_type": "code",
     "collapsed": false,
     "input": [
      "r = {'colour': 'grey',\n",
      "     'grainsize': 'vf-f',\n",
      "     'lithology': 'sand'}"
     ],
     "language": "python",
     "metadata": {},
     "outputs": [],
     "prompt_number": 4
    },
    {
     "cell_type": "code",
     "collapsed": false,
     "input": [
      "rock = Rock(r)\n",
      "rock"
     ],
     "language": "python",
     "metadata": {},
     "outputs": [
      {
       "metadata": {},
       "output_type": "pyout",
       "prompt_number": 5,
       "text": [
        "Rock('colour':'grey', 'lithology':'sand', 'grainsize':'vf-f')"
       ]
      }
     ],
     "prompt_number": 5
    },
    {
     "cell_type": "code",
     "collapsed": false,
     "input": [
      "type(rock)"
     ],
     "language": "python",
     "metadata": {},
     "outputs": [
      {
       "metadata": {},
       "output_type": "pyout",
       "prompt_number": 6,
       "text": [
        "rock.Rock"
       ]
      }
     ],
     "prompt_number": 6
    },
    {
     "cell_type": "markdown",
     "metadata": {},
     "source": [
      "The Rock has a colour:"
     ]
    },
    {
     "cell_type": "code",
     "collapsed": false,
     "input": [
      "rock.colour"
     ],
     "language": "python",
     "metadata": {},
     "outputs": [
      {
       "metadata": {},
       "output_type": "pyout",
       "prompt_number": 7,
       "text": [
        "'grey'"
       ]
      }
     ],
     "prompt_number": 7
    },
    {
     "cell_type": "markdown",
     "metadata": {},
     "source": [
      "And it has a summary, which is generated from its attributes. "
     ]
    },
    {
     "cell_type": "code",
     "collapsed": false,
     "input": [
      "rock.summary()"
     ],
     "language": "python",
     "metadata": {},
     "outputs": [
      {
       "metadata": {},
       "output_type": "pyout",
       "prompt_number": 8,
       "text": [
        "'Grey vf-f sand'"
       ]
      }
     ],
     "prompt_number": 8
    },
    {
     "cell_type": "markdown",
     "metadata": {},
     "source": [
      "We can format the summary if we wish:"
     ]
    },
    {
     "cell_type": "code",
     "collapsed": false,
     "input": [
      "rock.summary(fmt=\"%L (%c, %g)\")"
     ],
     "language": "python",
     "metadata": {},
     "outputs": [
      {
       "metadata": {},
       "output_type": "pyout",
       "prompt_number": 9,
       "text": [
        "'Sand (grey, vf-f)'"
       ]
      }
     ],
     "prompt_number": 9
    },
    {
     "cell_type": "markdown",
     "metadata": {},
     "source": [
      "We can compare rocks with the usual `==` operator, thanks to the `__eq__` method. "
     ]
    },
    {
     "cell_type": "code",
     "collapsed": false,
     "input": [
      "rock2 = Rock({'grainsize': 'VF-F',\n",
      "              'colour': 'Grey',\n",
      "              'lithology': 'Sand'})\n",
      "rock == rock2"
     ],
     "language": "python",
     "metadata": {},
     "outputs": [
      {
       "metadata": {},
       "output_type": "pyout",
       "prompt_number": 10,
       "text": [
        "True"
       ]
      }
     ],
     "prompt_number": 10
    },
    {
     "cell_type": "markdown",
     "metadata": {},
     "source": [
      "In order to create a Rock object from text, we need a lexicon to compare the text against. The lexicon describes the language we want to extract, and what it means. More on lexicons later."
     ]
    },
    {
     "cell_type": "code",
     "collapsed": false,
     "input": [
      "from lexicon import Lexicon"
     ],
     "language": "python",
     "metadata": {},
     "outputs": [],
     "prompt_number": 11
    },
    {
     "cell_type": "code",
     "collapsed": false,
     "input": [
      "lexicon = Lexicon.default()"
     ],
     "language": "python",
     "metadata": {},
     "outputs": [],
     "prompt_number": 12
    },
    {
     "cell_type": "code",
     "collapsed": false,
     "input": [
      "rock3 = Rock.from_text('Grey fine sandstone.', lexicon)\n",
      "rock3"
     ],
     "language": "python",
     "metadata": {},
     "outputs": [
      {
       "metadata": {},
       "output_type": "pyout",
       "prompt_number": 13,
       "text": [
        "Rock('colour':'grey', 'lithology':'sandstone', 'grainsize':'fine')"
       ]
      }
     ],
     "prompt_number": 13
    },
    {
     "cell_type": "markdown",
     "metadata": {},
     "source": [
      "<hr />"
     ]
    },
    {
     "cell_type": "heading",
     "level": 2,
     "metadata": {},
     "source": [
      "Decor"
     ]
    },
    {
     "cell_type": "code",
     "collapsed": false,
     "input": [
      "from legend import Decor\n",
      "\n",
      "import matplotlib.pyplot as plt\n",
      "%matplotlib inline"
     ],
     "language": "python",
     "metadata": {},
     "outputs": [],
     "prompt_number": 14
    },
    {
     "cell_type": "markdown",
     "metadata": {},
     "source": [
      "A Decor attaches a display style to a Rock. "
     ]
    },
    {
     "cell_type": "code",
     "collapsed": false,
     "input": [
      "print Decor.__doc__"
     ],
     "language": "python",
     "metadata": {},
     "outputs": [
      {
       "output_type": "stream",
       "stream": "stdout",
       "text": [
        "\n",
        "    A single display style. A Decor describes how to display a given set\n",
        "    of Rock properties.\n",
        "\n",
        "    In general, you will not usually use a Decor on its own. Instead, you\n",
        "    will want to use a Legend, which is just a list of Decors, and leave\n",
        "    the Decors to the Legend.\n",
        "\n",
        "    Args:\n",
        "      params (dict): The parameters you want in the Decor. There must be a\n",
        "        Rock to attach the decoration to, and at least one other attribute.\n",
        "        It's completely up to you, but you probably want at least a colour\n",
        "        (hex names like #AAA or #d3d3d3, or matplotlib's English-language\n",
        "        names listed at http://ageo.co/modelrcolour are acceptable.\n",
        "\n",
        "        The only other parameter the class recognizes for now is 'width',\n",
        "        which is the width of the striplog element.\n",
        "\n",
        "    Example:\n",
        "      d = {'rock': my_rock, 'colour': 'red'}\n",
        "      my_decor = Decor(d)\n",
        "    \n"
       ]
      }
     ],
     "prompt_number": 15
    },
    {
     "cell_type": "code",
     "collapsed": false,
     "input": [
      "d = {'color': '#86F0B6',\n",
      "     'rock': rock,\n",
      "     'width': 3}\n",
      "decor = Decor(d)"
     ],
     "language": "python",
     "metadata": {},
     "outputs": [],
     "prompt_number": 41
    },
    {
     "cell_type": "code",
     "collapsed": false,
     "input": [
      "decor.colour"
     ],
     "language": "python",
     "metadata": {},
     "outputs": [
      {
       "metadata": {},
       "output_type": "pyout",
       "prompt_number": 42,
       "text": [
        "'#86f0b6'"
       ]
      }
     ],
     "prompt_number": 42
    },
    {
     "cell_type": "code",
     "collapsed": false,
     "input": [
      "decor.rgb"
     ],
     "language": "python",
     "metadata": {},
     "outputs": [
      {
       "metadata": {},
       "output_type": "pyout",
       "prompt_number": 43,
       "text": [
        "(134, 240, 182)"
       ]
      }
     ],
     "prompt_number": 43
    },
    {
     "cell_type": "markdown",
     "metadata": {},
     "source": [
      "We can ask for the Rock a Decor represents."
     ]
    },
    {
     "cell_type": "code",
     "collapsed": false,
     "input": [
      "decor.rock"
     ],
     "language": "python",
     "metadata": {},
     "outputs": [
      {
       "metadata": {},
       "output_type": "pyout",
       "prompt_number": 44,
       "text": [
        "Rock(colour='grey', lithology='sand', grainsize='vf-f')"
       ]
      }
     ],
     "prompt_number": 44
    },
    {
     "cell_type": "code",
     "collapsed": false,
     "input": [
      "decor.rock.summary()"
     ],
     "language": "python",
     "metadata": {},
     "outputs": [
      {
       "metadata": {},
       "output_type": "pyout",
       "prompt_number": 45,
       "text": [
        "'Grey vf-f sand'"
       ]
      }
     ],
     "prompt_number": 45
    },
    {
     "cell_type": "code",
     "collapsed": false,
     "input": [
      "decor.plot()"
     ],
     "language": "python",
     "metadata": {},
     "outputs": [
      {
       "metadata": {},
       "output_type": "display_data",
       "png": "[encoded data removed]",
       "text": [
        "<matplotlib.figure.Figure at 0x10fa07f50>"
       ]
      }
     ],
     "prompt_number": 46
    },
    {
     "cell_type": "markdown",
     "metadata": {},
     "source": [
      "<hr />"
     ]
    },
    {
     "cell_type": "heading",
     "level": 2,
     "metadata": {},
     "source": [
      "Legend"
     ]
    },
    {
     "cell_type": "code",
     "collapsed": false,
     "input": [
      "from legend import Legend\n",
      "print Legend.__doc__"
     ],
     "language": "python",
     "metadata": {},
     "outputs": [
      {
       "output_type": "stream",
       "stream": "stdout",
       "text": [
        "\n",
        "    A look-up table to assist in the conversion of Rocks to\n",
        "    a plot colour.\n",
        "\n",
        "    Args:\n",
        "        list_of_Decors (list): The decors to collect into a legend. In\n",
        "            general, you will want to leave legend building to the constructor\n",
        "            class methods, `Legend.default()`, and `Legend.from_csv(string)`.\n",
        "            We can add others over time, such as `from_xls` and so on.\n",
        "    \n"
       ]
      }
     ],
     "prompt_number": 47
    },
    {
     "cell_type": "markdown",
     "metadata": {},
     "source": [
      "We'll define a legend in a CSV file. I can't think of a better way for now. It would be easy to make a web form to facilitate this with, for example, a colour picker. It may not be worth it, though; I imagine one would create one and then leave it alone most of the time. "
     ]
    },
    {
     "cell_type": "code",
     "collapsed": false,
     "input": [
      "l = \"\"\"colour, width, rock lithology, rock colour, rock grainsize\n",
      "#FFFFFF, 0, , , \n",
      "#F7E9A6, 3, Sandstone, Grey, VF-F\n",
      "#FF99CC, 2, Anhydrite, , \n",
      "#DBD6BC, 3, Heterolithic, Grey, \n",
      "#FF4C4A, 2, Volcanic, , \n",
      "#86F0B6, 5, Conglomerate, , \n",
      "#FF96F6, 2, Halite, , \n",
      "#F2FF42, 4, Sandstone, Grey, F-M\n",
      "#DBC9BC, 3, Heterolithic, Red, \n",
      "#A68374, 2, Siltstone, Grey, \n",
      "#A657FA, 3, Dolomite, , \n",
      "#FFD073, 4, Sandstone, Red, C-M\n",
      "#A6D1FF, 3, Limestone, , \n",
      "#FFDBBA, 3, Sandstone, Red, VF-F\n",
      "#FFE040, 4, Sandstone, Grey, C-M\n",
      "#A1655A, 2, Siltstone, Red, \n",
      "#363434, 1, Coal, , \n",
      "#664A4A, 1, Mudstone, Red, \n",
      "#666666, 1, Mudstone, Grey, \"\"\""
     ],
     "language": "python",
     "metadata": {},
     "outputs": [],
     "prompt_number": 48
    },
    {
     "cell_type": "code",
     "collapsed": false,
     "input": [
      "legend = Legend.from_csv(l)\n",
      "legend[:5]"
     ],
     "language": "python",
     "metadata": {},
     "outputs": [
      {
       "metadata": {},
       "output_type": "pyout",
       "prompt_number": 49,
       "text": [
        "[Decor(width='0.0', colour='#ffffff', rock=''),\n",
        " Decor(width='3.0', colour='#f7e9a6', rock='colour='grey', lithology='sandstone', grainsize='vf-f''),\n",
        " Decor(width='2.0', colour='#ff99cc', rock='lithology='anhydrite''),\n",
        " Decor(width='3.0', colour='#dbd6bc', rock='colour='grey', lithology='heterolithic''),\n",
        " Decor(width='2.0', colour='#ff4c4a', rock='lithology='volcanic'')]"
       ]
      }
     ],
     "prompt_number": 49
    },
    {
     "cell_type": "code",
     "collapsed": false,
     "input": [
      "print legend.to_csv()"
     ],
     "language": "python",
     "metadata": {},
     "outputs": [
      {
       "output_type": "stream",
       "stream": "stdout",
       "text": [
        "colour,width,rock colour,rock lithology,rock grainsize\n",
        "#ffffff,0.0,,,,\n",
        "#f7e9a6,3.0,grey,sandstone,vf-f,\n",
        "#ff99cc,2.0,,anhydrite,,\n",
        "#dbd6bc,3.0,grey,heterolithic,,\n",
        "#ff4c4a,2.0,,volcanic,,\n",
        "#86f0b6,5.0,,conglomerate,,\n",
        "#ff96f6,2.0,,halite,,\n",
        "#f2ff42,4.0,grey,sandstone,f-m,\n",
        "#dbc9bc,3.0,red,heterolithic,,\n",
        "#a68374,2.0,grey,siltstone,,\n",
        "#a657fa,3.0,,dolomite,,\n",
        "#ffd073,4.0,red,sandstone,c-m,\n",
        "#a6d1ff,3.0,,limestone,,\n",
        "#ffdbba,3.0,red,sandstone,vf-f,\n",
        "#ffe040,4.0,grey,sandstone,c-m,\n",
        "#a1655a,2.0,red,siltstone,,\n",
        "#363434,1.0,,coal,,\n",
        "#664a4a,1.0,red,mudstone,,\n",
        "#666666,1.0,grey,mudstone,,\n",
        "\n"
       ]
      }
     ],
     "prompt_number": 61
    },
    {
     "cell_type": "markdown",
     "metadata": {},
     "source": [
      "In fact, this is the default legend. "
     ]
    },
    {
     "cell_type": "code",
     "collapsed": false,
     "input": [
      "Legend.default()"
     ],
     "language": "python",
     "metadata": {},
     "outputs": [
      {
       "metadata": {},
       "output_type": "pyout",
       "prompt_number": 63,
       "text": [
        "Legend(width='0.0', colour='#ffffff', rock=''\n",
        "width='3.0', colour='#f7e9a6', rock='colour='grey', lithology='sandstone', grainsize='vf-f''\n",
        "width='2.0', colour='#ff99cc', rock='lithology='anhydrite''\n",
        "width='3.0', colour='#dbd6bc', rock='colour='grey', lithology='heterolithic''\n",
        "width='2.0', colour='#ff4c4a', rock='lithology='volcanic''\n",
        "width='5.0', colour='#86f0b6', rock='lithology='conglomerate''\n",
        "width='2.0', colour='#ff96f6', rock='lithology='halite''\n",
        "width='4.0', colour='#f2ff42', rock='colour='grey', lithology='sandstone', grainsize='f-m''\n",
        "width='3.0', colour='#dbc9bc', rock='colour='red', lithology='heterolithic''\n",
        "width='2.0', colour='#a68374', rock='colour='grey', lithology='siltstone''\n",
        "width='3.0', colour='#a657fa', rock='lithology='dolomite''\n",
        "width='4.0', colour='#ffd073', rock='colour='red', lithology='sandstone', grainsize='c-m''\n",
        "width='3.0', colour='#a6d1ff', rock='lithology='limestone''\n",
        "width='3.0', colour='#ffdbba', rock='colour='red', lithology='sandstone', grainsize='vf-f''\n",
        "width='4.0', colour='#ffe040', rock='colour='grey', lithology='sandstone', grainsize='c-m''\n",
        "width='2.0', colour='#a1655a', rock='colour='red', lithology='siltstone''\n",
        "width='1.0', colour='#363434', rock='lithology='coal''\n",
        "width='1.0', colour='#664a4a', rock='colour='red', lithology='mudstone''\n",
        "width='1.0', colour='#666666', rock='colour='grey', lithology='mudstone'')"
       ]
      }
     ],
     "prompt_number": 63
    },
    {
     "cell_type": "markdown",
     "metadata": {},
     "source": [
      "We can ask the Legend what colour to use for a given Rock object:"
     ]
    },
    {
     "cell_type": "code",
     "collapsed": false,
     "input": [
      "legend.get_colour(rock)"
     ],
     "language": "python",
     "metadata": {},
     "outputs": [
      {
       "metadata": {},
       "output_type": "pyout",
       "prompt_number": 64,
       "text": [
        "'#EEEEEE'"
       ]
      }
     ],
     "prompt_number": 64
    },
    {
     "cell_type": "code",
     "collapsed": false,
     "input": [
      "rock3 = Rock({'colour': 'red',\n",
      "           'grainsize': 'vf-f',\n",
      "           'lithology': 'sandstone'})\n",
      "legend.get_colour(rock3)"
     ],
     "language": "python",
     "metadata": {},
     "outputs": [
      {
       "metadata": {},
       "output_type": "pyout",
       "prompt_number": 65,
       "text": [
        "'#ffdbba'"
       ]
      }
     ],
     "prompt_number": 65
    },
    {
     "cell_type": "markdown",
     "metadata": {},
     "source": [
      "Sometimes we also want to use a width for a given lithology:"
     ]
    },
    {
     "cell_type": "code",
     "collapsed": false,
     "input": [
      "legend.get_width(rock3)"
     ],
     "language": "python",
     "metadata": {},
     "outputs": [
      {
       "metadata": {},
       "output_type": "pyout",
       "prompt_number": 66,
       "text": [
        "3.0"
       ]
      }
     ],
     "prompt_number": 66
    },
    {
     "cell_type": "markdown",
     "metadata": {},
     "source": [
      "We can also ask the legend which Rock is represented by a particular colour."
     ]
    },
    {
     "cell_type": "code",
     "collapsed": false,
     "input": [
      "legend.get_rock('#f7e9a6')"
     ],
     "language": "python",
     "metadata": {},
     "outputs": [
      {
       "metadata": {},
       "output_type": "pyout",
       "prompt_number": 67,
       "text": [
        "Rock(colour='grey', lithology='sandstone', grainsize='vf-f')"
       ]
      }
     ],
     "prompt_number": 67
    },
    {
     "cell_type": "markdown",
     "metadata": {},
     "source": [
      "The Legend behaves more or less like a list, so we can index into it:"
     ]
    },
    {
     "cell_type": "code",
     "collapsed": false,
     "input": [
      "legend[3].rock"
     ],
     "language": "python",
     "metadata": {},
     "outputs": [
      {
       "metadata": {},
       "output_type": "pyout",
       "prompt_number": 68,
       "text": [
        "Rock(colour='grey', lithology='heterolithic')"
       ]
      }
     ],
     "prompt_number": 68
    },
    {
     "cell_type": "markdown",
     "metadata": {},
     "source": [
      "And it can plot itself. "
     ]
    },
    {
     "cell_type": "code",
     "collapsed": false,
     "input": [
      "legend.plot()"
     ],
     "language": "python",
     "metadata": {},
     "outputs": [
      {
       "metadata": {},
       "output_type": "display_data",
       "png": "[encoded data removed]",
       "text": [
        "<matplotlib.figure.Figure at 0x11224bcd0>"
       ]
      },
      {
       "metadata": {},
       "output_type": "display_data",
       "png": "[encoded data removed]",
       "text": [
        "<matplotlib.figure.Figure at 0x113321d50>"
       ]
      },
      {
       "metadata": {},
       "output_type": "display_data",
       "png": "[encoded data removed]",
       "text": [
        "<matplotlib.figure.Figure at 0x11334dc90>"
       ]
      },
      {
       "metadata": {},
       "output_type": "display_data",
       "png": "[encoded data removed]",
       "text": [
        "<matplotlib.figure.Figure at 0x11335dc10>"
       ]
      },
      {
       "metadata": {},
       "output_type": "display_data",
       "png": "[encoded data removed]",
       "text": [
        "<matplotlib.figure.Figure at 0x1133785d0>"
       ]
      },
      {
       "metadata": {},
       "output_type": "display_data",
       "png": "[encoded data removed]",
       "text": [
        "<matplotlib.figure.Figure at 0x10fdfce50>"
       ]
      },
      {
       "metadata": {},
       "output_type": "display_data",
       "png": "[encoded data removed]",
       "text": [
        "<matplotlib.figure.Figure at 0x11237b210>"
       ]
      },
      {
       "metadata": {},
       "output_type": "display_data",
       "png": "[encoded data removed]",
       "text": [
        "<matplotlib.figure.Figure at 0x113342150>"
       ]
      },
      {
       "metadata": {},
       "output_type": "display_data",
       "png": "[encoded data removed]",
       "text": [
        "<matplotlib.figure.Figure at 0x113378d50>"
       ]
      },
      {
       "metadata": {},
       "output_type": "display_data",
       "png": "[encoded data removed]",
       "text": [
        "<matplotlib.figure.Figure at 0x112370950>"
       ]
      },
      {
       "metadata": {},
       "output_type": "display_data",
       "png": "[encoded data removed]",
       "text": [
        "<matplotlib.figure.Figure at 0x11237b210>"
       ]
      },
      {
       "metadata": {},
       "output_type": "display_data",
       "png": "[encoded data removed]",
       "text": [
        "<matplotlib.figure.Figure at 0x10fdfce50>"
       ]
      },
      {
       "metadata": {},
       "output_type": "display_data",
       "png": "[encoded data removed]",
       "text": [
        "<matplotlib.figure.Figure at 0x11237b210>"
       ]
      },
      {
       "metadata": {},
       "output_type": "display_data",
       "png": "[encoded data removed]",
       "text": [
        "<matplotlib.figure.Figure at 0x113343c90>"
       ]
      },
      {
       "metadata": {},
       "output_type": "display_data",
       "png": "[encoded data removed]",
       "text": [
        "<matplotlib.figure.Figure at 0x11237b210>"
       ]
      },
      {
       "metadata": {},
       "output_type": "display_data",
       "png": "[encoded data removed]",
       "text": [
        "<matplotlib.figure.Figure at 0x10fdfce50>"
       ]
      },
      {
       "metadata": {},
       "output_type": "display_data",
       "png": "[encoded data removed]",
       "text": [
        "<matplotlib.figure.Figure at 0x11237b210>"
       ]
      },
      {
       "metadata": {},
       "output_type": "display_data",
       "png": "[encoded data removed]",
       "text": [
        "<matplotlib.figure.Figure at 0x113343b50>"
       ]
      },
      {
       "metadata": {},
       "output_type": "display_data",
       "png": "[encoded data removed]",
       "text": [
        "<matplotlib.figure.Figure at 0x11237b210>"
       ]
      }
     ],
     "prompt_number": 69
    },
    {
     "cell_type": "markdown",
     "metadata": {},
     "source": [
      "<hr />"
     ]
    },
    {
     "cell_type": "markdown",
     "metadata": {},
     "source": [
      "## Interval"
     ]
    },
    {
     "cell_type": "code",
     "collapsed": false,
     "input": [
      "from interval import Interval\n",
      "print Interval.__doc__"
     ],
     "language": "python",
     "metadata": {},
     "outputs": [
      {
       "output_type": "stream",
       "stream": "stdout",
       "text": [
        "\n",
        "    Used to represent a lithologic or strigraphic interval, or a single point,\n",
        "    such as a sample location. \n",
        "\n",
        "    Initialize with a top (and optional base) and a description and/or\n",
        "    an ordered list of components, each of which is a Rock.\n",
        "\n",
        "    Args:\n",
        "        top (float): Required top depth. Required.\n",
        "        base (float): Base depth. Optional.\n",
        "        lexicon (dict): A lexicon. See documentation. Optional unless you only\n",
        "            provide descriptions, because it's needed to extract components.\n",
        "        max_component (int): The number of components to extract. Default 1.\n",
        "        abbreviations (bool): Whether to parse for abbreviations. \n",
        "\n",
        "    \n"
       ]
      }
     ],
     "prompt_number": 70
    },
    {
     "cell_type": "code",
     "collapsed": false,
     "input": [
      "interval = Interval(20, 40, \"Grey sandstone.\", lexicon=lexicon)\n",
      "interval"
     ],
     "language": "python",
     "metadata": {},
     "outputs": [
      {
       "metadata": {},
       "output_type": "pyout",
       "prompt_number": 71,
       "text": [
        "Interval(top: 20.0, base: 40.0, description: 'Grey sandstone.', components: [Rock(colour='grey', lithology='sandstone')])"
       ]
      }
     ],
     "prompt_number": 71
    },
    {
     "cell_type": "code",
     "collapsed": false,
     "input": [
      "interval.primary"
     ],
     "language": "python",
     "metadata": {},
     "outputs": [
      {
       "metadata": {},
       "output_type": "pyout",
       "prompt_number": 72,
       "text": [
        "Rock(colour='grey', lithology='sandstone')"
       ]
      }
     ],
     "prompt_number": 72
    },
    {
     "cell_type": "code",
     "collapsed": false,
     "input": [
      "interval.summary()"
     ],
     "language": "python",
     "metadata": {},
     "outputs": [
      {
       "metadata": {},
       "output_type": "pyout",
       "prompt_number": 73,
       "text": [
        "'20.0 m of grey sandstone'"
       ]
      }
     ],
     "prompt_number": 73
    },
    {
     "cell_type": "markdown",
     "metadata": {},
     "source": [
      "We can compare intervals, based on their thickness. "
     ]
    },
    {
     "cell_type": "code",
     "collapsed": false,
     "input": [
      "interval_2 = Interval(40, 65, \"Red sandstone.\", lexicon=lexicon)"
     ],
     "language": "python",
     "metadata": {},
     "outputs": [],
     "prompt_number": 74
    },
    {
     "cell_type": "code",
     "collapsed": false,
     "input": [
      "print interval_2 == interval\n",
      "print interval_2 > interval\n",
      "print max(interval, interval_2).components"
     ],
     "language": "python",
     "metadata": {},
     "outputs": [
      {
       "output_type": "stream",
       "stream": "stdout",
       "text": [
        "False\n",
        "True\n",
        "[Rock(colour='red', lithology='sandstone')]\n"
       ]
      }
     ],
     "prompt_number": 75
    },
    {
     "cell_type": "markdown",
     "metadata": {},
     "source": [
      "We can combine intervals with the `+` operator."
     ]
    },
    {
     "cell_type": "code",
     "collapsed": false,
     "input": [
      "interval_2 + interval"
     ],
     "language": "python",
     "metadata": {},
     "outputs": [
      {
       "metadata": {},
       "output_type": "pyout",
       "prompt_number": 76,
       "text": [
        "Interval(top: 20.0, base: 65.0, description: 'Red sandstone  with Grey sandstone', components: [Rock(colour='red', lithology='sandstone'), Rock(colour='grey', lithology='sandstone')])"
       ]
      }
     ],
     "prompt_number": 76
    },
    {
     "cell_type": "code",
     "collapsed": false,
     "input": [
      "interval + 5"
     ],
     "language": "python",
     "metadata": {},
     "outputs": [
      {
       "metadata": {},
       "output_type": "pyout",
       "prompt_number": 77,
       "text": [
        "Interval(top: 20.0, base: 45.0, description: 'Grey sandstone.', components: [Rock(colour='grey', lithology='sandstone')])"
       ]
      }
     ],
     "prompt_number": 77
    },
    {
     "cell_type": "markdown",
     "metadata": {},
     "source": [
      "<hr />"
     ]
    },
    {
     "cell_type": "code",
     "collapsed": false,
     "input": [],
     "language": "python",
     "metadata": {},
     "outputs": [],
     "prompt_number": 77
    }
   ],
   "metadata": {}
  }
 ]
}