{
 "cells": [
  {
   "cell_type": "markdown",
   "metadata": {},
   "source": [
    "# Striplog basics"
   ]
  },
  {
   "cell_type": "markdown",
   "metadata": {},
   "source": [
    "This notebooks looks at the main `striplog` object. For the basic objects it depends on, see [Basic objects](./Basic_objects.ipynb).\n",
    "\n",
    "First, import anything we might need."
   ]
  },
  {
   "cell_type": "code",
   "execution_count": 1,
   "metadata": {
    "collapsed": false
   },
   "outputs": [
    {
     "data": {
      "text/plain": [
       "'0.6.0'"
      ]
     },
     "execution_count": 1,
     "metadata": {},
     "output_type": "execute_result"
    }
   ],
   "source": [
    "import matplotlib.pyplot as plt\n",
    "%matplotlib inline\n",
    "\n",
    "import numpy as np\n",
    "\n",
    "import striplog\n",
    "striplog.__version__"
   ]
  },
  {
   "cell_type": "code",
   "execution_count": 2,
   "metadata": {
    "collapsed": false
   },
   "outputs": [],
   "source": [
    "from striplog import Legend, Lexicon, Interval, Component"
   ]
  },
  {
   "cell_type": "code",
   "execution_count": 3,
   "metadata": {
    "collapsed": false
   },
   "outputs": [],
   "source": [
    "legend = Legend.builtin('NSDOE')\n",
    "lexicon = Lexicon.default()"
   ]
  },
  {
   "cell_type": "markdown",
   "metadata": {},
   "source": [
    "## Making a `striplog`"
   ]
  },
  {
   "cell_type": "code",
   "execution_count": 4,
   "metadata": {
    "collapsed": false
   },
   "outputs": [
    {
     "name": "stdout",
     "output_type": "stream",
     "text": [
      "\n",
      "    A Striplog is a sequence of intervals.\n",
      "\n",
      "    We will build them from LAS files or CSVs.\n",
      "\n",
      "    Args:\n",
      "        list_of_Intervals (list): A list of Interval objects.\n",
      "        source (str): A source for the data. Default None.\n",
      "    \n"
     ]
    }
   ],
   "source": [
    "from striplog import Striplog\n",
    "print(Striplog.__doc__)"
   ]
  },
  {
   "cell_type": "markdown",
   "metadata": {},
   "source": [
    "Here is one of the images we will convert into striplogs:\n",
    "\n",
    "<img src=\"M-MG-70_14.3_135.9.png\" width=50 style=\"float:left\" />"
   ]
  },
  {
   "cell_type": "code",
   "execution_count": 5,
   "metadata": {
    "collapsed": false
   },
   "outputs": [],
   "source": [
    "imgfile = \"M-MG-70_14.3_135.9.png\""
   ]
  },
  {
   "cell_type": "code",
   "execution_count": 6,
   "metadata": {
    "collapsed": false
   },
   "outputs": [
    {
     "data": {
      "text/plain": [
       "Striplog(26 Intervals, start=14.3, stop=135.9)"
      ]
     },
     "execution_count": 6,
     "metadata": {},
     "output_type": "execute_result"
    }
   ],
   "source": [
    "strip = Striplog.from_img(imgfile, 14.3, 135.9, legend=legend)\n",
    "strip"
   ]
  },
  {
   "cell_type": "code",
   "execution_count": 7,
   "metadata": {
    "collapsed": false
   },
   "outputs": [
    {
     "data": {
      "image/png": "[encoded data removed]",
      "text/plain": [
       "<matplotlib.figure.Figure at 0x10920fda0>"
      ]
     },
     "metadata": {},
     "output_type": "display_data"
    }
   ],
   "source": [
    "strip.plot(legend, ladder=True, aspect=5)"
   ]
  },
  {
   "cell_type": "markdown",
   "metadata": {},
   "source": [
    "## Representations of a `striplog`"
   ]
  },
  {
   "cell_type": "markdown",
   "metadata": {},
   "source": [
    "There are several ways to inspect a striplog:\n",
    "\n",
    "* **`print`** prints the contents of the striplog\n",
    "* **`top`** shows us a list of the primary lithologies in the striplog, in order of cumulative thickness\n",
    "* **`plot`** makes a plot of the striplog with coloured bars"
   ]
  },
  {
   "cell_type": "code",
   "execution_count": 8,
   "metadata": {
    "collapsed": false
   },
   "outputs": [
    {
     "name": "stdout",
     "output_type": "stream",
     "text": [
      "{'top': Position({'middle': 14.3, 'units': 'm'}), 'base': Position({'middle': 51.24117647058824, 'units': 'm'}), 'description': '', 'components': [Component({'lithology': 'anhydrite'})]}\n",
      "{'top': Position({'middle': 51.24117647058824, 'units': 'm'}), 'base': Position({'middle': 54.81764705882354, 'units': 'm'}), 'description': '', 'components': [Component({'grainsize': 'vf-f', 'lithology': 'sandstone', 'colour': 'grey'})]}\n",
      "{'top': Position({'middle': 54.81764705882354, 'units': 'm'}), 'base': Position({'middle': 56.55882352941177, 'units': 'm'}), 'description': '', 'components': [Component({'lithology': 'anhydrite'})]}\n",
      "{'top': Position({'middle': 56.55882352941177, 'units': 'm'}), 'base': Position({'middle': 58.86470588235295, 'units': 'm'}), 'description': '', 'components': [Component({'lithology': 'dolomite'})]}\n",
      "{'top': Position({'middle': 58.86470588235295, 'units': 'm'}), 'base': Position({'middle': 60.464705882352945, 'units': 'm'}), 'description': '', 'components': [Component({'lithology': 'siltstone', 'colour': 'red'})]}\n"
     ]
    }
   ],
   "source": [
    "print(strip[:5])"
   ]
  },
  {
   "cell_type": "code",
   "execution_count": 9,
   "metadata": {
    "collapsed": false
   },
   "outputs": [
    {
     "data": {
      "text/plain": [
       "[(Component({'lithology': 'siltstone', 'colour': 'grey'}), 46.16470588235293),\n",
       " (Component({'lithology': 'anhydrite'}), 39.67058823529412),\n",
       " (Component({'grainsize': 'vf-f', 'lithology': 'sandstone', 'colour': 'grey'}),\n",
       "  19.200000000000003),\n",
       " (Component({'lithology': 'dolomite'}), 8.282352941176498),\n",
       " (Component({'lithology': 'volcanic'}), 4.42352941176469),\n",
       " (Component({'lithology': 'siltstone', 'colour': 'red'}), 2.7764705882352843),\n",
       " (Component({'lithology': 'limestone'}), 1.082352941176481)]"
      ]
     },
     "execution_count": 9,
     "metadata": {},
     "output_type": "execute_result"
    }
   ],
   "source": [
    "strip.unique"
   ]
  },
  {
   "cell_type": "markdown",
   "metadata": {},
   "source": [
    "It's easy enough to visualize this. Perhaps this should be a method..."
   ]
  },
  {
   "cell_type": "code",
   "execution_count": 10,
   "metadata": {
    "collapsed": false
   },
   "outputs": [
    {
     "data": {
      "image/png": "[encoded data removed]",
      "text/plain": [
       "<matplotlib.figure.Figure at 0x1095f40f0>"
      ]
     },
     "metadata": {},
     "output_type": "display_data"
    }
   ],
   "source": [
    "depth = 0\n",
    "list_of_int = []\n",
    "for i in strip.unique:\n",
    "    list_of_int.append(Interval(depth, depth+i[1], components=[i[0]]))\n",
    "    depth += i[1]\n",
    "\n",
    "Striplog(list_of_int).plot(legend, aspect=3)"
   ]
  },
  {
   "cell_type": "markdown",
   "metadata": {},
   "source": [
    "## Plot"
   ]
  },
  {
   "cell_type": "markdown",
   "metadata": {},
   "source": [
    "If you call `plot()` on a `Striplog` you'll get random colours (one per rock type in the striplog), and preset aspect ratio of 10.  "
   ]
  },
  {
   "cell_type": "code",
   "execution_count": 11,
   "metadata": {
    "collapsed": false
   },
   "outputs": [
    {
     "data": {
      "image/png": "[encoded data removed]",
      "text/plain": [
       "<matplotlib.figure.Figure at 0x109546710>"
      ]
     },
     "metadata": {},
     "output_type": "display_data"
    }
   ],
   "source": [
    "strip.plot()"
   ]
  },
  {
   "cell_type": "markdown",
   "metadata": {},
   "source": [
    "For more control, you can pass some parameters. You'll probably always want to pass a legend. "
   ]
  },
  {
   "cell_type": "code",
   "execution_count": 12,
   "metadata": {
    "collapsed": false
   },
   "outputs": [
    {
     "data": {
      "image/png": "[encoded data removed]",
      "text/plain": [
       "<matplotlib.figure.Figure at 0x109516b70>"
      ]
     },
     "metadata": {},
     "output_type": "display_data"
    }
   ],
   "source": [
    "strip.plot(legend, ladder=True, aspect=5, ticks=5)"
   ]
  },
  {
   "cell_type": "code",
   "execution_count": 13,
   "metadata": {
    "collapsed": false
   },
   "outputs": [
    {
     "data": {
      "image/png": "[encoded data removed]",
      "text/plain": [
       "<matplotlib.figure.Figure at 0x10bd1cd30>"
      ]
     },
     "metadata": {},
     "output_type": "display_data"
    }
   ],
   "source": [
    "hashy_csv = \"\"\"colour,width,hatch,component colour,component grainsize,component lithology\n",
    "#dddddd,1,---,grey,,siltstone,\n",
    "#dddddd,2,xxx,,,anhydrite,\n",
    "#dddddd,3,...,grey,vf-f,sandstone,\n",
    "#dddddd,4,+--,,,dolomite,\n",
    "#dddddd,5,ooo,,,volcanic,\n",
    "#dddddd,6,---,red,,siltstone,\n",
    "#dddddd,7,,,,limestone,\n",
    "\"\"\"\n",
    "hashy = Legend.from_csv(hashy_csv)\n",
    "strip.plot(hashy, ladder=True, aspect=6, lw=1)"
   ]
  },
  {
   "cell_type": "markdown",
   "metadata": {},
   "source": [
    "## Manipulating a `striplog`"
   ]
  },
  {
   "cell_type": "markdown",
   "metadata": {},
   "source": [
    "Again, the object is indexable and iterable."
   ]
  },
  {
   "cell_type": "code",
   "execution_count": 14,
   "metadata": {
    "collapsed": false
   },
   "outputs": [
    {
     "name": "stdout",
     "output_type": "stream",
     "text": [
      "{'top': Position({'upper': 14.3, 'lower': 14.3, 'middle': 14.3, 'units': 'm'}), 'description': '', 'base': Position({'upper': 51.24117647058824, 'lower': 51.24117647058824, 'middle': 51.24117647058824, 'units': 'm'}), 'components': [Component({'lithology': 'anhydrite'})]}\n",
      "{'top': Position({'upper': 51.24117647058824, 'lower': 51.24117647058824, 'middle': 51.24117647058824, 'units': 'm'}), 'description': '', 'base': Position({'upper': 54.81764705882354, 'lower': 54.81764705882354, 'middle': 54.81764705882354, 'units': 'm'}), 'components': [Component({'grainsize': 'vf-f', 'colour': 'grey', 'lithology': 'sandstone'})]}\n",
      "{'top': Position({'upper': 54.81764705882354, 'lower': 54.81764705882354, 'middle': 54.81764705882354, 'units': 'm'}), 'description': '', 'base': Position({'upper': 56.55882352941177, 'lower': 56.55882352941177, 'middle': 56.55882352941177, 'units': 'm'}), 'components': [Component({'lithology': 'anhydrite'})]}\n"
     ]
    }
   ],
   "source": [
    "print(strip[:3])"
   ]
  },
  {
   "cell_type": "code",
   "execution_count": 15,
   "metadata": {
    "collapsed": false
   },
   "outputs": [
    {
     "name": "stdout",
     "output_type": "stream",
     "text": [
      "Volcanic\n"
     ]
    }
   ],
   "source": [
    "print(strip[-1].primary.summary())"
   ]
  },
  {
   "cell_type": "code",
   "execution_count": 16,
   "metadata": {
    "collapsed": false
   },
   "outputs": [
    {
     "name": "stdout",
     "output_type": "stream",
     "text": [
      "36.94 m of anhydrite\n",
      "3.58 m of vf-f, grey, sandstone\n",
      "1.74 m of anhydrite\n",
      "2.31 m of dolomite\n",
      "1.60 m of red, siltstone\n"
     ]
    }
   ],
   "source": [
    "for i in strip[:5]:\n",
    "    print(i.summary())"
   ]
  },
  {
   "cell_type": "code",
   "execution_count": 17,
   "metadata": {
    "collapsed": false
   },
   "outputs": [
    {
     "data": {
      "text/plain": [
       "26"
      ]
     },
     "execution_count": 17,
     "metadata": {},
     "output_type": "execute_result"
    }
   ],
   "source": [
    "len(strip)"
   ]
  },
  {
   "cell_type": "code",
   "execution_count": 19,
   "metadata": {
    "collapsed": false
   },
   "outputs": [
    {
     "data": {
      "text/plain": [
       "array([ 60.46470588,  61.45294118,  62.77058824,  63.94705882,\n",
       "        64.37058824,  65.07647059,  66.77058824,  71.1       ])"
      ]
     },
     "execution_count": 19,
     "metadata": {},
     "output_type": "execute_result"
    }
   ],
   "source": [
    "import numpy as np\n",
    "np.array([d.top.z for d in strip[5:13]])"
   ]
  },
  {
   "cell_type": "markdown",
   "metadata": {},
   "source": [
    "You can even index into it with an iterable, like a list of indices. The result is a striplog."
   ]
  },
  {
   "cell_type": "code",
   "execution_count": 20,
   "metadata": {
    "collapsed": false
   },
   "outputs": [
    {
     "data": {
      "image/png": "[encoded data removed]",
      "text/plain": [
       "<matplotlib.figure.Figure at 0x10c01add8>"
      ]
     },
     "metadata": {},
     "output_type": "display_data"
    }
   ],
   "source": [
    "indices = [2,4,6]\n",
    "strip[indices].plot(legend, aspect=5)"
   ]
  },
  {
   "cell_type": "markdown",
   "metadata": {},
   "source": [
    "## Slicing and indexing"
   ]
  },
  {
   "cell_type": "markdown",
   "metadata": {},
   "source": [
    "Slicing returns a new `striplog`:"
   ]
  },
  {
   "cell_type": "code",
   "execution_count": 21,
   "metadata": {
    "collapsed": false
   },
   "outputs": [
    {
     "data": {
      "text/plain": [
       "Striplog(2 Intervals, start=51.24117647058824, stop=56.55882352941177)"
      ]
     },
     "execution_count": 21,
     "metadata": {},
     "output_type": "execute_result"
    }
   ],
   "source": [
    "strip[1:3]"
   ]
  },
  {
   "cell_type": "code",
   "execution_count": 22,
   "metadata": {
    "collapsed": false
   },
   "outputs": [],
   "source": [
    "rock = strip.find('sandstone')[1].components[0]\n",
    "rock2 = Component({'lithology':'shale', 'colour':'grey'})\n",
    "iv = Interval(top=300, base=350, description='', components=[rock, rock2])"
   ]
  },
  {
   "cell_type": "code",
   "execution_count": 23,
   "metadata": {
    "collapsed": false
   },
   "outputs": [
    {
     "data": {
      "text/plain": [
       "Striplog(3 Intervals, start=129.68823529411765, stop=350.0)"
      ]
     },
     "execution_count": 23,
     "metadata": {},
     "output_type": "execute_result"
    }
   ],
   "source": [
    "strip[-3:-1] + Striplog([iv])"
   ]
  },
  {
   "cell_type": "code",
   "execution_count": 24,
   "metadata": {
    "collapsed": false
   },
   "outputs": [
    {
     "data": {
      "image/png": "[encoded data removed]",
      "text/plain": [
       "<matplotlib.figure.Figure at 0x10be36278>"
      ]
     },
     "metadata": {},
     "output_type": "display_data"
    }
   ],
   "source": [
    "del strip[4]\n",
    "\n",
    "strip.plot(aspect=5)"
   ]
  },
  {
   "cell_type": "markdown",
   "metadata": {},
   "source": [
    "## Read or write CSV or LAS3"
   ]
  },
  {
   "cell_type": "code",
   "execution_count": 25,
   "metadata": {
    "collapsed": false
   },
   "outputs": [
    {
     "name": "stdout",
     "output_type": "stream",
     "text": [
      "~Lithology_Parameter\n",
      "LITH .   Striplog         : Lithology source          {S}\n",
      "LITHD.   MD               : Lithology depth reference {S}\n",
      "\n",
      "~Lithology_Definition\n",
      "LITHT.M                   : Lithology top depth       {F}\n",
      "LITHB.M                   : Lithology base depth      {F}\n",
      "LITHD.                    : Lithology description     {S}\n",
      "\n",
      "~Lithology_Data | Lithology_Definition\n",
      "   14.300,   51.241,  \"Anhydrite\"                                     \n",
      "   51.241,   54.818,  \"Vf-f, grey, sandstone\"                         \n",
      "   54.818,   56.559,  \"Anhydrite\"                                     \n",
      "   56.559,   58.865,  \"Dolomite\"                                      \n",
      "   60.465,   61.453,  \"Anhydrite\"                                     \n",
      "   61.453,   62.771,  \"Vf-f, grey, sandstone\"                         \n",
      "   62.771,   63.947,  \"Red, siltstone\"                                \n",
      "   63.947,   64.371,  \"Dolomite\"                                      \n",
      "   64.371,   65.076,  \"Grey, siltstone\"                               \n",
      "   65.076,   66.771,  \"Dolomite\"                                      \n",
      "   66.771,   71.100,  \"Vf-f, grey, sandstone\"                         \n",
      "   71.100,   71.806,  \"Dolomite\"                                      \n",
      "   71.806,   81.782,  \"Vf-f, grey, sandstone\"                         \n",
      "   81.782,   85.782,  \"Grey, siltstone\"                               \n",
      "   85.782,   87.006,  \"Dolomite\"                                      \n",
      "   87.006,   88.512,  \"Grey, siltstone\"                               \n",
      "   88.512,   88.982,  \"Dolomite\"                                      \n",
      "   88.982,   95.900,  \"Grey, siltstone\"                               \n",
      "   95.900,   96.276,  \"Dolomite\"                                      \n",
      "   96.276,  104.371,  \"Grey, siltstone\"                               \n",
      "  104.371,  104.747,  \"Dolomite\"                                      \n",
      "  104.747,  129.688,  \"Grey, siltstone\"                               \n",
      "  129.688,  130.394,  \"Dolomite\"                                      \n",
      "  130.394,  131.476,  \"Limestone\"                                     \n",
      "  131.476,  135.900,  \"Volcanic\"                                      \n",
      "\n"
     ]
    }
   ],
   "source": [
    "print(strip.to_las3())"
   ]
  },
  {
   "cell_type": "code",
   "execution_count": 26,
   "metadata": {
    "collapsed": false
   },
   "outputs": [
    {
     "data": {
      "text/plain": [
       "'Image'"
      ]
     },
     "execution_count": 26,
     "metadata": {},
     "output_type": "execute_result"
    }
   ],
   "source": [
    "strip.source"
   ]
  },
  {
   "cell_type": "code",
   "execution_count": 27,
   "metadata": {
    "collapsed": false
   },
   "outputs": [],
   "source": [
    "csv_string = \"\"\"  200.000,  230.329,  Anhydrite                                       \n",
    "  230.329,  233.269,  Grey vf-f sandstone                             \n",
    "  233.269,  234.700,  Anhydrite                                       \n",
    "  234.700,  236.596,  Dolomite                                        \n",
    "  236.596,  237.911,  Red siltstone                                   \n",
    "  237.911,  238.723,  Anhydrite                                       \n",
    "  238.723,  239.807,  Grey vf-f sandstone                             \n",
    "  239.807,  240.774,  Red siltstone                                   \n",
    "  240.774,  241.122,  Dolomite                                        \n",
    "  241.122,  241.702,  Grey siltstone                                  \n",
    "  241.702,  243.095,  Dolomite                                        \n",
    "  243.095,  246.654,  Grey vf-f sandstone                             \n",
    "  246.654,  247.234,  Dolomite                                        \n",
    "  247.234,  255.435,  Grey vf-f sandstone                             \n",
    "  255.435,  258.723,  Grey siltstone                                  \n",
    "  258.723,  259.729,  Dolomite                                        \n",
    "  259.729,  260.967,  Grey siltstone                                  \n",
    "  260.967,  261.354,  Dolomite                                        \n",
    "  261.354,  267.041,  Grey siltstone                                  \n",
    "  267.041,  267.350,  Dolomite                                        \n",
    "  267.350,  274.004,  Grey siltstone                                  \n",
    "  274.004,  274.313,  Dolomite                                        \n",
    "  274.313,  294.816,  Grey siltstone                                  \n",
    "  294.816,  295.397,  Dolomite                                        \n",
    "  295.397,  296.286,  Limestone                                       \n",
    "  296.286,  300.000,  Volcanic                                        \n",
    "\"\"\""
   ]
  },
  {
   "cell_type": "code",
   "execution_count": 28,
   "metadata": {
    "collapsed": false
   },
   "outputs": [],
   "source": [
    "strip2 = Striplog.from_csv(csv_string, lexicon=lexicon)"
   ]
  },
  {
   "cell_type": "markdown",
   "metadata": {},
   "source": [
    "Notice the warning about a missing term in the lexicon."
   ]
  },
  {
   "cell_type": "code",
   "execution_count": 29,
   "metadata": {
    "collapsed": false
   },
   "outputs": [
    {
     "data": {
      "text/html": [
       "<table><tr><td><strong>grainsize</strong></td><td>vf-f</td></tr><tr><td><strong>colour</strong></td><td>grey</td></tr><tr><td><strong>lithology</strong></td><td>sandstone</td></tr></table>"
      ],
      "text/plain": [
       "Component({'grainsize': 'vf-f', 'colour': 'grey', 'lithology': 'sandstone'})"
      ]
     },
     "execution_count": 29,
     "metadata": {},
     "output_type": "execute_result"
    }
   ],
   "source": [
    "Component.from_text('Grey vf-f sandstone', lexicon)"
   ]
  },
  {
   "cell_type": "code",
   "execution_count": 30,
   "metadata": {
    "collapsed": false
   },
   "outputs": [],
   "source": [
    "las3 = \"\"\"~Lithology_Parameter\n",
    "LITH .                    : Lithology source          {S}\n",
    "LITHD.   MD               : Lithology depth reference {S}\n",
    "\n",
    "~Lithology_Definition\n",
    "LITHT.M                   : Lithology top depth       {F}\n",
    "LITHB.M                   : Lithology base depth      {F}\n",
    "LITHN.                    : Lithology name            {S}\n",
    "\n",
    "~Lithology_Data | Lithology_Definition\n",
    "  200.000,  230.329,  Anhydrite                                       \n",
    "  230.329,  233.269,  Grey vf-f sandstone                             \n",
    "  233.269,  234.700,  Anhydrite                                       \n",
    "  234.700,  236.596,  Dolomite                                        \n",
    "  236.596,  237.911,  Red siltstone                                   \n",
    "  237.911,  238.723,  Anhydrite                                       \n",
    "  238.723,  239.807,  Grey vf-f sandstone                             \n",
    "  239.807,  240.774,  Red siltstone                                   \n",
    "  240.774,  241.122,  Dolomite                                        \n",
    "  241.122,  241.702,  Grey siltstone                                  \n",
    "  241.702,  243.095,  Dolomite                                        \n",
    "  243.095,  246.654,  Grey vf-f sandstone                             \n",
    "  246.654,  247.234,  Dolomite                                        \n",
    "  247.234,  255.435,  Grey vf-f sandstone                             \n",
    "  255.435,  258.723,  Grey siltstone                                  \n",
    "  258.723,  259.729,  Dolomite                                        \n",
    "  259.729,  260.967,  Grey siltstone                                  \n",
    "  260.967,  261.354,  Dolomite                                        \n",
    "  261.354,  267.041,  Grey siltstone                                  \n",
    "  267.041,  267.350,  Dolomite                                        \n",
    "  267.350,  274.004,  Grey siltstone                                  \n",
    "  274.004,  274.313,  Dolomite                                        \n",
    "  274.313,  294.816,  Grey siltstone                                  \n",
    "  294.816,  295.397,  Dolomite                                        \n",
    "  295.397,  296.286,  Limestone                                       \n",
    "  296.286,  300.000,  Volcanic                                        \n",
    "\"\"\""
   ]
  },
  {
   "cell_type": "code",
   "execution_count": 31,
   "metadata": {
    "collapsed": false
   },
   "outputs": [
    {
     "name": "stdout",
     "output_type": "stream",
     "text": [
      "{'top': Position({'upper': 200.0, 'lower': 200.0, 'middle': 200.0, 'units': 'm'}), 'description': 'Anhydrite', 'base': Position({'upper': 230.329, 'lower': 230.329, 'middle': 230.329, 'units': 'm'}), 'components': [Component({'lithology': 'anhydrite'})]}\n",
      "{'top': Position({'upper': 230.329, 'lower': 230.329, 'middle': 230.329, 'units': 'm'}), 'description': 'Grey vf-f sandstone', 'base': Position({'upper': 233.269, 'lower': 233.269, 'middle': 233.269, 'units': 'm'}), 'components': [Component({'grainsize': 'vf-f', 'colour': 'grey', 'lithology': 'sandstone'})]}\n",
      "{'top': Position({'upper': 233.269, 'lower': 233.269, 'middle': 233.269, 'units': 'm'}), 'description': 'Anhydrite', 'base': Position({'upper': 234.7, 'lower': 234.7, 'middle': 234.7, 'units': 'm'}), 'components': [Component({'lithology': 'anhydrite'})]}\n",
      "{'top': Position({'upper': 234.7, 'lower': 234.7, 'middle': 234.7, 'units': 'm'}), 'description': 'Dolomite', 'base': Position({'upper': 236.596, 'lower': 236.596, 'middle': 236.596, 'units': 'm'}), 'components': [Component({'lithology': 'dolomite'})]}\n",
      "{'top': Position({'upper': 236.596, 'lower': 236.596, 'middle': 236.596, 'units': 'm'}), 'description': 'Red siltstone', 'base': Position({'upper': 237.911, 'lower': 237.911, 'middle': 237.911, 'units': 'm'}), 'components': [Component({'colour': 'red', 'lithology': 'siltstone'})]}\n",
      "{'top': Position({'upper': 237.911, 'lower': 237.911, 'middle': 237.911, 'units': 'm'}), 'description': 'Anhydrite', 'base': Position({'upper': 238.723, 'lower': 238.723, 'middle': 238.723, 'units': 'm'}), 'components': [Component({'lithology': 'anhydrite'})]}\n",
      "{'top': Position({'upper': 238.723, 'lower': 238.723, 'middle': 238.723, 'units': 'm'}), 'description': 'Grey vf-f sandstone', 'base': Position({'upper': 239.807, 'lower': 239.807, 'middle': 239.807, 'units': 'm'}), 'components': [Component({'grainsize': 'vf-f', 'colour': 'grey', 'lithology': 'sandstone'})]}\n",
      "{'top': Position({'upper': 239.807, 'lower': 239.807, 'middle': 239.807, 'units': 'm'}), 'description': 'Red siltstone', 'base': Position({'upper': 240.774, 'lower': 240.774, 'middle': 240.774, 'units': 'm'}), 'components': [Component({'colour': 'red', 'lithology': 'siltstone'})]}\n",
      "{'top': Position({'upper': 240.774, 'lower': 240.774, 'middle': 240.774, 'units': 'm'}), 'description': 'Dolomite', 'base': Position({'upper': 241.122, 'lower': 241.122, 'middle': 241.122, 'units': 'm'}), 'components': [Component({'lithology': 'dolomite'})]}\n",
      "{'top': Position({'upper': 241.122, 'lower': 241.122, 'middle': 241.122, 'units': 'm'}), 'description': 'Grey siltstone', 'base': Position({'upper': 241.702, 'lower': 241.702, 'middle': 241.702, 'units': 'm'}), 'components': [Component({'colour': 'grey', 'lithology': 'siltstone'})]}\n",
      "{'top': Position({'upper': 241.702, 'lower': 241.702, 'middle': 241.702, 'units': 'm'}), 'description': 'Dolomite', 'base': Position({'upper': 243.095, 'lower': 243.095, 'middle': 243.095, 'units': 'm'}), 'components': [Component({'lithology': 'dolomite'})]}\n",
      "{'top': Position({'upper': 243.095, 'lower': 243.095, 'middle': 243.095, 'units': 'm'}), 'description': 'Grey vf-f sandstone', 'base': Position({'upper': 246.654, 'lower': 246.654, 'middle': 246.654, 'units': 'm'}), 'components': [Component({'grainsize': 'vf-f', 'colour': 'grey', 'lithology': 'sandstone'})]}\n",
      "{'top': Position({'upper': 246.654, 'lower': 246.654, 'middle': 246.654, 'units': 'm'}), 'description': 'Dolomite', 'base': Position({'upper': 247.234, 'lower': 247.234, 'middle': 247.234, 'units': 'm'}), 'components': [Component({'lithology': 'dolomite'})]}\n",
      "{'top': Position({'upper': 247.234, 'lower': 247.234, 'middle': 247.234, 'units': 'm'}), 'description': 'Grey vf-f sandstone', 'base': Position({'upper': 255.435, 'lower': 255.435, 'middle': 255.435, 'units': 'm'}), 'components': [Component({'grainsize': 'vf-f', 'colour': 'grey', 'lithology': 'sandstone'})]}\n",
      "{'top': Position({'upper': 255.435, 'lower': 255.435, 'middle': 255.435, 'units': 'm'}), 'description': 'Grey siltstone', 'base': Position({'upper': 258.723, 'lower': 258.723, 'middle': 258.723, 'units': 'm'}), 'components': [Component({'colour': 'grey', 'lithology': 'siltstone'})]}\n",
      "{'top': Position({'upper': 258.723, 'lower': 258.723, 'middle': 258.723, 'units': 'm'}), 'description': 'Dolomite', 'base': Position({'upper': 259.729, 'lower': 259.729, 'middle': 259.729, 'units': 'm'}), 'components': [Component({'lithology': 'dolomite'})]}\n",
      "{'top': Position({'upper': 259.729, 'lower': 259.729, 'middle': 259.729, 'units': 'm'}), 'description': 'Grey siltstone', 'base': Position({'upper': 260.967, 'lower': 260.967, 'middle': 260.967, 'units': 'm'}), 'components': [Component({'colour': 'grey', 'lithology': 'siltstone'})]}\n",
      "{'top': Position({'upper': 260.967, 'lower': 260.967, 'middle': 260.967, 'units': 'm'}), 'description': 'Dolomite', 'base': Position({'upper': 261.354, 'lower': 261.354, 'middle': 261.354, 'units': 'm'}), 'components': [Component({'lithology': 'dolomite'})]}\n",
      "{'top': Position({'upper': 261.354, 'lower': 261.354, 'middle': 261.354, 'units': 'm'}), 'description': 'Grey siltstone', 'base': Position({'upper': 267.041, 'lower': 267.041, 'middle': 267.041, 'units': 'm'}), 'components': [Component({'colour': 'grey', 'lithology': 'siltstone'})]}\n",
      "{'top': Position({'upper': 267.041, 'lower': 267.041, 'middle': 267.041, 'units': 'm'}), 'description': 'Dolomite', 'base': Position({'upper': 267.35, 'lower': 267.35, 'middle': 267.35, 'units': 'm'}), 'components': [Component({'lithology': 'dolomite'})]}\n",
      "{'top': Position({'upper': 267.35, 'lower': 267.35, 'middle': 267.35, 'units': 'm'}), 'description': 'Grey siltstone', 'base': Position({'upper': 274.004, 'lower': 274.004, 'middle': 274.004, 'units': 'm'}), 'components': [Component({'colour': 'grey', 'lithology': 'siltstone'})]}\n",
      "{'top': Position({'upper': 274.004, 'lower': 274.004, 'middle': 274.004, 'units': 'm'}), 'description': 'Dolomite', 'base': Position({'upper': 274.313, 'lower': 274.313, 'middle': 274.313, 'units': 'm'}), 'components': [Component({'lithology': 'dolomite'})]}\n",
      "{'top': Position({'upper': 274.313, 'lower': 274.313, 'middle': 274.313, 'units': 'm'}), 'description': 'Grey siltstone', 'base': Position({'upper': 294.816, 'lower': 294.816, 'middle': 294.816, 'units': 'm'}), 'components': [Component({'colour': 'grey', 'lithology': 'siltstone'})]}\n",
      "{'top': Position({'upper': 294.816, 'lower': 294.816, 'middle': 294.816, 'units': 'm'}), 'description': 'Dolomite', 'base': Position({'upper': 295.397, 'lower': 295.397, 'middle': 295.397, 'units': 'm'}), 'components': [Component({'lithology': 'dolomite'})]}\n",
      "{'top': Position({'upper': 295.397, 'lower': 295.397, 'middle': 295.397, 'units': 'm'}), 'description': 'Limestone', 'base': Position({'upper': 296.286, 'lower': 296.286, 'middle': 296.286, 'units': 'm'}), 'components': [Component({'lithology': 'limestone'})]}\n",
      "{'top': Position({'upper': 296.286, 'lower': 296.286, 'middle': 296.286, 'units': 'm'}), 'description': 'Volcanic', 'base': Position({'upper': 300.0, 'lower': 300.0, 'middle': 300.0, 'units': 'm'}), 'components': [Component({})]}\n"
     ]
    }
   ],
   "source": [
    "strip3 = Striplog.from_las3(las3, lexicon)\n",
    "print(strip3)"
   ]
  },
  {
   "cell_type": "markdown",
   "metadata": {},
   "source": [
    "<hr />\n",
    "\n",
    "<p style=\"color:gray\">©2015 Agile Geoscience. Licensed CC-BY. <a href=\"https://github.com/agile-geoscience/striplog\">striplog.py</a></p>"
   ]
  }
 ],
 "metadata": {
  "kernelspec": {
   "display_name": "Python 3",
   "language": "python",
   "name": "python3"
  },
  "language_info": {
   "codemirror_mode": {
    "name": "ipython",
    "version": 3
   },
   "file_extension": ".py",
   "mimetype": "text/x-python",
   "name": "python",
   "nbconvert_exporter": "python",
   "pygments_lexer": "ipython3",
   "version": "3.4.3"
  }
 },
 "nbformat": 4,
 "nbformat_minor": 0
}
