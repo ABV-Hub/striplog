{
 "metadata": {
  "name": "",
  "signature": "sha256:cc2f5ebc243727c2c778cff94c25ba356a6c8bcf94798ebdedf7c56e72ec91f8"
 },
 "nbformat": 3,
 "nbformat_minor": 0,
 "worksheets": [
  {
   "cells": [
    {
     "cell_type": "heading",
     "level": 1,
     "metadata": {},
     "source": [
      "Testing objects"
     ]
    },
    {
     "cell_type": "markdown",
     "metadata": {},
     "source": [
      "We have some objects. This notebook runs them through their paces. We can use this to write a unittest.\n",
      "\n",
      "Import anything we might need."
     ]
    },
    {
     "cell_type": "code",
     "collapsed": false,
     "input": [
      "import numpy as np\n",
      "%matplotlib inline"
     ],
     "language": "python",
     "metadata": {},
     "outputs": [],
     "prompt_number": 1
    },
    {
     "cell_type": "markdown",
     "metadata": {},
     "source": [
      "<hr />"
     ]
    },
    {
     "cell_type": "code",
     "collapsed": false,
     "input": [
      "from legend import Legend\n",
      "legend = Legend.default()"
     ],
     "language": "python",
     "metadata": {},
     "outputs": [],
     "prompt_number": 76
    },
    {
     "cell_type": "code",
     "collapsed": false,
     "input": [
      "from interval import Interval\n",
      "from rock import Rock"
     ],
     "language": "python",
     "metadata": {},
     "outputs": [],
     "prompt_number": 77
    },
    {
     "cell_type": "heading",
     "level": 2,
     "metadata": {},
     "source": [
      "Striplog"
     ]
    },
    {
     "cell_type": "code",
     "collapsed": false,
     "input": [
      "from striplog import Striplog\n",
      "print Striplog.__doc__"
     ],
     "language": "python",
     "metadata": {},
     "outputs": [
      {
       "output_type": "stream",
       "stream": "stdout",
       "text": [
        "\n",
        "    A Striplog is a sequence of intervals.\n",
        "\n",
        "    We will build them from LAS files or CSVs.\n",
        "    \n"
       ]
      }
     ],
     "prompt_number": 78
    },
    {
     "cell_type": "code",
     "collapsed": false,
     "input": [
      "imgfile = \"M-MG-70_14.3_135.9.png\""
     ],
     "language": "python",
     "metadata": {},
     "outputs": [],
     "prompt_number": 79
    },
    {
     "cell_type": "code",
     "collapsed": false,
     "input": [
      "striplog = Striplog.from_img(imgfile, 200, 300, legend=legend)\n",
      "striplog"
     ],
     "language": "python",
     "metadata": {},
     "outputs": [
      {
       "metadata": {},
       "output_type": "pyout",
       "prompt_number": 80,
       "text": [
        "Striplog(26 Intervals, start=200.0, stop=300.0)"
       ]
      }
     ],
     "prompt_number": 80
    },
    {
     "cell_type": "markdown",
     "metadata": {},
     "source": [
      "`top` shows us a roll-up of the lithologies in the striplog, in order of cumulative thickness."
     ]
    },
    {
     "cell_type": "code",
     "collapsed": false,
     "input": [
      "striplog.top"
     ],
     "language": "python",
     "metadata": {},
     "outputs": [
      {
       "metadata": {},
       "output_type": "pyout",
       "prompt_number": 81,
       "text": [
        "[(Rock(colour='grey', lithology='siltstone', grainsize=''), 37.94970986460356),\n",
        " (Rock(colour='', lithology='anhydrite', grainsize=''), 32.5725338491296),\n",
        " (Rock(colour='grey', lithology='sandstone', grainsize='vf-f'),\n",
        "  15.783365570599585),\n",
        " (Rock(colour='', lithology='dolomite', grainsize=''), 6.808510638297804),\n",
        " (Rock(colour='', lithology='volcanic', grainsize=''), 3.7137330754351865),\n",
        " (Rock(colour='red', lithology='siltstone', grainsize=''), 2.2823984526112326),\n",
        " (Rock(colour='', lithology='limestone', grainsize=''), 0.8897485493230306)]"
       ]
      }
     ],
     "prompt_number": 81
    },
    {
     "cell_type": "markdown",
     "metadata": {},
     "source": [
      "It's easy enough to visualize this. Perhaps this should be a method..."
     ]
    },
    {
     "cell_type": "code",
     "collapsed": false,
     "input": [
      "depth = 0\n",
      "list_of_int = []\n",
      "for i in striplog.top:\n",
      "    list_of_int.append(Interval(depth, depth+i[1], components=[i[0]]))\n",
      "    depth += i[1]\n",
      "t = Striplog(list_of_int)\n",
      "t.plot(legend)"
     ],
     "language": "python",
     "metadata": {},
     "outputs": [
      {
       "metadata": {},
       "output_type": "display_data",
       "png": "[encoded data removed]",
       "text": [
        "<matplotlib.figure.Figure at 0x10da3b490>"
       ]
      }
     ],
     "prompt_number": 82
    },
    {
     "cell_type": "heading",
     "level": 3,
     "metadata": {},
     "source": [
      "Plot"
     ]
    },
    {
     "cell_type": "code",
     "collapsed": false,
     "input": [
      "striplog.plot(legend, ladder=True, aspect=20)"
     ],
     "language": "python",
     "metadata": {},
     "outputs": [
      {
       "metadata": {},
       "output_type": "display_data",
       "png": "[encoded data removed]",
       "text": [
        "<matplotlib.figure.Figure at 0x10c631f10>"
       ]
      }
     ],
     "prompt_number": 39
    },
    {
     "cell_type": "heading",
     "level": 3,
     "metadata": {},
     "source": [
      "Slice and iterate"
     ]
    },
    {
     "cell_type": "markdown",
     "metadata": {},
     "source": [
      "Again, the object is iterable."
     ]
    },
    {
     "cell_type": "code",
     "collapsed": false,
     "input": [
      "print striplog[-1].primary.summary()"
     ],
     "language": "python",
     "metadata": {},
     "outputs": [
      {
       "output_type": "stream",
       "stream": "stdout",
       "text": [
        "Volcanic\n"
       ]
      }
     ],
     "prompt_number": 10
    },
    {
     "cell_type": "code",
     "collapsed": false,
     "input": [
      "len(striplog)"
     ],
     "language": "python",
     "metadata": {},
     "outputs": [
      {
       "metadata": {},
       "output_type": "pyout",
       "prompt_number": 11,
       "text": [
        "26"
       ]
      }
     ],
     "prompt_number": 11
    },
    {
     "cell_type": "code",
     "collapsed": false,
     "input": [
      "np.array([d.top for d in striplog[5:13]])"
     ],
     "language": "python",
     "metadata": {},
     "outputs": [
      {
       "metadata": {},
       "output_type": "pyout",
       "prompt_number": 12,
       "text": [
        "array([ 237.91102515,  238.72340426,  239.8065764 ,  240.77369439,\n",
        "        241.12185687,  241.70212766,  243.09477756,  246.65377176])"
       ]
      }
     ],
     "prompt_number": 12
    },
    {
     "cell_type": "markdown",
     "metadata": {},
     "source": [
      "You can even index into it with an interable, like a list of indices."
     ]
    },
    {
     "cell_type": "code",
     "collapsed": false,
     "input": [
      "indices = [2,4,6]\n",
      "print striplog[indices]"
     ],
     "language": "python",
     "metadata": {},
     "outputs": [
      {
       "output_type": "stream",
       "stream": "stdout",
       "text": [
        "top: 233.268858801, base: 234.700193424, description: '', components: [Rock(colour='', lithology='anhydrite', grainsize='')]\n",
        "top: 236.595744681, base: 237.911025145, description: '', components: [Rock(colour='red', lithology='siltstone', grainsize='')]\n",
        "top: 238.723404255, base: 239.806576402, description: '', components: [Rock(colour='grey', lithology='sandstone', grainsize='vf-f')]\n"
       ]
      }
     ],
     "prompt_number": 13
    },
    {
     "cell_type": "heading",
     "level": 3,
     "metadata": {},
     "source": [
      "Find words in descriptions"
     ]
    },
    {
     "cell_type": "markdown",
     "metadata": {},
     "source": [
      "This results in a new Striplog, contianing only the intervals requested."
     ]
    },
    {
     "cell_type": "code",
     "collapsed": false,
     "input": [
      "striplog.find('sandstone')"
     ],
     "language": "python",
     "metadata": {},
     "outputs": [
      {
       "metadata": {},
       "output_type": "pyout",
       "prompt_number": 14,
       "text": [
        "Striplog(4 Intervals, start=230.328820116, stop=255.435203095)"
       ]
      }
     ],
     "prompt_number": 14
    },
    {
     "cell_type": "code",
     "collapsed": false,
     "input": [
      "striplog.find('sandstone').top"
     ],
     "language": "python",
     "metadata": {},
     "outputs": [
      {
       "metadata": {},
       "output_type": "pyout",
       "prompt_number": 15,
       "text": [
        "[(Rock(colour='grey', lithology='sandstone', grainsize='vf-f'),\n",
        "  15.783365570599585)]"
       ]
      }
     ],
     "prompt_number": 15
    },
    {
     "cell_type": "code",
     "collapsed": false,
     "input": [
      "striplog.find('sandstone').cum"
     ],
     "language": "python",
     "metadata": {},
     "outputs": [
      {
       "metadata": {},
       "output_type": "pyout",
       "prompt_number": 16,
       "text": [
        "15.783365570599585"
       ]
      }
     ],
     "prompt_number": 16
    },
    {
     "cell_type": "code",
     "collapsed": false,
     "input": [
      "print striplog.find('sandstone')"
     ],
     "language": "python",
     "metadata": {},
     "outputs": [
      {
       "output_type": "stream",
       "stream": "stdout",
       "text": [
        "top: 230.328820116, base: 233.268858801, description: '', components: [Rock(colour='grey', lithology='sandstone', grainsize='vf-f')]\n",
        "top: 238.723404255, base: 239.806576402, description: '', components: [Rock(colour='grey', lithology='sandstone', grainsize='vf-f')]\n",
        "top: 243.094777563, base: 246.65377176, description: '', components: [Rock(colour='grey', lithology='sandstone', grainsize='vf-f')]\n",
        "top: 247.234042553, base: 255.435203095, description: '', components: [Rock(colour='grey', lithology='sandstone', grainsize='vf-f')]\n"
       ]
      }
     ],
     "prompt_number": 17
    },
    {
     "cell_type": "code",
     "collapsed": false,
     "input": [
      "striplog.find('sandstone').plot(legend)"
     ],
     "language": "python",
     "metadata": {},
     "outputs": [
      {
       "metadata": {},
       "output_type": "display_data",
       "png": "[encoded data removed]",
       "text": [
        "<matplotlib.figure.Figure at 0x10da68290>"
       ]
      }
     ],
     "prompt_number": 18
    },
    {
     "cell_type": "markdown",
     "metadata": {},
     "source": [
      "Let's ask for the rock we just found by seaching."
     ]
    },
    {
     "cell_type": "code",
     "collapsed": false,
     "input": [
      "rock = striplog.find('sandstone')[1].components[0]\n",
      "rock"
     ],
     "language": "python",
     "metadata": {},
     "outputs": [
      {
       "metadata": {},
       "output_type": "pyout",
       "prompt_number": 19,
       "text": [
        "Rock(colour='grey', lithology='sandstone', grainsize='vf-f')"
       ]
      }
     ],
     "prompt_number": 19
    },
    {
     "cell_type": "markdown",
     "metadata": {},
     "source": [
      "We can also search for a rock..."
     ]
    },
    {
     "cell_type": "code",
     "collapsed": false,
     "input": [
      "striplog.find(rock).plot(legend)"
     ],
     "language": "python",
     "metadata": {},
     "outputs": [
      {
       "metadata": {},
       "output_type": "display_data",
       "png": "[encoded data removed]",
       "text": [
        "<matplotlib.figure.Figure at 0x10dade650>"
       ]
      }
     ],
     "prompt_number": 20
    },
    {
     "cell_type": "code",
     "collapsed": false,
     "input": [
      "rock in striplog"
     ],
     "language": "python",
     "metadata": {},
     "outputs": [
      {
       "metadata": {},
       "output_type": "pyout",
       "prompt_number": 21,
       "text": [
        "True"
       ]
      }
     ],
     "prompt_number": 21
    },
    {
     "cell_type": "code",
     "collapsed": false,
     "input": [
      "for r in reversed(striplog):\n",
      "    print r"
     ],
     "language": "python",
     "metadata": {},
     "outputs": [
      {
       "output_type": "stream",
       "stream": "stdout",
       "text": [
        "top: 296.286266925, base: 300.0, description: '', components: [Rock(colour='', lithology='volcanic', grainsize='')]\n",
        "top: 295.396518375, base: 296.286266925, description: '', components: [Rock(colour='', lithology='limestone', grainsize='')]\n",
        "top: 294.816247582, base: 295.396518375, description: '', components: [Rock(colour='', lithology='dolomite', grainsize='')]\n",
        "top: 274.313346228, base: 294.816247582, description: '', components: [Rock(colour='grey', lithology='siltstone', grainsize='')]\n",
        "top: 274.003868472, base: 274.313346228, description: '', components: [Rock(colour='', lithology='dolomite', grainsize='')]\n",
        "top: 267.350096712, base: 274.003868472, description: '', components: [Rock(colour='grey', lithology='siltstone', grainsize='')]\n",
        "top: 267.040618956, base: 267.350096712, description: '', components: [Rock(colour='', lithology='dolomite', grainsize='')]\n",
        "top: 261.353965184, base: 267.040618956, description: '', components: [Rock(colour='grey', lithology='siltstone', grainsize='')]\n",
        "top: 260.967117988, base: 261.353965184, description: '', components: [Rock(colour='', lithology='dolomite', grainsize='')]\n",
        "top: 259.729206963, base: 260.967117988, description: '', components: [Rock(colour='grey', lithology='siltstone', grainsize='')]\n",
        "top: 258.723404255, base: 259.729206963, description: '', components: [Rock(colour='', lithology='dolomite', grainsize='')]\n",
        "top: 255.435203095, base: 258.723404255, description: '', components: [Rock(colour='grey', lithology='siltstone', grainsize='')]\n",
        "top: 247.234042553, base: 255.435203095, description: '', components: [Rock(colour='grey', lithology='sandstone', grainsize='vf-f')]\n",
        "top: 246.65377176, base: 247.234042553, description: '', components: [Rock(colour='', lithology='dolomite', grainsize='')]\n",
        "top: 243.094777563, base: 246.65377176, description: '', components: [Rock(colour='grey', lithology='sandstone', grainsize='vf-f')]\n",
        "top: 241.70212766, base: 243.094777563, description: '', components: [Rock(colour='', lithology='dolomite', grainsize='')]\n",
        "top: 241.121856867, base: 241.70212766, description: '', components: [Rock(colour='grey', lithology='siltstone', grainsize='')]\n",
        "top: 240.773694391, base: 241.121856867, description: '', components: [Rock(colour='', lithology='dolomite', grainsize='')]\n",
        "top: 239.806576402, base: 240.773694391, description: '', components: [Rock(colour='red', lithology='siltstone', grainsize='')]\n",
        "top: 238.723404255, base: 239.806576402, description: '', components: [Rock(colour='grey', lithology='sandstone', grainsize='vf-f')]\n",
        "top: 237.911025145, base: 238.723404255, description: '', components: [Rock(colour='', lithology='anhydrite', grainsize='')]\n",
        "top: 236.595744681, base: 237.911025145, description: '', components: [Rock(colour='red', lithology='siltstone', grainsize='')]\n",
        "top: 234.700193424, base: 236.595744681, description: '', components: [Rock(colour='', lithology='dolomite', grainsize='')]\n",
        "top: 233.268858801, base: 234.700193424, description: '', components: [Rock(colour='', lithology='anhydrite', grainsize='')]\n",
        "top: 230.328820116, base: 233.268858801, description: '', components: [Rock(colour='grey', lithology='sandstone', grainsize='vf-f')]\n",
        "top: 200.0, base: 230.328820116, description: '', components: [Rock(colour='', lithology='anhydrite', grainsize='')]\n"
       ]
      }
     ],
     "prompt_number": 22
    },
    {
     "cell_type": "code",
     "collapsed": false,
     "input": [
      "striplog[1:3]"
     ],
     "language": "python",
     "metadata": {},
     "outputs": [
      {
       "metadata": {},
       "output_type": "pyout",
       "prompt_number": 23,
       "text": [
        "Striplog(2 Intervals, start=230.328820116, stop=234.700193424)"
       ]
      }
     ],
     "prompt_number": 23
    },
    {
     "cell_type": "code",
     "collapsed": false,
     "input": [
      "striplog[-3:]"
     ],
     "language": "python",
     "metadata": {},
     "outputs": [
      {
       "metadata": {},
       "output_type": "pyout",
       "prompt_number": 24,
       "text": [
        "Striplog(3 Intervals, start=294.816247582, stop=300.0)"
       ]
      }
     ],
     "prompt_number": 24
    },
    {
     "cell_type": "code",
     "collapsed": false,
     "input": [
      "rock2 = Rock({'lithology':'shale', 'colour':'grey'})"
     ],
     "language": "python",
     "metadata": {},
     "outputs": [],
     "prompt_number": 25
    },
    {
     "cell_type": "code",
     "collapsed": false,
     "input": [
      "iv = Interval(top=300, base=350, description='', components=[rock, rock2])\n",
      "new = striplog[-3:-1] + Striplog([iv])\n",
      "new"
     ],
     "language": "python",
     "metadata": {},
     "outputs": [
      {
       "metadata": {},
       "output_type": "pyout",
       "prompt_number": 26,
       "text": [
        "Striplog(3 Intervals, start=294.816247582, stop=350.0)"
       ]
      }
     ],
     "prompt_number": 26
    },
    {
     "cell_type": "code",
     "collapsed": false,
     "input": [
      "# Make descriptions if we don't have them\n",
      "# for iv in s:\n",
      "#     setattr(iv, 'description', iv.primary.summary())"
     ],
     "language": "python",
     "metadata": {},
     "outputs": [],
     "prompt_number": 27
    },
    {
     "cell_type": "heading",
     "level": 3,
     "metadata": {},
     "source": [
      "Read or write CSV or LAS3"
     ]
    },
    {
     "cell_type": "code",
     "collapsed": false,
     "input": [
      "print striplog.to_las3()"
     ],
     "language": "python",
     "metadata": {},
     "outputs": [
      {
       "output_type": "stream",
       "stream": "stdout",
       "text": [
        "~Lithology_Parameter\n",
        "LITH .   Striplog         : Lithology source          {S}\n",
        "LITHD.   MD               : Lithology depth reference {S}\n",
        "\n",
        "~Lithology_Definition\n",
        "LITHT.M                   : Lithology top depth       {F}\n",
        "LITHB.M                   : Lithology base depth      {F}\n",
        "LITHN.                    : Lithology name            {S}\n",
        "\n",
        "~Lithology_Data | Lithology_Definition\n",
        "  200.000,  230.329,  Anhydrite                                       \n",
        "  230.329,  233.269,  Grey vf-f sandstone                             \n",
        "  233.269,  234.700,  Anhydrite                                       \n",
        "  234.700,  236.596,  Dolomite                                        \n",
        "  236.596,  237.911,  Red siltstone                                   \n",
        "  237.911,  238.723,  Anhydrite                                       \n",
        "  238.723,  239.807,  Grey vf-f sandstone                             \n",
        "  239.807,  240.774,  Red siltstone                                   \n",
        "  240.774,  241.122,  Dolomite                                        \n",
        "  241.122,  241.702,  Grey siltstone                                  \n",
        "  241.702,  243.095,  Dolomite                                        \n",
        "  243.095,  246.654,  Grey vf-f sandstone                             \n",
        "  246.654,  247.234,  Dolomite                                        \n",
        "  247.234,  255.435,  Grey vf-f sandstone                             \n",
        "  255.435,  258.723,  Grey siltstone                                  \n",
        "  258.723,  259.729,  Dolomite                                        \n",
        "  259.729,  260.967,  Grey siltstone                                  \n",
        "  260.967,  261.354,  Dolomite                                        \n",
        "  261.354,  267.041,  Grey siltstone                                  \n",
        "  267.041,  267.350,  Dolomite                                        \n",
        "  267.350,  274.004,  Grey siltstone                                  \n",
        "  274.004,  274.313,  Dolomite                                        \n",
        "  274.313,  294.816,  Grey siltstone                                  \n",
        "  294.816,  295.397,  Dolomite                                        \n",
        "  295.397,  296.286,  Limestone                                       \n",
        "  296.286,  300.000,  Volcanic                                        \n",
        "\n"
       ]
      }
     ],
     "prompt_number": 28
    },
    {
     "cell_type": "code",
     "collapsed": false,
     "input": [
      "striplog.source"
     ],
     "language": "python",
     "metadata": {},
     "outputs": [
      {
       "metadata": {},
       "output_type": "pyout",
       "prompt_number": 29,
       "text": [
        "'Image'"
       ]
      }
     ],
     "prompt_number": 29
    },
    {
     "cell_type": "code",
     "collapsed": false,
     "input": [
      "import json\n",
      "with open('lexicon.json', 'r') as fp:\n",
      "    lexicon = json.load(fp)"
     ],
     "language": "python",
     "metadata": {},
     "outputs": [],
     "prompt_number": 30
    },
    {
     "cell_type": "code",
     "collapsed": false,
     "input": [
      "csv_string = \"\"\"  200.000,  230.329,  Anhydrite                                       \n",
      "  230.329,  233.269,  Grey vf-f sandstone                             \n",
      "  233.269,  234.700,  Anhydrite                                       \n",
      "  234.700,  236.596,  Dolomite                                        \n",
      "  236.596,  237.911,  Red siltstone                                   \n",
      "  237.911,  238.723,  Anhydrite                                       \n",
      "  238.723,  239.807,  Grey vf-f sandstone                             \n",
      "  239.807,  240.774,  Red siltstone                                   \n",
      "  240.774,  241.122,  Dolomite                                        \n",
      "  241.122,  241.702,  Grey siltstone                                  \n",
      "  241.702,  243.095,  Dolomite                                        \n",
      "  243.095,  246.654,  Grey vf-f sandstone                             \n",
      "  246.654,  247.234,  Dolomite                                        \n",
      "  247.234,  255.435,  Grey vf-f sandstone                             \n",
      "  255.435,  258.723,  Grey siltstone                                  \n",
      "  258.723,  259.729,  Dolomite                                        \n",
      "  259.729,  260.967,  Grey siltstone                                  \n",
      "  260.967,  261.354,  Dolomite                                        \n",
      "  261.354,  267.041,  Grey siltstone                                  \n",
      "  267.041,  267.350,  Dolomite                                        \n",
      "  267.350,  274.004,  Grey siltstone                                  \n",
      "  274.004,  274.313,  Dolomite                                        \n",
      "  274.313,  294.816,  Grey siltstone                                  \n",
      "  294.816,  295.397,  Dolomite                                        \n",
      "  295.397,  296.286,  Limestone                                       \n",
      "  296.286,  300.000,  Volcanic                                        \n",
      "\"\"\""
     ],
     "language": "python",
     "metadata": {},
     "outputs": [],
     "prompt_number": 31
    },
    {
     "cell_type": "code",
     "collapsed": false,
     "input": [
      "strip2 = Striplog.from_csv(csv_string, lexicon=lexicon)"
     ],
     "language": "python",
     "metadata": {},
     "outputs": [
      {
       "output_type": "stream",
       "stream": "stderr",
       "text": [
        "rock.py:101: UserWarning: No lithology in lexicon matching 'Volcanic'\n",
        "  warnings.warn(w)\n"
       ]
      }
     ],
     "prompt_number": 32
    },
    {
     "cell_type": "markdown",
     "metadata": {},
     "source": [
      "Notice the warning about a missing term in the lexicon."
     ]
    },
    {
     "cell_type": "code",
     "collapsed": false,
     "input": [
      "Rock.from_text('Volcanic', lexicon)"
     ],
     "language": "python",
     "metadata": {},
     "outputs": [
      {
       "output_type": "stream",
       "stream": "stderr",
       "text": [
        "rock.py:101: UserWarning: No lithology in lexicon matching 'Volcanic'\n",
        "  warnings.warn(w)\n"
       ]
      }
     ],
     "prompt_number": 33
    },
    {
     "cell_type": "code",
     "collapsed": false,
     "input": [
      "Rock.from_text('Grey vf-f sandstone', lexicon)"
     ],
     "language": "python",
     "metadata": {},
     "outputs": [
      {
       "metadata": {},
       "output_type": "pyout",
       "prompt_number": 34,
       "text": [
        "Rock(colour='grey', lithology='sandstone', grainsize='vf-f')"
       ]
      }
     ],
     "prompt_number": 34
    },
    {
     "cell_type": "code",
     "collapsed": false,
     "input": [
      "las3 = \"\"\"~Lithology_Parameter\n",
      "LITH .                    : Lithology source          {S}\n",
      "LITHD.   MD               : Lithology depth reference {S}\n",
      "\n",
      "~Lithology_Definition\n",
      "LITHT.M                   : Lithology top depth       {F}\n",
      "LITHB.M                   : Lithology base depth      {F}\n",
      "LITHN.                    : Lithology name            {S}\n",
      "\n",
      "~Lithology_Data | Lithology_Definition\n",
      "  200.000,  230.329,  Anhydrite                                       \n",
      "  230.329,  233.269,  Grey vf-f sandstone                             \n",
      "  233.269,  234.700,  Anhydrite                                       \n",
      "  234.700,  236.596,  Dolomite                                        \n",
      "  236.596,  237.911,  Red siltstone                                   \n",
      "  237.911,  238.723,  Anhydrite                                       \n",
      "  238.723,  239.807,  Grey vf-f sandstone                             \n",
      "  239.807,  240.774,  Red siltstone                                   \n",
      "  240.774,  241.122,  Dolomite                                        \n",
      "  241.122,  241.702,  Grey siltstone                                  \n",
      "  241.702,  243.095,  Dolomite                                        \n",
      "  243.095,  246.654,  Grey vf-f sandstone                             \n",
      "  246.654,  247.234,  Dolomite                                        \n",
      "  247.234,  255.435,  Grey vf-f sandstone                             \n",
      "  255.435,  258.723,  Grey siltstone                                  \n",
      "  258.723,  259.729,  Dolomite                                        \n",
      "  259.729,  260.967,  Grey siltstone                                  \n",
      "  260.967,  261.354,  Dolomite                                        \n",
      "  261.354,  267.041,  Grey siltstone                                  \n",
      "  267.041,  267.350,  Dolomite                                        \n",
      "  267.350,  274.004,  Grey siltstone                                  \n",
      "  274.004,  274.313,  Dolomite                                        \n",
      "  274.313,  294.816,  Grey siltstone                                  \n",
      "  294.816,  295.397,  Dolomite                                        \n",
      "  295.397,  296.286,  Limestone                                       \n",
      "  296.286,  300.000,  Volcanic                                        \n",
      "\"\"\""
     ],
     "language": "python",
     "metadata": {},
     "outputs": [],
     "prompt_number": 35
    },
    {
     "cell_type": "code",
     "collapsed": false,
     "input": [
      "strip3 = Striplog.from_las3(las3, lexicon)\n",
      "strip3"
     ],
     "language": "python",
     "metadata": {},
     "outputs": [
      {
       "output_type": "stream",
       "stream": "stderr",
       "text": [
        "rock.py:101: UserWarning: No lithology in lexicon matching 'Volcanic'\n",
        "  warnings.warn(w)\n"
       ]
      },
      {
       "metadata": {},
       "output_type": "pyout",
       "prompt_number": 36,
       "text": [
        "Striplog(26 Intervals, start=200.0, stop=300.0)"
       ]
      }
     ],
     "prompt_number": 36
    },
    {
     "cell_type": "code",
     "collapsed": false,
     "input": [
      "strip3.top"
     ],
     "language": "python",
     "metadata": {},
     "outputs": [
      {
       "metadata": {},
       "output_type": "pyout",
       "prompt_number": 37,
       "text": [
        "[(Rock(colour='grey', lithology='siltstone'), 37.94999999999999),\n",
        " (Rock(lithology='anhydrite'), 32.572),\n",
        " (Rock(colour='grey', lithology='sandstone', grainsize='vf-f'),\n",
        "  15.783999999999963),\n",
        " (Rock(lithology='dolomite'), 6.809000000000026),\n",
        " (None, 3.7139999999999986),\n",
        " (Rock(colour='red', lithology='siltstone'), 2.2820000000000107),\n",
        " (Rock(lithology='limestone'), 0.88900000000001)]"
       ]
      }
     ],
     "prompt_number": 37
    },
    {
     "cell_type": "code",
     "collapsed": false,
     "input": [],
     "language": "python",
     "metadata": {},
     "outputs": [],
     "prompt_number": 37
    }
   ],
   "metadata": {}
  }
 ]
}