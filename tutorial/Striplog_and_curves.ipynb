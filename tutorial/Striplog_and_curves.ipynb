{
 "cells": [
  {
   "cell_type": "markdown",
   "metadata": {},
   "source": [
    "## Striplog for abstracting curves\n",
    "\n",
    "We'll start by making some fake CSV text:"
   ]
  },
  {
   "cell_type": "code",
   "execution_count": 2,
   "metadata": {},
   "outputs": [],
   "source": [
    "data = \"\"\"Comp Formation,Depth\n",
    "A,100\n",
    "B,200\n",
    "C,250\n",
    "D,400\n",
    "E,600\"\"\""
   ]
  },
  {
   "cell_type": "markdown",
   "metadata": {},
   "source": [
    "If you have a CSV file, you can do:\n",
    "\n",
    "    s = Striplog.from_csv(filename=filename)\n",
    "    \n",
    "But we have text, so we do something slightly different, passing the `text` argument instead. We also pass a `stop` argument to tell Striplog to make the last unit (E) 50 m thick. (If you don't do this, it will be 1 m thick)."
   ]
  },
  {
   "cell_type": "code",
   "execution_count": 3,
   "metadata": {},
   "outputs": [],
   "source": [
    "from striplog import Striplog\n",
    "\n",
    "s = Striplog.from_csv(text=data, stop=650)"
   ]
  },
  {
   "cell_type": "markdown",
   "metadata": {},
   "source": [
    "Each element of the striplog is an `Interval` object, which has a top, base and one or more `Component`s, which represent whatever is in the interval (maybe a rock type, or in this case a formation). There is also a `data` field, which we will use later."
   ]
  },
  {
   "cell_type": "code",
   "execution_count": 4,
   "metadata": {},
   "outputs": [
    {
     "data": {
      "text/html": [
       "<table><tr><td style=\"width:2em; background-color:#DDDDDD\" rowspan=\"6\"></td><td><strong>top</strong></td><td>100.0</td></tr><tr><td><strong>primary</strong></td><td><table><tr><td><strong>formation</strong></td><td>A</td></tr></table></td></tr><tr><td><strong>summary</strong></td><td>100.00 m of A</td></tr><tr><td><strong>description</strong></td><td></td></tr><tr><td><strong>data</strong></td><td><table></table></td></tr><tr><td><strong>base</strong></td><td>200.0</td></tr></table>"
      ],
      "text/plain": [
       "Interval({'top': Position({'middle': 100.0, 'units': 'm'}), 'base': Position({'middle': 200.0, 'units': 'm'}), 'description': '', 'data': {}, 'components': [Component({'formation': 'A'})]})"
      ]
     },
     "execution_count": 4,
     "metadata": {},
     "output_type": "execute_result"
    }
   ],
   "source": [
    "s[0]"
   ]
  },
  {
   "cell_type": "markdown",
   "metadata": {},
   "source": [
    "We can plot the striplog. By default, it will use a random legend for the colours:"
   ]
  },
  {
   "cell_type": "code",
   "execution_count": 5,
   "metadata": {},
   "outputs": [
    {
     "data": {
      "image/png": "[encoded data removed]",
      "text/plain": [
       "<Figure size 108x324 with 1 Axes>"
      ]
     },
     "metadata": {
      "needs_background": "light"
     },
     "output_type": "display_data"
    }
   ],
   "source": [
    "s.plot(aspect=3)"
   ]
  },
  {
   "cell_type": "markdown",
   "metadata": {},
   "source": [
    "Or we can plot in the 'tops' style:"
   ]
  },
  {
   "cell_type": "code",
   "execution_count": 6,
   "metadata": {},
   "outputs": [
    {
     "data": {
      "image/png": "[encoded data removed]",
      "text/plain": [
       "<Figure size 216x216 with 1 Axes>"
      ]
     },
     "metadata": {
      "needs_background": "light"
     },
     "output_type": "display_data"
    }
   ],
   "source": [
    "s.plot(style='tops', field='formation', aspect=1)"
   ]
  },
  {
   "cell_type": "markdown",
   "metadata": {},
   "source": [
    "## Random curve data"
   ]
  },
  {
   "cell_type": "markdown",
   "metadata": {},
   "source": [
    "Make some fake data:"
   ]
  },
  {
   "cell_type": "code",
   "execution_count": 7,
   "metadata": {},
   "outputs": [],
   "source": [
    "from welly import Curve\n",
    "import numpy as np\n",
    "\n",
    "basis = np.linspace(0, 699, 700)\n",
    "data = np.sin(basis/10)\n",
    "curve = Curve(data=data, basis=basis)"
   ]
  },
  {
   "cell_type": "markdown",
   "metadata": {},
   "source": [
    "Plot it:"
   ]
  },
  {
   "cell_type": "code",
   "execution_count": 8,
   "metadata": {},
   "outputs": [
    {
     "data": {
      "image/png": "[encoded data removed]",
      "text/plain": [
       "<Figure size 432x288 with 2 Axes>"
      ]
     },
     "metadata": {
      "needs_background": "light"
     },
     "output_type": "display_data"
    }
   ],
   "source": [
    "%matplotlib inline\n",
    "import matplotlib.pyplot as plt\n",
    "\n",
    "fig, axs = plt.subplots(ncols=2)\n",
    "\n",
    "axs[0] = s.plot(ax=axs[0])\n",
    "axs[1] = curve.plot(ax=axs[1])"
   ]
  },
  {
   "cell_type": "markdown",
   "metadata": {},
   "source": [
    "## Extract data from the curve into the striplog"
   ]
  },
  {
   "cell_type": "code",
   "execution_count": 9,
   "metadata": {},
   "outputs": [],
   "source": [
    "s.extract(curve, basis=basis, name='GR')"
   ]
  },
  {
   "cell_type": "markdown",
   "metadata": {},
   "source": [
    "Now we have some the GR data from each unit stored in that unit:"
   ]
  },
  {
   "cell_type": "code",
   "execution_count": 10,
   "metadata": {},
   "outputs": [
    {
     "data": {
      "text/html": [
       "<table><tr><td style=\"width:2em; background-color:#DDDDDD\" rowspan=\"6\"></td><td><strong>top</strong></td><td>200.0</td></tr><tr><td><strong>primary</strong></td><td><table><tr><td><strong>formation</strong></td><td>B</td></tr></table></td></tr><tr><td><strong>summary</strong></td><td>50.00 m of B</td></tr><tr><td><strong>description</strong></td><td></td></tr><tr><td><strong>data</strong></td><td><table><tr><td><strong>GR</strong></td><td>[ 0.94912455  0.97582052  0.99276641  0.9997929   0.99682979  0.98390669\n",
       "  0.96115272  0.92879523  0.88715753  0.83665564  0.77779416  0.71116122\n",
       "  0.6374226   0.55731505  0.471639    0.38125049  0.28705265  0.18998668\n",
       "  0.09102242 -0.00885131 -0.1086366  -0.20733642 -0.30396461 -0.39755568\n",
       " -0.48717451 -0.57192566 -0.65096231 -0.72349476 -0.78879829 -0.8462204\n",
       " -0.89518737 -0.93520992 -0.96588815 -0.98691556 -0.99808203 -0.99927599\n",
       " -0.99048552 -0.97179845 -0.94340148 -0.90557836 -0.858707   -0.80325573\n",
       " -0.73977859 -0.66890982 -0.59135753 -0.50789659 -0.41936092 -0.32663513\n",
       " -0.23064571 -0.13235175]</td></tr></table></td></tr><tr><td><strong>base</strong></td><td>250.0</td></tr></table>"
      ],
      "text/plain": [
       "Interval({'top': Position({'middle': 200.0, 'units': 'm'}), 'base': Position({'middle': 250.0, 'units': 'm'}), 'description': '', 'data': {'GR': array([ 0.94912455,  0.97582052,  0.99276641,  0.9997929 ,  0.99682979,\n",
       "        0.98390669,  0.96115272,  0.92879523,  0.88715753,  0.83665564,\n",
       "        0.77779416,  0.71116122,  0.6374226 ,  0.55731505,  0.471639  ,\n",
       "        0.38125049,  0.28705265,  0.18998668,  0.09102242, -0.00885131,\n",
       "       -0.1086366 , -0.20733642, -0.30396461, -0.39755568, -0.48717451,\n",
       "       -0.57192566, -0.65096231, -0.72349476, -0.78879829, -0.8462204 ,\n",
       "       -0.89518737, -0.93520992, -0.96588815, -0.98691556, -0.99808203,\n",
       "       -0.99927599, -0.99048552, -0.97179845, -0.94340148, -0.90557836,\n",
       "       -0.858707  , -0.80325573, -0.73977859, -0.66890982, -0.59135753,\n",
       "       -0.50789659, -0.41936092, -0.32663513, -0.23064571, -0.13235175])}, 'components': [Component({'formation': 'B'})]})"
      ]
     },
     "execution_count": 10,
     "metadata": {},
     "output_type": "execute_result"
    }
   ],
   "source": [
    "s[1]"
   ]
  },
  {
   "cell_type": "markdown",
   "metadata": {},
   "source": [
    "So we could plot a segment of curve, say:"
   ]
  },
  {
   "cell_type": "code",
   "execution_count": 72,
   "metadata": {},
   "outputs": [
    {
     "data": {
      "text/plain": [
       "[<matplotlib.lines.Line2D at 0x7f83c13da080>]"
      ]
     },
     "execution_count": 72,
     "metadata": {},
     "output_type": "execute_result"
    },
    {
     "data": {
      "image/png": "[encoded data removed]",
      "text/plain": [
       "<Figure size 432x288 with 1 Axes>"
      ]
     },
     "metadata": {
      "needs_background": "light"
     },
     "output_type": "display_data"
    }
   ],
   "source": [
    "plt.plot(s[1].data['GR'])"
   ]
  },
  {
   "cell_type": "markdown",
   "metadata": {},
   "source": [
    "## Extract and reduce data\n",
    "\n",
    "We don't have to store all the data points. We can optionaly pass a function to produce anything we like, and store the result of that:"
   ]
  },
  {
   "cell_type": "code",
   "execution_count": 12,
   "metadata": {},
   "outputs": [
    {
     "data": {
      "text/html": [
       "<table><tr><td style=\"width:2em; background-color:#DDDDDD\" rowspan=\"6\"></td><td><strong>top</strong></td><td>200.0</td></tr><tr><td><strong>primary</strong></td><td><table><tr><td><strong>formation</strong></td><td>B</td></tr></table></td></tr><tr><td><strong>summary</strong></td><td>50.00 m of B</td></tr><tr><td><strong>description</strong></td><td></td></tr><tr><td><strong>data</strong></td><td><table><tr><td><strong>GR</strong></td><td>[ 0.94912455  0.97582052  0.99276641  0.9997929   0.99682979  0.98390669\n",
       "  0.96115272  0.92879523  0.88715753  0.83665564  0.77779416  0.71116122\n",
       "  0.6374226   0.55731505  0.471639    0.38125049  0.28705265  0.18998668\n",
       "  0.09102242 -0.00885131 -0.1086366  -0.20733642 -0.30396461 -0.39755568\n",
       " -0.48717451 -0.57192566 -0.65096231 -0.72349476 -0.78879829 -0.8462204\n",
       " -0.89518737 -0.93520992 -0.96588815 -0.98691556 -0.99808203 -0.99927599\n",
       " -0.99048552 -0.97179845 -0.94340148 -0.90557836 -0.858707   -0.80325573\n",
       " -0.73977859 -0.66890982 -0.59135753 -0.50789659 -0.41936092 -0.32663513\n",
       " -0.23064571 -0.13235175]</td></tr><tr><td><strong>GRmean</strong></td><td>-0.12697991702493913</td></tr></table></td></tr><tr><td><strong>base</strong></td><td>250.0</td></tr></table>"
      ],
      "text/plain": [
       "Interval({'top': Position({'middle': 200.0, 'units': 'm'}), 'base': Position({'middle': 250.0, 'units': 'm'}), 'description': '', 'data': {'GR': array([ 0.94912455,  0.97582052,  0.99276641,  0.9997929 ,  0.99682979,\n",
       "        0.98390669,  0.96115272,  0.92879523,  0.88715753,  0.83665564,\n",
       "        0.77779416,  0.71116122,  0.6374226 ,  0.55731505,  0.471639  ,\n",
       "        0.38125049,  0.28705265,  0.18998668,  0.09102242, -0.00885131,\n",
       "       -0.1086366 , -0.20733642, -0.30396461, -0.39755568, -0.48717451,\n",
       "       -0.57192566, -0.65096231, -0.72349476, -0.78879829, -0.8462204 ,\n",
       "       -0.89518737, -0.93520992, -0.96588815, -0.98691556, -0.99808203,\n",
       "       -0.99927599, -0.99048552, -0.97179845, -0.94340148, -0.90557836,\n",
       "       -0.858707  , -0.80325573, -0.73977859, -0.66890982, -0.59135753,\n",
       "       -0.50789659, -0.41936092, -0.32663513, -0.23064571, -0.13235175]), 'GRmean': -0.12697991702493913}, 'components': [Component({'formation': 'B'})]})"
      ]
     },
     "execution_count": 12,
     "metadata": {},
     "output_type": "execute_result"
    }
   ],
   "source": [
    "s.extract(curve, basis=basis, name='GRmean', function=np.nanmean)\n",
    "\n",
    "s[1]"
   ]
  },
  {
   "cell_type": "markdown",
   "metadata": {},
   "source": [
    "Other helpful reducing functions:\n",
    "\n",
    "- `np.nanmedian` &mdash; median average (ignoring nans)\n",
    "- `np.product` &mdash; product\n",
    "- `np.nansum` &mdash; sum (ignoring nans)\n",
    "- `np.nanmin` &mdash; minimum (ignoring nans)\n",
    "- `np.nanmax` &mdash; maximum (ignoring nans)\n",
    "- `scipy.stats.mstats.mode` &mdash; mode average\n",
    "- `scipy.stats.mstats.hmean` &mdash; harmonic mean\n",
    "- `scipy.stats.mstats.gmean` &mdash; geometric mean\n",
    "\n",
    "Or you can write your own, for example:\n",
    "\n",
    "    def trim_mean(a):\n",
    "        \"\"\"Compute trimmed mean, trimming min and max\"\"\"\n",
    "        return (np.nansum(a) - np.nanmin(a) - np.nanmax(a)) / a.size\n",
    "        \n",
    "Then do:\n",
    "\n",
    "    s.extract(curve, basis=basis, name='GRtrim', function=trim_mean)\n",
    "    \n",
    "The function doesn't have to return a single number like this, it could return anything you like, including a dictionary:"
   ]
  },
  {
   "cell_type": "code",
   "execution_count": 67,
   "metadata": {},
   "outputs": [],
   "source": [
    "s.extract(curve, basis=basis, name='GRstats', function=Curve.get_stats)"
   ]
  },
  {
   "cell_type": "markdown",
   "metadata": {},
   "source": [
    "Now we have a bunch of things in the `data` dictionary in each `Interval`:"
   ]
  },
  {
   "cell_type": "code",
   "execution_count": 71,
   "metadata": {},
   "outputs": [
    {
     "data": {
      "text/html": [
       "<table><tr><td style=\"width:2em; background-color:#DDDDDD\" rowspan=\"6\"></td><td><strong>top</strong></td><td>200.0</td></tr><tr><td><strong>primary</strong></td><td><table><tr><td><strong>formation</strong></td><td>B</td></tr></table></td></tr><tr><td><strong>summary</strong></td><td>50.00 m of B</td></tr><tr><td><strong>description</strong></td><td></td></tr><tr><td><strong>data</strong></td><td><table><tr><td><strong>GR</strong></td><td>[ 0.94912455  0.97582052  0.99276641  0.9997929   0.99682979  0.98390669\n",
       "  0.96115272  0.92879523  0.88715753  0.83665564  0.77779416  0.71116122\n",
       "  0.6374226   0.55731505  0.471639    0.38125049  0.28705265  0.18998668\n",
       "  0.09102242 -0.00885131 -0.1086366  -0.20733642 -0.30396461 -0.39755568\n",
       " -0.48717451 -0.57192566 -0.65096231 -0.72349476 -0.78879829 -0.8462204\n",
       " -0.89518737 -0.93520992 -0.96588815 -0.98691556 -0.99808203 -0.99927599\n",
       " -0.99048552 -0.97179845 -0.94340148 -0.90557836 -0.858707   -0.80325573\n",
       " -0.73977859 -0.66890982 -0.59135753 -0.50789659 -0.41936092 -0.32663513\n",
       " -0.23064571 -0.13235175]</td></tr><tr><td><strong>GRmean</strong></td><td>-0.12697991702493913</td></tr><tr><td><strong>foo</strong></td><td>bar</td></tr><tr><td><strong>GRsum</strong></td><td>38.34394442743438</td></tr><tr><td><strong>GRstats</strong></td><td>{'samples': 50, 'nulls': 0, 'mean': -0.12697991702493913, 'min': -0.9992759921366277, 'max': 0.9997929001426692}</td></tr></table></td></tr><tr><td><strong>base</strong></td><td>250.0</td></tr></table>"
      ],
      "text/plain": [
       "Interval({'top': Position({'middle': 200.0, 'units': 'm'}), 'base': Position({'middle': 250.0, 'units': 'm'}), 'description': '', 'data': {'GR': array([ 0.94912455,  0.97582052,  0.99276641,  0.9997929 ,  0.99682979,\n",
       "        0.98390669,  0.96115272,  0.92879523,  0.88715753,  0.83665564,\n",
       "        0.77779416,  0.71116122,  0.6374226 ,  0.55731505,  0.471639  ,\n",
       "        0.38125049,  0.28705265,  0.18998668,  0.09102242, -0.00885131,\n",
       "       -0.1086366 , -0.20733642, -0.30396461, -0.39755568, -0.48717451,\n",
       "       -0.57192566, -0.65096231, -0.72349476, -0.78879829, -0.8462204 ,\n",
       "       -0.89518737, -0.93520992, -0.96588815, -0.98691556, -0.99808203,\n",
       "       -0.99927599, -0.99048552, -0.97179845, -0.94340148, -0.90557836,\n",
       "       -0.858707  , -0.80325573, -0.73977859, -0.66890982, -0.59135753,\n",
       "       -0.50789659, -0.41936092, -0.32663513, -0.23064571, -0.13235175]), 'GRmean': -0.12697991702493913, 'foo': 'bar', 'GRsum': 38.34394442743438, 'GRstats': {'samples': 50, 'nulls': 0, 'mean': -0.12697991702493913, 'min': -0.9992759921366277, 'max': 0.9997929001426692}}, 'components': [Component({'formation': 'B'})]})"
      ]
     },
     "execution_count": 71,
     "metadata": {},
     "output_type": "execute_result"
    }
   ],
   "source": [
    "s[1]"
   ]
  },
  {
   "cell_type": "markdown",
   "metadata": {},
   "source": [
    "We can also add bits to the `data` dictionary manually:"
   ]
  },
  {
   "cell_type": "code",
   "execution_count": 70,
   "metadata": {},
   "outputs": [
    {
     "data": {
      "text/html": [
       "<table><tr><td style=\"width:2em; background-color:#DDDDDD\" rowspan=\"6\"></td><td><strong>top</strong></td><td>200.0</td></tr><tr><td><strong>primary</strong></td><td><table><tr><td><strong>formation</strong></td><td>B</td></tr></table></td></tr><tr><td><strong>summary</strong></td><td>50.00 m of B</td></tr><tr><td><strong>description</strong></td><td></td></tr><tr><td><strong>data</strong></td><td><table><tr><td><strong>GR</strong></td><td>[ 0.94912455  0.97582052  0.99276641  0.9997929   0.99682979  0.98390669\n",
       "  0.96115272  0.92879523  0.88715753  0.83665564  0.77779416  0.71116122\n",
       "  0.6374226   0.55731505  0.471639    0.38125049  0.28705265  0.18998668\n",
       "  0.09102242 -0.00885131 -0.1086366  -0.20733642 -0.30396461 -0.39755568\n",
       " -0.48717451 -0.57192566 -0.65096231 -0.72349476 -0.78879829 -0.8462204\n",
       " -0.89518737 -0.93520992 -0.96588815 -0.98691556 -0.99808203 -0.99927599\n",
       " -0.99048552 -0.97179845 -0.94340148 -0.90557836 -0.858707   -0.80325573\n",
       " -0.73977859 -0.66890982 -0.59135753 -0.50789659 -0.41936092 -0.32663513\n",
       " -0.23064571 -0.13235175]</td></tr><tr><td><strong>GRmean</strong></td><td>-0.12697991702493913</td></tr><tr><td><strong>foo</strong></td><td>bar</td></tr><tr><td><strong>GRsum</strong></td><td>38.34394442743438</td></tr><tr><td><strong>GRstats</strong></td><td>{'samples': 50, 'nulls': 0, 'mean': -0.12697991702493913, 'min': -0.9992759921366277, 'max': 0.9997929001426692}</td></tr></table></td></tr><tr><td><strong>base</strong></td><td>250.0</td></tr></table>"
      ],
      "text/plain": [
       "Interval({'top': Position({'middle': 200.0, 'units': 'm'}), 'base': Position({'middle': 250.0, 'units': 'm'}), 'description': '', 'data': {'GR': array([ 0.94912455,  0.97582052,  0.99276641,  0.9997929 ,  0.99682979,\n",
       "        0.98390669,  0.96115272,  0.92879523,  0.88715753,  0.83665564,\n",
       "        0.77779416,  0.71116122,  0.6374226 ,  0.55731505,  0.471639  ,\n",
       "        0.38125049,  0.28705265,  0.18998668,  0.09102242, -0.00885131,\n",
       "       -0.1086366 , -0.20733642, -0.30396461, -0.39755568, -0.48717451,\n",
       "       -0.57192566, -0.65096231, -0.72349476, -0.78879829, -0.8462204 ,\n",
       "       -0.89518737, -0.93520992, -0.96588815, -0.98691556, -0.99808203,\n",
       "       -0.99927599, -0.99048552, -0.97179845, -0.94340148, -0.90557836,\n",
       "       -0.858707  , -0.80325573, -0.73977859, -0.66890982, -0.59135753,\n",
       "       -0.50789659, -0.41936092, -0.32663513, -0.23064571, -0.13235175]), 'GRmean': -0.12697991702493913, 'foo': 'bar', 'GRsum': 38.34394442743438, 'GRstats': {'samples': 50, 'nulls': 0, 'mean': -0.12697991702493913, 'min': -0.9992759921366277, 'max': 0.9997929001426692}}, 'components': [Component({'formation': 'B'})]})"
      ]
     },
     "execution_count": 70,
     "metadata": {},
     "output_type": "execute_result"
    }
   ],
   "source": [
    "s[1].data['foo'] = 'bar'\n",
    "s[1]"
   ]
  },
  {
   "cell_type": "code",
   "execution_count": null,
   "metadata": {},
   "outputs": [],
   "source": []
  }
 ],
 "metadata": {
  "kernelspec": {
   "display_name": "welly",
   "language": "python",
   "name": "welly"
  },
  "language_info": {
   "codemirror_mode": {
    "name": "ipython",
    "version": 3
   },
   "file_extension": ".py",
   "mimetype": "text/x-python",
   "name": "python",
   "nbconvert_exporter": "python",
   "pygments_lexer": "ipython3",
   "version": "3.7.1"
  }
 },
 "nbformat": 4,
 "nbformat_minor": 2
}
