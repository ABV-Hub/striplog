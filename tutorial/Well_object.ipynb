{
 "metadata": {
  "name": "",
  "signature": "sha256:bda1e4bbd2030cf2cae881726c5210aae62344e4a22b3da30e61711b2fcdd1b4"
 },
 "nbformat": 3,
 "nbformat_minor": 0,
 "worksheets": [
  {
   "cells": [
    {
     "cell_type": "heading",
     "level": 2,
     "metadata": {},
     "source": [
      "Make a `well`"
     ]
    },
    {
     "cell_type": "code",
     "collapsed": false,
     "input": [
      "from well import Well\n",
      "print Well.__doc__"
     ],
     "language": "python",
     "metadata": {},
     "outputs": [
      {
       "output_type": "stream",
       "stream": "stdout",
       "text": [
        "\n",
        "    Well contains everything about the well. It inherits from\n",
        "    las.LASReader.\n",
        "\n",
        "    For example, well will contain header fields, curves, and\n",
        "    other data from the 'basic' LAS file.\n",
        "\n",
        "    We will then read supplementary LAS files, and/or maybe CSV\n",
        "    data, into one main other attribute of Well: the striplog.\n",
        "\n",
        "    If we start using pandas dataframes, this is the place to\n",
        "    do it.\n",
        "\n",
        "    Args:\n",
        "        f (str): The path to an LAS file.\n",
        "        null_subs (float): Something to substitute for the declared\n",
        "            null value, which is probably -999.25. Often it's convenient\n",
        "            to use np.nan.\n",
        "        unknown_as_other (bool): Whether you'd like to load unknown\n",
        "            sections as plain text blocks. A hack to cope with LAS3 files\n",
        "            without having to handle arbitrary sections.\n",
        "\n",
        "    Note:\n",
        "        This module is not very general. It was written to support a very\n",
        "        specific workflow. If it seems to be useful for other things,\n",
        "        we can come back and try to generalize it.\n",
        "\n",
        "        Essentially, this entire thing needs to be replaced by Something\n",
        "        that properly supports the LAS 3.0 format, both reading and writing.\n",
        "    \n"
       ]
      }
     ],
     "prompt_number": 12
    },
    {
     "cell_type": "code",
     "collapsed": false,
     "input": [
      "import os\n",
      "env = %env\n",
      "las_dir = os.path.join(env['HOME'], \"Dropbox/Agile/NS_DOE/2014-1G/data/LAS\")"
     ],
     "language": "python",
     "metadata": {},
     "outputs": [],
     "prompt_number": 13
    },
    {
     "cell_type": "code",
     "collapsed": false,
     "input": [
      "fname = os.path.join(las_dir, 'P-117_out.LAS')\n",
      "well = Well(fname)"
     ],
     "language": "python",
     "metadata": {},
     "outputs": [],
     "prompt_number": 14
    },
    {
     "cell_type": "code",
     "collapsed": false,
     "input": [
      "well.data['GR']"
     ],
     "language": "python",
     "metadata": {},
     "outputs": [
      {
       "metadata": {},
       "output_type": "pyout",
       "prompt_number": 15,
       "text": [
        "array([ 44.70064163,  44.70064163,  44.70064163, ...,  38.09431076,\n",
        "        38.09431076,  38.09431076])"
       ]
      }
     ],
     "prompt_number": 15
    },
    {
     "cell_type": "heading",
     "level": 2,
     "metadata": {},
     "source": [
      "Make a `striplog` and add it to the `well`"
     ]
    },
    {
     "cell_type": "code",
     "collapsed": false,
     "input": [
      "from striplog import Striplog\n",
      "from legend import Legend\n",
      "legend = Legend.default()"
     ],
     "language": "python",
     "metadata": {},
     "outputs": [],
     "prompt_number": 16
    },
    {
     "cell_type": "code",
     "collapsed": false,
     "input": [
      "png_dir = os.path.join(env['HOME'], \"Dropbox/Agile/NS_DOE/2014-1G/data/PNG\")"
     ],
     "language": "python",
     "metadata": {},
     "outputs": [],
     "prompt_number": 17
    },
    {
     "cell_type": "code",
     "collapsed": false,
     "input": [
      "f = os.path.join(png_dir, 'P-117_0_495.74.png')\n",
      "name, start, stop = os.path.basename(f).strip('.png').split('_')\n",
      "striplog = Striplog.from_img(f, float(start), float(stop), legend=legend, tolerance=35)"
     ],
     "language": "python",
     "metadata": {},
     "outputs": [],
     "prompt_number": 18
    },
    {
     "cell_type": "code",
     "collapsed": false,
     "input": [
      "%matplotlib inline\n",
      "striplog.plot(legend, ladder=True, interval=(5,50), aspect=5)"
     ],
     "language": "python",
     "metadata": {},
     "outputs": [
      {
       "metadata": {},
       "output_type": "display_data",
       "png": "[encoded data removed]",
       "text": [
        "<matplotlib.figure.Figure at 0x108435710>"
       ]
      }
     ],
     "prompt_number": 19
    },
    {
     "cell_type": "code",
     "collapsed": false,
     "input": [
      "well.add_striplog(striplog, \"striplog\")"
     ],
     "language": "python",
     "metadata": {},
     "outputs": [],
     "prompt_number": 20
    },
    {
     "cell_type": "markdown",
     "metadata": {},
     "source": [
      "Striplogs are added as a dictionary, but you can access them via attributes too:"
     ]
    },
    {
     "cell_type": "code",
     "collapsed": false,
     "input": [
      "well.striplog"
     ],
     "language": "python",
     "metadata": {},
     "outputs": [
      {
       "metadata": {},
       "output_type": "pyout",
       "prompt_number": 21,
       "text": [
        "{'striplog': Striplog(33 Intervals, start=0.0, stop=495.74)}"
       ]
      }
     ],
     "prompt_number": 21
    },
    {
     "cell_type": "code",
     "collapsed": false,
     "input": [
      "well.striplog.striplog.source"
     ],
     "language": "python",
     "metadata": {},
     "outputs": [
      {
       "metadata": {},
       "output_type": "pyout",
       "prompt_number": 22,
       "text": [
        "'Image'"
       ]
      }
     ],
     "prompt_number": 22
    },
    {
     "cell_type": "heading",
     "level": 2,
     "metadata": {},
     "source": [
      "Make another `striplog` and add it"
     ]
    },
    {
     "cell_type": "markdown",
     "metadata": {},
     "source": [
      "We can also make `striplog`s from cuttings data, for example. So let's read cuttings data from an Excel spreadsheet and add another striplog to the well. "
     ]
    },
    {
     "cell_type": "code",
     "collapsed": false,
     "input": [
      "import xlrd"
     ],
     "language": "python",
     "metadata": {},
     "outputs": [],
     "prompt_number": 23
    },
    {
     "cell_type": "code",
     "collapsed": false,
     "input": [
      "xls = os.path.join(env['HOME'], \"Dropbox/Agile/NS_DOE/2014-1G/data/_Cuttings_descriptions.xlsx\")"
     ],
     "language": "python",
     "metadata": {},
     "outputs": [],
     "prompt_number": 24
    },
    {
     "cell_type": "code",
     "collapsed": false,
     "input": [
      "book = xlrd.open_workbook(xls)\n",
      "sh = book.sheet_by_name(\"P-117\")"
     ],
     "language": "python",
     "metadata": {},
     "outputs": [],
     "prompt_number": 25
    },
    {
     "cell_type": "code",
     "collapsed": false,
     "input": [
      "tops = [c.value for c in sh.col_slice(0, 4)]\n",
      "bases = [c.value for c in sh.col_slice(1, 4)]\n",
      "descr = [c.value for c in sh.col_slice(3, 4)]\n",
      "\n",
      "zip(tops, bases, descr)"
     ],
     "language": "python",
     "metadata": {},
     "outputs": [
      {
       "metadata": {},
       "output_type": "pyout",
       "prompt_number": 26,
       "text": [
        "[(27.0,\n",
        "  436.0,\n",
        "  u'The Scotch Village formation had low potential for hydrocarbons. This interval represents deposition in a fluvial deltaic environment. These sediments infilled topography created in the uper Windsor Group. Only a few thin sections of sandstone had porosity spikes of up to 12%, with a general porosity of 3 to 6%.'),\n",
        " (436.0,\n",
        "  491.5,\n",
        "  u'The MacDonald Road Formation was also non prospective in the Cogmagun # 1 well. The rock types penetrated were interhedded limestones, sandstones and siltstones, (variably calcareous). The carbonate buildup member was not interesected in the borehole. The section had negligible porosity and there was no hydrocarbon shows in the cuttings or any response registered on the gas detector through this formation.'),\n",
        " (491.5,\n",
        "  495.74,\n",
        "  u\"The Stewiacke Formation was non prospective in the Cogmagun # 1 well. After penetrating five metres of halite, the return drilling fluid's content was monitored. To maintain a gauge hole, the mud system would require switching to a saturated brine system. The costs associated with building and disposing of this fluid was too great to justify continuing the well. It was decided that the MacDonald Road interval must have been thin and that the carbonate buildup member was not present in the section.\"),\n",
        " (0.0,\n",
        "  27.0,\n",
        "  u'Overburden: reddish brown, clay, sand and small cobbles, occasional rounded quartz grains, frosted and clear.'),\n",
        " (27.0, 27.5, u'Shale: reddish brown, greasy, soft.'),\n",
        " (27.5, 29.0, u'sandstone: brown red, very fine grained, soft.'),\n",
        " (29.0,\n",
        "  30.0,\n",
        "  u'sandstone: brown red, medium to coarse grain, subrounded to rounded, good, siliceous cement, 12 % porosity, no shows.'),\n",
        " (30.0, 32.5, u'Siltstone: dark reddish brown, blocky, soft.'),\n",
        " (32.5,\n",
        "  38.0,\n",
        "  u'Sandstone: dark red brown, very fine grained, subangular, good, moderately hardness, siliceous cement, 10 to 12% porosity, no shows.'),\n",
        " (38.0, 50.0, u'Siltstone: as above'),\n",
        " (50.0,\n",
        "  52.5,\n",
        "  u'Sandstone : greenish gray to reddish brown, very fine to fine grained, subangular, good sorting, soft, silica to slightly calcareous cement, 10% porosity, no shows.'),\n",
        " (52.5, 54.0, u'Siltstone: as above'),\n",
        " (54.0, 55.0, u'Shale: brown red, soft, fissible'),\n",
        " (55.0,\n",
        "  59.0,\n",
        "  u'Sandstone: quartz arenite, light to moderately gray, very fine to fine grained, subangular, well sorted brittle, 15% porosity, no shows. (20% of sst is reddish gray)'),\n",
        " (59.0, 60.0, u'Coal: black, high lustre, concoidal fracture.'),\n",
        " (60.0, 60.5, u'Sandstone: quartz arenite, as above.'),\n",
        " (60.5, 70.0, u'Siltstone: dark reddish brown, blocky, soft.'),\n",
        " (70.0, 72.5, u'Shale: dark gray to black, fissile.'),\n",
        " (72.5, 75.0, u'Siltstone: as above'),\n",
        " (75.0,\n",
        "  78.0,\n",
        "  u'Shale: dark red brown, fissile to blocky, carbonaceous plant fragments.'),\n",
        " (78.0, 79.5, u'Siltstone: as above'),\n",
        " (79.5, 80.0, u'Sandstone: light gray, as above'),\n",
        " (80.0, 82.5, u'Siltstone: reddish brown, blocky, moderately hard.'),\n",
        " (82.5, 88.0, u'Siltstone: as above'),\n",
        " (88.0,\n",
        "  90.0,\n",
        "  u'Conglomerate: moderately orange pink, fine to very coarse grained, subangular, moderately, silica, 12 % porosity, no shows.'),\n",
        " (90.0,\n",
        "  93.5,\n",
        "  u'Sandstone: pale reddish brown, fine to medium grain, subangular, medium sorted, silica, 10 % porosity, no shows.'),\n",
        " (93.5, 97.0, u'Siltstone: dark reddish brown, blocky, moderately hard.'),\n",
        " (97.0,\n",
        "  104.0,\n",
        "  u'Sandstone: very fine to fine grain, subangular, medium, silica, feldspathic, minor pyrite, minor coal chips, 10 % porosity, no shows.'),\n",
        " (104.0, 105.0, u'Siltstone: as above.'),\n",
        " (105.0,\n",
        "  111.0,\n",
        "  u'Sandstone: quartz arenite, light gray, very fine to fine grained, subangular to subrounded, well, moderately hard, carbonaceous plant fragments, 12 % porosity, no shows.'),\n",
        " (111.0,\n",
        "  130.0,\n",
        "  u'Siltstone: moderately reddish brown to light gray, interbedded with shale; shale disperses quickly in water.'),\n",
        " (130.0,\n",
        "  145.0,\n",
        "  u'Siltstone: dark reddish brown to moderately red, shale stringers disperse quickly in water, minor scattered chips.'),\n",
        " (145.0,\n",
        "  182.0,\n",
        "  u'Interbedded Slitstone Shale and Sandstone: dark reddish brown, shale disperses quickly in water, sandstone is very fine to fine grained.'),\n",
        " (182.0,\n",
        "  186.0,\n",
        "  u'Sandstone: light, gray, quartz arenite, very fine to fine grain, subrounded, well, soft, siliceous to slightly .ialcareous cement, pyrite, plant fag, 10 % porosity, coal chips, no shows.'),\n",
        " (186.0,\n",
        "  206.0,\n",
        "  u'Interbedded Siltstone Shale and Sandstone: as interval at 145 to 182 metres.'),\n",
        " (206.0,\n",
        "  210.0,\n",
        "  u'Sandstone: light gray, quartz arenite, very fine grain, subangular, well, soft, poorly indurated, siliceous and slightly calcareous cement, carbonaceous plant fragments, 12 % Por, no shows.'),\n",
        " (210.0,\n",
        "  215.5,\n",
        "  u'Interbedded Siltstone Shale and Sandstone: light gray to red brown pink, sandstone stringers are very fine grained, minor chert fragment.'),\n",
        " (215.5,\n",
        "  229.5,\n",
        "  u'Sandstone: light to medium light gray, quartz arenite, very fine to fine grained, subrounded to subrounded, well, hard, siliceous to slightly calcareous cement, minor kaolin, 8 to 12 % porosity, no shows.'),\n",
        " (229.5,\n",
        "  295.0,\n",
        "  u'Interbedded Siltstone and Shale: grayish red to dark reddish brown, sandy, blocky, moderately hard to soft, local thin coal stringers, local plant fragments.'),\n",
        " (295.0, 296.5, u'Shale: red brown, soft.'),\n",
        " (296.5, 298.0, u'Shale: greenish grey.'),\n",
        " (298.0, 321.0, u'Interbedded Siltstone And Shale: as above.'),\n",
        " (321.0,\n",
        "  330.0,\n",
        "  u'Sandstone: dark reddish brown and light gray, very fine to fine grained, well, subrounded, silica cement slightly calcareous cement, 6 to 12 % porosity, (sandstone is both dark reddish brown and light, gray; both feldspathic and quartz arenite), no shows.'),\n",
        " (330.0, 345.0, u'Siltstone: dark reddish brown, as above.'),\n",
        " (345.0,\n",
        "  350.0,\n",
        "  u'Shale: moderately gray, blocky to fissile, moderately hard.'),\n",
        " (350.0,\n",
        "  361.5,\n",
        "  u'Sandstone: quartz arenite, light gray to white gray, very fine grained, subangular, well, hard, silica cement, nor kaolin, local pyrite blebs, plant fragment, 6 % porosity, no shows.'),\n",
        " (361.5,\n",
        "  417.0,\n",
        "  u'Interbedded Siltstone and Shale: dark reddish brown, moderately hard.'),\n",
        " (417.0,\n",
        "  436.0,\n",
        "  u'Sandstone: light gray and red brown, very fine grained, subangular, well, moderate to hard, silica cement, olinitic,up to 6 to 8 % porosity, local pyrite blebs, coal chips and carbonaceous plant fragment, no shows.'),\n",
        " (436.0,\n",
        "  445.0,\n",
        "  u'Siltstone with Sandstone stringers: dark red brown to light gray, sandstone stringers as above, local pyrite ears and blebs, coal smears.'),\n",
        " (445.0,\n",
        "  463.0,\n",
        "  u'Sandstone: light gray, very fine grained, subrounded, well, moderate to hard, silica, coal blebs, pyrite blebs, up to 6 % porosity, no shows. (siltstone and shale stringers red and gray)'),\n",
        " (463.0,\n",
        "  475.0,\n",
        "  u'Limestone: packstone to grainstone with mudstone interbeds, medium to dark gray, scattered barite chips, 3 to 6 % porosity, no shows, anhydrite stringers at base.'),\n",
        " (475.0,\n",
        "  491.5,\n",
        "  u'Anhydrite: white to light and dark gray, massive to blocky, interbedded with very fine grained sandstone, (feldspathic to arenaceous), siltstone (dark reddish brown) and limestone, (yellow gray to moderately gray).'),\n",
        " (491.5, 493.5, u'Salt: crystalline.')]"
       ]
      }
     ],
     "prompt_number": 26
    },
    {
     "cell_type": "markdown",
     "metadata": {},
     "source": [
      "Clearly there are serveral types of information here: \n",
      "\n",
      "- First section: Lithostratigraphic names, followed by a qualitative description of prospectivity.\n",
      "- Second section: Detailed descriptions from cuttings or elsewhere. \n",
      "\n",
      "Each of these 3 types of data could (should) be loaded as a separate striplog. For now we'll focus on the descriptions by slicing past the first 3 entries:"
     ]
    },
    {
     "cell_type": "code",
     "collapsed": false,
     "input": [
      "zip(tops, bases, descr)[3:]"
     ],
     "language": "python",
     "metadata": {},
     "outputs": [
      {
       "metadata": {},
       "output_type": "pyout",
       "prompt_number": 27,
       "text": [
        "[(0.0,\n",
        "  27.0,\n",
        "  u'Overburden: reddish brown, clay, sand and small cobbles, occasional rounded quartz grains, frosted and clear.'),\n",
        " (27.0, 27.5, u'Shale: reddish brown, greasy, soft.'),\n",
        " (27.5, 29.0, u'sandstone: brown red, very fine grained, soft.'),\n",
        " (29.0,\n",
        "  30.0,\n",
        "  u'sandstone: brown red, medium to coarse grain, subrounded to rounded, good, siliceous cement, 12 % porosity, no shows.'),\n",
        " (30.0, 32.5, u'Siltstone: dark reddish brown, blocky, soft.'),\n",
        " (32.5,\n",
        "  38.0,\n",
        "  u'Sandstone: dark red brown, very fine grained, subangular, good, moderately hardness, siliceous cement, 10 to 12% porosity, no shows.'),\n",
        " (38.0, 50.0, u'Siltstone: as above'),\n",
        " (50.0,\n",
        "  52.5,\n",
        "  u'Sandstone : greenish gray to reddish brown, very fine to fine grained, subangular, good sorting, soft, silica to slightly calcareous cement, 10% porosity, no shows.'),\n",
        " (52.5, 54.0, u'Siltstone: as above'),\n",
        " (54.0, 55.0, u'Shale: brown red, soft, fissible'),\n",
        " (55.0,\n",
        "  59.0,\n",
        "  u'Sandstone: quartz arenite, light to moderately gray, very fine to fine grained, subangular, well sorted brittle, 15% porosity, no shows. (20% of sst is reddish gray)'),\n",
        " (59.0, 60.0, u'Coal: black, high lustre, concoidal fracture.'),\n",
        " (60.0, 60.5, u'Sandstone: quartz arenite, as above.'),\n",
        " (60.5, 70.0, u'Siltstone: dark reddish brown, blocky, soft.'),\n",
        " (70.0, 72.5, u'Shale: dark gray to black, fissile.'),\n",
        " (72.5, 75.0, u'Siltstone: as above'),\n",
        " (75.0,\n",
        "  78.0,\n",
        "  u'Shale: dark red brown, fissile to blocky, carbonaceous plant fragments.'),\n",
        " (78.0, 79.5, u'Siltstone: as above'),\n",
        " (79.5, 80.0, u'Sandstone: light gray, as above'),\n",
        " (80.0, 82.5, u'Siltstone: reddish brown, blocky, moderately hard.'),\n",
        " (82.5, 88.0, u'Siltstone: as above'),\n",
        " (88.0,\n",
        "  90.0,\n",
        "  u'Conglomerate: moderately orange pink, fine to very coarse grained, subangular, moderately, silica, 12 % porosity, no shows.'),\n",
        " (90.0,\n",
        "  93.5,\n",
        "  u'Sandstone: pale reddish brown, fine to medium grain, subangular, medium sorted, silica, 10 % porosity, no shows.'),\n",
        " (93.5, 97.0, u'Siltstone: dark reddish brown, blocky, moderately hard.'),\n",
        " (97.0,\n",
        "  104.0,\n",
        "  u'Sandstone: very fine to fine grain, subangular, medium, silica, feldspathic, minor pyrite, minor coal chips, 10 % porosity, no shows.'),\n",
        " (104.0, 105.0, u'Siltstone: as above.'),\n",
        " (105.0,\n",
        "  111.0,\n",
        "  u'Sandstone: quartz arenite, light gray, very fine to fine grained, subangular to subrounded, well, moderately hard, carbonaceous plant fragments, 12 % porosity, no shows.'),\n",
        " (111.0,\n",
        "  130.0,\n",
        "  u'Siltstone: moderately reddish brown to light gray, interbedded with shale; shale disperses quickly in water.'),\n",
        " (130.0,\n",
        "  145.0,\n",
        "  u'Siltstone: dark reddish brown to moderately red, shale stringers disperse quickly in water, minor scattered chips.'),\n",
        " (145.0,\n",
        "  182.0,\n",
        "  u'Interbedded Slitstone Shale and Sandstone: dark reddish brown, shale disperses quickly in water, sandstone is very fine to fine grained.'),\n",
        " (182.0,\n",
        "  186.0,\n",
        "  u'Sandstone: light, gray, quartz arenite, very fine to fine grain, subrounded, well, soft, siliceous to slightly .ialcareous cement, pyrite, plant fag, 10 % porosity, coal chips, no shows.'),\n",
        " (186.0,\n",
        "  206.0,\n",
        "  u'Interbedded Siltstone Shale and Sandstone: as interval at 145 to 182 metres.'),\n",
        " (206.0,\n",
        "  210.0,\n",
        "  u'Sandstone: light gray, quartz arenite, very fine grain, subangular, well, soft, poorly indurated, siliceous and slightly calcareous cement, carbonaceous plant fragments, 12 % Por, no shows.'),\n",
        " (210.0,\n",
        "  215.5,\n",
        "  u'Interbedded Siltstone Shale and Sandstone: light gray to red brown pink, sandstone stringers are very fine grained, minor chert fragment.'),\n",
        " (215.5,\n",
        "  229.5,\n",
        "  u'Sandstone: light to medium light gray, quartz arenite, very fine to fine grained, subrounded to subrounded, well, hard, siliceous to slightly calcareous cement, minor kaolin, 8 to 12 % porosity, no shows.'),\n",
        " (229.5,\n",
        "  295.0,\n",
        "  u'Interbedded Siltstone and Shale: grayish red to dark reddish brown, sandy, blocky, moderately hard to soft, local thin coal stringers, local plant fragments.'),\n",
        " (295.0, 296.5, u'Shale: red brown, soft.'),\n",
        " (296.5, 298.0, u'Shale: greenish grey.'),\n",
        " (298.0, 321.0, u'Interbedded Siltstone And Shale: as above.'),\n",
        " (321.0,\n",
        "  330.0,\n",
        "  u'Sandstone: dark reddish brown and light gray, very fine to fine grained, well, subrounded, silica cement slightly calcareous cement, 6 to 12 % porosity, (sandstone is both dark reddish brown and light, gray; both feldspathic and quartz arenite), no shows.'),\n",
        " (330.0, 345.0, u'Siltstone: dark reddish brown, as above.'),\n",
        " (345.0,\n",
        "  350.0,\n",
        "  u'Shale: moderately gray, blocky to fissile, moderately hard.'),\n",
        " (350.0,\n",
        "  361.5,\n",
        "  u'Sandstone: quartz arenite, light gray to white gray, very fine grained, subangular, well, hard, silica cement, nor kaolin, local pyrite blebs, plant fragment, 6 % porosity, no shows.'),\n",
        " (361.5,\n",
        "  417.0,\n",
        "  u'Interbedded Siltstone and Shale: dark reddish brown, moderately hard.'),\n",
        " (417.0,\n",
        "  436.0,\n",
        "  u'Sandstone: light gray and red brown, very fine grained, subangular, well, moderate to hard, silica cement, olinitic,up to 6 to 8 % porosity, local pyrite blebs, coal chips and carbonaceous plant fragment, no shows.'),\n",
        " (436.0,\n",
        "  445.0,\n",
        "  u'Siltstone with Sandstone stringers: dark red brown to light gray, sandstone stringers as above, local pyrite ears and blebs, coal smears.'),\n",
        " (445.0,\n",
        "  463.0,\n",
        "  u'Sandstone: light gray, very fine grained, subrounded, well, moderate to hard, silica, coal blebs, pyrite blebs, up to 6 % porosity, no shows. (siltstone and shale stringers red and gray)'),\n",
        " (463.0,\n",
        "  475.0,\n",
        "  u'Limestone: packstone to grainstone with mudstone interbeds, medium to dark gray, scattered barite chips, 3 to 6 % porosity, no shows, anhydrite stringers at base.'),\n",
        " (475.0,\n",
        "  491.5,\n",
        "  u'Anhydrite: white to light and dark gray, massive to blocky, interbedded with very fine grained sandstone, (feldspathic to arenaceous), siltstone (dark reddish brown) and limestone, (yellow gray to moderately gray).'),\n",
        " (491.5, 493.5, u'Salt: crystalline.')]"
       ]
      }
     ],
     "prompt_number": 27
    },
    {
     "cell_type": "code",
     "collapsed": false,
     "input": [
      "from lexicon import Lexicon\n",
      "lexicon = Lexicon.default()"
     ],
     "language": "python",
     "metadata": {},
     "outputs": [],
     "prompt_number": 28
    },
    {
     "cell_type": "code",
     "collapsed": false,
     "input": [
      "cuttings = Striplog.from_array(zip(tops, bases, descr)[3:], lexicon)\n",
      "cuttings"
     ],
     "language": "python",
     "metadata": {},
     "outputs": [
      {
       "metadata": {},
       "output_type": "pyout",
       "prompt_number": 29,
       "text": [
        "Striplog(50 Intervals, start=0.0, stop=493.5)"
       ]
      }
     ],
     "prompt_number": 29
    },
    {
     "cell_type": "code",
     "collapsed": false,
     "input": [
      "cuttings.plot(interval=(5,50), aspect=5)"
     ],
     "language": "python",
     "metadata": {},
     "outputs": [
      {
       "metadata": {},
       "output_type": "display_data",
       "png": "[encoded data removed]",
       "text": [
        "<matplotlib.figure.Figure at 0x108435f90>"
       ]
      }
     ],
     "prompt_number": 30
    },
    {
     "cell_type": "code",
     "collapsed": false,
     "input": [
      "print cuttings[:5]"
     ],
     "language": "python",
     "metadata": {},
     "outputs": [
      {
       "output_type": "stream",
       "stream": "stdout",
       "text": [
        "top: 0.0, base: 27.0, description: 'Overburden: reddish brown, clay, sand and small cobbles, occasional rounded quartz grains, frosted and clear.', components: [Rock(\"colour\":\"reddish brown\", \"lithology\":\"overburden\", \"grainsize\":\"cobbles\")]\n",
        "top: 27.0, base: 27.5, description: 'Shale: reddish brown, greasy, soft.', components: [Rock(\"colour\":\"reddish brown\", \"lithology\":\"shale\")]\n",
        "top: 27.5, base: 29.0, description: 'sandstone: brown red, very fine grained, soft.', components: [Rock(\"colour\":\"brown red\", \"lithology\":\"sandstone\", \"grainsize\":\"very fine\")]\n",
        "top: 29.0, base: 30.0, description: 'sandstone: brown red, medium to coarse grain, subrounded to rounded, good, siliceous cement, 12 % porosity, no shows.', components: [Rock(\"colour\":\"brown red\", \"lithology\":\"sandstone\", \"grainsize\":\"medium to coarse\")]\n",
        "top: 30.0, base: 32.5, description: 'Siltstone: dark reddish brown, blocky, soft.', components: [Rock(\"colour\":\"dark reddish\", \"lithology\":\"siltstone\")]\n"
       ]
      }
     ],
     "prompt_number": 31
    },
    {
     "cell_type": "code",
     "collapsed": false,
     "input": [
      "well.add_striplog(cuttings, \"cuttings\")"
     ],
     "language": "python",
     "metadata": {},
     "outputs": [],
     "prompt_number": 32
    },
    {
     "cell_type": "code",
     "collapsed": false,
     "input": [
      "well.striplog.cuttings.thickest.thickness"
     ],
     "language": "python",
     "metadata": {},
     "outputs": [
      {
       "metadata": {},
       "output_type": "pyout",
       "prompt_number": 33,
       "text": [
        "65.5"
       ]
      }
     ],
     "prompt_number": 33
    },
    {
     "cell_type": "heading",
     "level": 2,
     "metadata": {},
     "source": [
      "Export to LAS 3.0"
     ]
    },
    {
     "cell_type": "code",
     "collapsed": false,
     "input": [
      "print well.striplogs_to_las3(use_descriptions=True)"
     ],
     "language": "python",
     "metadata": {},
     "outputs": [
      {
       "output_type": "stream",
       "stream": "stdout",
       "text": [
        "~Version\n",
        "VERS .              3.0       :CWLS LOG ASCII STANDARD - VERSION 3.0\n",
        "WRAP .               NO       :ONE LINE PER DEPTH STEP\n",
        "DLM  .            COMMA       :DELIMITING CHARACTER\n",
        "PROG .       striplog.py      :LAS Program name and version\n",
        "CREA . 2015/03/20 17:42       :LAS Creation date {YYYY/MM/DD hh:mm}\n",
        "\n",
        "~Well \n",
        "#MNEM .UNIT  DATA             DESCRIPTION\n",
        "#---- ------ --------------   -----------------------------\n",
        "STRT .M         1.372         :START DEPTH\n",
        "STOP .M       496.824         :STOP DEPTH\n",
        "STEP .M      -999.2500        :STEP\n",
        "NULL .       -999.2500        :NULL VALUE\n",
        "\n",
        "WELL .       OILTEC ET AL COGMAGUN #1  :WELL\n",
        "FLD  .       UNDEFINED             :FIELD\n",
        "CTRY .       CA                    :COUNTRY\n",
        "\n",
        "PROV .       NOVA SCOTIA           :PROVINCE\n",
        "UWI  .       COGMAGUN #1           :UNIQUE WELL ID\n",
        "LIC  .       P-117                 :LICENSE NUMBER\n",
        "\n",
        "~Parameter \n",
        "#MNEM .UNIT  VALUE            DESCRIPTION\n",
        "#---- ------ --------------   -----------------------------\n",
        "\n",
        "#Required parameters\n",
        "RUN  .        ONE             :RUN NUMBER\n",
        "PDAT .        GL              :PERMANENT DATUM\n",
        "APD  .M          5.500        :ABOVE PERM DATUM\n",
        "DREF .        KB              :DEPTH REFERENCE\n",
        "EREF .M         53.670        :ELEVATION OF DEPTH\n",
        "\n",
        "#Remarks\n",
        "R1   .                        :REMARK LINE 1\n",
        "R2   .                        :REMARK LINE 2\n",
        "R3   .                        :REMARK LINE 3\n",
        "\n",
        "~Striplog_Parameter\n",
        "STRP .   Image            : Striplog source          {S}\n",
        "STRPD.   MD               : Striplog depth reference {S}\n",
        "\n",
        "~Striplog_Definition\n",
        "STRPT.M                   : Striplog top depth       {F}\n",
        "STRPB.M                   : Striplog base depth      {F}\n",
        "STRPD.                    : Striplog description     {S}\n",
        "\n",
        "~Striplog_Data | Striplog_Definition\n",
        "    0.000,   24.925,  \"\"                                              \n",
        "   24.925,   29.918,  \"Red, sandstone, vf-f\"                          \n",
        "   29.918,   55.435,  \"Red, siltstone\"                                \n",
        "   55.435,   59.920,  \"Grey, sandstone, vf-f\"                         \n",
        "   59.920,   61.867,  \"Grey, mudstone\"                                \n",
        "   61.867,   64.237,  \"Grey, sandstone, vf-f\"                         \n",
        "   64.237,   64.914,  \"Coal\"                                          \n",
        "   64.914,   84.887,  \"Red, siltstone\"                                \n",
        "   84.887,   86.114,  \"Grey, mudstone\"                                \n",
        "   86.114,   94.959,  \"Red, siltstone\"                                \n",
        "   94.959,  114.424,  \"Grey, sandstone, vf-f\"                         \n",
        "  114.424,  151.959,  \"Red, siltstone\"                                \n",
        "  151.959,  155.895,  \"Grey, sandstone, vf-f\"                         \n",
        "  155.895,  159.915,  \"Red, siltstone\"                                \n",
        "  159.915,  163.385,  \"Grey, sandstone, vf-f\"                         \n",
        "  163.385,  216.915,  \"Red, siltstone\"                                \n",
        "  216.915,  229.907,  \"Grey, sandstone, vf-f\"                         \n",
        "  229.907,  287.415,  \"Red, siltstone\"                                \n",
        "  287.415,  289.912,  \"Grey, mudstone\"                                \n",
        "  289.912,  327.362,  \"Red, siltstone\"                                \n",
        "  327.362,  333.879,  \"Red, sandstone, vf-f\"                          \n",
        "  333.879,  347.378,  \"Red, siltstone\"                                \n",
        "  347.378,  361.850,  \"Grey, sandstone, vf-f\"                         \n",
        "  361.850,  406.875,  \"Red, siltstone\"                                \n",
        "  406.875,  427.864,  \"Grey, sandstone, vf-f\"                         \n",
        "  427.864,  435.862,  \"Red, siltstone\"                                \n",
        "  435.862,  436.877,  \"Grey, sandstone, vf-f\"                         \n",
        "  436.877,  441.913,  \"Red, siltstone\"                                \n",
        "  441.913,  446.907,  \"Grey, sandstone, vf-f\"                         \n",
        "  446.907,  459.898,  \"Red, siltstone\"                                \n",
        "  459.898,  474.920,  \"Limestone\"                                     \n",
        "  474.920,  491.466,  \"Anhydrite\"                                     \n",
        "  491.466,  495.740,  \"Halite\"                                        \n",
        "\n",
        "~Cuttings_Parameter\n",
        "CUTT .                    : Cuttings source          {S}\n",
        "CUTTD.   MD               : Cuttings depth reference {S}\n",
        "\n",
        "~Cuttings_Definition\n",
        "CUTTT.M                   : Cuttings top depth       {F}\n",
        "CUTTB.M                   : Cuttings base depth      {F}\n",
        "CUTTD.                    : Cuttings description     {S}\n",
        "\n",
        "~Cuttings_Data | Cuttings_Definition\n",
        "    0.000,   27.000,  \"Overburden: reddish brown, clay, sand and small cobbles, occasional rounded quartz grains, frosted and clear.\"\n",
        "   27.000,   27.500,  \"Shale: reddish brown, greasy, soft.\"           \n",
        "   27.500,   29.000,  \"sandstone: brown red, very fine grained, soft.\"\n",
        "   29.000,   30.000,  \"sandstone: brown red, medium to coarse grain, subrounded to rounded, good, siliceous cement, 12 % porosity, no shows.\"\n",
        "   30.000,   32.500,  \"Siltstone: dark reddish brown, blocky, soft.\"  \n",
        "   32.500,   38.000,  \"Sandstone: dark red brown, very fine grained, subangular, good, moderately hardness, siliceous cement, 10 to 12% porosity, no shows.\"\n",
        "   38.000,   50.000,  \"Siltstone: as above\"                           \n",
        "   50.000,   52.500,  \"Sandstone : greenish gray to reddish brown, very fine to fine grained, subangular, good sorting, soft, silica to slightly calcareous cement, 10% porosity, no shows.\"\n",
        "   52.500,   54.000,  \"Siltstone: as above\"                           \n",
        "   54.000,   55.000,  \"Shale: brown red, soft, fissible\"              \n",
        "   55.000,   59.000,  \"Sandstone: quartz arenite, light to moderately gray, very fine to fine grained, subangular, well sorted brittle, 15% porosity, no shows. (20% of sst is reddish gray)\"\n",
        "   59.000,   60.000,  \"Coal: black, high lustre, concoidal fracture.\" \n",
        "   60.000,   60.500,  \"Sandstone: quartz arenite, as above.\"          \n",
        "   60.500,   70.000,  \"Siltstone: dark reddish brown, blocky, soft.\"  \n",
        "   70.000,   72.500,  \"Shale: dark gray to black, fissile.\"           \n",
        "   72.500,   75.000,  \"Siltstone: as above\"                           \n",
        "   75.000,   78.000,  \"Shale: dark red brown, fissile to blocky, carbonaceous plant fragments.\"\n",
        "   78.000,   79.500,  \"Siltstone: as above\"                           \n",
        "   79.500,   80.000,  \"Sandstone: light gray, as above\"               \n",
        "   80.000,   82.500,  \"Siltstone: reddish brown, blocky, moderately hard.\"\n",
        "   82.500,   88.000,  \"Siltstone: as above\"                           \n",
        "   88.000,   90.000,  \"Conglomerate: moderately orange pink, fine to very coarse grained, subangular, moderately, silica, 12 % porosity, no shows.\"\n",
        "   90.000,   93.500,  \"Sandstone: pale reddish brown, fine to medium grain, subangular, medium sorted, silica, 10 % porosity, no shows.\"\n",
        "   93.500,   97.000,  \"Siltstone: dark reddish brown, blocky, moderately hard.\"\n",
        "   97.000,  104.000,  \"Sandstone: very fine to fine grain, subangular, medium, silica, feldspathic, minor pyrite, minor coal chips, 10 % porosity, no shows.\"\n",
        "  104.000,  105.000,  \"Siltstone: as above.\"                          \n",
        "  105.000,  111.000,  \"Sandstone: quartz arenite, light gray, very fine to fine grained, subangular to subrounded, well, moderately hard, carbonaceous plant fragments, 12 % porosity, no shows.\"\n",
        "  111.000,  130.000,  \"Siltstone: moderately reddish brown to light gray, interbedded with shale; shale disperses quickly in water.\"\n",
        "  130.000,  145.000,  \"Siltstone: dark reddish brown to moderately red, shale stringers disperse quickly in water, minor scattered chips.\"\n",
        "  145.000,  182.000,  \"Interbedded Slitstone Shale and Sandstone: dark reddish brown, shale disperses quickly in water, sandstone is very fine to fine grained.\"\n",
        "  182.000,  186.000,  \"Sandstone: light, gray, quartz arenite, very fine to fine grain, subrounded, well, soft, siliceous to slightly .ialcareous cement, pyrite, plant fag, 10 % porosity, coal chips, no shows.\"\n",
        "  186.000,  206.000,  \"Interbedded Siltstone Shale and Sandstone: as interval at 145 to 182 metres.\"\n",
        "  206.000,  210.000,  \"Sandstone: light gray, quartz arenite, very fine grain, subangular, well, soft, poorly indurated, siliceous and slightly calcareous cement, carbonaceous plant fragments, 12 % Por, no shows.\"\n",
        "  210.000,  215.500,  \"Interbedded Siltstone Shale and Sandstone: light gray to red brown pink, sandstone stringers are very fine grained, minor chert fragment.\"\n",
        "  215.500,  229.500,  \"Sandstone: light to medium light gray, quartz arenite, very fine to fine grained, subrounded to subrounded, well, hard, siliceous to slightly calcareous cement, minor kaolin, 8 to 12 % porosity, no shows.\"\n",
        "  229.500,  295.000,  \"Interbedded Siltstone and Shale: grayish red to dark reddish brown, sandy, blocky, moderately hard to soft, local thin coal stringers, local plant fragments.\"\n",
        "  295.000,  296.500,  \"Shale: red brown, soft.\"                       \n",
        "  296.500,  298.000,  \"Shale: greenish grey.\"                         \n",
        "  298.000,  321.000,  \"Interbedded Siltstone And Shale: as above.\"    \n",
        "  321.000,  330.000,  \"Sandstone: dark reddish brown and light gray, very fine to fine grained, well, subrounded, silica cement slightly calcareous cement, 6 to 12 % porosity, (sandstone is both dark reddish brown and light, gray; both feldspathic and quartz arenite), no shows.\"\n",
        "  330.000,  345.000,  \"Siltstone: dark reddish brown, as above.\"      \n",
        "  345.000,  350.000,  \"Shale: moderately gray, blocky to fissile, moderately hard.\"\n",
        "  350.000,  361.500,  \"Sandstone: quartz arenite, light gray to white gray, very fine grained, subangular, well, hard, silica cement, nor kaolin, local pyrite blebs, plant fragment, 6 % porosity, no shows.\"\n",
        "  361.500,  417.000,  \"Interbedded Siltstone and Shale: dark reddish brown, moderately hard.\"\n",
        "  417.000,  436.000,  \"Sandstone: light gray and red brown, very fine grained, subangular, well, moderate to hard, silica cement, olinitic,up to 6 to 8 % porosity, local pyrite blebs, coal chips and carbonaceous plant fragment, no shows.\"\n",
        "  436.000,  445.000,  \"Siltstone with Sandstone stringers: dark red brown to light gray, sandstone stringers as above, local pyrite ears and blebs, coal smears.\"\n",
        "  445.000,  463.000,  \"Sandstone: light gray, very fine grained, subrounded, well, moderate to hard, silica, coal blebs, pyrite blebs, up to 6 % porosity, no shows. (siltstone and shale stringers red and gray)\"\n",
        "  463.000,  475.000,  \"Limestone: packstone to grainstone with mudstone interbeds, medium to dark gray, scattered barite chips, 3 to 6 % porosity, no shows, anhydrite stringers at base.\"\n",
        "  475.000,  491.500,  \"Anhydrite: white to light and dark gray, massive to blocky, interbedded with very fine grained sandstone, (feldspathic to arenaceous), siltstone (dark reddish brown) and limestone, (yellow gray to moderately gray).\"\n",
        "  491.500,  493.500,  \"Salt: crystalline.\"\n",
        "\n"
       ]
      }
     ],
     "prompt_number": 34
    },
    {
     "cell_type": "code",
     "collapsed": false,
     "input": [
      "import re\n",
      "def write_las(data, path, field=\"WELL\", suffix=None, overwrite=False):\n",
      "    if not suffix:\n",
      "        suffix = time.strftime(\"%Y%m%d-%H%M%S\", time.gmtime())\n",
      "    \n",
      "    regex = '\\\\n{field} *?\\\\.(.+?)\\\\:.+'.format(field=field)\n",
      "    w = re.findall(regex, data)[0].strip()\n",
      "    file_name = re.sub(r' ', r'_', w) + '_{0}.las'.format(suffix)\n",
      "    \n",
      "    full_path = os.path.join(path, file_name)\n",
      "    \n",
      "    if (not os.path.isfile(full_path)) or overwrite:\n",
      "        with open(full_path, 'w') as f:\n",
      "            f.write(data)\n",
      "        print \"Wrote file\", full_path\n",
      "    else:\n",
      "        print w, \"... file exists, not overwritten\""
     ],
     "language": "python",
     "metadata": {},
     "outputs": [],
     "prompt_number": 35
    },
    {
     "cell_type": "code",
     "collapsed": false,
     "input": [
      "data = well.striplogs_to_las3()\n",
      "write_las(data, las_dir, field=\"LIC\", suffix=\"striplog\", overwrite=True)"
     ],
     "language": "python",
     "metadata": {},
     "outputs": [
      {
       "output_type": "stream",
       "stream": "stdout",
       "text": [
        "Wrote file /Users/matt/Dropbox/Agile/NS_DOE/2014-1G/data/LAS/P-117_striplog.las\n"
       ]
      }
     ],
     "prompt_number": 36
    },
    {
     "cell_type": "heading",
     "level": 2,
     "metadata": {},
     "source": [
      "Reading from LAS files"
     ]
    },
    {
     "cell_type": "code",
     "collapsed": false,
     "input": [
      "fname = os.path.join(las_dir, 'P-129_striplog.LAS')\n",
      "p129 = Well(fname, lexicon=lexicon, unknown_as_other=True)"
     ],
     "language": "python",
     "metadata": {},
     "outputs": [],
     "prompt_number": 48
    },
    {
     "cell_type": "code",
     "collapsed": false,
     "input": [
      "p129.striplog"
     ],
     "language": "python",
     "metadata": {},
     "outputs": [
      {
       "metadata": {},
       "output_type": "pyout",
       "prompt_number": 49,
       "text": [
        "{'lithology': Striplog(185 Intervals, start=280.0, stop=1935.0)}"
       ]
      }
     ],
     "prompt_number": 49
    },
    {
     "cell_type": "code",
     "collapsed": false,
     "input": [
      "p117.striplog.striplog.plot(legend)"
     ],
     "language": "python",
     "metadata": {},
     "outputs": [
      {
       "metadata": {},
       "output_type": "display_data",
       "png": "[encoded data removed]",
       "text": [
        "<matplotlib.figure.Figure at 0x113e4ff10>"
       ]
      }
     ],
     "prompt_number": 40
    },
    {
     "cell_type": "code",
     "collapsed": false,
     "input": [
      "z, lith = well.striplog.striplog.to_log(start=well.start, stop=well.stop, step=well.step, legend=legend)"
     ],
     "language": "python",
     "metadata": {},
     "outputs": [],
     "prompt_number": 47
    },
    {
     "cell_type": "code",
     "collapsed": false,
     "input": [
      "import matplotlib.pyplot as plt\n",
      "fig = plt.figure(figsize=(2, 16))\n",
      "ax = fig.add_subplot(111)\n",
      "ax.plot(lith, z)\n",
      "ax.set_ylim(z[-1], 0)\n",
      "fig.show()"
     ],
     "language": "python",
     "metadata": {},
     "outputs": [
      {
       "metadata": {},
       "output_type": "display_data",
       "png": "[encoded data removed]",
       "text": [
        "<matplotlib.figure.Figure at 0x110a99d50>"
       ]
      }
     ],
     "prompt_number": 48
    },
    {
     "cell_type": "code",
     "collapsed": false,
     "input": [
      "fig = plt.figure(figsize=(8,6))\n",
      "ax = fig.add_subplot(111)\n",
      "ax.scatter(well.data['GR'], well.data['DT'],\n",
      "           c=lith, linewidth=0, alpha=0.5)\n",
      "ax.set_xlim(0,200)\n",
      "ax.set_ylim(0,200)\n",
      "plt.colorbar(ax.get_children()[2])\n",
      "fig.show()"
     ],
     "language": "python",
     "metadata": {},
     "outputs": [
      {
       "metadata": {},
       "output_type": "display_data",
       "png": "[encoded data removed]",
       "text": [
        "<matplotlib.figure.Figure at 0x1119924d0>"
       ]
      }
     ],
     "prompt_number": 79
    },
    {
     "cell_type": "markdown",
     "metadata": {},
     "source": [
      "Next step: make a colourmap from the legend."
     ]
    },
    {
     "cell_type": "code",
     "collapsed": false,
     "input": [],
     "language": "python",
     "metadata": {},
     "outputs": []
    }
   ],
   "metadata": {}
  }
 ]
}