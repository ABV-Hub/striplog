{
 "cells": [
  {
   "cell_type": "markdown",
   "metadata": {},
   "source": [
    "# Striplog with a binary 'flag'\n",
    "\n",
    "We will invent a binary log -- maybe you can load it from an LAS file with `welly`."
   ]
  },
  {
   "cell_type": "code",
   "execution_count": 26,
   "metadata": {},
   "outputs": [
    {
     "data": {
      "text/plain": [
       "[<matplotlib.lines.Line2D at 0x7f87c2b4a5f8>]"
      ]
     },
     "execution_count": 26,
     "metadata": {},
     "output_type": "execute_result"
    },
    {
     "data": {
      "image/png": "[encoded data removed]",
      "text/plain": [
       "<Figure size 1080x72 with 1 Axes>"
      ]
     },
     "metadata": {
      "needs_background": "light"
     },
     "output_type": "display_data"
    }
   ],
   "source": [
    "import numpy as np\n",
    "%matplotlib inline\n",
    "import matplotlib.pyplot as plt\n",
    "\n",
    "fake_depth = np.linspace(100, 150, 101)\n",
    "fake_log = np.array([np.random.choice([0, 1]) for _ in fake_depth])\n",
    "\n",
    "plt.figure(figsize=(15, 1))\n",
    "plt.plot(fake_depth, fake_log, 'o-')"
   ]
  },
  {
   "cell_type": "markdown",
   "metadata": {},
   "source": [
    "## Make a striplog\n",
    "\n",
    "A `Striplog` is a sequence of `Interval` objects (representing a layer). Each `Interval` must contain a `Component` (representing the layer, perhaps a rock)."
   ]
  },
  {
   "cell_type": "code",
   "execution_count": 27,
   "metadata": {},
   "outputs": [],
   "source": [
    "from striplog import Striplog, Component"
   ]
  },
  {
   "cell_type": "code",
   "execution_count": 28,
   "metadata": {},
   "outputs": [],
   "source": [
    "comps = [\n",
    "    Component({'pay': True}),\n",
    "    Component({'pay': False})\n",
    "]"
   ]
  },
  {
   "cell_type": "code",
   "execution_count": 29,
   "metadata": {},
   "outputs": [],
   "source": [
    "s = Striplog.from_log(fake_log, cutoff=0.5, components=comps, basis=fake_depth)"
   ]
  },
  {
   "cell_type": "code",
   "execution_count": 30,
   "metadata": {},
   "outputs": [],
   "source": [
    "s[-1].base.middle = 150.5 # Adjust the bottom thickness... not sure if this is a bug."
   ]
  },
  {
   "cell_type": "markdown",
   "metadata": {},
   "source": [
    "Each `Interval` in the striplog looks like:"
   ]
  },
  {
   "cell_type": "code",
   "execution_count": 31,
   "metadata": {},
   "outputs": [
    {
     "data": {
      "text/html": [
       "<table><tr><td style=\"width:2em; background-color:#DDDDDD\" rowspan=\"6\"></td><td><strong>top</strong></td><td>100.0</td></tr><tr><td><strong>primary</strong></td><td><table><tr><td><strong>pay</strong></td><td>True</td></tr></table></td></tr><tr><td><strong>summary</strong></td><td>0.50 m of True</td></tr><tr><td><strong>description</strong></td><td></td></tr><tr><td><strong>data</strong></td><td><table></table></td></tr><tr><td><strong>base</strong></td><td>100.5</td></tr></table>"
      ],
      "text/plain": [
       "Interval({'top': Position({'middle': 100.0, 'units': 'm'}), 'base': Position({'middle': 100.5, 'units': 'm'}), 'description': '', 'data': {}, 'components': [Component({'pay': True})]})"
      ]
     },
     "execution_count": 31,
     "metadata": {},
     "output_type": "execute_result"
    }
   ],
   "source": [
    "s[0]"
   ]
  },
  {
   "cell_type": "markdown",
   "metadata": {},
   "source": [
    "## Plot the intervals\n",
    "\n",
    "To plot we need a legend, but we can generate a random one. This maps each `Component` to a colour (and a width and hatch, if you want)."
   ]
  },
  {
   "cell_type": "markdown",
   "metadata": {},
   "source": [
    "We can generate a random legend:"
   ]
  },
  {
   "cell_type": "code",
   "execution_count": 32,
   "metadata": {},
   "outputs": [
    {
     "data": {
      "image/png": "[encoded data removed]",
      "text/plain": [
       "<Figure size 288x72 with 1 Axes>"
      ]
     },
     "metadata": {
      "needs_background": "light"
     },
     "output_type": "display_data"
    },
    {
     "data": {
      "image/png": "[encoded data removed]",
      "text/plain": [
       "<Figure size 288x72 with 1 Axes>"
      ]
     },
     "metadata": {
      "needs_background": "light"
     },
     "output_type": "display_data"
    }
   ],
   "source": [
    "from striplog import Legend\n",
    "\n",
    "legend = Legend.random(comps)\n",
    "legend.get_decor(comps[-1]).width = 0.2\n",
    "legend.plot()"
   ]
  },
  {
   "cell_type": "markdown",
   "metadata": {},
   "source": [
    "Or we can make one with a bit more control:"
   ]
  },
  {
   "cell_type": "code",
   "execution_count": 33,
   "metadata": {},
   "outputs": [
    {
     "data": {
      "image/png": "[encoded data removed]",
      "text/plain": [
       "<Figure size 288x72 with 1 Axes>"
      ]
     },
     "metadata": {
      "needs_background": "light"
     },
     "output_type": "display_data"
    },
    {
     "data": {
      "image/png": "[encoded data removed]",
      "text/plain": [
       "<Figure size 288x72 with 1 Axes>"
      ]
     },
     "metadata": {
      "needs_background": "light"
     },
     "output_type": "display_data"
    }
   ],
   "source": [
    "\n",
    "legend_csv = \"\"\"colour,hatch,width,component pay\n",
    "#48cc0e,None,1,True\n",
    "#5779e2,None,0.2,False\"\"\"\n",
    "\n",
    "legend = Legend.from_csv(text=legend_csv)\n",
    "\n",
    "legend.plot()"
   ]
  },
  {
   "cell_type": "code",
   "execution_count": 34,
   "metadata": {},
   "outputs": [
    {
     "data": {
      "image/png": "[encoded data removed]",
      "text/plain": [
       "<Figure size 108x540 with 1 Axes>"
      ]
     },
     "metadata": {
      "needs_background": "light"
     },
     "output_type": "display_data"
    }
   ],
   "source": [
    "s.plot(legend=legend, aspect=5)"
   ]
  },
  {
   "cell_type": "markdown",
   "metadata": {},
   "source": [
    "## Remove thin things\n",
    "\n",
    "We can remove thin intervals:"
   ]
  },
  {
   "cell_type": "code",
   "execution_count": 35,
   "metadata": {},
   "outputs": [],
   "source": [
    "pruned = s.prune(limit=1.0, keep_ends=True)"
   ]
  },
  {
   "cell_type": "markdown",
   "metadata": {},
   "source": [
    "Now we can anneal the gaps:"
   ]
  },
  {
   "cell_type": "code",
   "execution_count": 36,
   "metadata": {},
   "outputs": [],
   "source": [
    "annealed = pruned.anneal()"
   ]
  },
  {
   "cell_type": "markdown",
   "metadata": {},
   "source": [
    "Then merge the adjacent intervals that are alike..."
   ]
  },
  {
   "cell_type": "code",
   "execution_count": 37,
   "metadata": {},
   "outputs": [],
   "source": [
    "merged = annealed.merge_neighbours()  # Anneal works on a copy"
   ]
  },
  {
   "cell_type": "markdown",
   "metadata": {},
   "source": [
    "We could have chained these commands:\n",
    "\n",
    "    merged = s.prune(limit=1.0, keep_ends=True).anneal().merge_neighbours()\n",
    "\n",
    "Let's plot all these steps, just for illustration:"
   ]
  },
  {
   "cell_type": "code",
   "execution_count": 38,
   "metadata": {},
   "outputs": [
    {
     "data": {
      "image/png": "[encoded data removed]",
      "text/plain": [
       "<Figure size 432x720 with 4 Axes>"
      ]
     },
     "metadata": {
      "needs_background": "light"
     },
     "output_type": "display_data"
    }
   ],
   "source": [
    "fig, axs = plt.subplots(ncols=4, figsize=(6, 10))\n",
    "\n",
    "axs[0] = s.plot(legend=legend, ax=axs[0], lw=1, aspect=5)\n",
    "axs[0].set_title('Original')\n",
    "axs[1] = pruned.plot(legend=legend, ax=axs[1], lw=1, aspect=5)\n",
    "axs[1].set_yticklabels([])\n",
    "axs[1].set_title('Pruned')\n",
    "axs[2] = annealed.plot(legend=legend, ax=axs[2], lw=1, aspect=5)\n",
    "axs[2].set_yticklabels([])\n",
    "axs[2].set_title('Annealed')\n",
    "axs[3] = merged.plot(legend=legend, ax=axs[3], lw=1, aspect=5)\n",
    "axs[3].set_yticklabels([])\n",
    "axs[3].set_title('Merged')\n",
    "plt.show()"
   ]
  },
  {
   "cell_type": "markdown",
   "metadata": {},
   "source": [
    "## Dilate and erode\n",
    "\n",
    "This would be a binary thing, at least for now. I made an issue for this: https://github.com/agile-geoscience/striplog/issues/95\n",
    "\n",
    "You need to be on striplog v 0.8.1 at least for this to work."
   ]
  },
  {
   "cell_type": "code",
   "execution_count": 423,
   "metadata": {},
   "outputs": [],
   "source": [
    "from scipy.ndimage import morphology as bm\n",
    "\n",
    "# Assumption:\n",
    "# If the first (Python 3.6, 3.7) component item has a boolean value\n",
    "# Then it's a 'binary striplog'. \n",
    "#\n",
    "# Question: \n",
    "# Would it be better to subclass Striplog and make BinaryStriplog?\n",
    "# Which could only have one field in the primary component.\n",
    "\n",
    "def is_binary(strip, attr):\n",
    "    \"\"\"Determine if this striplog is interpretable as a binary striplog.\n",
    "    \"\"\"\n",
    "    primaries = [getattr(i.primary, attr) for i in strip]\n",
    "    return all(map(lambda x: isinstance(x, bool), primaries))\n",
    "\n",
    "def binary_log(strip, attr, step):\n",
    "    log, basis, comps = s.to_log(step=step, match_only=[attr], undefined=-1, return_meta=True)\n",
    "    if -1 in log:\n",
    "        print(\"We have undefined values, there might be a problem.\")\n",
    "    return log - 1, basis, comps\n",
    "\n",
    "def binary_operation(strip, attr, operation, step=1, structure=None):\n",
    "    ops = {\n",
    "        'erosion': bm.binary_erosion,\n",
    "        'dilation': bm.binary_dilation,\n",
    "        'opening': bm.binary_opening,\n",
    "        'closing': bm.binary_closing,\n",
    "    }\n",
    "    if not is_binary(strip, attr):\n",
    "        print(\"Cannot interpret striplog as binary.\")\n",
    "    log, basis, comps = binary_log(strip, attr, step=step)\n",
    "    if structure is None:\n",
    "        raise TypeError(\"Structure cannot be None\")\n",
    "    try:   # Treat as int\n",
    "        element = np.ones(int(structure))\n",
    "    except:\n",
    "        element = structure\n",
    "\n",
    "    proc = ops[operation](log, structure=element)\n",
    "    if operation == 'closing':\n",
    "        proc = proc | log\n",
    "    s = Striplog.from_log(proc, components=comps, basis=basis)\n",
    "    return s"
   ]
  },
  {
   "cell_type": "code",
   "execution_count": 428,
   "metadata": {},
   "outputs": [],
   "source": [
    "def net_to_gross(strip, attr):\n",
    "    net = non = 0\n",
    "    for c, x in strip.unique:\n",
    "        if getattr(c, attr):\n",
    "            net = x\n",
    "        else:\n",
    "            non = x\n",
    "    return net / (net + non)"
   ]
  },
  {
   "cell_type": "code",
   "execution_count": 429,
   "metadata": {},
   "outputs": [
    {
     "data": {
      "image/png": "[encoded data removed]",
      "text/plain": [
       "<Figure size 432x720 with 4 Axes>"
      ]
     },
     "metadata": {
      "needs_background": "light"
     },
     "output_type": "display_data"
    }
   ],
   "source": [
    "fig, axs = plt.subplots(ncols=4, figsize=(6, 10))\n",
    "\n",
    "opening = binary_operation(s, 'pay', 'opening', step=0.1, structure=7)\n",
    "closing = binary_operation(s, 'pay', 'closing', step=0.1, structure=7)\n",
    "\n",
    "axs[0] = s.plot(legend=legend, ax=axs[0], lw=1, aspect=5)\n",
    "ntg = net_to_gross(s, 'pay')\n",
    "axs[0].set_title(f'Original\\n{ntg:.2f}')\n",
    "axs[1] = merged.plot(legend=legend, ax=axs[1], lw=1, aspect=5)\n",
    "axs[1].set_yticklabels([])\n",
    "ntg = net_to_gross(merged, 'pay')\n",
    "axs[1].set_title(f'PAM\\n{ntg:.2f}')  # Prune-anneal-merge\n",
    "axs[2] = opening.plot(legend=legend, ax=axs[2], lw=1, aspect=5)\n",
    "axs[2].set_yticklabels([])\n",
    "ntg = net_to_gross(opening, 'pay')\n",
    "axs[2].set_title(f'Opening\\n{ntg:.2f}')\n",
    "axs[3] = closing.plot(legend=legend, ax=axs[3], lw=1, aspect=5)\n",
    "axs[3].set_yticklabels([])\n",
    "ntg = net_to_gross(closing, 'pay')\n",
    "axs[3].set_title(f'Closing\\n{ntg:.2f}')\n",
    "plt.show()"
   ]
  },
  {
   "cell_type": "markdown",
   "metadata": {},
   "source": [
    "## 1D binary erosion / dilation without `scipy`\n",
    "\n",
    "Greyscale would be harder... but we can avoid `scipy` for now."
   ]
  },
  {
   "cell_type": "code",
   "execution_count": 42,
   "metadata": {},
   "outputs": [
    {
     "data": {
      "text/plain": [
       "[<matplotlib.lines.Line2D at 0x7f87c28e9e48>]"
      ]
     },
     "execution_count": 42,
     "metadata": {},
     "output_type": "execute_result"
    },
    {
     "data": {
      "image/png": "[encoded data removed]",
      "text/plain": [
       "<Figure size 720x72 with 1 Axes>"
      ]
     },
     "metadata": {
      "needs_background": "light"
     },
     "output_type": "display_data"
    }
   ],
   "source": [
    "plt.figure(figsize=(10,1))\n",
    "plt.plot(fake_log)"
   ]
  },
  {
   "cell_type": "code",
   "execution_count": 46,
   "metadata": {},
   "outputs": [],
   "source": [
    "def plot(binary_array_1d, ax=None):\n",
    "    return_ax = True\n",
    "    if ax is None:\n",
    "        fig, ax = plt.subplots(figsize=(10,0.5))\n",
    "        return_ax = False\n",
    "    ax.bar(np.arange(binary_array_1d.size), binary_array_1d, width=1)\n",
    "    ax.axis('off')\n",
    "    ax.grid(which='both', axis='x', lw=1, color='k', alpha=0.25)\n",
    "    if return_ax:\n",
    "        return ax\n",
    "    else:\n",
    "        plt.show()\n",
    "        return\n",
    "    \n",
    "def compare2(array_1, array_2):\n",
    "    fig, axs = plt.subplots(nrows=2, figsize=(10,1), sharex=True)\n",
    "    axs[0] = plot(array_1, ax=axs[0])\n",
    "    axs[1] = plot(array_2, ax=axs[1])\n",
    "    return\n",
    "\n",
    "def compare(*args):\n",
    "    fig, axs = plt.subplots(nrows=len(args), figsize=(10,1), sharex=True)\n",
    "    for ax, arr in zip(axs, args):\n",
    "        ax = plot(arr, ax=ax)\n",
    "    return"
   ]
  },
  {
   "cell_type": "code",
   "execution_count": 47,
   "metadata": {},
   "outputs": [
    {
     "data": {
      "image/png": "[encoded data removed]",
      "text/plain": [
       "<Figure size 720x36 with 1 Axes>"
      ]
     },
     "metadata": {
      "needs_background": "light"
     },
     "output_type": "display_data"
    }
   ],
   "source": [
    "plot(fake_log)"
   ]
  },
  {
   "cell_type": "code",
   "execution_count": 48,
   "metadata": {},
   "outputs": [
    {
     "data": {
      "image/png": "[encoded data removed]",
      "text/plain": [
       "<Figure size 720x72 with 2 Axes>"
      ]
     },
     "metadata": {
      "needs_background": "light"
     },
     "output_type": "display_data"
    }
   ],
   "source": [
    "eros = bm.binary_erosion(fake_log, structure=[1,1,1])\n",
    "compare(fake_log, eros)"
   ]
  },
  {
   "cell_type": "code",
   "execution_count": 400,
   "metadata": {},
   "outputs": [],
   "source": [
    "def binary_dilation(arr, structure):\n",
    "    \"\"\"\n",
    "    Seems to work the same as scipy for all structure elements.\n",
    "    \"\"\"\n",
    "    L = len(structure)\n",
    "    if L == 1:\n",
    "        return arr\n",
    "    out = (np.convolve(arr, structure, mode='full') > 0).astype(int)\n",
    "    start = L // 2\n",
    "    \n",
    "    # Why is this so complicated??\n",
    "    if L % 2:  # if L is odd...\n",
    "        end =   - (L // 2) if L > 3 else -1\n",
    "    else:\n",
    "        end = 1 - (L // 2) if L > 3 else None\n",
    "\n",
    "    return out[start:end]\n",
    "\n",
    "def binary_erosion(arr, structure):\n",
    "    \"\"\"\n",
    "    Seems to work the same as scipy for all structure elements.\n",
    "    \"\"\"\n",
    "    S = sum(structure)\n",
    "    return (np.convolve(arr, structure, mode='same') >= S).astype(int)\n",
    "\n",
    "def binary_opening(arr, structure):\n",
    "    return binary_dilation(binary_erosion(arr, structure), structure)\n",
    "\n",
    "def binary_closing(arr, structure):\n",
    "    return binary_erosion(binary_dilation(arr, structure), structure)"
   ]
  },
  {
   "cell_type": "code",
   "execution_count": 411,
   "metadata": {},
   "outputs": [
    {
     "data": {
      "image/png": "[encoded data removed]",
      "text/plain": [
       "<Figure size 720x72 with 3 Axes>"
      ]
     },
     "metadata": {
      "needs_background": "light"
     },
     "output_type": "display_data"
    }
   ],
   "source": [
    "L = 11\n",
    "dila = bm.binary_dilation(fake_log, structure=[0,1,0,0,1])\n",
    "dila2 = binary_dilation(fake_log, structure=[0,1,0,0,1])\n",
    "compare(fake_log, dila, dila2)"
   ]
  },
  {
   "cell_type": "code",
   "execution_count": 402,
   "metadata": {},
   "outputs": [
    {
     "data": {
      "text/plain": [
       "(103, 103)"
      ]
     },
     "execution_count": 402,
     "metadata": {},
     "output_type": "execute_result"
    }
   ],
   "source": [
    "len(dila), len(dila2)"
   ]
  },
  {
   "cell_type": "code",
   "execution_count": 414,
   "metadata": {},
   "outputs": [
    {
     "data": {
      "image/png": "[encoded data removed]",
      "text/plain": [
       "<Figure size 720x72 with 3 Axes>"
      ]
     },
     "metadata": {
      "needs_background": "light"
     },
     "output_type": "display_data"
    }
   ],
   "source": [
    "eros = bm.binary_erosion(fake_log, structure=[1,1,0,0,1])\n",
    "eros2 = binary_erosion(fake_log, structure=[1,1,0,0,1])\n",
    "compare(fake_log, eros, eros2)"
   ]
  },
  {
   "cell_type": "code",
   "execution_count": 413,
   "metadata": {},
   "outputs": [
    {
     "data": {
      "text/plain": [
       "(103, 103)"
      ]
     },
     "execution_count": 413,
     "metadata": {},
     "output_type": "execute_result"
    }
   ],
   "source": [
    "len(eros), len(eros2)"
   ]
  },
  {
   "cell_type": "code",
   "execution_count": 410,
   "metadata": {},
   "outputs": [
    {
     "name": "stderr",
     "output_type": "stream",
     "text": [
      "\r",
      "  0%|          | 0/1000 [00:00<?, ?it/s]"
     ]
    },
    {
     "name": "stdout",
     "output_type": "stream",
     "text": [
      "Erosion failed\n"
     ]
    },
    {
     "name": "stderr",
     "output_type": "stream",
     "text": [
      "\n"
     ]
    }
   ],
   "source": [
    "from tqdm import tqdm\n",
    "\n",
    "for _ in tqdm(range(1000)):\n",
    "    \n",
    "    arr = np.random.randint(0, 2, size=1000)\n",
    "    se = np.ones(np.random.randint(1, 31))\n",
    "    \n",
    "    dila = bm.binary_dilation(arr, structure=[1,0,0,1,1,0,1])\n",
    "    dila2 = binary_dilation(arr, structure=[1,0,0,1,1,0,1])\n",
    "    if np.any(dila - dila2):\n",
    "        print(\"Dilation failed\")\n",
    "        break\n",
    "\n",
    "    eros = bm.binary_erosion(arr, structure=[1,0,0,1,1,0,1])\n",
    "    eros2 = binary_erosion(arr, structure=[1,0,0,1,1,0,1])\n",
    "    if np.any(eros - eros2):\n",
    "        print(\"Erosion failed\")\n",
    "        break\n",
    "        \n",
    "    opng = bm.binary_opening(arr, structure=[1,0,0,1,1,0,1])\n",
    "    opng2 = binary_opening(arr, structure=[1,0,0,1,1,0,1])\n",
    "    if np.any(opng - opng2):\n",
    "        print(\"Opening failed\")\n",
    "        break\n",
    "\n",
    "    clsg = bm.binary_closing(arr, structure=[1,0,0,1,1,0,1])\n",
    "    clsg2 = binary_closing(arr, structure=[1,0,0,1,1,0,1])\n",
    "    if np.any(clsg - clsg2):\n",
    "        print(\"Opening failed\")\n",
    "        break\n",
    "        "
   ]
  },
  {
   "cell_type": "markdown",
   "metadata": {},
   "source": [
    "## Some statistics\n",
    "\n",
    "We can get the unique components and their thicknesses:"
   ]
  },
  {
   "cell_type": "code",
   "execution_count": 15,
   "metadata": {},
   "outputs": [
    {
     "data": {
      "text/plain": [
       "[(Component({'pay': 'non-pay'}), 25.5), (Component({'pay': 'pay'}), 25.0)]"
      ]
     },
     "execution_count": 15,
     "metadata": {},
     "output_type": "execute_result"
    }
   ],
   "source": [
    "s.unique"
   ]
  },
  {
   "cell_type": "markdown",
   "metadata": {},
   "source": [
    "We can get at the thickest (and thinnest, with `.thinnest()`) intervals:"
   ]
  },
  {
   "cell_type": "code",
   "execution_count": 16,
   "metadata": {},
   "outputs": [
    {
     "data": {
      "text/html": [
       "<table><tr><td style=\"width:2em; background-color:#DDDDDD\" rowspan=\"6\"></td><td><strong>top</strong></td><td>104.0</td></tr><tr><td><strong>primary</strong></td><td><table><tr><td><strong>pay</strong></td><td>pay</td></tr></table></td></tr><tr><td><strong>summary</strong></td><td>4.00 m of pay</td></tr><tr><td><strong>description</strong></td><td></td></tr><tr><td><strong>data</strong></td><td><table></table></td></tr><tr><td><strong>base</strong></td><td>108.0</td></tr></table>"
      ],
      "text/plain": [
       "Interval({'top': Position({'middle': 104.0, 'units': 'm'}), 'base': Position({'middle': 108.0, 'units': 'm'}), 'description': '', 'data': {}, 'components': [Component({'pay': 'pay'})]})"
      ]
     },
     "execution_count": 16,
     "metadata": {},
     "output_type": "execute_result"
    }
   ],
   "source": [
    "s.thickest()"
   ]
  },
  {
   "cell_type": "markdown",
   "metadata": {},
   "source": [
    "These functions optionally take an integer argument `n` specifying how many of the thickest or thinnest intervals you want to see. If `n` is greater than 1, a `Striplog` object is returned so you can see the positions of those items:"
   ]
  },
  {
   "cell_type": "code",
   "execution_count": 17,
   "metadata": {},
   "outputs": [
    {
     "data": {
      "image/png": "[encoded data removed]",
      "text/plain": [
       "<Figure size 108x540 with 1 Axes>"
      ]
     },
     "metadata": {
      "needs_background": "light"
     },
     "output_type": "display_data"
    }
   ],
   "source": [
    "s.thickest(5).plot(legend=legend, lw=1, aspect=5)"
   ]
  },
  {
   "cell_type": "markdown",
   "metadata": {},
   "source": [
    "## Bar plots and histograms"
   ]
  },
  {
   "cell_type": "markdown",
   "metadata": {},
   "source": [
    "We can make a bar plot of the layers:"
   ]
  },
  {
   "cell_type": "code",
   "execution_count": 18,
   "metadata": {},
   "outputs": [
    {
     "data": {
      "image/png": "[encoded data removed]",
      "text/plain": [
       "<Figure size 432x288 with 1 Axes>"
      ]
     },
     "metadata": {
      "needs_background": "light"
     },
     "output_type": "display_data"
    }
   ],
   "source": [
    "s.bar(legend=legend)"
   ]
  },
  {
   "cell_type": "markdown",
   "metadata": {},
   "source": [
    "More interesting is to sort the thicknesses:"
   ]
  },
  {
   "cell_type": "code",
   "execution_count": 19,
   "metadata": {},
   "outputs": [
    {
     "data": {
      "image/png": "[encoded data removed]",
      "text/plain": [
       "<Figure size 432x288 with 1 Axes>"
      ]
     },
     "metadata": {
      "needs_background": "light"
     },
     "output_type": "display_data"
    }
   ],
   "source": [
    "s.bar(legend=legend, sort=True)"
   ]
  },
  {
   "cell_type": "markdown",
   "metadata": {},
   "source": [
    "Finally, we can make a thickness histogram of the various types of `component` present in the log."
   ]
  },
  {
   "cell_type": "code",
   "execution_count": 27,
   "metadata": {},
   "outputs": [
    {
     "data": {
      "image/png": "[encoded data removed]",
      "text/plain": [
       "<Figure size 432x288 with 1 Axes>"
      ]
     },
     "metadata": {
      "needs_background": "light"
     },
     "output_type": "display_data"
    }
   ],
   "source": [
    "n, ents, ax = s.hist(legend=legend)"
   ]
  },
  {
   "cell_type": "code",
   "execution_count": null,
   "metadata": {},
   "outputs": [],
   "source": []
  }
 ],
 "metadata": {
  "kernelspec": {
   "display_name": "welly",
   "language": "python",
   "name": "welly"
  },
  "language_info": {
   "codemirror_mode": {
    "name": "ipython",
    "version": 3
   },
   "file_extension": ".py",
   "mimetype": "text/x-python",
   "name": "python",
   "nbconvert_exporter": "python",
   "pygments_lexer": "ipython3",
   "version": "3.7.1"
  }
 },
 "nbformat": 4,
 "nbformat_minor": 2
}
