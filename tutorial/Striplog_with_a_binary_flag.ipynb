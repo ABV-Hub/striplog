{
 "cells": [
  {
   "cell_type": "markdown",
   "metadata": {},
   "source": [
    "# Striplog with a binary 'flag'\n",
    "\n",
    "We will invent a binary log -- maybe you can load it from an LAS file with `welly`."
   ]
  },
  {
   "cell_type": "code",
   "execution_count": 1,
   "metadata": {},
   "outputs": [
    {
     "data": {
      "text/plain": [
       "[<matplotlib.lines.Line2D at 0x7f31938fd518>]"
      ]
     },
     "execution_count": 1,
     "metadata": {},
     "output_type": "execute_result"
    },
    {
     "data": {
      "image/png": "[encoded data removed]",
      "text/plain": [
       "<Figure size 1080x72 with 1 Axes>"
      ]
     },
     "metadata": {
      "needs_background": "light"
     },
     "output_type": "display_data"
    }
   ],
   "source": [
    "import numpy as np\n",
    "%matplotlib inline\n",
    "import matplotlib.pyplot as plt\n",
    "\n",
    "fake_depth = np.linspace(100, 150, 101)\n",
    "fake_log = np.array([np.random.choice([0, 1]) for _ in fake_depth])\n",
    "\n",
    "plt.figure(figsize=(15, 1))\n",
    "plt.plot(fake_depth, fake_log, 'o-')"
   ]
  },
  {
   "cell_type": "markdown",
   "metadata": {},
   "source": [
    "## Make a striplog\n",
    "\n",
    "A `Striplog` is a sequence of `Interval` objects (representing a layer). Each `Interval` must contain a `Component` (representing the layer, perhaps a rock)."
   ]
  },
  {
   "cell_type": "code",
   "execution_count": 2,
   "metadata": {},
   "outputs": [],
   "source": [
    "from striplog import Striplog, Component"
   ]
  },
  {
   "cell_type": "code",
   "execution_count": 3,
   "metadata": {},
   "outputs": [],
   "source": [
    "comps = [\n",
    "    Component({'pay': True}),\n",
    "    Component({'pay': False})\n",
    "]"
   ]
  },
  {
   "cell_type": "code",
   "execution_count": 4,
   "metadata": {},
   "outputs": [],
   "source": [
    "s = Striplog.from_log(fake_log, cutoff=0.5, components=comps, basis=fake_depth)"
   ]
  },
  {
   "cell_type": "code",
   "execution_count": 5,
   "metadata": {},
   "outputs": [],
   "source": [
    "s[-1].base.middle = 150.5 # Adjust the bottom thickness... not sure if this is a bug."
   ]
  },
  {
   "cell_type": "markdown",
   "metadata": {},
   "source": [
    "Each `Interval` in the striplog looks like:"
   ]
  },
  {
   "cell_type": "code",
   "execution_count": 6,
   "metadata": {},
   "outputs": [
    {
     "data": {
      "text/html": [
       "<table><tr><td style=\"width:2em; background-color:#DDDDDD\" rowspan=\"6\"></td><td><strong>top</strong></td><td>100.0</td></tr><tr><td><strong>primary</strong></td><td><table><tr><td><strong>pay</strong></td><td>False</td></tr></table></td></tr><tr><td><strong>summary</strong></td><td>1.00 m of False</td></tr><tr><td><strong>description</strong></td><td></td></tr><tr><td><strong>data</strong></td><td><table></table></td></tr><tr><td><strong>base</strong></td><td>101.0</td></tr></table>"
      ],
      "text/plain": [
       "Interval({'top': Position({'middle': 100.0, 'units': 'm'}), 'base': Position({'middle': 101.0, 'units': 'm'}), 'description': '', 'data': {}, 'components': [Component({'pay': False})]})"
      ]
     },
     "execution_count": 6,
     "metadata": {},
     "output_type": "execute_result"
    }
   ],
   "source": [
    "s[0]"
   ]
  },
  {
   "cell_type": "markdown",
   "metadata": {},
   "source": [
    "## Plot the intervals\n",
    "\n",
    "To plot we need a legend, but we can generate a random one. This maps each `Component` to a colour (and a width and hatch, if you want)."
   ]
  },
  {
   "cell_type": "markdown",
   "metadata": {},
   "source": [
    "We can generate a random legend:"
   ]
  },
  {
   "cell_type": "code",
   "execution_count": 7,
   "metadata": {},
   "outputs": [
    {
     "data": {
      "image/png": "[encoded data removed]",
      "text/plain": [
       "<Figure size 288x72 with 1 Axes>"
      ]
     },
     "metadata": {
      "needs_background": "light"
     },
     "output_type": "display_data"
    },
    {
     "data": {
      "image/png": "[encoded data removed]",
      "text/plain": [
       "<Figure size 288x72 with 1 Axes>"
      ]
     },
     "metadata": {
      "needs_background": "light"
     },
     "output_type": "display_data"
    }
   ],
   "source": [
    "from striplog import Legend\n",
    "\n",
    "legend = Legend.random(comps)\n",
    "legend.get_decor(comps[-1]).width = 0.2\n",
    "legend.plot()"
   ]
  },
  {
   "cell_type": "markdown",
   "metadata": {},
   "source": [
    "Or we can make one with a bit more control:"
   ]
  },
  {
   "cell_type": "code",
   "execution_count": 8,
   "metadata": {},
   "outputs": [
    {
     "data": {
      "image/png": "[encoded data removed]",
      "text/plain": [
       "<Figure size 288x72 with 1 Axes>"
      ]
     },
     "metadata": {
      "needs_background": "light"
     },
     "output_type": "display_data"
    },
    {
     "data": {
      "image/png": "[encoded data removed]",
      "text/plain": [
       "<Figure size 288x72 with 1 Axes>"
      ]
     },
     "metadata": {
      "needs_background": "light"
     },
     "output_type": "display_data"
    }
   ],
   "source": [
    "\n",
    "legend_csv = \"\"\"colour,hatch,width,component pay\n",
    "#48cc0e,None,1,True\n",
    "#5779e2,None,0.2,False\"\"\"\n",
    "\n",
    "legend = Legend.from_csv(text=legend_csv)\n",
    "\n",
    "legend.plot()"
   ]
  },
  {
   "cell_type": "code",
   "execution_count": 9,
   "metadata": {},
   "outputs": [
    {
     "data": {
      "image/png": "[encoded data removed]",
      "text/plain": [
       "<Figure size 108x540 with 1 Axes>"
      ]
     },
     "metadata": {
      "needs_background": "light"
     },
     "output_type": "display_data"
    }
   ],
   "source": [
    "s.plot(legend=legend, aspect=5)"
   ]
  },
  {
   "cell_type": "markdown",
   "metadata": {},
   "source": [
    "## Remove thin things\n",
    "\n",
    "We can remove thin intervals:"
   ]
  },
  {
   "cell_type": "code",
   "execution_count": 10,
   "metadata": {},
   "outputs": [],
   "source": [
    "pruned = s.prune(limit=1.0, keep_ends=True)"
   ]
  },
  {
   "cell_type": "markdown",
   "metadata": {},
   "source": [
    "Now we can anneal the gaps:"
   ]
  },
  {
   "cell_type": "code",
   "execution_count": 11,
   "metadata": {},
   "outputs": [],
   "source": [
    "annealed = pruned.anneal()"
   ]
  },
  {
   "cell_type": "markdown",
   "metadata": {},
   "source": [
    "Then merge the adjacent intervals that are alike..."
   ]
  },
  {
   "cell_type": "code",
   "execution_count": 12,
   "metadata": {},
   "outputs": [],
   "source": [
    "merged = annealed.merge_neighbours()  # Anneal works on a copy"
   ]
  },
  {
   "cell_type": "markdown",
   "metadata": {},
   "source": [
    "We could have chained these commands:\n",
    "\n",
    "    merged = s.prune(limit=1.0, keep_ends=True).anneal().merge_neighbours()\n",
    "\n",
    "Let's plot all these steps, just for illustration:"
   ]
  },
  {
   "cell_type": "code",
   "execution_count": 13,
   "metadata": {},
   "outputs": [
    {
     "data": {
      "image/png": "[encoded data removed]",
      "text/plain": [
       "<Figure size 432x720 with 4 Axes>"
      ]
     },
     "metadata": {
      "needs_background": "light"
     },
     "output_type": "display_data"
    }
   ],
   "source": [
    "fig, axs = plt.subplots(ncols=4, figsize=(6, 10))\n",
    "\n",
    "axs[0] = s.plot(legend=legend, ax=axs[0], lw=1, aspect=5)\n",
    "axs[0].set_title('Original')\n",
    "axs[1] = pruned.plot(legend=legend, ax=axs[1], lw=1, aspect=5)\n",
    "axs[1].set_yticklabels([])\n",
    "axs[1].set_title('Pruned')\n",
    "axs[2] = annealed.plot(legend=legend, ax=axs[2], lw=1, aspect=5)\n",
    "axs[2].set_yticklabels([])\n",
    "axs[2].set_title('Annealed')\n",
    "axs[3] = merged.plot(legend=legend, ax=axs[3], lw=1, aspect=5)\n",
    "axs[3].set_yticklabels([])\n",
    "axs[3].set_title('Merged')\n",
    "plt.show()"
   ]
  },
  {
   "cell_type": "markdown",
   "metadata": {},
   "source": [
    "## Dilate and erode\n",
    "\n",
    "This would be a binary thing, at least for now. I made an issue for this: https://github.com/agile-geoscience/striplog/issues/95\n",
    "\n",
    "You need to be on striplog v 0.8.1 at least for this to work."
   ]
  },
  {
   "cell_type": "code",
   "execution_count": 14,
   "metadata": {},
   "outputs": [],
   "source": [
    "from scipy.ndimage import morphology as bm\n",
    "\n",
    "# Assumption:\n",
    "# If the first (Python 3.6, 3.7) component item has a boolean value\n",
    "# Then it's a 'binary striplog'. \n",
    "#\n",
    "# Question: \n",
    "# Would it be better to subclass Striplog and make BinaryStriplog?\n",
    "# Which could only have one field in the primary component.\n",
    "\n",
    "def is_binary(strip):\n",
    "    \"\"\"Determine if this striplog is interpretable as a binary striplog.\n",
    "    \"\"\"\n",
    "    primaries = [list(i.primary.__dict__.values())[0] for i in strip]\n",
    "    return all(map(lambda x: isinstance(x, bool), primaries))\n",
    "\n",
    "def is_interval_true(interval):\n",
    "    return list(interval.primary.__dict__.values())[0]\n",
    "\n",
    "def is_comp_true(comp):\n",
    "    return list(comp.__dict__.values())[0]\n",
    "\n",
    "def binary_log(strip, step):\n",
    "    log, basis, comps = s.to_log(step=step, undefined=-1, return_meta=True)\n",
    "    if -1 in log:\n",
    "        print(\"We have undefined values, there might be a problem.\")\n",
    "    return log - 1, basis, comps\n",
    "\n",
    "def binary_operation(strip, operation, step=1, structure=None):\n",
    "    ops = {\n",
    "        'erosion': bm.binary_erosion,\n",
    "        'dilation': bm.binary_dilation,\n",
    "        'opening': bm.binary_opening,\n",
    "        'closing': bm.binary_closing,\n",
    "    }\n",
    "    if not is_binary(strip):\n",
    "        print(\"Cannot interpret striplog as binary.\")\n",
    "    log, basis, comps = binary_log(strip, step=step)\n",
    "    if structure is None:\n",
    "        raise TypeError(\"Structure cannot be None\")\n",
    "    try:   # Treat as int\n",
    "        element = np.ones(int(structure))\n",
    "    except:\n",
    "        element = structure\n",
    "\n",
    "    proc = ops[operation](log, structure=element)\n",
    "    if operation == 'closing':\n",
    "        proc = proc | log\n",
    "    s = Striplog.from_log(proc, components=comps, basis=basis)\n",
    "    return s\n",
    "    \n",
    "def generalize(strip, method=None):\n",
    "    if method is None:\n",
    "        method = 'closing'"
   ]
  },
  {
   "cell_type": "code",
   "execution_count": 15,
   "metadata": {},
   "outputs": [],
   "source": [
    "def net_to_gross(strip):\n",
    "    net = non = 0\n",
    "    for c, x in strip.unique:\n",
    "        if is_comp_true(c):\n",
    "            net = x\n",
    "        else:\n",
    "            non = x\n",
    "    return net / (net + non)"
   ]
  },
  {
   "cell_type": "code",
   "execution_count": 16,
   "metadata": {},
   "outputs": [
    {
     "data": {
      "image/png": "[encoded data removed]",
      "text/plain": [
       "<Figure size 432x720 with 4 Axes>"
      ]
     },
     "metadata": {
      "needs_background": "light"
     },
     "output_type": "display_data"
    }
   ],
   "source": [
    "fig, axs = plt.subplots(ncols=4, figsize=(6, 10))\n",
    "\n",
    "opening = binary_operation(s, 'opening', step=0.1, structure=7)\n",
    "closing = binary_operation(s, 'closing', step=0.1, structure=7)\n",
    "\n",
    "axs[0] = s.plot(legend=legend, ax=axs[0], lw=1, aspect=5)\n",
    "ntg = net_to_gross(s)\n",
    "axs[0].set_title(f'Original\\n{ntg:.2f}')\n",
    "axs[1] = merged.plot(legend=legend, ax=axs[1], lw=1, aspect=5)\n",
    "axs[1].set_yticklabels([])\n",
    "ntg = net_to_gross(merged)\n",
    "axs[1].set_title(f'PAM\\n{ntg:.2f}')  # Prune-anneal-merge\n",
    "axs[2] = opening.plot(legend=legend, ax=axs[2], lw=1, aspect=5)\n",
    "axs[2].set_yticklabels([])\n",
    "ntg = net_to_gross(opening)\n",
    "axs[2].set_title(f'Opening\\n{ntg:.2f}')\n",
    "axs[3] = closing.plot(legend=legend, ax=axs[3], lw=1, aspect=5)\n",
    "axs[3].set_yticklabels([])\n",
    "ntg = net_to_gross(closing)\n",
    "axs[3].set_title(f'Closing\\n{ntg:.2f}')\n",
    "plt.show()"
   ]
  },
  {
   "cell_type": "markdown",
   "metadata": {},
   "source": [
    "## Some statistics\n",
    "\n",
    "We can get the unique components and their thicknesses:"
   ]
  },
  {
   "cell_type": "code",
   "execution_count": 15,
   "metadata": {},
   "outputs": [
    {
     "data": {
      "text/plain": [
       "[(Component({'pay': 'non-pay'}), 25.5), (Component({'pay': 'pay'}), 25.0)]"
      ]
     },
     "execution_count": 15,
     "metadata": {},
     "output_type": "execute_result"
    }
   ],
   "source": [
    "s.unique"
   ]
  },
  {
   "cell_type": "markdown",
   "metadata": {},
   "source": [
    "We can get at the thickest (and thinnest, with `.thinnest()`) intervals:"
   ]
  },
  {
   "cell_type": "code",
   "execution_count": 16,
   "metadata": {},
   "outputs": [
    {
     "data": {
      "text/html": [
       "<table><tr><td style=\"width:2em; background-color:#DDDDDD\" rowspan=\"6\"></td><td><strong>top</strong></td><td>104.0</td></tr><tr><td><strong>primary</strong></td><td><table><tr><td><strong>pay</strong></td><td>pay</td></tr></table></td></tr><tr><td><strong>summary</strong></td><td>4.00 m of pay</td></tr><tr><td><strong>description</strong></td><td></td></tr><tr><td><strong>data</strong></td><td><table></table></td></tr><tr><td><strong>base</strong></td><td>108.0</td></tr></table>"
      ],
      "text/plain": [
       "Interval({'top': Position({'middle': 104.0, 'units': 'm'}), 'base': Position({'middle': 108.0, 'units': 'm'}), 'description': '', 'data': {}, 'components': [Component({'pay': 'pay'})]})"
      ]
     },
     "execution_count": 16,
     "metadata": {},
     "output_type": "execute_result"
    }
   ],
   "source": [
    "s.thickest()"
   ]
  },
  {
   "cell_type": "markdown",
   "metadata": {},
   "source": [
    "These functions optionally take an integer argument `n` specifying how many of the thickest or thinnest intervals you want to see. If `n` is greater than 1, a `Striplog` object is returned so you can see the positions of those items:"
   ]
  },
  {
   "cell_type": "code",
   "execution_count": 17,
   "metadata": {},
   "outputs": [
    {
     "data": {
      "image/png": "[encoded data removed]",
      "text/plain": [
       "<Figure size 108x540 with 1 Axes>"
      ]
     },
     "metadata": {
      "needs_background": "light"
     },
     "output_type": "display_data"
    }
   ],
   "source": [
    "s.thickest(5).plot(legend=legend, lw=1, aspect=5)"
   ]
  },
  {
   "cell_type": "markdown",
   "metadata": {},
   "source": [
    "## Bar plots and histograms"
   ]
  },
  {
   "cell_type": "markdown",
   "metadata": {},
   "source": [
    "We can make a bar plot of the layers:"
   ]
  },
  {
   "cell_type": "code",
   "execution_count": 18,
   "metadata": {},
   "outputs": [
    {
     "data": {
      "image/png": "[encoded data removed]",
      "text/plain": [
       "<Figure size 432x288 with 1 Axes>"
      ]
     },
     "metadata": {
      "needs_background": "light"
     },
     "output_type": "display_data"
    }
   ],
   "source": [
    "s.bar(legend=legend)"
   ]
  },
  {
   "cell_type": "markdown",
   "metadata": {},
   "source": [
    "More interesting is to sort the thicknesses:"
   ]
  },
  {
   "cell_type": "code",
   "execution_count": 19,
   "metadata": {},
   "outputs": [
    {
     "data": {
      "image/png": "[encoded data removed]",
      "text/plain": [
       "<Figure size 432x288 with 1 Axes>"
      ]
     },
     "metadata": {
      "needs_background": "light"
     },
     "output_type": "display_data"
    }
   ],
   "source": [
    "s.bar(legend=legend, sort=True)"
   ]
  },
  {
   "cell_type": "markdown",
   "metadata": {},
   "source": [
    "Finally, we can make a thickness histogram of the various types of `component` present in the log."
   ]
  },
  {
   "cell_type": "code",
   "execution_count": 27,
   "metadata": {},
   "outputs": [
    {
     "data": {
      "image/png": "[encoded data removed]",
      "text/plain": [
       "<Figure size 432x288 with 1 Axes>"
      ]
     },
     "metadata": {
      "needs_background": "light"
     },
     "output_type": "display_data"
    }
   ],
   "source": [
    "n, ents, ax = s.hist(legend=legend)"
   ]
  },
  {
   "cell_type": "code",
   "execution_count": null,
   "metadata": {},
   "outputs": [],
   "source": []
  }
 ],
 "metadata": {
  "kernelspec": {
   "display_name": "welly",
   "language": "python",
   "name": "welly"
  },
  "language_info": {
   "codemirror_mode": {
    "name": "ipython",
    "version": 3
   },
   "file_extension": ".py",
   "mimetype": "text/x-python",
   "name": "python",
   "nbconvert_exporter": "python",
   "pygments_lexer": "ipython3",
   "version": "3.7.1"
  }
 },
 "nbformat": 4,
 "nbformat_minor": 2
}
