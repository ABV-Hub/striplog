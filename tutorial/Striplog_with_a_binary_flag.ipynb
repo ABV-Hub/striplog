{
 "cells": [
  {
   "cell_type": "markdown",
   "metadata": {},
   "source": [
    "# Striplog with a binary 'flag'\n",
    "\n",
    "We will invent a binary log -- maybe you can load it from an LAS file with `welly`."
   ]
  },
  {
   "cell_type": "code",
   "execution_count": 1,
   "metadata": {},
   "outputs": [
    {
     "data": {
      "text/plain": [
       "[<matplotlib.lines.Line2D at 0x7faea521bc88>]"
      ]
     },
     "execution_count": 1,
     "metadata": {},
     "output_type": "execute_result"
    },
    {
     "data": {
      "image/png": "[encoded data removed]",
      "text/plain": [
       "<Figure size 1080x72 with 1 Axes>"
      ]
     },
     "metadata": {
      "needs_background": "light"
     },
     "output_type": "display_data"
    }
   ],
   "source": [
    "import numpy as np\n",
    "%matplotlib inline\n",
    "import matplotlib.pyplot as plt\n",
    "\n",
    "fake_depth = np.linspace(100, 150, 101)\n",
    "fake_log = np.array([np.random.choice([0, 1]) for _ in fake_depth])\n",
    "\n",
    "plt.figure(figsize=(15, 1))\n",
    "plt.plot(fake_depth, fake_log, 'o-')"
   ]
  },
  {
   "cell_type": "markdown",
   "metadata": {},
   "source": [
    "## Make a striplog\n",
    "\n",
    "A `Striplog` is a sequence of `Interval` objects (representing a layer). Each `Interval` must contain a `Component` (representing the layer, perhaps a rock)."
   ]
  },
  {
   "cell_type": "code",
   "execution_count": 2,
   "metadata": {},
   "outputs": [],
   "source": [
    "from striplog import Striplog, Component"
   ]
  },
  {
   "cell_type": "code",
   "execution_count": 3,
   "metadata": {},
   "outputs": [],
   "source": [
    "comps = [\n",
    "    Component({'pay': True}),\n",
    "    Component({'pay': False})\n",
    "]"
   ]
  },
  {
   "cell_type": "code",
   "execution_count": 4,
   "metadata": {},
   "outputs": [],
   "source": [
    "s = Striplog.from_log(fake_log, cutoff=0.5, components=comps, basis=fake_depth)"
   ]
  },
  {
   "cell_type": "code",
   "execution_count": 5,
   "metadata": {},
   "outputs": [],
   "source": [
    "s[-1].base.middle = 150.5 # Adjust the bottom thickness... not sure if this is a bug."
   ]
  },
  {
   "cell_type": "markdown",
   "metadata": {},
   "source": [
    "Each `Interval` in the striplog looks like:"
   ]
  },
  {
   "cell_type": "code",
   "execution_count": 6,
   "metadata": {},
   "outputs": [
    {
     "data": {
      "text/html": [
       "<table><tr><td style=\"width:2em; background-color:#DDDDDD\" rowspan=\"6\"></td><td><strong>top</strong></td><td>100.0</td></tr><tr><td><strong>primary</strong></td><td><table><tr><td><strong>pay</strong></td><td>False</td></tr></table></td></tr><tr><td><strong>summary</strong></td><td>0.50 m of False</td></tr><tr><td><strong>description</strong></td><td></td></tr><tr><td><strong>data</strong></td><td><table></table></td></tr><tr><td><strong>base</strong></td><td>100.5</td></tr></table>"
      ],
      "text/plain": [
       "Interval({'top': Position({'middle': 100.0, 'units': 'm'}), 'base': Position({'middle': 100.5, 'units': 'm'}), 'description': '', 'data': {}, 'components': [Component({'pay': False})]})"
      ]
     },
     "execution_count": 6,
     "metadata": {},
     "output_type": "execute_result"
    }
   ],
   "source": [
    "s[0]"
   ]
  },
  {
   "cell_type": "markdown",
   "metadata": {},
   "source": [
    "## Plot the intervals\n",
    "\n",
    "To plot we need a legend, but we can generate a random one. This maps each `Component` to a colour (and a width and hatch, if you want)."
   ]
  },
  {
   "cell_type": "markdown",
   "metadata": {},
   "source": [
    "We can generate a random legend:"
   ]
  },
  {
   "cell_type": "code",
   "execution_count": 7,
   "metadata": {},
   "outputs": [
    {
     "data": {
      "image/png": "[encoded data removed]",
      "text/plain": [
       "<Figure size 288x72 with 1 Axes>"
      ]
     },
     "metadata": {
      "needs_background": "light"
     },
     "output_type": "display_data"
    },
    {
     "data": {
      "image/png": "[encoded data removed]",
      "text/plain": [
       "<Figure size 288x72 with 1 Axes>"
      ]
     },
     "metadata": {
      "needs_background": "light"
     },
     "output_type": "display_data"
    }
   ],
   "source": [
    "from striplog import Legend\n",
    "\n",
    "legend = Legend.random(comps)\n",
    "legend.get_decor(comps[-1]).width = 0.2\n",
    "legend.plot()"
   ]
  },
  {
   "cell_type": "markdown",
   "metadata": {},
   "source": [
    "Or we can make one with a bit more control:"
   ]
  },
  {
   "cell_type": "code",
   "execution_count": 8,
   "metadata": {},
   "outputs": [
    {
     "data": {
      "image/png": "[encoded data removed]",
      "text/plain": [
       "<Figure size 288x72 with 1 Axes>"
      ]
     },
     "metadata": {
      "needs_background": "light"
     },
     "output_type": "display_data"
    },
    {
     "data": {
      "image/png": "[encoded data removed]",
      "text/plain": [
       "<Figure size 288x72 with 1 Axes>"
      ]
     },
     "metadata": {
      "needs_background": "light"
     },
     "output_type": "display_data"
    }
   ],
   "source": [
    "\n",
    "legend_csv = \"\"\"colour,hatch,width,component pay\n",
    "#48cc0e,None,1,True\n",
    "#5779e2,None,0.2,False\"\"\"\n",
    "\n",
    "legend = Legend.from_csv(text=legend_csv)\n",
    "\n",
    "legend.plot()"
   ]
  },
  {
   "cell_type": "code",
   "execution_count": 9,
   "metadata": {},
   "outputs": [
    {
     "data": {
      "image/png": "[encoded data removed]",
      "text/plain": [
       "<Figure size 108x540 with 1 Axes>"
      ]
     },
     "metadata": {
      "needs_background": "light"
     },
     "output_type": "display_data"
    }
   ],
   "source": [
    "s.plot(legend=legend, aspect=5)"
   ]
  },
  {
   "cell_type": "markdown",
   "metadata": {},
   "source": [
    "## Remove thin things\n",
    "\n",
    "We can remove thin intervals:"
   ]
  },
  {
   "cell_type": "code",
   "execution_count": 10,
   "metadata": {},
   "outputs": [],
   "source": [
    "pruned = s.prune(limit=1.0, keep_ends=True)"
   ]
  },
  {
   "cell_type": "markdown",
   "metadata": {},
   "source": [
    "Now we can anneal the gaps:"
   ]
  },
  {
   "cell_type": "code",
   "execution_count": 11,
   "metadata": {},
   "outputs": [],
   "source": [
    "annealed = pruned.anneal()"
   ]
  },
  {
   "cell_type": "markdown",
   "metadata": {},
   "source": [
    "Then merge the adjacent intervals that are alike..."
   ]
  },
  {
   "cell_type": "code",
   "execution_count": 12,
   "metadata": {},
   "outputs": [],
   "source": [
    "merged = annealed.merge_neighbours()  # Anneal works on a copy"
   ]
  },
  {
   "cell_type": "markdown",
   "metadata": {},
   "source": [
    "We could have chained these commands:\n",
    "\n",
    "    merged = s.prune(limit=1.0, keep_ends=True).anneal().merge_neighbours()\n",
    "\n",
    "Let's plot all these steps, just for illustration:"
   ]
  },
  {
   "cell_type": "code",
   "execution_count": 13,
   "metadata": {},
   "outputs": [
    {
     "data": {
      "image/png": "[encoded data removed]",
      "text/plain": [
       "<Figure size 432x720 with 4 Axes>"
      ]
     },
     "metadata": {
      "needs_background": "light"
     },
     "output_type": "display_data"
    }
   ],
   "source": [
    "fig, axs = plt.subplots(ncols=4, figsize=(6, 10))\n",
    "\n",
    "axs[0] = s.plot(legend=legend, ax=axs[0], lw=1, aspect=5)\n",
    "axs[0].set_title('Original')\n",
    "axs[1] = pruned.plot(legend=legend, ax=axs[1], lw=1, aspect=5)\n",
    "axs[1].set_yticklabels([])\n",
    "axs[1].set_title('Pruned')\n",
    "axs[2] = annealed.plot(legend=legend, ax=axs[2], lw=1, aspect=5)\n",
    "axs[2].set_yticklabels([])\n",
    "axs[2].set_title('Annealed')\n",
    "axs[3] = merged.plot(legend=legend, ax=axs[3], lw=1, aspect=5)\n",
    "axs[3].set_yticklabels([])\n",
    "axs[3].set_title('Merged')\n",
    "plt.show()"
   ]
  },
  {
   "cell_type": "markdown",
   "metadata": {},
   "source": [
    "## Dilate and erode\n",
    "\n",
    "This would be a binary thing, at least for now. I made an issue for this: https://github.com/agile-geoscience/striplog/issues/95\n",
    "\n",
    "You need to be on striplog v 0.8.1 at least for this to work."
   ]
  },
  {
   "cell_type": "code",
   "execution_count": 14,
   "metadata": {},
   "outputs": [],
   "source": [
    "from scipy.ndimage import morphology as bm\n",
    "\n",
    "# Assumption:\n",
    "# If the first (Python 3.6, 3.7) component item has a boolean value\n",
    "# Then it's a 'binary striplog'. \n",
    "#\n",
    "# Question: \n",
    "# Would it be better to subclass Striplog and make BinaryStriplog?\n",
    "# Which could only have one field in the primary component.\n",
    "\n",
    "def is_binary(strip, attr):\n",
    "    \"\"\"Determine if this striplog is interpretable as a binary striplog.\n",
    "    \"\"\"\n",
    "    primaries = [getattr(i.primary, attr) for i in strip]\n",
    "    return all(map(lambda x: isinstance(x, bool), primaries))\n",
    "\n",
    "def binary_log(strip, attr, step):\n",
    "    log, basis, comps = s.to_log(step=step, match_only=[attr], undefined=-1, return_meta=True)\n",
    "    if -1 in log:\n",
    "        print(\"We have undefined values, there might be a problem.\")\n",
    "    return log - 1, basis, comps\n",
    "\n",
    "def binary_operation(strip, attr, operation, step=1, structure=None):\n",
    "    ops = {\n",
    "        'erosion': bm.binary_erosion,\n",
    "        'dilation': bm.binary_dilation,\n",
    "        'opening': bm.binary_opening,\n",
    "        'closing': bm.binary_closing,\n",
    "    }\n",
    "    if not is_binary(strip, attr):\n",
    "        print(\"Cannot interpret striplog as binary.\")\n",
    "    log, basis, comps = binary_log(strip, attr, step=step)\n",
    "    if structure is None:\n",
    "        raise TypeError(\"Structure cannot be None\")\n",
    "    try:   # Treat as int\n",
    "        element = np.ones(int(structure))\n",
    "    except:\n",
    "        element = structure\n",
    "\n",
    "    proc = ops[operation](log, structure=element)\n",
    "    if operation == 'closing':\n",
    "        proc = proc | log\n",
    "    s = Striplog.from_log(proc, components=comps, basis=basis)\n",
    "    return s"
   ]
  },
  {
   "cell_type": "code",
   "execution_count": 15,
   "metadata": {},
   "outputs": [],
   "source": [
    "def net_to_gross(strip, attr):\n",
    "    net = non = 0\n",
    "    for c, x in strip.unique:\n",
    "        if getattr(c, attr):\n",
    "            net = x\n",
    "        else:\n",
    "            non = x\n",
    "    return net / (net + non)"
   ]
  },
  {
   "cell_type": "code",
   "execution_count": 16,
   "metadata": {},
   "outputs": [
    {
     "data": {
      "image/png": "[encoded data removed]",
      "text/plain": [
       "<Figure size 432x720 with 4 Axes>"
      ]
     },
     "metadata": {
      "needs_background": "light"
     },
     "output_type": "display_data"
    }
   ],
   "source": [
    "fig, axs = plt.subplots(ncols=4, figsize=(6, 10))\n",
    "\n",
    "opening = binary_operation(s, 'pay', 'opening', step=0.1, structure=7)\n",
    "closing = binary_operation(s, 'pay', 'closing', step=0.1, structure=7)\n",
    "\n",
    "axs[0] = s.plot(legend=legend, ax=axs[0], lw=1, aspect=5)\n",
    "ntg = net_to_gross(s, 'pay')\n",
    "axs[0].set_title(f'Original\\n{ntg:.2f}')\n",
    "axs[1] = merged.plot(legend=legend, ax=axs[1], lw=1, aspect=5)\n",
    "axs[1].set_yticklabels([])\n",
    "ntg = net_to_gross(merged, 'pay')\n",
    "axs[1].set_title(f'PAM\\n{ntg:.2f}')  # Prune-anneal-merge\n",
    "axs[2] = opening.plot(legend=legend, ax=axs[2], lw=1, aspect=5)\n",
    "axs[2].set_yticklabels([])\n",
    "ntg = net_to_gross(opening, 'pay')\n",
    "axs[2].set_title(f'Opening\\n{ntg:.2f}')\n",
    "axs[3] = closing.plot(legend=legend, ax=axs[3], lw=1, aspect=5)\n",
    "axs[3].set_yticklabels([])\n",
    "ntg = net_to_gross(closing, 'pay')\n",
    "axs[3].set_title(f'Closing\\n{ntg:.2f}')\n",
    "plt.show()"
   ]
  },
  {
   "cell_type": "markdown",
   "metadata": {},
   "source": [
    "## 1D binary erosion / dilation without `scipy`\n",
    "\n",
    "Greyscale would be harder... but we can avoid `scipy` for now.\n",
    "\n",
    "I'm using convolution, but this would be better: http://www.mi.fu-berlin.de/wiki/pub/ABI/QuantProtP4/signal-processing.pdf"
   ]
  },
  {
   "cell_type": "code",
   "execution_count": 17,
   "metadata": {},
   "outputs": [
    {
     "data": {
      "text/plain": [
       "[<matplotlib.lines.Line2D at 0x7fae9f032dd8>]"
      ]
     },
     "execution_count": 17,
     "metadata": {},
     "output_type": "execute_result"
    },
    {
     "data": {
      "image/png": "[encoded data removed]",
      "text/plain": [
       "<Figure size 720x72 with 1 Axes>"
      ]
     },
     "metadata": {
      "needs_background": "light"
     },
     "output_type": "display_data"
    }
   ],
   "source": [
    "plt.figure(figsize=(10,1))\n",
    "plt.plot(fake_log)"
   ]
  },
  {
   "cell_type": "code",
   "execution_count": 18,
   "metadata": {},
   "outputs": [],
   "source": [
    "def plot(binary_array_1d, ax=None):\n",
    "    return_ax = True\n",
    "    if ax is None:\n",
    "        fig, ax = plt.subplots(figsize=(10,0.5))\n",
    "        return_ax = False\n",
    "    ax.bar(np.arange(binary_array_1d.size), binary_array_1d, width=1)\n",
    "    ax.axis('off')\n",
    "    ax.grid(which='both', axis='x', lw=1, color='k', alpha=0.25)\n",
    "    if return_ax:\n",
    "        return ax\n",
    "    else:\n",
    "        plt.show()\n",
    "        return\n",
    "    \n",
    "def compare2(array_1, array_2):\n",
    "    fig, axs = plt.subplots(nrows=2, figsize=(10,1), sharex=True)\n",
    "    axs[0] = plot(array_1, ax=axs[0])\n",
    "    axs[1] = plot(array_2, ax=axs[1])\n",
    "    return\n",
    "\n",
    "def compare(*args):\n",
    "    fig, axs = plt.subplots(nrows=len(args), figsize=(10,1), sharex=True)\n",
    "    for ax, arr in zip(axs, args):\n",
    "        ax = plot(arr, ax=ax)\n",
    "    return"
   ]
  },
  {
   "cell_type": "code",
   "execution_count": 19,
   "metadata": {},
   "outputs": [
    {
     "data": {
      "image/png": "[encoded data removed]",
      "text/plain": [
       "<Figure size 720x36 with 1 Axes>"
      ]
     },
     "metadata": {
      "needs_background": "light"
     },
     "output_type": "display_data"
    }
   ],
   "source": [
    "plot(fake_log)"
   ]
  },
  {
   "cell_type": "code",
   "execution_count": 20,
   "metadata": {},
   "outputs": [
    {
     "data": {
      "image/png": "[encoded data removed]",
      "text/plain": [
       "<Figure size 720x72 with 2 Axes>"
      ]
     },
     "metadata": {
      "needs_background": "light"
     },
     "output_type": "display_data"
    }
   ],
   "source": [
    "eros = bm.binary_erosion(fake_log, structure=[1,1,1])\n",
    "compare(fake_log, eros)"
   ]
  },
  {
   "cell_type": "code",
   "execution_count": 21,
   "metadata": {},
   "outputs": [],
   "source": [
    "def binary_dilation(arr, structure):\n",
    "    \"\"\"\n",
    "    Seems to work the same as scipy for all structure elements.\n",
    "    \"\"\"\n",
    "    L = len(structure)\n",
    "    if L == 1:\n",
    "        return arr\n",
    "    out = (np.convolve(arr, structure, mode='full') > 0).astype(int)\n",
    "    start = L // 2\n",
    "    \n",
    "    # Why is this so complicated??\n",
    "    if L % 2:  # if L is odd...\n",
    "        end =   - (L // 2) if L > 3 else -1\n",
    "    else:\n",
    "        end = 1 - (L // 2) if L > 3 else None\n",
    "\n",
    "    return out[start:end]\n",
    "\n",
    "def binary_erosion(arr, structure):\n",
    "    \"\"\"\n",
    "    Seems to work the same as scipy for all structure elements.\n",
    "    \"\"\"\n",
    "    S = sum(structure)\n",
    "    return (np.convolve(arr, structure, mode='same') >= S).astype(int)\n",
    "\n",
    "def binary_opening(arr, structure):\n",
    "    return binary_dilation(binary_erosion(arr, structure), structure)\n",
    "\n",
    "def binary_closing(arr, structure):\n",
    "    return binary_erosion(binary_dilation(arr, structure), structure)"
   ]
  },
  {
   "cell_type": "code",
   "execution_count": 22,
   "metadata": {},
   "outputs": [
    {
     "data": {
      "image/png": "[encoded data removed]",
      "text/plain": [
       "<Figure size 720x72 with 3 Axes>"
      ]
     },
     "metadata": {
      "needs_background": "light"
     },
     "output_type": "display_data"
    }
   ],
   "source": [
    "L = 11\n",
    "dila = bm.binary_dilation(fake_log, structure=[0,1,0,0,1])\n",
    "dila2 = binary_dilation(fake_log, structure=[0,1,0,0,1])\n",
    "compare(fake_log, dila, dila2)"
   ]
  },
  {
   "cell_type": "code",
   "execution_count": 23,
   "metadata": {},
   "outputs": [
    {
     "data": {
      "text/plain": [
       "(101, 101)"
      ]
     },
     "execution_count": 23,
     "metadata": {},
     "output_type": "execute_result"
    }
   ],
   "source": [
    "len(dila), len(dila2)"
   ]
  },
  {
   "cell_type": "code",
   "execution_count": 24,
   "metadata": {},
   "outputs": [
    {
     "data": {
      "image/png": "[encoded data removed]",
      "text/plain": [
       "<Figure size 720x72 with 3 Axes>"
      ]
     },
     "metadata": {
      "needs_background": "light"
     },
     "output_type": "display_data"
    }
   ],
   "source": [
    "eros = bm.binary_erosion(fake_log, structure=[1,1,0,0,1])\n",
    "eros2 = binary_erosion(fake_log, structure=[1,1,0,0,1])\n",
    "compare(fake_log, eros, eros2)"
   ]
  },
  {
   "cell_type": "code",
   "execution_count": 25,
   "metadata": {},
   "outputs": [
    {
     "data": {
      "text/plain": [
       "(101, 101)"
      ]
     },
     "execution_count": 25,
     "metadata": {},
     "output_type": "execute_result"
    }
   ],
   "source": [
    "len(eros), len(eros2)"
   ]
  },
  {
   "cell_type": "code",
   "execution_count": 26,
   "metadata": {},
   "outputs": [
    {
     "name": "stderr",
     "output_type": "stream",
     "text": [
      "\r",
      "  0%|          | 0/1000 [00:00<?, ?it/s]"
     ]
    },
    {
     "name": "stdout",
     "output_type": "stream",
     "text": [
      "Erosion failed\n"
     ]
    },
    {
     "name": "stderr",
     "output_type": "stream",
     "text": [
      "\n"
     ]
    }
   ],
   "source": [
    "from tqdm import tqdm\n",
    "\n",
    "for _ in tqdm(range(1000)):\n",
    "    \n",
    "    arr = np.random.randint(0, 2, size=1000)\n",
    "    se = np.ones(np.random.randint(1, 31))\n",
    "    \n",
    "    dila = bm.binary_dilation(arr, structure=[1,0,0,1,1,0,1])\n",
    "    dila2 = binary_dilation(arr, structure=[1,0,0,1,1,0,1])\n",
    "    if np.any(dila - dila2):\n",
    "        print(\"Dilation failed\")\n",
    "        break\n",
    "\n",
    "    eros = bm.binary_erosion(arr, structure=[1,0,0,1,1,0,1])\n",
    "    eros2 = binary_erosion(arr, structure=[1,0,0,1,1,0,1])\n",
    "    if np.any(eros - eros2):\n",
    "        print(\"Erosion failed\")\n",
    "        break\n",
    "        \n",
    "    opng = bm.binary_opening(arr, structure=[1,0,0,1,1,0,1])\n",
    "    opng2 = binary_opening(arr, structure=[1,0,0,1,1,0,1])\n",
    "    if np.any(opng - opng2):\n",
    "        print(\"Opening failed\")\n",
    "        break\n",
    "\n",
    "    clsg = bm.binary_closing(arr, structure=[1,0,0,1,1,0,1])\n",
    "    clsg2 = binary_closing(arr, structure=[1,0,0,1,1,0,1])\n",
    "    if np.any(clsg - clsg2):\n",
    "        print(\"Opening failed\")\n",
    "        break\n",
    "        "
   ]
  },
  {
   "cell_type": "markdown",
   "metadata": {},
   "source": [
    "## Some statistics\n",
    "\n",
    "We can get the unique components and their thicknesses:"
   ]
  },
  {
   "cell_type": "code",
   "execution_count": 27,
   "metadata": {},
   "outputs": [
    {
     "data": {
      "text/plain": [
       "[(Component({'pay': True}), 25.5), (Component({'pay': False}), 25.0)]"
      ]
     },
     "execution_count": 27,
     "metadata": {},
     "output_type": "execute_result"
    }
   ],
   "source": [
    "s.unique"
   ]
  },
  {
   "cell_type": "markdown",
   "metadata": {},
   "source": [
    "We can get at the thickest (and thinnest, with `.thinnest()`) intervals:"
   ]
  },
  {
   "cell_type": "code",
   "execution_count": 28,
   "metadata": {},
   "outputs": [
    {
     "data": {
      "text/html": [
       "<table><tr><td style=\"width:2em; background-color:#DDDDDD\" rowspan=\"6\"></td><td><strong>top</strong></td><td>128.5</td></tr><tr><td><strong>primary</strong></td><td><table><tr><td><strong>pay</strong></td><td>True</td></tr></table></td></tr><tr><td><strong>summary</strong></td><td>3.00 m of True</td></tr><tr><td><strong>description</strong></td><td></td></tr><tr><td><strong>data</strong></td><td><table></table></td></tr><tr><td><strong>base</strong></td><td>131.5</td></tr></table>"
      ],
      "text/plain": [
       "Interval({'top': Position({'middle': 128.5, 'units': 'm'}), 'base': Position({'middle': 131.5, 'units': 'm'}), 'description': '', 'data': {}, 'components': [Component({'pay': True})]})"
      ]
     },
     "execution_count": 28,
     "metadata": {},
     "output_type": "execute_result"
    }
   ],
   "source": [
    "s.thickest()"
   ]
  },
  {
   "cell_type": "markdown",
   "metadata": {},
   "source": [
    "These functions optionally take an integer argument `n` specifying how many of the thickest or thinnest intervals you want to see. If `n` is greater than 1, a `Striplog` object is returned so you can see the positions of those items:"
   ]
  },
  {
   "cell_type": "code",
   "execution_count": 29,
   "metadata": {},
   "outputs": [
    {
     "data": {
      "image/png": "[encoded data removed]",
      "text/plain": [
       "<Figure size 108x540 with 1 Axes>"
      ]
     },
     "metadata": {
      "needs_background": "light"
     },
     "output_type": "display_data"
    }
   ],
   "source": [
    "s.thickest(5).plot(legend=legend, lw=1, aspect=5)"
   ]
  },
  {
   "cell_type": "markdown",
   "metadata": {},
   "source": [
    "## Bar plots and histograms"
   ]
  },
  {
   "cell_type": "markdown",
   "metadata": {},
   "source": [
    "We can make a bar plot of the layers:"
   ]
  },
  {
   "cell_type": "code",
   "execution_count": 30,
   "metadata": {},
   "outputs": [
    {
     "data": {
      "text/plain": [
       "<matplotlib.axes._subplots.AxesSubplot at 0x7faea4abcef0>"
      ]
     },
     "execution_count": 30,
     "metadata": {},
     "output_type": "execute_result"
    },
    {
     "data": {
      "image/png": "[encoded data removed]",
      "text/plain": [
       "<Figure size 432x288 with 1 Axes>"
      ]
     },
     "metadata": {
      "needs_background": "light"
     },
     "output_type": "display_data"
    }
   ],
   "source": [
    "s.bar(legend=legend)"
   ]
  },
  {
   "cell_type": "markdown",
   "metadata": {},
   "source": [
    "More interesting is to sort the thicknesses:"
   ]
  },
  {
   "cell_type": "code",
   "execution_count": 31,
   "metadata": {},
   "outputs": [
    {
     "data": {
      "text/plain": [
       "<matplotlib.axes._subplots.AxesSubplot at 0x7faea4aadfd0>"
      ]
     },
     "execution_count": 31,
     "metadata": {},
     "output_type": "execute_result"
    },
    {
     "data": {
      "image/png": "[encoded data removed]",
      "text/plain": [
       "<Figure size 432x288 with 1 Axes>"
      ]
     },
     "metadata": {
      "needs_background": "light"
     },
     "output_type": "display_data"
    }
   ],
   "source": [
    "s.bar(legend=legend, sort=True)"
   ]
  },
  {
   "cell_type": "markdown",
   "metadata": {},
   "source": [
    "Finally, we can make a thickness histogram of the various types of `component` present in the log."
   ]
  },
  {
   "cell_type": "code",
   "execution_count": 32,
   "metadata": {},
   "outputs": [
    {
     "data": {
      "image/png": "[encoded data removed]",
      "text/plain": [
       "<Figure size 432x288 with 1 Axes>"
      ]
     },
     "metadata": {
      "needs_background": "light"
     },
     "output_type": "display_data"
    }
   ],
   "source": [
    "n, ents, ax = s.hist(legend=legend)"
   ]
  },
  {
   "cell_type": "code",
   "execution_count": 33,
   "metadata": {},
   "outputs": [
    {
     "data": {
      "text/plain": [
       "Striplog(50 Intervals, start=100.0, stop=150.5)"
      ]
     },
     "execution_count": 33,
     "metadata": {},
     "output_type": "execute_result"
    }
   ],
   "source": [
    "s"
   ]
  },
  {
   "cell_type": "code",
   "execution_count": 46,
   "metadata": {},
   "outputs": [
    {
     "data": {
      "text/html": [
       "<table><tr><th>hatch</th><th>component</th><th>colour</th><th>width</th></tr><tr><td style=\"color:black; background-color:white\">None</td><td style=\"color:black; background-color:white\"><table><tr><td><strong>pay</strong></td><td>True</td></tr></table></td><td style=\"color:#000000; background-color:#48cc0e\">#48cc0e</td><td style=\"color:black; background-color:white\">1.0</td></tr><tr><td style=\"color:black; background-color:white\">None</td><td style=\"color:black; background-color:white\"><table><tr><td><strong>pay</strong></td><td>False</td></tr></table></td><td style=\"color:#ffffff; background-color:#5779e2\">#5779e2</td><td style=\"color:black; background-color:white\">0.2</td></tr></table>"
      ],
      "text/plain": [
       "Legend(Decor({'_colour': '#48cc0e', 'hatch': None, 'width': 1.0, 'component': Component({'pay': True})})\n",
       "Decor({'_colour': '#5779e2', 'hatch': None, 'width': 0.2, 'component': Component({'pay': False})}))"
      ]
     },
     "execution_count": 46,
     "metadata": {},
     "output_type": "execute_result"
    }
   ],
   "source": [
    "legend"
   ]
  },
  {
   "cell_type": "code",
   "execution_count": 60,
   "metadata": {},
   "outputs": [
    {
     "data": {
      "image/png": "[encoded data removed]",
      "text/plain": [
       "<Figure size 432x288 with 2 Axes>"
      ]
     },
     "metadata": {
      "needs_background": "light"
     },
     "output_type": "display_data"
    }
   ],
   "source": [
    "data = [c[1] for c in s.unique]\n",
    "colors = [c['_colour'] for c in legend.table]\n",
    "\n",
    "fig, axs = plt.subplots(ncols=2,\n",
    "                        gridspec_kw={'width_ratios': [1, 3]})\n",
    "\n",
    "axs[0] = s.plot(ax=axs[0], legend=legend)\n",
    "axs[0].set_title(\"Striplog\")\n",
    "\n",
    "axs[1].pie(data, colors=colors)\n",
    "axs[1].set_title(\"Pay proportions\")\n",
    "\n",
    "plt.show()"
   ]
  },
  {
   "cell_type": "code",
   "execution_count": 62,
   "metadata": {},
   "outputs": [
    {
     "data": {
      "image/png": "[encoded data removed]",
      "text/plain": [
       "<Figure size 288x72 with 1 Axes>"
      ]
     },
     "metadata": {
      "needs_background": "light"
     },
     "output_type": "display_data"
    },
    {
     "data": {
      "image/png": "[encoded data removed]",
      "text/plain": [
       "<Figure size 288x72 with 1 Axes>"
      ]
     },
     "metadata": {
      "needs_background": "light"
     },
     "output_type": "display_data"
    }
   ],
   "source": [
    "legend.plot()"
   ]
  },
  {
   "cell_type": "code",
   "execution_count": 77,
   "metadata": {},
   "outputs": [
    {
     "data": {
      "image/png": "[encoded data removed]",
      "text/plain": [
       "<Figure size 288x72 with 1 Axes>"
      ]
     },
     "metadata": {
      "needs_background": "light"
     },
     "output_type": "display_data"
    },
    {
     "data": {
      "image/png": "[encoded data removed]",
      "text/plain": [
       "<Figure size 288x72 with 1 Axes>"
      ]
     },
     "metadata": {
      "needs_background": "light"
     },
     "output_type": "display_data"
    },
    {
     "data": {
      "image/png": "[encoded data removed]",
      "text/plain": [
       "<Figure size 288x72 with 1 Axes>"
      ]
     },
     "metadata": {
      "needs_background": "light"
     },
     "output_type": "display_data"
    },
    {
     "data": {
      "image/png": "[encoded data removed]",
      "text/plain": [
       "<Figure size 288x72 with 1 Axes>"
      ]
     },
     "metadata": {
      "needs_background": "light"
     },
     "output_type": "display_data"
    }
   ],
   "source": [
    "legend_csv = \"\"\"colour,hatch,width,component attribute\n",
    "#48cc0e,None,1,First item\n",
    "#549999,None,1,Second item\n",
    "#5779e2,None,0.2,Third item\n",
    "#7756ff,None,0.2,Fourth item\n",
    "\"\"\"\n",
    "\n",
    "legend = Legend.from_csv(text=legend_csv)\n",
    "\n",
    "legend.plot()"
   ]
  },
  {
   "cell_type": "code",
   "execution_count": 4,
   "metadata": {},
   "outputs": [
    {
     "data": {
      "text/plain": [
       "[0]"
      ]
     },
     "execution_count": 4,
     "metadata": {},
     "output_type": "execute_result"
    }
   ],
   "source": [
    "import flask\n",
    "import numpy as np\n",
    "\n",
    "np.array([0]).tolist()"
   ]
  },
  {
   "cell_type": "code",
   "execution_count": 101,
   "metadata": {},
   "outputs": [
    {
     "data": {
      "image/png": "[encoded data removed]",
      "text/plain": [
       "<Figure size 432x288 with 5 Axes>"
      ]
     },
     "metadata": {
      "needs_background": "light"
     },
     "output_type": "display_data"
    }
   ],
   "source": [
    "fig, ax = plt.subplots()\n",
    "\n",
    "height = width = (0.9 / len(legend))\n",
    "h_incr = 1 / len(legend)\n",
    "left_pos = 0.1\n",
    "bot_pos = 0.0\n",
    "for decor in legend:\n",
    "    cax = add_subplot_axes(ax, [left_pos, bot_pos, width, height])\n",
    "    cax = decor.plot(ax=cax)\n",
    "    bot_pos += h_incr\n",
    "ax.axis('off')\n",
    "plt.show()"
   ]
  },
  {
   "cell_type": "code",
   "execution_count": 80,
   "metadata": {},
   "outputs": [
    {
     "data": {
      "image/png": "[encoded data removed]",
      "text/plain": [
       "<Figure size 432x288 with 4 Axes>"
      ]
     },
     "metadata": {
      "needs_background": "light"
     },
     "output_type": "display_data"
    }
   ],
   "source": [
    "fig, axes = plt.subplots(nrows=len(legend))\n",
    "fig.subplots_adjust(top=0.95, bottom=0.01, left=0.2, right=0.2+0.5*(1/len(legend)))\n",
    "for ax, decor in zip(axes, legend):\n",
    "    ax = decor.plot(ax=ax)"
   ]
  },
  {
   "cell_type": "code",
   "execution_count": 81,
   "metadata": {},
   "outputs": [],
   "source": [
    "def add_subplot_axes(ax, rect, axisbg='w'):\n",
    "    \"\"\"\n",
    "    Facilitates the addition of a small subplot within another plot.\n",
    "    From: http://stackoverflow.com/questions/17458580/\n",
    "    embedding-small-plots-inside-subplots-in-matplotlib\n",
    "    License: CC-BY-SA\n",
    "    Args:\n",
    "        ax (axis): A matplotlib axis.\n",
    "        rect (list): A rect specifying [left pos, bot pos, width, height]\n",
    "    Returns:\n",
    "        axis: The sub-axis in the specified position.\n",
    "    \"\"\"\n",
    "    def axis_to_fig(axis):\n",
    "        fig = axis.figure\n",
    "\n",
    "        def transform(coord):\n",
    "            a = axis.transAxes.transform(coord)\n",
    "            return fig.transFigure.inverted().transform(a)\n",
    "\n",
    "        return transform\n",
    "\n",
    "    fig = plt.gcf()\n",
    "    left, bottom, width, height = rect\n",
    "    trans = axis_to_fig(ax)\n",
    "    x1, y1 = trans((left, bottom))\n",
    "    x2, y2 = trans((left + width, bottom + height))\n",
    "    subax = fig.add_axes([x1, y1, x2 - x1, y2 - y1])\n",
    "    x_labelsize = subax.get_xticklabels()[0].get_size()\n",
    "    y_labelsize = subax.get_yticklabels()[0].get_size()\n",
    "    x_labelsize *= rect[2] ** 0.5\n",
    "    y_labelsize *= rect[3] ** 0.5\n",
    "    subax.xaxis.set_tick_params(labelsize=x_labelsize)\n",
    "    subax.yaxis.set_tick_params(labelsize=y_labelsize)\n",
    "    return subax\n"
   ]
  },
  {
   "cell_type": "code",
   "execution_count": 13,
   "metadata": {},
   "outputs": [
    {
     "name": "stdout",
     "output_type": "stream",
     "text": [
      "ls: cannot access '../data': No such file or directory\r\n"
     ]
    }
   ],
   "source": [
    "ls ../data"
   ]
  },
  {
   "cell_type": "code",
   "execution_count": 14,
   "metadata": {},
   "outputs": [
    {
     "name": "stdout",
     "output_type": "stream",
     "text": [
      "Basic_objects.ipynb               P-129_striplog_from_image.las\r\n",
      "_Cuttings.xlsx                    P-63_cuttings.csv\r\n",
      "Display_objects.ipynb             Striplog_and_curves.ipynb\r\n",
      "lexicon.json                      Striplog_basics.ipynb\r\n",
      "Markov_chains.ipynb               Striplog_expert.ipynb\r\n",
      "\u001b[0m\u001b[01;35mmerging.png\u001b[0m                       Striplog_merge.ipynb\r\n",
      "\u001b[01;35mmerging.svg\u001b[0m                       Striplog_with_a_binary_flag.ipynb\r\n",
      "\u001b[01;35mM-MG-70_14.3_135.9.png\u001b[0m            Striplog_with_datetime.ipynb\r\n",
      "\u001b[01;35mNormal_distribution.png\u001b[0m           test.pdf\r\n",
      "og815.csv                         \u001b[01;35mtest.png\u001b[0m\r\n",
      "\u001b[01;35mP-129_280_1935.png\u001b[0m                \u001b[01;35mtest.svg\u001b[0m\r\n",
      "\u001b[01;32mP-129_out.LAS\u001b[0m*                    well_for_petrel.csv\r\n",
      "P-129_striplog_from_cuttings.las  \u001b[01;35mz_Lithology_legend_gapless2.png\u001b[0m\r\n"
     ]
    }
   ],
   "source": [
    "ls "
   ]
  },
  {
   "cell_type": "code",
   "execution_count": 15,
   "metadata": {},
   "outputs": [
    {
     "name": "stderr",
     "output_type": "stream",
     "text": [
      "Found nonstandard LAS section: ~Parameter\n"
     ]
    }
   ],
   "source": [
    "import welly\n",
    "w = welly.Well.from_las(\"P-129_out.LAS\")"
   ]
  },
  {
   "cell_type": "code",
   "execution_count": 16,
   "metadata": {},
   "outputs": [
    {
     "data": {
      "text/plain": [
       "['__bool__',\n",
       " '__class__',\n",
       " '__delattr__',\n",
       " '__dict__',\n",
       " '__dir__',\n",
       " '__doc__',\n",
       " '__eq__',\n",
       " '__format__',\n",
       " '__ge__',\n",
       " '__getattribute__',\n",
       " '__gt__',\n",
       " '__hash__',\n",
       " '__init__',\n",
       " '__init_subclass__',\n",
       " '__le__',\n",
       " '__lt__',\n",
       " '__module__',\n",
       " '__ne__',\n",
       " '__new__',\n",
       " '__nonzero__',\n",
       " '__reduce__',\n",
       " '__reduce_ex__',\n",
       " '__repr__',\n",
       " '__setattr__',\n",
       " '__sizeof__',\n",
       " '__str__',\n",
       " '__subclasshook__',\n",
       " '__weakref__',\n",
       " '_plot_depth_track',\n",
       " '_repr_html_',\n",
       " 'add_curves_from_las',\n",
       " 'add_curves_from_lasio',\n",
       " 'alias_has_multiple',\n",
       " 'count_curves',\n",
       " 'data',\n",
       " 'data_as_matrix',\n",
       " 'df',\n",
       " 'fname',\n",
       " 'from_las',\n",
       " 'from_lasio',\n",
       " 'get_curve',\n",
       " 'get_mnemonic',\n",
       " 'get_mnemonics_from_regex',\n",
       " 'header',\n",
       " 'is_complete',\n",
       " 'las',\n",
       " 'location',\n",
       " 'make_synthetic',\n",
       " 'plot',\n",
       " 'qc_curve_group',\n",
       " 'qc_data',\n",
       " 'qc_table_html',\n",
       " 'survey_basis',\n",
       " 'to_canstrat',\n",
       " 'to_las',\n",
       " 'to_lasio',\n",
       " 'unify_basis',\n",
       " 'uwi']"
      ]
     },
     "execution_count": 16,
     "metadata": {},
     "output_type": "execute_result"
    }
   ],
   "source": [
    "dir(w)"
   ]
  },
  {
   "cell_type": "code",
   "execution_count": 17,
   "metadata": {},
   "outputs": [
    {
     "data": {
      "text/plain": [
       "'P-129_out.LAS'"
      ]
     },
     "execution_count": 17,
     "metadata": {},
     "output_type": "execute_result"
    }
   ],
   "source": [
    "w.fname"
   ]
  },
  {
   "cell_type": "code",
   "execution_count": null,
   "metadata": {},
   "outputs": [],
   "source": []
  }
 ],
 "metadata": {
  "kernelspec": {
   "display_name": "py36",
   "language": "python",
   "name": "py36"
  },
  "language_info": {
   "codemirror_mode": {
    "name": "ipython",
    "version": 3
   },
   "file_extension": ".py",
   "mimetype": "text/x-python",
   "name": "python",
   "nbconvert_exporter": "python",
   "pygments_lexer": "ipython3",
   "version": "3.6.4"
  }
 },
 "nbformat": 4,
 "nbformat_minor": 2
}
