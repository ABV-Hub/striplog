{
 "metadata": {
  "name": "",
  "signature": "sha256:798a3cc1880c3a532f2a74c7aa9d4d36fc579cc690350abb6a854e150b0c72a6"
 },
 "nbformat": 3,
 "nbformat_minor": 0,
 "worksheets": [
  {
   "cells": [
    {
     "cell_type": "heading",
     "level": 1,
     "metadata": {},
     "source": [
      "Lexicon object"
     ]
    },
    {
     "cell_type": "markdown",
     "metadata": {},
     "source": [
      "The lexicon is a mapping of types of word (categories) to words (lexemes). For example, it lists 'sandstone', 'shale', and 'limestone' as **lithologies**; 'red', 'grey', and 'greenish' are **colours**. \n",
      "\n",
      "This allows us to parse some text to find the things we are interested in."
     ]
    },
    {
     "cell_type": "code",
     "collapsed": false,
     "input": [
      "from lexicon import Lexicon\n",
      "print Lexicon.__doc__"
     ],
     "language": "python",
     "metadata": {},
     "outputs": [
      {
       "output_type": "stream",
       "stream": "stdout",
       "text": [
        "\n",
        "    A Lexicon is a dictionary of 'types' and regex patterns.\n",
        "\n",
        "    Most commonly you will just load the default one.\n",
        "\n",
        "    Args:\n",
        "        params (dict): The dictionary to use.\n",
        "    \n"
       ]
      }
     ],
     "prompt_number": 1
    },
    {
     "cell_type": "code",
     "collapsed": false,
     "input": [
      "lexicon = Lexicon.default()\n",
      "lexicon"
     ],
     "language": "python",
     "metadata": {},
     "outputs": [
      {
       "metadata": {},
       "output_type": "pyout",
       "prompt_number": 2,
       "text": [
        "{'colour': ['red(?:dish)?', 'gray(?:ish)?', 'grey(?:ish)?', 'black(?:ish)?', 'whit(?:e|ish)', 'blu(?:e|ish)', 'purpl(?:e|ish)', 'yellow(?:ish)?', 'green(?:ish)?', 'brown(?:ish)?', 'light', 'dark', 'sandy'], 'amount': ['streaks?', 'veins?', 'stringers?', 'interbed(?:s|ded)?', 'blotch(?:es)?', 'bands?', 'fragments?', 'impurit(?:y|ies)', 'minor', 'some', 'abundant', 'rare', 'flakes?', '[-\\\\.\\\\d]+%'], 'synonyms': {'Overburden': ['Drift'], 'Salt': ['Halite', 'Sylvite'], 'Anhydrite': ['Gypsum']}, 'lithology': ['overburden', 'sandstone', 'siltstone', 'shale', 'mudstone', 'limestone', 'dolomite', 'salt', 'halite', 'anhydrite', 'gypsum', 'sylvite', 'clay', 'mud', 'silt', 'sand', 'gravel', 'boulders'], 'grainsize': ['vf', 'f', 'm', 'c', 'vc', 'very fine', 'fine', 'medium', 'coarse', 'very coarse', 'v fine', 'med', 'med.', 'v coarse', 'grains?', 'granules?', 'pebbles?', 'cobbles?', 'boulders?']}"
       ]
      }
     ],
     "prompt_number": 2
    },
    {
     "cell_type": "code",
     "collapsed": false,
     "input": [
      "print lexicon"
     ],
     "language": "python",
     "metadata": {},
     "outputs": [
      {
       "output_type": "stream",
       "stream": "stdout",
       "text": [
        "Lexicon('colour': 13 items, 'amount': 14 items, 'synonyms': 3 items, 'lithology': 18 items, 'grainsize': 19 items, )\n"
       ]
      }
     ],
     "prompt_number": 3
    },
    {
     "cell_type": "markdown",
     "metadata": {},
     "source": [
      "The list of categories does not include `synonyms`, which is special, but does not have to be there. "
     ]
    },
    {
     "cell_type": "code",
     "collapsed": false,
     "input": [
      "lexicon.categories"
     ],
     "language": "python",
     "metadata": {},
     "outputs": [
      {
       "metadata": {},
       "output_type": "pyout",
       "prompt_number": 4,
       "text": [
        "['colour', 'amount', 'lithology', 'grainsize']"
       ]
      }
     ],
     "prompt_number": 4
    },
    {
     "cell_type": "code",
     "collapsed": false,
     "input": [
      "lexicon.synonyms"
     ],
     "language": "python",
     "metadata": {},
     "outputs": [
      {
       "metadata": {},
       "output_type": "pyout",
       "prompt_number": 5,
       "text": [
        "{'Anhydrite': ['Gypsum'],\n",
        " 'Overburden': ['Drift'],\n",
        " 'Salt': ['Halite', 'Sylvite']}"
       ]
      }
     ],
     "prompt_number": 5
    },
    {
     "cell_type": "markdown",
     "metadata": {},
     "source": [
      "<hr />"
     ]
    },
    {
     "cell_type": "markdown",
     "metadata": {},
     "source": [
      "This is probably the easiest way to define a new lexicon for now. "
     ]
    },
    {
     "cell_type": "code",
     "collapsed": false,
     "input": [
      "lexicon = { 'lithologies':[r'overburden', r'sandstone', r'siltstone', r'shale', r'mudstone',\n",
      "                           r'limestone', r'dolomite',\n",
      "                           r'salt', r'halite', r'anhydrite', r'gypsum', r'sylvite',\n",
      "                           r'clay', r'mud', r'silt', r'sand', r'gravel', r'boulders',\n",
      "                           ],\n",
      "            'amounts': [r'streaks?', r'veins?', r'stringers?', r'interbed(?:s|ded)?',\n",
      "                        r'blotch(?:es)?', r'bands?', r'fragments?', r'impurit(?:y|ies)',\n",
      "                        r'minor', r'some', r'abundant', r'rare', r'flakes?',\n",
      "                        r'[-\\.\\d]+%'\n",
      "                       ],\n",
      "            'grainsizes': [r'vf', r'f', r'm', r'c', r'vc',\n",
      "                           r'very fine', r'fine', r'medium', r'coarse', r'very coarse',\n",
      "                           r'v fine', r'med', r'med.', r'v coarse',\n",
      "                           r'grains?', r'granules?', r'pebbles?', r'cobbles?', r'boulders?',\n",
      "                          ],\n",
      "            'colours': [r\"red(?:dish)?\",\n",
      "                        r\"gray(?:ish)?\",\n",
      "                        r\"grey(?:ish)?\",\n",
      "                        r\"black(?:ish)?\",\n",
      "                        r\"whit(?:e|ish)\",\n",
      "                        r\"blu(?:e|ish)\",\n",
      "                        r\"purpl(?:e|ish)\",\n",
      "                        r\"yellow(?:ish)?\",\n",
      "                        r\"green(?:ish)?\",\n",
      "                        r\"brown(?:ish)?\",\n",
      "                        r\"light\", \"dark\",\n",
      "                        r\"sandy\"\n",
      "                        ],\n",
      "            'synonyms': {'Overburden': ['Drift'],\n",
      "                         'Anhydrite': ['Gypsum'],\n",
      "                         'Salt': ['Halite', 'Sylvite'],\n",
      "                        }\n",
      "            }"
     ],
     "language": "python",
     "metadata": {},
     "outputs": [],
     "prompt_number": 6
    },
    {
     "cell_type": "code",
     "collapsed": false,
     "input": [
      "import json\n",
      "with open('lexicon.json', 'w') as fp:\n",
      "    json.dump(lexicon, fp)"
     ],
     "language": "python",
     "metadata": {},
     "outputs": [],
     "prompt_number": 7
    },
    {
     "cell_type": "code",
     "collapsed": false,
     "input": [],
     "language": "python",
     "metadata": {},
     "outputs": []
    }
   ],
   "metadata": {}
  }
 ]
}