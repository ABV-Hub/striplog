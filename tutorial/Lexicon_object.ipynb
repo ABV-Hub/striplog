{
 "metadata": {
  "name": "",
  "signature": "sha256:8a6a9b15f4a3438a1d4cc7aa42ca5bfb64217c40db95b2db0372e43d0d7a3fbc"
 },
 "nbformat": 3,
 "nbformat_minor": 0,
 "worksheets": [
  {
   "cells": [
    {
     "cell_type": "heading",
     "level": 1,
     "metadata": {},
     "source": [
      "Testing objects"
     ]
    },
    {
     "cell_type": "markdown",
     "metadata": {},
     "source": [
      "We have some objects. This notebook runs them through their paces. We can use this to write a unittest.\n",
      "\n",
      "Import anything we might need."
     ]
    },
    {
     "cell_type": "code",
     "collapsed": false,
     "input": [
      "lexicon = { 'lithologies':[r'overburden', r'sandstone', r'siltstone', r'shale', r'mudstone',\n",
      "                           r'limestone', r'dolomite',\n",
      "                           r'salt', r'halite', r'anhydrite', r'gypsum', r'sylvite',\n",
      "                           r'clay', r'mud', r'silt', r'sand', r'gravel', r'boulders',\n",
      "                           ],\n",
      "            'amounts': [r'streaks?', r'veins?', r'stringers?', r'interbed(?:s|ded)?',\n",
      "                        r'blotch(?:es)?', r'bands?', r'fragments?', r'impurit(?:y|ies)',\n",
      "                        r'minor', r'some', r'abundant', r'rare', r'flakes?',\n",
      "                        r'[-\\.\\d]+%'\n",
      "                       ],\n",
      "            'grainsizes': [r'vf', r'f', r'm', r'c', r'vc',\n",
      "                           r'very fine', r'fine', r'medium', r'coarse', r'very coarse',\n",
      "                           r'v fine', r'med', r'med.', r'v coarse',\n",
      "                           r'grains?', r'granules?', r'pebbles?', r'cobbles?', r'boulders?',\n",
      "                          ],\n",
      "            'colours': [r\"red(?:dish)?\",\n",
      "                        r\"gray(?:ish)?\",\n",
      "                        r\"grey(?:ish)?\",\n",
      "                        r\"black(?:ish)?\",\n",
      "                        r\"whit(?:e|ish)\",\n",
      "                        r\"blu(?:e|ish)\",\n",
      "                        r\"purpl(?:e|ish)\",\n",
      "                        r\"yellow(?:ish)?\",\n",
      "                        r\"green(?:ish)?\",\n",
      "                        r\"brown(?:ish)?\",\n",
      "                        r\"light\", \"dark\",\n",
      "                        r\"sandy\"\n",
      "                        ],\n",
      "            'synonyms': {'Overburden': ['Drift'],\n",
      "                         'Anhydrite': ['Gypsum'],\n",
      "                         'Salt': ['Halite', 'Sylvite'],\n",
      "                        }\n",
      "            }"
     ],
     "language": "python",
     "metadata": {},
     "outputs": [],
     "prompt_number": 1
    },
    {
     "cell_type": "code",
     "collapsed": false,
     "input": [
      "import json\n",
      "with open('lexicon.json', 'w') as fp:\n",
      "    json.dump(lexicon, fp)"
     ],
     "language": "python",
     "metadata": {},
     "outputs": [],
     "prompt_number": 2
    },
    {
     "cell_type": "code",
     "collapsed": false,
     "input": [
      "with open('lexicon.json', 'r') as fp:\n",
      "    lexicon = json.load(fp)\n",
      "lexicon"
     ],
     "language": "python",
     "metadata": {},
     "outputs": [
      {
       "metadata": {},
       "output_type": "pyout",
       "prompt_number": 3,
       "text": [
        "{u'amounts': [u'streaks?',\n",
        "  u'veins?',\n",
        "  u'stringers?',\n",
        "  u'interbed(?:s|ded)?',\n",
        "  u'blotch(?:es)?',\n",
        "  u'bands?',\n",
        "  u'fragments?',\n",
        "  u'impurit(?:y|ies)',\n",
        "  u'minor',\n",
        "  u'some',\n",
        "  u'abundant',\n",
        "  u'rare',\n",
        "  u'flakes?',\n",
        "  u'[-\\\\.\\\\d]+%'],\n",
        " u'colours': [u'red(?:dish)?',\n",
        "  u'gray(?:ish)?',\n",
        "  u'grey(?:ish)?',\n",
        "  u'black(?:ish)?',\n",
        "  u'whit(?:e|ish)',\n",
        "  u'blu(?:e|ish)',\n",
        "  u'purpl(?:e|ish)',\n",
        "  u'yellow(?:ish)?',\n",
        "  u'green(?:ish)?',\n",
        "  u'brown(?:ish)?',\n",
        "  u'light',\n",
        "  u'dark',\n",
        "  u'sandy'],\n",
        " u'grainsizes': [u'vf',\n",
        "  u'f',\n",
        "  u'm',\n",
        "  u'c',\n",
        "  u'vc',\n",
        "  u'very fine',\n",
        "  u'fine',\n",
        "  u'medium',\n",
        "  u'coarse',\n",
        "  u'very coarse',\n",
        "  u'v fine',\n",
        "  u'med',\n",
        "  u'med.',\n",
        "  u'v coarse',\n",
        "  u'grains?',\n",
        "  u'granules?',\n",
        "  u'pebbles?',\n",
        "  u'cobbles?',\n",
        "  u'boulders?'],\n",
        " u'lithologies': [u'overburden',\n",
        "  u'sandstone',\n",
        "  u'siltstone',\n",
        "  u'shale',\n",
        "  u'mudstone',\n",
        "  u'limestone',\n",
        "  u'dolomite',\n",
        "  u'salt',\n",
        "  u'halite',\n",
        "  u'anhydrite',\n",
        "  u'gypsum',\n",
        "  u'sylvite',\n",
        "  u'clay',\n",
        "  u'mud',\n",
        "  u'silt',\n",
        "  u'sand',\n",
        "  u'gravel',\n",
        "  u'boulders'],\n",
        " u'synonyms': {u'Anhydrite': [u'Gypsum'],\n",
        "  u'Overburden': [u'Drift'],\n",
        "  u'Salt': [u'Halite', u'Sylvite']}}"
       ]
      }
     ],
     "prompt_number": 3
    },
    {
     "cell_type": "code",
     "collapsed": false,
     "input": [],
     "language": "python",
     "metadata": {},
     "outputs": []
    }
   ],
   "metadata": {}
  }
 ]
}